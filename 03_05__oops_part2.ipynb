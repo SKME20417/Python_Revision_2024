{
 "cells": [
  {
   "cell_type": "code",
   "execution_count": 1,
   "id": "48500f34",
   "metadata": {},
   "outputs": [],
   "source": [
    "class A:\n",
    "    def find(self):\n",
    "        print(\"i am finding something in class A...\")\n",
    "\n",
    "class B(A):\n",
    "    def explore(self):\n",
    "        print(\"I am exploring in class B..\")\n",
    "        \n",
    "    def discover(self):\n",
    "        print(\"I am discovering something in class B\")\n",
    "        \n",
    "\n",
    "class C(B):\n",
    "    def optimize(self):\n",
    "        print(\"I am optimizing something in class C..\")\n",
    "        \n",
    "    def explore(self):\n",
    "        print(\"I would like to explore myself in class C\")\n",
    "\n",
    "class D(C):\n",
    "    def search(self):\n",
    "        print(\"I am searching something in class D\")\n",
    "        \n",
    "    def optimize(self):\n",
    "        print(\"I am more optimize in class D\")"
   ]
  },
  {
   "cell_type": "code",
   "execution_count": 2,
   "id": "6aafb403",
   "metadata": {},
   "outputs": [],
   "source": [
    "a = A()\n",
    "b = B()\n",
    "c = C()\n",
    "d = D()"
   ]
  },
  {
   "cell_type": "code",
   "execution_count": 3,
   "id": "3af35df4",
   "metadata": {},
   "outputs": [
    {
     "name": "stdout",
     "output_type": "stream",
     "text": [
      "i am finding something in class A...\n"
     ]
    }
   ],
   "source": [
    "a.find()"
   ]
  },
  {
   "cell_type": "code",
   "execution_count": 4,
   "id": "6df7ec75",
   "metadata": {},
   "outputs": [
    {
     "name": "stdout",
     "output_type": "stream",
     "text": [
      "i am finding something in class A...\n"
     ]
    }
   ],
   "source": [
    "b.find()"
   ]
  },
  {
   "cell_type": "code",
   "execution_count": 5,
   "id": "50d957ae",
   "metadata": {},
   "outputs": [
    {
     "name": "stdout",
     "output_type": "stream",
     "text": [
      "I am exploring in class B..\n"
     ]
    }
   ],
   "source": [
    "b.explore()"
   ]
  },
  {
   "cell_type": "code",
   "execution_count": 6,
   "id": "3b5aca59",
   "metadata": {},
   "outputs": [
    {
     "name": "stdout",
     "output_type": "stream",
     "text": [
      "I am discovering something in class B\n"
     ]
    }
   ],
   "source": [
    "b.discover()"
   ]
  },
  {
   "cell_type": "code",
   "execution_count": 7,
   "id": "2825d2a9",
   "metadata": {},
   "outputs": [
    {
     "name": "stdout",
     "output_type": "stream",
     "text": [
      "i am finding something in class A...\n"
     ]
    }
   ],
   "source": [
    "c.find()"
   ]
  },
  {
   "cell_type": "code",
   "execution_count": 8,
   "id": "a05c36f8",
   "metadata": {},
   "outputs": [
    {
     "name": "stdout",
     "output_type": "stream",
     "text": [
      "I am optimizing something in class C..\n"
     ]
    }
   ],
   "source": [
    "c.optimize()"
   ]
  },
  {
   "cell_type": "code",
   "execution_count": 9,
   "id": "a8ff5ffd",
   "metadata": {},
   "outputs": [
    {
     "name": "stdout",
     "output_type": "stream",
     "text": [
      "I would like to explore myself in class C\n"
     ]
    }
   ],
   "source": [
    "c.explore()"
   ]
  },
  {
   "cell_type": "code",
   "execution_count": 10,
   "id": "237a6983",
   "metadata": {},
   "outputs": [
    {
     "name": "stdout",
     "output_type": "stream",
     "text": [
      "I am discovering something in class B\n"
     ]
    }
   ],
   "source": [
    "c.discover()"
   ]
  },
  {
   "cell_type": "code",
   "execution_count": 11,
   "id": "d7a58b28",
   "metadata": {},
   "outputs": [
    {
     "name": "stdout",
     "output_type": "stream",
     "text": [
      "I am searching something in class D\n"
     ]
    }
   ],
   "source": [
    "d.search()"
   ]
  },
  {
   "cell_type": "code",
   "execution_count": 12,
   "id": "c34699d1",
   "metadata": {},
   "outputs": [
    {
     "name": "stdout",
     "output_type": "stream",
     "text": [
      "I am more optimize in class D\n"
     ]
    }
   ],
   "source": [
    "d.optimize()"
   ]
  },
  {
   "cell_type": "code",
   "execution_count": 23,
   "id": "3ecb890b",
   "metadata": {},
   "outputs": [],
   "source": [
    "class A:\n",
    "    def find(self):\n",
    "        print(\"i am finding something in class A...\")\n",
    "\n",
    "class B():\n",
    "    def explore(self):\n",
    "        print(\"I am exploring in class B..\")\n",
    "        \n",
    "    def discover(self):\n",
    "        print(\"I am discovering something in class B\")\n",
    "        \n",
    "\n",
    "class C():\n",
    "    def optimize(self):\n",
    "        print(\"I am optimizing something in class C..\")\n",
    "        \n",
    "    def explore(self):\n",
    "        print(\"I would like to explore myself in class C\")\n",
    "\n",
    "class D(C,B,A):\n",
    "    def search(self):\n",
    "        print(\"I am searching something in class D\")\n",
    "        \n",
    "    def optimize(self):\n",
    "        print(\"I am more optimize in class D\")"
   ]
  },
  {
   "cell_type": "code",
   "execution_count": 24,
   "id": "71a60053",
   "metadata": {},
   "outputs": [],
   "source": [
    "a = A()\n",
    "b = B()\n",
    "c = C()\n",
    "d = D()"
   ]
  },
  {
   "cell_type": "code",
   "execution_count": 25,
   "id": "0c72664e",
   "metadata": {},
   "outputs": [
    {
     "name": "stdout",
     "output_type": "stream",
     "text": [
      "i am finding something in class A...\n"
     ]
    }
   ],
   "source": [
    "a.find()"
   ]
  },
  {
   "cell_type": "code",
   "execution_count": 26,
   "id": "859e2e7b",
   "metadata": {},
   "outputs": [
    {
     "name": "stdout",
     "output_type": "stream",
     "text": [
      "I am discovering something in class B\n"
     ]
    }
   ],
   "source": [
    "b.discover()"
   ]
  },
  {
   "cell_type": "code",
   "execution_count": 27,
   "id": "c6c2728f",
   "metadata": {},
   "outputs": [
    {
     "name": "stdout",
     "output_type": "stream",
     "text": [
      "I am exploring in class B..\n"
     ]
    }
   ],
   "source": [
    "b.explore()"
   ]
  },
  {
   "cell_type": "code",
   "execution_count": 28,
   "id": "9408e12a",
   "metadata": {},
   "outputs": [
    {
     "name": "stdout",
     "output_type": "stream",
     "text": [
      "I would like to explore myself in class C\n"
     ]
    }
   ],
   "source": [
    "c.explore()"
   ]
  },
  {
   "cell_type": "code",
   "execution_count": 29,
   "id": "7eb81e41",
   "metadata": {},
   "outputs": [
    {
     "name": "stdout",
     "output_type": "stream",
     "text": [
      "I am optimizing something in class C..\n"
     ]
    }
   ],
   "source": [
    "c.optimize()"
   ]
  },
  {
   "cell_type": "code",
   "execution_count": 30,
   "id": "9adf53f9",
   "metadata": {},
   "outputs": [
    {
     "name": "stdout",
     "output_type": "stream",
     "text": [
      "i am finding something in class A...\n"
     ]
    }
   ],
   "source": [
    "d.find()"
   ]
  },
  {
   "cell_type": "code",
   "execution_count": 31,
   "id": "16c795db",
   "metadata": {},
   "outputs": [
    {
     "name": "stdout",
     "output_type": "stream",
     "text": [
      "I am more optimize in class D\n"
     ]
    }
   ],
   "source": [
    "d.optimize()"
   ]
  },
  {
   "cell_type": "code",
   "execution_count": 32,
   "id": "530cfd21",
   "metadata": {},
   "outputs": [
    {
     "name": "stdout",
     "output_type": "stream",
     "text": [
      "I would like to explore myself in class C\n"
     ]
    }
   ],
   "source": [
    "d.explore()"
   ]
  },
  {
   "cell_type": "code",
   "execution_count": null,
   "id": "68c8829b",
   "metadata": {},
   "outputs": [],
   "source": []
  },
  {
   "cell_type": "code",
   "execution_count": 33,
   "id": "9366b470",
   "metadata": {},
   "outputs": [],
   "source": [
    "class asddf(object):\n",
    "    pass"
   ]
  },
  {
   "cell_type": "code",
   "execution_count": null,
   "id": "9eef18c4",
   "metadata": {},
   "outputs": [],
   "source": [
    "__init__\n",
    "__new__\n",
    "__str__\n"
   ]
  },
  {
   "cell_type": "code",
   "execution_count": 34,
   "id": "71696364",
   "metadata": {},
   "outputs": [
    {
     "data": {
      "text/plain": [
       "[__main__.D, __main__.C, __main__.B, __main__.A, object]"
      ]
     },
     "execution_count": 34,
     "metadata": {},
     "output_type": "execute_result"
    }
   ],
   "source": [
    "D.mro()"
   ]
  },
  {
   "cell_type": "code",
   "execution_count": null,
   "id": "86487bca",
   "metadata": {},
   "outputs": [],
   "source": []
  },
  {
   "cell_type": "code",
   "execution_count": 35,
   "id": "b1a1436d",
   "metadata": {},
   "outputs": [
    {
     "data": {
      "text/plain": [
       "11"
      ]
     },
     "execution_count": 35,
     "metadata": {},
     "output_type": "execute_result"
    }
   ],
   "source": [
    "5+6"
   ]
  },
  {
   "cell_type": "code",
   "execution_count": 36,
   "id": "53961690",
   "metadata": {},
   "outputs": [
    {
     "data": {
      "text/plain": [
       "'helloworld'"
      ]
     },
     "execution_count": 36,
     "metadata": {},
     "output_type": "execute_result"
    }
   ],
   "source": [
    "\"hello\" + \"world\""
   ]
  },
  {
   "cell_type": "code",
   "execution_count": 37,
   "id": "186aef53",
   "metadata": {},
   "outputs": [
    {
     "data": {
      "text/plain": [
       "[1, 2, 3, 7, 8, 9]"
      ]
     },
     "execution_count": 37,
     "metadata": {},
     "output_type": "execute_result"
    }
   ],
   "source": [
    "[1,2,3] + [7,8,9]"
   ]
  },
  {
   "cell_type": "code",
   "execution_count": null,
   "id": "ab8985c2",
   "metadata": {},
   "outputs": [],
   "source": []
  },
  {
   "cell_type": "code",
   "execution_count": 38,
   "id": "611389f6",
   "metadata": {},
   "outputs": [],
   "source": [
    "a = \"python is fun\""
   ]
  },
  {
   "cell_type": "code",
   "execution_count": 39,
   "id": "77f31bbf",
   "metadata": {},
   "outputs": [
    {
     "data": {
      "text/plain": [
       "13"
      ]
     },
     "execution_count": 39,
     "metadata": {},
     "output_type": "execute_result"
    }
   ],
   "source": [
    "len(a)"
   ]
  },
  {
   "cell_type": "code",
   "execution_count": 40,
   "id": "eacab1d2",
   "metadata": {},
   "outputs": [],
   "source": [
    "w = [7,8,9,10,12]"
   ]
  },
  {
   "cell_type": "code",
   "execution_count": 41,
   "id": "22b59421",
   "metadata": {},
   "outputs": [
    {
     "data": {
      "text/plain": [
       "5"
      ]
     },
     "execution_count": 41,
     "metadata": {},
     "output_type": "execute_result"
    }
   ],
   "source": [
    "len(w)"
   ]
  },
  {
   "cell_type": "code",
   "execution_count": 42,
   "id": "55608019",
   "metadata": {},
   "outputs": [],
   "source": [
    "r = {4,5,6,4,5,6,4,5,6,4,5,6}"
   ]
  },
  {
   "cell_type": "code",
   "execution_count": 43,
   "id": "7b811271",
   "metadata": {},
   "outputs": [
    {
     "data": {
      "text/plain": [
       "3"
      ]
     },
     "execution_count": 43,
     "metadata": {},
     "output_type": "execute_result"
    }
   ],
   "source": [
    "len(r)"
   ]
  },
  {
   "cell_type": "code",
   "execution_count": null,
   "id": "23e6e3fc",
   "metadata": {},
   "outputs": [],
   "source": []
  },
  {
   "cell_type": "code",
   "execution_count": 45,
   "id": "8d82c4d5",
   "metadata": {},
   "outputs": [],
   "source": [
    "class Animal:\n",
    "    def speak(self):\n",
    "        print(\"I will speak something...\")\n",
    "\n",
    "class Dog:\n",
    "    def speak(self):\n",
    "        print(\"I will Barkk....\")\n",
    "\n",
    "class Cat:\n",
    "    def speak(self):\n",
    "        print(\"I will Meowww...\")\n",
    "\n",
    "class Duck:\n",
    "    def speak(self):\n",
    "        print(\"I will quack....\")"
   ]
  },
  {
   "cell_type": "code",
   "execution_count": 46,
   "id": "00258820",
   "metadata": {},
   "outputs": [],
   "source": [
    "animal = Animal()\n",
    "dog = Dog()\n",
    "cat = Cat()\n",
    "duck = Duck()"
   ]
  },
  {
   "cell_type": "code",
   "execution_count": 48,
   "id": "f035c311",
   "metadata": {},
   "outputs": [
    {
     "name": "stdout",
     "output_type": "stream",
     "text": [
      "I will speak something...\n",
      "I will Barkk....\n",
      "I will Meowww...\n",
      "I will quack....\n"
     ]
    }
   ],
   "source": [
    "for i in [animal, dog, cat, duck]:\n",
    "    i.speak()"
   ]
  },
  {
   "cell_type": "code",
   "execution_count": null,
   "id": "fce379ec",
   "metadata": {},
   "outputs": [],
   "source": []
  }
 ],
 "metadata": {
  "kernelspec": {
   "display_name": "Python 3",
   "language": "python",
   "name": "python3"
  },
  "language_info": {
   "codemirror_mode": {
    "name": "ipython",
    "version": 3
   },
   "file_extension": ".py",
   "mimetype": "text/x-python",
   "name": "python",
   "nbconvert_exporter": "python",
   "pygments_lexer": "ipython3",
   "version": "3.8.8"
  }
 },
 "nbformat": 4,
 "nbformat_minor": 5
}
