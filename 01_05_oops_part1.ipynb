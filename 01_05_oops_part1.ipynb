{
 "cells": [
  {
   "cell_type": "code",
   "execution_count": 1,
   "id": "2f7da4f4",
   "metadata": {},
   "outputs": [],
   "source": [
    "class Human:\n",
    "    pass"
   ]
  },
  {
   "cell_type": "code",
   "execution_count": 2,
   "id": "f719a902",
   "metadata": {},
   "outputs": [],
   "source": [
    "mohit = Human()"
   ]
  },
  {
   "cell_type": "code",
   "execution_count": 3,
   "id": "e1cc5c25",
   "metadata": {},
   "outputs": [
    {
     "data": {
      "text/plain": [
       "__main__.Human"
      ]
     },
     "execution_count": 3,
     "metadata": {},
     "output_type": "execute_result"
    }
   ],
   "source": [
    "type(mohit)"
   ]
  },
  {
   "cell_type": "code",
   "execution_count": 4,
   "id": "e1a44d87",
   "metadata": {},
   "outputs": [
    {
     "data": {
      "text/plain": [
       "type"
      ]
     },
     "execution_count": 4,
     "metadata": {},
     "output_type": "execute_result"
    }
   ],
   "source": [
    "type(Human)"
   ]
  },
  {
   "cell_type": "code",
   "execution_count": 7,
   "id": "37ace266",
   "metadata": {},
   "outputs": [
    {
     "name": "stdout",
     "output_type": "stream",
     "text": [
      "<class 'str'>\n"
     ]
    }
   ],
   "source": [
    "print(type(\"hello\"))"
   ]
  },
  {
   "cell_type": "code",
   "execution_count": 8,
   "id": "ae49bf27",
   "metadata": {},
   "outputs": [],
   "source": [
    "class Human:\n",
    "    def __init__(self):\n",
    "        print(\"Object is created...\")"
   ]
  },
  {
   "cell_type": "code",
   "execution_count": 9,
   "id": "ecfed89d",
   "metadata": {},
   "outputs": [
    {
     "name": "stdout",
     "output_type": "stream",
     "text": [
      "Object is created...\n"
     ]
    }
   ],
   "source": [
    "mohit = Human()"
   ]
  },
  {
   "cell_type": "code",
   "execution_count": 12,
   "id": "ab3d7cbe",
   "metadata": {},
   "outputs": [],
   "source": [
    "class Human:\n",
    "    def __init__(self, name, age):\n",
    "        print(\"Object is created...\")\n",
    "        \n",
    "    # instance variables\n",
    "    # attribute references\n",
    "        self.name = name\n",
    "        self.age = age\n",
    "    \n",
    "    \n",
    "    \n",
    "    "
   ]
  },
  {
   "cell_type": "code",
   "execution_count": 14,
   "id": "0a5d435e",
   "metadata": {},
   "outputs": [
    {
     "name": "stdout",
     "output_type": "stream",
     "text": [
      "Object is created...\n"
     ]
    }
   ],
   "source": [
    "h1 = Human('mohit', 25)"
   ]
  },
  {
   "cell_type": "code",
   "execution_count": 15,
   "id": "b9f55600",
   "metadata": {},
   "outputs": [
    {
     "data": {
      "text/plain": [
       "<__main__.Human at 0x148d725bc40>"
      ]
     },
     "execution_count": 15,
     "metadata": {},
     "output_type": "execute_result"
    }
   ],
   "source": [
    "h1"
   ]
  },
  {
   "cell_type": "code",
   "execution_count": 17,
   "id": "0f144b2d",
   "metadata": {},
   "outputs": [
    {
     "name": "stdout",
     "output_type": "stream",
     "text": [
      "Object is created...\n"
     ]
    }
   ],
   "source": [
    "h2 = Human('Prateek', 36)"
   ]
  },
  {
   "cell_type": "code",
   "execution_count": 18,
   "id": "650a18a9",
   "metadata": {},
   "outputs": [
    {
     "data": {
      "text/plain": [
       "25"
      ]
     },
     "execution_count": 18,
     "metadata": {},
     "output_type": "execute_result"
    }
   ],
   "source": [
    "h1.age"
   ]
  },
  {
   "cell_type": "code",
   "execution_count": 19,
   "id": "e7bd9294",
   "metadata": {},
   "outputs": [
    {
     "data": {
      "text/plain": [
       "'mohit'"
      ]
     },
     "execution_count": 19,
     "metadata": {},
     "output_type": "execute_result"
    }
   ],
   "source": [
    "h1.name"
   ]
  },
  {
   "cell_type": "code",
   "execution_count": 20,
   "id": "c3ea0714",
   "metadata": {},
   "outputs": [
    {
     "data": {
      "text/plain": [
       "36"
      ]
     },
     "execution_count": 20,
     "metadata": {},
     "output_type": "execute_result"
    }
   ],
   "source": [
    "h2.age"
   ]
  },
  {
   "cell_type": "code",
   "execution_count": 21,
   "id": "3315caf7",
   "metadata": {},
   "outputs": [
    {
     "data": {
      "text/plain": [
       "'Prateek'"
      ]
     },
     "execution_count": 21,
     "metadata": {},
     "output_type": "execute_result"
    }
   ],
   "source": [
    "h2.name"
   ]
  },
  {
   "cell_type": "code",
   "execution_count": 24,
   "id": "d7e12332",
   "metadata": {},
   "outputs": [
    {
     "name": "stdout",
     "output_type": "stream",
     "text": [
      "<__main__.Human object at 0x00000148D725BC40>\n"
     ]
    }
   ],
   "source": [
    "print(h1)"
   ]
  },
  {
   "cell_type": "code",
   "execution_count": 25,
   "id": "b9d42506",
   "metadata": {},
   "outputs": [
    {
     "data": {
      "text/plain": [
       "<__main__.Human at 0x148d67494f0>"
      ]
     },
     "execution_count": 25,
     "metadata": {},
     "output_type": "execute_result"
    }
   ],
   "source": [
    "h2"
   ]
  },
  {
   "cell_type": "code",
   "execution_count": 26,
   "id": "b77b3b35",
   "metadata": {},
   "outputs": [
    {
     "name": "stdout",
     "output_type": "stream",
     "text": [
      "<__main__.Human object at 0x00000148D67494F0>\n"
     ]
    }
   ],
   "source": [
    "print(h2)"
   ]
  },
  {
   "cell_type": "code",
   "execution_count": 27,
   "id": "6675efde",
   "metadata": {},
   "outputs": [
    {
     "data": {
      "text/plain": [
       "__main__.Human"
      ]
     },
     "execution_count": 27,
     "metadata": {},
     "output_type": "execute_result"
    }
   ],
   "source": [
    "type(h2)"
   ]
  },
  {
   "cell_type": "code",
   "execution_count": 28,
   "id": "788662ba",
   "metadata": {},
   "outputs": [
    {
     "data": {
      "text/plain": [
       "'Prateek'"
      ]
     },
     "execution_count": 28,
     "metadata": {},
     "output_type": "execute_result"
    }
   ],
   "source": [
    "h2.name"
   ]
  },
  {
   "cell_type": "code",
   "execution_count": 29,
   "id": "84feee06",
   "metadata": {},
   "outputs": [
    {
     "data": {
      "text/plain": [
       "36"
      ]
     },
     "execution_count": 29,
     "metadata": {},
     "output_type": "execute_result"
    }
   ],
   "source": [
    "h2.age"
   ]
  },
  {
   "cell_type": "code",
   "execution_count": null,
   "id": "5ad6c524",
   "metadata": {},
   "outputs": [],
   "source": []
  },
  {
   "cell_type": "code",
   "execution_count": 30,
   "id": "e0c5f364",
   "metadata": {},
   "outputs": [],
   "source": [
    "class Human:\n",
    "    def __init__(self, name, age):\n",
    "        print(\"Object is created...\")\n",
    "        \n",
    "    # instance variables\n",
    "    # attribute references\n",
    "        self.name = name\n",
    "        self.age = age\n",
    "        \n",
    "    #instance Method\n",
    "    \n",
    "    def introduce(self):\n",
    "        print(f\"Hi my name is {self.name} and i am {self.age} years old\")"
   ]
  },
  {
   "cell_type": "code",
   "execution_count": 31,
   "id": "1f68394d",
   "metadata": {},
   "outputs": [
    {
     "name": "stdout",
     "output_type": "stream",
     "text": [
      "Object is created...\n"
     ]
    }
   ],
   "source": [
    "h1 = Human('mohit', 25)"
   ]
  },
  {
   "cell_type": "code",
   "execution_count": 32,
   "id": "8b2ac434",
   "metadata": {},
   "outputs": [
    {
     "name": "stdout",
     "output_type": "stream",
     "text": [
      "Hi my name is mohit and i am 25 years old\n"
     ]
    }
   ],
   "source": [
    "h1.introduce()"
   ]
  },
  {
   "cell_type": "code",
   "execution_count": null,
   "id": "2d74ef44",
   "metadata": {},
   "outputs": [],
   "source": []
  },
  {
   "cell_type": "code",
   "execution_count": 145,
   "id": "d11de96a",
   "metadata": {},
   "outputs": [],
   "source": [
    "class Human:\n",
    "    # class variables\n",
    "    id_seq = 101\n",
    "    population = 0\n",
    "    database = []\n",
    "    \n",
    "    def __init__(self, name, age, is_alive = True):\n",
    "        print(\"Object is created...\")\n",
    "        \n",
    "    # instance variables\n",
    "    # attribute references\n",
    "        self.name = name\n",
    "        self.is_alive = is_alive\n",
    "        self.age = age\n",
    "        self.id = Human.id_seq\n",
    "        Human.id_seq+=1\n",
    "        Human.population+=1\n",
    "        Human.database.append(self)\n",
    "        \n",
    "    #instance Method\n",
    "    \n",
    "    def introduce(self):\n",
    "        print(f\"Hi my name is {self.name} and i am {self.age} years old\")\n",
    "        \n",
    "    def die(self):\n",
    "        if self.is_alive:\n",
    "            print(f\"{self.name} is dying...\")\n",
    "            self.is_alive = False\n",
    "            Human.population-=1\n",
    "        else:\n",
    "            print(f\"{self.name} is already dead...\")\n",
    "            \n",
    "    def __repr__(self):\n",
    "        \"\"\"This will represent string..\"\"\"\n",
    "        \n",
    "        return f\"[{self.id},{self.name}, {self.age}, {self.is_alive}]\""
   ]
  },
  {
   "cell_type": "code",
   "execution_count": 146,
   "id": "4ab8ec07",
   "metadata": {},
   "outputs": [
    {
     "name": "stdout",
     "output_type": "stream",
     "text": [
      "Object is created...\n"
     ]
    }
   ],
   "source": [
    "h1 = Human('mohit', 27)"
   ]
  },
  {
   "cell_type": "code",
   "execution_count": 147,
   "id": "bcf5a5f0",
   "metadata": {},
   "outputs": [
    {
     "name": "stdout",
     "output_type": "stream",
     "text": [
      "Object is created...\n"
     ]
    }
   ],
   "source": [
    "h2 = Human(\"Prateek\", 30)"
   ]
  },
  {
   "cell_type": "code",
   "execution_count": 148,
   "id": "7a249173",
   "metadata": {},
   "outputs": [
    {
     "name": "stdout",
     "output_type": "stream",
     "text": [
      "Hi my name is mohit and i am 27 years old\n"
     ]
    }
   ],
   "source": [
    "h1.introduce()"
   ]
  },
  {
   "cell_type": "code",
   "execution_count": 149,
   "id": "f7e4e8e0",
   "metadata": {},
   "outputs": [
    {
     "data": {
      "text/plain": [
       "True"
      ]
     },
     "execution_count": 149,
     "metadata": {},
     "output_type": "execute_result"
    }
   ],
   "source": [
    "h1.is_alive"
   ]
  },
  {
   "cell_type": "code",
   "execution_count": 150,
   "id": "20a4b2bf",
   "metadata": {},
   "outputs": [
    {
     "data": {
      "text/plain": [
       "101"
      ]
     },
     "execution_count": 150,
     "metadata": {},
     "output_type": "execute_result"
    }
   ],
   "source": [
    "h1.id"
   ]
  },
  {
   "cell_type": "code",
   "execution_count": 151,
   "id": "e996dd90",
   "metadata": {},
   "outputs": [
    {
     "data": {
      "text/plain": [
       "27"
      ]
     },
     "execution_count": 151,
     "metadata": {},
     "output_type": "execute_result"
    }
   ],
   "source": [
    "h1.age"
   ]
  },
  {
   "cell_type": "code",
   "execution_count": 152,
   "id": "4d4d14b9",
   "metadata": {},
   "outputs": [
    {
     "data": {
      "text/plain": [
       "2"
      ]
     },
     "execution_count": 152,
     "metadata": {},
     "output_type": "execute_result"
    }
   ],
   "source": [
    "Human.population"
   ]
  },
  {
   "cell_type": "code",
   "execution_count": 153,
   "id": "2cd35d8d",
   "metadata": {},
   "outputs": [
    {
     "data": {
      "text/plain": [
       "[[101,mohit, 27, True], [102,Prateek, 30, True]]"
      ]
     },
     "execution_count": 153,
     "metadata": {},
     "output_type": "execute_result"
    }
   ],
   "source": [
    "Human.database"
   ]
  },
  {
   "cell_type": "code",
   "execution_count": 154,
   "id": "c377c678",
   "metadata": {},
   "outputs": [],
   "source": [
    "h1.name = 'jatin'"
   ]
  },
  {
   "cell_type": "code",
   "execution_count": 155,
   "id": "7ef682c1",
   "metadata": {},
   "outputs": [
    {
     "data": {
      "text/plain": [
       "'jatin'"
      ]
     },
     "execution_count": 155,
     "metadata": {},
     "output_type": "execute_result"
    }
   ],
   "source": [
    "h1.name"
   ]
  },
  {
   "cell_type": "code",
   "execution_count": 156,
   "id": "50b130e7",
   "metadata": {},
   "outputs": [
    {
     "name": "stdout",
     "output_type": "stream",
     "text": [
      "Hi my name is jatin and i am 27 years old\n"
     ]
    }
   ],
   "source": [
    "h1.introduce()"
   ]
  },
  {
   "cell_type": "code",
   "execution_count": 157,
   "id": "3fca4959",
   "metadata": {},
   "outputs": [
    {
     "name": "stdout",
     "output_type": "stream",
     "text": [
      "Hi my name is jatin and i am 27 years old\n"
     ]
    }
   ],
   "source": [
    "h1.introduce()"
   ]
  },
  {
   "cell_type": "code",
   "execution_count": 158,
   "id": "07b5707e",
   "metadata": {},
   "outputs": [
    {
     "name": "stdout",
     "output_type": "stream",
     "text": [
      "Hi my name is Prateek and i am 30 years old\n"
     ]
    }
   ],
   "source": [
    "h2.introduce()"
   ]
  },
  {
   "cell_type": "code",
   "execution_count": 159,
   "id": "d28b7b6d",
   "metadata": {},
   "outputs": [
    {
     "name": "stdout",
     "output_type": "stream",
     "text": [
      "jatin is dying...\n"
     ]
    }
   ],
   "source": [
    "h1.die()"
   ]
  },
  {
   "cell_type": "code",
   "execution_count": 160,
   "id": "65b7acd5",
   "metadata": {},
   "outputs": [
    {
     "data": {
      "text/plain": [
       "1"
      ]
     },
     "execution_count": 160,
     "metadata": {},
     "output_type": "execute_result"
    }
   ],
   "source": [
    "Human.population"
   ]
  },
  {
   "cell_type": "code",
   "execution_count": 161,
   "id": "b76b47bb",
   "metadata": {},
   "outputs": [
    {
     "name": "stdout",
     "output_type": "stream",
     "text": [
      "jatin is already dead...\n"
     ]
    }
   ],
   "source": [
    "h1.die()"
   ]
  },
  {
   "cell_type": "code",
   "execution_count": 162,
   "id": "e8e6f901",
   "metadata": {},
   "outputs": [
    {
     "data": {
      "text/plain": [
       "1"
      ]
     },
     "execution_count": 162,
     "metadata": {},
     "output_type": "execute_result"
    }
   ],
   "source": [
    "Human.population"
   ]
  },
  {
   "cell_type": "code",
   "execution_count": 163,
   "id": "b57df147",
   "metadata": {},
   "outputs": [],
   "source": [
    "lst  = [4,5,6,7,8,9]"
   ]
  },
  {
   "cell_type": "code",
   "execution_count": 164,
   "id": "d7779d83",
   "metadata": {},
   "outputs": [
    {
     "data": {
      "text/plain": [
       "[4, 5, 6, 7, 8, 9]"
      ]
     },
     "execution_count": 164,
     "metadata": {},
     "output_type": "execute_result"
    }
   ],
   "source": [
    "lst"
   ]
  },
  {
   "cell_type": "code",
   "execution_count": 165,
   "id": "f93bcc71",
   "metadata": {},
   "outputs": [
    {
     "data": {
      "text/plain": [
       "list"
      ]
     },
     "execution_count": 165,
     "metadata": {},
     "output_type": "execute_result"
    }
   ],
   "source": [
    "type(lst)"
   ]
  },
  {
   "cell_type": "code",
   "execution_count": 166,
   "id": "4bf2d94b",
   "metadata": {},
   "outputs": [],
   "source": [
    "a = \"hello\""
   ]
  },
  {
   "cell_type": "code",
   "execution_count": 167,
   "id": "57d34494",
   "metadata": {},
   "outputs": [
    {
     "data": {
      "text/plain": [
       "'hello'"
      ]
     },
     "execution_count": 167,
     "metadata": {},
     "output_type": "execute_result"
    }
   ],
   "source": [
    "a"
   ]
  },
  {
   "cell_type": "code",
   "execution_count": 168,
   "id": "2f6aa589",
   "metadata": {},
   "outputs": [
    {
     "data": {
      "text/plain": [
       "str"
      ]
     },
     "execution_count": 168,
     "metadata": {},
     "output_type": "execute_result"
    }
   ],
   "source": [
    "type(a)"
   ]
  },
  {
   "cell_type": "code",
   "execution_count": 169,
   "id": "46eb4d98",
   "metadata": {},
   "outputs": [
    {
     "data": {
      "text/plain": [
       "[101,jatin, 27, False]"
      ]
     },
     "execution_count": 169,
     "metadata": {},
     "output_type": "execute_result"
    }
   ],
   "source": [
    "h1"
   ]
  },
  {
   "cell_type": "code",
   "execution_count": 170,
   "id": "4c85d432",
   "metadata": {},
   "outputs": [
    {
     "data": {
      "text/plain": [
       "[102,Prateek, 30, True]"
      ]
     },
     "execution_count": 170,
     "metadata": {},
     "output_type": "execute_result"
    }
   ],
   "source": [
    "h2"
   ]
  },
  {
   "cell_type": "code",
   "execution_count": 171,
   "id": "d6c615d5",
   "metadata": {},
   "outputs": [
    {
     "data": {
      "text/plain": [
       "[[101,jatin, 27, False], [102,Prateek, 30, True]]"
      ]
     },
     "execution_count": 171,
     "metadata": {},
     "output_type": "execute_result"
    }
   ],
   "source": [
    "Human.database"
   ]
  },
  {
   "cell_type": "code",
   "execution_count": null,
   "id": "0d521e96",
   "metadata": {},
   "outputs": [],
   "source": []
  },
  {
   "cell_type": "code",
   "execution_count": 294,
   "id": "e751bcb0",
   "metadata": {},
   "outputs": [],
   "source": [
    "class Human:\n",
    "    # class variables\n",
    "    id_seq = 101\n",
    "    population = 0\n",
    "    database = []\n",
    "    \n",
    "    def __init__(self, name, age, is_alive = True):\n",
    "        print(\"Object is created...\")\n",
    "        \n",
    "    # instance variables\n",
    "    # attribute references\n",
    "        self.name = name\n",
    "        self.is_alive = is_alive\n",
    "        self.age = age\n",
    "        self.id = Human.id_seq\n",
    "        Human.id_seq+=1\n",
    "        Human.population+=1\n",
    "        Human.database.append(self)\n",
    "        \n",
    "    #instance Method\n",
    "    \n",
    "    def introduce(self):\n",
    "        print(f\"Hi my name is {self.name} and i am {self.age} years old\")\n",
    "        \n",
    "    def die(self):\n",
    "        if self.is_alive:\n",
    "            print(f\"{self.name} is dying...\")\n",
    "            self.is_alive = False\n",
    "            Human.population-=1\n",
    "        else:\n",
    "            print(f\"{self.name} is already dead...\")\n",
    "            \n",
    "    def __repr__(self):\n",
    "        \"\"\"This will represent string..\"\"\"\n",
    "        \n",
    "        return f\"[{self.id},{self.name}, {self.age}, {self.is_alive}]\""
   ]
  },
  {
   "cell_type": "code",
   "execution_count": 295,
   "id": "66f3262d",
   "metadata": {},
   "outputs": [],
   "source": [
    "class Hitman(Human):\n",
    "    def __init__(self, name, age):\n",
    "        super().__init__(name, age)\n",
    "        self.kills = 0\n",
    "        self.kill_lst = []\n",
    "        \n",
    "    def kill(self, person):\n",
    "        if person.is_alive:\n",
    "            print(f\"{self.name} is killing {person.name}\")\n",
    "            person.die()\n",
    "            self.kills+=1\n",
    "            self.kill_lst.append(person)\n",
    "        else:\n",
    "            print(f\"{person.name} is already killed...\")\n",
    "            \n",
    "    def introduce(self):\n",
    "        print(f\"Hi my name is {self.name} and i have killed {self.kills} persons.\")"
   ]
  },
  {
   "cell_type": "code",
   "execution_count": 296,
   "id": "54c5c9b2",
   "metadata": {},
   "outputs": [
    {
     "name": "stdout",
     "output_type": "stream",
     "text": [
      "Object is created...\n"
     ]
    }
   ],
   "source": [
    "h1 = Human('mohit', 23)"
   ]
  },
  {
   "cell_type": "code",
   "execution_count": 297,
   "id": "3f18a0eb",
   "metadata": {},
   "outputs": [
    {
     "name": "stdout",
     "output_type": "stream",
     "text": [
      "Object is created...\n"
     ]
    }
   ],
   "source": [
    "bond = Hitman('james', 45)"
   ]
  },
  {
   "cell_type": "code",
   "execution_count": 298,
   "id": "e06aa149",
   "metadata": {},
   "outputs": [
    {
     "name": "stdout",
     "output_type": "stream",
     "text": [
      "Hi my name is mohit and i am 23 years old\n"
     ]
    }
   ],
   "source": [
    "h1.introduce()"
   ]
  },
  {
   "cell_type": "code",
   "execution_count": 299,
   "id": "4506c6b4",
   "metadata": {},
   "outputs": [
    {
     "name": "stdout",
     "output_type": "stream",
     "text": [
      "Hi my name is james and i have killed 0 persons.\n"
     ]
    }
   ],
   "source": [
    "bond.introduce()"
   ]
  },
  {
   "cell_type": "code",
   "execution_count": 261,
   "id": "fa99feda",
   "metadata": {},
   "outputs": [
    {
     "name": "stdout",
     "output_type": "stream",
     "text": [
      "Object is created...\n"
     ]
    }
   ],
   "source": [
    "h2 = Human('prateek', 20)"
   ]
  },
  {
   "cell_type": "code",
   "execution_count": 262,
   "id": "17c1a937",
   "metadata": {},
   "outputs": [
    {
     "name": "stdout",
     "output_type": "stream",
     "text": [
      "Object is created...\n"
     ]
    }
   ],
   "source": [
    "h3 = Human('jatin', 24)"
   ]
  },
  {
   "cell_type": "code",
   "execution_count": 263,
   "id": "87e63e2d",
   "metadata": {},
   "outputs": [
    {
     "data": {
      "text/plain": [
       "4"
      ]
     },
     "execution_count": 263,
     "metadata": {},
     "output_type": "execute_result"
    }
   ],
   "source": [
    "Human.population"
   ]
  },
  {
   "cell_type": "code",
   "execution_count": 264,
   "id": "91932930",
   "metadata": {},
   "outputs": [
    {
     "data": {
      "text/plain": [
       "[[101,mohit, 23, True],\n",
       " [102,james, 45, True],\n",
       " [103,prateek, 20, True],\n",
       " [104,jatin, 24, True]]"
      ]
     },
     "execution_count": 264,
     "metadata": {},
     "output_type": "execute_result"
    }
   ],
   "source": [
    "Human.database"
   ]
  },
  {
   "cell_type": "code",
   "execution_count": 265,
   "id": "592a7265",
   "metadata": {},
   "outputs": [
    {
     "data": {
      "text/plain": [
       "[102,james, 45, True]"
      ]
     },
     "execution_count": 265,
     "metadata": {},
     "output_type": "execute_result"
    }
   ],
   "source": [
    "bond"
   ]
  },
  {
   "cell_type": "code",
   "execution_count": 266,
   "id": "f88dd578",
   "metadata": {},
   "outputs": [
    {
     "name": "stdout",
     "output_type": "stream",
     "text": [
      "Hi my name is james and i am 45 years old\n"
     ]
    }
   ],
   "source": [
    "bond.introduce()"
   ]
  },
  {
   "cell_type": "code",
   "execution_count": 267,
   "id": "6f52e0fd",
   "metadata": {},
   "outputs": [
    {
     "data": {
      "text/plain": [
       "0"
      ]
     },
     "execution_count": 267,
     "metadata": {},
     "output_type": "execute_result"
    }
   ],
   "source": [
    "bond.kills"
   ]
  },
  {
   "cell_type": "code",
   "execution_count": 268,
   "id": "7fedf236",
   "metadata": {},
   "outputs": [
    {
     "data": {
      "text/plain": [
       "[]"
      ]
     },
     "execution_count": 268,
     "metadata": {},
     "output_type": "execute_result"
    }
   ],
   "source": [
    "bond.kill_lst"
   ]
  },
  {
   "cell_type": "code",
   "execution_count": 269,
   "id": "d327c2eb",
   "metadata": {},
   "outputs": [
    {
     "name": "stdout",
     "output_type": "stream",
     "text": [
      "james is killing mohit\n",
      "mohit is dying...\n"
     ]
    }
   ],
   "source": [
    "bond.kill(h1)"
   ]
  },
  {
   "cell_type": "code",
   "execution_count": 270,
   "id": "5ec4e896",
   "metadata": {},
   "outputs": [
    {
     "data": {
      "text/plain": [
       "1"
      ]
     },
     "execution_count": 270,
     "metadata": {},
     "output_type": "execute_result"
    }
   ],
   "source": [
    "bond.kills"
   ]
  },
  {
   "cell_type": "code",
   "execution_count": 271,
   "id": "3ea52d29",
   "metadata": {},
   "outputs": [
    {
     "data": {
      "text/plain": [
       "[[101,mohit, 23, False]]"
      ]
     },
     "execution_count": 271,
     "metadata": {},
     "output_type": "execute_result"
    }
   ],
   "source": [
    "bond.kill_lst"
   ]
  },
  {
   "cell_type": "code",
   "execution_count": 272,
   "id": "adecaf9c",
   "metadata": {},
   "outputs": [
    {
     "name": "stdout",
     "output_type": "stream",
     "text": [
      "mohit is already killed...\n"
     ]
    }
   ],
   "source": [
    "bond.kill(h1)"
   ]
  },
  {
   "cell_type": "code",
   "execution_count": 285,
   "id": "790ffea7",
   "metadata": {},
   "outputs": [
    {
     "data": {
      "text/plain": [
       "1"
      ]
     },
     "execution_count": 285,
     "metadata": {},
     "output_type": "execute_result"
    }
   ],
   "source": [
    "bond.kills"
   ]
  },
  {
   "cell_type": "code",
   "execution_count": 286,
   "id": "a73448ed",
   "metadata": {},
   "outputs": [
    {
     "data": {
      "text/plain": [
       "[[101,mohit, 23, False]]"
      ]
     },
     "execution_count": 286,
     "metadata": {},
     "output_type": "execute_result"
    }
   ],
   "source": [
    "bond.kill_lst"
   ]
  },
  {
   "cell_type": "code",
   "execution_count": null,
   "id": "d4f12d71",
   "metadata": {},
   "outputs": [],
   "source": []
  }
 ],
 "metadata": {
  "kernelspec": {
   "display_name": "Python 3",
   "language": "python",
   "name": "python3"
  },
  "language_info": {
   "codemirror_mode": {
    "name": "ipython",
    "version": 3
   },
   "file_extension": ".py",
   "mimetype": "text/x-python",
   "name": "python",
   "nbconvert_exporter": "python",
   "pygments_lexer": "ipython3",
   "version": "3.8.8"
  }
 },
 "nbformat": 4,
 "nbformat_minor": 5
}
