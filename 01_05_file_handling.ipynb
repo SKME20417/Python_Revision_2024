{
 "cells": [
  {
   "cell_type": "code",
   "execution_count": 3,
   "id": "a68ce039",
   "metadata": {},
   "outputs": [],
   "source": [
    "f = open('revision.txt')"
   ]
  },
  {
   "cell_type": "code",
   "execution_count": 4,
   "id": "c76b63cd",
   "metadata": {},
   "outputs": [
    {
     "data": {
      "text/plain": [
       "<_io.TextIOWrapper name='revision.txt' mode='r' encoding='cp1252'>"
      ]
     },
     "execution_count": 4,
     "metadata": {},
     "output_type": "execute_result"
    }
   ],
   "source": [
    "f"
   ]
  },
  {
   "cell_type": "code",
   "execution_count": 5,
   "id": "c5247329",
   "metadata": {},
   "outputs": [
    {
     "data": {
      "text/plain": [
       "False"
      ]
     },
     "execution_count": 5,
     "metadata": {},
     "output_type": "execute_result"
    }
   ],
   "source": [
    "f.closed"
   ]
  },
  {
   "cell_type": "code",
   "execution_count": 6,
   "id": "15d08551",
   "metadata": {},
   "outputs": [],
   "source": [
    "f.close()"
   ]
  },
  {
   "cell_type": "code",
   "execution_count": 7,
   "id": "3b95ef65",
   "metadata": {},
   "outputs": [
    {
     "data": {
      "text/plain": [
       "True"
      ]
     },
     "execution_count": 7,
     "metadata": {},
     "output_type": "execute_result"
    }
   ],
   "source": [
    "f.closed"
   ]
  },
  {
   "cell_type": "code",
   "execution_count": 10,
   "id": "776d1152",
   "metadata": {},
   "outputs": [],
   "source": [
    "f = open('revision.txt', mode='rt')"
   ]
  },
  {
   "cell_type": "code",
   "execution_count": 11,
   "id": "8553efcc",
   "metadata": {},
   "outputs": [
    {
     "data": {
      "text/plain": [
       "False"
      ]
     },
     "execution_count": 11,
     "metadata": {},
     "output_type": "execute_result"
    }
   ],
   "source": [
    "f.closed"
   ]
  },
  {
   "cell_type": "code",
   "execution_count": 12,
   "id": "403f33d8",
   "metadata": {},
   "outputs": [],
   "source": [
    "f.close()"
   ]
  },
  {
   "cell_type": "code",
   "execution_count": 13,
   "id": "cc7f81ef",
   "metadata": {},
   "outputs": [
    {
     "data": {
      "text/plain": [
       "True"
      ]
     },
     "execution_count": 13,
     "metadata": {},
     "output_type": "execute_result"
    }
   ],
   "source": [
    "f.closed"
   ]
  },
  {
   "cell_type": "code",
   "execution_count": null,
   "id": "08ece814",
   "metadata": {},
   "outputs": [],
   "source": []
  },
  {
   "cell_type": "code",
   "execution_count": 15,
   "id": "5b74674f",
   "metadata": {},
   "outputs": [],
   "source": [
    "f = open(\"best.txt\", mode=\"wt\")"
   ]
  },
  {
   "cell_type": "code",
   "execution_count": 16,
   "id": "b76c52ec",
   "metadata": {},
   "outputs": [
    {
     "data": {
      "text/plain": [
       "False"
      ]
     },
     "execution_count": 16,
     "metadata": {},
     "output_type": "execute_result"
    }
   ],
   "source": [
    "f.closed"
   ]
  },
  {
   "cell_type": "code",
   "execution_count": 17,
   "id": "dea2ae17",
   "metadata": {},
   "outputs": [],
   "source": [
    "f.close()"
   ]
  },
  {
   "cell_type": "code",
   "execution_count": null,
   "id": "6071aa49",
   "metadata": {},
   "outputs": [],
   "source": []
  },
  {
   "cell_type": "code",
   "execution_count": 18,
   "id": "16a33f76",
   "metadata": {},
   "outputs": [
    {
     "name": "stdout",
     "output_type": "stream",
     "text": [
      "inside :  False\n",
      "outside :  True\n"
     ]
    }
   ],
   "source": [
    "with open(\"revision.txt\", mode='rt') as f:\n",
    "    print(\"inside : \",f.closed)\n",
    "    \n",
    "print(\"outside : \", f.closed)"
   ]
  },
  {
   "cell_type": "code",
   "execution_count": null,
   "id": "6ec91e76",
   "metadata": {},
   "outputs": [],
   "source": []
  },
  {
   "cell_type": "code",
   "execution_count": 31,
   "id": "10c8acad",
   "metadata": {},
   "outputs": [
    {
     "name": "stdout",
     "output_type": "stream",
     "text": [
      "52 47 37 35\n"
     ]
    }
   ],
   "source": [
    "with open('testing01.txt', mode='wt') as f:\n",
    "    r1 = f.write(\"I am creating this file with the help of python... \\n\")\n",
    "    r2 = f.write(\"I will be revsiong the the content very soon. \\n\")\n",
    "    r3 = f.write(\"I am revising python with libraies. \\n\")\n",
    "    r4 = f.write(\"I have doen HTML, CSS, javascript.\\n\")\n",
    "    \n",
    "    print(r1,r2, r3, r4)"
   ]
  },
  {
   "cell_type": "code",
   "execution_count": 32,
   "id": "558c8d16",
   "metadata": {},
   "outputs": [
    {
     "name": "stdout",
     "output_type": "stream",
     "text": [
      "I am creating this file with the help of python... \n",
      "I will be revsiong the the content very soon. \n",
      "I am revising python with libraies. \n",
      "I have doen HTML, CSS, javascript.\n",
      "\n"
     ]
    }
   ],
   "source": [
    "with open('testing01.txt') as f:\n",
    "    print(f.read())"
   ]
  },
  {
   "cell_type": "code",
   "execution_count": 33,
   "id": "4b640cfd",
   "metadata": {},
   "outputs": [],
   "source": [
    "with open('testing01.txt') as f:\n",
    "    daat = f.readlines()"
   ]
  },
  {
   "cell_type": "code",
   "execution_count": 34,
   "id": "b8ea7213",
   "metadata": {},
   "outputs": [
    {
     "name": "stdout",
     "output_type": "stream",
     "text": [
      "['I am creating this file with the help of python... \\n', 'I will be revsiong the the content very soon. \\n', 'I am revising python with libraies. \\n', 'I have doen HTML, CSS, javascript.\\n']\n"
     ]
    }
   ],
   "source": [
    "print(daat)"
   ]
  },
  {
   "cell_type": "code",
   "execution_count": null,
   "id": "c8556700",
   "metadata": {},
   "outputs": [],
   "source": []
  },
  {
   "cell_type": "code",
   "execution_count": 41,
   "id": "60fd4492",
   "metadata": {},
   "outputs": [
    {
     "name": "stdout",
     "output_type": "stream",
     "text": [
      "I am \n",
      "creat\n",
      "ing this f\n",
      "20\n",
      "creating t\n",
      "15\n",
      "I am creating this file with the help of python... \n",
      "I will be revsiong the the content very soon. \n",
      "I am revising python with libraies. \n",
      "I have doen HTML, CSS, javascript.\n",
      "\n"
     ]
    }
   ],
   "source": [
    "with open(\"testing01.txt\") as f:\n",
    "    d1 = f.read(5)\n",
    "    print(d1)\n",
    "    \n",
    "    print(f.read(5))\n",
    "    \n",
    "    print(f.read(10))\n",
    "    \n",
    "    print(f.tell())\n",
    "    \n",
    "    f.seek(5)\n",
    "    \n",
    "    print(f.read(10))\n",
    "    \n",
    "    print(f.tell())\n",
    "    \n",
    "    f.seek(0)\n",
    "    \n",
    "    print(f.read())"
   ]
  },
  {
   "cell_type": "code",
   "execution_count": null,
   "id": "abb7e373",
   "metadata": {},
   "outputs": [],
   "source": []
  },
  {
   "cell_type": "code",
   "execution_count": 42,
   "id": "46bc6ba6",
   "metadata": {},
   "outputs": [
    {
     "name": "stdout",
     "output_type": "stream",
     "text": [
      "I am creating this file with the help of python... \n",
      "\n",
      "I will be revsiong the the content very soon. \n",
      "\n",
      "I am revising python with libraies. \n",
      "\n",
      "I have doen HTML, CSS, javascript.\n",
      "\n"
     ]
    }
   ],
   "source": [
    "with open('testing01.txt') as f:\n",
    "    for i in f:\n",
    "        print(i)"
   ]
  },
  {
   "cell_type": "code",
   "execution_count": 43,
   "id": "27e8344d",
   "metadata": {},
   "outputs": [],
   "source": [
    "with open(\"testing01.txt\") as f:\n",
    "    data = f.readlines()"
   ]
  },
  {
   "cell_type": "code",
   "execution_count": 44,
   "id": "feda9b4e",
   "metadata": {},
   "outputs": [
    {
     "data": {
      "text/plain": [
       "['I am creating this file with the help of python... \\n',\n",
       " 'I will be revsiong the the content very soon. \\n',\n",
       " 'I am revising python with libraies. \\n',\n",
       " 'I have doen HTML, CSS, javascript.\\n']"
      ]
     },
     "execution_count": 44,
     "metadata": {},
     "output_type": "execute_result"
    }
   ],
   "source": [
    "\n",
    "data"
   ]
  },
  {
   "cell_type": "code",
   "execution_count": 45,
   "id": "109ceb0f",
   "metadata": {},
   "outputs": [
    {
     "name": "stdout",
     "output_type": "stream",
     "text": [
      "I am creating this file with the help of python... \n",
      "\n",
      "I will be revsiong the the content very soon. \n",
      "\n",
      "I am revising python with libraies. \n",
      "\n",
      "I have doen HTML, CSS, javascript.\n",
      "\n"
     ]
    }
   ],
   "source": [
    "for i in data:\n",
    "    print(i)"
   ]
  },
  {
   "cell_type": "code",
   "execution_count": 46,
   "id": "cab71e61",
   "metadata": {},
   "outputs": [
    {
     "name": "stdout",
     "output_type": "stream",
     "text": [
      "24 37\n"
     ]
    }
   ],
   "source": [
    "with open('testing01.txt', mode='at') as f:\n",
    "    r1 = f.write(\"this is appended text. \\n\")\n",
    "    r2 = f.write(\"Python is very easy and fun loving. \\n\")\n",
    "    print(r1, r2)"
   ]
  },
  {
   "cell_type": "code",
   "execution_count": 47,
   "id": "12090e2a",
   "metadata": {},
   "outputs": [
    {
     "name": "stdout",
     "output_type": "stream",
     "text": [
      "I am creating this file with the help of python... \n",
      "I will be revsiong the the content very soon. \n",
      "I am revising python with libraies. \n",
      "I have doen HTML, CSS, javascript.\n",
      "this is appended text. \n",
      "Python is very easy and fun loving. \n",
      "\n"
     ]
    }
   ],
   "source": [
    "with open('testing01.txt') as f:\n",
    "    d = f.read()\n",
    "    print(d)"
   ]
  },
  {
   "cell_type": "code",
   "execution_count": 48,
   "id": "04b9d87f",
   "metadata": {},
   "outputs": [],
   "source": [
    "#Changing the content in a file"
   ]
  },
  {
   "cell_type": "code",
   "execution_count": 62,
   "id": "047109c5",
   "metadata": {},
   "outputs": [],
   "source": [
    "with open('testing01.txt') as f:\n",
    "    datat = f.readlines()"
   ]
  },
  {
   "cell_type": "code",
   "execution_count": 63,
   "id": "49a52610",
   "metadata": {},
   "outputs": [],
   "source": [
    "datat[-3] = \"frontend is already completed. \\n\""
   ]
  },
  {
   "cell_type": "code",
   "execution_count": 64,
   "id": "d8076f71",
   "metadata": {},
   "outputs": [
    {
     "data": {
      "text/plain": [
       "['I am creating this file with the help of python... \\n',\n",
       " ' I will be revsiong the the content very soon. \\n',\n",
       " 'frontend is already completed. \\n',\n",
       " ' frontend is already completed this is appended text. \\n',\n",
       " ' Python is very easy and fun loving. \\n']"
      ]
     },
     "execution_count": 64,
     "metadata": {},
     "output_type": "execute_result"
    }
   ],
   "source": [
    "datat"
   ]
  },
  {
   "cell_type": "code",
   "execution_count": 65,
   "id": "04a0b5ee",
   "metadata": {},
   "outputs": [],
   "source": [
    "data_to_write = \" \".join(datat)"
   ]
  },
  {
   "cell_type": "code",
   "execution_count": 66,
   "id": "c9f0ae42",
   "metadata": {},
   "outputs": [],
   "source": [
    "import os"
   ]
  },
  {
   "cell_type": "code",
   "execution_count": 67,
   "id": "859314fb",
   "metadata": {},
   "outputs": [],
   "source": [
    "filename = \"testing01.txt\""
   ]
  },
  {
   "cell_type": "code",
   "execution_count": 68,
   "id": "1605b1cc",
   "metadata": {},
   "outputs": [],
   "source": [
    "with open(\"mynewtesting01.txt\", 'wt') as f:\n",
    "    f.write(data_to_write)"
   ]
  },
  {
   "cell_type": "code",
   "execution_count": 69,
   "id": "9e2ecb5c",
   "metadata": {},
   "outputs": [],
   "source": [
    "os.remove(filename)"
   ]
  },
  {
   "cell_type": "code",
   "execution_count": 70,
   "id": "104ae430",
   "metadata": {},
   "outputs": [],
   "source": [
    "os.rename(\"mynewtesting01.txt\", filename)"
   ]
  },
  {
   "cell_type": "code",
   "execution_count": 71,
   "id": "a2f7215a",
   "metadata": {},
   "outputs": [
    {
     "name": "stdout",
     "output_type": "stream",
     "text": [
      "I am creating this file with the help of python... \n",
      "  I will be revsiong the the content very soon. \n",
      " frontend is already completed. \n",
      "  frontend is already completed this is appended text. \n",
      "  Python is very easy and fun loving. \n",
      "\n"
     ]
    }
   ],
   "source": [
    "with open('testing01.txt') as f:\n",
    "    print(f.read())"
   ]
  },
  {
   "cell_type": "code",
   "execution_count": null,
   "id": "36ec16c5",
   "metadata": {},
   "outputs": [],
   "source": []
  }
 ],
 "metadata": {
  "kernelspec": {
   "display_name": "Python 3",
   "language": "python",
   "name": "python3"
  },
  "language_info": {
   "codemirror_mode": {
    "name": "ipython",
    "version": 3
   },
   "file_extension": ".py",
   "mimetype": "text/x-python",
   "name": "python",
   "nbconvert_exporter": "python",
   "pygments_lexer": "ipython3",
   "version": "3.8.8"
  }
 },
 "nbformat": 4,
 "nbformat_minor": 5
}
