{
 "cells": [
  {
   "cell_type": "code",
   "execution_count": 1,
   "id": "1a7e9999",
   "metadata": {},
   "outputs": [],
   "source": [
    "class Dog:\n",
    "    def __init__(self, name, breed):\n",
    "        self.name = name\n",
    "        self.breed = breed\n",
    "        \n",
    "    def bark(self):\n",
    "        print(f\"{self.name} says : wolf...!\")"
   ]
  },
  {
   "cell_type": "code",
   "execution_count": 3,
   "id": "6dd354b2",
   "metadata": {},
   "outputs": [],
   "source": [
    "mydog = Dog('Buddy', \"Labrador\")"
   ]
  },
  {
   "cell_type": "code",
   "execution_count": 4,
   "id": "57354f42",
   "metadata": {},
   "outputs": [
    {
     "data": {
      "text/plain": [
       "'Buddy'"
      ]
     },
     "execution_count": 4,
     "metadata": {},
     "output_type": "execute_result"
    }
   ],
   "source": [
    "mydog.name"
   ]
  },
  {
   "cell_type": "code",
   "execution_count": 5,
   "id": "1ab50d2b",
   "metadata": {},
   "outputs": [
    {
     "data": {
      "text/plain": [
       "'Labrador'"
      ]
     },
     "execution_count": 5,
     "metadata": {},
     "output_type": "execute_result"
    }
   ],
   "source": [
    "mydog.breed"
   ]
  },
  {
   "cell_type": "code",
   "execution_count": 7,
   "id": "6e22ae56",
   "metadata": {},
   "outputs": [
    {
     "name": "stdout",
     "output_type": "stream",
     "text": [
      "Buddy says : wolf...!\n"
     ]
    }
   ],
   "source": [
    "mydog.bark()"
   ]
  },
  {
   "cell_type": "code",
   "execution_count": 8,
   "id": "0a7ee738",
   "metadata": {},
   "outputs": [],
   "source": [
    "# inheritance:"
   ]
  },
  {
   "cell_type": "code",
   "execution_count": 16,
   "id": "e4e20ed1",
   "metadata": {},
   "outputs": [],
   "source": [
    "class Animal:\n",
    "    def __init__(self, name):\n",
    "        self.name = name\n",
    "        \n",
    "    def speak(self):\n",
    "        print(f\"{self.name} makes a sound\")\n",
    "        \n",
    "class Dog(Animal):\n",
    "    def speak(self):\n",
    "        print(f\"{self.name} says : wolf!\")"
   ]
  },
  {
   "cell_type": "code",
   "execution_count": 17,
   "id": "561dc444",
   "metadata": {},
   "outputs": [],
   "source": [
    "my_animal = Animal('Cat')"
   ]
  },
  {
   "cell_type": "code",
   "execution_count": 18,
   "id": "d5aac6dc",
   "metadata": {},
   "outputs": [
    {
     "data": {
      "text/plain": [
       "'Cat'"
      ]
     },
     "execution_count": 18,
     "metadata": {},
     "output_type": "execute_result"
    }
   ],
   "source": [
    "my_animal.name"
   ]
  },
  {
   "cell_type": "code",
   "execution_count": 19,
   "id": "04eee2d9",
   "metadata": {},
   "outputs": [
    {
     "name": "stdout",
     "output_type": "stream",
     "text": [
      "Cat makes a sound\n"
     ]
    }
   ],
   "source": [
    "my_animal.speak()"
   ]
  },
  {
   "cell_type": "code",
   "execution_count": 22,
   "id": "2260f1d0",
   "metadata": {},
   "outputs": [],
   "source": [
    "my_dog = Dog(\"my_pet\")"
   ]
  },
  {
   "cell_type": "code",
   "execution_count": 23,
   "id": "ab1c006a",
   "metadata": {},
   "outputs": [
    {
     "name": "stdout",
     "output_type": "stream",
     "text": [
      "my_pet says : wolf!\n"
     ]
    }
   ],
   "source": [
    "my_dog.speak()"
   ]
  },
  {
   "cell_type": "code",
   "execution_count": 24,
   "id": "6b9372d4",
   "metadata": {},
   "outputs": [
    {
     "data": {
      "text/plain": [
       "'my_pet'"
      ]
     },
     "execution_count": 24,
     "metadata": {},
     "output_type": "execute_result"
    }
   ],
   "source": [
    "my_dog.name"
   ]
  },
  {
   "cell_type": "code",
   "execution_count": 25,
   "id": "8251ebc5",
   "metadata": {},
   "outputs": [],
   "source": [
    "class BankAccount:\n",
    "    def __init__(self, balance):\n",
    "        self.balance = balance\n",
    "        \n",
    "    def deposit(self, amount):\n",
    "        self.balance+=amount\n",
    "        \n",
    "    def withdraw(self, amount):\n",
    "        if amount<= self.balance:\n",
    "            self.balance-=amount\n",
    "        else:\n",
    "            print(f\"Insufficiant amount {self.balance}\")"
   ]
  },
  {
   "cell_type": "code",
   "execution_count": 27,
   "id": "b417d1a9",
   "metadata": {},
   "outputs": [],
   "source": [
    "my_sbi_account = BankAccount(5000)"
   ]
  },
  {
   "cell_type": "code",
   "execution_count": 28,
   "id": "f77a07c2",
   "metadata": {},
   "outputs": [
    {
     "data": {
      "text/plain": [
       "<__main__.BankAccount at 0x2c04ac721f0>"
      ]
     },
     "execution_count": 28,
     "metadata": {},
     "output_type": "execute_result"
    }
   ],
   "source": [
    "my_sbi_account"
   ]
  },
  {
   "cell_type": "code",
   "execution_count": 29,
   "id": "efa59410",
   "metadata": {},
   "outputs": [
    {
     "data": {
      "text/plain": [
       "5000"
      ]
     },
     "execution_count": 29,
     "metadata": {},
     "output_type": "execute_result"
    }
   ],
   "source": [
    "my_sbi_account.balance"
   ]
  },
  {
   "cell_type": "code",
   "execution_count": 30,
   "id": "57e44cf1",
   "metadata": {},
   "outputs": [],
   "source": [
    "my_sbi_account.deposit(6000)"
   ]
  },
  {
   "cell_type": "code",
   "execution_count": 31,
   "id": "0a43f180",
   "metadata": {},
   "outputs": [
    {
     "data": {
      "text/plain": [
       "11000"
      ]
     },
     "execution_count": 31,
     "metadata": {},
     "output_type": "execute_result"
    }
   ],
   "source": [
    "my_sbi_account.balance"
   ]
  },
  {
   "cell_type": "code",
   "execution_count": 32,
   "id": "9aab4825",
   "metadata": {},
   "outputs": [],
   "source": [
    "my_sbi_account.withdraw(4000)"
   ]
  },
  {
   "cell_type": "code",
   "execution_count": 33,
   "id": "56131097",
   "metadata": {},
   "outputs": [
    {
     "data": {
      "text/plain": [
       "7000"
      ]
     },
     "execution_count": 33,
     "metadata": {},
     "output_type": "execute_result"
    }
   ],
   "source": [
    "my_sbi_account.balance"
   ]
  },
  {
   "cell_type": "code",
   "execution_count": null,
   "id": "070dd9c5",
   "metadata": {},
   "outputs": [],
   "source": []
  },
  {
   "cell_type": "code",
   "execution_count": 44,
   "id": "9c030f9a",
   "metadata": {},
   "outputs": [],
   "source": [
    "class Animal:\n",
    "    def speak(self):\n",
    "        raise NotImplementedError(\"Subclass must implement this method\")\n",
    "        \n",
    "class Dog(Animal):\n",
    "    def speak(self):\n",
    "        print(\"I will bark...\")"
   ]
  },
  {
   "cell_type": "code",
   "execution_count": 45,
   "id": "7d7fd51f",
   "metadata": {},
   "outputs": [],
   "source": [
    "class Cat(Animal):\n",
    "    def speak(self):\n",
    "        print(\"I will Meow...\")"
   ]
  },
  {
   "cell_type": "code",
   "execution_count": 46,
   "id": "7d32d3e9",
   "metadata": {},
   "outputs": [],
   "source": [
    "my_animal = Animal()"
   ]
  },
  {
   "cell_type": "code",
   "execution_count": 47,
   "id": "d7eee7f0",
   "metadata": {},
   "outputs": [
    {
     "ename": "NotImplementedError",
     "evalue": "Subclass must implement this method",
     "output_type": "error",
     "traceback": [
      "\u001b[1;31m---------------------------------------------------------------------------\u001b[0m",
      "\u001b[1;31mNotImplementedError\u001b[0m                       Traceback (most recent call last)",
      "\u001b[1;32m<ipython-input-47-ed4198de9ea6>\u001b[0m in \u001b[0;36m<module>\u001b[1;34m\u001b[0m\n\u001b[1;32m----> 1\u001b[1;33m \u001b[0mmy_animal\u001b[0m\u001b[1;33m.\u001b[0m\u001b[0mspeak\u001b[0m\u001b[1;33m(\u001b[0m\u001b[1;33m)\u001b[0m\u001b[1;33m\u001b[0m\u001b[1;33m\u001b[0m\u001b[0m\n\u001b[0m",
      "\u001b[1;32m<ipython-input-44-b35a46a69974>\u001b[0m in \u001b[0;36mspeak\u001b[1;34m(self)\u001b[0m\n\u001b[0;32m      1\u001b[0m \u001b[1;32mclass\u001b[0m \u001b[0mAnimal\u001b[0m\u001b[1;33m:\u001b[0m\u001b[1;33m\u001b[0m\u001b[1;33m\u001b[0m\u001b[0m\n\u001b[0;32m      2\u001b[0m     \u001b[1;32mdef\u001b[0m \u001b[0mspeak\u001b[0m\u001b[1;33m(\u001b[0m\u001b[0mself\u001b[0m\u001b[1;33m)\u001b[0m\u001b[1;33m:\u001b[0m\u001b[1;33m\u001b[0m\u001b[1;33m\u001b[0m\u001b[0m\n\u001b[1;32m----> 3\u001b[1;33m         \u001b[1;32mraise\u001b[0m \u001b[0mNotImplementedError\u001b[0m\u001b[1;33m(\u001b[0m\u001b[1;34m\"Subclass must implement this method\"\u001b[0m\u001b[1;33m)\u001b[0m\u001b[1;33m\u001b[0m\u001b[1;33m\u001b[0m\u001b[0m\n\u001b[0m\u001b[0;32m      4\u001b[0m \u001b[1;33m\u001b[0m\u001b[0m\n\u001b[0;32m      5\u001b[0m \u001b[1;32mclass\u001b[0m \u001b[0mDog\u001b[0m\u001b[1;33m(\u001b[0m\u001b[0mAnimal\u001b[0m\u001b[1;33m)\u001b[0m\u001b[1;33m:\u001b[0m\u001b[1;33m\u001b[0m\u001b[1;33m\u001b[0m\u001b[0m\n",
      "\u001b[1;31mNotImplementedError\u001b[0m: Subclass must implement this method"
     ]
    }
   ],
   "source": [
    "my_animal.speak()"
   ]
  },
  {
   "cell_type": "code",
   "execution_count": 48,
   "id": "966d266a",
   "metadata": {},
   "outputs": [],
   "source": [
    "my_cat = Cat()"
   ]
  },
  {
   "cell_type": "code",
   "execution_count": 49,
   "id": "e3592faa",
   "metadata": {},
   "outputs": [],
   "source": [
    "my_dog = Dog()"
   ]
  },
  {
   "cell_type": "code",
   "execution_count": 50,
   "id": "e68fab15",
   "metadata": {},
   "outputs": [
    {
     "name": "stdout",
     "output_type": "stream",
     "text": [
      "I will Meow...\n"
     ]
    }
   ],
   "source": [
    "my_cat.speak()"
   ]
  },
  {
   "cell_type": "code",
   "execution_count": 51,
   "id": "72ba2b54",
   "metadata": {},
   "outputs": [
    {
     "name": "stdout",
     "output_type": "stream",
     "text": [
      "I will bark...\n"
     ]
    }
   ],
   "source": [
    "my_dog.speak()"
   ]
  },
  {
   "cell_type": "code",
   "execution_count": 52,
   "id": "5fe7af12",
   "metadata": {},
   "outputs": [],
   "source": [
    "import math"
   ]
  },
  {
   "cell_type": "code",
   "execution_count": 58,
   "id": "f583fc1c",
   "metadata": {},
   "outputs": [],
   "source": [
    "class Circle:\n",
    "    def __init__(self, radius):\n",
    "        self.radius = radius\n",
    "        \n",
    "    def Area(self):\n",
    "        return math.pi*2*self.radius\n",
    "    \n",
    "    def Cicumference(self):\n",
    "        return 2 * math.pi * self.radius"
   ]
  },
  {
   "cell_type": "code",
   "execution_count": 59,
   "id": "2e7d8545",
   "metadata": {},
   "outputs": [],
   "source": [
    "my_circle = Circle(5)"
   ]
  },
  {
   "cell_type": "code",
   "execution_count": 60,
   "id": "00b2ab93",
   "metadata": {},
   "outputs": [
    {
     "data": {
      "text/plain": [
       "5"
      ]
     },
     "execution_count": 60,
     "metadata": {},
     "output_type": "execute_result"
    }
   ],
   "source": [
    "my_circle.radius"
   ]
  },
  {
   "cell_type": "code",
   "execution_count": 61,
   "id": "1d3f8d48",
   "metadata": {},
   "outputs": [
    {
     "data": {
      "text/plain": [
       "31.41592653589793"
      ]
     },
     "execution_count": 61,
     "metadata": {},
     "output_type": "execute_result"
    }
   ],
   "source": [
    "my_circle.Cicumference()"
   ]
  },
  {
   "cell_type": "code",
   "execution_count": 62,
   "id": "12beaf83",
   "metadata": {},
   "outputs": [
    {
     "data": {
      "text/plain": [
       "31.41592653589793"
      ]
     },
     "execution_count": 62,
     "metadata": {},
     "output_type": "execute_result"
    }
   ],
   "source": [
    "my_circle.Area()"
   ]
  },
  {
   "cell_type": "code",
   "execution_count": null,
   "id": "aa7d49f0",
   "metadata": {},
   "outputs": [],
   "source": []
  },
  {
   "cell_type": "code",
   "execution_count": 85,
   "id": "ba60f276",
   "metadata": {},
   "outputs": [],
   "source": [
    "class Math:\n",
    "    @staticmethod\n",
    "    def add(a,b):\n",
    "        return a+b\n",
    "    \n",
    "    @classmethod\n",
    "    def mmultiply(a,b):\n",
    "        return a*b"
   ]
  },
  {
   "cell_type": "code",
   "execution_count": 86,
   "id": "1a7f7745",
   "metadata": {},
   "outputs": [],
   "source": [
    "m = Math()"
   ]
  },
  {
   "cell_type": "code",
   "execution_count": 87,
   "id": "4ed88254",
   "metadata": {},
   "outputs": [
    {
     "data": {
      "text/plain": [
       "11"
      ]
     },
     "execution_count": 87,
     "metadata": {},
     "output_type": "execute_result"
    }
   ],
   "source": [
    "m.add(5,6)"
   ]
  },
  {
   "cell_type": "code",
   "execution_count": 88,
   "id": "69604576",
   "metadata": {},
   "outputs": [
    {
     "ename": "TypeError",
     "evalue": "mmultiply() takes 2 positional arguments but 3 were given",
     "output_type": "error",
     "traceback": [
      "\u001b[1;31m---------------------------------------------------------------------------\u001b[0m",
      "\u001b[1;31mTypeError\u001b[0m                                 Traceback (most recent call last)",
      "\u001b[1;32m<ipython-input-88-b2db652eb8c2>\u001b[0m in \u001b[0;36m<module>\u001b[1;34m\u001b[0m\n\u001b[1;32m----> 1\u001b[1;33m \u001b[0mm\u001b[0m\u001b[1;33m.\u001b[0m\u001b[0mmmultiply\u001b[0m\u001b[1;33m(\u001b[0m\u001b[1;36m8\u001b[0m\u001b[1;33m,\u001b[0m\u001b[1;36m9\u001b[0m\u001b[1;33m)\u001b[0m\u001b[1;33m\u001b[0m\u001b[1;33m\u001b[0m\u001b[0m\n\u001b[0m",
      "\u001b[1;31mTypeError\u001b[0m: mmultiply() takes 2 positional arguments but 3 were given"
     ]
    }
   ],
   "source": [
    "m.mmultiply(8,9)"
   ]
  },
  {
   "cell_type": "code",
   "execution_count": null,
   "id": "11cd49f3",
   "metadata": {},
   "outputs": [],
   "source": []
  },
  {
   "cell_type": "code",
   "execution_count": null,
   "id": "8f541646",
   "metadata": {},
   "outputs": [],
   "source": []
  },
  {
   "cell_type": "code",
   "execution_count": 93,
   "id": "93f01f07",
   "metadata": {},
   "outputs": [],
   "source": [
    "class Animal:\n",
    "    def speak(self):\n",
    "        print(\"Animal will make a sound\")\n",
    "        \n",
    "class Cat(Animal):\n",
    "    def speak(self):\n",
    "        print(\"I will meoww...\")\n",
    "        \n",
    "class Dog(Animal):\n",
    "    def speak(self):\n",
    "        print(\"i will bark...\")"
   ]
  },
  {
   "cell_type": "code",
   "execution_count": 94,
   "id": "0d78eeca",
   "metadata": {},
   "outputs": [],
   "source": [
    "a = Animal()\n",
    "c = Cat()\n",
    "d = Dog()"
   ]
  },
  {
   "cell_type": "code",
   "execution_count": 95,
   "id": "a154706a",
   "metadata": {},
   "outputs": [
    {
     "name": "stdout",
     "output_type": "stream",
     "text": [
      "Animal will make a sound\n",
      "I will meoww...\n",
      "i will bark...\n"
     ]
    }
   ],
   "source": [
    "for i in [a,c,d]:\n",
    "    i.speak()"
   ]
  },
  {
   "cell_type": "code",
   "execution_count": null,
   "id": "cd00f6d0",
   "metadata": {},
   "outputs": [],
   "source": []
  },
  {
   "cell_type": "code",
   "execution_count": 96,
   "id": "0913a606",
   "metadata": {},
   "outputs": [],
   "source": [
    "class Flyable:\n",
    "    def fly(self):\n",
    "        print(\"I can fly..\")\n",
    "\n",
    "class Walkable:\n",
    "    def walk(self):\n",
    "        print(\"I can walk..\")\n",
    "        \n",
    "class Bird(Flyable, Walkable):\n",
    "    pass"
   ]
  },
  {
   "cell_type": "code",
   "execution_count": 97,
   "id": "64d535d7",
   "metadata": {},
   "outputs": [],
   "source": [
    "bird = Bird()"
   ]
  },
  {
   "cell_type": "code",
   "execution_count": 98,
   "id": "933994c1",
   "metadata": {},
   "outputs": [
    {
     "name": "stdout",
     "output_type": "stream",
     "text": [
      "I can walk..\n"
     ]
    }
   ],
   "source": [
    "bird.walk()"
   ]
  },
  {
   "cell_type": "code",
   "execution_count": 99,
   "id": "d95d218e",
   "metadata": {},
   "outputs": [
    {
     "name": "stdout",
     "output_type": "stream",
     "text": [
      "I can fly..\n"
     ]
    }
   ],
   "source": [
    "bird.fly()"
   ]
  },
  {
   "cell_type": "code",
   "execution_count": 100,
   "id": "7d3159f5",
   "metadata": {},
   "outputs": [],
   "source": [
    "#composition"
   ]
  },
  {
   "cell_type": "code",
   "execution_count": 105,
   "id": "b79ee8a4",
   "metadata": {},
   "outputs": [],
   "source": [
    "class Engine:\n",
    "    def start(self):\n",
    "        print(\"Engine Started...\")\n",
    "        \n",
    "class Car:\n",
    "    def __init__(self):\n",
    "        self.engine = Engine()\n",
    "        \n",
    "    def start(self):\n",
    "        self.engine.start()\n",
    "        print(\"Car started...\")"
   ]
  },
  {
   "cell_type": "code",
   "execution_count": 106,
   "id": "6c1746f0",
   "metadata": {},
   "outputs": [],
   "source": [
    "car = Car()"
   ]
  },
  {
   "cell_type": "code",
   "execution_count": 107,
   "id": "5d194a5a",
   "metadata": {},
   "outputs": [
    {
     "data": {
      "text/plain": [
       "<__main__.Engine at 0x2c04ac8a6a0>"
      ]
     },
     "execution_count": 107,
     "metadata": {},
     "output_type": "execute_result"
    }
   ],
   "source": [
    "car.engine"
   ]
  },
  {
   "cell_type": "code",
   "execution_count": 108,
   "id": "789ee4ad",
   "metadata": {},
   "outputs": [
    {
     "name": "stdout",
     "output_type": "stream",
     "text": [
      "Engine Started...\n",
      "Car started...\n"
     ]
    }
   ],
   "source": [
    "car.start()"
   ]
  },
  {
   "cell_type": "code",
   "execution_count": null,
   "id": "4be5f04b",
   "metadata": {},
   "outputs": [],
   "source": []
  },
  {
   "cell_type": "code",
   "execution_count": 115,
   "id": "da7c8307",
   "metadata": {},
   "outputs": [],
   "source": [
    "from abc import ABC, abstractclassmethod, abstractmethod"
   ]
  },
  {
   "cell_type": "code",
   "execution_count": 120,
   "id": "c036e3a2",
   "metadata": {},
   "outputs": [],
   "source": [
    "class Shape:\n",
    "    @abstractmethod\n",
    "    def Area(self):\n",
    "        pass\n",
    "    \n",
    "    @abstractmethod\n",
    "    def Perimeter(self):\n",
    "        pass"
   ]
  },
  {
   "cell_type": "code",
   "execution_count": 121,
   "id": "7a866066",
   "metadata": {},
   "outputs": [],
   "source": [
    "class Rectangle(Shape):\n",
    "    def __init__(self, width, height):\n",
    "        self.width = width\n",
    "        self.height = height\n",
    "        \n",
    "    def Area(self):\n",
    "        return self.width * self.height\n",
    "    \n",
    "    def Perimeter(self):\n",
    "        return 2*(self.width + self.height)\n",
    "    "
   ]
  },
  {
   "cell_type": "code",
   "execution_count": 122,
   "id": "fcc7a861",
   "metadata": {},
   "outputs": [],
   "source": [
    "rectangle = Rectangle(5,3)"
   ]
  },
  {
   "cell_type": "code",
   "execution_count": 123,
   "id": "5c89910c",
   "metadata": {},
   "outputs": [
    {
     "data": {
      "text/plain": [
       "5"
      ]
     },
     "execution_count": 123,
     "metadata": {},
     "output_type": "execute_result"
    }
   ],
   "source": [
    "rectangle.width"
   ]
  },
  {
   "cell_type": "code",
   "execution_count": 124,
   "id": "c8fb30e7",
   "metadata": {},
   "outputs": [
    {
     "data": {
      "text/plain": [
       "3"
      ]
     },
     "execution_count": 124,
     "metadata": {},
     "output_type": "execute_result"
    }
   ],
   "source": [
    "rectangle.height"
   ]
  },
  {
   "cell_type": "code",
   "execution_count": 125,
   "id": "4135ffb8",
   "metadata": {},
   "outputs": [
    {
     "data": {
      "text/plain": [
       "15"
      ]
     },
     "execution_count": 125,
     "metadata": {},
     "output_type": "execute_result"
    }
   ],
   "source": [
    "rectangle.Area()"
   ]
  },
  {
   "cell_type": "code",
   "execution_count": 126,
   "id": "1dd50e71",
   "metadata": {},
   "outputs": [
    {
     "data": {
      "text/plain": [
       "16"
      ]
     },
     "execution_count": 126,
     "metadata": {},
     "output_type": "execute_result"
    }
   ],
   "source": [
    "rectangle.Perimeter()"
   ]
  },
  {
   "cell_type": "code",
   "execution_count": null,
   "id": "636b7bce",
   "metadata": {},
   "outputs": [],
   "source": []
  },
  {
   "cell_type": "code",
   "execution_count": null,
   "id": "c3f90656",
   "metadata": {},
   "outputs": [],
   "source": []
  },
  {
   "cell_type": "code",
   "execution_count": 133,
   "id": "8f277871",
   "metadata": {},
   "outputs": [],
   "source": [
    "class Circle:\n",
    "    def __init__(self, radius):\n",
    "        self.radius = radius\n",
    "        \n",
    "    @property   \n",
    "    def radius(self):\n",
    "        return self.radius\n",
    "    \n",
    "    @radius.setter\n",
    "    def radius(self, value):\n",
    "        if value<0:\n",
    "            raise ValueError(\"radius can not be negative...\")\n",
    "        else:\n",
    "            self.radius = value\n",
    "            \n",
    "    @radius.deleter       \n",
    "    def radius(self):\n",
    "        del self.radius\n",
    "        "
   ]
  },
  {
   "cell_type": "code",
   "execution_count": null,
   "id": "9772ee72",
   "metadata": {},
   "outputs": [],
   "source": []
  },
  {
   "cell_type": "code",
   "execution_count": null,
   "id": "baf7129b",
   "metadata": {},
   "outputs": [],
   "source": [
    "circle = Circle(5)"
   ]
  },
  {
   "cell_type": "code",
   "execution_count": null,
   "id": "79926a8f",
   "metadata": {},
   "outputs": [],
   "source": [
    "c"
   ]
  },
  {
   "cell_type": "code",
   "execution_count": 5,
   "id": "7ac59c24",
   "metadata": {},
   "outputs": [],
   "source": [
    "class Calulator:\n",
    "    def add(self, a, b, c = 0):\n",
    "        return a+b+c\n",
    "    \n",
    "    def add(self, *args):\n",
    "        totl = 0\n",
    "        for i in args:\n",
    "            totl+=i\n",
    "        return totl"
   ]
  },
  {
   "cell_type": "code",
   "execution_count": 6,
   "id": "502b1e0e",
   "metadata": {},
   "outputs": [],
   "source": [
    "calc = Calulator()"
   ]
  },
  {
   "cell_type": "code",
   "execution_count": 7,
   "id": "fbecf63d",
   "metadata": {},
   "outputs": [
    {
     "data": {
      "text/plain": [
       "17"
      ]
     },
     "execution_count": 7,
     "metadata": {},
     "output_type": "execute_result"
    }
   ],
   "source": [
    "calc.add(8,9)"
   ]
  },
  {
   "cell_type": "code",
   "execution_count": 9,
   "id": "fa776ba7",
   "metadata": {},
   "outputs": [
    {
     "data": {
      "text/plain": [
       "20"
      ]
     },
     "execution_count": 9,
     "metadata": {},
     "output_type": "execute_result"
    }
   ],
   "source": [
    "calc.add(8,9,3)"
   ]
  },
  {
   "cell_type": "code",
   "execution_count": 10,
   "id": "8e902216",
   "metadata": {},
   "outputs": [
    {
     "data": {
      "text/plain": [
       "30"
      ]
     },
     "execution_count": 10,
     "metadata": {},
     "output_type": "execute_result"
    }
   ],
   "source": [
    "calc.add(4,5,6,7,8)"
   ]
  },
  {
   "cell_type": "code",
   "execution_count": null,
   "id": "fe4255e5",
   "metadata": {},
   "outputs": [],
   "source": []
  },
  {
   "cell_type": "code",
   "execution_count": null,
   "id": "6ffbb49c",
   "metadata": {},
   "outputs": [],
   "source": []
  },
  {
   "cell_type": "code",
   "execution_count": 16,
   "id": "81c87e1b",
   "metadata": {},
   "outputs": [],
   "source": [
    "class Vector2D:\n",
    "    def __init__(self, a, b):\n",
    "        self.a = a\n",
    "        self.b = b\n",
    "        \n",
    "    def __add__(self, other):\n",
    "        return Vector2D(self.a + other.a , self.b + other.b)\n",
    "    \n",
    "    def __str__(self):\n",
    "        return f\"({self.a}, {self.b})\""
   ]
  },
  {
   "cell_type": "code",
   "execution_count": 17,
   "id": "9a49d95e",
   "metadata": {},
   "outputs": [],
   "source": [
    "v1 = Vector2D(8,9)"
   ]
  },
  {
   "cell_type": "code",
   "execution_count": 18,
   "id": "794de7ae",
   "metadata": {},
   "outputs": [],
   "source": [
    "v2 = Vector2D(6,9)"
   ]
  },
  {
   "cell_type": "code",
   "execution_count": 20,
   "id": "96cf3bb3",
   "metadata": {},
   "outputs": [],
   "source": [
    "v3 = v1 + v1"
   ]
  },
  {
   "cell_type": "code",
   "execution_count": 23,
   "id": "3c7bd891",
   "metadata": {},
   "outputs": [
    {
     "data": {
      "text/plain": [
       "<__main__.Vector2D at 0x21dc60f09d0>"
      ]
     },
     "execution_count": 23,
     "metadata": {},
     "output_type": "execute_result"
    }
   ],
   "source": [
    "v3"
   ]
  },
  {
   "cell_type": "code",
   "execution_count": 24,
   "id": "b0473203",
   "metadata": {},
   "outputs": [
    {
     "data": {
      "text/plain": [
       "16"
      ]
     },
     "execution_count": 24,
     "metadata": {},
     "output_type": "execute_result"
    }
   ],
   "source": [
    "v3.a"
   ]
  },
  {
   "cell_type": "code",
   "execution_count": 25,
   "id": "7dfbeb2f",
   "metadata": {},
   "outputs": [
    {
     "data": {
      "text/plain": [
       "18"
      ]
     },
     "execution_count": 25,
     "metadata": {},
     "output_type": "execute_result"
    }
   ],
   "source": [
    "v3.b"
   ]
  },
  {
   "cell_type": "code",
   "execution_count": null,
   "id": "0a34da63",
   "metadata": {},
   "outputs": [],
   "source": []
  },
  {
   "cell_type": "code",
   "execution_count": 28,
   "id": "ad9ee169",
   "metadata": {},
   "outputs": [
    {
     "name": "stdout",
     "output_type": "stream",
     "text": [
      "2.5\n",
      "I will always be execueted ...\n"
     ]
    }
   ],
   "source": [
    "class CustomException(Exception):\n",
    "    pass\n",
    "\n",
    "def divide(a, b):\n",
    "    if b==0:\n",
    "        raise CustomException(\"Can not divide by zero...\")\n",
    "    else:\n",
    "        return a/b\n",
    "    \n",
    "try:\n",
    "    result = divide(5,2)\n",
    "    print(result)\n",
    "except CustomException as e:\n",
    "    print(e)   \n",
    "except ZeroDivisionError:\n",
    "    print(\"Divison by zero error...\")\n",
    "finally:\n",
    "    print(\"I will always be execueted ...\")"
   ]
  },
  {
   "cell_type": "code",
   "execution_count": null,
   "id": "7f181784",
   "metadata": {},
   "outputs": [],
   "source": []
  }
 ],
 "metadata": {
  "kernelspec": {
   "display_name": "Python 3",
   "language": "python",
   "name": "python3"
  },
  "language_info": {
   "codemirror_mode": {
    "name": "ipython",
    "version": 3
   },
   "file_extension": ".py",
   "mimetype": "text/x-python",
   "name": "python",
   "nbconvert_exporter": "python",
   "pygments_lexer": "ipython3",
   "version": "3.8.8"
  }
 },
 "nbformat": 4,
 "nbformat_minor": 5
}
