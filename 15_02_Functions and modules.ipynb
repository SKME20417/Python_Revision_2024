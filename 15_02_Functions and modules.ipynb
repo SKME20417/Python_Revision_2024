{
 "cells": [
  {
   "cell_type": "code",
   "execution_count": 1,
   "id": "ebd4a5eb",
   "metadata": {},
   "outputs": [],
   "source": [
    "def greeting(name):\n",
    "    print(f\"Hello {name} good Morning. How are you ?\")"
   ]
  },
  {
   "cell_type": "code",
   "execution_count": 2,
   "id": "7d4b574b",
   "metadata": {},
   "outputs": [
    {
     "data": {
      "text/plain": [
       "function"
      ]
     },
     "execution_count": 2,
     "metadata": {},
     "output_type": "execute_result"
    }
   ],
   "source": [
    "type(greeting)"
   ]
  },
  {
   "cell_type": "code",
   "execution_count": 3,
   "id": "4c65ae1b",
   "metadata": {},
   "outputs": [
    {
     "name": "stdout",
     "output_type": "stream",
     "text": [
      "<function greeting at 0x000001D04DC584C0>\n"
     ]
    }
   ],
   "source": [
    "print(greeting)"
   ]
  },
  {
   "cell_type": "code",
   "execution_count": 4,
   "id": "0a5cd3b2",
   "metadata": {},
   "outputs": [
    {
     "name": "stdout",
     "output_type": "stream",
     "text": [
      "Hello mohit good Morning. How are you ?\n"
     ]
    }
   ],
   "source": [
    "greeting('mohit')"
   ]
  },
  {
   "cell_type": "code",
   "execution_count": 5,
   "id": "e2fc57fe",
   "metadata": {},
   "outputs": [
    {
     "name": "stdout",
     "output_type": "stream",
     "text": [
      "Hello sanjay good Morning. How are you ?\n"
     ]
    }
   ],
   "source": [
    "greeting('sanjay')"
   ]
  },
  {
   "cell_type": "code",
   "execution_count": 6,
   "id": "e6673f58",
   "metadata": {},
   "outputs": [
    {
     "name": "stdout",
     "output_type": "stream",
     "text": [
      "Hello pooja good Morning. How are you ?\n"
     ]
    }
   ],
   "source": [
    "greeting('pooja')"
   ]
  },
  {
   "cell_type": "code",
   "execution_count": 7,
   "id": "f9a8e792",
   "metadata": {},
   "outputs": [
    {
     "name": "stdout",
     "output_type": "stream",
     "text": [
      "Hello prateek good Morning. How are you ?\n"
     ]
    }
   ],
   "source": [
    "greeting('prateek')"
   ]
  },
  {
   "cell_type": "code",
   "execution_count": 8,
   "id": "d34e8209",
   "metadata": {},
   "outputs": [],
   "source": [
    "def greeting(name):\n",
    "    \"\"\"This function will greet You\"\"\"\n",
    "    print(f\"Hello {name} good Morning. How are you ?\")"
   ]
  },
  {
   "cell_type": "code",
   "execution_count": 9,
   "id": "9be1bc66",
   "metadata": {},
   "outputs": [
    {
     "name": "stdout",
     "output_type": "stream",
     "text": [
      "Hello ravi good Morning. How are you ?\n"
     ]
    }
   ],
   "source": [
    "greeting('ravi')"
   ]
  },
  {
   "cell_type": "code",
   "execution_count": 10,
   "id": "602fab8e",
   "metadata": {},
   "outputs": [],
   "source": [
    "greeting??"
   ]
  },
  {
   "cell_type": "code",
   "execution_count": 11,
   "id": "b9da76ad",
   "metadata": {},
   "outputs": [],
   "source": [
    "greeting?"
   ]
  },
  {
   "cell_type": "code",
   "execution_count": 13,
   "id": "5a6037a2",
   "metadata": {},
   "outputs": [
    {
     "name": "stdout",
     "output_type": "stream",
     "text": [
      "This function will greet You\n"
     ]
    }
   ],
   "source": [
    "print(greeting.__doc__)"
   ]
  },
  {
   "cell_type": "code",
   "execution_count": 14,
   "id": "7661d2d1",
   "metadata": {},
   "outputs": [],
   "source": [
    "def add(a,b):\n",
    "    \"\"\"This function will add two numbers\"\"\"\n",
    "    return a+b"
   ]
  },
  {
   "cell_type": "code",
   "execution_count": 15,
   "id": "7c6981cb",
   "metadata": {},
   "outputs": [
    {
     "data": {
      "text/plain": [
       "11"
      ]
     },
     "execution_count": 15,
     "metadata": {},
     "output_type": "execute_result"
    }
   ],
   "source": [
    "add(5,6)"
   ]
  },
  {
   "cell_type": "code",
   "execution_count": 17,
   "id": "8cae770d",
   "metadata": {},
   "outputs": [],
   "source": [
    "k  =add(10,212)"
   ]
  },
  {
   "cell_type": "code",
   "execution_count": 18,
   "id": "40846e43",
   "metadata": {},
   "outputs": [
    {
     "data": {
      "text/plain": [
       "222"
      ]
     },
     "execution_count": 18,
     "metadata": {},
     "output_type": "execute_result"
    }
   ],
   "source": [
    "k"
   ]
  },
  {
   "cell_type": "code",
   "execution_count": 19,
   "id": "24a04264",
   "metadata": {},
   "outputs": [
    {
     "name": "stdout",
     "output_type": "stream",
     "text": [
      "222\n"
     ]
    }
   ],
   "source": [
    "print(k)"
   ]
  },
  {
   "cell_type": "code",
   "execution_count": 20,
   "id": "d48f8633",
   "metadata": {},
   "outputs": [],
   "source": [
    "def product(lst):\n",
    "    \"\"\"\n",
    "    lst:this will be a list\n",
    "    result:it will provide product of all elements\n",
    "    \"\"\"\n",
    "    \n",
    "    p = 1\n",
    "    for i in lst:\n",
    "        p*=i\n",
    "        \n",
    "    return p"
   ]
  },
  {
   "cell_type": "code",
   "execution_count": 21,
   "id": "fec1aec6",
   "metadata": {},
   "outputs": [
    {
     "ename": "TypeError",
     "evalue": "'int' object is not iterable",
     "output_type": "error",
     "traceback": [
      "\u001b[1;31m---------------------------------------------------------------------------\u001b[0m",
      "\u001b[1;31mTypeError\u001b[0m                                 Traceback (most recent call last)",
      "\u001b[1;32m<ipython-input-21-c9dee4cf2e58>\u001b[0m in \u001b[0;36m<module>\u001b[1;34m\u001b[0m\n\u001b[1;32m----> 1\u001b[1;33m \u001b[0mproduct\u001b[0m\u001b[1;33m(\u001b[0m\u001b[1;36m8\u001b[0m\u001b[1;33m)\u001b[0m\u001b[1;33m\u001b[0m\u001b[1;33m\u001b[0m\u001b[0m\n\u001b[0m",
      "\u001b[1;32m<ipython-input-20-ac394f740075>\u001b[0m in \u001b[0;36mproduct\u001b[1;34m(lst)\u001b[0m\n\u001b[0;32m      6\u001b[0m \u001b[1;33m\u001b[0m\u001b[0m\n\u001b[0;32m      7\u001b[0m     \u001b[0mp\u001b[0m \u001b[1;33m=\u001b[0m \u001b[1;36m1\u001b[0m\u001b[1;33m\u001b[0m\u001b[1;33m\u001b[0m\u001b[0m\n\u001b[1;32m----> 8\u001b[1;33m     \u001b[1;32mfor\u001b[0m \u001b[0mi\u001b[0m \u001b[1;32min\u001b[0m \u001b[0mlst\u001b[0m\u001b[1;33m:\u001b[0m\u001b[1;33m\u001b[0m\u001b[1;33m\u001b[0m\u001b[0m\n\u001b[0m\u001b[0;32m      9\u001b[0m         \u001b[0mp\u001b[0m\u001b[1;33m*=\u001b[0m\u001b[0mi\u001b[0m\u001b[1;33m\u001b[0m\u001b[1;33m\u001b[0m\u001b[0m\n\u001b[0;32m     10\u001b[0m \u001b[1;33m\u001b[0m\u001b[0m\n",
      "\u001b[1;31mTypeError\u001b[0m: 'int' object is not iterable"
     ]
    }
   ],
   "source": [
    "product(8)"
   ]
  },
  {
   "cell_type": "code",
   "execution_count": 22,
   "id": "e072f949",
   "metadata": {},
   "outputs": [],
   "source": [
    "y = [4,5,6]"
   ]
  },
  {
   "cell_type": "code",
   "execution_count": 23,
   "id": "a9258d31",
   "metadata": {},
   "outputs": [
    {
     "data": {
      "text/plain": [
       "120"
      ]
     },
     "execution_count": 23,
     "metadata": {},
     "output_type": "execute_result"
    }
   ],
   "source": [
    "product(y)"
   ]
  },
  {
   "cell_type": "code",
   "execution_count": 24,
   "id": "8de24f17",
   "metadata": {},
   "outputs": [
    {
     "data": {
      "text/plain": [
       "3360"
      ]
     },
     "execution_count": 24,
     "metadata": {},
     "output_type": "execute_result"
    }
   ],
   "source": [
    "product([14,15,16])"
   ]
  },
  {
   "cell_type": "code",
   "execution_count": 31,
   "id": "ec6e270a",
   "metadata": {},
   "outputs": [],
   "source": [
    "def calculator(a,b):\n",
    "    \"\"\"This will calculate basic arithmetic operations\"\"\"\n",
    "    \n",
    "    p = a+b\n",
    "    q = a-b\n",
    "    r = a*b\n",
    "    s = a/b\n",
    "    \n",
    "    return {p,q,r,s}"
   ]
  },
  {
   "cell_type": "code",
   "execution_count": 32,
   "id": "64083043",
   "metadata": {},
   "outputs": [
    {
     "data": {
      "text/plain": [
       "{2.0, 3, 9, 18}"
      ]
     },
     "execution_count": 32,
     "metadata": {},
     "output_type": "execute_result"
    }
   ],
   "source": [
    "calculator(6,3)"
   ]
  },
  {
   "cell_type": "code",
   "execution_count": 33,
   "id": "28c011b9",
   "metadata": {},
   "outputs": [],
   "source": [
    "AGE = 24"
   ]
  },
  {
   "cell_type": "code",
   "execution_count": 34,
   "id": "fc70b76a",
   "metadata": {},
   "outputs": [],
   "source": [
    "age = 24"
   ]
  },
  {
   "cell_type": "code",
   "execution_count": 35,
   "id": "512d9487",
   "metadata": {},
   "outputs": [
    {
     "name": "stdout",
     "output_type": "stream",
     "text": [
      "24\n"
     ]
    }
   ],
   "source": [
    "print(age)"
   ]
  },
  {
   "cell_type": "code",
   "execution_count": 37,
   "id": "6f237c48",
   "metadata": {},
   "outputs": [
    {
     "data": {
      "text/plain": [
       "24"
      ]
     },
     "execution_count": 37,
     "metadata": {},
     "output_type": "execute_result"
    }
   ],
   "source": [
    "globals()['age']"
   ]
  },
  {
   "cell_type": "code",
   "execution_count": 38,
   "id": "a0d5dcf1",
   "metadata": {},
   "outputs": [
    {
     "data": {
      "text/plain": [
       "24"
      ]
     },
     "execution_count": 38,
     "metadata": {},
     "output_type": "execute_result"
    }
   ],
   "source": [
    "age"
   ]
  },
  {
   "cell_type": "code",
   "execution_count": 39,
   "id": "59fa7e33",
   "metadata": {},
   "outputs": [],
   "source": [
    "age = 30"
   ]
  },
  {
   "cell_type": "code",
   "execution_count": 40,
   "id": "dcb7af24",
   "metadata": {},
   "outputs": [
    {
     "data": {
      "text/plain": [
       "30"
      ]
     },
     "execution_count": 40,
     "metadata": {},
     "output_type": "execute_result"
    }
   ],
   "source": [
    "age"
   ]
  },
  {
   "cell_type": "code",
   "execution_count": 43,
   "id": "f4c3a103",
   "metadata": {},
   "outputs": [],
   "source": [
    "globals()['age'] = 40"
   ]
  },
  {
   "cell_type": "code",
   "execution_count": 44,
   "id": "c59d8a1e",
   "metadata": {},
   "outputs": [
    {
     "data": {
      "text/plain": [
       "40"
      ]
     },
     "execution_count": 44,
     "metadata": {},
     "output_type": "execute_result"
    }
   ],
   "source": [
    "age"
   ]
  },
  {
   "cell_type": "code",
   "execution_count": 45,
   "id": "535ddb90",
   "metadata": {},
   "outputs": [],
   "source": [
    "s = 100\n",
    "\n",
    "def test1():\n",
    "    a = 200\n",
    "    \n",
    "    print(s)\n",
    "    print(a)"
   ]
  },
  {
   "cell_type": "code",
   "execution_count": 46,
   "id": "265f0887",
   "metadata": {},
   "outputs": [
    {
     "name": "stdout",
     "output_type": "stream",
     "text": [
      "100\n"
     ]
    }
   ],
   "source": [
    "print(s)"
   ]
  },
  {
   "cell_type": "code",
   "execution_count": 47,
   "id": "85a26043",
   "metadata": {},
   "outputs": [
    {
     "name": "stdout",
     "output_type": "stream",
     "text": [
      "100\n",
      "200\n"
     ]
    }
   ],
   "source": [
    "test1()"
   ]
  },
  {
   "cell_type": "code",
   "execution_count": 48,
   "id": "0b07368a",
   "metadata": {},
   "outputs": [
    {
     "ename": "NameError",
     "evalue": "name 'a' is not defined",
     "output_type": "error",
     "traceback": [
      "\u001b[1;31m---------------------------------------------------------------------------\u001b[0m",
      "\u001b[1;31mNameError\u001b[0m                                 Traceback (most recent call last)",
      "\u001b[1;32m<ipython-input-48-bca0e2660b9f>\u001b[0m in \u001b[0;36m<module>\u001b[1;34m\u001b[0m\n\u001b[1;32m----> 1\u001b[1;33m \u001b[0mprint\u001b[0m\u001b[1;33m(\u001b[0m\u001b[0ma\u001b[0m\u001b[1;33m)\u001b[0m\u001b[1;33m\u001b[0m\u001b[1;33m\u001b[0m\u001b[0m\n\u001b[0m",
      "\u001b[1;31mNameError\u001b[0m: name 'a' is not defined"
     ]
    }
   ],
   "source": [
    "print(a)"
   ]
  },
  {
   "cell_type": "code",
   "execution_count": 49,
   "id": "ae01610f",
   "metadata": {},
   "outputs": [
    {
     "name": "stdout",
     "output_type": "stream",
     "text": [
      "100\n"
     ]
    }
   ],
   "source": [
    "print(s)"
   ]
  },
  {
   "cell_type": "code",
   "execution_count": 50,
   "id": "84928b1f",
   "metadata": {},
   "outputs": [],
   "source": [
    "s = 100\n",
    "\n",
    "def test2():\n",
    "    s = 200\n",
    "    \n",
    "    print(s)\n"
   ]
  },
  {
   "cell_type": "code",
   "execution_count": 51,
   "id": "a71da719",
   "metadata": {},
   "outputs": [
    {
     "name": "stdout",
     "output_type": "stream",
     "text": [
      "100\n"
     ]
    }
   ],
   "source": [
    "print(s)"
   ]
  },
  {
   "cell_type": "code",
   "execution_count": 52,
   "id": "3b46493a",
   "metadata": {},
   "outputs": [
    {
     "name": "stdout",
     "output_type": "stream",
     "text": [
      "200\n"
     ]
    }
   ],
   "source": [
    "test2()"
   ]
  },
  {
   "cell_type": "code",
   "execution_count": 53,
   "id": "9a04f336",
   "metadata": {},
   "outputs": [
    {
     "name": "stdout",
     "output_type": "stream",
     "text": [
      "100\n"
     ]
    }
   ],
   "source": [
    "print(s)"
   ]
  },
  {
   "cell_type": "code",
   "execution_count": 54,
   "id": "d5c675e4",
   "metadata": {},
   "outputs": [],
   "source": [
    "s = 100\n",
    "\n",
    "def test3():\n",
    "    global s\n",
    "    s = 2300\n",
    "    \n",
    "    print(s)"
   ]
  },
  {
   "cell_type": "code",
   "execution_count": 55,
   "id": "7ec1da69",
   "metadata": {},
   "outputs": [
    {
     "name": "stdout",
     "output_type": "stream",
     "text": [
      "100\n"
     ]
    }
   ],
   "source": [
    "print(s)"
   ]
  },
  {
   "cell_type": "code",
   "execution_count": 56,
   "id": "84140049",
   "metadata": {},
   "outputs": [
    {
     "name": "stdout",
     "output_type": "stream",
     "text": [
      "2300\n"
     ]
    }
   ],
   "source": [
    "test3()"
   ]
  },
  {
   "cell_type": "code",
   "execution_count": 57,
   "id": "9f2a2bba",
   "metadata": {},
   "outputs": [
    {
     "name": "stdout",
     "output_type": "stream",
     "text": [
      "2300\n"
     ]
    }
   ],
   "source": [
    "print(s)"
   ]
  },
  {
   "cell_type": "code",
   "execution_count": 59,
   "id": "e08589d6",
   "metadata": {},
   "outputs": [],
   "source": [
    "add1 =lambda x,y:x+y"
   ]
  },
  {
   "cell_type": "code",
   "execution_count": 60,
   "id": "895094a6",
   "metadata": {},
   "outputs": [
    {
     "data": {
      "text/plain": [
       "11"
      ]
     },
     "execution_count": 60,
     "metadata": {},
     "output_type": "execute_result"
    }
   ],
   "source": [
    "add1(5,6)"
   ]
  },
  {
   "cell_type": "code",
   "execution_count": 62,
   "id": "1334e82c",
   "metadata": {},
   "outputs": [
    {
     "data": {
      "text/plain": [
       "22"
      ]
     },
     "execution_count": 62,
     "metadata": {},
     "output_type": "execute_result"
    }
   ],
   "source": [
    "add1(10,12)"
   ]
  },
  {
   "cell_type": "code",
   "execution_count": 64,
   "id": "c4b401a7",
   "metadata": {},
   "outputs": [
    {
     "data": {
      "text/plain": [
       "30"
      ]
     },
     "execution_count": 64,
     "metadata": {},
     "output_type": "execute_result"
    }
   ],
   "source": [
    "(lambda a,s : a*s)(5,6)"
   ]
  },
  {
   "cell_type": "code",
   "execution_count": 67,
   "id": "20d1a6f7",
   "metadata": {},
   "outputs": [
    {
     "data": {
      "text/plain": [
       "0"
      ]
     },
     "execution_count": 67,
     "metadata": {},
     "output_type": "execute_result"
    }
   ],
   "source": [
    "(lambda a,b: a+b if a+b>0 else 0)(5,-10)"
   ]
  },
  {
   "cell_type": "code",
   "execution_count": 68,
   "id": "02d2104c",
   "metadata": {},
   "outputs": [],
   "source": [
    "p = [('prateek',5),('mohit',2),('abhi',6),('sanjay',1),('zoom',4),('pooja',3)]"
   ]
  },
  {
   "cell_type": "code",
   "execution_count": 69,
   "id": "7c94155f",
   "metadata": {},
   "outputs": [
    {
     "data": {
      "text/plain": [
       "[('prateek', 5),\n",
       " ('mohit', 2),\n",
       " ('abhi', 6),\n",
       " ('sanjay', 1),\n",
       " ('zoom', 4),\n",
       " ('pooja', 3)]"
      ]
     },
     "execution_count": 69,
     "metadata": {},
     "output_type": "execute_result"
    }
   ],
   "source": [
    "p"
   ]
  },
  {
   "cell_type": "code",
   "execution_count": 70,
   "id": "c8d3c793",
   "metadata": {},
   "outputs": [],
   "source": [
    "p.sort()"
   ]
  },
  {
   "cell_type": "code",
   "execution_count": 71,
   "id": "561fb8d8",
   "metadata": {},
   "outputs": [
    {
     "data": {
      "text/plain": [
       "[('abhi', 6),\n",
       " ('mohit', 2),\n",
       " ('pooja', 3),\n",
       " ('prateek', 5),\n",
       " ('sanjay', 1),\n",
       " ('zoom', 4)]"
      ]
     },
     "execution_count": 71,
     "metadata": {},
     "output_type": "execute_result"
    }
   ],
   "source": [
    "p"
   ]
  },
  {
   "cell_type": "code",
   "execution_count": 72,
   "id": "bdd2a203",
   "metadata": {},
   "outputs": [],
   "source": [
    "p.sort(reverse=True)"
   ]
  },
  {
   "cell_type": "code",
   "execution_count": 73,
   "id": "0498a68f",
   "metadata": {},
   "outputs": [
    {
     "data": {
      "text/plain": [
       "[('zoom', 4),\n",
       " ('sanjay', 1),\n",
       " ('prateek', 5),\n",
       " ('pooja', 3),\n",
       " ('mohit', 2),\n",
       " ('abhi', 6)]"
      ]
     },
     "execution_count": 73,
     "metadata": {},
     "output_type": "execute_result"
    }
   ],
   "source": [
    "p"
   ]
  },
  {
   "cell_type": "code",
   "execution_count": 74,
   "id": "1b3ad7c4",
   "metadata": {},
   "outputs": [],
   "source": [
    "p.sort(key=lambda x:x[1])"
   ]
  },
  {
   "cell_type": "code",
   "execution_count": 75,
   "id": "c20aeb58",
   "metadata": {},
   "outputs": [
    {
     "data": {
      "text/plain": [
       "[('sanjay', 1),\n",
       " ('mohit', 2),\n",
       " ('pooja', 3),\n",
       " ('zoom', 4),\n",
       " ('prateek', 5),\n",
       " ('abhi', 6)]"
      ]
     },
     "execution_count": 75,
     "metadata": {},
     "output_type": "execute_result"
    }
   ],
   "source": [
    "p"
   ]
  },
  {
   "cell_type": "code",
   "execution_count": null,
   "id": "294601cb",
   "metadata": {},
   "outputs": [],
   "source": []
  },
  {
   "cell_type": "code",
   "execution_count": 76,
   "id": "1ad5d26e",
   "metadata": {},
   "outputs": [],
   "source": [
    "#q lcm a,b"
   ]
  },
  {
   "cell_type": "code",
   "execution_count": 77,
   "id": "93d00b1f",
   "metadata": {},
   "outputs": [],
   "source": [
    "def LCM(a,b):\n",
    "    max_num = a if a>b else b\n",
    "    \n",
    "    while True:\n",
    "        if (max_num%a==0) and (max_num%b==0):\n",
    "            return max_num\n",
    "        else:\n",
    "            max_num+=1"
   ]
  },
  {
   "cell_type": "code",
   "execution_count": 78,
   "id": "8d27b4cd",
   "metadata": {},
   "outputs": [
    {
     "data": {
      "text/plain": [
       "15"
      ]
     },
     "execution_count": 78,
     "metadata": {},
     "output_type": "execute_result"
    }
   ],
   "source": [
    "LCM(3,5)"
   ]
  },
  {
   "cell_type": "code",
   "execution_count": 79,
   "id": "d430d9cc",
   "metadata": {},
   "outputs": [
    {
     "data": {
      "text/plain": [
       "16"
      ]
     },
     "execution_count": 79,
     "metadata": {},
     "output_type": "execute_result"
    }
   ],
   "source": [
    "LCM(4,16)"
   ]
  },
  {
   "cell_type": "code",
   "execution_count": 80,
   "id": "7d87b3fc",
   "metadata": {},
   "outputs": [
    {
     "data": {
      "text/plain": [
       "6"
      ]
     },
     "execution_count": 80,
     "metadata": {},
     "output_type": "execute_result"
    }
   ],
   "source": [
    "LCM(2,3)"
   ]
  },
  {
   "cell_type": "code",
   "execution_count": 81,
   "id": "2850ca9e",
   "metadata": {},
   "outputs": [],
   "source": [
    "def intro(name, nationality):\n",
    "    \"\"\"We are checking Positional Argumnets\"\"\"\n",
    "    print(f\"Hi my name is {name} and i am {nationality}\")"
   ]
  },
  {
   "cell_type": "code",
   "execution_count": 82,
   "id": "73248b85",
   "metadata": {},
   "outputs": [
    {
     "name": "stdout",
     "output_type": "stream",
     "text": [
      "Hi my name is sanjay and i am indian\n"
     ]
    }
   ],
   "source": [
    "intro('sanjay', 'indian')"
   ]
  },
  {
   "cell_type": "code",
   "execution_count": 83,
   "id": "a4634bb4",
   "metadata": {},
   "outputs": [
    {
     "ename": "TypeError",
     "evalue": "intro() missing 2 required positional arguments: 'name' and 'nationality'",
     "output_type": "error",
     "traceback": [
      "\u001b[1;31m---------------------------------------------------------------------------\u001b[0m",
      "\u001b[1;31mTypeError\u001b[0m                                 Traceback (most recent call last)",
      "\u001b[1;32m<ipython-input-83-ac7d260bc9da>\u001b[0m in \u001b[0;36m<module>\u001b[1;34m\u001b[0m\n\u001b[1;32m----> 1\u001b[1;33m \u001b[0mintro\u001b[0m\u001b[1;33m(\u001b[0m\u001b[1;33m)\u001b[0m\u001b[1;33m\u001b[0m\u001b[1;33m\u001b[0m\u001b[0m\n\u001b[0m",
      "\u001b[1;31mTypeError\u001b[0m: intro() missing 2 required positional arguments: 'name' and 'nationality'"
     ]
    }
   ],
   "source": [
    "intro()"
   ]
  },
  {
   "cell_type": "code",
   "execution_count": 84,
   "id": "562da33b",
   "metadata": {},
   "outputs": [
    {
     "name": "stdout",
     "output_type": "stream",
     "text": [
      "Hi my name is american and i am sanjay\n"
     ]
    }
   ],
   "source": [
    "intro('american', 'sanjay')"
   ]
  },
  {
   "cell_type": "code",
   "execution_count": null,
   "id": "3b9f4888",
   "metadata": {},
   "outputs": [],
   "source": []
  },
  {
   "cell_type": "code",
   "execution_count": 85,
   "id": "cafbdff2",
   "metadata": {},
   "outputs": [
    {
     "ename": "TypeError",
     "evalue": "intro() missing 1 required positional argument: 'nationality'",
     "output_type": "error",
     "traceback": [
      "\u001b[1;31m---------------------------------------------------------------------------\u001b[0m",
      "\u001b[1;31mTypeError\u001b[0m                                 Traceback (most recent call last)",
      "\u001b[1;32m<ipython-input-85-28966dc9b43d>\u001b[0m in \u001b[0;36m<module>\u001b[1;34m\u001b[0m\n\u001b[1;32m----> 1\u001b[1;33m \u001b[0mintro\u001b[0m\u001b[1;33m(\u001b[0m\u001b[1;34m'mohit'\u001b[0m\u001b[1;33m)\u001b[0m\u001b[1;33m\u001b[0m\u001b[1;33m\u001b[0m\u001b[0m\n\u001b[0m",
      "\u001b[1;31mTypeError\u001b[0m: intro() missing 1 required positional argument: 'nationality'"
     ]
    }
   ],
   "source": [
    "intro('mohit')"
   ]
  },
  {
   "cell_type": "code",
   "execution_count": 86,
   "id": "a8fb172c",
   "metadata": {},
   "outputs": [],
   "source": [
    "def intro(name, nationality = 'indian'):\n",
    "    \"\"\"We are checking Positional Argumnets\"\"\"\n",
    "    print(f\"Hi my name is {name} and i am {nationality}\")"
   ]
  },
  {
   "cell_type": "code",
   "execution_count": 87,
   "id": "6dcc58d8",
   "metadata": {},
   "outputs": [
    {
     "name": "stdout",
     "output_type": "stream",
     "text": [
      "Hi my name is rahul and i am indian\n"
     ]
    }
   ],
   "source": [
    "intro('rahul')"
   ]
  },
  {
   "cell_type": "code",
   "execution_count": 88,
   "id": "92b97578",
   "metadata": {},
   "outputs": [
    {
     "name": "stdout",
     "output_type": "stream",
     "text": [
      "Hi my name is rahul and i am australian\n"
     ]
    }
   ],
   "source": [
    "intro('rahul', 'australian')"
   ]
  },
  {
   "cell_type": "code",
   "execution_count": 89,
   "id": "8f04e77a",
   "metadata": {},
   "outputs": [],
   "source": [
    "def test4(a,b,c = 0):\n",
    "    pass"
   ]
  },
  {
   "cell_type": "code",
   "execution_count": 92,
   "id": "adc37449",
   "metadata": {},
   "outputs": [],
   "source": [
    "def new_func(*args):\n",
    "    print(args)\n",
    "    print(type(args))\n",
    "    \n",
    "    for i in args:\n",
    "        print(i)"
   ]
  },
  {
   "cell_type": "code",
   "execution_count": 93,
   "id": "7585701e",
   "metadata": {},
   "outputs": [
    {
     "name": "stdout",
     "output_type": "stream",
     "text": [
      "(45, 10, 20, 23, 'data', 'python', 'sql')\n",
      "<class 'tuple'>\n",
      "45\n",
      "10\n",
      "20\n",
      "23\n",
      "data\n",
      "python\n",
      "sql\n"
     ]
    }
   ],
   "source": [
    "new_func(45,10,20,23,'data', 'python', 'sql')"
   ]
  },
  {
   "cell_type": "code",
   "execution_count": 94,
   "id": "86475990",
   "metadata": {},
   "outputs": [
    {
     "name": "stdout",
     "output_type": "stream",
     "text": [
      "(45, 10, 30, 78, 'power', 'html', 'css')\n",
      "<class 'tuple'>\n",
      "45\n",
      "10\n",
      "30\n",
      "78\n",
      "power\n",
      "html\n",
      "css\n"
     ]
    }
   ],
   "source": [
    "new_func(45,10,30,78,'power', 'html', 'css')"
   ]
  },
  {
   "cell_type": "code",
   "execution_count": 101,
   "id": "f64b3cd2",
   "metadata": {},
   "outputs": [],
   "source": [
    "def testing(**kwargs):\n",
    "    print(kwargs)\n",
    "    print(type(kwargs))\n",
    "    \n",
    "    for k,v in kwargs.items():\n",
    "        print(k, \":\", v)"
   ]
  },
  {
   "cell_type": "code",
   "execution_count": 102,
   "id": "3b24ebe4",
   "metadata": {},
   "outputs": [
    {
     "name": "stdout",
     "output_type": "stream",
     "text": [
      "{'name': 'pooja', 'age': 25, 'nationality': 'indian', 'hobby': 'coding', 'company': 'google'}\n",
      "<class 'dict'>\n",
      "name : pooja\n",
      "age : 25\n",
      "nationality : indian\n",
      "hobby : coding\n",
      "company : google\n"
     ]
    }
   ],
   "source": [
    "testing(name = 'pooja', age = 25, nationality = 'indian', hobby = 'coding', company='google')"
   ]
  },
  {
   "cell_type": "code",
   "execution_count": 103,
   "id": "98331f39",
   "metadata": {},
   "outputs": [
    {
     "name": "stdout",
     "output_type": "stream",
     "text": [
      "{'name': 'rahul', 'age': 35, 'hobby': ['singing', 'dancoing']}\n",
      "<class 'dict'>\n",
      "name : rahul\n",
      "age : 35\n",
      "hobby : ['singing', 'dancoing']\n"
     ]
    }
   ],
   "source": [
    "testing(name = 'rahul', age = 35, hobby = ['singing', 'dancoing'])"
   ]
  },
  {
   "cell_type": "code",
   "execution_count": null,
   "id": "a45ee6b2",
   "metadata": {},
   "outputs": [],
   "source": []
  },
  {
   "cell_type": "code",
   "execution_count": 104,
   "id": "b581f266",
   "metadata": {},
   "outputs": [],
   "source": [
    "def combination(a,b,c,d = 18,*args,**kwargs):\n",
    "    print(a,b,c,d)\n",
    "    print(args)\n",
    "    print(kwargs)"
   ]
  },
  {
   "cell_type": "code",
   "execution_count": 106,
   "id": "f43b7ef0",
   "metadata": {},
   "outputs": [
    {
     "name": "stdout",
     "output_type": "stream",
     "text": [
      "10 20 30 40\n",
      "(50, 60, 70, 80, 90, 'python')\n",
      "{'p': 1500, 'q': 1600, 'r': 1700}\n"
     ]
    }
   ],
   "source": [
    "combination(10,20,30,40,50,60,70,80,90,'python',p= 1500, q = 1600, r= 1700)"
   ]
  },
  {
   "cell_type": "code",
   "execution_count": null,
   "id": "1cb7b588",
   "metadata": {},
   "outputs": [],
   "source": []
  },
  {
   "cell_type": "code",
   "execution_count": 107,
   "id": "7e86cd98",
   "metadata": {},
   "outputs": [],
   "source": [
    "#  Built-in Functions"
   ]
  },
  {
   "cell_type": "code",
   "execution_count": 108,
   "id": "e5b0f33a",
   "metadata": {},
   "outputs": [
    {
     "name": "stdout",
     "output_type": "stream",
     "text": [
      "100\n"
     ]
    }
   ],
   "source": [
    "print(100)"
   ]
  },
  {
   "cell_type": "code",
   "execution_count": 109,
   "id": "a6657332",
   "metadata": {},
   "outputs": [
    {
     "name": "stdout",
     "output_type": "stream",
     "text": [
      "20\n"
     ]
    }
   ],
   "source": [
    "print(20)"
   ]
  },
  {
   "cell_type": "code",
   "execution_count": 110,
   "id": "1d5c6263",
   "metadata": {},
   "outputs": [
    {
     "name": "stdout",
     "output_type": "stream",
     "text": [
      "python is fun\n"
     ]
    }
   ],
   "source": [
    "print('python is fun')"
   ]
  },
  {
   "cell_type": "code",
   "execution_count": 111,
   "id": "411e78bd",
   "metadata": {},
   "outputs": [
    {
     "data": {
      "text/plain": [
       "11"
      ]
     },
     "execution_count": 111,
     "metadata": {},
     "output_type": "execute_result"
    }
   ],
   "source": [
    "len('hello worls')"
   ]
  },
  {
   "cell_type": "code",
   "execution_count": 113,
   "id": "c0dfe211",
   "metadata": {},
   "outputs": [
    {
     "data": {
      "text/plain": [
       "[1, 2, 3, 4, 5, 6, 7, 8, 9, 10]"
      ]
     },
     "execution_count": 113,
     "metadata": {},
     "output_type": "execute_result"
    }
   ],
   "source": [
    "list(range(1,11))"
   ]
  },
  {
   "cell_type": "code",
   "execution_count": 114,
   "id": "790a77e5",
   "metadata": {},
   "outputs": [
    {
     "data": {
      "text/plain": [
       "12"
      ]
     },
     "execution_count": 114,
     "metadata": {},
     "output_type": "execute_result"
    }
   ],
   "source": [
    "abs(-12)"
   ]
  },
  {
   "cell_type": "code",
   "execution_count": 117,
   "id": "de0891ab",
   "metadata": {},
   "outputs": [
    {
     "data": {
      "text/plain": [
       "12.23655"
      ]
     },
     "execution_count": 117,
     "metadata": {},
     "output_type": "execute_result"
    }
   ],
   "source": [
    "round(12.23654879,5)"
   ]
  },
  {
   "cell_type": "code",
   "execution_count": 118,
   "id": "d04c4ee6",
   "metadata": {},
   "outputs": [],
   "source": [
    "#all"
   ]
  },
  {
   "cell_type": "code",
   "execution_count": 119,
   "id": "30b13403",
   "metadata": {},
   "outputs": [],
   "source": [
    "#any"
   ]
  },
  {
   "cell_type": "code",
   "execution_count": 120,
   "id": "8aa5a172",
   "metadata": {},
   "outputs": [],
   "source": [
    "s = [1,2,3]"
   ]
  },
  {
   "cell_type": "code",
   "execution_count": 121,
   "id": "b59324c0",
   "metadata": {},
   "outputs": [
    {
     "data": {
      "text/plain": [
       "True"
      ]
     },
     "execution_count": 121,
     "metadata": {},
     "output_type": "execute_result"
    }
   ],
   "source": [
    "all(s)"
   ]
  },
  {
   "cell_type": "code",
   "execution_count": 122,
   "id": "c30d06ca",
   "metadata": {},
   "outputs": [
    {
     "data": {
      "text/plain": [
       "True"
      ]
     },
     "execution_count": 122,
     "metadata": {},
     "output_type": "execute_result"
    }
   ],
   "source": [
    "any(s)"
   ]
  },
  {
   "cell_type": "code",
   "execution_count": 123,
   "id": "8968540c",
   "metadata": {},
   "outputs": [],
   "source": [
    "s = [1,2,3,0]"
   ]
  },
  {
   "cell_type": "code",
   "execution_count": 124,
   "id": "bcb42faa",
   "metadata": {},
   "outputs": [
    {
     "data": {
      "text/plain": [
       "False"
      ]
     },
     "execution_count": 124,
     "metadata": {},
     "output_type": "execute_result"
    }
   ],
   "source": [
    "all(s)"
   ]
  },
  {
   "cell_type": "code",
   "execution_count": 125,
   "id": "2717ab88",
   "metadata": {},
   "outputs": [
    {
     "data": {
      "text/plain": [
       "True"
      ]
     },
     "execution_count": 125,
     "metadata": {},
     "output_type": "execute_result"
    }
   ],
   "source": [
    "any(s)"
   ]
  },
  {
   "cell_type": "code",
   "execution_count": 126,
   "id": "94eb591f",
   "metadata": {},
   "outputs": [],
   "source": [
    "d = [1,2,-1]"
   ]
  },
  {
   "cell_type": "code",
   "execution_count": 127,
   "id": "22af3b2a",
   "metadata": {},
   "outputs": [
    {
     "data": {
      "text/plain": [
       "True"
      ]
     },
     "execution_count": 127,
     "metadata": {},
     "output_type": "execute_result"
    }
   ],
   "source": [
    "all(d)"
   ]
  },
  {
   "cell_type": "code",
   "execution_count": 128,
   "id": "8c6f5f0e",
   "metadata": {},
   "outputs": [],
   "source": [
    "h = [-5,-6,-7]"
   ]
  },
  {
   "cell_type": "code",
   "execution_count": 129,
   "id": "aa1ca37a",
   "metadata": {},
   "outputs": [
    {
     "data": {
      "text/plain": [
       "True"
      ]
     },
     "execution_count": 129,
     "metadata": {},
     "output_type": "execute_result"
    }
   ],
   "source": [
    "all(h)"
   ]
  },
  {
   "cell_type": "code",
   "execution_count": 130,
   "id": "73f9a847",
   "metadata": {},
   "outputs": [
    {
     "data": {
      "text/plain": [
       "True"
      ]
     },
     "execution_count": 130,
     "metadata": {},
     "output_type": "execute_result"
    }
   ],
   "source": [
    "any(h)"
   ]
  },
  {
   "cell_type": "code",
   "execution_count": 131,
   "id": "567dc6fd",
   "metadata": {},
   "outputs": [
    {
     "data": {
      "text/plain": [
       "True"
      ]
     },
     "execution_count": 131,
     "metadata": {},
     "output_type": "execute_result"
    }
   ],
   "source": [
    "any(d)"
   ]
  },
  {
   "cell_type": "code",
   "execution_count": 132,
   "id": "e75f18ed",
   "metadata": {},
   "outputs": [],
   "source": [
    "w = []"
   ]
  },
  {
   "cell_type": "code",
   "execution_count": 133,
   "id": "4a71958c",
   "metadata": {},
   "outputs": [
    {
     "data": {
      "text/plain": [
       "True"
      ]
     },
     "execution_count": 133,
     "metadata": {},
     "output_type": "execute_result"
    }
   ],
   "source": [
    "all(w)"
   ]
  },
  {
   "cell_type": "code",
   "execution_count": 134,
   "id": "93bb1d09",
   "metadata": {},
   "outputs": [],
   "source": [
    "s = []"
   ]
  },
  {
   "cell_type": "code",
   "execution_count": 135,
   "id": "5b43cbc3",
   "metadata": {},
   "outputs": [
    {
     "data": {
      "text/plain": [
       "False"
      ]
     },
     "execution_count": 135,
     "metadata": {},
     "output_type": "execute_result"
    }
   ],
   "source": [
    "any(s)"
   ]
  },
  {
   "cell_type": "code",
   "execution_count": 136,
   "id": "b7f3d913",
   "metadata": {},
   "outputs": [
    {
     "data": {
      "text/plain": [
       "[]"
      ]
     },
     "execution_count": 136,
     "metadata": {},
     "output_type": "execute_result"
    }
   ],
   "source": [
    "s"
   ]
  },
  {
   "cell_type": "code",
   "execution_count": 137,
   "id": "b4eb17f6",
   "metadata": {},
   "outputs": [
    {
     "data": {
      "text/plain": [
       "[-5, -6, -7]"
      ]
     },
     "execution_count": 137,
     "metadata": {},
     "output_type": "execute_result"
    }
   ],
   "source": [
    "h"
   ]
  },
  {
   "cell_type": "code",
   "execution_count": 138,
   "id": "748fe0b0",
   "metadata": {},
   "outputs": [
    {
     "data": {
      "text/plain": [
       "list"
      ]
     },
     "execution_count": 138,
     "metadata": {},
     "output_type": "execute_result"
    }
   ],
   "source": [
    "type(h)"
   ]
  },
  {
   "cell_type": "code",
   "execution_count": 139,
   "id": "95a91ac2",
   "metadata": {},
   "outputs": [
    {
     "data": {
      "text/plain": [
       "[-5, -6, -7]"
      ]
     },
     "execution_count": 139,
     "metadata": {},
     "output_type": "execute_result"
    }
   ],
   "source": [
    "h"
   ]
  },
  {
   "cell_type": "code",
   "execution_count": 141,
   "id": "9b65dfd8",
   "metadata": {},
   "outputs": [
    {
     "name": "stdout",
     "output_type": "stream",
     "text": [
      "['__add__', '__class__', '__contains__', '__delattr__', '__delitem__', '__dir__', '__doc__', '__eq__', '__format__', '__ge__', '__getattribute__', '__getitem__', '__gt__', '__hash__', '__iadd__', '__imul__', '__init__', '__init_subclass__', '__iter__', '__le__', '__len__', '__lt__', '__mul__', '__ne__', '__new__', '__reduce__', '__reduce_ex__', '__repr__', '__reversed__', '__rmul__', '__setattr__', '__setitem__', '__sizeof__', '__str__', '__subclasshook__', 'append', 'clear', 'copy', 'count', 'extend', 'index', 'insert', 'pop', 'remove', 'reverse', 'sort']\n"
     ]
    }
   ],
   "source": [
    "print(dir(h))"
   ]
  },
  {
   "cell_type": "code",
   "execution_count": 142,
   "id": "8bf02796",
   "metadata": {},
   "outputs": [],
   "source": [
    "a  =\"hello\""
   ]
  },
  {
   "cell_type": "code",
   "execution_count": 143,
   "id": "f7371a79",
   "metadata": {},
   "outputs": [
    {
     "data": {
      "text/plain": [
       "['__add__',\n",
       " '__class__',\n",
       " '__contains__',\n",
       " '__delattr__',\n",
       " '__dir__',\n",
       " '__doc__',\n",
       " '__eq__',\n",
       " '__format__',\n",
       " '__ge__',\n",
       " '__getattribute__',\n",
       " '__getitem__',\n",
       " '__getnewargs__',\n",
       " '__gt__',\n",
       " '__hash__',\n",
       " '__init__',\n",
       " '__init_subclass__',\n",
       " '__iter__',\n",
       " '__le__',\n",
       " '__len__',\n",
       " '__lt__',\n",
       " '__mod__',\n",
       " '__mul__',\n",
       " '__ne__',\n",
       " '__new__',\n",
       " '__reduce__',\n",
       " '__reduce_ex__',\n",
       " '__repr__',\n",
       " '__rmod__',\n",
       " '__rmul__',\n",
       " '__setattr__',\n",
       " '__sizeof__',\n",
       " '__str__',\n",
       " '__subclasshook__',\n",
       " 'capitalize',\n",
       " 'casefold',\n",
       " 'center',\n",
       " 'count',\n",
       " 'encode',\n",
       " 'endswith',\n",
       " 'expandtabs',\n",
       " 'find',\n",
       " 'format',\n",
       " 'format_map',\n",
       " 'index',\n",
       " 'isalnum',\n",
       " 'isalpha',\n",
       " 'isascii',\n",
       " 'isdecimal',\n",
       " 'isdigit',\n",
       " 'isidentifier',\n",
       " 'islower',\n",
       " 'isnumeric',\n",
       " 'isprintable',\n",
       " 'isspace',\n",
       " 'istitle',\n",
       " 'isupper',\n",
       " 'join',\n",
       " 'ljust',\n",
       " 'lower',\n",
       " 'lstrip',\n",
       " 'maketrans',\n",
       " 'partition',\n",
       " 'replace',\n",
       " 'rfind',\n",
       " 'rindex',\n",
       " 'rjust',\n",
       " 'rpartition',\n",
       " 'rsplit',\n",
       " 'rstrip',\n",
       " 'split',\n",
       " 'splitlines',\n",
       " 'startswith',\n",
       " 'strip',\n",
       " 'swapcase',\n",
       " 'title',\n",
       " 'translate',\n",
       " 'upper',\n",
       " 'zfill']"
      ]
     },
     "execution_count": 143,
     "metadata": {},
     "output_type": "execute_result"
    }
   ],
   "source": [
    "dir(a)"
   ]
  },
  {
   "cell_type": "code",
   "execution_count": 144,
   "id": "9a073730",
   "metadata": {},
   "outputs": [],
   "source": [
    "lst =  ['html', 'css', 'python', 'bootstrap', 'django']"
   ]
  },
  {
   "cell_type": "code",
   "execution_count": 145,
   "id": "29d186e2",
   "metadata": {},
   "outputs": [
    {
     "data": {
      "text/plain": [
       "list"
      ]
     },
     "execution_count": 145,
     "metadata": {},
     "output_type": "execute_result"
    }
   ],
   "source": [
    "type(lst)"
   ]
  },
  {
   "cell_type": "code",
   "execution_count": 149,
   "id": "1faffacd",
   "metadata": {},
   "outputs": [
    {
     "name": "stdout",
     "output_type": "stream",
     "text": [
      "50 : html\n",
      "51 : css\n",
      "52 : python\n",
      "53 : bootstrap\n",
      "54 : django\n"
     ]
    }
   ],
   "source": [
    "for idx,i in enumerate(lst, start=50):\n",
    "    print(idx,\":\",i)"
   ]
  },
  {
   "cell_type": "code",
   "execution_count": null,
   "id": "a3070cd6",
   "metadata": {},
   "outputs": [],
   "source": []
  },
  {
   "cell_type": "code",
   "execution_count": 150,
   "id": "8f80c4d7",
   "metadata": {},
   "outputs": [],
   "source": [
    "lst = [4,5,10,12,13,18,19,14,16]"
   ]
  },
  {
   "cell_type": "code",
   "execution_count": 151,
   "id": "36857668",
   "metadata": {},
   "outputs": [
    {
     "data": {
      "text/plain": [
       "19"
      ]
     },
     "execution_count": 151,
     "metadata": {},
     "output_type": "execute_result"
    }
   ],
   "source": [
    "max(lst)"
   ]
  },
  {
   "cell_type": "code",
   "execution_count": 152,
   "id": "41b7388a",
   "metadata": {},
   "outputs": [
    {
     "data": {
      "text/plain": [
       "4"
      ]
     },
     "execution_count": 152,
     "metadata": {},
     "output_type": "execute_result"
    }
   ],
   "source": [
    "min(lst)"
   ]
  },
  {
   "cell_type": "code",
   "execution_count": 153,
   "id": "aa6d9506",
   "metadata": {},
   "outputs": [
    {
     "data": {
      "text/plain": [
       "111"
      ]
     },
     "execution_count": 153,
     "metadata": {},
     "output_type": "execute_result"
    }
   ],
   "source": [
    "sum(lst)"
   ]
  },
  {
   "cell_type": "code",
   "execution_count": 157,
   "id": "b0b0fcce",
   "metadata": {},
   "outputs": [],
   "source": [
    "average = round(sum(lst)/len(lst),2)"
   ]
  },
  {
   "cell_type": "code",
   "execution_count": 158,
   "id": "3039789a",
   "metadata": {},
   "outputs": [],
   "source": [
    "# map, reduce and filter"
   ]
  },
  {
   "cell_type": "code",
   "execution_count": 159,
   "id": "b2960adb",
   "metadata": {},
   "outputs": [
    {
     "data": {
      "text/plain": [
       "[4, 5, 10, 12, 13, 18, 19, 14, 16]"
      ]
     },
     "execution_count": 159,
     "metadata": {},
     "output_type": "execute_result"
    }
   ],
   "source": [
    "lst"
   ]
  },
  {
   "cell_type": "code",
   "execution_count": 161,
   "id": "187b3bac",
   "metadata": {},
   "outputs": [],
   "source": [
    "a = []\n",
    "for i in lst:\n",
    "    a.append(i+1)"
   ]
  },
  {
   "cell_type": "code",
   "execution_count": 162,
   "id": "ef900d61",
   "metadata": {},
   "outputs": [
    {
     "data": {
      "text/plain": [
       "[5, 6, 11, 13, 14, 19, 20, 15, 17]"
      ]
     },
     "execution_count": 162,
     "metadata": {},
     "output_type": "execute_result"
    }
   ],
   "source": [
    "a"
   ]
  },
  {
   "cell_type": "code",
   "execution_count": 163,
   "id": "0e8125c1",
   "metadata": {},
   "outputs": [],
   "source": [
    "def add_one(a):\n",
    "    return a+1"
   ]
  },
  {
   "cell_type": "code",
   "execution_count": 164,
   "id": "2f8f02dd",
   "metadata": {},
   "outputs": [
    {
     "data": {
      "text/plain": [
       "101"
      ]
     },
     "execution_count": 164,
     "metadata": {},
     "output_type": "execute_result"
    }
   ],
   "source": [
    "add_one(100)"
   ]
  },
  {
   "cell_type": "code",
   "execution_count": 165,
   "id": "f5fa8023",
   "metadata": {},
   "outputs": [
    {
     "data": {
      "text/plain": [
       "201"
      ]
     },
     "execution_count": 165,
     "metadata": {},
     "output_type": "execute_result"
    }
   ],
   "source": [
    "add_one(200)"
   ]
  },
  {
   "cell_type": "code",
   "execution_count": 166,
   "id": "a47b7426",
   "metadata": {},
   "outputs": [
    {
     "data": {
      "text/plain": [
       "[4, 5, 10, 12, 13, 18, 19, 14, 16]"
      ]
     },
     "execution_count": 166,
     "metadata": {},
     "output_type": "execute_result"
    }
   ],
   "source": [
    "lst"
   ]
  },
  {
   "cell_type": "code",
   "execution_count": null,
   "id": "7c7fd023",
   "metadata": {},
   "outputs": [],
   "source": []
  },
  {
   "cell_type": "code",
   "execution_count": 168,
   "id": "9c86670d",
   "metadata": {},
   "outputs": [
    {
     "data": {
      "text/plain": [
       "[5, 6, 11, 13, 14, 19, 20, 15, 17]"
      ]
     },
     "execution_count": 168,
     "metadata": {},
     "output_type": "execute_result"
    }
   ],
   "source": [
    "list(map(add_one, lst))"
   ]
  },
  {
   "cell_type": "code",
   "execution_count": null,
   "id": "a072decb",
   "metadata": {},
   "outputs": [],
   "source": []
  },
  {
   "cell_type": "code",
   "execution_count": 170,
   "id": "4b655e19",
   "metadata": {},
   "outputs": [
    {
     "data": {
      "text/plain": [
       "(5, 6, 11, 13, 14, 19, 20, 15, 17)"
      ]
     },
     "execution_count": 170,
     "metadata": {},
     "output_type": "execute_result"
    }
   ],
   "source": [
    "tuple(map(lambda x:x+1, lst))"
   ]
  },
  {
   "cell_type": "code",
   "execution_count": null,
   "id": "c03e06c2",
   "metadata": {},
   "outputs": [],
   "source": []
  },
  {
   "cell_type": "code",
   "execution_count": 171,
   "id": "b14313a9",
   "metadata": {},
   "outputs": [],
   "source": [
    "# filetree"
   ]
  },
  {
   "cell_type": "code",
   "execution_count": 172,
   "id": "2eb23d2c",
   "metadata": {},
   "outputs": [
    {
     "data": {
      "text/plain": [
       "[4, 5, 10, 12, 13, 18, 19, 14, 16]"
      ]
     },
     "execution_count": 172,
     "metadata": {},
     "output_type": "execute_result"
    }
   ],
   "source": [
    "lst"
   ]
  },
  {
   "cell_type": "code",
   "execution_count": 173,
   "id": "d9392bf5",
   "metadata": {},
   "outputs": [],
   "source": [
    "a = []\n",
    "for i in lst:\n",
    "    if i%2==0:\n",
    "        a.append(i)"
   ]
  },
  {
   "cell_type": "code",
   "execution_count": 174,
   "id": "3e2aa810",
   "metadata": {},
   "outputs": [
    {
     "data": {
      "text/plain": [
       "[4, 10, 12, 18, 14, 16]"
      ]
     },
     "execution_count": 174,
     "metadata": {},
     "output_type": "execute_result"
    }
   ],
   "source": [
    "a"
   ]
  },
  {
   "cell_type": "code",
   "execution_count": 175,
   "id": "1631f539",
   "metadata": {},
   "outputs": [],
   "source": [
    "def even_chekc(d):\n",
    "    return d%2==0"
   ]
  },
  {
   "cell_type": "code",
   "execution_count": 176,
   "id": "bacb25e7",
   "metadata": {},
   "outputs": [
    {
     "data": {
      "text/plain": [
       "True"
      ]
     },
     "execution_count": 176,
     "metadata": {},
     "output_type": "execute_result"
    }
   ],
   "source": [
    "even_chekc(10)"
   ]
  },
  {
   "cell_type": "code",
   "execution_count": 177,
   "id": "9422da0f",
   "metadata": {},
   "outputs": [
    {
     "data": {
      "text/plain": [
       "True"
      ]
     },
     "execution_count": 177,
     "metadata": {},
     "output_type": "execute_result"
    }
   ],
   "source": [
    "even_chekc(12)"
   ]
  },
  {
   "cell_type": "code",
   "execution_count": 178,
   "id": "dcae491c",
   "metadata": {},
   "outputs": [
    {
     "data": {
      "text/plain": [
       "False"
      ]
     },
     "execution_count": 178,
     "metadata": {},
     "output_type": "execute_result"
    }
   ],
   "source": [
    "even_chekc(15)"
   ]
  },
  {
   "cell_type": "code",
   "execution_count": 179,
   "id": "996e0ae7",
   "metadata": {},
   "outputs": [
    {
     "data": {
      "text/plain": [
       "[4, 5, 10, 12, 13, 18, 19, 14, 16]"
      ]
     },
     "execution_count": 179,
     "metadata": {},
     "output_type": "execute_result"
    }
   ],
   "source": [
    "lst"
   ]
  },
  {
   "cell_type": "code",
   "execution_count": 181,
   "id": "e414212d",
   "metadata": {},
   "outputs": [
    {
     "data": {
      "text/plain": [
       "{4, 10, 12, 14, 16, 18}"
      ]
     },
     "execution_count": 181,
     "metadata": {},
     "output_type": "execute_result"
    }
   ],
   "source": [
    "set(filter(even_chekc, lst))"
   ]
  },
  {
   "cell_type": "code",
   "execution_count": null,
   "id": "32ad7f4a",
   "metadata": {},
   "outputs": [],
   "source": []
  },
  {
   "cell_type": "code",
   "execution_count": 183,
   "id": "4e9d4591",
   "metadata": {},
   "outputs": [
    {
     "data": {
      "text/plain": [
       "[4, 10, 12, 18, 14, 16]"
      ]
     },
     "execution_count": 183,
     "metadata": {},
     "output_type": "execute_result"
    }
   ],
   "source": [
    "list(filter(lambda s:s%2==0, lst))"
   ]
  },
  {
   "cell_type": "code",
   "execution_count": null,
   "id": "a9fe8e6f",
   "metadata": {},
   "outputs": [],
   "source": []
  },
  {
   "cell_type": "code",
   "execution_count": 184,
   "id": "e3ed9c82",
   "metadata": {},
   "outputs": [],
   "source": [
    "from functools import reduce"
   ]
  },
  {
   "cell_type": "code",
   "execution_count": 185,
   "id": "f76e2732",
   "metadata": {},
   "outputs": [
    {
     "data": {
      "text/plain": [
       "[4, 5, 10, 12, 13, 18, 19, 14, 16]"
      ]
     },
     "execution_count": 185,
     "metadata": {},
     "output_type": "execute_result"
    }
   ],
   "source": [
    "lst"
   ]
  },
  {
   "cell_type": "code",
   "execution_count": 188,
   "id": "b3fdcefa",
   "metadata": {},
   "outputs": [],
   "source": [
    "def product(lst):\n",
    "    k = 1\n",
    "    \n",
    "    for i in lst:\n",
    "        k*=i\n",
    "        \n",
    "    return k"
   ]
  },
  {
   "cell_type": "code",
   "execution_count": 189,
   "id": "805a013f",
   "metadata": {},
   "outputs": [
    {
     "data": {
      "text/plain": [
       "2390169600"
      ]
     },
     "execution_count": 189,
     "metadata": {},
     "output_type": "execute_result"
    }
   ],
   "source": [
    "product(lst)"
   ]
  },
  {
   "cell_type": "code",
   "execution_count": 190,
   "id": "e072d696",
   "metadata": {},
   "outputs": [
    {
     "data": {
      "text/plain": [
       "2390169600"
      ]
     },
     "execution_count": 190,
     "metadata": {},
     "output_type": "execute_result"
    }
   ],
   "source": [
    "reduce(lambda x,y:x*y, lst)"
   ]
  },
  {
   "cell_type": "code",
   "execution_count": 193,
   "id": "ee6d8fc4",
   "metadata": {},
   "outputs": [],
   "source": [
    "def multiply(a,b):\n",
    "    return a*b"
   ]
  },
  {
   "cell_type": "code",
   "execution_count": 194,
   "id": "a90cfbdf",
   "metadata": {},
   "outputs": [
    {
     "data": {
      "text/plain": [
       "40"
      ]
     },
     "execution_count": 194,
     "metadata": {},
     "output_type": "execute_result"
    }
   ],
   "source": [
    "multiply(5,8)"
   ]
  },
  {
   "cell_type": "code",
   "execution_count": 195,
   "id": "dc4e625b",
   "metadata": {},
   "outputs": [
    {
     "data": {
      "text/plain": [
       "2390169600"
      ]
     },
     "execution_count": 195,
     "metadata": {},
     "output_type": "execute_result"
    }
   ],
   "source": [
    "reduce(multiply, lst)"
   ]
  },
  {
   "cell_type": "code",
   "execution_count": 196,
   "id": "6de450f9",
   "metadata": {},
   "outputs": [],
   "source": [
    "#built in modules"
   ]
  },
  {
   "cell_type": "code",
   "execution_count": 197,
   "id": "aeae2523",
   "metadata": {},
   "outputs": [],
   "source": [
    "import math"
   ]
  },
  {
   "cell_type": "code",
   "execution_count": 199,
   "id": "e7c1fe96",
   "metadata": {},
   "outputs": [
    {
     "name": "stdout",
     "output_type": "stream",
     "text": [
      "['__doc__', '__loader__', '__name__', '__package__', '__spec__', 'acos', 'acosh', 'asin', 'asinh', 'atan', 'atan2', 'atanh', 'ceil', 'comb', 'copysign', 'cos', 'cosh', 'degrees', 'dist', 'e', 'erf', 'erfc', 'exp', 'expm1', 'fabs', 'factorial', 'floor', 'fmod', 'frexp', 'fsum', 'gamma', 'gcd', 'hypot', 'inf', 'isclose', 'isfinite', 'isinf', 'isnan', 'isqrt', 'ldexp', 'lgamma', 'log', 'log10', 'log1p', 'log2', 'modf', 'nan', 'perm', 'pi', 'pow', 'prod', 'radians', 'remainder', 'sin', 'sinh', 'sqrt', 'tan', 'tanh', 'tau', 'trunc']\n"
     ]
    }
   ],
   "source": [
    "print(dir(math))"
   ]
  },
  {
   "cell_type": "code",
   "execution_count": 200,
   "id": "3d8bdcc8",
   "metadata": {},
   "outputs": [
    {
     "data": {
      "text/plain": [
       "3.141592653589793"
      ]
     },
     "execution_count": 200,
     "metadata": {},
     "output_type": "execute_result"
    }
   ],
   "source": [
    "math.pi"
   ]
  },
  {
   "cell_type": "code",
   "execution_count": 202,
   "id": "cc09992b",
   "metadata": {},
   "outputs": [
    {
     "data": {
      "text/plain": [
       "8.0"
      ]
     },
     "execution_count": 202,
     "metadata": {},
     "output_type": "execute_result"
    }
   ],
   "source": [
    "math.pow(2,3)"
   ]
  },
  {
   "cell_type": "code",
   "execution_count": 203,
   "id": "8083c569",
   "metadata": {},
   "outputs": [
    {
     "data": {
      "text/plain": [
       "120"
      ]
     },
     "execution_count": 203,
     "metadata": {},
     "output_type": "execute_result"
    }
   ],
   "source": [
    "math.factorial(5)"
   ]
  },
  {
   "cell_type": "code",
   "execution_count": 204,
   "id": "f6a08b26",
   "metadata": {},
   "outputs": [
    {
     "data": {
      "text/plain": [
       "-0.5440211108893698"
      ]
     },
     "execution_count": 204,
     "metadata": {},
     "output_type": "execute_result"
    }
   ],
   "source": [
    "math.sin(10)"
   ]
  },
  {
   "cell_type": "code",
   "execution_count": 205,
   "id": "b99c341e",
   "metadata": {},
   "outputs": [
    {
     "data": {
      "text/plain": [
       "3"
      ]
     },
     "execution_count": 205,
     "metadata": {},
     "output_type": "execute_result"
    }
   ],
   "source": [
    "math.ceil(2.6)"
   ]
  },
  {
   "cell_type": "code",
   "execution_count": 206,
   "id": "3d99aa2d",
   "metadata": {},
   "outputs": [
    {
     "data": {
      "text/plain": [
       "3"
      ]
     },
     "execution_count": 206,
     "metadata": {},
     "output_type": "execute_result"
    }
   ],
   "source": [
    "math.ceil(2.1)"
   ]
  },
  {
   "cell_type": "code",
   "execution_count": 207,
   "id": "4989d35b",
   "metadata": {},
   "outputs": [],
   "source": [
    "import random"
   ]
  },
  {
   "cell_type": "code",
   "execution_count": 212,
   "id": "c397df48",
   "metadata": {},
   "outputs": [
    {
     "data": {
      "text/plain": [
       "3"
      ]
     },
     "execution_count": 212,
     "metadata": {},
     "output_type": "execute_result"
    }
   ],
   "source": [
    "random.randint(1,10)"
   ]
  },
  {
   "cell_type": "code",
   "execution_count": 236,
   "id": "198bd066",
   "metadata": {},
   "outputs": [
    {
     "data": {
      "text/plain": [
       "56.28"
      ]
     },
     "execution_count": 236,
     "metadata": {},
     "output_type": "execute_result"
    }
   ],
   "source": [
    "round(random.random()*50,2)+10"
   ]
  },
  {
   "cell_type": "code",
   "execution_count": null,
   "id": "f26d70c4",
   "metadata": {},
   "outputs": [],
   "source": []
  },
  {
   "cell_type": "code",
   "execution_count": 237,
   "id": "e95b4eb5",
   "metadata": {},
   "outputs": [],
   "source": [
    "import os"
   ]
  },
  {
   "cell_type": "code",
   "execution_count": 239,
   "id": "883c7fa1",
   "metadata": {},
   "outputs": [
    {
     "name": "stdout",
     "output_type": "stream",
     "text": [
      "['DirEntry', 'F_OK', 'MutableMapping', 'O_APPEND', 'O_BINARY', 'O_CREAT', 'O_EXCL', 'O_NOINHERIT', 'O_RANDOM', 'O_RDONLY', 'O_RDWR', 'O_SEQUENTIAL', 'O_SHORT_LIVED', 'O_TEMPORARY', 'O_TEXT', 'O_TRUNC', 'O_WRONLY', 'P_DETACH', 'P_NOWAIT', 'P_NOWAITO', 'P_OVERLAY', 'P_WAIT', 'PathLike', 'R_OK', 'SEEK_CUR', 'SEEK_END', 'SEEK_SET', 'TMP_MAX', 'W_OK', 'X_OK', '_AddedDllDirectory', '_Environ', '__all__', '__builtins__', '__cached__', '__doc__', '__file__', '__loader__', '__name__', '__package__', '__spec__', '_check_methods', '_execvpe', '_exists', '_exit', '_fspath', '_get_exports_list', '_putenv', '_unsetenv', '_wrap_close', 'abc', 'abort', 'access', 'add_dll_directory', 'altsep', 'chdir', 'chmod', 'close', 'closerange', 'cpu_count', 'curdir', 'defpath', 'device_encoding', 'devnull', 'dup', 'dup2', 'environ', 'error', 'execl', 'execle', 'execlp', 'execlpe', 'execv', 'execve', 'execvp', 'execvpe', 'extsep', 'fdopen', 'fsdecode', 'fsencode', 'fspath', 'fstat', 'fsync', 'ftruncate', 'get_exec_path', 'get_handle_inheritable', 'get_inheritable', 'get_terminal_size', 'getcwd', 'getcwdb', 'getenv', 'getlogin', 'getpid', 'getppid', 'isatty', 'kill', 'linesep', 'link', 'listdir', 'lseek', 'lstat', 'makedirs', 'mkdir', 'name', 'open', 'pardir', 'path', 'pathsep', 'pipe', 'popen', 'putenv', 'read', 'readlink', 'remove', 'removedirs', 'rename', 'renames', 'replace', 'rmdir', 'scandir', 'sep', 'set_handle_inheritable', 'set_inheritable', 'spawnl', 'spawnle', 'spawnv', 'spawnve', 'st', 'startfile', 'stat', 'stat_result', 'statvfs_result', 'strerror', 'supports_bytes_environ', 'supports_dir_fd', 'supports_effective_ids', 'supports_fd', 'supports_follow_symlinks', 'symlink', 'sys', 'system', 'terminal_size', 'times', 'times_result', 'truncate', 'umask', 'uname_result', 'unlink', 'urandom', 'utime', 'waitpid', 'walk', 'write']\n"
     ]
    }
   ],
   "source": [
    "print(dir(os))"
   ]
  },
  {
   "cell_type": "code",
   "execution_count": 240,
   "id": "015d5e8c",
   "metadata": {},
   "outputs": [
    {
     "data": {
      "text/plain": [
       "'C:\\\\Users\\\\skme2\\\\Downloads'"
      ]
     },
     "execution_count": 240,
     "metadata": {},
     "output_type": "execute_result"
    }
   ],
   "source": [
    "os.getcwd()"
   ]
  },
  {
   "cell_type": "code",
   "execution_count": 241,
   "id": "2ea4444d",
   "metadata": {},
   "outputs": [],
   "source": [
    "os.makedirs(\"python_15_pratice\")"
   ]
  },
  {
   "cell_type": "code",
   "execution_count": 242,
   "id": "3dbe9d66",
   "metadata": {},
   "outputs": [],
   "source": [
    "os.removedirs('python_15_pratice/')"
   ]
  },
  {
   "cell_type": "code",
   "execution_count": 243,
   "id": "3fea26e6",
   "metadata": {},
   "outputs": [],
   "source": [
    "os.remove('abc15_02.txt')"
   ]
  },
  {
   "cell_type": "code",
   "execution_count": null,
   "id": "92121bb6",
   "metadata": {},
   "outputs": [],
   "source": [
    "os."
   ]
  },
  {
   "cell_type": "code",
   "execution_count": 244,
   "id": "aad15676",
   "metadata": {},
   "outputs": [],
   "source": [
    "os.rename('sales_15_02.txt', \"purchase_2024_15_02.txt\")"
   ]
  },
  {
   "cell_type": "code",
   "execution_count": null,
   "id": "54fdcd5d",
   "metadata": {},
   "outputs": [],
   "source": []
  },
  {
   "cell_type": "code",
   "execution_count": 245,
   "id": "fe8af915",
   "metadata": {},
   "outputs": [],
   "source": [
    "import sys"
   ]
  },
  {
   "cell_type": "code",
   "execution_count": 247,
   "id": "271d03cd",
   "metadata": {},
   "outputs": [
    {
     "name": "stdout",
     "output_type": "stream",
     "text": [
      "['__breakpointhook__', '__displayhook__', '__doc__', '__excepthook__', '__interactivehook__', '__loader__', '__name__', '__package__', '__spec__', '__stderr__', '__stdin__', '__stdout__', '__unraisablehook__', '_base_executable', '_clear_type_cache', '_current_frames', '_debugmallocstats', '_enablelegacywindowsfsencoding', '_framework', '_getframe', '_git', '_home', '_xoptions', 'addaudithook', 'api_version', 'argv', 'audit', 'base_exec_prefix', 'base_prefix', 'breakpointhook', 'builtin_module_names', 'byteorder', 'call_tracing', 'callstats', 'copyright', 'displayhook', 'dllhandle', 'dont_write_bytecode', 'exc_info', 'excepthook', 'exec_prefix', 'executable', 'exit', 'flags', 'float_info', 'float_repr_style', 'get_asyncgen_hooks', 'get_coroutine_origin_tracking_depth', 'getallocatedblocks', 'getcheckinterval', 'getdefaultencoding', 'getfilesystemencodeerrors', 'getfilesystemencoding', 'getprofile', 'getrecursionlimit', 'getrefcount', 'getsizeof', 'getswitchinterval', 'gettrace', 'getwindowsversion', 'hash_info', 'hexversion', 'implementation', 'int_info', 'intern', 'is_finalizing', 'last_traceback', 'last_type', 'last_value', 'maxsize', 'maxunicode', 'meta_path', 'modules', 'path', 'path_hooks', 'path_importer_cache', 'platform', 'prefix', 'ps1', 'ps2', 'ps3', 'pycache_prefix', 'set_asyncgen_hooks', 'set_coroutine_origin_tracking_depth', 'setcheckinterval', 'setprofile', 'setrecursionlimit', 'setswitchinterval', 'settrace', 'stderr', 'stdin', 'stdout', 'thread_info', 'unraisablehook', 'version', 'version_info', 'warnoptions', 'winver']\n"
     ]
    }
   ],
   "source": [
    "print(dir(sys))"
   ]
  },
  {
   "cell_type": "code",
   "execution_count": 248,
   "id": "d78c83cf",
   "metadata": {},
   "outputs": [
    {
     "data": {
      "text/plain": [
       "['C:\\\\Users\\\\skme2\\\\Downloads',\n",
       " 'C:\\\\Users\\\\skme2\\\\anaconda3\\\\python38.zip',\n",
       " 'C:\\\\Users\\\\skme2\\\\anaconda3\\\\DLLs',\n",
       " 'C:\\\\Users\\\\skme2\\\\anaconda3\\\\lib',\n",
       " 'C:\\\\Users\\\\skme2\\\\anaconda3',\n",
       " '',\n",
       " 'C:\\\\Users\\\\skme2\\\\AppData\\\\Roaming\\\\Python\\\\Python38\\\\site-packages',\n",
       " 'C:\\\\Users\\\\skme2\\\\anaconda3\\\\lib\\\\site-packages',\n",
       " 'C:\\\\Users\\\\skme2\\\\Downloads\\\\p1\\\\FSDS_NOV_deepCNNClassifier\\\\src',\n",
       " 'C:\\\\Users\\\\skme2\\\\anaconda3\\\\lib\\\\site-packages\\\\locket-0.2.1-py3.8.egg',\n",
       " 'C:\\\\Users\\\\skme2\\\\anaconda3\\\\lib\\\\site-packages\\\\win32',\n",
       " 'C:\\\\Users\\\\skme2\\\\anaconda3\\\\lib\\\\site-packages\\\\win32\\\\lib',\n",
       " 'C:\\\\Users\\\\skme2\\\\anaconda3\\\\lib\\\\site-packages\\\\Pythonwin',\n",
       " 'C:\\\\Users\\\\skme2\\\\anaconda3\\\\lib\\\\site-packages\\\\IPython\\\\extensions',\n",
       " 'C:\\\\Users\\\\skme2\\\\.ipython']"
      ]
     },
     "execution_count": 248,
     "metadata": {},
     "output_type": "execute_result"
    }
   ],
   "source": [
    "sys.path"
   ]
  },
  {
   "cell_type": "code",
   "execution_count": 249,
   "id": "57d65976",
   "metadata": {},
   "outputs": [
    {
     "data": {
      "text/plain": [
       "'3.8.8 (default, Apr 13 2021, 15:08:03) [MSC v.1916 64 bit (AMD64)]'"
      ]
     },
     "execution_count": 249,
     "metadata": {},
     "output_type": "execute_result"
    }
   ],
   "source": [
    "sys.version"
   ]
  },
  {
   "cell_type": "code",
   "execution_count": 250,
   "id": "aae52da3",
   "metadata": {},
   "outputs": [
    {
     "data": {
      "text/plain": [
       "sys.version_info(major=3, minor=8, micro=8, releaselevel='final', serial=0)"
      ]
     },
     "execution_count": 250,
     "metadata": {},
     "output_type": "execute_result"
    }
   ],
   "source": [
    "sys.version_info"
   ]
  },
  {
   "cell_type": "code",
   "execution_count": 251,
   "id": "25e396c2",
   "metadata": {},
   "outputs": [],
   "source": [
    "import datetime"
   ]
  },
  {
   "cell_type": "code",
   "execution_count": 252,
   "id": "12159b1c",
   "metadata": {},
   "outputs": [
    {
     "data": {
      "text/plain": [
       "datetime.datetime(2024, 2, 15, 21, 34, 59, 313547)"
      ]
     },
     "execution_count": 252,
     "metadata": {},
     "output_type": "execute_result"
    }
   ],
   "source": [
    "datetime.datetime.now()"
   ]
  },
  {
   "cell_type": "code",
   "execution_count": 253,
   "id": "a0b00d43",
   "metadata": {},
   "outputs": [],
   "source": [
    "import math"
   ]
  },
  {
   "cell_type": "code",
   "execution_count": 254,
   "id": "68a13da4",
   "metadata": {},
   "outputs": [],
   "source": [
    "import math as m"
   ]
  },
  {
   "cell_type": "code",
   "execution_count": 255,
   "id": "42d261a6",
   "metadata": {},
   "outputs": [
    {
     "data": {
      "text/plain": [
       "120"
      ]
     },
     "execution_count": 255,
     "metadata": {},
     "output_type": "execute_result"
    }
   ],
   "source": [
    "m.factorial(5)"
   ]
  },
  {
   "cell_type": "code",
   "execution_count": 256,
   "id": "eb6314cc",
   "metadata": {},
   "outputs": [],
   "source": [
    "from math import factorial"
   ]
  },
  {
   "cell_type": "code",
   "execution_count": 257,
   "id": "79b9a45a",
   "metadata": {},
   "outputs": [
    {
     "data": {
      "text/plain": [
       "120"
      ]
     },
     "execution_count": 257,
     "metadata": {},
     "output_type": "execute_result"
    }
   ],
   "source": [
    "factorial(5)"
   ]
  },
  {
   "cell_type": "code",
   "execution_count": 258,
   "id": "f46945f1",
   "metadata": {},
   "outputs": [],
   "source": [
    "from math import *"
   ]
  },
  {
   "cell_type": "code",
   "execution_count": 259,
   "id": "602fb6ae",
   "metadata": {},
   "outputs": [
    {
     "data": {
      "text/plain": [
       "6"
      ]
     },
     "execution_count": 259,
     "metadata": {},
     "output_type": "execute_result"
    }
   ],
   "source": [
    "ceil(5.6)"
   ]
  },
  {
   "cell_type": "code",
   "execution_count": 260,
   "id": "14c5ae06",
   "metadata": {},
   "outputs": [
    {
     "data": {
      "text/plain": [
       "512.0"
      ]
     },
     "execution_count": 260,
     "metadata": {},
     "output_type": "execute_result"
    }
   ],
   "source": [
    "pow(2,9)"
   ]
  },
  {
   "cell_type": "code",
   "execution_count": 261,
   "id": "4dab15cf",
   "metadata": {},
   "outputs": [
    {
     "data": {
      "text/plain": [
       "0.1411200080598672"
      ]
     },
     "execution_count": 261,
     "metadata": {},
     "output_type": "execute_result"
    }
   ],
   "source": [
    "sin(3)"
   ]
  },
  {
   "cell_type": "code",
   "execution_count": 262,
   "id": "38735f80",
   "metadata": {},
   "outputs": [],
   "source": [
    "from  random import *"
   ]
  },
  {
   "cell_type": "code",
   "execution_count": 263,
   "id": "6d6376db",
   "metadata": {},
   "outputs": [],
   "source": [
    "from sys import *"
   ]
  },
  {
   "cell_type": "code",
   "execution_count": 4,
   "id": "f1483bdd",
   "metadata": {},
   "outputs": [],
   "source": [
    "import new_custome15_02"
   ]
  },
  {
   "cell_type": "code",
   "execution_count": 5,
   "id": "3c86db13",
   "metadata": {},
   "outputs": [],
   "source": [
    "import new_custome15_02"
   ]
  },
  {
   "cell_type": "code",
   "execution_count": 6,
   "id": "946c2da2",
   "metadata": {},
   "outputs": [],
   "source": [
    "import new_custome15_02"
   ]
  },
  {
   "cell_type": "code",
   "execution_count": 1,
   "id": "6b011deb",
   "metadata": {},
   "outputs": [
    {
     "name": "stdout",
     "output_type": "stream",
     "text": [
      "Hello how are you\n",
      "10\n",
      "hello worls\n"
     ]
    }
   ],
   "source": [
    "import new_custome15_02"
   ]
  },
  {
   "cell_type": "code",
   "execution_count": 2,
   "id": "a99b2511",
   "metadata": {},
   "outputs": [
    {
     "data": {
      "text/plain": [
       "78.5"
      ]
     },
     "execution_count": 2,
     "metadata": {},
     "output_type": "execute_result"
    }
   ],
   "source": [
    "res1 = new_custome15_02.area(5)\n",
    "print(res1)"
   ]
  },
  {
   "cell_type": "code",
   "execution_count": 3,
   "id": "ac886f7c",
   "metadata": {},
   "outputs": [
    {
     "data": {
      "text/plain": [
       "'Hello pooja'"
      ]
     },
     "execution_count": 3,
     "metadata": {},
     "output_type": "execute_result"
    }
   ],
   "source": [
    "res2 = new_custome15_02.greeting('pooja')\n",
    "print(res2)"
   ]
  },
  {
   "cell_type": "code",
   "execution_count": 4,
   "id": "e0541fe8",
   "metadata": {},
   "outputs": [
    {
     "name": "stdout",
     "output_type": "stream",
     "text": [
      "i am claculating perimeter of circle\n"
     ]
    }
   ],
   "source": [
    "new_custome15_02.perimeter()"
   ]
  },
  {
   "cell_type": "code",
   "execution_count": 5,
   "id": "1d0ace99",
   "metadata": {},
   "outputs": [
    {
     "data": {
      "text/plain": [
       "'__main__'"
      ]
     },
     "execution_count": 5,
     "metadata": {},
     "output_type": "execute_result"
    }
   ],
   "source": [
    "__name__"
   ]
  },
  {
   "cell_type": "code",
   "execution_count": 6,
   "id": "a36d0752",
   "metadata": {},
   "outputs": [
    {
     "name": "stdout",
     "output_type": "stream",
     "text": [
      "78.5\n",
      "Hello pooja\n",
      "i am claculating perimeter of circle\n",
      "main module name : main_projects_15_02\n"
     ]
    }
   ],
   "source": [
    "import main_projects_15_02"
   ]
  },
  {
   "cell_type": "code",
   "execution_count": null,
   "id": "9c931f2e",
   "metadata": {},
   "outputs": [],
   "source": []
  }
 ],
 "metadata": {
  "kernelspec": {
   "display_name": "Python 3",
   "language": "python",
   "name": "python3"
  },
  "language_info": {
   "codemirror_mode": {
    "name": "ipython",
    "version": 3
   },
   "file_extension": ".py",
   "mimetype": "text/x-python",
   "name": "python",
   "nbconvert_exporter": "python",
   "pygments_lexer": "ipython3",
   "version": "3.8.8"
  }
 },
 "nbformat": 4,
 "nbformat_minor": 5
}
