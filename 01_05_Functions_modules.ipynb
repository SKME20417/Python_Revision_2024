{
 "cells": [
  {
   "cell_type": "code",
   "execution_count": 13,
   "id": "f20f881f",
   "metadata": {},
   "outputs": [],
   "source": [
    "def greeting(name):\n",
    "    \"\"\"This function will greet you\"\"\"\n",
    "    print(\"Hello goood moring \" + name)"
   ]
  },
  {
   "cell_type": "code",
   "execution_count": 14,
   "id": "a9138954",
   "metadata": {},
   "outputs": [
    {
     "data": {
      "text/plain": [
       "function"
      ]
     },
     "execution_count": 14,
     "metadata": {},
     "output_type": "execute_result"
    }
   ],
   "source": [
    "type(greeting)"
   ]
  },
  {
   "cell_type": "code",
   "execution_count": 15,
   "id": "2a68895c",
   "metadata": {},
   "outputs": [
    {
     "name": "stdout",
     "output_type": "stream",
     "text": [
      "<function greeting at 0x00000239CA1A91F0>\n"
     ]
    }
   ],
   "source": [
    "print(greeting)"
   ]
  },
  {
   "cell_type": "code",
   "execution_count": 16,
   "id": "1bab79da",
   "metadata": {},
   "outputs": [
    {
     "name": "stdout",
     "output_type": "stream",
     "text": [
      "Hello goood moring mohit\n"
     ]
    }
   ],
   "source": [
    "greeting('mohit')"
   ]
  },
  {
   "cell_type": "code",
   "execution_count": 17,
   "id": "2347a64b",
   "metadata": {},
   "outputs": [
    {
     "name": "stdout",
     "output_type": "stream",
     "text": [
      "Hello goood moring sanjay\n"
     ]
    }
   ],
   "source": [
    "greeting(\"sanjay\")"
   ]
  },
  {
   "cell_type": "code",
   "execution_count": 30,
   "id": "399841be",
   "metadata": {},
   "outputs": [
    {
     "name": "stdout",
     "output_type": "stream",
     "text": [
      "Hello goood moring pooja\n"
     ]
    }
   ],
   "source": [
    "p = greeting('pooja')"
   ]
  },
  {
   "cell_type": "code",
   "execution_count": 20,
   "id": "8aef87ed",
   "metadata": {},
   "outputs": [
    {
     "name": "stdout",
     "output_type": "stream",
     "text": [
      "Hello goood moring Ravi\n"
     ]
    }
   ],
   "source": [
    "greeting(\"Ravi\")"
   ]
  },
  {
   "cell_type": "code",
   "execution_count": 22,
   "id": "032cd79c",
   "metadata": {},
   "outputs": [],
   "source": [
    "greeting?"
   ]
  },
  {
   "cell_type": "code",
   "execution_count": 23,
   "id": "0b3a4286",
   "metadata": {},
   "outputs": [
    {
     "data": {
      "text/plain": [
       "'This function will greet you'"
      ]
     },
     "execution_count": 23,
     "metadata": {},
     "output_type": "execute_result"
    }
   ],
   "source": [
    "greeting.__doc__"
   ]
  },
  {
   "cell_type": "code",
   "execution_count": null,
   "id": "78a51971",
   "metadata": {},
   "outputs": [],
   "source": []
  },
  {
   "cell_type": "code",
   "execution_count": 36,
   "id": "e18a9a7b",
   "metadata": {},
   "outputs": [],
   "source": [
    "def add(a,b):\n",
    "    \"\"\"This will add two numbers\"\"\"\n",
    "    c = a+b\n",
    "    return c"
   ]
  },
  {
   "cell_type": "code",
   "execution_count": 37,
   "id": "cf3e24cf",
   "metadata": {},
   "outputs": [],
   "source": [
    "s  =add(5,56)"
   ]
  },
  {
   "cell_type": "code",
   "execution_count": 38,
   "id": "430158ab",
   "metadata": {},
   "outputs": [
    {
     "data": {
      "text/plain": [
       "61"
      ]
     },
     "execution_count": 38,
     "metadata": {},
     "output_type": "execute_result"
    }
   ],
   "source": [
    "s"
   ]
  },
  {
   "cell_type": "code",
   "execution_count": 39,
   "id": "8a3fee0d",
   "metadata": {},
   "outputs": [
    {
     "data": {
      "text/plain": [
       "61"
      ]
     },
     "execution_count": 39,
     "metadata": {},
     "output_type": "execute_result"
    }
   ],
   "source": [
    "s"
   ]
  },
  {
   "cell_type": "code",
   "execution_count": 40,
   "id": "40436297",
   "metadata": {},
   "outputs": [
    {
     "data": {
      "text/plain": [
       "61"
      ]
     },
     "execution_count": 40,
     "metadata": {},
     "output_type": "execute_result"
    }
   ],
   "source": [
    "s"
   ]
  },
  {
   "cell_type": "code",
   "execution_count": 41,
   "id": "bec358a7",
   "metadata": {},
   "outputs": [],
   "source": [
    "p"
   ]
  },
  {
   "cell_type": "code",
   "execution_count": null,
   "id": "d750329d",
   "metadata": {},
   "outputs": [],
   "source": []
  },
  {
   "cell_type": "code",
   "execution_count": 42,
   "id": "ff755cf5",
   "metadata": {},
   "outputs": [],
   "source": [
    "def product(lst):\n",
    "    \"\"\"\n",
    "    lst : it is a list\n",
    "    result : it will multiply all elements\n",
    "    \"\"\"\n",
    "    res = 1\n",
    "    \n",
    "    for i in lst:\n",
    "        res*=i\n",
    "        \n",
    "    return res"
   ]
  },
  {
   "cell_type": "code",
   "execution_count": 43,
   "id": "3ab20555",
   "metadata": {},
   "outputs": [
    {
     "data": {
      "text/plain": [
       "6720"
      ]
     },
     "execution_count": 43,
     "metadata": {},
     "output_type": "execute_result"
    }
   ],
   "source": [
    "product([4,5,6,7,8])"
   ]
  },
  {
   "cell_type": "code",
   "execution_count": 44,
   "id": "9da90228",
   "metadata": {},
   "outputs": [
    {
     "data": {
      "text/plain": [
       "21840"
      ]
     },
     "execution_count": 44,
     "metadata": {},
     "output_type": "execute_result"
    }
   ],
   "source": [
    "product([10,12,13,14])"
   ]
  },
  {
   "cell_type": "code",
   "execution_count": null,
   "id": "eb610686",
   "metadata": {},
   "outputs": [],
   "source": []
  },
  {
   "cell_type": "code",
   "execution_count": 47,
   "id": "f83a2fa9",
   "metadata": {},
   "outputs": [],
   "source": [
    "def calculator(a,b):\n",
    "    \"\"\"It will perform 4 basic arithmetic operatiosn\"\"\"\n",
    "    p = a+b\n",
    "    q = a-b\n",
    "    r = a*b\n",
    "    s = a/b\n",
    "    \n",
    "    return [p,q,r,s]"
   ]
  },
  {
   "cell_type": "code",
   "execution_count": 48,
   "id": "8e55c086",
   "metadata": {},
   "outputs": [
    {
     "data": {
      "text/plain": [
       "[14, -4, 45, 0.5555555555555556]"
      ]
     },
     "execution_count": 48,
     "metadata": {},
     "output_type": "execute_result"
    }
   ],
   "source": [
    "calculator(5,9)"
   ]
  },
  {
   "cell_type": "code",
   "execution_count": 49,
   "id": "a5d087a9",
   "metadata": {},
   "outputs": [],
   "source": [
    "age = 24"
   ]
  },
  {
   "cell_type": "code",
   "execution_count": 50,
   "id": "8d77548c",
   "metadata": {},
   "outputs": [
    {
     "data": {
      "text/plain": [
       "24"
      ]
     },
     "execution_count": 50,
     "metadata": {},
     "output_type": "execute_result"
    }
   ],
   "source": [
    "age"
   ]
  },
  {
   "cell_type": "code",
   "execution_count": 52,
   "id": "7fa5d256",
   "metadata": {},
   "outputs": [
    {
     "data": {
      "text/plain": [
       "24"
      ]
     },
     "execution_count": 52,
     "metadata": {},
     "output_type": "execute_result"
    }
   ],
   "source": [
    "globals()['age']"
   ]
  },
  {
   "cell_type": "code",
   "execution_count": 53,
   "id": "52eca8a5",
   "metadata": {},
   "outputs": [
    {
     "data": {
      "text/plain": [
       "24"
      ]
     },
     "execution_count": 53,
     "metadata": {},
     "output_type": "execute_result"
    }
   ],
   "source": [
    "age"
   ]
  },
  {
   "cell_type": "code",
   "execution_count": 54,
   "id": "0ab50062",
   "metadata": {},
   "outputs": [],
   "source": [
    "age = 28"
   ]
  },
  {
   "cell_type": "code",
   "execution_count": 55,
   "id": "88a78637",
   "metadata": {},
   "outputs": [
    {
     "data": {
      "text/plain": [
       "28"
      ]
     },
     "execution_count": 55,
     "metadata": {},
     "output_type": "execute_result"
    }
   ],
   "source": [
    "age"
   ]
  },
  {
   "cell_type": "code",
   "execution_count": 58,
   "id": "baa43505",
   "metadata": {},
   "outputs": [],
   "source": [
    "globals()['age'] = 90"
   ]
  },
  {
   "cell_type": "code",
   "execution_count": 59,
   "id": "c65c213a",
   "metadata": {},
   "outputs": [
    {
     "data": {
      "text/plain": [
       "90"
      ]
     },
     "execution_count": 59,
     "metadata": {},
     "output_type": "execute_result"
    }
   ],
   "source": [
    "age"
   ]
  },
  {
   "cell_type": "code",
   "execution_count": null,
   "id": "2718facb",
   "metadata": {},
   "outputs": [],
   "source": []
  },
  {
   "cell_type": "code",
   "execution_count": 60,
   "id": "9d4ac9f9",
   "metadata": {},
   "outputs": [],
   "source": [
    "x = 100\n",
    "\n",
    "def test():\n",
    "    y = 200\n",
    "    \n",
    "    print(x)\n",
    "    print(y)"
   ]
  },
  {
   "cell_type": "code",
   "execution_count": 61,
   "id": "fdec0011",
   "metadata": {},
   "outputs": [
    {
     "name": "stdout",
     "output_type": "stream",
     "text": [
      "100\n"
     ]
    }
   ],
   "source": [
    "print(x)"
   ]
  },
  {
   "cell_type": "code",
   "execution_count": 62,
   "id": "f2fb13a3",
   "metadata": {},
   "outputs": [
    {
     "name": "stdout",
     "output_type": "stream",
     "text": [
      "100\n",
      "200\n"
     ]
    }
   ],
   "source": [
    "test()"
   ]
  },
  {
   "cell_type": "code",
   "execution_count": 63,
   "id": "2609ef8b",
   "metadata": {},
   "outputs": [
    {
     "ename": "NameError",
     "evalue": "name 'y' is not defined",
     "output_type": "error",
     "traceback": [
      "\u001b[1;31m---------------------------------------------------------------------------\u001b[0m",
      "\u001b[1;31mNameError\u001b[0m                                 Traceback (most recent call last)",
      "\u001b[1;32m<ipython-input-63-d9183e048de3>\u001b[0m in \u001b[0;36m<module>\u001b[1;34m\u001b[0m\n\u001b[1;32m----> 1\u001b[1;33m \u001b[0mprint\u001b[0m\u001b[1;33m(\u001b[0m\u001b[0my\u001b[0m\u001b[1;33m)\u001b[0m\u001b[1;33m\u001b[0m\u001b[1;33m\u001b[0m\u001b[0m\n\u001b[0m",
      "\u001b[1;31mNameError\u001b[0m: name 'y' is not defined"
     ]
    }
   ],
   "source": [
    "print(y)"
   ]
  },
  {
   "cell_type": "code",
   "execution_count": 64,
   "id": "d6f0cbcb",
   "metadata": {},
   "outputs": [],
   "source": [
    "x = 100\n",
    "\n",
    "def test1():\n",
    "    x = 200\n",
    "    \n",
    "    print(x)"
   ]
  },
  {
   "cell_type": "code",
   "execution_count": 65,
   "id": "72de8773",
   "metadata": {},
   "outputs": [
    {
     "name": "stdout",
     "output_type": "stream",
     "text": [
      "100\n"
     ]
    }
   ],
   "source": [
    "print(x)"
   ]
  },
  {
   "cell_type": "code",
   "execution_count": 66,
   "id": "d879745b",
   "metadata": {},
   "outputs": [
    {
     "name": "stdout",
     "output_type": "stream",
     "text": [
      "200\n"
     ]
    }
   ],
   "source": [
    "test1()"
   ]
  },
  {
   "cell_type": "code",
   "execution_count": 67,
   "id": "50f9d8c7",
   "metadata": {},
   "outputs": [
    {
     "name": "stdout",
     "output_type": "stream",
     "text": [
      "100\n"
     ]
    }
   ],
   "source": [
    "print(x)"
   ]
  },
  {
   "cell_type": "code",
   "execution_count": 68,
   "id": "a2f7bb80",
   "metadata": {},
   "outputs": [],
   "source": [
    "x = 100\n",
    "\n",
    "def test2():\n",
    "    global x\n",
    "    x = 200\n",
    "    \n",
    "    print(x)"
   ]
  },
  {
   "cell_type": "code",
   "execution_count": 69,
   "id": "30ee9863",
   "metadata": {},
   "outputs": [
    {
     "name": "stdout",
     "output_type": "stream",
     "text": [
      "100\n"
     ]
    }
   ],
   "source": [
    "print(x)"
   ]
  },
  {
   "cell_type": "code",
   "execution_count": 70,
   "id": "1cb2812a",
   "metadata": {},
   "outputs": [
    {
     "name": "stdout",
     "output_type": "stream",
     "text": [
      "200\n"
     ]
    }
   ],
   "source": [
    "test2()"
   ]
  },
  {
   "cell_type": "code",
   "execution_count": 71,
   "id": "b8c4e876",
   "metadata": {},
   "outputs": [
    {
     "name": "stdout",
     "output_type": "stream",
     "text": [
      "200\n"
     ]
    }
   ],
   "source": [
    "print(x)"
   ]
  },
  {
   "cell_type": "code",
   "execution_count": 72,
   "id": "0055aa63",
   "metadata": {},
   "outputs": [],
   "source": [
    "#Lambda Function"
   ]
  },
  {
   "cell_type": "code",
   "execution_count": 74,
   "id": "201e6512",
   "metadata": {},
   "outputs": [],
   "source": [
    "sq = lambda x:x**2"
   ]
  },
  {
   "cell_type": "code",
   "execution_count": 76,
   "id": "635a4d8f",
   "metadata": {},
   "outputs": [
    {
     "data": {
      "text/plain": [
       "9"
      ]
     },
     "execution_count": 76,
     "metadata": {},
     "output_type": "execute_result"
    }
   ],
   "source": [
    "sq(3)"
   ]
  },
  {
   "cell_type": "code",
   "execution_count": 77,
   "id": "980404e2",
   "metadata": {},
   "outputs": [
    {
     "data": {
      "text/plain": [
       "4"
      ]
     },
     "execution_count": 77,
     "metadata": {},
     "output_type": "execute_result"
    }
   ],
   "source": [
    "sq(2)"
   ]
  },
  {
   "cell_type": "code",
   "execution_count": 78,
   "id": "804855ad",
   "metadata": {},
   "outputs": [
    {
     "data": {
      "text/plain": [
       "25"
      ]
     },
     "execution_count": 78,
     "metadata": {},
     "output_type": "execute_result"
    }
   ],
   "source": [
    "sq(5)"
   ]
  },
  {
   "cell_type": "code",
   "execution_count": 80,
   "id": "e13c5e41",
   "metadata": {},
   "outputs": [
    {
     "data": {
      "text/plain": [
       "125"
      ]
     },
     "execution_count": 80,
     "metadata": {},
     "output_type": "execute_result"
    }
   ],
   "source": [
    "(lambda x:x**3)(5)"
   ]
  },
  {
   "cell_type": "code",
   "execution_count": 82,
   "id": "5a8f9295",
   "metadata": {},
   "outputs": [
    {
     "data": {
      "text/plain": [
       "8"
      ]
     },
     "execution_count": 82,
     "metadata": {},
     "output_type": "execute_result"
    }
   ],
   "source": [
    "(lambda a,b : a+b)(5,3)"
   ]
  },
  {
   "cell_type": "code",
   "execution_count": 84,
   "id": "82edfe93",
   "metadata": {},
   "outputs": [],
   "source": [
    "fun = (lambda x, y : x+y if x+y>0 else 0)"
   ]
  },
  {
   "cell_type": "code",
   "execution_count": 87,
   "id": "3b0304cf",
   "metadata": {},
   "outputs": [
    {
     "data": {
      "text/plain": [
       "0"
      ]
     },
     "execution_count": 87,
     "metadata": {},
     "output_type": "execute_result"
    }
   ],
   "source": [
    "fun(3,-6)"
   ]
  },
  {
   "cell_type": "code",
   "execution_count": 88,
   "id": "505960b9",
   "metadata": {},
   "outputs": [
    {
     "data": {
      "text/plain": [
       "7"
      ]
     },
     "execution_count": 88,
     "metadata": {},
     "output_type": "execute_result"
    }
   ],
   "source": [
    "(lambda x, y : x+y if x+y>0 else 0)(2,5)"
   ]
  },
  {
   "cell_type": "code",
   "execution_count": 91,
   "id": "6cc24a9e",
   "metadata": {},
   "outputs": [],
   "source": [
    "s = [('zoom',3),('abhi', 2),('ban',4),('som',5),('prateek',9),('mohit',1),('navenee', 6),('arjun', 7)]"
   ]
  },
  {
   "cell_type": "code",
   "execution_count": 92,
   "id": "afa44c03",
   "metadata": {},
   "outputs": [
    {
     "data": {
      "text/plain": [
       "[('zoom', 3),\n",
       " ('abhi', 2),\n",
       " ('ban', 4),\n",
       " ('som', 5),\n",
       " ('prateek', 9),\n",
       " ('mohit', 1),\n",
       " ('navenee', 6),\n",
       " ('arjun', 7)]"
      ]
     },
     "execution_count": 92,
     "metadata": {},
     "output_type": "execute_result"
    }
   ],
   "source": [
    "s"
   ]
  },
  {
   "cell_type": "code",
   "execution_count": 98,
   "id": "532c30f2",
   "metadata": {},
   "outputs": [],
   "source": [
    "s.sort(key=lambda x : x[1] )"
   ]
  },
  {
   "cell_type": "code",
   "execution_count": 99,
   "id": "545607b3",
   "metadata": {},
   "outputs": [
    {
     "data": {
      "text/plain": [
       "[('mohit', 1),\n",
       " ('abhi', 2),\n",
       " ('zoom', 3),\n",
       " ('ban', 4),\n",
       " ('som', 5),\n",
       " ('navenee', 6),\n",
       " ('arjun', 7),\n",
       " ('prateek', 9)]"
      ]
     },
     "execution_count": 99,
     "metadata": {},
     "output_type": "execute_result"
    }
   ],
   "source": [
    "s"
   ]
  },
  {
   "cell_type": "code",
   "execution_count": 100,
   "id": "b94a8eb0",
   "metadata": {},
   "outputs": [],
   "source": [
    "\n",
    "#Q-1: Write a Function to find Least Common Multiple LCM of a, b"
   ]
  },
  {
   "cell_type": "code",
   "execution_count": 103,
   "id": "0162f2ec",
   "metadata": {},
   "outputs": [],
   "source": [
    "def LCM(a,b):\n",
    "    \"\"\"This is calculting LCM of two numbers\"\"\"\n",
    "    \n",
    "    max_num = a if a>b else b\n",
    "    \n",
    "    while True:\n",
    "        if max_num%a==0 and max_num%b==0:\n",
    "            return max_num\n",
    "        else:\n",
    "            max_num+=1"
   ]
  },
  {
   "cell_type": "code",
   "execution_count": 104,
   "id": "9d09d21b",
   "metadata": {},
   "outputs": [
    {
     "data": {
      "text/plain": [
       "15"
      ]
     },
     "execution_count": 104,
     "metadata": {},
     "output_type": "execute_result"
    }
   ],
   "source": [
    "LCM(3,5)"
   ]
  },
  {
   "cell_type": "code",
   "execution_count": 105,
   "id": "fdd7cbbd",
   "metadata": {},
   "outputs": [
    {
     "data": {
      "text/plain": [
       "16"
      ]
     },
     "execution_count": 105,
     "metadata": {},
     "output_type": "execute_result"
    }
   ],
   "source": [
    "LCM(4,16)"
   ]
  },
  {
   "cell_type": "code",
   "execution_count": 106,
   "id": "bd1349b7",
   "metadata": {},
   "outputs": [
    {
     "data": {
      "text/plain": [
       "4"
      ]
     },
     "execution_count": 106,
     "metadata": {},
     "output_type": "execute_result"
    }
   ],
   "source": [
    "LCM(2,4)"
   ]
  },
  {
   "cell_type": "code",
   "execution_count": 107,
   "id": "ddc02d86",
   "metadata": {},
   "outputs": [
    {
     "data": {
      "text/plain": [
       "48"
      ]
     },
     "execution_count": 107,
     "metadata": {},
     "output_type": "execute_result"
    }
   ],
   "source": [
    "LCM(3,16)"
   ]
  },
  {
   "cell_type": "code",
   "execution_count": 108,
   "id": "44fb226e",
   "metadata": {},
   "outputs": [
    {
     "data": {
      "text/plain": [
       "36"
      ]
     },
     "execution_count": 108,
     "metadata": {},
     "output_type": "execute_result"
    }
   ],
   "source": [
    "LCM(4,18)"
   ]
  },
  {
   "cell_type": "code",
   "execution_count": 109,
   "id": "b495711a",
   "metadata": {},
   "outputs": [],
   "source": [
    "# Function Arguments Vs Parameters"
   ]
  },
  {
   "cell_type": "code",
   "execution_count": null,
   "id": "d379d1c7",
   "metadata": {},
   "outputs": [],
   "source": []
  },
  {
   "cell_type": "code",
   "execution_count": 110,
   "id": "330ecc11",
   "metadata": {},
   "outputs": [],
   "source": [
    "def intro(name, nationality):\n",
    "    print(\"My name is : \", name)\n",
    "    print(\"I am\" , nationality)"
   ]
  },
  {
   "cell_type": "code",
   "execution_count": 112,
   "id": "ec91d9d7",
   "metadata": {},
   "outputs": [
    {
     "name": "stdout",
     "output_type": "stream",
     "text": [
      "My name is :  sam\n",
      "I am american\n"
     ]
    }
   ],
   "source": [
    "intro('sam', 'american')"
   ]
  },
  {
   "cell_type": "code",
   "execution_count": 115,
   "id": "641df823",
   "metadata": {},
   "outputs": [
    {
     "name": "stdout",
     "output_type": "stream",
     "text": [
      "My name is :  jam\n",
      "I am englishman\n"
     ]
    }
   ],
   "source": [
    "intro(\"jam\", 'englishman')"
   ]
  },
  {
   "cell_type": "code",
   "execution_count": 116,
   "id": "d63726a3",
   "metadata": {},
   "outputs": [
    {
     "name": "stdout",
     "output_type": "stream",
     "text": [
      "My name is :  indian\n",
      "I am ravi\n"
     ]
    }
   ],
   "source": [
    "intro('indian', 'ravi')"
   ]
  },
  {
   "cell_type": "code",
   "execution_count": 117,
   "id": "935d92b5",
   "metadata": {},
   "outputs": [],
   "source": [
    "def intro(name, nationality = 'indian'):\n",
    "    print(\"My name is : \", name)\n",
    "    print(\"I am\" , nationality)"
   ]
  },
  {
   "cell_type": "code",
   "execution_count": 118,
   "id": "6df7a934",
   "metadata": {},
   "outputs": [
    {
     "name": "stdout",
     "output_type": "stream",
     "text": [
      "My name is :  clerk\n",
      "I am indian\n"
     ]
    }
   ],
   "source": [
    "intro('clerk')"
   ]
  },
  {
   "cell_type": "code",
   "execution_count": 119,
   "id": "fcbbb422",
   "metadata": {},
   "outputs": [
    {
     "name": "stdout",
     "output_type": "stream",
     "text": [
      "My name is :  jonshon\n",
      "I am American\n"
     ]
    }
   ],
   "source": [
    "intro('jonshon', 'American')"
   ]
  },
  {
   "cell_type": "code",
   "execution_count": 120,
   "id": "860b597e",
   "metadata": {},
   "outputs": [],
   "source": [
    "def text(a,b,c, d = 100):\n",
    "    pass"
   ]
  },
  {
   "cell_type": "code",
   "execution_count": null,
   "id": "d60de006",
   "metadata": {},
   "outputs": [],
   "source": []
  },
  {
   "cell_type": "code",
   "execution_count": 127,
   "id": "b15ec8c4",
   "metadata": {},
   "outputs": [],
   "source": [
    "def args_fun(*args):\n",
    "    print(args)\n",
    "    print(type(args))\n",
    "    \n",
    "    for i in args:\n",
    "        print(i*2)"
   ]
  },
  {
   "cell_type": "code",
   "execution_count": 128,
   "id": "fc5731b4",
   "metadata": {},
   "outputs": [
    {
     "name": "stdout",
     "output_type": "stream",
     "text": [
      "(45, 78, 96, 10, 20, 30, 'hello', 'american')\n",
      "<class 'tuple'>\n",
      "90\n",
      "156\n",
      "192\n",
      "20\n",
      "40\n",
      "60\n",
      "hellohello\n",
      "americanamerican\n"
     ]
    }
   ],
   "source": [
    "args_fun(45,78,96,10,20,30,'hello', 'american')"
   ]
  },
  {
   "cell_type": "code",
   "execution_count": null,
   "id": "b288f0d0",
   "metadata": {},
   "outputs": [],
   "source": []
  },
  {
   "cell_type": "code",
   "execution_count": 129,
   "id": "fe402244",
   "metadata": {},
   "outputs": [],
   "source": [
    "def introduction(**kwargs):\n",
    "    print(kwargs)\n",
    "    print(type(kwargs))\n",
    "    \n",
    "    for k,v in kwargs.items():\n",
    "        print(k, \":\", v)"
   ]
  },
  {
   "cell_type": "code",
   "execution_count": 131,
   "id": "8abaaccf",
   "metadata": {},
   "outputs": [
    {
     "name": "stdout",
     "output_type": "stream",
     "text": [
      "{'name': 'Poojaa', 'age': 30, 'company': 'google', 'salary': '48000'}\n",
      "<class 'dict'>\n",
      "name : Poojaa\n",
      "age : 30\n",
      "company : google\n",
      "salary : 48000\n"
     ]
    }
   ],
   "source": [
    "introduction(name = 'Poojaa', age = 30, company = \"google\", salary = \"48000\")"
   ]
  },
  {
   "cell_type": "code",
   "execution_count": 132,
   "id": "31f29f3f",
   "metadata": {},
   "outputs": [
    {
     "name": "stdout",
     "output_type": "stream",
     "text": [
      "{'a': 100, 'b': 200, 'c': 300, 'd': 400, 'e': 500}\n",
      "<class 'dict'>\n",
      "a : 100\n",
      "b : 200\n",
      "c : 300\n",
      "d : 400\n",
      "e : 500\n"
     ]
    }
   ],
   "source": [
    "introduction(a = 100, b = 200, c = 300, d = 400, e = 500)"
   ]
  },
  {
   "cell_type": "code",
   "execution_count": null,
   "id": "184edf77",
   "metadata": {},
   "outputs": [],
   "source": []
  },
  {
   "cell_type": "code",
   "execution_count": 133,
   "id": "95cc75be",
   "metadata": {},
   "outputs": [],
   "source": [
    "def combination(a,b,c, d = 50, *args, **kwargs):\n",
    "    print(a,b,c,d)\n",
    "    print(args)\n",
    "    print(kwargs)"
   ]
  },
  {
   "cell_type": "code",
   "execution_count": 134,
   "id": "5b507783",
   "metadata": {},
   "outputs": [
    {
     "name": "stdout",
     "output_type": "stream",
     "text": [
      "10 20 30 400\n",
      "(50, 89, 102, 'hello', 2.3, True)\n",
      "{'p': 150, 'q': 600, 'r': 300}\n"
     ]
    }
   ],
   "source": [
    "combination(10,20,30,400,50,89,102,\"hello\", 2.3, True, p = 150, q = 600, r = 300)"
   ]
  },
  {
   "cell_type": "code",
   "execution_count": null,
   "id": "0f014323",
   "metadata": {},
   "outputs": [],
   "source": []
  },
  {
   "cell_type": "code",
   "execution_count": 135,
   "id": "de9e3462",
   "metadata": {},
   "outputs": [],
   "source": [
    "#Built-Ins Functions"
   ]
  },
  {
   "cell_type": "code",
   "execution_count": 136,
   "id": "f2c7cf4f",
   "metadata": {},
   "outputs": [
    {
     "data": {
      "text/plain": [
       "5"
      ]
     },
     "execution_count": 136,
     "metadata": {},
     "output_type": "execute_result"
    }
   ],
   "source": [
    "abs(5)"
   ]
  },
  {
   "cell_type": "code",
   "execution_count": 137,
   "id": "b3f7f20c",
   "metadata": {},
   "outputs": [
    {
     "data": {
      "text/plain": [
       "5"
      ]
     },
     "execution_count": 137,
     "metadata": {},
     "output_type": "execute_result"
    }
   ],
   "source": [
    "abs(-5)"
   ]
  },
  {
   "cell_type": "code",
   "execution_count": 141,
   "id": "f336282f",
   "metadata": {},
   "outputs": [
    {
     "data": {
      "text/plain": [
       "78.72346"
      ]
     },
     "execution_count": 141,
     "metadata": {},
     "output_type": "execute_result"
    }
   ],
   "source": [
    "round(78.723456789, 5)"
   ]
  },
  {
   "cell_type": "code",
   "execution_count": 143,
   "id": "ea27bf25",
   "metadata": {},
   "outputs": [],
   "source": [
    "lst = [1,2,3,4,5]"
   ]
  },
  {
   "cell_type": "code",
   "execution_count": 144,
   "id": "217a4283",
   "metadata": {},
   "outputs": [
    {
     "data": {
      "text/plain": [
       "True"
      ]
     },
     "execution_count": 144,
     "metadata": {},
     "output_type": "execute_result"
    }
   ],
   "source": [
    "all(lst)"
   ]
  },
  {
   "cell_type": "code",
   "execution_count": 145,
   "id": "b971d415",
   "metadata": {},
   "outputs": [
    {
     "data": {
      "text/plain": [
       "True"
      ]
     },
     "execution_count": 145,
     "metadata": {},
     "output_type": "execute_result"
    }
   ],
   "source": [
    "any(lst)"
   ]
  },
  {
   "cell_type": "code",
   "execution_count": 146,
   "id": "4766b387",
   "metadata": {},
   "outputs": [],
   "source": [
    "lst1 = [1,2,3,4,5,0]"
   ]
  },
  {
   "cell_type": "code",
   "execution_count": 147,
   "id": "2207a3d6",
   "metadata": {},
   "outputs": [
    {
     "data": {
      "text/plain": [
       "False"
      ]
     },
     "execution_count": 147,
     "metadata": {},
     "output_type": "execute_result"
    }
   ],
   "source": [
    "all(lst1)"
   ]
  },
  {
   "cell_type": "code",
   "execution_count": 148,
   "id": "fa9288bc",
   "metadata": {},
   "outputs": [
    {
     "data": {
      "text/plain": [
       "True"
      ]
     },
     "execution_count": 148,
     "metadata": {},
     "output_type": "execute_result"
    }
   ],
   "source": [
    "any(lst1)"
   ]
  },
  {
   "cell_type": "code",
   "execution_count": null,
   "id": "c1a63eb3",
   "metadata": {},
   "outputs": [],
   "source": []
  },
  {
   "cell_type": "code",
   "execution_count": 149,
   "id": "d545fd29",
   "metadata": {},
   "outputs": [],
   "source": [
    "w = [2,1,-1]"
   ]
  },
  {
   "cell_type": "code",
   "execution_count": 150,
   "id": "35b138b1",
   "metadata": {},
   "outputs": [
    {
     "data": {
      "text/plain": [
       "True"
      ]
     },
     "execution_count": 150,
     "metadata": {},
     "output_type": "execute_result"
    }
   ],
   "source": [
    "all(w)"
   ]
  },
  {
   "cell_type": "code",
   "execution_count": 151,
   "id": "5bc733de",
   "metadata": {},
   "outputs": [
    {
     "data": {
      "text/plain": [
       "True"
      ]
     },
     "execution_count": 151,
     "metadata": {},
     "output_type": "execute_result"
    }
   ],
   "source": [
    "any(w)"
   ]
  },
  {
   "cell_type": "code",
   "execution_count": 152,
   "id": "89007d36",
   "metadata": {},
   "outputs": [],
   "source": [
    "o = []"
   ]
  },
  {
   "cell_type": "code",
   "execution_count": 153,
   "id": "e29d2117",
   "metadata": {},
   "outputs": [
    {
     "data": {
      "text/plain": [
       "True"
      ]
     },
     "execution_count": 153,
     "metadata": {},
     "output_type": "execute_result"
    }
   ],
   "source": [
    "all(o) # it is checking false"
   ]
  },
  {
   "cell_type": "code",
   "execution_count": 154,
   "id": "99a8fece",
   "metadata": {},
   "outputs": [
    {
     "data": {
      "text/plain": [
       "False"
      ]
     },
     "execution_count": 154,
     "metadata": {},
     "output_type": "execute_result"
    }
   ],
   "source": [
    "any(o) # it is checking true"
   ]
  },
  {
   "cell_type": "code",
   "execution_count": 155,
   "id": "530b2211",
   "metadata": {},
   "outputs": [],
   "source": [
    "e = [False, 0, -1]"
   ]
  },
  {
   "cell_type": "code",
   "execution_count": 156,
   "id": "b8c93a15",
   "metadata": {},
   "outputs": [
    {
     "data": {
      "text/plain": [
       "False"
      ]
     },
     "execution_count": 156,
     "metadata": {},
     "output_type": "execute_result"
    }
   ],
   "source": [
    "all(e)"
   ]
  },
  {
   "cell_type": "code",
   "execution_count": 157,
   "id": "c8691685",
   "metadata": {},
   "outputs": [
    {
     "data": {
      "text/plain": [
       "True"
      ]
     },
     "execution_count": 157,
     "metadata": {},
     "output_type": "execute_result"
    }
   ],
   "source": [
    "any(e)"
   ]
  },
  {
   "cell_type": "code",
   "execution_count": 158,
   "id": "5bd77484",
   "metadata": {},
   "outputs": [
    {
     "data": {
      "text/plain": [
       "[1, 2, 3, 4, 5]"
      ]
     },
     "execution_count": 158,
     "metadata": {},
     "output_type": "execute_result"
    }
   ],
   "source": [
    "lst"
   ]
  },
  {
   "cell_type": "code",
   "execution_count": 159,
   "id": "94c23d83",
   "metadata": {},
   "outputs": [
    {
     "data": {
      "text/plain": [
       "['__add__',\n",
       " '__class__',\n",
       " '__contains__',\n",
       " '__delattr__',\n",
       " '__delitem__',\n",
       " '__dir__',\n",
       " '__doc__',\n",
       " '__eq__',\n",
       " '__format__',\n",
       " '__ge__',\n",
       " '__getattribute__',\n",
       " '__getitem__',\n",
       " '__gt__',\n",
       " '__hash__',\n",
       " '__iadd__',\n",
       " '__imul__',\n",
       " '__init__',\n",
       " '__init_subclass__',\n",
       " '__iter__',\n",
       " '__le__',\n",
       " '__len__',\n",
       " '__lt__',\n",
       " '__mul__',\n",
       " '__ne__',\n",
       " '__new__',\n",
       " '__reduce__',\n",
       " '__reduce_ex__',\n",
       " '__repr__',\n",
       " '__reversed__',\n",
       " '__rmul__',\n",
       " '__setattr__',\n",
       " '__setitem__',\n",
       " '__sizeof__',\n",
       " '__str__',\n",
       " '__subclasshook__',\n",
       " 'append',\n",
       " 'clear',\n",
       " 'copy',\n",
       " 'count',\n",
       " 'extend',\n",
       " 'index',\n",
       " 'insert',\n",
       " 'pop',\n",
       " 'remove',\n",
       " 'reverse',\n",
       " 'sort']"
      ]
     },
     "execution_count": 159,
     "metadata": {},
     "output_type": "execute_result"
    }
   ],
   "source": [
    "dir(lst)"
   ]
  },
  {
   "cell_type": "code",
   "execution_count": 160,
   "id": "90bff487",
   "metadata": {},
   "outputs": [],
   "source": [
    "a = \"hello\""
   ]
  },
  {
   "cell_type": "code",
   "execution_count": 161,
   "id": "52ef9483",
   "metadata": {},
   "outputs": [
    {
     "data": {
      "text/plain": [
       "['__add__',\n",
       " '__class__',\n",
       " '__contains__',\n",
       " '__delattr__',\n",
       " '__dir__',\n",
       " '__doc__',\n",
       " '__eq__',\n",
       " '__format__',\n",
       " '__ge__',\n",
       " '__getattribute__',\n",
       " '__getitem__',\n",
       " '__getnewargs__',\n",
       " '__gt__',\n",
       " '__hash__',\n",
       " '__init__',\n",
       " '__init_subclass__',\n",
       " '__iter__',\n",
       " '__le__',\n",
       " '__len__',\n",
       " '__lt__',\n",
       " '__mod__',\n",
       " '__mul__',\n",
       " '__ne__',\n",
       " '__new__',\n",
       " '__reduce__',\n",
       " '__reduce_ex__',\n",
       " '__repr__',\n",
       " '__rmod__',\n",
       " '__rmul__',\n",
       " '__setattr__',\n",
       " '__sizeof__',\n",
       " '__str__',\n",
       " '__subclasshook__',\n",
       " 'capitalize',\n",
       " 'casefold',\n",
       " 'center',\n",
       " 'count',\n",
       " 'encode',\n",
       " 'endswith',\n",
       " 'expandtabs',\n",
       " 'find',\n",
       " 'format',\n",
       " 'format_map',\n",
       " 'index',\n",
       " 'isalnum',\n",
       " 'isalpha',\n",
       " 'isascii',\n",
       " 'isdecimal',\n",
       " 'isdigit',\n",
       " 'isidentifier',\n",
       " 'islower',\n",
       " 'isnumeric',\n",
       " 'isprintable',\n",
       " 'isspace',\n",
       " 'istitle',\n",
       " 'isupper',\n",
       " 'join',\n",
       " 'ljust',\n",
       " 'lower',\n",
       " 'lstrip',\n",
       " 'maketrans',\n",
       " 'partition',\n",
       " 'replace',\n",
       " 'rfind',\n",
       " 'rindex',\n",
       " 'rjust',\n",
       " 'rpartition',\n",
       " 'rsplit',\n",
       " 'rstrip',\n",
       " 'split',\n",
       " 'splitlines',\n",
       " 'startswith',\n",
       " 'strip',\n",
       " 'swapcase',\n",
       " 'title',\n",
       " 'translate',\n",
       " 'upper',\n",
       " 'zfill']"
      ]
     },
     "execution_count": 161,
     "metadata": {},
     "output_type": "execute_result"
    }
   ],
   "source": [
    "dir(a)"
   ]
  },
  {
   "cell_type": "code",
   "execution_count": 162,
   "id": "4e9b5111",
   "metadata": {},
   "outputs": [],
   "source": [
    "fruits = ['apple', 'banana', 'grapes', 'mango']"
   ]
  },
  {
   "cell_type": "code",
   "execution_count": 163,
   "id": "a5199539",
   "metadata": {},
   "outputs": [
    {
     "data": {
      "text/plain": [
       "['apple', 'banana', 'grapes', 'mango']"
      ]
     },
     "execution_count": 163,
     "metadata": {},
     "output_type": "execute_result"
    }
   ],
   "source": [
    "fruits"
   ]
  },
  {
   "cell_type": "code",
   "execution_count": 168,
   "id": "495fb3f2",
   "metadata": {},
   "outputs": [
    {
     "name": "stdout",
     "output_type": "stream",
     "text": [
      "50 apple\n",
      "51 banana\n",
      "52 grapes\n",
      "53 mango\n"
     ]
    }
   ],
   "source": [
    "for idx,i in enumerate(fruits, start=50):\n",
    "    print(idx ,i)"
   ]
  },
  {
   "cell_type": "code",
   "execution_count": 169,
   "id": "e99a96b4",
   "metadata": {},
   "outputs": [],
   "source": [
    "lst = [14,25,36,10,12,13,2,8,9]"
   ]
  },
  {
   "cell_type": "code",
   "execution_count": 170,
   "id": "3192d9bf",
   "metadata": {},
   "outputs": [
    {
     "data": {
      "text/plain": [
       "36"
      ]
     },
     "execution_count": 170,
     "metadata": {},
     "output_type": "execute_result"
    }
   ],
   "source": [
    "max(lst)"
   ]
  },
  {
   "cell_type": "code",
   "execution_count": 171,
   "id": "34f76cfd",
   "metadata": {},
   "outputs": [
    {
     "data": {
      "text/plain": [
       "2"
      ]
     },
     "execution_count": 171,
     "metadata": {},
     "output_type": "execute_result"
    }
   ],
   "source": [
    "min(lst)"
   ]
  },
  {
   "cell_type": "code",
   "execution_count": 172,
   "id": "d95aa74f",
   "metadata": {},
   "outputs": [
    {
     "data": {
      "text/plain": [
       "129"
      ]
     },
     "execution_count": 172,
     "metadata": {},
     "output_type": "execute_result"
    }
   ],
   "source": [
    "sum(lst)"
   ]
  },
  {
   "cell_type": "code",
   "execution_count": 176,
   "id": "68edf6a6",
   "metadata": {},
   "outputs": [],
   "source": [
    "average = round(sum(lst)/len(lst),2)"
   ]
  },
  {
   "cell_type": "code",
   "execution_count": null,
   "id": "a2476297",
   "metadata": {},
   "outputs": [],
   "source": []
  },
  {
   "cell_type": "code",
   "execution_count": 177,
   "id": "35beffd1",
   "metadata": {},
   "outputs": [],
   "source": [
    "k = [4,5,6,7,8,9,1,2,1,3]"
   ]
  },
  {
   "cell_type": "code",
   "execution_count": 178,
   "id": "ded4b743",
   "metadata": {},
   "outputs": [
    {
     "ename": "TypeError",
     "evalue": "can only concatenate list (not \"int\") to list",
     "output_type": "error",
     "traceback": [
      "\u001b[1;31m---------------------------------------------------------------------------\u001b[0m",
      "\u001b[1;31mTypeError\u001b[0m                                 Traceback (most recent call last)",
      "\u001b[1;32m<ipython-input-178-402ea69427af>\u001b[0m in \u001b[0;36m<module>\u001b[1;34m\u001b[0m\n\u001b[1;32m----> 1\u001b[1;33m \u001b[0mk\u001b[0m \u001b[1;33m+\u001b[0m \u001b[1;36m1\u001b[0m\u001b[1;33m\u001b[0m\u001b[1;33m\u001b[0m\u001b[0m\n\u001b[0m",
      "\u001b[1;31mTypeError\u001b[0m: can only concatenate list (not \"int\") to list"
     ]
    }
   ],
   "source": [
    "k + 1"
   ]
  },
  {
   "cell_type": "code",
   "execution_count": 179,
   "id": "c6f5120c",
   "metadata": {},
   "outputs": [],
   "source": [
    "a = []\n",
    "for i in k:\n",
    "    a.append(i+1)"
   ]
  },
  {
   "cell_type": "code",
   "execution_count": 180,
   "id": "ab1b09c4",
   "metadata": {},
   "outputs": [
    {
     "data": {
      "text/plain": [
       "[5, 6, 7, 8, 9, 10, 2, 3, 2, 4]"
      ]
     },
     "execution_count": 180,
     "metadata": {},
     "output_type": "execute_result"
    }
   ],
   "source": [
    "a"
   ]
  },
  {
   "cell_type": "code",
   "execution_count": 181,
   "id": "484fa425",
   "metadata": {},
   "outputs": [
    {
     "data": {
      "text/plain": [
       "[4, 5, 6, 7, 8, 9, 1, 2, 1, 3]"
      ]
     },
     "execution_count": 181,
     "metadata": {},
     "output_type": "execute_result"
    }
   ],
   "source": [
    "k"
   ]
  },
  {
   "cell_type": "code",
   "execution_count": 182,
   "id": "2a6759ff",
   "metadata": {},
   "outputs": [],
   "source": [
    "def add_one(s):\n",
    "    return s+1"
   ]
  },
  {
   "cell_type": "code",
   "execution_count": 183,
   "id": "dc0f5102",
   "metadata": {},
   "outputs": [
    {
     "data": {
      "text/plain": [
       "101"
      ]
     },
     "execution_count": 183,
     "metadata": {},
     "output_type": "execute_result"
    }
   ],
   "source": [
    "add_one(100)"
   ]
  },
  {
   "cell_type": "code",
   "execution_count": 184,
   "id": "d4c024f7",
   "metadata": {},
   "outputs": [
    {
     "data": {
      "text/plain": [
       "201"
      ]
     },
     "execution_count": 184,
     "metadata": {},
     "output_type": "execute_result"
    }
   ],
   "source": [
    "add_one(200)"
   ]
  },
  {
   "cell_type": "code",
   "execution_count": null,
   "id": "ced58883",
   "metadata": {},
   "outputs": [],
   "source": []
  },
  {
   "cell_type": "code",
   "execution_count": 186,
   "id": "cc068dc9",
   "metadata": {},
   "outputs": [
    {
     "data": {
      "text/plain": [
       "[5, 6, 7, 8, 9, 10, 2, 3, 2, 4]"
      ]
     },
     "execution_count": 186,
     "metadata": {},
     "output_type": "execute_result"
    }
   ],
   "source": [
    "list(map(add_one, k))"
   ]
  },
  {
   "cell_type": "code",
   "execution_count": null,
   "id": "92e4074e",
   "metadata": {},
   "outputs": [],
   "source": []
  },
  {
   "cell_type": "code",
   "execution_count": 187,
   "id": "b14bd884",
   "metadata": {},
   "outputs": [
    {
     "data": {
      "text/plain": [
       "[4, 5, 6, 7, 8, 9, 1, 2, 1, 3]"
      ]
     },
     "execution_count": 187,
     "metadata": {},
     "output_type": "execute_result"
    }
   ],
   "source": [
    "k"
   ]
  },
  {
   "cell_type": "code",
   "execution_count": 188,
   "id": "765fe4f1",
   "metadata": {},
   "outputs": [],
   "source": [
    "b = []\n",
    "for i in k:\n",
    "    if i%2==0:\n",
    "        b.append(i)"
   ]
  },
  {
   "cell_type": "code",
   "execution_count": 189,
   "id": "b37fd514",
   "metadata": {},
   "outputs": [
    {
     "data": {
      "text/plain": [
       "[4, 6, 8, 2]"
      ]
     },
     "execution_count": 189,
     "metadata": {},
     "output_type": "execute_result"
    }
   ],
   "source": [
    "b"
   ]
  },
  {
   "cell_type": "code",
   "execution_count": null,
   "id": "884e5cc0",
   "metadata": {},
   "outputs": [],
   "source": []
  },
  {
   "cell_type": "code",
   "execution_count": 190,
   "id": "23698210",
   "metadata": {},
   "outputs": [],
   "source": [
    "def even_check(a):\n",
    "    return a%2==0"
   ]
  },
  {
   "cell_type": "code",
   "execution_count": 191,
   "id": "735350d4",
   "metadata": {},
   "outputs": [
    {
     "data": {
      "text/plain": [
       "True"
      ]
     },
     "execution_count": 191,
     "metadata": {},
     "output_type": "execute_result"
    }
   ],
   "source": [
    "even_check(100)"
   ]
  },
  {
   "cell_type": "code",
   "execution_count": 192,
   "id": "e1e8bff3",
   "metadata": {},
   "outputs": [
    {
     "data": {
      "text/plain": [
       "False"
      ]
     },
     "execution_count": 192,
     "metadata": {},
     "output_type": "execute_result"
    }
   ],
   "source": [
    "even_check(101)"
   ]
  },
  {
   "cell_type": "code",
   "execution_count": null,
   "id": "369b97f2",
   "metadata": {},
   "outputs": [],
   "source": []
  },
  {
   "cell_type": "code",
   "execution_count": 194,
   "id": "24ef5cfa",
   "metadata": {},
   "outputs": [
    {
     "data": {
      "text/plain": [
       "[4, 6, 8, 2]"
      ]
     },
     "execution_count": 194,
     "metadata": {},
     "output_type": "execute_result"
    }
   ],
   "source": [
    "list(filter(even_check, k))"
   ]
  },
  {
   "cell_type": "code",
   "execution_count": null,
   "id": "bbb72f3a",
   "metadata": {},
   "outputs": [],
   "source": []
  },
  {
   "cell_type": "code",
   "execution_count": null,
   "id": "7f98477c",
   "metadata": {},
   "outputs": [],
   "source": []
  },
  {
   "cell_type": "code",
   "execution_count": 196,
   "id": "7d975063",
   "metadata": {},
   "outputs": [
    {
     "data": {
      "text/plain": [
       "[5, 6, 7, 8, 9, 10, 2, 3, 2, 4]"
      ]
     },
     "execution_count": 196,
     "metadata": {},
     "output_type": "execute_result"
    }
   ],
   "source": [
    "list(map(lambda x : x+1, k))"
   ]
  },
  {
   "cell_type": "code",
   "execution_count": null,
   "id": "770a7f79",
   "metadata": {},
   "outputs": [],
   "source": []
  },
  {
   "cell_type": "code",
   "execution_count": 198,
   "id": "fe2f2c1a",
   "metadata": {},
   "outputs": [
    {
     "data": {
      "text/plain": [
       "[4, 6, 8, 2]"
      ]
     },
     "execution_count": 198,
     "metadata": {},
     "output_type": "execute_result"
    }
   ],
   "source": [
    "list(filter(lambda y : y%2==0, k))"
   ]
  },
  {
   "cell_type": "code",
   "execution_count": null,
   "id": "9b9166d7",
   "metadata": {},
   "outputs": [],
   "source": []
  },
  {
   "cell_type": "code",
   "execution_count": 199,
   "id": "07c587bc",
   "metadata": {},
   "outputs": [
    {
     "data": {
      "text/plain": [
       "[4, 5, 6, 7, 8, 9, 1, 2, 1, 3]"
      ]
     },
     "execution_count": 199,
     "metadata": {},
     "output_type": "execute_result"
    }
   ],
   "source": [
    "k"
   ]
  },
  {
   "cell_type": "code",
   "execution_count": 200,
   "id": "ed75fb78",
   "metadata": {},
   "outputs": [],
   "source": [
    "q = 1\n",
    "\n",
    "\n",
    "for i in k:\n",
    "    q*=i"
   ]
  },
  {
   "cell_type": "code",
   "execution_count": 201,
   "id": "5417f182",
   "metadata": {},
   "outputs": [
    {
     "data": {
      "text/plain": [
       "362880"
      ]
     },
     "execution_count": 201,
     "metadata": {},
     "output_type": "execute_result"
    }
   ],
   "source": [
    "q"
   ]
  },
  {
   "cell_type": "code",
   "execution_count": null,
   "id": "7fe7845b",
   "metadata": {},
   "outputs": [],
   "source": []
  },
  {
   "cell_type": "code",
   "execution_count": 202,
   "id": "1a7f043e",
   "metadata": {},
   "outputs": [],
   "source": [
    "from functools import reduce"
   ]
  },
  {
   "cell_type": "code",
   "execution_count": 203,
   "id": "7f465a1f",
   "metadata": {},
   "outputs": [],
   "source": [
    "def multiply(x,y):\n",
    "    return x*y"
   ]
  },
  {
   "cell_type": "code",
   "execution_count": 205,
   "id": "2b228d60",
   "metadata": {},
   "outputs": [
    {
     "data": {
      "text/plain": [
       "30"
      ]
     },
     "execution_count": 205,
     "metadata": {},
     "output_type": "execute_result"
    }
   ],
   "source": [
    "multiply(5,6)"
   ]
  },
  {
   "cell_type": "code",
   "execution_count": 206,
   "id": "1eae2b50",
   "metadata": {},
   "outputs": [
    {
     "data": {
      "text/plain": [
       "36"
      ]
     },
     "execution_count": 206,
     "metadata": {},
     "output_type": "execute_result"
    }
   ],
   "source": [
    "multiply(12,3)"
   ]
  },
  {
   "cell_type": "code",
   "execution_count": 207,
   "id": "e6a5de48",
   "metadata": {},
   "outputs": [
    {
     "data": {
      "text/plain": [
       "362880"
      ]
     },
     "execution_count": 207,
     "metadata": {},
     "output_type": "execute_result"
    }
   ],
   "source": [
    "reduce(multiply, k)"
   ]
  },
  {
   "cell_type": "code",
   "execution_count": null,
   "id": "8ceb24cb",
   "metadata": {},
   "outputs": [],
   "source": []
  },
  {
   "cell_type": "code",
   "execution_count": 208,
   "id": "c5f86ad0",
   "metadata": {},
   "outputs": [
    {
     "data": {
      "text/plain": [
       "362880"
      ]
     },
     "execution_count": 208,
     "metadata": {},
     "output_type": "execute_result"
    }
   ],
   "source": [
    "reduce(lambda x,y:x*y, k)"
   ]
  },
  {
   "cell_type": "code",
   "execution_count": 209,
   "id": "aa81d650",
   "metadata": {},
   "outputs": [],
   "source": [
    "import math"
   ]
  },
  {
   "cell_type": "code",
   "execution_count": 211,
   "id": "4b1a626c",
   "metadata": {},
   "outputs": [
    {
     "name": "stdout",
     "output_type": "stream",
     "text": [
      "['__doc__', '__loader__', '__name__', '__package__', '__spec__', 'acos', 'acosh', 'asin', 'asinh', 'atan', 'atan2', 'atanh', 'ceil', 'comb', 'copysign', 'cos', 'cosh', 'degrees', 'dist', 'e', 'erf', 'erfc', 'exp', 'expm1', 'fabs', 'factorial', 'floor', 'fmod', 'frexp', 'fsum', 'gamma', 'gcd', 'hypot', 'inf', 'isclose', 'isfinite', 'isinf', 'isnan', 'isqrt', 'ldexp', 'lgamma', 'log', 'log10', 'log1p', 'log2', 'modf', 'nan', 'perm', 'pi', 'pow', 'prod', 'radians', 'remainder', 'sin', 'sinh', 'sqrt', 'tan', 'tanh', 'tau', 'trunc']\n"
     ]
    }
   ],
   "source": [
    "print(dir(math))"
   ]
  },
  {
   "cell_type": "code",
   "execution_count": 212,
   "id": "f4fb40ad",
   "metadata": {},
   "outputs": [
    {
     "data": {
      "text/plain": [
       "3.141592653589793"
      ]
     },
     "execution_count": 212,
     "metadata": {},
     "output_type": "execute_result"
    }
   ],
   "source": [
    "math.pi"
   ]
  },
  {
   "cell_type": "code",
   "execution_count": 213,
   "id": "f4a50519",
   "metadata": {},
   "outputs": [
    {
     "data": {
      "text/plain": [
       "8.0"
      ]
     },
     "execution_count": 213,
     "metadata": {},
     "output_type": "execute_result"
    }
   ],
   "source": [
    "math.pow(2,3)"
   ]
  },
  {
   "cell_type": "code",
   "execution_count": 214,
   "id": "32fa9165",
   "metadata": {},
   "outputs": [
    {
     "data": {
      "text/plain": [
       "-0.9589242746631385"
      ]
     },
     "execution_count": 214,
     "metadata": {},
     "output_type": "execute_result"
    }
   ],
   "source": [
    "math.sin(5)"
   ]
  },
  {
   "cell_type": "code",
   "execution_count": 215,
   "id": "5ecb846f",
   "metadata": {},
   "outputs": [
    {
     "data": {
      "text/plain": [
       "120"
      ]
     },
     "execution_count": 215,
     "metadata": {},
     "output_type": "execute_result"
    }
   ],
   "source": [
    "math.factorial(5)"
   ]
  },
  {
   "cell_type": "code",
   "execution_count": 216,
   "id": "e0963baa",
   "metadata": {},
   "outputs": [
    {
     "data": {
      "text/plain": [
       "8"
      ]
     },
     "execution_count": 216,
     "metadata": {},
     "output_type": "execute_result"
    }
   ],
   "source": [
    "math.ceil(7.3)"
   ]
  },
  {
   "cell_type": "code",
   "execution_count": 217,
   "id": "a63c98d7",
   "metadata": {},
   "outputs": [
    {
     "data": {
      "text/plain": [
       "8"
      ]
     },
     "execution_count": 217,
     "metadata": {},
     "output_type": "execute_result"
    }
   ],
   "source": [
    "math.ceil(7.9)"
   ]
  },
  {
   "cell_type": "code",
   "execution_count": null,
   "id": "1fa23d7c",
   "metadata": {},
   "outputs": [],
   "source": []
  },
  {
   "cell_type": "code",
   "execution_count": 218,
   "id": "4cb4616c",
   "metadata": {},
   "outputs": [],
   "source": [
    "import random"
   ]
  },
  {
   "cell_type": "code",
   "execution_count": 221,
   "id": "9e1bac36",
   "metadata": {},
   "outputs": [
    {
     "data": {
      "text/plain": [
       "22"
      ]
     },
     "execution_count": 221,
     "metadata": {},
     "output_type": "execute_result"
    }
   ],
   "source": [
    "random.randint(1,100)"
   ]
  },
  {
   "cell_type": "code",
   "execution_count": 243,
   "id": "0fac6b8b",
   "metadata": {},
   "outputs": [
    {
     "data": {
      "text/plain": [
       "17"
      ]
     },
     "execution_count": 243,
     "metadata": {},
     "output_type": "execute_result"
    }
   ],
   "source": [
    "round(random.random()*50)+10"
   ]
  },
  {
   "cell_type": "code",
   "execution_count": 244,
   "id": "b1f60739",
   "metadata": {},
   "outputs": [],
   "source": [
    "import os"
   ]
  },
  {
   "cell_type": "code",
   "execution_count": 246,
   "id": "2c05d68f",
   "metadata": {},
   "outputs": [
    {
     "name": "stdout",
     "output_type": "stream",
     "text": [
      "['DirEntry', 'F_OK', 'MutableMapping', 'O_APPEND', 'O_BINARY', 'O_CREAT', 'O_EXCL', 'O_NOINHERIT', 'O_RANDOM', 'O_RDONLY', 'O_RDWR', 'O_SEQUENTIAL', 'O_SHORT_LIVED', 'O_TEMPORARY', 'O_TEXT', 'O_TRUNC', 'O_WRONLY', 'P_DETACH', 'P_NOWAIT', 'P_NOWAITO', 'P_OVERLAY', 'P_WAIT', 'PathLike', 'R_OK', 'SEEK_CUR', 'SEEK_END', 'SEEK_SET', 'TMP_MAX', 'W_OK', 'X_OK', '_AddedDllDirectory', '_Environ', '__all__', '__builtins__', '__cached__', '__doc__', '__file__', '__loader__', '__name__', '__package__', '__spec__', '_check_methods', '_execvpe', '_exists', '_exit', '_fspath', '_get_exports_list', '_putenv', '_unsetenv', '_wrap_close', 'abc', 'abort', 'access', 'add_dll_directory', 'altsep', 'chdir', 'chmod', 'close', 'closerange', 'cpu_count', 'curdir', 'defpath', 'device_encoding', 'devnull', 'dup', 'dup2', 'environ', 'error', 'execl', 'execle', 'execlp', 'execlpe', 'execv', 'execve', 'execvp', 'execvpe', 'extsep', 'fdopen', 'fsdecode', 'fsencode', 'fspath', 'fstat', 'fsync', 'ftruncate', 'get_exec_path', 'get_handle_inheritable', 'get_inheritable', 'get_terminal_size', 'getcwd', 'getcwdb', 'getenv', 'getlogin', 'getpid', 'getppid', 'isatty', 'kill', 'linesep', 'link', 'listdir', 'lseek', 'lstat', 'makedirs', 'mkdir', 'name', 'open', 'pardir', 'path', 'pathsep', 'pipe', 'popen', 'putenv', 'read', 'readlink', 'remove', 'removedirs', 'rename', 'renames', 'replace', 'rmdir', 'scandir', 'sep', 'set_handle_inheritable', 'set_inheritable', 'spawnl', 'spawnle', 'spawnv', 'spawnve', 'st', 'startfile', 'stat', 'stat_result', 'statvfs_result', 'strerror', 'supports_bytes_environ', 'supports_dir_fd', 'supports_effective_ids', 'supports_fd', 'supports_follow_symlinks', 'symlink', 'sys', 'system', 'terminal_size', 'times', 'times_result', 'truncate', 'umask', 'uname_result', 'unlink', 'urandom', 'utime', 'waitpid', 'walk', 'write']\n"
     ]
    }
   ],
   "source": [
    "print(dir(os))"
   ]
  },
  {
   "cell_type": "code",
   "execution_count": 247,
   "id": "99943f83",
   "metadata": {},
   "outputs": [
    {
     "data": {
      "text/plain": [
       "<module 'ntpath' from 'C:\\\\Users\\\\skme2\\\\anaconda3\\\\lib\\\\ntpath.py'>"
      ]
     },
     "execution_count": 247,
     "metadata": {},
     "output_type": "execute_result"
    }
   ],
   "source": [
    "os.path"
   ]
  },
  {
   "cell_type": "code",
   "execution_count": 248,
   "id": "f20d898a",
   "metadata": {},
   "outputs": [
    {
     "data": {
      "text/plain": [
       "'C:\\\\Users\\\\skme2\\\\Downloads'"
      ]
     },
     "execution_count": 248,
     "metadata": {},
     "output_type": "execute_result"
    }
   ],
   "source": [
    "os.getcwd()"
   ]
  },
  {
   "cell_type": "code",
   "execution_count": 249,
   "id": "bbd6a68f",
   "metadata": {},
   "outputs": [],
   "source": [
    "os.mkdir(\"mypython\")"
   ]
  },
  {
   "cell_type": "code",
   "execution_count": 250,
   "id": "84937242",
   "metadata": {},
   "outputs": [
    {
     "name": "stderr",
     "output_type": "stream",
     "text": [
      "'touch' is not recognized as an internal or external command,\n",
      "operable program or batch file.\n"
     ]
    }
   ],
   "source": [
    "!touch my.py"
   ]
  },
  {
   "cell_type": "code",
   "execution_count": 251,
   "id": "3d5eb83f",
   "metadata": {},
   "outputs": [],
   "source": [
    "os.remove('some.txt')"
   ]
  },
  {
   "cell_type": "code",
   "execution_count": 252,
   "id": "08b3fde7",
   "metadata": {},
   "outputs": [],
   "source": [
    "os.removedirs('mypython')"
   ]
  },
  {
   "cell_type": "code",
   "execution_count": 253,
   "id": "e6484201",
   "metadata": {},
   "outputs": [],
   "source": [
    "os.rename('html.txt', 'boot.txt')"
   ]
  },
  {
   "cell_type": "code",
   "execution_count": null,
   "id": "4f242980",
   "metadata": {},
   "outputs": [],
   "source": []
  },
  {
   "cell_type": "code",
   "execution_count": 254,
   "id": "1741ba13",
   "metadata": {},
   "outputs": [],
   "source": [
    "import sys"
   ]
  },
  {
   "cell_type": "code",
   "execution_count": 255,
   "id": "ded1198c",
   "metadata": {},
   "outputs": [
    {
     "data": {
      "text/plain": [
       "'3.8.8 (default, Apr 13 2021, 15:08:03) [MSC v.1916 64 bit (AMD64)]'"
      ]
     },
     "execution_count": 255,
     "metadata": {},
     "output_type": "execute_result"
    }
   ],
   "source": [
    "sys.version"
   ]
  },
  {
   "cell_type": "code",
   "execution_count": 256,
   "id": "54e963bf",
   "metadata": {},
   "outputs": [
    {
     "data": {
      "text/plain": [
       "sys.version_info(major=3, minor=8, micro=8, releaselevel='final', serial=0)"
      ]
     },
     "execution_count": 256,
     "metadata": {},
     "output_type": "execute_result"
    }
   ],
   "source": [
    "sys.version_info"
   ]
  },
  {
   "cell_type": "code",
   "execution_count": 257,
   "id": "c5b96cdf",
   "metadata": {},
   "outputs": [
    {
     "data": {
      "text/plain": [
       "['C:\\\\Users\\\\skme2\\\\Downloads',\n",
       " 'C:\\\\Users\\\\skme2\\\\anaconda3\\\\python38.zip',\n",
       " 'C:\\\\Users\\\\skme2\\\\anaconda3\\\\DLLs',\n",
       " 'C:\\\\Users\\\\skme2\\\\anaconda3\\\\lib',\n",
       " 'C:\\\\Users\\\\skme2\\\\anaconda3',\n",
       " '',\n",
       " 'C:\\\\Users\\\\skme2\\\\AppData\\\\Roaming\\\\Python\\\\Python38\\\\site-packages',\n",
       " 'C:\\\\Users\\\\skme2\\\\anaconda3\\\\lib\\\\site-packages',\n",
       " 'C:\\\\Users\\\\skme2\\\\Downloads\\\\p1\\\\FSDS_NOV_deepCNNClassifier\\\\src',\n",
       " 'C:\\\\Users\\\\skme2\\\\anaconda3\\\\lib\\\\site-packages\\\\locket-0.2.1-py3.8.egg',\n",
       " 'C:\\\\Users\\\\skme2\\\\anaconda3\\\\lib\\\\site-packages\\\\win32',\n",
       " 'C:\\\\Users\\\\skme2\\\\anaconda3\\\\lib\\\\site-packages\\\\win32\\\\lib',\n",
       " 'C:\\\\Users\\\\skme2\\\\anaconda3\\\\lib\\\\site-packages\\\\Pythonwin',\n",
       " 'C:\\\\Users\\\\skme2\\\\anaconda3\\\\lib\\\\site-packages\\\\IPython\\\\extensions',\n",
       " 'C:\\\\Users\\\\skme2\\\\.ipython']"
      ]
     },
     "execution_count": 257,
     "metadata": {},
     "output_type": "execute_result"
    }
   ],
   "source": [
    "sys.path"
   ]
  },
  {
   "cell_type": "code",
   "execution_count": null,
   "id": "77a63086",
   "metadata": {},
   "outputs": [],
   "source": []
  },
  {
   "cell_type": "code",
   "execution_count": 258,
   "id": "c7a769f8",
   "metadata": {},
   "outputs": [],
   "source": [
    "import datetime"
   ]
  },
  {
   "cell_type": "code",
   "execution_count": 259,
   "id": "ca54a7a4",
   "metadata": {},
   "outputs": [
    {
     "data": {
      "text/plain": [
       "datetime.datetime(2024, 5, 1, 20, 0, 53, 210529)"
      ]
     },
     "execution_count": 259,
     "metadata": {},
     "output_type": "execute_result"
    }
   ],
   "source": [
    "datetime.datetime.now()"
   ]
  },
  {
   "cell_type": "code",
   "execution_count": null,
   "id": "dc3d4161",
   "metadata": {},
   "outputs": [],
   "source": []
  },
  {
   "cell_type": "code",
   "execution_count": 260,
   "id": "6d2a23cd",
   "metadata": {},
   "outputs": [],
   "source": [
    "import math as m"
   ]
  },
  {
   "cell_type": "code",
   "execution_count": 261,
   "id": "8f1c4b1c",
   "metadata": {},
   "outputs": [
    {
     "data": {
      "text/plain": [
       "120"
      ]
     },
     "execution_count": 261,
     "metadata": {},
     "output_type": "execute_result"
    }
   ],
   "source": [
    "m.factorial(5)"
   ]
  },
  {
   "cell_type": "code",
   "execution_count": 262,
   "id": "0123ad27",
   "metadata": {},
   "outputs": [],
   "source": [
    "from math import factorial"
   ]
  },
  {
   "cell_type": "code",
   "execution_count": 263,
   "id": "415fd4f6",
   "metadata": {},
   "outputs": [
    {
     "data": {
      "text/plain": [
       "120"
      ]
     },
     "execution_count": 263,
     "metadata": {},
     "output_type": "execute_result"
    }
   ],
   "source": [
    "factorial(5)"
   ]
  },
  {
   "cell_type": "code",
   "execution_count": 264,
   "id": "1c4467f6",
   "metadata": {},
   "outputs": [],
   "source": [
    "from math import *"
   ]
  },
  {
   "cell_type": "code",
   "execution_count": 265,
   "id": "ef5acb4d",
   "metadata": {},
   "outputs": [
    {
     "data": {
      "text/plain": [
       "3"
      ]
     },
     "execution_count": 265,
     "metadata": {},
     "output_type": "execute_result"
    }
   ],
   "source": [
    "ceil(2.6)"
   ]
  },
  {
   "cell_type": "code",
   "execution_count": 267,
   "id": "0477929a",
   "metadata": {},
   "outputs": [
    {
     "name": "stdout",
     "output_type": "stream",
     "text": [
      "I am having custom functionalities...\n"
     ]
    }
   ],
   "source": [
    "import mycustom01"
   ]
  },
  {
   "cell_type": "code",
   "execution_count": 268,
   "id": "a4b58437",
   "metadata": {},
   "outputs": [
    {
     "name": "stdout",
     "output_type": "stream",
     "text": [
      "hello good evening sanjay\n"
     ]
    }
   ],
   "source": [
    "mycustom01.greeting('sanjay')"
   ]
  },
  {
   "cell_type": "code",
   "execution_count": 269,
   "id": "7054512e",
   "metadata": {},
   "outputs": [
    {
     "name": "stdout",
     "output_type": "stream",
     "text": [
      "hello good evening pooja\n"
     ]
    }
   ],
   "source": [
    "mycustom01.greeting('pooja')"
   ]
  },
  {
   "cell_type": "code",
   "execution_count": 270,
   "id": "3d0df779",
   "metadata": {},
   "outputs": [
    {
     "data": {
      "text/plain": [
       "'__main__'"
      ]
     },
     "execution_count": 270,
     "metadata": {},
     "output_type": "execute_result"
    }
   ],
   "source": [
    "__name__"
   ]
  },
  {
   "cell_type": "code",
   "execution_count": 271,
   "id": "decc73d8",
   "metadata": {},
   "outputs": [],
   "source": [
    "import mycustom01"
   ]
  },
  {
   "cell_type": "code",
   "execution_count": 272,
   "id": "5791f0cd",
   "metadata": {},
   "outputs": [
    {
     "name": "stdout",
     "output_type": "stream",
     "text": [
      "hello good evening ishneet\n"
     ]
    }
   ],
   "source": [
    "mycustom01.greeting(\"ishneet\")"
   ]
  },
  {
   "cell_type": "code",
   "execution_count": 273,
   "id": "c6ee9c28",
   "metadata": {},
   "outputs": [],
   "source": [
    "import my_project"
   ]
  },
  {
   "cell_type": "code",
   "execution_count": 274,
   "id": "16a156b0",
   "metadata": {},
   "outputs": [
    {
     "data": {
      "text/plain": [
       "['__doc__',\n",
       " '__file__',\n",
       " '__loader__',\n",
       " '__name__',\n",
       " '__package__',\n",
       " '__path__',\n",
       " '__spec__']"
      ]
     },
     "execution_count": 274,
     "metadata": {},
     "output_type": "execute_result"
    }
   ],
   "source": [
    "dir(my_project)"
   ]
  },
  {
   "cell_type": "code",
   "execution_count": 275,
   "id": "f89618b0",
   "metadata": {},
   "outputs": [
    {
     "data": {
      "text/plain": [
       "'__main__'"
      ]
     },
     "execution_count": 275,
     "metadata": {},
     "output_type": "execute_result"
    }
   ],
   "source": [
    "__name__"
   ]
  },
  {
   "cell_type": "code",
   "execution_count": null,
   "id": "e808dd0d",
   "metadata": {},
   "outputs": [],
   "source": []
  }
 ],
 "metadata": {
  "kernelspec": {
   "display_name": "Python 3",
   "language": "python",
   "name": "python3"
  },
  "language_info": {
   "codemirror_mode": {
    "name": "ipython",
    "version": 3
   },
   "file_extension": ".py",
   "mimetype": "text/x-python",
   "name": "python",
   "nbconvert_exporter": "python",
   "pygments_lexer": "ipython3",
   "version": "3.8.8"
  }
 },
 "nbformat": 4,
 "nbformat_minor": 5
}
