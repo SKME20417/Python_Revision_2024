{
 "cells": [
  {
   "cell_type": "code",
   "execution_count": 1,
   "id": "40cad245",
   "metadata": {},
   "outputs": [],
   "source": [
    "lst = [2,5,10,15]"
   ]
  },
  {
   "cell_type": "code",
   "execution_count": 3,
   "id": "71625cc9",
   "metadata": {},
   "outputs": [
    {
     "name": "stdout",
     "output_type": "stream",
     "text": [
      "2\n",
      "5\n",
      "10\n",
      "15\n"
     ]
    }
   ],
   "source": [
    "for i in lst:\n",
    "    print(i)"
   ]
  },
  {
   "cell_type": "code",
   "execution_count": 4,
   "id": "06814f41",
   "metadata": {},
   "outputs": [],
   "source": [
    "#__iter__\n",
    "#__next__\n",
    "#StopIteration error"
   ]
  },
  {
   "cell_type": "code",
   "execution_count": 5,
   "id": "414843c6",
   "metadata": {},
   "outputs": [],
   "source": [
    "my_iterator = iter(lst)"
   ]
  },
  {
   "cell_type": "code",
   "execution_count": 6,
   "id": "378b6d99",
   "metadata": {},
   "outputs": [
    {
     "data": {
      "text/plain": [
       "<list_iterator at 0x179a4292610>"
      ]
     },
     "execution_count": 6,
     "metadata": {},
     "output_type": "execute_result"
    }
   ],
   "source": [
    "my_iterator"
   ]
  },
  {
   "cell_type": "code",
   "execution_count": 7,
   "id": "6e6d8540",
   "metadata": {},
   "outputs": [
    {
     "data": {
      "text/plain": [
       "2"
      ]
     },
     "execution_count": 7,
     "metadata": {},
     "output_type": "execute_result"
    }
   ],
   "source": [
    "next(my_iterator)"
   ]
  },
  {
   "cell_type": "code",
   "execution_count": 8,
   "id": "a07e0da8",
   "metadata": {},
   "outputs": [
    {
     "data": {
      "text/plain": [
       "5"
      ]
     },
     "execution_count": 8,
     "metadata": {},
     "output_type": "execute_result"
    }
   ],
   "source": [
    "next(my_iterator)"
   ]
  },
  {
   "cell_type": "code",
   "execution_count": 9,
   "id": "d6cba864",
   "metadata": {},
   "outputs": [
    {
     "data": {
      "text/plain": [
       "10"
      ]
     },
     "execution_count": 9,
     "metadata": {},
     "output_type": "execute_result"
    }
   ],
   "source": [
    "next(my_iterator)"
   ]
  },
  {
   "cell_type": "code",
   "execution_count": 10,
   "id": "c30845e5",
   "metadata": {},
   "outputs": [
    {
     "data": {
      "text/plain": [
       "15"
      ]
     },
     "execution_count": 10,
     "metadata": {},
     "output_type": "execute_result"
    }
   ],
   "source": [
    "next(my_iterator)"
   ]
  },
  {
   "cell_type": "code",
   "execution_count": 11,
   "id": "da211b2b",
   "metadata": {},
   "outputs": [
    {
     "ename": "StopIteration",
     "evalue": "",
     "output_type": "error",
     "traceback": [
      "\u001b[1;31m---------------------------------------------------------------------------\u001b[0m",
      "\u001b[1;31mStopIteration\u001b[0m                             Traceback (most recent call last)",
      "\u001b[1;32m<ipython-input-11-26be35a80dc3>\u001b[0m in \u001b[0;36m<module>\u001b[1;34m\u001b[0m\n\u001b[1;32m----> 1\u001b[1;33m \u001b[0mnext\u001b[0m\u001b[1;33m(\u001b[0m\u001b[0mmy_iterator\u001b[0m\u001b[1;33m)\u001b[0m\u001b[1;33m\u001b[0m\u001b[1;33m\u001b[0m\u001b[0m\n\u001b[0m",
      "\u001b[1;31mStopIteration\u001b[0m: "
     ]
    }
   ],
   "source": [
    "next(my_iterator)"
   ]
  },
  {
   "cell_type": "code",
   "execution_count": 12,
   "id": "6d9fbe10",
   "metadata": {},
   "outputs": [
    {
     "data": {
      "text/plain": [
       "[2, 5, 10, 15]"
      ]
     },
     "execution_count": 12,
     "metadata": {},
     "output_type": "execute_result"
    }
   ],
   "source": [
    "lst"
   ]
  },
  {
   "cell_type": "code",
   "execution_count": 16,
   "id": "4dfcf48b",
   "metadata": {},
   "outputs": [],
   "source": [
    "my_iter1 = iter(lst)"
   ]
  },
  {
   "cell_type": "code",
   "execution_count": 19,
   "id": "27d9185b",
   "metadata": {},
   "outputs": [
    {
     "name": "stdout",
     "output_type": "stream",
     "text": [
      "2\n",
      "5\n",
      "10\n",
      "15\n"
     ]
    }
   ],
   "source": [
    "for i in my_iter1:\n",
    "    print(i)"
   ]
  },
  {
   "cell_type": "code",
   "execution_count": null,
   "id": "3fb16aec",
   "metadata": {},
   "outputs": [],
   "source": []
  },
  {
   "cell_type": "code",
   "execution_count": 21,
   "id": "ce5ebc84",
   "metadata": {},
   "outputs": [],
   "source": [
    "lst1 = [4,8,9,10,2]"
   ]
  },
  {
   "cell_type": "code",
   "execution_count": 26,
   "id": "de812212",
   "metadata": {},
   "outputs": [
    {
     "name": "stdout",
     "output_type": "stream",
     "text": [
      "4\n",
      "8\n",
      "9\n",
      "10\n",
      "2\n"
     ]
    }
   ],
   "source": [
    "my_iter = iter(lst1)\n",
    "\n",
    "while True:\n",
    "    try:\n",
    "        res = next(my_iter)\n",
    "        print(res)\n",
    "    except StopIteration as se:\n",
    "        #print(se)\n",
    "        break"
   ]
  },
  {
   "cell_type": "code",
   "execution_count": 27,
   "id": "443c5308",
   "metadata": {},
   "outputs": [
    {
     "name": "stdout",
     "output_type": "stream",
     "text": [
      "4\n",
      "8\n",
      "9\n",
      "10\n",
      "2\n"
     ]
    }
   ],
   "source": [
    "for i in lst1:\n",
    "    print(i)"
   ]
  },
  {
   "cell_type": "code",
   "execution_count": null,
   "id": "c6bb1dcf",
   "metadata": {},
   "outputs": [],
   "source": []
  },
  {
   "cell_type": "code",
   "execution_count": 28,
   "id": "fdb61dec",
   "metadata": {},
   "outputs": [],
   "source": [
    "#Building Custom Iterators"
   ]
  },
  {
   "cell_type": "code",
   "execution_count": 29,
   "id": "d8d9e052",
   "metadata": {},
   "outputs": [],
   "source": [
    "class CubeNumber:\n",
    "    def __init__(self, number = 0):\n",
    "        self.number = number\n",
    "        \n",
    "    def __iter__(self):\n",
    "        self.ele = 0\n",
    "        return self\n",
    "    \n",
    "    def __next__(self):\n",
    "        if self.ele<=self.number:\n",
    "            res = self.ele**3\n",
    "            self.ele+=1\n",
    "            return res\n",
    "        else:\n",
    "            raise StopIteration"
   ]
  },
  {
   "cell_type": "code",
   "execution_count": 31,
   "id": "b2767b86",
   "metadata": {},
   "outputs": [],
   "source": [
    "a = CubeNumber(6)"
   ]
  },
  {
   "cell_type": "code",
   "execution_count": 34,
   "id": "b0d2bbb0",
   "metadata": {},
   "outputs": [],
   "source": [
    "b = a.__iter__()"
   ]
  },
  {
   "cell_type": "code",
   "execution_count": 35,
   "id": "d686b035",
   "metadata": {},
   "outputs": [
    {
     "data": {
      "text/plain": [
       "0"
      ]
     },
     "execution_count": 35,
     "metadata": {},
     "output_type": "execute_result"
    }
   ],
   "source": [
    "b.__next__()"
   ]
  },
  {
   "cell_type": "code",
   "execution_count": 36,
   "id": "2e94abc4",
   "metadata": {},
   "outputs": [
    {
     "data": {
      "text/plain": [
       "1"
      ]
     },
     "execution_count": 36,
     "metadata": {},
     "output_type": "execute_result"
    }
   ],
   "source": [
    "b.__next__()"
   ]
  },
  {
   "cell_type": "code",
   "execution_count": 37,
   "id": "05f1a5d8",
   "metadata": {},
   "outputs": [
    {
     "data": {
      "text/plain": [
       "8"
      ]
     },
     "execution_count": 37,
     "metadata": {},
     "output_type": "execute_result"
    }
   ],
   "source": [
    "b.__next__()"
   ]
  },
  {
   "cell_type": "code",
   "execution_count": 38,
   "id": "705435af",
   "metadata": {},
   "outputs": [
    {
     "data": {
      "text/plain": [
       "27"
      ]
     },
     "execution_count": 38,
     "metadata": {},
     "output_type": "execute_result"
    }
   ],
   "source": [
    "b.__next__()"
   ]
  },
  {
   "cell_type": "code",
   "execution_count": 39,
   "id": "d12f5329",
   "metadata": {},
   "outputs": [
    {
     "data": {
      "text/plain": [
       "64"
      ]
     },
     "execution_count": 39,
     "metadata": {},
     "output_type": "execute_result"
    }
   ],
   "source": [
    "b.__next__()"
   ]
  },
  {
   "cell_type": "code",
   "execution_count": 40,
   "id": "22dd2aeb",
   "metadata": {},
   "outputs": [
    {
     "data": {
      "text/plain": [
       "125"
      ]
     },
     "execution_count": 40,
     "metadata": {},
     "output_type": "execute_result"
    }
   ],
   "source": [
    "b.__next__()"
   ]
  },
  {
   "cell_type": "code",
   "execution_count": 41,
   "id": "0232e5da",
   "metadata": {},
   "outputs": [
    {
     "data": {
      "text/plain": [
       "216"
      ]
     },
     "execution_count": 41,
     "metadata": {},
     "output_type": "execute_result"
    }
   ],
   "source": [
    "b.__next__()"
   ]
  },
  {
   "cell_type": "code",
   "execution_count": 42,
   "id": "82608ba3",
   "metadata": {},
   "outputs": [
    {
     "ename": "StopIteration",
     "evalue": "",
     "output_type": "error",
     "traceback": [
      "\u001b[1;31m---------------------------------------------------------------------------\u001b[0m",
      "\u001b[1;31mStopIteration\u001b[0m                             Traceback (most recent call last)",
      "\u001b[1;32m<ipython-input-42-d27662ec52f3>\u001b[0m in \u001b[0;36m<module>\u001b[1;34m\u001b[0m\n\u001b[1;32m----> 1\u001b[1;33m \u001b[0mb\u001b[0m\u001b[1;33m.\u001b[0m\u001b[0m__next__\u001b[0m\u001b[1;33m(\u001b[0m\u001b[1;33m)\u001b[0m\u001b[1;33m\u001b[0m\u001b[1;33m\u001b[0m\u001b[0m\n\u001b[0m",
      "\u001b[1;32m<ipython-input-29-7498479ed10e>\u001b[0m in \u001b[0;36m__next__\u001b[1;34m(self)\u001b[0m\n\u001b[0;32m     13\u001b[0m             \u001b[1;32mreturn\u001b[0m \u001b[0mres\u001b[0m\u001b[1;33m\u001b[0m\u001b[1;33m\u001b[0m\u001b[0m\n\u001b[0;32m     14\u001b[0m         \u001b[1;32melse\u001b[0m\u001b[1;33m:\u001b[0m\u001b[1;33m\u001b[0m\u001b[1;33m\u001b[0m\u001b[0m\n\u001b[1;32m---> 15\u001b[1;33m             \u001b[1;32mraise\u001b[0m \u001b[0mStopIteration\u001b[0m\u001b[1;33m\u001b[0m\u001b[1;33m\u001b[0m\u001b[0m\n\u001b[0m",
      "\u001b[1;31mStopIteration\u001b[0m: "
     ]
    }
   ],
   "source": [
    "b.__next__()"
   ]
  },
  {
   "cell_type": "code",
   "execution_count": 43,
   "id": "7408e142",
   "metadata": {},
   "outputs": [],
   "source": [
    "w = CubeNumber(7)"
   ]
  },
  {
   "cell_type": "code",
   "execution_count": 44,
   "id": "0efa429c",
   "metadata": {},
   "outputs": [
    {
     "name": "stdout",
     "output_type": "stream",
     "text": [
      "0\n",
      "1\n",
      "8\n",
      "27\n",
      "64\n",
      "125\n",
      "216\n",
      "343\n"
     ]
    }
   ],
   "source": [
    "for i in w:\n",
    "    print(i)"
   ]
  },
  {
   "cell_type": "code",
   "execution_count": 45,
   "id": "2cd3b94c",
   "metadata": {},
   "outputs": [],
   "source": [
    "t = iter(w)"
   ]
  },
  {
   "cell_type": "code",
   "execution_count": 46,
   "id": "e1df2b50",
   "metadata": {},
   "outputs": [
    {
     "data": {
      "text/plain": [
       "0"
      ]
     },
     "execution_count": 46,
     "metadata": {},
     "output_type": "execute_result"
    }
   ],
   "source": [
    "next(t)"
   ]
  },
  {
   "cell_type": "code",
   "execution_count": 47,
   "id": "ecac6f05",
   "metadata": {},
   "outputs": [
    {
     "data": {
      "text/plain": [
       "1"
      ]
     },
     "execution_count": 47,
     "metadata": {},
     "output_type": "execute_result"
    }
   ],
   "source": [
    "next(t)"
   ]
  },
  {
   "cell_type": "code",
   "execution_count": 48,
   "id": "bc9b75eb",
   "metadata": {},
   "outputs": [
    {
     "data": {
      "text/plain": [
       "8"
      ]
     },
     "execution_count": 48,
     "metadata": {},
     "output_type": "execute_result"
    }
   ],
   "source": [
    "next(t)"
   ]
  },
  {
   "cell_type": "code",
   "execution_count": 49,
   "id": "484bdb64",
   "metadata": {},
   "outputs": [
    {
     "data": {
      "text/plain": [
       "27"
      ]
     },
     "execution_count": 49,
     "metadata": {},
     "output_type": "execute_result"
    }
   ],
   "source": [
    "next(t)"
   ]
  },
  {
   "cell_type": "code",
   "execution_count": 50,
   "id": "461039e7",
   "metadata": {},
   "outputs": [
    {
     "data": {
      "text/plain": [
       "64"
      ]
     },
     "execution_count": 50,
     "metadata": {},
     "output_type": "execute_result"
    }
   ],
   "source": [
    "next(t)"
   ]
  },
  {
   "cell_type": "code",
   "execution_count": 51,
   "id": "5580336e",
   "metadata": {},
   "outputs": [
    {
     "data": {
      "text/plain": [
       "125"
      ]
     },
     "execution_count": 51,
     "metadata": {},
     "output_type": "execute_result"
    }
   ],
   "source": [
    "next(t)"
   ]
  },
  {
   "cell_type": "code",
   "execution_count": 53,
   "id": "0eeaa84b",
   "metadata": {},
   "outputs": [
    {
     "data": {
      "text/plain": [
       "216"
      ]
     },
     "execution_count": 53,
     "metadata": {},
     "output_type": "execute_result"
    }
   ],
   "source": [
    "next(t)"
   ]
  },
  {
   "cell_type": "code",
   "execution_count": 54,
   "id": "d72847db",
   "metadata": {},
   "outputs": [
    {
     "data": {
      "text/plain": [
       "343"
      ]
     },
     "execution_count": 54,
     "metadata": {},
     "output_type": "execute_result"
    }
   ],
   "source": [
    "next(t)"
   ]
  },
  {
   "cell_type": "code",
   "execution_count": 55,
   "id": "d8a0f274",
   "metadata": {},
   "outputs": [
    {
     "ename": "StopIteration",
     "evalue": "",
     "output_type": "error",
     "traceback": [
      "\u001b[1;31m---------------------------------------------------------------------------\u001b[0m",
      "\u001b[1;31mStopIteration\u001b[0m                             Traceback (most recent call last)",
      "\u001b[1;32m<ipython-input-55-f843efe259be>\u001b[0m in \u001b[0;36m<module>\u001b[1;34m\u001b[0m\n\u001b[1;32m----> 1\u001b[1;33m \u001b[0mnext\u001b[0m\u001b[1;33m(\u001b[0m\u001b[0mt\u001b[0m\u001b[1;33m)\u001b[0m\u001b[1;33m\u001b[0m\u001b[1;33m\u001b[0m\u001b[0m\n\u001b[0m",
      "\u001b[1;32m<ipython-input-29-7498479ed10e>\u001b[0m in \u001b[0;36m__next__\u001b[1;34m(self)\u001b[0m\n\u001b[0;32m     13\u001b[0m             \u001b[1;32mreturn\u001b[0m \u001b[0mres\u001b[0m\u001b[1;33m\u001b[0m\u001b[1;33m\u001b[0m\u001b[0m\n\u001b[0;32m     14\u001b[0m         \u001b[1;32melse\u001b[0m\u001b[1;33m:\u001b[0m\u001b[1;33m\u001b[0m\u001b[1;33m\u001b[0m\u001b[0m\n\u001b[1;32m---> 15\u001b[1;33m             \u001b[1;32mraise\u001b[0m \u001b[0mStopIteration\u001b[0m\u001b[1;33m\u001b[0m\u001b[1;33m\u001b[0m\u001b[0m\n\u001b[0m",
      "\u001b[1;31mStopIteration\u001b[0m: "
     ]
    }
   ],
   "source": [
    "next(t)"
   ]
  },
  {
   "cell_type": "code",
   "execution_count": null,
   "id": "29bc4471",
   "metadata": {},
   "outputs": [],
   "source": []
  },
  {
   "cell_type": "code",
   "execution_count": 56,
   "id": "27b40560",
   "metadata": {},
   "outputs": [],
   "source": [
    "def my_genteraor():\n",
    "    n = 1\n",
    "    \n",
    "    print(\"First time.\")\n",
    "    yield n\n",
    "    \n",
    "    n+=1\n",
    "    print(\"Second Time\")\n",
    "    yield n\n",
    "    \n",
    "    n+=1\n",
    "    print(\"Third time\")\n",
    "    yield n\n",
    "    \n",
    "    n+=1\n",
    "    print(\"Forth Time\")\n",
    "    yield n\n",
    "    \n",
    "    \n",
    "    \n",
    "    \n",
    "    "
   ]
  },
  {
   "cell_type": "code",
   "execution_count": 58,
   "id": "061ad602",
   "metadata": {},
   "outputs": [],
   "source": [
    "my_gen = my_genteraor()"
   ]
  },
  {
   "cell_type": "code",
   "execution_count": 59,
   "id": "f967121c",
   "metadata": {},
   "outputs": [
    {
     "name": "stdout",
     "output_type": "stream",
     "text": [
      "First time.\n"
     ]
    },
    {
     "data": {
      "text/plain": [
       "1"
      ]
     },
     "execution_count": 59,
     "metadata": {},
     "output_type": "execute_result"
    }
   ],
   "source": [
    "next(my_gen)"
   ]
  },
  {
   "cell_type": "code",
   "execution_count": 60,
   "id": "ce832164",
   "metadata": {},
   "outputs": [
    {
     "name": "stdout",
     "output_type": "stream",
     "text": [
      "Second Time\n"
     ]
    },
    {
     "data": {
      "text/plain": [
       "2"
      ]
     },
     "execution_count": 60,
     "metadata": {},
     "output_type": "execute_result"
    }
   ],
   "source": [
    "next(my_gen)"
   ]
  },
  {
   "cell_type": "code",
   "execution_count": 61,
   "id": "47183220",
   "metadata": {},
   "outputs": [
    {
     "name": "stdout",
     "output_type": "stream",
     "text": [
      "Third time\n"
     ]
    },
    {
     "data": {
      "text/plain": [
       "3"
      ]
     },
     "execution_count": 61,
     "metadata": {},
     "output_type": "execute_result"
    }
   ],
   "source": [
    "next(my_gen)"
   ]
  },
  {
   "cell_type": "code",
   "execution_count": 62,
   "id": "d644ebaa",
   "metadata": {},
   "outputs": [
    {
     "name": "stdout",
     "output_type": "stream",
     "text": [
      "Forth Time\n"
     ]
    },
    {
     "data": {
      "text/plain": [
       "4"
      ]
     },
     "execution_count": 62,
     "metadata": {},
     "output_type": "execute_result"
    }
   ],
   "source": [
    "next(my_gen)"
   ]
  },
  {
   "cell_type": "code",
   "execution_count": 63,
   "id": "5dbc05ca",
   "metadata": {},
   "outputs": [
    {
     "ename": "StopIteration",
     "evalue": "",
     "output_type": "error",
     "traceback": [
      "\u001b[1;31m---------------------------------------------------------------------------\u001b[0m",
      "\u001b[1;31mStopIteration\u001b[0m                             Traceback (most recent call last)",
      "\u001b[1;32m<ipython-input-63-78dc05d55b31>\u001b[0m in \u001b[0;36m<module>\u001b[1;34m\u001b[0m\n\u001b[1;32m----> 1\u001b[1;33m \u001b[0mnext\u001b[0m\u001b[1;33m(\u001b[0m\u001b[0mmy_gen\u001b[0m\u001b[1;33m)\u001b[0m\u001b[1;33m\u001b[0m\u001b[1;33m\u001b[0m\u001b[0m\n\u001b[0m",
      "\u001b[1;31mStopIteration\u001b[0m: "
     ]
    }
   ],
   "source": [
    "next(my_gen)"
   ]
  },
  {
   "cell_type": "code",
   "execution_count": 64,
   "id": "0742af7d",
   "metadata": {},
   "outputs": [
    {
     "data": {
      "text/plain": [
       "generator"
      ]
     },
     "execution_count": 64,
     "metadata": {},
     "output_type": "execute_result"
    }
   ],
   "source": [
    "type(my_gen)"
   ]
  },
  {
   "cell_type": "code",
   "execution_count": null,
   "id": "bf4995d3",
   "metadata": {},
   "outputs": [],
   "source": []
  },
  {
   "cell_type": "code",
   "execution_count": 86,
   "id": "75928b7e",
   "metadata": {},
   "outputs": [],
   "source": [
    "def counter_fun(n):\n",
    "    i = 1\n",
    "    \n",
    "    while i<=n:\n",
    "        return i\n",
    "        \n",
    "        i+=1"
   ]
  },
  {
   "cell_type": "code",
   "execution_count": 87,
   "id": "5053d177",
   "metadata": {},
   "outputs": [],
   "source": [
    "def counter_gen(n):\n",
    "    i = 1\n",
    "    \n",
    "    while i<=n:\n",
    "        yield i\n",
    "        \n",
    "        i+=1"
   ]
  },
  {
   "cell_type": "code",
   "execution_count": 68,
   "id": "a9c74a12",
   "metadata": {},
   "outputs": [
    {
     "data": {
      "text/plain": [
       "1"
      ]
     },
     "execution_count": 68,
     "metadata": {},
     "output_type": "execute_result"
    }
   ],
   "source": [
    "counter_fun(9)"
   ]
  },
  {
   "cell_type": "code",
   "execution_count": 69,
   "id": "69501edf",
   "metadata": {},
   "outputs": [
    {
     "data": {
      "text/plain": [
       "1"
      ]
     },
     "execution_count": 69,
     "metadata": {},
     "output_type": "execute_result"
    }
   ],
   "source": [
    "counter_fun(10)"
   ]
  },
  {
   "cell_type": "code",
   "execution_count": 70,
   "id": "7ed0c4d5",
   "metadata": {},
   "outputs": [
    {
     "data": {
      "text/plain": [
       "1"
      ]
     },
     "execution_count": 70,
     "metadata": {},
     "output_type": "execute_result"
    }
   ],
   "source": [
    "counter_fun(15)"
   ]
  },
  {
   "cell_type": "code",
   "execution_count": 72,
   "id": "b0b991b0",
   "metadata": {},
   "outputs": [],
   "source": [
    "h = counter_gen(10)"
   ]
  },
  {
   "cell_type": "code",
   "execution_count": 73,
   "id": "b653897d",
   "metadata": {},
   "outputs": [
    {
     "data": {
      "text/plain": [
       "1"
      ]
     },
     "execution_count": 73,
     "metadata": {},
     "output_type": "execute_result"
    }
   ],
   "source": [
    "next(h)"
   ]
  },
  {
   "cell_type": "code",
   "execution_count": 74,
   "id": "3c9a3471",
   "metadata": {},
   "outputs": [
    {
     "data": {
      "text/plain": [
       "2"
      ]
     },
     "execution_count": 74,
     "metadata": {},
     "output_type": "execute_result"
    }
   ],
   "source": [
    "next(h)"
   ]
  },
  {
   "cell_type": "code",
   "execution_count": 75,
   "id": "988f4736",
   "metadata": {},
   "outputs": [
    {
     "data": {
      "text/plain": [
       "3"
      ]
     },
     "execution_count": 75,
     "metadata": {},
     "output_type": "execute_result"
    }
   ],
   "source": [
    "next(h)"
   ]
  },
  {
   "cell_type": "code",
   "execution_count": 83,
   "id": "3eb283a1",
   "metadata": {},
   "outputs": [
    {
     "ename": "StopIteration",
     "evalue": "",
     "output_type": "error",
     "traceback": [
      "\u001b[1;31m---------------------------------------------------------------------------\u001b[0m",
      "\u001b[1;31mStopIteration\u001b[0m                             Traceback (most recent call last)",
      "\u001b[1;32m<ipython-input-83-31146b9ab14d>\u001b[0m in \u001b[0;36m<module>\u001b[1;34m\u001b[0m\n\u001b[1;32m----> 1\u001b[1;33m \u001b[0mnext\u001b[0m\u001b[1;33m(\u001b[0m\u001b[0mh\u001b[0m\u001b[1;33m)\u001b[0m\u001b[1;33m\u001b[0m\u001b[1;33m\u001b[0m\u001b[0m\n\u001b[0m",
      "\u001b[1;31mStopIteration\u001b[0m: "
     ]
    }
   ],
   "source": [
    "next(h)"
   ]
  },
  {
   "cell_type": "code",
   "execution_count": null,
   "id": "59c3885f",
   "metadata": {},
   "outputs": [],
   "source": []
  },
  {
   "cell_type": "code",
   "execution_count": 88,
   "id": "05fb2b37",
   "metadata": {},
   "outputs": [
    {
     "name": "stdout",
     "output_type": "stream",
     "text": [
      "1\n",
      "2\n",
      "3\n",
      "4\n",
      "5\n",
      "6\n",
      "7\n",
      "8\n"
     ]
    }
   ],
   "source": [
    "for i in counter_gen(8):\n",
    "    print(i)"
   ]
  },
  {
   "cell_type": "code",
   "execution_count": 107,
   "id": "3e9aebab",
   "metadata": {},
   "outputs": [],
   "source": [
    "def reverse_string(string):\n",
    "    for i in range(len(string)-1, -1, -1):\n",
    "        yield string[i]"
   ]
  },
  {
   "cell_type": "code",
   "execution_count": 108,
   "id": "1d481302",
   "metadata": {},
   "outputs": [],
   "source": [
    "p = reverse_string(\"Mohit\")"
   ]
  },
  {
   "cell_type": "code",
   "execution_count": 105,
   "id": "fe0dedf1",
   "metadata": {},
   "outputs": [
    {
     "ename": "StopIteration",
     "evalue": "",
     "output_type": "error",
     "traceback": [
      "\u001b[1;31m---------------------------------------------------------------------------\u001b[0m",
      "\u001b[1;31mStopIteration\u001b[0m                             Traceback (most recent call last)",
      "\u001b[1;32m<ipython-input-105-edf152ee890d>\u001b[0m in \u001b[0;36m<module>\u001b[1;34m\u001b[0m\n\u001b[1;32m----> 1\u001b[1;33m \u001b[0mnext\u001b[0m\u001b[1;33m(\u001b[0m\u001b[0mp\u001b[0m\u001b[1;33m)\u001b[0m\u001b[1;33m\u001b[0m\u001b[1;33m\u001b[0m\u001b[0m\n\u001b[0m",
      "\u001b[1;31mStopIteration\u001b[0m: "
     ]
    }
   ],
   "source": [
    "next(p)"
   ]
  },
  {
   "cell_type": "code",
   "execution_count": 109,
   "id": "965df662",
   "metadata": {},
   "outputs": [
    {
     "name": "stdout",
     "output_type": "stream",
     "text": [
      "t\n",
      "i\n",
      "h\n",
      "o\n",
      "M\n"
     ]
    }
   ],
   "source": [
    "for i in p:\n",
    "    print(i)"
   ]
  },
  {
   "cell_type": "code",
   "execution_count": null,
   "id": "495901eb",
   "metadata": {},
   "outputs": [],
   "source": []
  },
  {
   "cell_type": "code",
   "execution_count": 115,
   "id": "f77dd951",
   "metadata": {},
   "outputs": [],
   "source": [
    "square_lst = [i**2 for i in range(100000) if i%2==0]"
   ]
  },
  {
   "cell_type": "code",
   "execution_count": 116,
   "id": "2a965062",
   "metadata": {},
   "outputs": [],
   "source": [
    "square_gen = (i**2 for i in range(1000000) if i%2==0)"
   ]
  },
  {
   "cell_type": "code",
   "execution_count": null,
   "id": "8f7388fe",
   "metadata": {},
   "outputs": [],
   "source": []
  },
  {
   "cell_type": "code",
   "execution_count": 119,
   "id": "511d4b43",
   "metadata": {},
   "outputs": [
    {
     "name": "stdout",
     "output_type": "stream",
     "text": [
      "0\n",
      "4\n",
      "16\n",
      "36\n",
      "64\n",
      "100\n",
      "144\n",
      "196\n",
      "256\n",
      "324\n",
      "400\n"
     ]
    }
   ],
   "source": [
    "idx = 0\n",
    "for i in square_lst:\n",
    "    if idx<=10:\n",
    "        print(i)\n",
    "    idx +=1"
   ]
  },
  {
   "cell_type": "code",
   "execution_count": 120,
   "id": "e8f2eb78",
   "metadata": {},
   "outputs": [
    {
     "name": "stdout",
     "output_type": "stream",
     "text": [
      "0\n",
      "4\n",
      "16\n",
      "36\n",
      "64\n",
      "100\n",
      "144\n",
      "196\n",
      "256\n",
      "324\n",
      "400\n"
     ]
    }
   ],
   "source": [
    "dx = 0\n",
    "for i in square_gen:\n",
    "    if dx<=10:\n",
    "        print(i)\n",
    "    dx+=1"
   ]
  },
  {
   "cell_type": "code",
   "execution_count": null,
   "id": "c50c1696",
   "metadata": {},
   "outputs": [],
   "source": []
  },
  {
   "cell_type": "code",
   "execution_count": 121,
   "id": "816f64fd",
   "metadata": {},
   "outputs": [
    {
     "name": "stdout",
     "output_type": "stream",
     "text": [
      "0\n",
      "4\n",
      "16\n",
      "36\n",
      "64\n",
      "100\n",
      "144\n",
      "196\n",
      "256\n",
      "324\n"
     ]
    }
   ],
   "source": [
    "r = 0\n",
    "\n",
    "for i in square_lst:\n",
    "    if r == 10:\n",
    "        break\n",
    "    else:\n",
    "        print(i)\n",
    "        r+=1"
   ]
  },
  {
   "cell_type": "code",
   "execution_count": null,
   "id": "c5a09cc4",
   "metadata": {},
   "outputs": [],
   "source": []
  },
  {
   "cell_type": "code",
   "execution_count": 122,
   "id": "c215ba31",
   "metadata": {},
   "outputs": [],
   "source": [
    "#"
   ]
  },
  {
   "cell_type": "code",
   "execution_count": 123,
   "id": "6096127e",
   "metadata": {},
   "outputs": [],
   "source": [
    "def add(s) : return s+1\n",
    "\n",
    "def sub(s) : return s-1"
   ]
  },
  {
   "cell_type": "code",
   "execution_count": 124,
   "id": "a222d4a8",
   "metadata": {},
   "outputs": [
    {
     "data": {
      "text/plain": [
       "11"
      ]
     },
     "execution_count": 124,
     "metadata": {},
     "output_type": "execute_result"
    }
   ],
   "source": [
    "add(10)"
   ]
  },
  {
   "cell_type": "code",
   "execution_count": 125,
   "id": "193c27ec",
   "metadata": {},
   "outputs": [
    {
     "data": {
      "text/plain": [
       "11"
      ]
     },
     "execution_count": 125,
     "metadata": {},
     "output_type": "execute_result"
    }
   ],
   "source": [
    "sub(12)"
   ]
  },
  {
   "cell_type": "code",
   "execution_count": 126,
   "id": "fd456f13",
   "metadata": {},
   "outputs": [],
   "source": [
    "def calculator(operator, num):\n",
    "    result = operator(num)\n",
    "    return result"
   ]
  },
  {
   "cell_type": "code",
   "execution_count": 127,
   "id": "d7f626bd",
   "metadata": {},
   "outputs": [
    {
     "data": {
      "text/plain": [
       "5"
      ]
     },
     "execution_count": 127,
     "metadata": {},
     "output_type": "execute_result"
    }
   ],
   "source": [
    "calculator(sub, 6)"
   ]
  },
  {
   "cell_type": "code",
   "execution_count": 128,
   "id": "cdc74ac9",
   "metadata": {},
   "outputs": [
    {
     "data": {
      "text/plain": [
       "9"
      ]
     },
     "execution_count": 128,
     "metadata": {},
     "output_type": "execute_result"
    }
   ],
   "source": [
    "calculator(add, 8)"
   ]
  },
  {
   "cell_type": "code",
   "execution_count": 129,
   "id": "4db55c0b",
   "metadata": {},
   "outputs": [],
   "source": [
    "add??"
   ]
  },
  {
   "cell_type": "code",
   "execution_count": null,
   "id": "68f847bb",
   "metadata": {},
   "outputs": [],
   "source": []
  },
  {
   "cell_type": "code",
   "execution_count": 139,
   "id": "60c55aa9",
   "metadata": {},
   "outputs": [],
   "source": [
    "def basic():\n",
    "    print(\"I am a very basic function\")"
   ]
  },
  {
   "cell_type": "code",
   "execution_count": 140,
   "id": "0903d846",
   "metadata": {},
   "outputs": [
    {
     "name": "stdout",
     "output_type": "stream",
     "text": [
      "I am a very basic function\n"
     ]
    }
   ],
   "source": [
    "basic()"
   ]
  },
  {
   "cell_type": "code",
   "execution_count": 141,
   "id": "ae361fa7",
   "metadata": {},
   "outputs": [
    {
     "name": "stdout",
     "output_type": "stream",
     "text": [
      "I am a very basic function\n"
     ]
    }
   ],
   "source": [
    "basic()"
   ]
  },
  {
   "cell_type": "code",
   "execution_count": 146,
   "id": "e95ff8f5",
   "metadata": {},
   "outputs": [],
   "source": [
    "def add_features(fun):\n",
    "    def wrapper():\n",
    "        print(\"=\"*50)\n",
    "        print(\"New features are added..\")\n",
    "        fun()\n",
    "        print(\"=\"*50)\n",
    "    return wrapper"
   ]
  },
  {
   "cell_type": "code",
   "execution_count": 149,
   "id": "b6413109",
   "metadata": {},
   "outputs": [],
   "source": [
    "@add_features\n",
    "def basic():\n",
    "    print(\"I am a very basic function\")"
   ]
  },
  {
   "cell_type": "code",
   "execution_count": 144,
   "id": "511e2da5",
   "metadata": {},
   "outputs": [],
   "source": [
    "main = add_features(basic)"
   ]
  },
  {
   "cell_type": "code",
   "execution_count": 145,
   "id": "da3b5605",
   "metadata": {},
   "outputs": [
    {
     "name": "stdout",
     "output_type": "stream",
     "text": [
      "==================================================\n",
      "New features are added..\n",
      "I am a very basic function\n",
      "==================================================\n"
     ]
    }
   ],
   "source": [
    "main()"
   ]
  },
  {
   "cell_type": "code",
   "execution_count": 150,
   "id": "e13dad24",
   "metadata": {},
   "outputs": [
    {
     "name": "stdout",
     "output_type": "stream",
     "text": [
      "==================================================\n",
      "New features are added..\n",
      "I am a very basic function\n",
      "==================================================\n"
     ]
    }
   ],
   "source": [
    "basic()"
   ]
  },
  {
   "cell_type": "code",
   "execution_count": null,
   "id": "ae13c686",
   "metadata": {},
   "outputs": [],
   "source": []
  },
  {
   "cell_type": "code",
   "execution_count": 151,
   "id": "908c76c3",
   "metadata": {},
   "outputs": [],
   "source": [
    "DB = {\n",
    "    'navneet':'nav@123',\n",
    "    'rahul':'rahul@123',\n",
    "    'pooja':'pooja@123'\n",
    "}"
   ]
  },
  {
   "cell_type": "code",
   "execution_count": 152,
   "id": "67785299",
   "metadata": {},
   "outputs": [],
   "source": [
    "def add(a,b):\n",
    "    return a+b"
   ]
  },
  {
   "cell_type": "code",
   "execution_count": 153,
   "id": "ffca6c3d",
   "metadata": {},
   "outputs": [
    {
     "data": {
      "text/plain": [
       "11"
      ]
     },
     "execution_count": 153,
     "metadata": {},
     "output_type": "execute_result"
    }
   ],
   "source": [
    "add(5,6)"
   ]
  },
  {
   "cell_type": "code",
   "execution_count": 154,
   "id": "8f04ba0f",
   "metadata": {},
   "outputs": [
    {
     "data": {
      "text/plain": [
       "15"
      ]
     },
     "execution_count": 154,
     "metadata": {},
     "output_type": "execute_result"
    }
   ],
   "source": [
    "add(7,8)"
   ]
  },
  {
   "cell_type": "code",
   "execution_count": 163,
   "id": "e5214a68",
   "metadata": {},
   "outputs": [],
   "source": [
    "def login_requried(func):\n",
    "    def wrapper(username, password, *args, **kwargs):\n",
    "        if username in DB and DB[username] == password:\n",
    "            func(*args, **kwargs)\n",
    "        else:\n",
    "            print(\"Authentication Failed...\")\n",
    "    return wrapper\n",
    "            "
   ]
  },
  {
   "cell_type": "code",
   "execution_count": 164,
   "id": "56b42e71",
   "metadata": {},
   "outputs": [
    {
     "name": "stdout",
     "output_type": "stream",
     "text": [
      "Authentication Failed...\n"
     ]
    }
   ],
   "source": [
    "add(10,12)"
   ]
  },
  {
   "cell_type": "code",
   "execution_count": 165,
   "id": "a07324f9",
   "metadata": {},
   "outputs": [],
   "source": [
    "@login_requried\n",
    "def add(a,b):\n",
    "    print (a+b)"
   ]
  },
  {
   "cell_type": "code",
   "execution_count": 166,
   "id": "5f40cc19",
   "metadata": {},
   "outputs": [
    {
     "name": "stdout",
     "output_type": "stream",
     "text": [
      "Authentication Failed...\n"
     ]
    }
   ],
   "source": [
    "add(8,9)"
   ]
  },
  {
   "cell_type": "code",
   "execution_count": 167,
   "id": "e5510db4",
   "metadata": {},
   "outputs": [
    {
     "name": "stdout",
     "output_type": "stream",
     "text": [
      "29\n"
     ]
    }
   ],
   "source": [
    "g = add('rahul', 'rahul@123', 14,15)"
   ]
  },
  {
   "cell_type": "code",
   "execution_count": null,
   "id": "d003e531",
   "metadata": {},
   "outputs": [],
   "source": []
  },
  {
   "cell_type": "code",
   "execution_count": 176,
   "id": "7acc989c",
   "metadata": {},
   "outputs": [],
   "source": [
    "def star(func):\n",
    "    def wrapper(*args, **kwargs):\n",
    "        print(\"*\"*50)\n",
    "        func(*args, **kwargs)\n",
    "        print(\"*\"*50)\n",
    "    return wrapper\n"
   ]
  },
  {
   "cell_type": "code",
   "execution_count": 177,
   "id": "ec171d4f",
   "metadata": {},
   "outputs": [],
   "source": [
    "def doller(func):\n",
    "    def wrapper(*args, **kwargs):\n",
    "        print(\"$\"*50)\n",
    "        func(*args, **kwargs)\n",
    "        print(\"$\"*50)\n",
    "    return wrapper"
   ]
  },
  {
   "cell_type": "code",
   "execution_count": 180,
   "id": "dca01547",
   "metadata": {},
   "outputs": [],
   "source": [
    "@star\n",
    "@doller\n",
    "def main(message):\n",
    "    print(message)"
   ]
  },
  {
   "cell_type": "code",
   "execution_count": 181,
   "id": "2eeb82e4",
   "metadata": {},
   "outputs": [
    {
     "name": "stdout",
     "output_type": "stream",
     "text": [
      "**************************************************\n",
      "$$$$$$$$$$$$$$$$$$$$$$$$$$$$$$$$$$$$$$$$$$$$$$$$$$\n",
      "i have complted all python concepts\n",
      "$$$$$$$$$$$$$$$$$$$$$$$$$$$$$$$$$$$$$$$$$$$$$$$$$$\n",
      "**************************************************\n"
     ]
    }
   ],
   "source": [
    "main(\"i have complted all python concepts\")"
   ]
  },
  {
   "cell_type": "code",
   "execution_count": null,
   "id": "599d61c8",
   "metadata": {},
   "outputs": [],
   "source": []
  }
 ],
 "metadata": {
  "kernelspec": {
   "display_name": "Python 3",
   "language": "python",
   "name": "python3"
  },
  "language_info": {
   "codemirror_mode": {
    "name": "ipython",
    "version": 3
   },
   "file_extension": ".py",
   "mimetype": "text/x-python",
   "name": "python",
   "nbconvert_exporter": "python",
   "pygments_lexer": "ipython3",
   "version": "3.8.8"
  }
 },
 "nbformat": 4,
 "nbformat_minor": 5
}
