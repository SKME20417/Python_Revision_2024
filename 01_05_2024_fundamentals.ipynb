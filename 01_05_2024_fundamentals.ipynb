{
 "cells": [
  {
   "cell_type": "code",
   "execution_count": 1,
   "id": "6ee1a1bc",
   "metadata": {},
   "outputs": [
    {
     "name": "stdout",
     "output_type": "stream",
     "text": [
      "100\n"
     ]
    }
   ],
   "source": [
    "print(100)"
   ]
  },
  {
   "cell_type": "code",
   "execution_count": 2,
   "id": "6d43a9cf",
   "metadata": {},
   "outputs": [
    {
     "name": "stdout",
     "output_type": "stream",
     "text": [
      "200\n"
     ]
    }
   ],
   "source": [
    "print(200)"
   ]
  },
  {
   "cell_type": "code",
   "execution_count": 3,
   "id": "6db32fd6",
   "metadata": {},
   "outputs": [
    {
     "name": "stdout",
     "output_type": "stream",
     "text": [
      "Hello world\n"
     ]
    }
   ],
   "source": [
    "print(\"Hello world\")"
   ]
  },
  {
   "cell_type": "code",
   "execution_count": 4,
   "id": "ec665063",
   "metadata": {},
   "outputs": [
    {
     "name": "stdout",
     "output_type": "stream",
     "text": [
      "89\n"
     ]
    }
   ],
   "source": [
    "print(\"89\")"
   ]
  },
  {
   "cell_type": "code",
   "execution_count": 9,
   "id": "9c81f7b5",
   "metadata": {},
   "outputs": [
    {
     "name": "stdout",
     "output_type": "stream",
     "text": [
      "100 200 3.6 data True\n"
     ]
    }
   ],
   "source": [
    "print(100, 200, 3.6, \"data\", True)  # i have printed some elemnents"
   ]
  },
  {
   "cell_type": "code",
   "execution_count": 10,
   "id": "568d63fb",
   "metadata": {},
   "outputs": [],
   "source": [
    "# this is comment"
   ]
  },
  {
   "cell_type": "code",
   "execution_count": 11,
   "id": "4ad3ebf3",
   "metadata": {},
   "outputs": [],
   "source": [
    "# this line will not be executed"
   ]
  },
  {
   "cell_type": "code",
   "execution_count": 12,
   "id": "6f05751f",
   "metadata": {},
   "outputs": [
    {
     "name": "stdout",
     "output_type": "stream",
     "text": [
      "Hello students\n"
     ]
    }
   ],
   "source": [
    "print(\"Hello students\")"
   ]
  },
  {
   "cell_type": "code",
   "execution_count": 13,
   "id": "688a4091",
   "metadata": {},
   "outputs": [
    {
     "name": "stdout",
     "output_type": "stream",
     "text": [
      "Hello world\n"
     ]
    }
   ],
   "source": [
    "print(\"Hello world\")"
   ]
  },
  {
   "cell_type": "code",
   "execution_count": 14,
   "id": "09ee9913",
   "metadata": {},
   "outputs": [
    {
     "name": "stdout",
     "output_type": "stream",
     "text": [
      "100 500 School HTML\n"
     ]
    }
   ],
   "source": [
    "print(100, 500, \"School\", \"HTML\")"
   ]
  },
  {
   "cell_type": "code",
   "execution_count": 15,
   "id": "5483b5f7",
   "metadata": {},
   "outputs": [],
   "source": [
    "i = 80"
   ]
  },
  {
   "cell_type": "code",
   "execution_count": 16,
   "id": "6cad6d8a",
   "metadata": {},
   "outputs": [
    {
     "data": {
      "text/plain": [
       "int"
      ]
     },
     "execution_count": 16,
     "metadata": {},
     "output_type": "execute_result"
    }
   ],
   "source": [
    "type(i)"
   ]
  },
  {
   "cell_type": "code",
   "execution_count": 17,
   "id": "2fd13086",
   "metadata": {},
   "outputs": [],
   "source": [
    "abc1 = 90"
   ]
  },
  {
   "cell_type": "code",
   "execution_count": 18,
   "id": "88f821fc",
   "metadata": {},
   "outputs": [
    {
     "data": {
      "text/plain": [
       "int"
      ]
     },
     "execution_count": 18,
     "metadata": {},
     "output_type": "execute_result"
    }
   ],
   "source": [
    "type(abc1)"
   ]
  },
  {
   "cell_type": "code",
   "execution_count": 20,
   "id": "56f74eb3",
   "metadata": {},
   "outputs": [
    {
     "ename": "SyntaxError",
     "evalue": "invalid syntax (<ipython-input-20-a75492bedf9d>, line 1)",
     "output_type": "error",
     "traceback": [
      "\u001b[1;36m  File \u001b[1;32m\"<ipython-input-20-a75492bedf9d>\"\u001b[1;36m, line \u001b[1;32m1\u001b[0m\n\u001b[1;33m    1abc = 40 # invaild Variable\u001b[0m\n\u001b[1;37m     ^\u001b[0m\n\u001b[1;31mSyntaxError\u001b[0m\u001b[1;31m:\u001b[0m invalid syntax\n"
     ]
    }
   ],
   "source": [
    "1abc = 40 # invaild Variable"
   ]
  },
  {
   "cell_type": "code",
   "execution_count": 21,
   "id": "919d9c81",
   "metadata": {},
   "outputs": [
    {
     "name": "stdout",
     "output_type": "stream",
     "text": [
      "90\n"
     ]
    }
   ],
   "source": [
    "print(abc1)"
   ]
  },
  {
   "cell_type": "code",
   "execution_count": 22,
   "id": "5ff06730",
   "metadata": {},
   "outputs": [
    {
     "data": {
      "text/plain": [
       "int"
      ]
     },
     "execution_count": 22,
     "metadata": {},
     "output_type": "execute_result"
    }
   ],
   "source": [
    "type(abc1)"
   ]
  },
  {
   "cell_type": "code",
   "execution_count": 23,
   "id": "8360931b",
   "metadata": {},
   "outputs": [
    {
     "data": {
      "text/plain": [
       "140716578714192"
      ]
     },
     "execution_count": 23,
     "metadata": {},
     "output_type": "execute_result"
    }
   ],
   "source": [
    "id(abc1)"
   ]
  },
  {
   "cell_type": "code",
   "execution_count": 24,
   "id": "92c96a97",
   "metadata": {},
   "outputs": [
    {
     "data": {
      "text/plain": [
       "140716578713872"
      ]
     },
     "execution_count": 24,
     "metadata": {},
     "output_type": "execute_result"
    }
   ],
   "source": [
    "id(i)"
   ]
  },
  {
   "cell_type": "code",
   "execution_count": 25,
   "id": "4e8c4a68",
   "metadata": {},
   "outputs": [
    {
     "data": {
      "text/plain": [
       "80"
      ]
     },
     "execution_count": 25,
     "metadata": {},
     "output_type": "execute_result"
    }
   ],
   "source": [
    "i"
   ]
  },
  {
   "cell_type": "code",
   "execution_count": 26,
   "id": "8c290b6f",
   "metadata": {},
   "outputs": [
    {
     "name": "stdout",
     "output_type": "stream",
     "text": [
      "80\n"
     ]
    }
   ],
   "source": [
    "print(i)"
   ]
  },
  {
   "cell_type": "code",
   "execution_count": 27,
   "id": "b27a18f9",
   "metadata": {},
   "outputs": [
    {
     "data": {
      "text/plain": [
       "140716578713872"
      ]
     },
     "execution_count": 27,
     "metadata": {},
     "output_type": "execute_result"
    }
   ],
   "source": [
    "id(i)"
   ]
  },
  {
   "cell_type": "code",
   "execution_count": 28,
   "id": "8771237f",
   "metadata": {},
   "outputs": [],
   "source": [
    "i = \"Bootstrap\""
   ]
  },
  {
   "cell_type": "code",
   "execution_count": 29,
   "id": "045b493b",
   "metadata": {},
   "outputs": [
    {
     "data": {
      "text/plain": [
       "str"
      ]
     },
     "execution_count": 29,
     "metadata": {},
     "output_type": "execute_result"
    }
   ],
   "source": [
    "type(i)"
   ]
  },
  {
   "cell_type": "code",
   "execution_count": 30,
   "id": "5b9ce98e",
   "metadata": {},
   "outputs": [
    {
     "data": {
      "text/plain": [
       "2363956148016"
      ]
     },
     "execution_count": 30,
     "metadata": {},
     "output_type": "execute_result"
    }
   ],
   "source": [
    "id(i)"
   ]
  },
  {
   "cell_type": "code",
   "execution_count": 31,
   "id": "c81182b3",
   "metadata": {},
   "outputs": [],
   "source": [
    "my_num = 66"
   ]
  },
  {
   "cell_type": "code",
   "execution_count": 32,
   "id": "f6430472",
   "metadata": {},
   "outputs": [
    {
     "data": {
      "text/plain": [
       "int"
      ]
     },
     "execution_count": 32,
     "metadata": {},
     "output_type": "execute_result"
    }
   ],
   "source": [
    "type(my_num)"
   ]
  },
  {
   "cell_type": "code",
   "execution_count": 33,
   "id": "40627627",
   "metadata": {},
   "outputs": [
    {
     "data": {
      "text/plain": [
       "140716578713424"
      ]
     },
     "execution_count": 33,
     "metadata": {},
     "output_type": "execute_result"
    }
   ],
   "source": [
    "id(my_num)"
   ]
  },
  {
   "cell_type": "code",
   "execution_count": 34,
   "id": "847fa988",
   "metadata": {},
   "outputs": [
    {
     "name": "stdout",
     "output_type": "stream",
     "text": [
      "66\n"
     ]
    }
   ],
   "source": [
    "print(my_num)"
   ]
  },
  {
   "cell_type": "code",
   "execution_count": 35,
   "id": "6becc4b8",
   "metadata": {},
   "outputs": [
    {
     "name": "stdout",
     "output_type": "stream",
     "text": [
      "66\n"
     ]
    }
   ],
   "source": [
    "print(my_num)"
   ]
  },
  {
   "cell_type": "code",
   "execution_count": 37,
   "id": "6b81e0c1",
   "metadata": {},
   "outputs": [
    {
     "name": "stdout",
     "output_type": "stream",
     "text": [
      "<class 'int'>\n"
     ]
    }
   ],
   "source": [
    "print(type(my_num))"
   ]
  },
  {
   "cell_type": "code",
   "execution_count": 38,
   "id": "70bea696",
   "metadata": {},
   "outputs": [],
   "source": [
    "my_f = 86.9"
   ]
  },
  {
   "cell_type": "code",
   "execution_count": 39,
   "id": "5158bbcd",
   "metadata": {},
   "outputs": [
    {
     "data": {
      "text/plain": [
       "float"
      ]
     },
     "execution_count": 39,
     "metadata": {},
     "output_type": "execute_result"
    }
   ],
   "source": [
    "type(my_f)"
   ]
  },
  {
   "cell_type": "code",
   "execution_count": 40,
   "id": "65b118fc",
   "metadata": {},
   "outputs": [
    {
     "name": "stdout",
     "output_type": "stream",
     "text": [
      "<class 'float'>\n"
     ]
    }
   ],
   "source": [
    "print(type(my_f))"
   ]
  },
  {
   "cell_type": "code",
   "execution_count": 41,
   "id": "d62ad3ea",
   "metadata": {},
   "outputs": [],
   "source": [
    "p = 5+9j"
   ]
  },
  {
   "cell_type": "code",
   "execution_count": 42,
   "id": "ca1a4879",
   "metadata": {},
   "outputs": [
    {
     "data": {
      "text/plain": [
       "complex"
      ]
     },
     "execution_count": 42,
     "metadata": {},
     "output_type": "execute_result"
    }
   ],
   "source": [
    "type(p)"
   ]
  },
  {
   "cell_type": "code",
   "execution_count": 43,
   "id": "b0affbac",
   "metadata": {},
   "outputs": [
    {
     "data": {
      "text/plain": [
       "2363873986640"
      ]
     },
     "execution_count": 43,
     "metadata": {},
     "output_type": "execute_result"
    }
   ],
   "source": [
    "id(p)"
   ]
  },
  {
   "cell_type": "code",
   "execution_count": 44,
   "id": "4034db71",
   "metadata": {},
   "outputs": [
    {
     "name": "stdout",
     "output_type": "stream",
     "text": [
      "<class 'complex'>\n"
     ]
    }
   ],
   "source": [
    "print(type(p))"
   ]
  },
  {
   "cell_type": "code",
   "execution_count": 45,
   "id": "6da9d820",
   "metadata": {},
   "outputs": [
    {
     "data": {
      "text/plain": [
       "9.0"
      ]
     },
     "execution_count": 45,
     "metadata": {},
     "output_type": "execute_result"
    }
   ],
   "source": [
    "p.imag"
   ]
  },
  {
   "cell_type": "code",
   "execution_count": 46,
   "id": "02262107",
   "metadata": {},
   "outputs": [
    {
     "data": {
      "text/plain": [
       "5.0"
      ]
     },
     "execution_count": 46,
     "metadata": {},
     "output_type": "execute_result"
    }
   ],
   "source": [
    "p.real"
   ]
  },
  {
   "cell_type": "code",
   "execution_count": 48,
   "id": "f6411ffa",
   "metadata": {},
   "outputs": [
    {
     "data": {
      "text/plain": [
       "(5-9j)"
      ]
     },
     "execution_count": 48,
     "metadata": {},
     "output_type": "execute_result"
    }
   ],
   "source": [
    "p.conjugate()"
   ]
  },
  {
   "cell_type": "code",
   "execution_count": 49,
   "id": "b5232ce6",
   "metadata": {},
   "outputs": [],
   "source": [
    "my_str = \"Phython is fun\""
   ]
  },
  {
   "cell_type": "code",
   "execution_count": 50,
   "id": "ebaf4262",
   "metadata": {},
   "outputs": [
    {
     "data": {
      "text/plain": [
       "'Phython is fun'"
      ]
     },
     "execution_count": 50,
     "metadata": {},
     "output_type": "execute_result"
    }
   ],
   "source": [
    "my_str"
   ]
  },
  {
   "cell_type": "code",
   "execution_count": 51,
   "id": "f373af3d",
   "metadata": {},
   "outputs": [
    {
     "name": "stdout",
     "output_type": "stream",
     "text": [
      "Phython is fun\n"
     ]
    }
   ],
   "source": [
    "print(my_str)"
   ]
  },
  {
   "cell_type": "code",
   "execution_count": 53,
   "id": "39dd114d",
   "metadata": {},
   "outputs": [
    {
     "name": "stdout",
     "output_type": "stream",
     "text": [
      "<class 'str'>\n"
     ]
    }
   ],
   "source": [
    "print(type(my_str))"
   ]
  },
  {
   "cell_type": "code",
   "execution_count": 54,
   "id": "63be7308",
   "metadata": {},
   "outputs": [],
   "source": [
    "my_b = True"
   ]
  },
  {
   "cell_type": "code",
   "execution_count": 55,
   "id": "3d60db14",
   "metadata": {},
   "outputs": [
    {
     "data": {
      "text/plain": [
       "bool"
      ]
     },
     "execution_count": 55,
     "metadata": {},
     "output_type": "execute_result"
    }
   ],
   "source": [
    "type(my_b)"
   ]
  },
  {
   "cell_type": "code",
   "execution_count": 56,
   "id": "ac7220e8",
   "metadata": {},
   "outputs": [],
   "source": [
    "my_b2= False"
   ]
  },
  {
   "cell_type": "code",
   "execution_count": 57,
   "id": "47e51009",
   "metadata": {},
   "outputs": [
    {
     "data": {
      "text/plain": [
       "bool"
      ]
     },
     "execution_count": 57,
     "metadata": {},
     "output_type": "execute_result"
    }
   ],
   "source": [
    "type(my_b2)"
   ]
  },
  {
   "cell_type": "code",
   "execution_count": 58,
   "id": "6a2aa992",
   "metadata": {},
   "outputs": [
    {
     "name": "stdout",
     "output_type": "stream",
     "text": [
      "False\n"
     ]
    }
   ],
   "source": [
    "print(my_b2)"
   ]
  },
  {
   "cell_type": "code",
   "execution_count": 59,
   "id": "63641f44",
   "metadata": {},
   "outputs": [],
   "source": [
    "my_n = None"
   ]
  },
  {
   "cell_type": "code",
   "execution_count": 61,
   "id": "f6194e64",
   "metadata": {},
   "outputs": [
    {
     "name": "stdout",
     "output_type": "stream",
     "text": [
      "<class 'NoneType'>\n"
     ]
    }
   ],
   "source": [
    "print(type(my_n))"
   ]
  },
  {
   "cell_type": "code",
   "execution_count": 62,
   "id": "cfc1e628",
   "metadata": {},
   "outputs": [
    {
     "data": {
      "text/plain": [
       "140716578478208"
      ]
     },
     "execution_count": 62,
     "metadata": {},
     "output_type": "execute_result"
    }
   ],
   "source": [
    "id(my_n)"
   ]
  },
  {
   "cell_type": "code",
   "execution_count": 63,
   "id": "95020dc1",
   "metadata": {},
   "outputs": [],
   "source": [
    "# user input"
   ]
  },
  {
   "cell_type": "code",
   "execution_count": 64,
   "id": "bd92ae5a",
   "metadata": {},
   "outputs": [
    {
     "name": "stdout",
     "output_type": "stream",
     "text": [
      "78\n"
     ]
    },
    {
     "data": {
      "text/plain": [
       "'78'"
      ]
     },
     "execution_count": 64,
     "metadata": {},
     "output_type": "execute_result"
    }
   ],
   "source": [
    "input()"
   ]
  },
  {
   "cell_type": "code",
   "execution_count": 65,
   "id": "9812d615",
   "metadata": {},
   "outputs": [
    {
     "name": "stdout",
     "output_type": "stream",
     "text": [
      "Enter your name : Khusbhu\n"
     ]
    }
   ],
   "source": [
    "name = input(\"Enter your name : \")"
   ]
  },
  {
   "cell_type": "code",
   "execution_count": 66,
   "id": "0b80bf63",
   "metadata": {},
   "outputs": [
    {
     "data": {
      "text/plain": [
       "'Khusbhu'"
      ]
     },
     "execution_count": 66,
     "metadata": {},
     "output_type": "execute_result"
    }
   ],
   "source": [
    "name\n"
   ]
  },
  {
   "cell_type": "code",
   "execution_count": 67,
   "id": "c0b0d970",
   "metadata": {},
   "outputs": [
    {
     "data": {
      "text/plain": [
       "str"
      ]
     },
     "execution_count": 67,
     "metadata": {},
     "output_type": "execute_result"
    }
   ],
   "source": [
    "type(name)"
   ]
  },
  {
   "cell_type": "code",
   "execution_count": 69,
   "id": "cd1013c7",
   "metadata": {},
   "outputs": [
    {
     "name": "stdout",
     "output_type": "stream",
     "text": [
      "Enter your age : 30\n"
     ]
    }
   ],
   "source": [
    "age = input(\"Enter your age : \")"
   ]
  },
  {
   "cell_type": "code",
   "execution_count": 70,
   "id": "90dc9002",
   "metadata": {},
   "outputs": [
    {
     "data": {
      "text/plain": [
       "'30'"
      ]
     },
     "execution_count": 70,
     "metadata": {},
     "output_type": "execute_result"
    }
   ],
   "source": [
    "age"
   ]
  },
  {
   "cell_type": "code",
   "execution_count": 71,
   "id": "9365ba4e",
   "metadata": {},
   "outputs": [
    {
     "data": {
      "text/plain": [
       "str"
      ]
     },
     "execution_count": 71,
     "metadata": {},
     "output_type": "execute_result"
    }
   ],
   "source": [
    "type(age)"
   ]
  },
  {
   "cell_type": "code",
   "execution_count": 72,
   "id": "983ee90d",
   "metadata": {},
   "outputs": [],
   "source": [
    "# typecasting"
   ]
  },
  {
   "cell_type": "code",
   "execution_count": 73,
   "id": "663b0f73",
   "metadata": {},
   "outputs": [],
   "source": [
    "num = \"8\""
   ]
  },
  {
   "cell_type": "code",
   "execution_count": 74,
   "id": "f2a0006a",
   "metadata": {},
   "outputs": [
    {
     "data": {
      "text/plain": [
       "str"
      ]
     },
     "execution_count": 74,
     "metadata": {},
     "output_type": "execute_result"
    }
   ],
   "source": [
    "type(num)"
   ]
  },
  {
   "cell_type": "code",
   "execution_count": 75,
   "id": "07b9b5e8",
   "metadata": {},
   "outputs": [],
   "source": [
    "num = int(num)"
   ]
  },
  {
   "cell_type": "code",
   "execution_count": 76,
   "id": "597d8f54",
   "metadata": {},
   "outputs": [
    {
     "data": {
      "text/plain": [
       "int"
      ]
     },
     "execution_count": 76,
     "metadata": {},
     "output_type": "execute_result"
    }
   ],
   "source": [
    "type(num)"
   ]
  },
  {
   "cell_type": "code",
   "execution_count": 77,
   "id": "3b269424",
   "metadata": {},
   "outputs": [
    {
     "data": {
      "text/plain": [
       "8"
      ]
     },
     "execution_count": 77,
     "metadata": {},
     "output_type": "execute_result"
    }
   ],
   "source": [
    "num"
   ]
  },
  {
   "cell_type": "code",
   "execution_count": 79,
   "id": "b06bd109",
   "metadata": {},
   "outputs": [],
   "source": [
    "num = complex(num)"
   ]
  },
  {
   "cell_type": "code",
   "execution_count": 80,
   "id": "92e117e6",
   "metadata": {},
   "outputs": [
    {
     "data": {
      "text/plain": [
       "(8+0j)"
      ]
     },
     "execution_count": 80,
     "metadata": {},
     "output_type": "execute_result"
    }
   ],
   "source": [
    "num"
   ]
  },
  {
   "cell_type": "code",
   "execution_count": 81,
   "id": "986f19c4",
   "metadata": {},
   "outputs": [
    {
     "data": {
      "text/plain": [
       "(8+0j)"
      ]
     },
     "execution_count": 81,
     "metadata": {},
     "output_type": "execute_result"
    }
   ],
   "source": [
    "num"
   ]
  },
  {
   "cell_type": "code",
   "execution_count": 82,
   "id": "b09bd376",
   "metadata": {},
   "outputs": [
    {
     "ename": "TypeError",
     "evalue": "can't convert complex to float",
     "output_type": "error",
     "traceback": [
      "\u001b[1;31m---------------------------------------------------------------------------\u001b[0m",
      "\u001b[1;31mTypeError\u001b[0m                                 Traceback (most recent call last)",
      "\u001b[1;32m<ipython-input-82-a863f83bddd7>\u001b[0m in \u001b[0;36m<module>\u001b[1;34m\u001b[0m\n\u001b[1;32m----> 1\u001b[1;33m \u001b[0mfloat\u001b[0m\u001b[1;33m(\u001b[0m\u001b[0mnum\u001b[0m\u001b[1;33m)\u001b[0m\u001b[1;33m\u001b[0m\u001b[1;33m\u001b[0m\u001b[0m\n\u001b[0m",
      "\u001b[1;31mTypeError\u001b[0m: can't convert complex to float"
     ]
    }
   ],
   "source": [
    "float(num)"
   ]
  },
  {
   "cell_type": "code",
   "execution_count": 83,
   "id": "7864a9cd",
   "metadata": {},
   "outputs": [
    {
     "name": "stdout",
     "output_type": "stream",
     "text": [
      "Enter your marks : 78\n"
     ]
    }
   ],
   "source": [
    "marks = int(input(\"Enter your marks : \"))"
   ]
  },
  {
   "cell_type": "code",
   "execution_count": 85,
   "id": "da37da80",
   "metadata": {},
   "outputs": [
    {
     "name": "stdout",
     "output_type": "stream",
     "text": [
      "<class 'int'>\n"
     ]
    }
   ],
   "source": [
    "print(type(marks))"
   ]
  },
  {
   "cell_type": "code",
   "execution_count": 86,
   "id": "4f134513",
   "metadata": {},
   "outputs": [],
   "source": [
    "num = 9"
   ]
  },
  {
   "cell_type": "code",
   "execution_count": 87,
   "id": "e22e799d",
   "metadata": {},
   "outputs": [
    {
     "data": {
      "text/plain": [
       "int"
      ]
     },
     "execution_count": 87,
     "metadata": {},
     "output_type": "execute_result"
    }
   ],
   "source": [
    "type(num)"
   ]
  },
  {
   "cell_type": "code",
   "execution_count": 89,
   "id": "e0ee3b9d",
   "metadata": {},
   "outputs": [],
   "source": [
    "y = 1+2+3+\\\n",
    "    4+5+6+\\\n",
    "    7+8+9"
   ]
  },
  {
   "cell_type": "code",
   "execution_count": 90,
   "id": "904ca3fc",
   "metadata": {},
   "outputs": [
    {
     "data": {
      "text/plain": [
       "45"
      ]
     },
     "execution_count": 90,
     "metadata": {},
     "output_type": "execute_result"
    }
   ],
   "source": [
    "y"
   ]
  },
  {
   "cell_type": "code",
   "execution_count": 91,
   "id": "53533c06",
   "metadata": {},
   "outputs": [
    {
     "name": "stdout",
     "output_type": "stream",
     "text": [
      "45\n"
     ]
    }
   ],
   "source": [
    "print(y)"
   ]
  },
  {
   "cell_type": "code",
   "execution_count": 92,
   "id": "b8372c04",
   "metadata": {},
   "outputs": [],
   "source": [
    "r = (1+2+3+\n",
    "     4+5+6+\n",
    "     7+8+9+1)"
   ]
  },
  {
   "cell_type": "code",
   "execution_count": 93,
   "id": "54dfcc31",
   "metadata": {},
   "outputs": [
    {
     "data": {
      "text/plain": [
       "46"
      ]
     },
     "execution_count": 93,
     "metadata": {},
     "output_type": "execute_result"
    }
   ],
   "source": [
    "r"
   ]
  },
  {
   "cell_type": "code",
   "execution_count": 94,
   "id": "e571de08",
   "metadata": {},
   "outputs": [],
   "source": [
    "# Output Formatting"
   ]
  },
  {
   "cell_type": "code",
   "execution_count": 97,
   "id": "dae658a0",
   "metadata": {},
   "outputs": [],
   "source": [
    "a = 10\n",
    "b = 20\n",
    "c= 30"
   ]
  },
  {
   "cell_type": "code",
   "execution_count": 96,
   "id": "cf809244",
   "metadata": {},
   "outputs": [
    {
     "name": "stdout",
     "output_type": "stream",
     "text": [
      "The value of a is 10 and b is 20\n"
     ]
    }
   ],
   "source": [
    "print(\"The value of a is {} and b is {}\".format(a, b))"
   ]
  },
  {
   "cell_type": "code",
   "execution_count": 98,
   "id": "022880f2",
   "metadata": {},
   "outputs": [
    {
     "name": "stdout",
     "output_type": "stream",
     "text": [
      "The price of apple is 10 and bananan is 20 and grapes are 30\n"
     ]
    }
   ],
   "source": [
    "print(\"The price of apple is {} and bananan is {} and grapes are {}\".format(a,b,c))"
   ]
  },
  {
   "cell_type": "code",
   "execution_count": 99,
   "id": "a9e19aff",
   "metadata": {},
   "outputs": [
    {
     "name": "stdout",
     "output_type": "stream",
     "text": [
      "The price of apple is 20 and bananan is 30 and grapes are 10\n"
     ]
    }
   ],
   "source": [
    "print(\"The price of apple is {1} and bananan is {2} and grapes are {0}\".format(a,b,c))"
   ]
  },
  {
   "cell_type": "code",
   "execution_count": 100,
   "id": "169d05c0",
   "metadata": {},
   "outputs": [],
   "source": [
    "name = \"Navneet\"\n",
    "greet = \"Good Morning\""
   ]
  },
  {
   "cell_type": "code",
   "execution_count": 103,
   "id": "e660b8cb",
   "metadata": {},
   "outputs": [
    {
     "name": "stdout",
     "output_type": "stream",
     "text": [
      "Hello Good Morning and Navneet\n"
     ]
    }
   ],
   "source": [
    "print(\"Hello {g} and {n}\".format(n = name, g = greet))"
   ]
  },
  {
   "cell_type": "code",
   "execution_count": 104,
   "id": "114fb86c",
   "metadata": {},
   "outputs": [
    {
     "name": "stdout",
     "output_type": "stream",
     "text": [
      "Hello Navneet and Good Morning\n"
     ]
    }
   ],
   "source": [
    "print(\"Hello {n} and {g}\".format(n = name, g = greet))"
   ]
  },
  {
   "cell_type": "code",
   "execution_count": 105,
   "id": "612c2afd",
   "metadata": {},
   "outputs": [
    {
     "data": {
      "text/plain": [
       "12"
      ]
     },
     "execution_count": 105,
     "metadata": {},
     "output_type": "execute_result"
    }
   ],
   "source": [
    "10 + 2"
   ]
  },
  {
   "cell_type": "code",
   "execution_count": 106,
   "id": "dfa730e7",
   "metadata": {},
   "outputs": [
    {
     "data": {
      "text/plain": [
       "5"
      ]
     },
     "execution_count": 106,
     "metadata": {},
     "output_type": "execute_result"
    }
   ],
   "source": [
    "10-5"
   ]
  },
  {
   "cell_type": "code",
   "execution_count": 107,
   "id": "29dea1a7",
   "metadata": {},
   "outputs": [
    {
     "data": {
      "text/plain": [
       "50"
      ]
     },
     "execution_count": 107,
     "metadata": {},
     "output_type": "execute_result"
    }
   ],
   "source": [
    "10*5"
   ]
  },
  {
   "cell_type": "code",
   "execution_count": 110,
   "id": "b59ae9dc",
   "metadata": {},
   "outputs": [
    {
     "data": {
      "text/plain": [
       "5.0"
      ]
     },
     "execution_count": 110,
     "metadata": {},
     "output_type": "execute_result"
    }
   ],
   "source": [
    "10/2 # normal Divison # it procvides results in float"
   ]
  },
  {
   "cell_type": "code",
   "execution_count": 112,
   "id": "24f177bf",
   "metadata": {},
   "outputs": [
    {
     "data": {
      "text/plain": [
       "5"
      ]
     },
     "execution_count": 112,
     "metadata": {},
     "output_type": "execute_result"
    }
   ],
   "source": [
    "10  // 2 # floor divison # lower Interger"
   ]
  },
  {
   "cell_type": "code",
   "execution_count": 113,
   "id": "aef899d3",
   "metadata": {},
   "outputs": [
    {
     "data": {
      "text/plain": [
       "8"
      ]
     },
     "execution_count": 113,
     "metadata": {},
     "output_type": "execute_result"
    }
   ],
   "source": [
    "2**3"
   ]
  },
  {
   "cell_type": "code",
   "execution_count": 114,
   "id": "32914815",
   "metadata": {},
   "outputs": [
    {
     "data": {
      "text/plain": [
       "1"
      ]
     },
     "execution_count": 114,
     "metadata": {},
     "output_type": "execute_result"
    }
   ],
   "source": [
    "5%2"
   ]
  },
  {
   "cell_type": "code",
   "execution_count": 115,
   "id": "ea94c2ea",
   "metadata": {},
   "outputs": [],
   "source": [
    "no1 = 10\n",
    "no2 = 20"
   ]
  },
  {
   "cell_type": "code",
   "execution_count": 118,
   "id": "7b9db113",
   "metadata": {},
   "outputs": [],
   "source": [
    "add = no1 + no2\n",
    "sub = no1 - no2\n",
    "mul = no1 * no2\n",
    "div = no1 / no2\n",
    "f_div = no1 // no2\n",
    "exp = no1 ** no2\n",
    "mod = no1 % no2"
   ]
  },
  {
   "cell_type": "code",
   "execution_count": 121,
   "id": "2b16b81a",
   "metadata": {},
   "outputs": [
    {
     "name": "stdout",
     "output_type": "stream",
     "text": [
      "a + b = 30\n",
      "a - b = -10\n",
      "a * b = 200\n",
      "a / b = 0.5\n",
      "a // b = 0\n",
      "a ** b = 100000000000000000000\n",
      "a % b = 10\n"
     ]
    }
   ],
   "source": [
    "print(\"a + b = {}\".format(add))\n",
    "print(\"a - b = {}\".format(sub))\n",
    "print(\"a * b = {}\".format(mul))\n",
    "print(\"a / b = {}\".format(div))\n",
    "print(\"a // b = {}\".format(f_div))\n",
    "print(\"a ** b = {}\".format(exp))\n",
    "print(\"a % b = {}\".format(mod))"
   ]
  },
  {
   "cell_type": "code",
   "execution_count": 122,
   "id": "c0151b7e",
   "metadata": {},
   "outputs": [
    {
     "name": "stdout",
     "output_type": "stream",
     "text": [
      "10 20\n"
     ]
    }
   ],
   "source": [
    "print(no1, no2)"
   ]
  },
  {
   "cell_type": "code",
   "execution_count": 123,
   "id": "03807be7",
   "metadata": {},
   "outputs": [
    {
     "name": "stdout",
     "output_type": "stream",
     "text": [
      "False\n",
      "True\n",
      "False\n",
      "True\n",
      "False\n",
      "True\n"
     ]
    }
   ],
   "source": [
    "print(no1>no2)\n",
    "print(no1<no2)\n",
    "print(no1>=no2)\n",
    "print(no1<=no2)\n",
    "print(no1==no2)\n",
    "print(no1!=no2)"
   ]
  },
  {
   "cell_type": "code",
   "execution_count": null,
   "id": "d4f54d9d",
   "metadata": {},
   "outputs": [],
   "source": []
  },
  {
   "cell_type": "code",
   "execution_count": 124,
   "id": "6008d593",
   "metadata": {},
   "outputs": [
    {
     "data": {
      "text/plain": [
       "True"
      ]
     },
     "execution_count": 124,
     "metadata": {},
     "output_type": "execute_result"
    }
   ],
   "source": [
    "(100>5)"
   ]
  },
  {
   "cell_type": "code",
   "execution_count": 126,
   "id": "f852e2e3",
   "metadata": {},
   "outputs": [
    {
     "data": {
      "text/plain": [
       "True"
      ]
     },
     "execution_count": 126,
     "metadata": {},
     "output_type": "execute_result"
    }
   ],
   "source": [
    "(50> 15)"
   ]
  },
  {
   "cell_type": "code",
   "execution_count": 137,
   "id": "a7380fcf",
   "metadata": {},
   "outputs": [
    {
     "data": {
      "text/plain": [
       "False"
      ]
     },
     "execution_count": 137,
     "metadata": {},
     "output_type": "execute_result"
    }
   ],
   "source": [
    "not((100>5) and (50 > 15))"
   ]
  },
  {
   "cell_type": "code",
   "execution_count": 130,
   "id": "f2238205",
   "metadata": {},
   "outputs": [
    {
     "data": {
      "text/plain": [
       "False"
      ]
     },
     "execution_count": 130,
     "metadata": {},
     "output_type": "execute_result"
    }
   ],
   "source": [
    "(100 > 5) and (50 < 15)"
   ]
  },
  {
   "cell_type": "code",
   "execution_count": 131,
   "id": "3582336c",
   "metadata": {},
   "outputs": [
    {
     "data": {
      "text/plain": [
       "False"
      ]
     },
     "execution_count": 131,
     "metadata": {},
     "output_type": "execute_result"
    }
   ],
   "source": [
    "(100 < 5) and (50 > 15)"
   ]
  },
  {
   "cell_type": "code",
   "execution_count": 132,
   "id": "5fe65f9d",
   "metadata": {},
   "outputs": [
    {
     "data": {
      "text/plain": [
       "False"
      ]
     },
     "execution_count": 132,
     "metadata": {},
     "output_type": "execute_result"
    }
   ],
   "source": [
    "(100 < 5) and (50 < 15)"
   ]
  },
  {
   "cell_type": "code",
   "execution_count": null,
   "id": "14439199",
   "metadata": {},
   "outputs": [],
   "source": []
  },
  {
   "cell_type": "code",
   "execution_count": 133,
   "id": "1dd4f1fb",
   "metadata": {},
   "outputs": [
    {
     "data": {
      "text/plain": [
       "True"
      ]
     },
     "execution_count": 133,
     "metadata": {},
     "output_type": "execute_result"
    }
   ],
   "source": [
    "(100>5) or (50 > 15)"
   ]
  },
  {
   "cell_type": "code",
   "execution_count": 134,
   "id": "45d269bc",
   "metadata": {},
   "outputs": [
    {
     "data": {
      "text/plain": [
       "True"
      ]
     },
     "execution_count": 134,
     "metadata": {},
     "output_type": "execute_result"
    }
   ],
   "source": [
    "(100 > 5) or (50 < 15)"
   ]
  },
  {
   "cell_type": "code",
   "execution_count": 135,
   "id": "792ab4f2",
   "metadata": {},
   "outputs": [
    {
     "data": {
      "text/plain": [
       "True"
      ]
     },
     "execution_count": 135,
     "metadata": {},
     "output_type": "execute_result"
    }
   ],
   "source": [
    "(100 < 5) or (50 > 15)"
   ]
  },
  {
   "cell_type": "code",
   "execution_count": 138,
   "id": "40bd89d2",
   "metadata": {},
   "outputs": [
    {
     "data": {
      "text/plain": [
       "True"
      ]
     },
     "execution_count": 138,
     "metadata": {},
     "output_type": "execute_result"
    }
   ],
   "source": [
    "not((100 < 5) or (50 < 15))"
   ]
  },
  {
   "cell_type": "code",
   "execution_count": null,
   "id": "9ab54b2a",
   "metadata": {},
   "outputs": [],
   "source": []
  },
  {
   "cell_type": "code",
   "execution_count": 139,
   "id": "cce0d5d3",
   "metadata": {},
   "outputs": [
    {
     "data": {
      "text/plain": [
       "'0b101'"
      ]
     },
     "execution_count": 139,
     "metadata": {},
     "output_type": "execute_result"
    }
   ],
   "source": [
    "bin(5)"
   ]
  },
  {
   "cell_type": "code",
   "execution_count": 140,
   "id": "1c6a4158",
   "metadata": {},
   "outputs": [
    {
     "data": {
      "text/plain": [
       "'0b1010'"
      ]
     },
     "execution_count": 140,
     "metadata": {},
     "output_type": "execute_result"
    }
   ],
   "source": [
    "bin(10)"
   ]
  },
  {
   "cell_type": "code",
   "execution_count": 141,
   "id": "dfc31a72",
   "metadata": {},
   "outputs": [
    {
     "data": {
      "text/plain": [
       "'0b10100'"
      ]
     },
     "execution_count": 141,
     "metadata": {},
     "output_type": "execute_result"
    }
   ],
   "source": [
    "bin(20)"
   ]
  },
  {
   "cell_type": "code",
   "execution_count": 142,
   "id": "f28048f0",
   "metadata": {},
   "outputs": [
    {
     "data": {
      "text/plain": [
       "8"
      ]
     },
     "execution_count": 142,
     "metadata": {},
     "output_type": "execute_result"
    }
   ],
   "source": [
    "40 & 10"
   ]
  },
  {
   "cell_type": "code",
   "execution_count": 143,
   "id": "80927e49",
   "metadata": {},
   "outputs": [
    {
     "data": {
      "text/plain": [
       "42"
      ]
     },
     "execution_count": 143,
     "metadata": {},
     "output_type": "execute_result"
    }
   ],
   "source": [
    "40 | 10"
   ]
  },
  {
   "cell_type": "code",
   "execution_count": 144,
   "id": "9377af68",
   "metadata": {},
   "outputs": [
    {
     "data": {
      "text/plain": [
       "34"
      ]
     },
     "execution_count": 144,
     "metadata": {},
     "output_type": "execute_result"
    }
   ],
   "source": [
    "40 ^ 10"
   ]
  },
  {
   "cell_type": "code",
   "execution_count": 145,
   "id": "6341982b",
   "metadata": {},
   "outputs": [
    {
     "data": {
      "text/plain": [
       "'0b101000'"
      ]
     },
     "execution_count": 145,
     "metadata": {},
     "output_type": "execute_result"
    }
   ],
   "source": [
    "bin(40)"
   ]
  },
  {
   "cell_type": "code",
   "execution_count": 146,
   "id": "d7369786",
   "metadata": {},
   "outputs": [
    {
     "data": {
      "text/plain": [
       "'0b1010'"
      ]
     },
     "execution_count": 146,
     "metadata": {},
     "output_type": "execute_result"
    }
   ],
   "source": [
    "bin(10)"
   ]
  },
  {
   "cell_type": "code",
   "execution_count": null,
   "id": "ffbc0edd",
   "metadata": {},
   "outputs": [],
   "source": []
  },
  {
   "cell_type": "code",
   "execution_count": 147,
   "id": "07e1683a",
   "metadata": {},
   "outputs": [],
   "source": [
    "k = 100"
   ]
  },
  {
   "cell_type": "code",
   "execution_count": 148,
   "id": "512212c7",
   "metadata": {},
   "outputs": [],
   "source": [
    "y = \"python is easy\""
   ]
  },
  {
   "cell_type": "code",
   "execution_count": 149,
   "id": "86ad6fce",
   "metadata": {},
   "outputs": [],
   "source": [
    "m = 6"
   ]
  },
  {
   "cell_type": "code",
   "execution_count": 150,
   "id": "17c690e4",
   "metadata": {},
   "outputs": [],
   "source": [
    "m = m +2 "
   ]
  },
  {
   "cell_type": "code",
   "execution_count": 151,
   "id": "64d29ac4",
   "metadata": {},
   "outputs": [
    {
     "data": {
      "text/plain": [
       "8"
      ]
     },
     "execution_count": 151,
     "metadata": {},
     "output_type": "execute_result"
    }
   ],
   "source": [
    "m"
   ]
  },
  {
   "cell_type": "code",
   "execution_count": 152,
   "id": "37f4ab6a",
   "metadata": {},
   "outputs": [
    {
     "data": {
      "text/plain": [
       "11"
      ]
     },
     "execution_count": 152,
     "metadata": {},
     "output_type": "execute_result"
    }
   ],
   "source": [
    "m + 3"
   ]
  },
  {
   "cell_type": "code",
   "execution_count": 153,
   "id": "1aab2184",
   "metadata": {},
   "outputs": [
    {
     "data": {
      "text/plain": [
       "8"
      ]
     },
     "execution_count": 153,
     "metadata": {},
     "output_type": "execute_result"
    }
   ],
   "source": [
    "m"
   ]
  },
  {
   "cell_type": "code",
   "execution_count": 154,
   "id": "0ed6f0a7",
   "metadata": {},
   "outputs": [],
   "source": [
    "m  = m + 3"
   ]
  },
  {
   "cell_type": "code",
   "execution_count": 155,
   "id": "6a4f4729",
   "metadata": {},
   "outputs": [
    {
     "data": {
      "text/plain": [
       "11"
      ]
     },
     "execution_count": 155,
     "metadata": {},
     "output_type": "execute_result"
    }
   ],
   "source": [
    "m"
   ]
  },
  {
   "cell_type": "code",
   "execution_count": 156,
   "id": "fd5e1e68",
   "metadata": {},
   "outputs": [],
   "source": [
    "m+=3"
   ]
  },
  {
   "cell_type": "code",
   "execution_count": 157,
   "id": "875afcc4",
   "metadata": {},
   "outputs": [
    {
     "data": {
      "text/plain": [
       "14"
      ]
     },
     "execution_count": 157,
     "metadata": {},
     "output_type": "execute_result"
    }
   ],
   "source": [
    "m"
   ]
  },
  {
   "cell_type": "code",
   "execution_count": 158,
   "id": "e84b5ca3",
   "metadata": {},
   "outputs": [],
   "source": [
    "m-=2"
   ]
  },
  {
   "cell_type": "code",
   "execution_count": 159,
   "id": "1f0eaa9f",
   "metadata": {},
   "outputs": [
    {
     "data": {
      "text/plain": [
       "12"
      ]
     },
     "execution_count": 159,
     "metadata": {},
     "output_type": "execute_result"
    }
   ],
   "source": [
    "m"
   ]
  },
  {
   "cell_type": "code",
   "execution_count": 160,
   "id": "4bb7ead7",
   "metadata": {},
   "outputs": [],
   "source": [
    "m*=2"
   ]
  },
  {
   "cell_type": "code",
   "execution_count": 161,
   "id": "c68b3773",
   "metadata": {},
   "outputs": [
    {
     "data": {
      "text/plain": [
       "24"
      ]
     },
     "execution_count": 161,
     "metadata": {},
     "output_type": "execute_result"
    }
   ],
   "source": [
    "m"
   ]
  },
  {
   "cell_type": "code",
   "execution_count": 162,
   "id": "b2c11ce3",
   "metadata": {},
   "outputs": [],
   "source": [
    "m/=2"
   ]
  },
  {
   "cell_type": "code",
   "execution_count": 163,
   "id": "d74d01b5",
   "metadata": {},
   "outputs": [
    {
     "data": {
      "text/plain": [
       "12.0"
      ]
     },
     "execution_count": 163,
     "metadata": {},
     "output_type": "execute_result"
    }
   ],
   "source": [
    "m"
   ]
  },
  {
   "cell_type": "code",
   "execution_count": 164,
   "id": "13585438",
   "metadata": {},
   "outputs": [],
   "source": [
    "m//=3"
   ]
  },
  {
   "cell_type": "code",
   "execution_count": 165,
   "id": "f1e11b1e",
   "metadata": {},
   "outputs": [
    {
     "data": {
      "text/plain": [
       "4.0"
      ]
     },
     "execution_count": 165,
     "metadata": {},
     "output_type": "execute_result"
    }
   ],
   "source": [
    "m"
   ]
  },
  {
   "cell_type": "code",
   "execution_count": 166,
   "id": "9f6a4012",
   "metadata": {},
   "outputs": [],
   "source": [
    "m**=6"
   ]
  },
  {
   "cell_type": "code",
   "execution_count": 167,
   "id": "e3e68c70",
   "metadata": {},
   "outputs": [
    {
     "data": {
      "text/plain": [
       "4096.0"
      ]
     },
     "execution_count": 167,
     "metadata": {},
     "output_type": "execute_result"
    }
   ],
   "source": [
    "m"
   ]
  },
  {
   "cell_type": "code",
   "execution_count": 168,
   "id": "c56f7f75",
   "metadata": {},
   "outputs": [],
   "source": [
    "m%=5"
   ]
  },
  {
   "cell_type": "code",
   "execution_count": 169,
   "id": "7c764bb8",
   "metadata": {},
   "outputs": [
    {
     "data": {
      "text/plain": [
       "1.0"
      ]
     },
     "execution_count": 169,
     "metadata": {},
     "output_type": "execute_result"
    }
   ],
   "source": [
    "m"
   ]
  },
  {
   "cell_type": "code",
   "execution_count": 170,
   "id": "5d7839a9",
   "metadata": {},
   "outputs": [],
   "source": [
    "k = 45, 78, 96"
   ]
  },
  {
   "cell_type": "code",
   "execution_count": 171,
   "id": "b063904b",
   "metadata": {},
   "outputs": [
    {
     "data": {
      "text/plain": [
       "(45, 78, 96)"
      ]
     },
     "execution_count": 171,
     "metadata": {},
     "output_type": "execute_result"
    }
   ],
   "source": [
    "k"
   ]
  },
  {
   "cell_type": "code",
   "execution_count": 172,
   "id": "b4f9f717",
   "metadata": {},
   "outputs": [],
   "source": [
    "j, l, p = 47, 58, 69"
   ]
  },
  {
   "cell_type": "code",
   "execution_count": 173,
   "id": "464098a8",
   "metadata": {},
   "outputs": [
    {
     "data": {
      "text/plain": [
       "47"
      ]
     },
     "execution_count": 173,
     "metadata": {},
     "output_type": "execute_result"
    }
   ],
   "source": [
    "j"
   ]
  },
  {
   "cell_type": "code",
   "execution_count": 174,
   "id": "9422f2f9",
   "metadata": {},
   "outputs": [
    {
     "data": {
      "text/plain": [
       "58"
      ]
     },
     "execution_count": 174,
     "metadata": {},
     "output_type": "execute_result"
    }
   ],
   "source": [
    "l"
   ]
  },
  {
   "cell_type": "code",
   "execution_count": 175,
   "id": "3f6d7528",
   "metadata": {},
   "outputs": [
    {
     "data": {
      "text/plain": [
       "69"
      ]
     },
     "execution_count": 175,
     "metadata": {},
     "output_type": "execute_result"
    }
   ],
   "source": [
    "p"
   ]
  },
  {
   "cell_type": "code",
   "execution_count": 176,
   "id": "8a439d46",
   "metadata": {},
   "outputs": [],
   "source": [
    "b = c = d = 78"
   ]
  },
  {
   "cell_type": "code",
   "execution_count": 177,
   "id": "b30e9543",
   "metadata": {},
   "outputs": [
    {
     "data": {
      "text/plain": [
       "78"
      ]
     },
     "execution_count": 177,
     "metadata": {},
     "output_type": "execute_result"
    }
   ],
   "source": [
    "b"
   ]
  },
  {
   "cell_type": "code",
   "execution_count": 178,
   "id": "7d05b29a",
   "metadata": {},
   "outputs": [
    {
     "data": {
      "text/plain": [
       "78"
      ]
     },
     "execution_count": 178,
     "metadata": {},
     "output_type": "execute_result"
    }
   ],
   "source": [
    "c"
   ]
  },
  {
   "cell_type": "code",
   "execution_count": 179,
   "id": "1f2b0214",
   "metadata": {},
   "outputs": [
    {
     "data": {
      "text/plain": [
       "78"
      ]
     },
     "execution_count": 179,
     "metadata": {},
     "output_type": "execute_result"
    }
   ],
   "source": [
    "d"
   ]
  },
  {
   "cell_type": "code",
   "execution_count": 180,
   "id": "e56c215b",
   "metadata": {},
   "outputs": [],
   "source": [
    "my_str = \"I will be revissing machine learning very soon\""
   ]
  },
  {
   "cell_type": "code",
   "execution_count": 181,
   "id": "59d1b182",
   "metadata": {},
   "outputs": [
    {
     "data": {
      "text/plain": [
       "'I will be revissing machine learning very soon'"
      ]
     },
     "execution_count": 181,
     "metadata": {},
     "output_type": "execute_result"
    }
   ],
   "source": [
    "my_str"
   ]
  },
  {
   "cell_type": "code",
   "execution_count": 182,
   "id": "f89013f6",
   "metadata": {},
   "outputs": [
    {
     "data": {
      "text/plain": [
       "46"
      ]
     },
     "execution_count": 182,
     "metadata": {},
     "output_type": "execute_result"
    }
   ],
   "source": [
    "len(my_str)"
   ]
  },
  {
   "cell_type": "code",
   "execution_count": 183,
   "id": "866a0f8e",
   "metadata": {},
   "outputs": [
    {
     "data": {
      "text/plain": [
       "False"
      ]
     },
     "execution_count": 183,
     "metadata": {},
     "output_type": "execute_result"
    }
   ],
   "source": [
    "\"bad\" in my_str"
   ]
  },
  {
   "cell_type": "code",
   "execution_count": 184,
   "id": "8926686f",
   "metadata": {},
   "outputs": [
    {
     "data": {
      "text/plain": [
       "True"
      ]
     },
     "execution_count": 184,
     "metadata": {},
     "output_type": "execute_result"
    }
   ],
   "source": [
    "\"very\" in my_str"
   ]
  },
  {
   "cell_type": "code",
   "execution_count": 185,
   "id": "7ab5b7e0",
   "metadata": {},
   "outputs": [
    {
     "data": {
      "text/plain": [
       "False"
      ]
     },
     "execution_count": 185,
     "metadata": {},
     "output_type": "execute_result"
    }
   ],
   "source": [
    "\"soon\" not in my_str"
   ]
  },
  {
   "cell_type": "code",
   "execution_count": 186,
   "id": "e33156ec",
   "metadata": {},
   "outputs": [
    {
     "data": {
      "text/plain": [
       "False"
      ]
     },
     "execution_count": 186,
     "metadata": {},
     "output_type": "execute_result"
    }
   ],
   "source": [
    "'z' in my_str"
   ]
  },
  {
   "cell_type": "code",
   "execution_count": 187,
   "id": "3ea7da59",
   "metadata": {},
   "outputs": [],
   "source": [
    "b1 = 200"
   ]
  },
  {
   "cell_type": "code",
   "execution_count": 188,
   "id": "2a20dd9f",
   "metadata": {},
   "outputs": [],
   "source": [
    "b2 = 200"
   ]
  },
  {
   "cell_type": "code",
   "execution_count": 189,
   "id": "3bde0fe0",
   "metadata": {},
   "outputs": [
    {
     "data": {
      "text/plain": [
       "140716578717712"
      ]
     },
     "execution_count": 189,
     "metadata": {},
     "output_type": "execute_result"
    }
   ],
   "source": [
    "id(b1)"
   ]
  },
  {
   "cell_type": "code",
   "execution_count": 190,
   "id": "fd0fbbad",
   "metadata": {},
   "outputs": [
    {
     "data": {
      "text/plain": [
       "140716578717712"
      ]
     },
     "execution_count": 190,
     "metadata": {},
     "output_type": "execute_result"
    }
   ],
   "source": [
    "id(b2)"
   ]
  },
  {
   "cell_type": "code",
   "execution_count": 191,
   "id": "1318badf",
   "metadata": {},
   "outputs": [
    {
     "data": {
      "text/plain": [
       "True"
      ]
     },
     "execution_count": 191,
     "metadata": {},
     "output_type": "execute_result"
    }
   ],
   "source": [
    "b1 is b2"
   ]
  },
  {
   "cell_type": "code",
   "execution_count": 192,
   "id": "f1efc719",
   "metadata": {},
   "outputs": [
    {
     "data": {
      "text/plain": [
       "False"
      ]
     },
     "execution_count": 192,
     "metadata": {},
     "output_type": "execute_result"
    }
   ],
   "source": [
    "b1 is not b2"
   ]
  },
  {
   "cell_type": "code",
   "execution_count": 193,
   "id": "504f6c2f",
   "metadata": {},
   "outputs": [
    {
     "data": {
      "text/plain": [
       "True"
      ]
     },
     "execution_count": 193,
     "metadata": {},
     "output_type": "execute_result"
    }
   ],
   "source": [
    "b1 == b2"
   ]
  },
  {
   "cell_type": "code",
   "execution_count": null,
   "id": "48d1e3b6",
   "metadata": {},
   "outputs": [],
   "source": []
  },
  {
   "cell_type": "code",
   "execution_count": 194,
   "id": "f0c5d792",
   "metadata": {},
   "outputs": [],
   "source": [
    "# Control Flow "
   ]
  },
  {
   "cell_type": "code",
   "execution_count": 200,
   "id": "b738dd63",
   "metadata": {},
   "outputs": [],
   "source": [
    "age = 18\n",
    "\n"
   ]
  },
  {
   "cell_type": "code",
   "execution_count": 202,
   "id": "8dd7cbd2",
   "metadata": {},
   "outputs": [
    {
     "name": "stdout",
     "output_type": "stream",
     "text": [
      "You are eligible for voting...\n",
      "Voting is your right...\n",
      "I am inside if Block\n"
     ]
    }
   ],
   "source": [
    "if age>=18:\n",
    "    print(\"You are eligible for voting...\")\n",
    "    print(\"Voting is your right...\")\n",
    "    print(\"I am inside if Block\")\n",
    "    \n",
    "else:\n",
    "    print(\"You are kid..\")\n",
    "    print(\"Study first\")\n",
    "    print(\"I am inside else block\")"
   ]
  },
  {
   "cell_type": "code",
   "execution_count": 207,
   "id": "b989ab29",
   "metadata": {},
   "outputs": [
    {
     "name": "stdout",
     "output_type": "stream",
     "text": [
      "Enter Your Number : -5\n"
     ]
    }
   ],
   "source": [
    "num = int(input(\"Enter Your Number : \"))"
   ]
  },
  {
   "cell_type": "code",
   "execution_count": 208,
   "id": "649049f1",
   "metadata": {},
   "outputs": [
    {
     "name": "stdout",
     "output_type": "stream",
     "text": [
      "Its negative number..\n"
     ]
    }
   ],
   "source": [
    "if num>0:\n",
    "    print(\"Its positive number.....\")\n",
    "elif num==0:\n",
    "    print(\"Its zero...\")\n",
    "else:\n",
    "    print(\"Its negative number..\")"
   ]
  },
  {
   "cell_type": "code",
   "execution_count": 214,
   "id": "b86d0622",
   "metadata": {},
   "outputs": [
    {
     "name": "stdout",
     "output_type": "stream",
     "text": [
      "Enter Your Number : 0\n"
     ]
    }
   ],
   "source": [
    "num = int(input(\"Enter Your Number : \"))"
   ]
  },
  {
   "cell_type": "code",
   "execution_count": 215,
   "id": "f5bf3755",
   "metadata": {},
   "outputs": [
    {
     "name": "stdout",
     "output_type": "stream",
     "text": [
      "Its zero...\n"
     ]
    }
   ],
   "source": [
    "if num>=0:\n",
    "    if num==0:\n",
    "        print(\"Its zero...\")\n",
    "    else:\n",
    "        print(\"its positive...\")\n",
    "else:\n",
    "    print(\"Its negative..\")"
   ]
  },
  {
   "cell_type": "code",
   "execution_count": null,
   "id": "893f2c03",
   "metadata": {},
   "outputs": [],
   "source": []
  },
  {
   "cell_type": "code",
   "execution_count": 225,
   "id": "8e83a64b",
   "metadata": {},
   "outputs": [],
   "source": [
    "num1 = 10000\n",
    "num2 = 2000\n",
    "num3 = 300"
   ]
  },
  {
   "cell_type": "code",
   "execution_count": 226,
   "id": "e446cd2a",
   "metadata": {},
   "outputs": [],
   "source": [
    "if (num1>num2) and (num1>num3):\n",
    "    largest = num1\n",
    "elif (num2>num3) and (num2>num1):\n",
    "    largest = num2\n",
    "else:\n",
    "    largest = num3\n",
    "    \n",
    "    "
   ]
  },
  {
   "cell_type": "code",
   "execution_count": 227,
   "id": "54c86a83",
   "metadata": {},
   "outputs": [
    {
     "name": "stdout",
     "output_type": "stream",
     "text": [
      "The largest among three is 10000\n"
     ]
    }
   ],
   "source": [
    "print(f\"The largest among three is {largest}\")"
   ]
  },
  {
   "cell_type": "code",
   "execution_count": null,
   "id": "938a9b16",
   "metadata": {},
   "outputs": [],
   "source": []
  },
  {
   "cell_type": "code",
   "execution_count": 228,
   "id": "f6b24710",
   "metadata": {},
   "outputs": [],
   "source": [
    "#Q- Print all even numbers from 1 to 20"
   ]
  },
  {
   "cell_type": "code",
   "execution_count": 229,
   "id": "44b7ba80",
   "metadata": {},
   "outputs": [
    {
     "name": "stdout",
     "output_type": "stream",
     "text": [
      "2\n",
      "4\n",
      "6\n"
     ]
    },
    {
     "data": {
      "text/plain": [
       "Ellipsis"
      ]
     },
     "execution_count": 229,
     "metadata": {},
     "output_type": "execute_result"
    }
   ],
   "source": [
    "print(2)\n",
    "print(4)\n",
    "print(6)\n",
    "...\n"
   ]
  },
  {
   "cell_type": "code",
   "execution_count": 232,
   "id": "bbbe282f",
   "metadata": {},
   "outputs": [
    {
     "name": "stdout",
     "output_type": "stream",
     "text": [
      "2\n",
      "4\n",
      "6\n",
      "8\n",
      "10\n",
      "12\n",
      "14\n",
      "16\n",
      "18\n",
      "20\n"
     ]
    }
   ],
   "source": [
    "i = 1\n",
    "\n",
    "while i<=20:\n",
    "    if i%2==0:\n",
    "        print(i)\n",
    "    \n",
    "    i+=1\n",
    "    "
   ]
  },
  {
   "cell_type": "code",
   "execution_count": 249,
   "id": "4f6e2def",
   "metadata": {},
   "outputs": [
    {
     "name": "stdout",
     "output_type": "stream",
     "text": [
      "1,3,5,7,9,11,13,15,17,19,\n",
      "All done\n"
     ]
    }
   ],
   "source": [
    "i = 0\n",
    "\n",
    "while i<=20:\n",
    "    if i%2==1:\n",
    "        print(i, end=\",\")\n",
    "    \n",
    "    i+=1\n",
    "else:\n",
    "    print()\n",
    "    print(\"All done\")"
   ]
  },
  {
   "cell_type": "code",
   "execution_count": null,
   "id": "928d5a1f",
   "metadata": {},
   "outputs": [],
   "source": []
  },
  {
   "cell_type": "code",
   "execution_count": 237,
   "id": "3a67aaf3",
   "metadata": {},
   "outputs": [
    {
     "data": {
      "text/plain": [
       "[1, 2, 3, 4, 5, 6, 7, 8, 9, 10, 11, 12, 13, 14, 15, 16, 17, 18, 19]"
      ]
     },
     "execution_count": 237,
     "metadata": {},
     "output_type": "execute_result"
    }
   ],
   "source": [
    "list(range(1,20))"
   ]
  },
  {
   "cell_type": "code",
   "execution_count": 241,
   "id": "49ed23e8",
   "metadata": {},
   "outputs": [
    {
     "data": {
      "text/plain": [
       "(1, 4, 7, 10, 13, 16, 19)"
      ]
     },
     "execution_count": 241,
     "metadata": {},
     "output_type": "execute_result"
    }
   ],
   "source": [
    "tuple(range(1,21,3))"
   ]
  },
  {
   "cell_type": "code",
   "execution_count": 247,
   "id": "d11e856a",
   "metadata": {},
   "outputs": [
    {
     "name": "stdout",
     "output_type": "stream",
     "text": [
      "2 , 4 , 6 , 8 , 10 , 12 , 14 , 16 , 18 , 20 , \n",
      "ALL done\n"
     ]
    }
   ],
   "source": [
    "for i in range(1,21):\n",
    "    if i%2==0:\n",
    "        print(i, end=\" , \")\n",
    "else:\n",
    "    print()\n",
    "    print(\"ALL done\")"
   ]
  },
  {
   "cell_type": "code",
   "execution_count": null,
   "id": "85800232",
   "metadata": {},
   "outputs": [],
   "source": []
  },
  {
   "cell_type": "code",
   "execution_count": 252,
   "id": "237ab4e5",
   "metadata": {},
   "outputs": [
    {
     "name": "stdout",
     "output_type": "stream",
     "text": [
      "1 3 5 7 9 11 13 15 17 19 "
     ]
    }
   ],
   "source": [
    "for i in range(1,21,2):\n",
    "    print(i, end= \" \")"
   ]
  },
  {
   "cell_type": "code",
   "execution_count": null,
   "id": "eaed49d5",
   "metadata": {},
   "outputs": [],
   "source": []
  },
  {
   "cell_type": "code",
   "execution_count": 256,
   "id": "a475f97e",
   "metadata": {},
   "outputs": [
    {
     "name": "stdout",
     "output_type": "stream",
     "text": [
      "Enter any number : 7\n"
     ]
    }
   ],
   "source": [
    "num = int(input(\"Enter any number : \"))"
   ]
  },
  {
   "cell_type": "code",
   "execution_count": 257,
   "id": "514d6610",
   "metadata": {},
   "outputs": [
    {
     "name": "stdout",
     "output_type": "stream",
     "text": [
      "7 x 1 = 7\n",
      "7 x 2 = 14\n",
      "7 x 3 = 21\n",
      "7 x 4 = 28\n",
      "7 x 5 = 35\n",
      "7 x 6 = 42\n",
      "7 x 7 = 49\n",
      "7 x 8 = 56\n",
      "7 x 9 = 63\n",
      "7 x 10 = 70\n",
      "No element Left\n"
     ]
    }
   ],
   "source": [
    "for i in range(1,11):\n",
    "    print(f\"{num} x {i} = {num*i}\")\n",
    "else:\n",
    "    print(\"No element Left\")"
   ]
  },
  {
   "cell_type": "code",
   "execution_count": 285,
   "id": "9653546e",
   "metadata": {},
   "outputs": [],
   "source": [
    "n = 10"
   ]
  },
  {
   "cell_type": "code",
   "execution_count": 286,
   "id": "8f1896f4",
   "metadata": {},
   "outputs": [
    {
     "ename": "SyntaxError",
     "evalue": "invalid syntax (<ipython-input-286-a089d412f594>, line 1)",
     "output_type": "error",
     "traceback": [
      "\u001b[1;36m  File \u001b[1;32m\"<ipython-input-286-a089d412f594>\"\u001b[1;36m, line \u001b[1;32m1\u001b[0m\n\u001b[1;33m    *\u001b[0m\n\u001b[1;37m     ^\u001b[0m\n\u001b[1;31mSyntaxError\u001b[0m\u001b[1;31m:\u001b[0m invalid syntax\n"
     ]
    }
   ],
   "source": [
    "*\n",
    "**\n",
    "***\n",
    "****\n",
    "*****"
   ]
  },
  {
   "cell_type": "code",
   "execution_count": 287,
   "id": "7fab017c",
   "metadata": {},
   "outputs": [
    {
     "name": "stdout",
     "output_type": "stream",
     "text": [
      "* \n",
      "* * \n",
      "* * * \n",
      "* * * * \n",
      "* * * * * \n",
      "* * * * * * \n",
      "* * * * * * * \n",
      "* * * * * * * * \n",
      "* * * * * * * * * \n",
      "* * * * * * * * * * \n",
      "* * * * * * * * * * \n",
      "* * * * * * * * * \n",
      "* * * * * * * * \n",
      "* * * * * * * \n",
      "* * * * * * \n",
      "* * * * * \n",
      "* * * * \n",
      "* * * \n",
      "* * \n",
      "* \n"
     ]
    }
   ],
   "source": [
    "for i in range(1,n+1):\n",
    "    for j in range(1, i+1):\n",
    "        print('*', end=\" \")\n",
    "    print()\n",
    "for i in range(n, 0, -1):\n",
    "    for j in range(i, 0, -1):\n",
    "        print(\"*\", end=\" \")\n",
    "    print()"
   ]
  },
  {
   "cell_type": "code",
   "execution_count": 288,
   "id": "4e69bad8",
   "metadata": {},
   "outputs": [
    {
     "data": {
      "text/plain": [
       "'hellohellohellohellohello'"
      ]
     },
     "execution_count": 288,
     "metadata": {},
     "output_type": "execute_result"
    }
   ],
   "source": [
    "\"hello\" * 5"
   ]
  },
  {
   "cell_type": "code",
   "execution_count": 289,
   "id": "f9888943",
   "metadata": {},
   "outputs": [
    {
     "data": {
      "text/plain": [
       "'***'"
      ]
     },
     "execution_count": 289,
     "metadata": {},
     "output_type": "execute_result"
    }
   ],
   "source": [
    "\"*\"*3"
   ]
  },
  {
   "cell_type": "code",
   "execution_count": 291,
   "id": "3d5783b7",
   "metadata": {},
   "outputs": [
    {
     "name": "stdout",
     "output_type": "stream",
     "text": [
      "*\n",
      "**\n",
      "***\n",
      "****\n",
      "*****\n",
      "******\n",
      "*******\n",
      "********\n",
      "*********\n",
      "**********\n",
      "**********\n",
      "*********\n",
      "********\n",
      "*******\n",
      "******\n",
      "*****\n",
      "****\n",
      "***\n",
      "**\n",
      "*\n"
     ]
    }
   ],
   "source": [
    "for i in range(1, n+1):\n",
    "    print(\"*\"*i)\n",
    "for i in range(n, 0, -1):\n",
    "    print(\"*\"*i)"
   ]
  },
  {
   "cell_type": "code",
   "execution_count": 292,
   "id": "998f9c0c",
   "metadata": {},
   "outputs": [],
   "source": [
    "n = 5"
   ]
  },
  {
   "cell_type": "code",
   "execution_count": 295,
   "id": "38bae3d4",
   "metadata": {},
   "outputs": [
    {
     "name": "stdout",
     "output_type": "stream",
     "text": [
      "*****\n",
      "****\n",
      "***\n",
      "**\n",
      "*\n"
     ]
    }
   ],
   "source": [
    "for i in range(n, 0, -1):\n",
    "    print(\"*\"*i)"
   ]
  },
  {
   "cell_type": "code",
   "execution_count": 296,
   "id": "0c08f684",
   "metadata": {},
   "outputs": [
    {
     "name": "stdout",
     "output_type": "stream",
     "text": [
      "* * * * * \n",
      "* * * * \n",
      "* * * \n",
      "* * \n",
      "* \n"
     ]
    }
   ],
   "source": [
    "for i in range(n, 0, -1):\n",
    "    for j in range(i, 0, -1):\n",
    "        print(\"*\", end=\" \")\n",
    "    print()"
   ]
  },
  {
   "cell_type": "code",
   "execution_count": null,
   "id": "e77686f9",
   "metadata": {},
   "outputs": [],
   "source": []
  },
  {
   "cell_type": "code",
   "execution_count": null,
   "id": "66ffb519",
   "metadata": {},
   "outputs": [],
   "source": []
  },
  {
   "cell_type": "code",
   "execution_count": 318,
   "id": "845555b9",
   "metadata": {},
   "outputs": [
    {
     "name": "stdout",
     "output_type": "stream",
     "text": [
      "Enter any number :5\n"
     ]
    }
   ],
   "source": [
    "n = int(input(\"Enter any number :\"))"
   ]
  },
  {
   "cell_type": "code",
   "execution_count": 319,
   "id": "1540e041",
   "metadata": {},
   "outputs": [],
   "source": [
    "total = 0\n",
    "for i in range(1,n+1):\n",
    "    total+=i\n",
    "    "
   ]
  },
  {
   "cell_type": "code",
   "execution_count": 320,
   "id": "472339e0",
   "metadata": {},
   "outputs": [
    {
     "name": "stdout",
     "output_type": "stream",
     "text": [
      "The sum of first 5 natural numbers are 15\n"
     ]
    }
   ],
   "source": [
    "print(f\"The sum of first {n} natural numbers are {total}\")"
   ]
  },
  {
   "cell_type": "code",
   "execution_count": null,
   "id": "a7fc727b",
   "metadata": {},
   "outputs": [],
   "source": []
  },
  {
   "cell_type": "code",
   "execution_count": 340,
   "id": "3b6c0a11",
   "metadata": {},
   "outputs": [
    {
     "name": "stdout",
     "output_type": "stream",
     "text": [
      "Enter any number : -5\n"
     ]
    }
   ],
   "source": [
    "n = int(input(\"Enter any number : \"))"
   ]
  },
  {
   "cell_type": "code",
   "execution_count": 341,
   "id": "329ae99d",
   "metadata": {},
   "outputs": [
    {
     "name": "stdout",
     "output_type": "stream",
     "text": [
      "The given -5 is a prime number\n"
     ]
    }
   ],
   "source": [
    "is_prime = True\n",
    "for i in range(2,n):\n",
    "    if n%i==0:\n",
    "        is_prime = False\n",
    "        \n",
    "        \n",
    "if (is_prime):\n",
    "    print(f\"The given {n} is a prime number\")\n",
    "else:\n",
    "    print(f\"The given number {n} is not prime number\")"
   ]
  },
  {
   "cell_type": "code",
   "execution_count": 386,
   "id": "54aa8738",
   "metadata": {},
   "outputs": [
    {
     "name": "stdout",
     "output_type": "stream",
     "text": [
      "Enter any number : 5\n"
     ]
    }
   ],
   "source": [
    "n = int(input(\"Enter any number : \"))"
   ]
  },
  {
   "cell_type": "code",
   "execution_count": 387,
   "id": "e6da73cc",
   "metadata": {},
   "outputs": [],
   "source": [
    "#is_prime = True\n",
    "\n",
    "if (n<=0) | (n==1):\n",
    "    print(\"Please provide appropriate number ...\")\n",
    "if (n==2):\n",
    "    print(\"The given number is prime number\")  \n",
    "if (n>2):\n",
    "    for i in range(2,n):\n",
    "        if n%i==0:\n",
    "            print(\"the given number is not prime\")\n",
    "else:\n",
    "    print(\"The given number is prime number\")"
   ]
  },
  {
   "cell_type": "code",
   "execution_count": null,
   "id": "22f662e3",
   "metadata": {},
   "outputs": [],
   "source": []
  },
  {
   "cell_type": "code",
   "execution_count": 395,
   "id": "0d8ffee6",
   "metadata": {},
   "outputs": [
    {
     "name": "stdout",
     "output_type": "stream",
     "text": [
      "1\n",
      "2\n",
      "3\n",
      "4\n",
      "5\n",
      "6\n",
      "7\n"
     ]
    }
   ],
   "source": [
    "for i in range(1, 21):\n",
    "    if i==8:\n",
    "        break\n",
    "    print(i)\n",
    "else:\n",
    "    print(\"All done\")"
   ]
  },
  {
   "cell_type": "code",
   "execution_count": 396,
   "id": "a58ad0d3",
   "metadata": {},
   "outputs": [
    {
     "name": "stdout",
     "output_type": "stream",
     "text": [
      "1\n",
      "2\n",
      "3\n",
      "4\n",
      "5\n",
      "6\n",
      "7\n",
      "9\n",
      "10\n",
      "11\n",
      "12\n",
      "13\n",
      "14\n",
      "15\n",
      "16\n",
      "17\n",
      "18\n",
      "19\n",
      "20\n",
      "No element left...\n"
     ]
    }
   ],
   "source": [
    "for i in range(1, 21):\n",
    "    if i==8:\n",
    "        continue\n",
    "    print(i)\n",
    "else:\n",
    "    print(\"No element left...\")"
   ]
  },
  {
   "cell_type": "code",
   "execution_count": 392,
   "id": "93387f99",
   "metadata": {},
   "outputs": [],
   "source": [
    "for i in  range(1,50):\n",
    "    pass"
   ]
  },
  {
   "cell_type": "code",
   "execution_count": 394,
   "id": "265bdeb5",
   "metadata": {},
   "outputs": [],
   "source": [
    "if 5>6:\n",
    "    pass\n",
    "    "
   ]
  },
  {
   "cell_type": "code",
   "execution_count": null,
   "id": "77765999",
   "metadata": {},
   "outputs": [],
   "source": []
  }
 ],
 "metadata": {
  "kernelspec": {
   "display_name": "Python 3",
   "language": "python",
   "name": "python3"
  },
  "language_info": {
   "codemirror_mode": {
    "name": "ipython",
    "version": 3
   },
   "file_extension": ".py",
   "mimetype": "text/x-python",
   "name": "python",
   "nbconvert_exporter": "python",
   "pygments_lexer": "ipython3",
   "version": "3.8.8"
  }
 },
 "nbformat": 4,
 "nbformat_minor": 5
}
