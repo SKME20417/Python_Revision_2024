{
 "cells": [
  {
   "cell_type": "code",
   "execution_count": 1,
   "id": "55e2f5e1",
   "metadata": {},
   "outputs": [],
   "source": [
    "import random\n",
    "import string\n"
   ]
  },
  {
   "cell_type": "code",
   "execution_count": 2,
   "id": "de403f1c",
   "metadata": {},
   "outputs": [],
   "source": [
    "DB = {}"
   ]
  },
  {
   "cell_type": "markdown",
   "id": "678abc35",
   "metadata": {},
   "source": [
    "# Version 1"
   ]
  },
  {
   "cell_type": "code",
   "execution_count": 33,
   "id": "7c370080",
   "metadata": {},
   "outputs": [],
   "source": [
    "chars = string.ascii_lowercase"
   ]
  },
  {
   "cell_type": "code",
   "execution_count": 34,
   "id": "3fe2eeaa",
   "metadata": {},
   "outputs": [],
   "source": [
    "l = random.randint(4,6)"
   ]
  },
  {
   "cell_type": "code",
   "execution_count": 35,
   "id": "f827a0d9",
   "metadata": {},
   "outputs": [
    {
     "data": {
      "text/plain": [
       "['r', 'o', 's', 'y', 'p']"
      ]
     },
     "execution_count": 35,
     "metadata": {},
     "output_type": "execute_result"
    }
   ],
   "source": [
    "[random.choice(chars) for i in range(l)]"
   ]
  },
  {
   "cell_type": "code",
   "execution_count": 36,
   "id": "b42753d6",
   "metadata": {},
   "outputs": [],
   "source": [
    "def getShortURL(longURL):\n",
    "    \"\"\"Given a long URL, provides shortURL\"\"\"\n",
    "    \n",
    "    l = random.randint(4,6)\n",
    "    chars = string.ascii_lowercase\n",
    "    short_url = \"\".join([random.choice(chars) for i in range(l)])\n",
    "    \n",
    "    if short_url in DB:\n",
    "        return getShortURL(longURL)\n",
    "    else:\n",
    "        DB[short_url] = longURL\n",
    "        \n",
    "    result = \"cm.in/\" + short_url\n",
    "    return result"
   ]
  },
  {
   "cell_type": "code",
   "execution_count": 43,
   "id": "0ba2dbba",
   "metadata": {},
   "outputs": [
    {
     "data": {
      "text/plain": [
       "{'fsjral': 'www.facebook.com',\n",
       " 'pzal': 'www.google.com',\n",
       " 'ligjnk': 'www.myntra.com'}"
      ]
     },
     "execution_count": 43,
     "metadata": {},
     "output_type": "execute_result"
    }
   ],
   "source": [
    "DB"
   ]
  },
  {
   "cell_type": "code",
   "execution_count": 38,
   "id": "bfd4f7ef",
   "metadata": {},
   "outputs": [
    {
     "data": {
      "text/plain": [
       "'cm.in/fsjral'"
      ]
     },
     "execution_count": 38,
     "metadata": {},
     "output_type": "execute_result"
    }
   ],
   "source": [
    "getShortURL(\"www.facebook.com\")"
   ]
  },
  {
   "cell_type": "code",
   "execution_count": 40,
   "id": "e8eb6d38",
   "metadata": {},
   "outputs": [
    {
     "data": {
      "text/plain": [
       "'cm.in/pzal'"
      ]
     },
     "execution_count": 40,
     "metadata": {},
     "output_type": "execute_result"
    }
   ],
   "source": [
    "getShortURL(\"www.google.com\")"
   ]
  },
  {
   "cell_type": "code",
   "execution_count": 42,
   "id": "82ab4c2e",
   "metadata": {},
   "outputs": [
    {
     "data": {
      "text/plain": [
       "'cm.in/ligjnk'"
      ]
     },
     "execution_count": 42,
     "metadata": {},
     "output_type": "execute_result"
    }
   ],
   "source": [
    "getShortURL(\"www.myntra.com\")"
   ]
  },
  {
   "cell_type": "code",
   "execution_count": null,
   "id": "4e3c2b6b",
   "metadata": {},
   "outputs": [],
   "source": []
  },
  {
   "cell_type": "code",
   "execution_count": 44,
   "id": "75588352",
   "metadata": {},
   "outputs": [],
   "source": [
    "def getLongURL(shortURL):\n",
    "    \"\"\"Given a shortURL it provides longURL\"\"\"\n",
    "    \n",
    "    key = shortURL.split(\"/\")[-1]\n",
    "    \n",
    "    if key in DB:\n",
    "        return DB[key]\n",
    "    else:\n",
    "        print(\"Short URL does'nt exist\")"
   ]
  },
  {
   "cell_type": "code",
   "execution_count": 46,
   "id": "c112a397",
   "metadata": {},
   "outputs": [
    {
     "data": {
      "text/plain": [
       "'www.myntra.com'"
      ]
     },
     "execution_count": 46,
     "metadata": {},
     "output_type": "execute_result"
    }
   ],
   "source": [
    "getLongURL('cm.in/ligjnk')"
   ]
  },
  {
   "cell_type": "code",
   "execution_count": 47,
   "id": "1f1bb010",
   "metadata": {},
   "outputs": [
    {
     "data": {
      "text/plain": [
       "'www.facebook.com'"
      ]
     },
     "execution_count": 47,
     "metadata": {},
     "output_type": "execute_result"
    }
   ],
   "source": [
    "getLongURL('cm.in/fsjral')"
   ]
  },
  {
   "cell_type": "code",
   "execution_count": null,
   "id": "75d3bf2a",
   "metadata": {},
   "outputs": [],
   "source": []
  },
  {
   "cell_type": "markdown",
   "id": "8023aacd",
   "metadata": {},
   "source": [
    "# Version 2"
   ]
  },
  {
   "cell_type": "code",
   "execution_count": 50,
   "id": "8029d265",
   "metadata": {},
   "outputs": [],
   "source": [
    "DB = {}"
   ]
  },
  {
   "cell_type": "code",
   "execution_count": 51,
   "id": "f2d0ce61",
   "metadata": {},
   "outputs": [],
   "source": [
    "def getShortURL(longURL, myShortURL = None):\n",
    "    \"\"\"Given a longURL it providdes ShortURL\"\"\"\n",
    "    \n",
    "    if myShortURL:\n",
    "        if myShortURL in DB:\n",
    "            print(\"Provides shortURL not available..\")\n",
    "        else:\n",
    "            DB[myShortURL] = longURL\n",
    "            res = \"cm.in/\" + myShortURL\n",
    "            return res\n",
    "        \n",
    "    l = random.randint(4,6)\n",
    "    chars = string.ascii_lowercase + string.digits\n",
    "    \n",
    "    shortURL = \"\".join([random.choice(chars) for i in range(l)])\n",
    "    \n",
    "    if shortURL in DB:\n",
    "        return getShortURL(longURL)\n",
    "    else:\n",
    "        DB[shortURL] = longURL\n",
    "        \n",
    "    result = \"cm.in/\" + shortURL\n",
    "    return result"
   ]
  },
  {
   "cell_type": "code",
   "execution_count": 58,
   "id": "f047cf27",
   "metadata": {},
   "outputs": [
    {
     "data": {
      "text/plain": [
       "{'bf0m4': 'www.indiarailway.com',\n",
       " 'yugo': 'www.delhimetro.com',\n",
       " '0x8gi': 'www.TGC.com'}"
      ]
     },
     "execution_count": 58,
     "metadata": {},
     "output_type": "execute_result"
    }
   ],
   "source": [
    "DB"
   ]
  },
  {
   "cell_type": "code",
   "execution_count": 53,
   "id": "836c0887",
   "metadata": {},
   "outputs": [
    {
     "data": {
      "text/plain": [
       "'cm.in/bf0m4'"
      ]
     },
     "execution_count": 53,
     "metadata": {},
     "output_type": "execute_result"
    }
   ],
   "source": [
    "getShortURL(\"www.indiarailway.com\")"
   ]
  },
  {
   "cell_type": "code",
   "execution_count": 55,
   "id": "bac033b2",
   "metadata": {},
   "outputs": [
    {
     "data": {
      "text/plain": [
       "'cm.in/yugo'"
      ]
     },
     "execution_count": 55,
     "metadata": {},
     "output_type": "execute_result"
    }
   ],
   "source": [
    "getShortURL('www.delhimetro.com')"
   ]
  },
  {
   "cell_type": "code",
   "execution_count": 57,
   "id": "e4770a31",
   "metadata": {},
   "outputs": [
    {
     "data": {
      "text/plain": [
       "'cm.in/0x8gi'"
      ]
     },
     "execution_count": 57,
     "metadata": {},
     "output_type": "execute_result"
    }
   ],
   "source": [
    "getShortURL(\"www.TGC.com\")"
   ]
  },
  {
   "cell_type": "code",
   "execution_count": 59,
   "id": "55181e1b",
   "metadata": {},
   "outputs": [
    {
     "data": {
      "text/plain": [
       "'cm.in/face'"
      ]
     },
     "execution_count": 59,
     "metadata": {},
     "output_type": "execute_result"
    }
   ],
   "source": [
    "getShortURL(\"www.facebook.com\", \"face\")"
   ]
  },
  {
   "cell_type": "code",
   "execution_count": 60,
   "id": "4c7999e2",
   "metadata": {},
   "outputs": [
    {
     "data": {
      "text/plain": [
       "{'bf0m4': 'www.indiarailway.com',\n",
       " 'yugo': 'www.delhimetro.com',\n",
       " '0x8gi': 'www.TGC.com',\n",
       " 'face': 'www.facebook.com'}"
      ]
     },
     "execution_count": 60,
     "metadata": {},
     "output_type": "execute_result"
    }
   ],
   "source": [
    "DB"
   ]
  },
  {
   "cell_type": "code",
   "execution_count": 61,
   "id": "9afac068",
   "metadata": {},
   "outputs": [
    {
     "data": {
      "text/plain": [
       "'cm.in/insta'"
      ]
     },
     "execution_count": 61,
     "metadata": {},
     "output_type": "execute_result"
    }
   ],
   "source": [
    "getShortURL(\"www.instagram.com\", 'insta')"
   ]
  },
  {
   "cell_type": "code",
   "execution_count": 62,
   "id": "1d8b0d4a",
   "metadata": {},
   "outputs": [
    {
     "data": {
      "text/plain": [
       "{'bf0m4': 'www.indiarailway.com',\n",
       " 'yugo': 'www.delhimetro.com',\n",
       " '0x8gi': 'www.TGC.com',\n",
       " 'face': 'www.facebook.com',\n",
       " 'insta': 'www.instagram.com'}"
      ]
     },
     "execution_count": 62,
     "metadata": {},
     "output_type": "execute_result"
    }
   ],
   "source": [
    "DB"
   ]
  },
  {
   "cell_type": "code",
   "execution_count": 63,
   "id": "0fb8bcfb",
   "metadata": {},
   "outputs": [],
   "source": [
    "# Update LongURL"
   ]
  },
  {
   "cell_type": "code",
   "execution_count": 64,
   "id": "175aa37b",
   "metadata": {},
   "outputs": [],
   "source": [
    "def updateLongURL(shorURL, newLongURL):\n",
    "    \"\"\"IT will update longURL with new longURL\"\"\"\n",
    "    \n",
    "    if shorURL in DB:\n",
    "        key = shorURL.split('/')[-1]\n",
    "        DB[key] = newLongURL\n",
    "        res = \"cm.in/\" + shorURL\n",
    "        return res\n",
    "    else:\n",
    "        return \"ShortURL doesn't exist\""
   ]
  },
  {
   "cell_type": "code",
   "execution_count": 65,
   "id": "a2e19726",
   "metadata": {},
   "outputs": [
    {
     "data": {
      "text/plain": [
       "{'bf0m4': 'www.indiarailway.com',\n",
       " 'yugo': 'www.delhimetro.com',\n",
       " '0x8gi': 'www.TGC.com',\n",
       " 'face': 'www.facebook.com',\n",
       " 'insta': 'www.instagram.com'}"
      ]
     },
     "execution_count": 65,
     "metadata": {},
     "output_type": "execute_result"
    }
   ],
   "source": [
    "DB"
   ]
  },
  {
   "cell_type": "code",
   "execution_count": 66,
   "id": "bad066c4",
   "metadata": {},
   "outputs": [
    {
     "data": {
      "text/plain": [
       "'cm.in/face'"
      ]
     },
     "execution_count": 66,
     "metadata": {},
     "output_type": "execute_result"
    }
   ],
   "source": [
    "updateLongURL('face', 'www.whatsapp.com')"
   ]
  },
  {
   "cell_type": "code",
   "execution_count": 67,
   "id": "74516c4e",
   "metadata": {},
   "outputs": [
    {
     "data": {
      "text/plain": [
       "{'bf0m4': 'www.indiarailway.com',\n",
       " 'yugo': 'www.delhimetro.com',\n",
       " '0x8gi': 'www.TGC.com',\n",
       " 'face': 'www.whatsapp.com',\n",
       " 'insta': 'www.instagram.com'}"
      ]
     },
     "execution_count": 67,
     "metadata": {},
     "output_type": "execute_result"
    }
   ],
   "source": [
    "DB"
   ]
  },
  {
   "cell_type": "code",
   "execution_count": 68,
   "id": "cc3039f6",
   "metadata": {},
   "outputs": [
    {
     "data": {
      "text/plain": [
       "'cm.in/insta'"
      ]
     },
     "execution_count": 68,
     "metadata": {},
     "output_type": "execute_result"
    }
   ],
   "source": [
    "updateLongURL('insta', \"www.signals.com\")"
   ]
  },
  {
   "cell_type": "code",
   "execution_count": 69,
   "id": "876ba3de",
   "metadata": {},
   "outputs": [
    {
     "data": {
      "text/plain": [
       "{'bf0m4': 'www.indiarailway.com',\n",
       " 'yugo': 'www.delhimetro.com',\n",
       " '0x8gi': 'www.TGC.com',\n",
       " 'face': 'www.whatsapp.com',\n",
       " 'insta': 'www.signals.com'}"
      ]
     },
     "execution_count": 69,
     "metadata": {},
     "output_type": "execute_result"
    }
   ],
   "source": [
    "DB"
   ]
  },
  {
   "cell_type": "code",
   "execution_count": 70,
   "id": "fc54b7a4",
   "metadata": {},
   "outputs": [
    {
     "data": {
      "text/plain": [
       "'www.whatsapp.com'"
      ]
     },
     "execution_count": 70,
     "metadata": {},
     "output_type": "execute_result"
    }
   ],
   "source": [
    "getLongURL('face')"
   ]
  },
  {
   "cell_type": "code",
   "execution_count": 71,
   "id": "6c4d774d",
   "metadata": {},
   "outputs": [
    {
     "data": {
      "text/plain": [
       "'www.signals.com'"
      ]
     },
     "execution_count": 71,
     "metadata": {},
     "output_type": "execute_result"
    }
   ],
   "source": [
    "getLongURL('insta')"
   ]
  },
  {
   "cell_type": "code",
   "execution_count": null,
   "id": "3a6c60c1",
   "metadata": {},
   "outputs": [],
   "source": []
  }
 ],
 "metadata": {
  "kernelspec": {
   "display_name": "Python 3",
   "language": "python",
   "name": "python3"
  },
  "language_info": {
   "codemirror_mode": {
    "name": "ipython",
    "version": 3
   },
   "file_extension": ".py",
   "mimetype": "text/x-python",
   "name": "python",
   "nbconvert_exporter": "python",
   "pygments_lexer": "ipython3",
   "version": "3.8.8"
  }
 },
 "nbformat": 4,
 "nbformat_minor": 5
}
