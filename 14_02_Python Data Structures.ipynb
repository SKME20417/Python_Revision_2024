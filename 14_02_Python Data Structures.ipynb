{
 "cells": [
  {
   "cell_type": "code",
   "execution_count": 1,
   "id": "c2eb6000",
   "metadata": {},
   "outputs": [],
   "source": [
    "my_str = \"welcome to The Course\""
   ]
  },
  {
   "cell_type": "code",
   "execution_count": 2,
   "id": "4168b61b",
   "metadata": {},
   "outputs": [
    {
     "name": "stdout",
     "output_type": "stream",
     "text": [
      "welcome to The Course\n"
     ]
    }
   ],
   "source": [
    "print(my_str)"
   ]
  },
  {
   "cell_type": "code",
   "execution_count": 3,
   "id": "0b9b8c4a",
   "metadata": {},
   "outputs": [
    {
     "data": {
      "text/plain": [
       "str"
      ]
     },
     "execution_count": 3,
     "metadata": {},
     "output_type": "execute_result"
    }
   ],
   "source": [
    "type(my_str)"
   ]
  },
  {
   "cell_type": "code",
   "execution_count": 4,
   "id": "97683ba9",
   "metadata": {},
   "outputs": [
    {
     "data": {
      "text/plain": [
       "'w'"
      ]
     },
     "execution_count": 4,
     "metadata": {},
     "output_type": "execute_result"
    }
   ],
   "source": [
    "my_str[0]"
   ]
  },
  {
   "cell_type": "code",
   "execution_count": 5,
   "id": "c7b199c9",
   "metadata": {},
   "outputs": [
    {
     "data": {
      "text/plain": [
       "'e'"
      ]
     },
     "execution_count": 5,
     "metadata": {},
     "output_type": "execute_result"
    }
   ],
   "source": [
    "my_str[1]"
   ]
  },
  {
   "cell_type": "code",
   "execution_count": 6,
   "id": "db1935fc",
   "metadata": {},
   "outputs": [
    {
     "data": {
      "text/plain": [
       "'m'"
      ]
     },
     "execution_count": 6,
     "metadata": {},
     "output_type": "execute_result"
    }
   ],
   "source": [
    "my_str[5]"
   ]
  },
  {
   "cell_type": "code",
   "execution_count": 7,
   "id": "62a06e84",
   "metadata": {},
   "outputs": [
    {
     "data": {
      "text/plain": [
       "'welcome to The Course'"
      ]
     },
     "execution_count": 7,
     "metadata": {},
     "output_type": "execute_result"
    }
   ],
   "source": [
    "my_str"
   ]
  },
  {
   "cell_type": "code",
   "execution_count": 10,
   "id": "5ae53dcf",
   "metadata": {},
   "outputs": [
    {
     "data": {
      "text/plain": [
       "'e'"
      ]
     },
     "execution_count": 10,
     "metadata": {},
     "output_type": "execute_result"
    }
   ],
   "source": [
    "my_str[len(my_str)-1]"
   ]
  },
  {
   "cell_type": "code",
   "execution_count": 11,
   "id": "3e0a3cf3",
   "metadata": {},
   "outputs": [
    {
     "data": {
      "text/plain": [
       "'e'"
      ]
     },
     "execution_count": 11,
     "metadata": {},
     "output_type": "execute_result"
    }
   ],
   "source": [
    "my_str[-1]"
   ]
  },
  {
   "cell_type": "code",
   "execution_count": 12,
   "id": "e6bfe6a9",
   "metadata": {},
   "outputs": [
    {
     "data": {
      "text/plain": [
       "'welcome to The Course'"
      ]
     },
     "execution_count": 12,
     "metadata": {},
     "output_type": "execute_result"
    }
   ],
   "source": [
    "my_str"
   ]
  },
  {
   "cell_type": "code",
   "execution_count": 13,
   "id": "9a3ef19d",
   "metadata": {},
   "outputs": [
    {
     "data": {
      "text/plain": [
       "'r'"
      ]
     },
     "execution_count": 13,
     "metadata": {},
     "output_type": "execute_result"
    }
   ],
   "source": [
    "my_str[-3]"
   ]
  },
  {
   "cell_type": "code",
   "execution_count": 14,
   "id": "939854ff",
   "metadata": {},
   "outputs": [
    {
     "data": {
      "text/plain": [
       "21"
      ]
     },
     "execution_count": 14,
     "metadata": {},
     "output_type": "execute_result"
    }
   ],
   "source": [
    "len(my_str)"
   ]
  },
  {
   "cell_type": "code",
   "execution_count": 15,
   "id": "3db80dd3",
   "metadata": {},
   "outputs": [
    {
     "data": {
      "text/plain": [
       "'e'"
      ]
     },
     "execution_count": 15,
     "metadata": {},
     "output_type": "execute_result"
    }
   ],
   "source": [
    "my_str[20]"
   ]
  },
  {
   "cell_type": "code",
   "execution_count": 16,
   "id": "0365c2e5",
   "metadata": {},
   "outputs": [
    {
     "data": {
      "text/plain": [
       "'welcome to The Course'"
      ]
     },
     "execution_count": 16,
     "metadata": {},
     "output_type": "execute_result"
    }
   ],
   "source": [
    "my_str"
   ]
  },
  {
   "cell_type": "code",
   "execution_count": 17,
   "id": "0d4babef",
   "metadata": {},
   "outputs": [
    {
     "data": {
      "text/plain": [
       "'e'"
      ]
     },
     "execution_count": 17,
     "metadata": {},
     "output_type": "execute_result"
    }
   ],
   "source": [
    "my_str[-8]"
   ]
  },
  {
   "cell_type": "code",
   "execution_count": 18,
   "id": "09dae3aa",
   "metadata": {},
   "outputs": [
    {
     "data": {
      "text/plain": [
       "'welcome to The Course'"
      ]
     },
     "execution_count": 18,
     "metadata": {},
     "output_type": "execute_result"
    }
   ],
   "source": [
    "my_str"
   ]
  },
  {
   "cell_type": "code",
   "execution_count": 20,
   "id": "deb5ce98",
   "metadata": {},
   "outputs": [
    {
     "data": {
      "text/plain": [
       "'welcome'"
      ]
     },
     "execution_count": 20,
     "metadata": {},
     "output_type": "execute_result"
    }
   ],
   "source": [
    "my_str[0:7]"
   ]
  },
  {
   "cell_type": "code",
   "execution_count": 21,
   "id": "1d2f8c2b",
   "metadata": {},
   "outputs": [
    {
     "data": {
      "text/plain": [
       "'lcome to The '"
      ]
     },
     "execution_count": 21,
     "metadata": {},
     "output_type": "execute_result"
    }
   ],
   "source": [
    "my_str[2:15]"
   ]
  },
  {
   "cell_type": "code",
   "execution_count": 22,
   "id": "16724662",
   "metadata": {},
   "outputs": [
    {
     "data": {
      "text/plain": [
       "'come to'"
      ]
     },
     "execution_count": 22,
     "metadata": {},
     "output_type": "execute_result"
    }
   ],
   "source": [
    "my_str[3:10]"
   ]
  },
  {
   "cell_type": "code",
   "execution_count": 23,
   "id": "db7f03b3",
   "metadata": {},
   "outputs": [
    {
     "data": {
      "text/plain": [
       "'ecm oTe'"
      ]
     },
     "execution_count": 23,
     "metadata": {},
     "output_type": "execute_result"
    }
   ],
   "source": [
    "my_str[1:15:2]"
   ]
  },
  {
   "cell_type": "code",
   "execution_count": 24,
   "id": "1911e512",
   "metadata": {},
   "outputs": [
    {
     "data": {
      "text/plain": [
       "'welcome to The Course'"
      ]
     },
     "execution_count": 24,
     "metadata": {},
     "output_type": "execute_result"
    }
   ],
   "source": [
    "my_str"
   ]
  },
  {
   "cell_type": "code",
   "execution_count": 25,
   "id": "df60d785",
   "metadata": {},
   "outputs": [
    {
     "data": {
      "text/plain": [
       "'esruoC ehT ot emoclew'"
      ]
     },
     "execution_count": 25,
     "metadata": {},
     "output_type": "execute_result"
    }
   ],
   "source": [
    "my_str[::-1]"
   ]
  },
  {
   "cell_type": "code",
   "execution_count": 27,
   "id": "23f2d136",
   "metadata": {},
   "outputs": [
    {
     "data": {
      "text/plain": [
       "'esruoC'"
      ]
     },
     "execution_count": 27,
     "metadata": {},
     "output_type": "execute_result"
    }
   ],
   "source": [
    "my_str[-1:-7:-1]"
   ]
  },
  {
   "cell_type": "code",
   "execution_count": 29,
   "id": "3e8fb857",
   "metadata": {},
   "outputs": [
    {
     "data": {
      "text/plain": [
       "'Course'"
      ]
     },
     "execution_count": 29,
     "metadata": {},
     "output_type": "execute_result"
    }
   ],
   "source": [
    "my_str[-6:]"
   ]
  },
  {
   "cell_type": "code",
   "execution_count": 31,
   "id": "255f3835",
   "metadata": {},
   "outputs": [
    {
     "data": {
      "text/plain": [
       "'welcome to The Cour'"
      ]
     },
     "execution_count": 31,
     "metadata": {},
     "output_type": "execute_result"
    }
   ],
   "source": [
    "my_str[:-2]"
   ]
  },
  {
   "cell_type": "code",
   "execution_count": 32,
   "id": "c03b0fe4",
   "metadata": {},
   "outputs": [
    {
     "data": {
      "text/plain": [
       "'welcome to The Cours'"
      ]
     },
     "execution_count": 32,
     "metadata": {},
     "output_type": "execute_result"
    }
   ],
   "source": [
    "my_str[:-1]"
   ]
  },
  {
   "cell_type": "code",
   "execution_count": 33,
   "id": "a7a447e0",
   "metadata": {},
   "outputs": [
    {
     "data": {
      "text/plain": [
       "'welcome to The C'"
      ]
     },
     "execution_count": 33,
     "metadata": {},
     "output_type": "execute_result"
    }
   ],
   "source": [
    "my_str[:-5]"
   ]
  },
  {
   "cell_type": "code",
   "execution_count": 34,
   "id": "7d777b24",
   "metadata": {},
   "outputs": [
    {
     "data": {
      "text/plain": [
       "'welcome to The Cou'"
      ]
     },
     "execution_count": 34,
     "metadata": {},
     "output_type": "execute_result"
    }
   ],
   "source": [
    "my_str[0:-3]"
   ]
  },
  {
   "cell_type": "code",
   "execution_count": 38,
   "id": "d873db08",
   "metadata": {},
   "outputs": [
    {
     "data": {
      "text/plain": [
       "'ero h te'"
      ]
     },
     "execution_count": 38,
     "metadata": {},
     "output_type": "execute_result"
    }
   ],
   "source": [
    "my_str[20:5:-2]"
   ]
  },
  {
   "cell_type": "code",
   "execution_count": 39,
   "id": "a7c7eb0c",
   "metadata": {},
   "outputs": [
    {
     "data": {
      "text/plain": [
       "'welcome to The Course'"
      ]
     },
     "execution_count": 39,
     "metadata": {},
     "output_type": "execute_result"
    }
   ],
   "source": [
    "my_str"
   ]
  },
  {
   "cell_type": "code",
   "execution_count": 40,
   "id": "9c1ba369",
   "metadata": {},
   "outputs": [
    {
     "data": {
      "text/plain": [
       "'WELCOME TO THE COURSE'"
      ]
     },
     "execution_count": 40,
     "metadata": {},
     "output_type": "execute_result"
    }
   ],
   "source": [
    "my_str.upper()"
   ]
  },
  {
   "cell_type": "code",
   "execution_count": 41,
   "id": "1e7c79c2",
   "metadata": {},
   "outputs": [
    {
     "data": {
      "text/plain": [
       "'welcome to the course'"
      ]
     },
     "execution_count": 41,
     "metadata": {},
     "output_type": "execute_result"
    }
   ],
   "source": [
    "my_str.lower()"
   ]
  },
  {
   "cell_type": "code",
   "execution_count": 42,
   "id": "8af640f5",
   "metadata": {},
   "outputs": [
    {
     "data": {
      "text/plain": [
       "'Welcome to the course'"
      ]
     },
     "execution_count": 42,
     "metadata": {},
     "output_type": "execute_result"
    }
   ],
   "source": [
    "my_str.capitalize()"
   ]
  },
  {
   "cell_type": "code",
   "execution_count": 43,
   "id": "ce77dcd7",
   "metadata": {},
   "outputs": [
    {
     "data": {
      "text/plain": [
       "'Welcome To The Course'"
      ]
     },
     "execution_count": 43,
     "metadata": {},
     "output_type": "execute_result"
    }
   ],
   "source": [
    "my_str.title()"
   ]
  },
  {
   "cell_type": "code",
   "execution_count": 44,
   "id": "05b86633",
   "metadata": {},
   "outputs": [
    {
     "data": {
      "text/plain": [
       "1"
      ]
     },
     "execution_count": 44,
     "metadata": {},
     "output_type": "execute_result"
    }
   ],
   "source": [
    "my_str.find('e')"
   ]
  },
  {
   "cell_type": "code",
   "execution_count": 48,
   "id": "15196862",
   "metadata": {},
   "outputs": [
    {
     "data": {
      "text/plain": [
       "9"
      ]
     },
     "execution_count": 48,
     "metadata": {},
     "output_type": "execute_result"
    }
   ],
   "source": [
    "my_str.find('o', 5)"
   ]
  },
  {
   "cell_type": "code",
   "execution_count": 49,
   "id": "411d3583",
   "metadata": {},
   "outputs": [
    {
     "data": {
      "text/plain": [
       "-1"
      ]
     },
     "execution_count": 49,
     "metadata": {},
     "output_type": "execute_result"
    }
   ],
   "source": [
    "my_str.find(\"bad\")"
   ]
  },
  {
   "cell_type": "code",
   "execution_count": 50,
   "id": "7be96818",
   "metadata": {},
   "outputs": [
    {
     "data": {
      "text/plain": [
       "3"
      ]
     },
     "execution_count": 50,
     "metadata": {},
     "output_type": "execute_result"
    }
   ],
   "source": [
    "my_str.find('come')"
   ]
  },
  {
   "cell_type": "code",
   "execution_count": 52,
   "id": "fe125904",
   "metadata": {},
   "outputs": [],
   "source": [
    "str_lst = my_str.split()"
   ]
  },
  {
   "cell_type": "code",
   "execution_count": 53,
   "id": "6c5d5be4",
   "metadata": {},
   "outputs": [
    {
     "data": {
      "text/plain": [
       "['welcome', 'to', 'The', 'Course']"
      ]
     },
     "execution_count": 53,
     "metadata": {},
     "output_type": "execute_result"
    }
   ],
   "source": [
    "str_lst"
   ]
  },
  {
   "cell_type": "code",
   "execution_count": 57,
   "id": "489210a5",
   "metadata": {},
   "outputs": [
    {
     "data": {
      "text/plain": [
       "'welcome to The Course'"
      ]
     },
     "execution_count": 57,
     "metadata": {},
     "output_type": "execute_result"
    }
   ],
   "source": [
    "\" \".join(str_lst)"
   ]
  },
  {
   "cell_type": "code",
   "execution_count": 58,
   "id": "e68f6bf7",
   "metadata": {},
   "outputs": [
    {
     "data": {
      "text/plain": [
       "3"
      ]
     },
     "execution_count": 58,
     "metadata": {},
     "output_type": "execute_result"
    }
   ],
   "source": [
    "my_str.count('o')"
   ]
  },
  {
   "cell_type": "code",
   "execution_count": 60,
   "id": "df84164d",
   "metadata": {},
   "outputs": [
    {
     "data": {
      "text/plain": [
       "1"
      ]
     },
     "execution_count": 60,
     "metadata": {},
     "output_type": "execute_result"
    }
   ],
   "source": [
    "my_str.count('t')"
   ]
  },
  {
   "cell_type": "code",
   "execution_count": 61,
   "id": "48b440ff",
   "metadata": {},
   "outputs": [
    {
     "data": {
      "text/plain": [
       "4"
      ]
     },
     "execution_count": 61,
     "metadata": {},
     "output_type": "execute_result"
    }
   ],
   "source": [
    "my_str.count('e')"
   ]
  },
  {
   "cell_type": "code",
   "execution_count": 62,
   "id": "48a24c55",
   "metadata": {},
   "outputs": [
    {
     "data": {
      "text/plain": [
       "'welcome to The Course'"
      ]
     },
     "execution_count": 62,
     "metadata": {},
     "output_type": "execute_result"
    }
   ],
   "source": [
    "my_str"
   ]
  },
  {
   "cell_type": "code",
   "execution_count": 63,
   "id": "66a1fefc",
   "metadata": {},
   "outputs": [
    {
     "data": {
      "text/plain": [
       "'welcome to The Programme'"
      ]
     },
     "execution_count": 63,
     "metadata": {},
     "output_type": "execute_result"
    }
   ],
   "source": [
    "my_str.replace(\"Course\", \"Programme\")"
   ]
  },
  {
   "cell_type": "code",
   "execution_count": 64,
   "id": "d2582d43",
   "metadata": {},
   "outputs": [
    {
     "data": {
      "text/plain": [
       "'welcome to The Course'"
      ]
     },
     "execution_count": 64,
     "metadata": {},
     "output_type": "execute_result"
    }
   ],
   "source": [
    "my_str"
   ]
  },
  {
   "cell_type": "code",
   "execution_count": 65,
   "id": "179e2fff",
   "metadata": {},
   "outputs": [
    {
     "data": {
      "text/plain": [
       "'wflcomf to Thf Coursf'"
      ]
     },
     "execution_count": 65,
     "metadata": {},
     "output_type": "execute_result"
    }
   ],
   "source": [
    "my_str.replace('e', 'f')"
   ]
  },
  {
   "cell_type": "code",
   "execution_count": 66,
   "id": "632bd818",
   "metadata": {},
   "outputs": [
    {
     "data": {
      "text/plain": [
       "'welcome to The Course'"
      ]
     },
     "execution_count": 66,
     "metadata": {},
     "output_type": "execute_result"
    }
   ],
   "source": [
    "my_str"
   ]
  },
  {
   "cell_type": "code",
   "execution_count": 67,
   "id": "55194bba",
   "metadata": {},
   "outputs": [
    {
     "name": "stdout",
     "output_type": "stream",
     "text": [
      "Enter Your name :                 navneet                      \n"
     ]
    }
   ],
   "source": [
    "name  = input('Enter Your name :')"
   ]
  },
  {
   "cell_type": "code",
   "execution_count": 68,
   "id": "25c85c67",
   "metadata": {},
   "outputs": [
    {
     "data": {
      "text/plain": [
       "'                 navneet                      '"
      ]
     },
     "execution_count": 68,
     "metadata": {},
     "output_type": "execute_result"
    }
   ],
   "source": [
    "name"
   ]
  },
  {
   "cell_type": "code",
   "execution_count": 69,
   "id": "8604fee8",
   "metadata": {},
   "outputs": [
    {
     "data": {
      "text/plain": [
       "46"
      ]
     },
     "execution_count": 69,
     "metadata": {},
     "output_type": "execute_result"
    }
   ],
   "source": [
    "len(name)"
   ]
  },
  {
   "cell_type": "code",
   "execution_count": 70,
   "id": "7735d73e",
   "metadata": {},
   "outputs": [
    {
     "data": {
      "text/plain": [
       "'navneet                      '"
      ]
     },
     "execution_count": 70,
     "metadata": {},
     "output_type": "execute_result"
    }
   ],
   "source": [
    "name.lstrip()"
   ]
  },
  {
   "cell_type": "code",
   "execution_count": 71,
   "id": "8b0ab0b3",
   "metadata": {},
   "outputs": [
    {
     "data": {
      "text/plain": [
       "'                 navneet'"
      ]
     },
     "execution_count": 71,
     "metadata": {},
     "output_type": "execute_result"
    }
   ],
   "source": [
    "name.rstrip()"
   ]
  },
  {
   "cell_type": "code",
   "execution_count": 75,
   "id": "5a6dcb21",
   "metadata": {},
   "outputs": [],
   "source": [
    "name = name.strip()"
   ]
  },
  {
   "cell_type": "code",
   "execution_count": 76,
   "id": "1cb89e9c",
   "metadata": {},
   "outputs": [
    {
     "data": {
      "text/plain": [
       "'navneet'"
      ]
     },
     "execution_count": 76,
     "metadata": {},
     "output_type": "execute_result"
    }
   ],
   "source": [
    "name"
   ]
  },
  {
   "cell_type": "code",
   "execution_count": 77,
   "id": "504e95aa",
   "metadata": {},
   "outputs": [],
   "source": [
    "#Few operations on Strings"
   ]
  },
  {
   "cell_type": "code",
   "execution_count": 78,
   "id": "cde625fd",
   "metadata": {},
   "outputs": [
    {
     "ename": "TypeError",
     "evalue": "can only concatenate str (not \"int\") to str",
     "output_type": "error",
     "traceback": [
      "\u001b[1;31m---------------------------------------------------------------------------\u001b[0m",
      "\u001b[1;31mTypeError\u001b[0m                                 Traceback (most recent call last)",
      "\u001b[1;32m<ipython-input-78-7c537bbdad31>\u001b[0m in \u001b[0;36m<module>\u001b[1;34m\u001b[0m\n\u001b[1;32m----> 1\u001b[1;33m \u001b[1;34m\"hello\"\u001b[0m \u001b[1;33m+\u001b[0m \u001b[1;36m5\u001b[0m\u001b[1;33m\u001b[0m\u001b[1;33m\u001b[0m\u001b[0m\n\u001b[0m",
      "\u001b[1;31mTypeError\u001b[0m: can only concatenate str (not \"int\") to str"
     ]
    }
   ],
   "source": [
    "\"hello\" + 5"
   ]
  },
  {
   "cell_type": "code",
   "execution_count": 79,
   "id": "98361162",
   "metadata": {},
   "outputs": [
    {
     "data": {
      "text/plain": [
       "5"
      ]
     },
     "execution_count": 79,
     "metadata": {},
     "output_type": "execute_result"
    }
   ],
   "source": [
    "2+3"
   ]
  },
  {
   "cell_type": "code",
   "execution_count": 80,
   "id": "a15617fa",
   "metadata": {},
   "outputs": [
    {
     "data": {
      "text/plain": [
       "'Hello world'"
      ]
     },
     "execution_count": 80,
     "metadata": {},
     "output_type": "execute_result"
    }
   ],
   "source": [
    "\"Hello \" + \"world\""
   ]
  },
  {
   "cell_type": "code",
   "execution_count": 82,
   "id": "57f23ab0",
   "metadata": {},
   "outputs": [
    {
     "data": {
      "text/plain": [
       "'hello 5'"
      ]
     },
     "execution_count": 82,
     "metadata": {},
     "output_type": "execute_result"
    }
   ],
   "source": [
    "\"hello \" + str(5)"
   ]
  },
  {
   "cell_type": "code",
   "execution_count": 83,
   "id": "567b72e1",
   "metadata": {},
   "outputs": [],
   "source": [
    "s1 = \"pqr\"\n",
    "s2 = \"abc\""
   ]
  },
  {
   "cell_type": "code",
   "execution_count": 84,
   "id": "7096de25",
   "metadata": {},
   "outputs": [
    {
     "data": {
      "text/plain": [
       "'pqrabc'"
      ]
     },
     "execution_count": 84,
     "metadata": {},
     "output_type": "execute_result"
    }
   ],
   "source": [
    "s1 +s2"
   ]
  },
  {
   "cell_type": "code",
   "execution_count": 86,
   "id": "1c25051b",
   "metadata": {},
   "outputs": [
    {
     "data": {
      "text/plain": [
       "'pqr5'"
      ]
     },
     "execution_count": 86,
     "metadata": {},
     "output_type": "execute_result"
    }
   ],
   "source": [
    "s1 + str(5)"
   ]
  },
  {
   "cell_type": "code",
   "execution_count": 87,
   "id": "7431b45d",
   "metadata": {},
   "outputs": [
    {
     "data": {
      "text/plain": [
       "'hellohellohellohellohello'"
      ]
     },
     "execution_count": 87,
     "metadata": {},
     "output_type": "execute_result"
    }
   ],
   "source": [
    "\"hello\"*5"
   ]
  },
  {
   "cell_type": "code",
   "execution_count": 88,
   "id": "2f0d6ddf",
   "metadata": {},
   "outputs": [
    {
     "data": {
      "text/plain": [
       "'/////'"
      ]
     },
     "execution_count": 88,
     "metadata": {},
     "output_type": "execute_result"
    }
   ],
   "source": [
    "\"/\"*5"
   ]
  },
  {
   "cell_type": "code",
   "execution_count": 89,
   "id": "3c2dd72a",
   "metadata": {},
   "outputs": [
    {
     "data": {
      "text/plain": [
       "'******'"
      ]
     },
     "execution_count": 89,
     "metadata": {},
     "output_type": "execute_result"
    }
   ],
   "source": [
    "\"*\"*6"
   ]
  },
  {
   "cell_type": "code",
   "execution_count": 90,
   "id": "2044d76f",
   "metadata": {},
   "outputs": [
    {
     "name": "stdout",
     "output_type": "stream",
     "text": [
      "enter your string : we are learning full stack engineering with machine and deep learning\n"
     ]
    }
   ],
   "source": [
    "my_str = input(\"enter your string : \")"
   ]
  },
  {
   "cell_type": "code",
   "execution_count": 91,
   "id": "ff766faa",
   "metadata": {},
   "outputs": [
    {
     "data": {
      "text/plain": [
       "'we are learning full stack engineering with machine and deep learning'"
      ]
     },
     "execution_count": 91,
     "metadata": {},
     "output_type": "execute_result"
    }
   ],
   "source": [
    "my_str"
   ]
  },
  {
   "cell_type": "code",
   "execution_count": 93,
   "id": "3e98ee54",
   "metadata": {},
   "outputs": [],
   "source": [
    "counter = 0\n",
    "for i in  my_str:\n",
    "    if i in \"aeiouAEIOU\":\n",
    "        counter+=1"
   ]
  },
  {
   "cell_type": "code",
   "execution_count": 94,
   "id": "ec95cb4a",
   "metadata": {},
   "outputs": [
    {
     "name": "stdout",
     "output_type": "stream",
     "text": [
      "The number of vowels are 23\n"
     ]
    }
   ],
   "source": [
    "print(f\"The number of vowels are {counter}\")"
   ]
  },
  {
   "cell_type": "code",
   "execution_count": 95,
   "id": "66056ba8",
   "metadata": {},
   "outputs": [
    {
     "name": "stdout",
     "output_type": "stream",
     "text": [
      "enetre your word :madam\n"
     ]
    }
   ],
   "source": [
    "word = input('enetre your word :')\n",
    "rev_word = word[::-1]"
   ]
  },
  {
   "cell_type": "code",
   "execution_count": 96,
   "id": "7c990b5d",
   "metadata": {},
   "outputs": [
    {
     "data": {
      "text/plain": [
       "'madam'"
      ]
     },
     "execution_count": 96,
     "metadata": {},
     "output_type": "execute_result"
    }
   ],
   "source": [
    "word"
   ]
  },
  {
   "cell_type": "code",
   "execution_count": 97,
   "id": "79bfd0b9",
   "metadata": {},
   "outputs": [],
   "source": [
    "rev_word = word[::-1]"
   ]
  },
  {
   "cell_type": "code",
   "execution_count": 104,
   "id": "bbb342f5",
   "metadata": {},
   "outputs": [
    {
     "name": "stdout",
     "output_type": "stream",
     "text": [
      "enetre your word :laptop\n",
      "The given word laptop is not plaindrome\n"
     ]
    }
   ],
   "source": [
    "word = input('enetre your word :')\n",
    "rev_word = word[::-1]\n",
    "\n",
    "if word==rev_word:\n",
    "    print(f\"The given word {word} is palindrome\")\n",
    "else:\n",
    "    print(f\"The given word {word} is not plaindrome\")"
   ]
  },
  {
   "cell_type": "code",
   "execution_count": null,
   "id": "9d8c5fe3",
   "metadata": {},
   "outputs": [],
   "source": []
  },
  {
   "cell_type": "code",
   "execution_count": 105,
   "id": "ca6fc0d6",
   "metadata": {},
   "outputs": [
    {
     "name": "stdout",
     "output_type": "stream",
     "text": [
      "enetre your word :computer\n"
     ]
    }
   ],
   "source": [
    "word = input('enetre your word :')"
   ]
  },
  {
   "cell_type": "code",
   "execution_count": 109,
   "id": "ee771fca",
   "metadata": {},
   "outputs": [
    {
     "name": "stdout",
     "output_type": "stream",
     "text": [
      "enetre your word :python\n",
      "The given word python is not plaindrome\n"
     ]
    }
   ],
   "source": [
    "word = input('enetre your word :')\n",
    "start = 0\n",
    "end = len(word)-1\n",
    "\n",
    "is_palindrome = True\n",
    "\n",
    "while start<=end:\n",
    "    if word[start] != word[end]:\n",
    "        is_palindrome = False\n",
    "        break\n",
    "         \n",
    "    start+=1\n",
    "    end-=1\n",
    "    \n",
    "if is_palindrome:\n",
    "    print(f\"The given word {word} is palindrome\")\n",
    "else:\n",
    "    print(f\"The given word {word} is not plaindrome\")    "
   ]
  },
  {
   "cell_type": "code",
   "execution_count": null,
   "id": "bce0959d",
   "metadata": {},
   "outputs": [],
   "source": []
  },
  {
   "cell_type": "code",
   "execution_count": 110,
   "id": "dd62e03e",
   "metadata": {},
   "outputs": [],
   "source": [
    "# list"
   ]
  },
  {
   "cell_type": "code",
   "execution_count": 111,
   "id": "dc4ebeb6",
   "metadata": {},
   "outputs": [],
   "source": [
    "k = []"
   ]
  },
  {
   "cell_type": "code",
   "execution_count": 112,
   "id": "20b564bb",
   "metadata": {},
   "outputs": [
    {
     "data": {
      "text/plain": [
       "list"
      ]
     },
     "execution_count": 112,
     "metadata": {},
     "output_type": "execute_result"
    }
   ],
   "source": [
    "type(k)"
   ]
  },
  {
   "cell_type": "code",
   "execution_count": 113,
   "id": "1f2de421",
   "metadata": {},
   "outputs": [],
   "source": [
    "a = list()"
   ]
  },
  {
   "cell_type": "code",
   "execution_count": 114,
   "id": "cca3870d",
   "metadata": {},
   "outputs": [
    {
     "data": {
      "text/plain": [
       "list"
      ]
     },
     "execution_count": 114,
     "metadata": {},
     "output_type": "execute_result"
    }
   ],
   "source": [
    "type(a)"
   ]
  },
  {
   "cell_type": "code",
   "execution_count": 115,
   "id": "1d0eb809",
   "metadata": {},
   "outputs": [],
   "source": [
    "p = [10,12,25,36,78,5,6]"
   ]
  },
  {
   "cell_type": "code",
   "execution_count": 116,
   "id": "6c27a025",
   "metadata": {},
   "outputs": [
    {
     "data": {
      "text/plain": [
       "list"
      ]
     },
     "execution_count": 116,
     "metadata": {},
     "output_type": "execute_result"
    }
   ],
   "source": [
    "type(p)"
   ]
  },
  {
   "cell_type": "code",
   "execution_count": 117,
   "id": "5f00d0e0",
   "metadata": {},
   "outputs": [],
   "source": [
    "j = [10,12,2.3,5.9,True, False,5+7j,\"python\", 'data', [14,15,19], (7,8,9), {'A':1, \"B\":2, \"C\":3}]"
   ]
  },
  {
   "cell_type": "code",
   "execution_count": 118,
   "id": "08cf8ad6",
   "metadata": {},
   "outputs": [
    {
     "data": {
      "text/plain": [
       "list"
      ]
     },
     "execution_count": 118,
     "metadata": {},
     "output_type": "execute_result"
    }
   ],
   "source": [
    "type(j)"
   ]
  },
  {
   "cell_type": "code",
   "execution_count": 119,
   "id": "f4a583d5",
   "metadata": {},
   "outputs": [],
   "source": [
    "#indexing and slicing"
   ]
  },
  {
   "cell_type": "code",
   "execution_count": 120,
   "id": "4018d284",
   "metadata": {},
   "outputs": [
    {
     "data": {
      "text/plain": [
       "[10, 12, 25, 36, 78, 5, 6]"
      ]
     },
     "execution_count": 120,
     "metadata": {},
     "output_type": "execute_result"
    }
   ],
   "source": [
    "p"
   ]
  },
  {
   "cell_type": "code",
   "execution_count": 121,
   "id": "68d41867",
   "metadata": {},
   "outputs": [
    {
     "data": {
      "text/plain": [
       "10"
      ]
     },
     "execution_count": 121,
     "metadata": {},
     "output_type": "execute_result"
    }
   ],
   "source": [
    "p[0]"
   ]
  },
  {
   "cell_type": "code",
   "execution_count": 122,
   "id": "64080209",
   "metadata": {},
   "outputs": [
    {
     "data": {
      "text/plain": [
       "25"
      ]
     },
     "execution_count": 122,
     "metadata": {},
     "output_type": "execute_result"
    }
   ],
   "source": [
    "p[2]"
   ]
  },
  {
   "cell_type": "code",
   "execution_count": 123,
   "id": "6a665de9",
   "metadata": {},
   "outputs": [
    {
     "data": {
      "text/plain": [
       "5"
      ]
     },
     "execution_count": 123,
     "metadata": {},
     "output_type": "execute_result"
    }
   ],
   "source": [
    "p[-2]"
   ]
  },
  {
   "cell_type": "code",
   "execution_count": 124,
   "id": "b82e953a",
   "metadata": {},
   "outputs": [
    {
     "data": {
      "text/plain": [
       "6"
      ]
     },
     "execution_count": 124,
     "metadata": {},
     "output_type": "execute_result"
    }
   ],
   "source": [
    "p[-1]"
   ]
  },
  {
   "cell_type": "code",
   "execution_count": 125,
   "id": "06fd2d65",
   "metadata": {},
   "outputs": [
    {
     "data": {
      "text/plain": [
       "7"
      ]
     },
     "execution_count": 125,
     "metadata": {},
     "output_type": "execute_result"
    }
   ],
   "source": [
    "len(p)"
   ]
  },
  {
   "cell_type": "code",
   "execution_count": 126,
   "id": "cfd58395",
   "metadata": {},
   "outputs": [
    {
     "data": {
      "text/plain": [
       "[10, 12, 25, 36, 78, 5, 6]"
      ]
     },
     "execution_count": 126,
     "metadata": {},
     "output_type": "execute_result"
    }
   ],
   "source": [
    "p"
   ]
  },
  {
   "cell_type": "code",
   "execution_count": 127,
   "id": "61c2eb10",
   "metadata": {},
   "outputs": [
    {
     "data": {
      "text/plain": [
       "[12, 25, 36]"
      ]
     },
     "execution_count": 127,
     "metadata": {},
     "output_type": "execute_result"
    }
   ],
   "source": [
    "p[1:4]"
   ]
  },
  {
   "cell_type": "code",
   "execution_count": 128,
   "id": "cea2c1ff",
   "metadata": {},
   "outputs": [
    {
     "data": {
      "text/plain": [
       "[10, 12, 25, 36, 78, 5]"
      ]
     },
     "execution_count": 128,
     "metadata": {},
     "output_type": "execute_result"
    }
   ],
   "source": [
    "p[0:6]"
   ]
  },
  {
   "cell_type": "code",
   "execution_count": 129,
   "id": "3dc4704c",
   "metadata": {},
   "outputs": [
    {
     "data": {
      "text/plain": [
       "[10, 25, 78]"
      ]
     },
     "execution_count": 129,
     "metadata": {},
     "output_type": "execute_result"
    }
   ],
   "source": [
    "p[0:6:2]"
   ]
  },
  {
   "cell_type": "code",
   "execution_count": 130,
   "id": "b08033d1",
   "metadata": {},
   "outputs": [
    {
     "data": {
      "text/plain": [
       "[6, 5, 78, 36, 25, 12, 10]"
      ]
     },
     "execution_count": 130,
     "metadata": {},
     "output_type": "execute_result"
    }
   ],
   "source": [
    "p[::-1]"
   ]
  },
  {
   "cell_type": "code",
   "execution_count": 131,
   "id": "eba74019",
   "metadata": {},
   "outputs": [
    {
     "data": {
      "text/plain": [
       "[6, 78, 25, 10]"
      ]
     },
     "execution_count": 131,
     "metadata": {},
     "output_type": "execute_result"
    }
   ],
   "source": [
    "p[::-2]"
   ]
  },
  {
   "cell_type": "code",
   "execution_count": 132,
   "id": "e57506a0",
   "metadata": {},
   "outputs": [
    {
     "data": {
      "text/plain": [
       "[10, 12, 25, 36, 78, 5, 6]"
      ]
     },
     "execution_count": 132,
     "metadata": {},
     "output_type": "execute_result"
    }
   ],
   "source": [
    "p"
   ]
  },
  {
   "cell_type": "code",
   "execution_count": 133,
   "id": "071109ac",
   "metadata": {},
   "outputs": [
    {
     "data": {
      "text/plain": [
       "[10, 12, 25, 36, 78]"
      ]
     },
     "execution_count": 133,
     "metadata": {},
     "output_type": "execute_result"
    }
   ],
   "source": [
    "p[0:-2]"
   ]
  },
  {
   "cell_type": "code",
   "execution_count": 134,
   "id": "d675fdd0",
   "metadata": {},
   "outputs": [
    {
     "data": {
      "text/plain": [
       "[12, 25, 36, 78, 5]"
      ]
     },
     "execution_count": 134,
     "metadata": {},
     "output_type": "execute_result"
    }
   ],
   "source": [
    "p[1:-1]"
   ]
  },
  {
   "cell_type": "code",
   "execution_count": 135,
   "id": "d639d9c1",
   "metadata": {},
   "outputs": [
    {
     "data": {
      "text/plain": [
       "[10, 12, 25, 36, 78, 5, 6]"
      ]
     },
     "execution_count": 135,
     "metadata": {},
     "output_type": "execute_result"
    }
   ],
   "source": [
    "p"
   ]
  },
  {
   "cell_type": "code",
   "execution_count": 136,
   "id": "1bcc7784",
   "metadata": {},
   "outputs": [
    {
     "data": {
      "text/plain": [
       "[25, 36, 78]"
      ]
     },
     "execution_count": 136,
     "metadata": {},
     "output_type": "execute_result"
    }
   ],
   "source": [
    "p[2:-2]"
   ]
  },
  {
   "cell_type": "code",
   "execution_count": 137,
   "id": "55e59c62",
   "metadata": {},
   "outputs": [
    {
     "data": {
      "text/plain": [
       "[10, 12, 25, 36, 78, 5, 6]"
      ]
     },
     "execution_count": 137,
     "metadata": {},
     "output_type": "execute_result"
    }
   ],
   "source": [
    "p"
   ]
  },
  {
   "cell_type": "code",
   "execution_count": 139,
   "id": "abc7599e",
   "metadata": {},
   "outputs": [],
   "source": [
    "p[2] = 150"
   ]
  },
  {
   "cell_type": "code",
   "execution_count": 140,
   "id": "7fbcd578",
   "metadata": {},
   "outputs": [
    {
     "data": {
      "text/plain": [
       "[10, 12, 150, 36, 78, 5, 6]"
      ]
     },
     "execution_count": 140,
     "metadata": {},
     "output_type": "execute_result"
    }
   ],
   "source": [
    "p"
   ]
  },
  {
   "cell_type": "code",
   "execution_count": 141,
   "id": "1eb202b7",
   "metadata": {},
   "outputs": [],
   "source": [
    "p.append(263)"
   ]
  },
  {
   "cell_type": "code",
   "execution_count": 142,
   "id": "5b6ac6d0",
   "metadata": {},
   "outputs": [
    {
     "data": {
      "text/plain": [
       "[10, 12, 150, 36, 78, 5, 6, 263]"
      ]
     },
     "execution_count": 142,
     "metadata": {},
     "output_type": "execute_result"
    }
   ],
   "source": [
    "p"
   ]
  },
  {
   "cell_type": "code",
   "execution_count": 143,
   "id": "dde4da0c",
   "metadata": {},
   "outputs": [],
   "source": [
    "p.append(140)"
   ]
  },
  {
   "cell_type": "code",
   "execution_count": 144,
   "id": "24460c9c",
   "metadata": {},
   "outputs": [
    {
     "data": {
      "text/plain": [
       "[10, 12, 150, 36, 78, 5, 6, 263, 140]"
      ]
     },
     "execution_count": 144,
     "metadata": {},
     "output_type": "execute_result"
    }
   ],
   "source": [
    "p"
   ]
  },
  {
   "cell_type": "code",
   "execution_count": 145,
   "id": "be12adf0",
   "metadata": {},
   "outputs": [],
   "source": [
    "p.append('python is fun')"
   ]
  },
  {
   "cell_type": "code",
   "execution_count": 146,
   "id": "0a94c762",
   "metadata": {},
   "outputs": [
    {
     "data": {
      "text/plain": [
       "[10, 12, 150, 36, 78, 5, 6, 263, 140, 'python is fun']"
      ]
     },
     "execution_count": 146,
     "metadata": {},
     "output_type": "execute_result"
    }
   ],
   "source": [
    "p"
   ]
  },
  {
   "cell_type": "code",
   "execution_count": 147,
   "id": "20a5ba07",
   "metadata": {},
   "outputs": [
    {
     "data": {
      "text/plain": [
       "[10, 12, 150, 36, 78, 5, 6, 263, 140, 'python is fun']"
      ]
     },
     "execution_count": 147,
     "metadata": {},
     "output_type": "execute_result"
    }
   ],
   "source": [
    "p"
   ]
  },
  {
   "cell_type": "code",
   "execution_count": 148,
   "id": "056c62d3",
   "metadata": {},
   "outputs": [],
   "source": [
    "p.insert(2,147)"
   ]
  },
  {
   "cell_type": "code",
   "execution_count": 149,
   "id": "4de2a4aa",
   "metadata": {},
   "outputs": [
    {
     "data": {
      "text/plain": [
       "[10, 12, 147, 150, 36, 78, 5, 6, 263, 140, 'python is fun']"
      ]
     },
     "execution_count": 149,
     "metadata": {},
     "output_type": "execute_result"
    }
   ],
   "source": [
    "p"
   ]
  },
  {
   "cell_type": "code",
   "execution_count": 150,
   "id": "eb408265",
   "metadata": {},
   "outputs": [],
   "source": [
    "p.insert(0,78)"
   ]
  },
  {
   "cell_type": "code",
   "execution_count": 151,
   "id": "a914e980",
   "metadata": {},
   "outputs": [
    {
     "data": {
      "text/plain": [
       "[78, 10, 12, 147, 150, 36, 78, 5, 6, 263, 140, 'python is fun']"
      ]
     },
     "execution_count": 151,
     "metadata": {},
     "output_type": "execute_result"
    }
   ],
   "source": [
    "p"
   ]
  },
  {
   "cell_type": "code",
   "execution_count": 152,
   "id": "b1528699",
   "metadata": {},
   "outputs": [
    {
     "data": {
      "text/plain": [
       "'python is fun'"
      ]
     },
     "execution_count": 152,
     "metadata": {},
     "output_type": "execute_result"
    }
   ],
   "source": [
    "p.pop()"
   ]
  },
  {
   "cell_type": "code",
   "execution_count": 153,
   "id": "e7abd2c1",
   "metadata": {},
   "outputs": [
    {
     "data": {
      "text/plain": [
       "[78, 10, 12, 147, 150, 36, 78, 5, 6, 263, 140]"
      ]
     },
     "execution_count": 153,
     "metadata": {},
     "output_type": "execute_result"
    }
   ],
   "source": [
    "p"
   ]
  },
  {
   "cell_type": "code",
   "execution_count": 154,
   "id": "f4a685e9",
   "metadata": {},
   "outputs": [
    {
     "data": {
      "text/plain": [
       "140"
      ]
     },
     "execution_count": 154,
     "metadata": {},
     "output_type": "execute_result"
    }
   ],
   "source": [
    "p.pop()"
   ]
  },
  {
   "cell_type": "code",
   "execution_count": 155,
   "id": "b295c1d2",
   "metadata": {},
   "outputs": [
    {
     "data": {
      "text/plain": [
       "[78, 10, 12, 147, 150, 36, 78, 5, 6, 263]"
      ]
     },
     "execution_count": 155,
     "metadata": {},
     "output_type": "execute_result"
    }
   ],
   "source": [
    "p"
   ]
  },
  {
   "cell_type": "code",
   "execution_count": 156,
   "id": "32450f7d",
   "metadata": {},
   "outputs": [
    {
     "data": {
      "text/plain": [
       "10"
      ]
     },
     "execution_count": 156,
     "metadata": {},
     "output_type": "execute_result"
    }
   ],
   "source": [
    "p.pop(1)"
   ]
  },
  {
   "cell_type": "code",
   "execution_count": 157,
   "id": "c0d59a7a",
   "metadata": {},
   "outputs": [
    {
     "data": {
      "text/plain": [
       "[78, 12, 147, 150, 36, 78, 5, 6, 263]"
      ]
     },
     "execution_count": 157,
     "metadata": {},
     "output_type": "execute_result"
    }
   ],
   "source": [
    "p"
   ]
  },
  {
   "cell_type": "code",
   "execution_count": 158,
   "id": "e3114c30",
   "metadata": {},
   "outputs": [
    {
     "data": {
      "text/plain": [
       "5"
      ]
     },
     "execution_count": 158,
     "metadata": {},
     "output_type": "execute_result"
    }
   ],
   "source": [
    "p.pop(-3)"
   ]
  },
  {
   "cell_type": "code",
   "execution_count": 159,
   "id": "ecc73b09",
   "metadata": {},
   "outputs": [
    {
     "data": {
      "text/plain": [
       "[78, 12, 147, 150, 36, 78, 6, 263]"
      ]
     },
     "execution_count": 159,
     "metadata": {},
     "output_type": "execute_result"
    }
   ],
   "source": [
    "p"
   ]
  },
  {
   "cell_type": "code",
   "execution_count": 160,
   "id": "a8be0c27",
   "metadata": {},
   "outputs": [
    {
     "ename": "ValueError",
     "evalue": "list.remove(x): x not in list",
     "output_type": "error",
     "traceback": [
      "\u001b[1;31m---------------------------------------------------------------------------\u001b[0m",
      "\u001b[1;31mValueError\u001b[0m                                Traceback (most recent call last)",
      "\u001b[1;32m<ipython-input-160-44dfa0700375>\u001b[0m in \u001b[0;36m<module>\u001b[1;34m\u001b[0m\n\u001b[1;32m----> 1\u001b[1;33m \u001b[0mp\u001b[0m\u001b[1;33m.\u001b[0m\u001b[0mremove\u001b[0m\u001b[1;33m(\u001b[0m\u001b[1;36m99\u001b[0m\u001b[1;33m)\u001b[0m\u001b[1;33m\u001b[0m\u001b[1;33m\u001b[0m\u001b[0m\n\u001b[0m",
      "\u001b[1;31mValueError\u001b[0m: list.remove(x): x not in list"
     ]
    }
   ],
   "source": [
    "p.remove(99)"
   ]
  },
  {
   "cell_type": "code",
   "execution_count": 161,
   "id": "eb8e2111",
   "metadata": {},
   "outputs": [],
   "source": [
    "p.remove(12)"
   ]
  },
  {
   "cell_type": "code",
   "execution_count": 162,
   "id": "40a941f3",
   "metadata": {},
   "outputs": [
    {
     "data": {
      "text/plain": [
       "[78, 147, 150, 36, 78, 6, 263]"
      ]
     },
     "execution_count": 162,
     "metadata": {},
     "output_type": "execute_result"
    }
   ],
   "source": [
    "p"
   ]
  },
  {
   "cell_type": "code",
   "execution_count": 163,
   "id": "8f5227ab",
   "metadata": {},
   "outputs": [],
   "source": [
    "p.append(150)"
   ]
  },
  {
   "cell_type": "code",
   "execution_count": 164,
   "id": "dc473464",
   "metadata": {},
   "outputs": [
    {
     "data": {
      "text/plain": [
       "[78, 147, 150, 36, 78, 6, 263, 150]"
      ]
     },
     "execution_count": 164,
     "metadata": {},
     "output_type": "execute_result"
    }
   ],
   "source": [
    "p"
   ]
  },
  {
   "cell_type": "code",
   "execution_count": 165,
   "id": "4b1c94d3",
   "metadata": {},
   "outputs": [],
   "source": [
    "p.remove(150)"
   ]
  },
  {
   "cell_type": "code",
   "execution_count": 166,
   "id": "8b1395dd",
   "metadata": {},
   "outputs": [
    {
     "data": {
      "text/plain": [
       "[78, 147, 36, 78, 6, 263, 150]"
      ]
     },
     "execution_count": 166,
     "metadata": {},
     "output_type": "execute_result"
    }
   ],
   "source": [
    "p"
   ]
  },
  {
   "cell_type": "code",
   "execution_count": 167,
   "id": "1bea0d7c",
   "metadata": {},
   "outputs": [
    {
     "data": {
      "text/plain": [
       "[78, 147, 36, 78, 6, 263, 150]"
      ]
     },
     "execution_count": 167,
     "metadata": {},
     "output_type": "execute_result"
    }
   ],
   "source": [
    "p"
   ]
  },
  {
   "cell_type": "code",
   "execution_count": 168,
   "id": "398b86ca",
   "metadata": {},
   "outputs": [],
   "source": [
    "p.reverse()"
   ]
  },
  {
   "cell_type": "code",
   "execution_count": 169,
   "id": "82499e03",
   "metadata": {},
   "outputs": [
    {
     "data": {
      "text/plain": [
       "[150, 263, 6, 78, 36, 147, 78]"
      ]
     },
     "execution_count": 169,
     "metadata": {},
     "output_type": "execute_result"
    }
   ],
   "source": [
    "p"
   ]
  },
  {
   "cell_type": "code",
   "execution_count": 170,
   "id": "b8ee90ee",
   "metadata": {},
   "outputs": [],
   "source": [
    "p.sort()"
   ]
  },
  {
   "cell_type": "code",
   "execution_count": 171,
   "id": "a011d8cf",
   "metadata": {},
   "outputs": [
    {
     "data": {
      "text/plain": [
       "[6, 36, 78, 78, 147, 150, 263]"
      ]
     },
     "execution_count": 171,
     "metadata": {},
     "output_type": "execute_result"
    }
   ],
   "source": [
    "p"
   ]
  },
  {
   "cell_type": "code",
   "execution_count": 172,
   "id": "84e75cda",
   "metadata": {},
   "outputs": [],
   "source": [
    "p.sort(reverse=True)"
   ]
  },
  {
   "cell_type": "code",
   "execution_count": 173,
   "id": "7b25e44d",
   "metadata": {},
   "outputs": [
    {
     "data": {
      "text/plain": [
       "[263, 150, 147, 78, 78, 36, 6]"
      ]
     },
     "execution_count": 173,
     "metadata": {},
     "output_type": "execute_result"
    }
   ],
   "source": [
    "p"
   ]
  },
  {
   "cell_type": "code",
   "execution_count": 174,
   "id": "2c2ea237",
   "metadata": {},
   "outputs": [
    {
     "data": {
      "text/plain": [
       "[263, 150, 147, 78, 78, 36, 6]"
      ]
     },
     "execution_count": 174,
     "metadata": {},
     "output_type": "execute_result"
    }
   ],
   "source": [
    "p"
   ]
  },
  {
   "cell_type": "code",
   "execution_count": 175,
   "id": "aa1d5dbc",
   "metadata": {},
   "outputs": [],
   "source": [
    "#membership Operatoer"
   ]
  },
  {
   "cell_type": "code",
   "execution_count": 176,
   "id": "8af1d0bc",
   "metadata": {},
   "outputs": [
    {
     "data": {
      "text/plain": [
       "[263, 150, 147, 78, 78, 36, 6]"
      ]
     },
     "execution_count": 176,
     "metadata": {},
     "output_type": "execute_result"
    }
   ],
   "source": [
    "p"
   ]
  },
  {
   "cell_type": "code",
   "execution_count": 177,
   "id": "380c6658",
   "metadata": {},
   "outputs": [
    {
     "data": {
      "text/plain": [
       "True"
      ]
     },
     "execution_count": 177,
     "metadata": {},
     "output_type": "execute_result"
    }
   ],
   "source": [
    "150 in p"
   ]
  },
  {
   "cell_type": "code",
   "execution_count": 178,
   "id": "b36dcbf8",
   "metadata": {},
   "outputs": [
    {
     "data": {
      "text/plain": [
       "True"
      ]
     },
     "execution_count": 178,
     "metadata": {},
     "output_type": "execute_result"
    }
   ],
   "source": [
    "99 not in p"
   ]
  },
  {
   "cell_type": "code",
   "execution_count": 179,
   "id": "42aa1e1c",
   "metadata": {},
   "outputs": [
    {
     "data": {
      "text/plain": [
       "False"
      ]
     },
     "execution_count": 179,
     "metadata": {},
     "output_type": "execute_result"
    }
   ],
   "source": [
    "89 in p"
   ]
  },
  {
   "cell_type": "code",
   "execution_count": 180,
   "id": "4a937760",
   "metadata": {},
   "outputs": [],
   "source": [
    "# Append vs Extend"
   ]
  },
  {
   "cell_type": "code",
   "execution_count": 181,
   "id": "efd43f92",
   "metadata": {},
   "outputs": [
    {
     "data": {
      "text/plain": [
       "[263, 150, 147, 78, 78, 36, 6]"
      ]
     },
     "execution_count": 181,
     "metadata": {},
     "output_type": "execute_result"
    }
   ],
   "source": [
    "p"
   ]
  },
  {
   "cell_type": "code",
   "execution_count": 182,
   "id": "ae8ac3ce",
   "metadata": {},
   "outputs": [],
   "source": [
    "p.append(45)"
   ]
  },
  {
   "cell_type": "code",
   "execution_count": 183,
   "id": "bca23ced",
   "metadata": {},
   "outputs": [
    {
     "data": {
      "text/plain": [
       "[263, 150, 147, 78, 78, 36, 6, 45]"
      ]
     },
     "execution_count": 183,
     "metadata": {},
     "output_type": "execute_result"
    }
   ],
   "source": [
    "p"
   ]
  },
  {
   "cell_type": "code",
   "execution_count": 184,
   "id": "5ba0e8b5",
   "metadata": {},
   "outputs": [],
   "source": [
    "p.append(14)"
   ]
  },
  {
   "cell_type": "code",
   "execution_count": 185,
   "id": "d8ed578e",
   "metadata": {},
   "outputs": [
    {
     "data": {
      "text/plain": [
       "[263, 150, 147, 78, 78, 36, 6, 45, 14]"
      ]
     },
     "execution_count": 185,
     "metadata": {},
     "output_type": "execute_result"
    }
   ],
   "source": [
    "p"
   ]
  },
  {
   "cell_type": "code",
   "execution_count": 186,
   "id": "8737a727",
   "metadata": {},
   "outputs": [
    {
     "ename": "TypeError",
     "evalue": "'int' object is not iterable",
     "output_type": "error",
     "traceback": [
      "\u001b[1;31m---------------------------------------------------------------------------\u001b[0m",
      "\u001b[1;31mTypeError\u001b[0m                                 Traceback (most recent call last)",
      "\u001b[1;32m<ipython-input-186-4d33d6519bb2>\u001b[0m in \u001b[0;36m<module>\u001b[1;34m\u001b[0m\n\u001b[1;32m----> 1\u001b[1;33m \u001b[0mp\u001b[0m\u001b[1;33m.\u001b[0m\u001b[0mextend\u001b[0m\u001b[1;33m(\u001b[0m\u001b[1;36m36\u001b[0m\u001b[1;33m)\u001b[0m\u001b[1;33m\u001b[0m\u001b[1;33m\u001b[0m\u001b[0m\n\u001b[0m",
      "\u001b[1;31mTypeError\u001b[0m: 'int' object is not iterable"
     ]
    }
   ],
   "source": [
    "p.extend(36)"
   ]
  },
  {
   "cell_type": "code",
   "execution_count": 187,
   "id": "3ca743ae",
   "metadata": {},
   "outputs": [],
   "source": [
    "p.extend([4,5,6])"
   ]
  },
  {
   "cell_type": "code",
   "execution_count": 188,
   "id": "4c5410ef",
   "metadata": {},
   "outputs": [
    {
     "data": {
      "text/plain": [
       "[263, 150, 147, 78, 78, 36, 6, 45, 14, 4, 5, 6]"
      ]
     },
     "execution_count": 188,
     "metadata": {},
     "output_type": "execute_result"
    }
   ],
   "source": [
    "p"
   ]
  },
  {
   "cell_type": "code",
   "execution_count": 189,
   "id": "d98b5568",
   "metadata": {},
   "outputs": [],
   "source": [
    "p.append([7,8,9])"
   ]
  },
  {
   "cell_type": "code",
   "execution_count": 190,
   "id": "82e12cee",
   "metadata": {},
   "outputs": [
    {
     "data": {
      "text/plain": [
       "[263, 150, 147, 78, 78, 36, 6, 45, 14, 4, 5, 6, [7, 8, 9]]"
      ]
     },
     "execution_count": 190,
     "metadata": {},
     "output_type": "execute_result"
    }
   ],
   "source": [
    "p"
   ]
  },
  {
   "cell_type": "code",
   "execution_count": 191,
   "id": "f5e3725d",
   "metadata": {},
   "outputs": [],
   "source": [
    "p.extend([10,20,30])"
   ]
  },
  {
   "cell_type": "code",
   "execution_count": 192,
   "id": "17cafb17",
   "metadata": {},
   "outputs": [
    {
     "data": {
      "text/plain": [
       "[263, 150, 147, 78, 78, 36, 6, 45, 14, 4, 5, 6, [7, 8, 9], 10, 20, 30]"
      ]
     },
     "execution_count": 192,
     "metadata": {},
     "output_type": "execute_result"
    }
   ],
   "source": [
    "p"
   ]
  },
  {
   "cell_type": "code",
   "execution_count": 193,
   "id": "c5b808c5",
   "metadata": {},
   "outputs": [
    {
     "data": {
      "text/plain": [
       "[263,\n",
       " 150,\n",
       " 147,\n",
       " 78,\n",
       " 78,\n",
       " 36,\n",
       " 6,\n",
       " 45,\n",
       " 14,\n",
       " 4,\n",
       " 5,\n",
       " 6,\n",
       " [7, 8, 9],\n",
       " 10,\n",
       " 20,\n",
       " 30,\n",
       " 14,\n",
       " 15,\n",
       " 16]"
      ]
     },
     "execution_count": 193,
     "metadata": {},
     "output_type": "execute_result"
    }
   ],
   "source": [
    "p+[14,15,16]"
   ]
  },
  {
   "cell_type": "code",
   "execution_count": 194,
   "id": "836eb778",
   "metadata": {},
   "outputs": [
    {
     "data": {
      "text/plain": [
       "[263, 150, 147, 78, 78, 36, 6, 45, 14, 4, 5, 6, [7, 8, 9], 10, 20, 30]"
      ]
     },
     "execution_count": 194,
     "metadata": {},
     "output_type": "execute_result"
    }
   ],
   "source": [
    "p"
   ]
  },
  {
   "cell_type": "code",
   "execution_count": 196,
   "id": "b3bda5b1",
   "metadata": {},
   "outputs": [
    {
     "data": {
      "text/plain": [
       "[10,\n",
       " 12,\n",
       " 2.3,\n",
       " 5.9,\n",
       " True,\n",
       " False,\n",
       " (5+7j),\n",
       " 'python',\n",
       " 'data',\n",
       " [14, 15, 19],\n",
       " (7, 8, 9),\n",
       " {'A': 1, 'B': 2, 'C': 3}]"
      ]
     },
     "execution_count": 196,
     "metadata": {},
     "output_type": "execute_result"
    }
   ],
   "source": [
    "j"
   ]
  },
  {
   "cell_type": "code",
   "execution_count": 197,
   "id": "c22b147b",
   "metadata": {},
   "outputs": [
    {
     "data": {
      "text/plain": [
       "list"
      ]
     },
     "execution_count": 197,
     "metadata": {},
     "output_type": "execute_result"
    }
   ],
   "source": [
    "type(j)"
   ]
  },
  {
   "cell_type": "code",
   "execution_count": 198,
   "id": "95f47561",
   "metadata": {},
   "outputs": [
    {
     "data": {
      "text/plain": [
       "12"
      ]
     },
     "execution_count": 198,
     "metadata": {},
     "output_type": "execute_result"
    }
   ],
   "source": [
    "len(j)"
   ]
  },
  {
   "cell_type": "code",
   "execution_count": 199,
   "id": "32fbf55e",
   "metadata": {},
   "outputs": [
    {
     "ename": "TypeError",
     "evalue": "'<' not supported between instances of 'complex' and 'float'",
     "output_type": "error",
     "traceback": [
      "\u001b[1;31m---------------------------------------------------------------------------\u001b[0m",
      "\u001b[1;31mTypeError\u001b[0m                                 Traceback (most recent call last)",
      "\u001b[1;32m<ipython-input-199-3c9fd6e3fbf0>\u001b[0m in \u001b[0;36m<module>\u001b[1;34m\u001b[0m\n\u001b[1;32m----> 1\u001b[1;33m \u001b[0mj\u001b[0m\u001b[1;33m.\u001b[0m\u001b[0msort\u001b[0m\u001b[1;33m(\u001b[0m\u001b[1;33m)\u001b[0m\u001b[1;33m\u001b[0m\u001b[1;33m\u001b[0m\u001b[0m\n\u001b[0m",
      "\u001b[1;31mTypeError\u001b[0m: '<' not supported between instances of 'complex' and 'float'"
     ]
    }
   ],
   "source": [
    "j.sort()"
   ]
  },
  {
   "cell_type": "code",
   "execution_count": 200,
   "id": "93b590d7",
   "metadata": {},
   "outputs": [
    {
     "data": {
      "text/plain": [
       "[{'A': 1, 'B': 2, 'C': 3},\n",
       " (7, 8, 9),\n",
       " [14, 15, 19],\n",
       " 'data',\n",
       " 'python',\n",
       " (5+7j),\n",
       " 12,\n",
       " 10,\n",
       " 5.9,\n",
       " 2.3,\n",
       " True,\n",
       " False]"
      ]
     },
     "execution_count": 200,
     "metadata": {},
     "output_type": "execute_result"
    }
   ],
   "source": [
    "j[::-1]"
   ]
  },
  {
   "cell_type": "code",
   "execution_count": 201,
   "id": "9de8c69f",
   "metadata": {},
   "outputs": [
    {
     "data": {
      "text/plain": [
       "[False,\n",
       " True,\n",
       " 2.3,\n",
       " 5.9,\n",
       " 10,\n",
       " 12,\n",
       " (5+7j),\n",
       " 'python',\n",
       " 'data',\n",
       " [14, 15, 19],\n",
       " (7, 8, 9),\n",
       " {'A': 1, 'B': 2, 'C': 3}]"
      ]
     },
     "execution_count": 201,
     "metadata": {},
     "output_type": "execute_result"
    }
   ],
   "source": [
    "j"
   ]
  },
  {
   "cell_type": "code",
   "execution_count": 202,
   "id": "b8ee4df8",
   "metadata": {},
   "outputs": [],
   "source": [
    "j.reverse()"
   ]
  },
  {
   "cell_type": "code",
   "execution_count": 203,
   "id": "0fb81579",
   "metadata": {},
   "outputs": [
    {
     "data": {
      "text/plain": [
       "[{'A': 1, 'B': 2, 'C': 3},\n",
       " (7, 8, 9),\n",
       " [14, 15, 19],\n",
       " 'data',\n",
       " 'python',\n",
       " (5+7j),\n",
       " 12,\n",
       " 10,\n",
       " 5.9,\n",
       " 2.3,\n",
       " True,\n",
       " False]"
      ]
     },
     "execution_count": 203,
     "metadata": {},
     "output_type": "execute_result"
    }
   ],
   "source": [
    "j"
   ]
  },
  {
   "cell_type": "code",
   "execution_count": 204,
   "id": "9e4ede35",
   "metadata": {},
   "outputs": [
    {
     "data": {
      "text/plain": [
       "[263, 150, 147, 78, 78, 36, 6, 45, 14, 4, 5, 6, [7, 8, 9], 10, 20, 30]"
      ]
     },
     "execution_count": 204,
     "metadata": {},
     "output_type": "execute_result"
    }
   ],
   "source": [
    "p"
   ]
  },
  {
   "cell_type": "code",
   "execution_count": 205,
   "id": "f413771d",
   "metadata": {},
   "outputs": [
    {
     "name": "stdout",
     "output_type": "stream",
     "text": [
      "263\n",
      "150\n",
      "147\n",
      "78\n",
      "78\n",
      "36\n",
      "6\n",
      "45\n",
      "14\n",
      "4\n",
      "5\n",
      "6\n",
      "[7, 8, 9]\n",
      "10\n",
      "20\n",
      "30\n"
     ]
    }
   ],
   "source": [
    "for i in p:\n",
    "    print(i)"
   ]
  },
  {
   "cell_type": "code",
   "execution_count": 208,
   "id": "af4de92d",
   "metadata": {},
   "outputs": [],
   "source": [
    "k = list(range(1,11))"
   ]
  },
  {
   "cell_type": "code",
   "execution_count": 209,
   "id": "cc8b35f0",
   "metadata": {},
   "outputs": [
    {
     "data": {
      "text/plain": [
       "[1, 2, 3, 4, 5, 6, 7, 8, 9, 10]"
      ]
     },
     "execution_count": 209,
     "metadata": {},
     "output_type": "execute_result"
    }
   ],
   "source": [
    "k"
   ]
  },
  {
   "cell_type": "code",
   "execution_count": 210,
   "id": "c7741343",
   "metadata": {},
   "outputs": [],
   "source": [
    "z = []\n",
    "for i in range(1,11):\n",
    "    z.append(i)"
   ]
  },
  {
   "cell_type": "code",
   "execution_count": 211,
   "id": "1d0c5873",
   "metadata": {},
   "outputs": [
    {
     "data": {
      "text/plain": [
       "[1, 2, 3, 4, 5, 6, 7, 8, 9, 10]"
      ]
     },
     "execution_count": 211,
     "metadata": {},
     "output_type": "execute_result"
    }
   ],
   "source": [
    "z"
   ]
  },
  {
   "cell_type": "code",
   "execution_count": 212,
   "id": "b2d3dd7d",
   "metadata": {},
   "outputs": [],
   "source": [
    "x = []\n",
    "for i in range(1,21):\n",
    "    if i%2==0:\n",
    "        x.append(i)"
   ]
  },
  {
   "cell_type": "code",
   "execution_count": 213,
   "id": "b8b936c4",
   "metadata": {},
   "outputs": [
    {
     "data": {
      "text/plain": [
       "[2, 4, 6, 8, 10, 12, 14, 16, 18, 20]"
      ]
     },
     "execution_count": 213,
     "metadata": {},
     "output_type": "execute_result"
    }
   ],
   "source": [
    "x"
   ]
  },
  {
   "cell_type": "code",
   "execution_count": 214,
   "id": "1081578a",
   "metadata": {},
   "outputs": [
    {
     "data": {
      "text/plain": [
       "[1, 2, 3, 4, 5, 6, 7, 8, 9, 10, 11, 12, 13, 14, 15, 16, 17, 18, 19, 20]"
      ]
     },
     "execution_count": 214,
     "metadata": {},
     "output_type": "execute_result"
    }
   ],
   "source": [
    "[i for i in range(1,21)]"
   ]
  },
  {
   "cell_type": "code",
   "execution_count": 215,
   "id": "15112d1e",
   "metadata": {},
   "outputs": [
    {
     "data": {
      "text/plain": [
       "[2, 4, 6, 8, 10, 12, 14, 16, 18, 20]"
      ]
     },
     "execution_count": 215,
     "metadata": {},
     "output_type": "execute_result"
    }
   ],
   "source": [
    "[i for i in range(1,21) if i%2==0]"
   ]
  },
  {
   "cell_type": "code",
   "execution_count": 216,
   "id": "eed0cd21",
   "metadata": {},
   "outputs": [],
   "source": [
    "x = []\n",
    "for i in range(1,21):\n",
    "    if i%2==0:\n",
    "        x.append(i**2)\n",
    "    else:\n",
    "        x.append(i**3)"
   ]
  },
  {
   "cell_type": "code",
   "execution_count": 217,
   "id": "b8e951af",
   "metadata": {},
   "outputs": [
    {
     "data": {
      "text/plain": [
       "[1,\n",
       " 4,\n",
       " 27,\n",
       " 16,\n",
       " 125,\n",
       " 36,\n",
       " 343,\n",
       " 64,\n",
       " 729,\n",
       " 100,\n",
       " 1331,\n",
       " 144,\n",
       " 2197,\n",
       " 196,\n",
       " 3375,\n",
       " 256,\n",
       " 4913,\n",
       " 324,\n",
       " 6859,\n",
       " 400]"
      ]
     },
     "execution_count": 217,
     "metadata": {},
     "output_type": "execute_result"
    }
   ],
   "source": [
    "x"
   ]
  },
  {
   "cell_type": "code",
   "execution_count": 218,
   "id": "52646c83",
   "metadata": {},
   "outputs": [
    {
     "data": {
      "text/plain": [
       "[1,\n",
       " 4,\n",
       " 27,\n",
       " 16,\n",
       " 125,\n",
       " 36,\n",
       " 343,\n",
       " 64,\n",
       " 729,\n",
       " 100,\n",
       " 1331,\n",
       " 144,\n",
       " 2197,\n",
       " 196,\n",
       " 3375,\n",
       " 256,\n",
       " 4913,\n",
       " 324,\n",
       " 6859,\n",
       " 400]"
      ]
     },
     "execution_count": 218,
     "metadata": {},
     "output_type": "execute_result"
    }
   ],
   "source": [
    "[i**2 if i%2==0 else i**3 for i in range(1,21)]"
   ]
  },
  {
   "cell_type": "code",
   "execution_count": 219,
   "id": "4535aa69",
   "metadata": {},
   "outputs": [],
   "source": [
    "# Multidimentional list"
   ]
  },
  {
   "cell_type": "code",
   "execution_count": 220,
   "id": "617df38d",
   "metadata": {},
   "outputs": [],
   "source": [
    "h = [[1,2,3], [4,5,6], [7,8,9]]"
   ]
  },
  {
   "cell_type": "code",
   "execution_count": 221,
   "id": "2171be6a",
   "metadata": {},
   "outputs": [
    {
     "data": {
      "text/plain": [
       "[[1, 2, 3], [4, 5, 6], [7, 8, 9]]"
      ]
     },
     "execution_count": 221,
     "metadata": {},
     "output_type": "execute_result"
    }
   ],
   "source": [
    "h"
   ]
  },
  {
   "cell_type": "code",
   "execution_count": 223,
   "id": "42d1ff21",
   "metadata": {},
   "outputs": [
    {
     "data": {
      "text/plain": [
       "5"
      ]
     },
     "execution_count": 223,
     "metadata": {},
     "output_type": "execute_result"
    }
   ],
   "source": [
    "h[1][1]"
   ]
  },
  {
   "cell_type": "code",
   "execution_count": 226,
   "id": "e6f41b5c",
   "metadata": {},
   "outputs": [
    {
     "data": {
      "text/plain": [
       "5"
      ]
     },
     "execution_count": 226,
     "metadata": {},
     "output_type": "execute_result"
    }
   ],
   "source": [
    "h[-2][-2]"
   ]
  },
  {
   "cell_type": "code",
   "execution_count": 243,
   "id": "d15fa201",
   "metadata": {},
   "outputs": [],
   "source": [
    "z = [[[[[[[[[[5,9,7,6,4,3,2]]]]]]]]]]"
   ]
  },
  {
   "cell_type": "code",
   "execution_count": 238,
   "id": "abc1ad76",
   "metadata": {},
   "outputs": [
    {
     "data": {
      "text/plain": [
       "6"
      ]
     },
     "execution_count": 238,
     "metadata": {},
     "output_type": "execute_result"
    }
   ],
   "source": [
    "d[0][0][0][0][0][0][0][0][0][-4]"
   ]
  },
  {
   "cell_type": "code",
   "execution_count": 245,
   "id": "2d4289f4",
   "metadata": {},
   "outputs": [],
   "source": [
    "v = []\n",
    "for a in z:\n",
    "    for b in a:\n",
    "        for c in b:\n",
    "            for d in c:\n",
    "                for e in d:\n",
    "                    for f in e:\n",
    "                        for g in f:\n",
    "                            for h in g:\n",
    "                                for i in h:\n",
    "                                    for j in i:\n",
    "                                        v.append(j**2)"
   ]
  },
  {
   "cell_type": "code",
   "execution_count": 246,
   "id": "62de39a0",
   "metadata": {},
   "outputs": [
    {
     "data": {
      "text/plain": [
       "[25, 81, 49, 36, 16, 9, 4]"
      ]
     },
     "execution_count": 246,
     "metadata": {},
     "output_type": "execute_result"
    }
   ],
   "source": [
    "v"
   ]
  },
  {
   "cell_type": "code",
   "execution_count": 247,
   "id": "aaa8984b",
   "metadata": {},
   "outputs": [],
   "source": [
    "a = [[1,2],[3,4]]"
   ]
  },
  {
   "cell_type": "code",
   "execution_count": 248,
   "id": "c9e418ac",
   "metadata": {},
   "outputs": [],
   "source": [
    "b = [[5,6],[7,8]]"
   ]
  },
  {
   "cell_type": "code",
   "execution_count": 249,
   "id": "8a819440",
   "metadata": {},
   "outputs": [
    {
     "data": {
      "text/plain": [
       "[[1, 2], [3, 4]]"
      ]
     },
     "execution_count": 249,
     "metadata": {},
     "output_type": "execute_result"
    }
   ],
   "source": [
    "a"
   ]
  },
  {
   "cell_type": "code",
   "execution_count": 250,
   "id": "64a4fc43",
   "metadata": {},
   "outputs": [
    {
     "data": {
      "text/plain": [
       "[[5, 6], [7, 8]]"
      ]
     },
     "execution_count": 250,
     "metadata": {},
     "output_type": "execute_result"
    }
   ],
   "source": [
    "b"
   ]
  },
  {
   "cell_type": "code",
   "execution_count": 252,
   "id": "668926f3",
   "metadata": {},
   "outputs": [],
   "source": [
    "c = [[None, None], [None, None]]"
   ]
  },
  {
   "cell_type": "code",
   "execution_count": 253,
   "id": "5833bab6",
   "metadata": {},
   "outputs": [],
   "source": [
    "for i in range(2):\n",
    "    for j in range(2):\n",
    "        c[i][j] = a[i][j] + b[i][j]"
   ]
  },
  {
   "cell_type": "code",
   "execution_count": 254,
   "id": "10b2641b",
   "metadata": {},
   "outputs": [
    {
     "data": {
      "text/plain": [
       "[[6, 8], [10, 12]]"
      ]
     },
     "execution_count": 254,
     "metadata": {},
     "output_type": "execute_result"
    }
   ],
   "source": [
    "c"
   ]
  },
  {
   "cell_type": "code",
   "execution_count": 256,
   "id": "44942131",
   "metadata": {},
   "outputs": [
    {
     "data": {
      "text/plain": [
       "[[None, None, None, None, None, None, None, None, None, None],\n",
       " [None, None, None, None, None, None, None, None, None, None],\n",
       " [None, None, None, None, None, None, None, None, None, None],\n",
       " [None, None, None, None, None, None, None, None, None, None],\n",
       " [None, None, None, None, None, None, None, None, None, None],\n",
       " [None, None, None, None, None, None, None, None, None, None],\n",
       " [None, None, None, None, None, None, None, None, None, None],\n",
       " [None, None, None, None, None, None, None, None, None, None],\n",
       " [None, None, None, None, None, None, None, None, None, None],\n",
       " [None, None, None, None, None, None, None, None, None, None]]"
      ]
     },
     "execution_count": 256,
     "metadata": {},
     "output_type": "execute_result"
    }
   ],
   "source": [
    "[[None]*10]*10"
   ]
  },
  {
   "cell_type": "code",
   "execution_count": 257,
   "id": "07bcf13e",
   "metadata": {},
   "outputs": [
    {
     "data": {
      "text/plain": [
       "[5, 5, 5, 5, 5, 5]"
      ]
     },
     "execution_count": 257,
     "metadata": {},
     "output_type": "execute_result"
    }
   ],
   "source": [
    "[5]*6"
   ]
  },
  {
   "cell_type": "code",
   "execution_count": 258,
   "id": "76837074",
   "metadata": {},
   "outputs": [],
   "source": [
    "# List having Multiple references"
   ]
  },
  {
   "cell_type": "code",
   "execution_count": 259,
   "id": "f60a8164",
   "metadata": {},
   "outputs": [],
   "source": [
    "# deep Copy or shallow Copy"
   ]
  },
  {
   "cell_type": "code",
   "execution_count": 260,
   "id": "648c709a",
   "metadata": {},
   "outputs": [],
   "source": [
    "lst = [1,2,3,4,5]"
   ]
  },
  {
   "cell_type": "code",
   "execution_count": 261,
   "id": "7f68ba28",
   "metadata": {},
   "outputs": [],
   "source": [
    "abc = lst"
   ]
  },
  {
   "cell_type": "code",
   "execution_count": 262,
   "id": "c67b3c13",
   "metadata": {},
   "outputs": [],
   "source": [
    "abc.append(150)"
   ]
  },
  {
   "cell_type": "code",
   "execution_count": 263,
   "id": "d170679f",
   "metadata": {},
   "outputs": [
    {
     "data": {
      "text/plain": [
       "[1, 2, 3, 4, 5, 150]"
      ]
     },
     "execution_count": 263,
     "metadata": {},
     "output_type": "execute_result"
    }
   ],
   "source": [
    "abc"
   ]
  },
  {
   "cell_type": "code",
   "execution_count": 264,
   "id": "37be91f8",
   "metadata": {},
   "outputs": [
    {
     "data": {
      "text/plain": [
       "[1, 2, 3, 4, 5, 150]"
      ]
     },
     "execution_count": 264,
     "metadata": {},
     "output_type": "execute_result"
    }
   ],
   "source": [
    "lst"
   ]
  },
  {
   "cell_type": "code",
   "execution_count": 265,
   "id": "114eb1a5",
   "metadata": {},
   "outputs": [],
   "source": [
    "pqr = lst.copy()"
   ]
  },
  {
   "cell_type": "code",
   "execution_count": 266,
   "id": "aaa0ace2",
   "metadata": {},
   "outputs": [],
   "source": [
    "pqr.append('data')"
   ]
  },
  {
   "cell_type": "code",
   "execution_count": 267,
   "id": "dbeeb54f",
   "metadata": {},
   "outputs": [
    {
     "data": {
      "text/plain": [
       "[1, 2, 3, 4, 5, 150, 'data']"
      ]
     },
     "execution_count": 267,
     "metadata": {},
     "output_type": "execute_result"
    }
   ],
   "source": [
    "pqr"
   ]
  },
  {
   "cell_type": "code",
   "execution_count": 268,
   "id": "bb44a97b",
   "metadata": {},
   "outputs": [
    {
     "data": {
      "text/plain": [
       "[1, 2, 3, 4, 5, 150]"
      ]
     },
     "execution_count": 268,
     "metadata": {},
     "output_type": "execute_result"
    }
   ],
   "source": [
    "lst"
   ]
  },
  {
   "cell_type": "code",
   "execution_count": 269,
   "id": "d4878ccf",
   "metadata": {},
   "outputs": [],
   "source": [
    "# rotaion question"
   ]
  },
  {
   "cell_type": "code",
   "execution_count": 270,
   "id": "22bbea85",
   "metadata": {},
   "outputs": [],
   "source": [
    "lst = [1,2,3,4,5,6]\n",
    "steps = int(input('Enter rotetion Steps :'))"
   ]
  },
  {
   "cell_type": "code",
   "execution_count": 271,
   "id": "5a424475",
   "metadata": {},
   "outputs": [
    {
     "name": "stdout",
     "output_type": "stream",
     "text": [
      "Enter rotetion Steps :3\n"
     ]
    }
   ],
   "source": [
    "steps = int(input('Enter rotetion Steps :'))"
   ]
  },
  {
   "cell_type": "code",
   "execution_count": 285,
   "id": "4fbe3652",
   "metadata": {},
   "outputs": [
    {
     "name": "stdout",
     "output_type": "stream",
     "text": [
      "Enter rotetion Steps :5\n"
     ]
    }
   ],
   "source": [
    "lst = [1,2,3,4,5,6]\n",
    "steps = int(input('Enter rotetion Steps :'))\n",
    "\n",
    "for _ in range(steps):\n",
    "    k = lst[-1]\n",
    "    \n",
    "    for i in range(len(lst)-1,0,-1):\n",
    "        lst[i]=lst[i-1]\n",
    "        \n",
    "    lst[0] = k"
   ]
  },
  {
   "cell_type": "code",
   "execution_count": 286,
   "id": "ff675f1d",
   "metadata": {},
   "outputs": [
    {
     "data": {
      "text/plain": [
       "[2, 3, 4, 5, 6, 1]"
      ]
     },
     "execution_count": 286,
     "metadata": {},
     "output_type": "execute_result"
    }
   ],
   "source": [
    "lst"
   ]
  },
  {
   "cell_type": "code",
   "execution_count": 287,
   "id": "dfc47cd9",
   "metadata": {},
   "outputs": [],
   "source": [
    "#Tuples"
   ]
  },
  {
   "cell_type": "code",
   "execution_count": 288,
   "id": "e8af54ec",
   "metadata": {},
   "outputs": [],
   "source": [
    "j = ()"
   ]
  },
  {
   "cell_type": "code",
   "execution_count": 289,
   "id": "7a89673f",
   "metadata": {},
   "outputs": [
    {
     "data": {
      "text/plain": [
       "tuple"
      ]
     },
     "execution_count": 289,
     "metadata": {},
     "output_type": "execute_result"
    }
   ],
   "source": [
    "type(j)"
   ]
  },
  {
   "cell_type": "code",
   "execution_count": 290,
   "id": "4fb4eca5",
   "metadata": {},
   "outputs": [],
   "source": [
    "a = tuple()"
   ]
  },
  {
   "cell_type": "code",
   "execution_count": 291,
   "id": "63af1744",
   "metadata": {},
   "outputs": [
    {
     "data": {
      "text/plain": [
       "tuple"
      ]
     },
     "execution_count": 291,
     "metadata": {},
     "output_type": "execute_result"
    }
   ],
   "source": [
    "type(a)"
   ]
  },
  {
   "cell_type": "code",
   "execution_count": 292,
   "id": "a383cbe4",
   "metadata": {},
   "outputs": [],
   "source": [
    "e = (7,8,9,10,12,15,16,14,17)"
   ]
  },
  {
   "cell_type": "code",
   "execution_count": 293,
   "id": "3a456ea7",
   "metadata": {},
   "outputs": [
    {
     "data": {
      "text/plain": [
       "tuple"
      ]
     },
     "execution_count": 293,
     "metadata": {},
     "output_type": "execute_result"
    }
   ],
   "source": [
    "type(e)"
   ]
  },
  {
   "cell_type": "code",
   "execution_count": 294,
   "id": "a4496e3e",
   "metadata": {},
   "outputs": [],
   "source": [
    "c  =(1,4,7,2.6,5.4,\"data\", 'python', 8+0j, (14,17,15), [7,8,9], {'A':1, \"B\":2})"
   ]
  },
  {
   "cell_type": "code",
   "execution_count": 295,
   "id": "fa1fc6ef",
   "metadata": {},
   "outputs": [
    {
     "data": {
      "text/plain": [
       "tuple"
      ]
     },
     "execution_count": 295,
     "metadata": {},
     "output_type": "execute_result"
    }
   ],
   "source": [
    "type(c)"
   ]
  },
  {
   "cell_type": "code",
   "execution_count": 296,
   "id": "ade4d987",
   "metadata": {},
   "outputs": [],
   "source": [
    "p = (45)"
   ]
  },
  {
   "cell_type": "code",
   "execution_count": 297,
   "id": "099b78b8",
   "metadata": {},
   "outputs": [
    {
     "data": {
      "text/plain": [
       "int"
      ]
     },
     "execution_count": 297,
     "metadata": {},
     "output_type": "execute_result"
    }
   ],
   "source": [
    "type(p)"
   ]
  },
  {
   "cell_type": "code",
   "execution_count": 298,
   "id": "c79cb915",
   "metadata": {},
   "outputs": [],
   "source": [
    "a = (78,)"
   ]
  },
  {
   "cell_type": "code",
   "execution_count": 299,
   "id": "96f2ca52",
   "metadata": {},
   "outputs": [
    {
     "data": {
      "text/plain": [
       "tuple"
      ]
     },
     "execution_count": 299,
     "metadata": {},
     "output_type": "execute_result"
    }
   ],
   "source": [
    "type(a)"
   ]
  },
  {
   "cell_type": "code",
   "execution_count": 302,
   "id": "4657aaba",
   "metadata": {},
   "outputs": [],
   "source": [
    "w  =\"tom\","
   ]
  },
  {
   "cell_type": "code",
   "execution_count": 303,
   "id": "56ed55b3",
   "metadata": {},
   "outputs": [
    {
     "data": {
      "text/plain": [
       "tuple"
      ]
     },
     "execution_count": 303,
     "metadata": {},
     "output_type": "execute_result"
    }
   ],
   "source": [
    "type(w)"
   ]
  },
  {
   "cell_type": "code",
   "execution_count": 304,
   "id": "e6a6ce9f",
   "metadata": {},
   "outputs": [],
   "source": [
    "u = 12,15,17,'network',2.6,9+4j,(4,9,1)"
   ]
  },
  {
   "cell_type": "code",
   "execution_count": 305,
   "id": "90f72e39",
   "metadata": {},
   "outputs": [
    {
     "data": {
      "text/plain": [
       "tuple"
      ]
     },
     "execution_count": 305,
     "metadata": {},
     "output_type": "execute_result"
    }
   ],
   "source": [
    "type(u)"
   ]
  },
  {
   "cell_type": "code",
   "execution_count": 306,
   "id": "6999eb37",
   "metadata": {},
   "outputs": [
    {
     "data": {
      "text/plain": [
       "(12, 15, 17, 'network', 2.6, (9+4j), (4, 9, 1))"
      ]
     },
     "execution_count": 306,
     "metadata": {},
     "output_type": "execute_result"
    }
   ],
   "source": [
    "u"
   ]
  },
  {
   "cell_type": "code",
   "execution_count": 307,
   "id": "dc4a8647",
   "metadata": {},
   "outputs": [
    {
     "data": {
      "text/plain": [
       "15"
      ]
     },
     "execution_count": 307,
     "metadata": {},
     "output_type": "execute_result"
    }
   ],
   "source": [
    "u[1]"
   ]
  },
  {
   "cell_type": "code",
   "execution_count": 308,
   "id": "22124ce8",
   "metadata": {},
   "outputs": [
    {
     "data": {
      "text/plain": [
       "(12, 15, 17, 'network', 2.6, (9+4j), (4, 9, 1))"
      ]
     },
     "execution_count": 308,
     "metadata": {},
     "output_type": "execute_result"
    }
   ],
   "source": [
    "u"
   ]
  },
  {
   "cell_type": "code",
   "execution_count": 309,
   "id": "a3afc137",
   "metadata": {},
   "outputs": [
    {
     "data": {
      "text/plain": [
       "17"
      ]
     },
     "execution_count": 309,
     "metadata": {},
     "output_type": "execute_result"
    }
   ],
   "source": [
    "u[2]"
   ]
  },
  {
   "cell_type": "code",
   "execution_count": 310,
   "id": "255afe9c",
   "metadata": {},
   "outputs": [
    {
     "data": {
      "text/plain": [
       "(12, 15, 17, 'network', 2.6, (9+4j), (4, 9, 1))"
      ]
     },
     "execution_count": 310,
     "metadata": {},
     "output_type": "execute_result"
    }
   ],
   "source": [
    "u"
   ]
  },
  {
   "cell_type": "code",
   "execution_count": 311,
   "id": "aff32b06",
   "metadata": {},
   "outputs": [
    {
     "data": {
      "text/plain": [
       "(4, 9, 1)"
      ]
     },
     "execution_count": 311,
     "metadata": {},
     "output_type": "execute_result"
    }
   ],
   "source": [
    "u[-1]"
   ]
  },
  {
   "cell_type": "code",
   "execution_count": 312,
   "id": "09735183",
   "metadata": {},
   "outputs": [
    {
     "data": {
      "text/plain": [
       "(12, 15, 17, 'network', 2.6)"
      ]
     },
     "execution_count": 312,
     "metadata": {},
     "output_type": "execute_result"
    }
   ],
   "source": [
    "u[0:5]"
   ]
  },
  {
   "cell_type": "code",
   "execution_count": 313,
   "id": "48072cc9",
   "metadata": {},
   "outputs": [
    {
     "data": {
      "text/plain": [
       "(15, 17, 'network', 2.6, (9+4j))"
      ]
     },
     "execution_count": 313,
     "metadata": {},
     "output_type": "execute_result"
    }
   ],
   "source": [
    "u[1:6]"
   ]
  },
  {
   "cell_type": "code",
   "execution_count": 314,
   "id": "3d7b684d",
   "metadata": {},
   "outputs": [
    {
     "data": {
      "text/plain": [
       "(15, 17, 'network', 2.6, (9+4j))"
      ]
     },
     "execution_count": 314,
     "metadata": {},
     "output_type": "execute_result"
    }
   ],
   "source": [
    "u[1:-1]"
   ]
  },
  {
   "cell_type": "code",
   "execution_count": 315,
   "id": "ea9da6f3",
   "metadata": {},
   "outputs": [
    {
     "data": {
      "text/plain": [
       "((4, 9, 1), (9+4j), 2.6, 'network', 17, 15, 12)"
      ]
     },
     "execution_count": 315,
     "metadata": {},
     "output_type": "execute_result"
    }
   ],
   "source": [
    "u[::-1]"
   ]
  },
  {
   "cell_type": "code",
   "execution_count": 316,
   "id": "124ee1e0",
   "metadata": {},
   "outputs": [
    {
     "data": {
      "text/plain": [
       "(12, 15, 17, 'network', 2.6, (9+4j), (4, 9, 1))"
      ]
     },
     "execution_count": 316,
     "metadata": {},
     "output_type": "execute_result"
    }
   ],
   "source": [
    "u[:]"
   ]
  },
  {
   "cell_type": "code",
   "execution_count": 318,
   "id": "05eacdec",
   "metadata": {},
   "outputs": [
    {
     "ename": "TypeError",
     "evalue": "'tuple' object does not support item assignment",
     "output_type": "error",
     "traceback": [
      "\u001b[1;31m---------------------------------------------------------------------------\u001b[0m",
      "\u001b[1;31mTypeError\u001b[0m                                 Traceback (most recent call last)",
      "\u001b[1;32m<ipython-input-318-5310bf2b3599>\u001b[0m in \u001b[0;36m<module>\u001b[1;34m\u001b[0m\n\u001b[1;32m----> 1\u001b[1;33m \u001b[0mu\u001b[0m\u001b[1;33m[\u001b[0m\u001b[1;36m1\u001b[0m\u001b[1;33m]\u001b[0m \u001b[1;33m=\u001b[0m \u001b[1;36m23\u001b[0m\u001b[1;33m\u001b[0m\u001b[1;33m\u001b[0m\u001b[0m\n\u001b[0m",
      "\u001b[1;31mTypeError\u001b[0m: 'tuple' object does not support item assignment"
     ]
    }
   ],
   "source": [
    "u[1] = 23"
   ]
  },
  {
   "cell_type": "code",
   "execution_count": 319,
   "id": "e3bde102",
   "metadata": {},
   "outputs": [],
   "source": [
    "lst = ['HTML', 'CSS', 'PYthon', 'POWER', 'SQL']"
   ]
  },
  {
   "cell_type": "code",
   "execution_count": 320,
   "id": "00069bee",
   "metadata": {},
   "outputs": [],
   "source": [
    "y = (8,9,7,lst,12,14,16,2.3,(4,5,6))"
   ]
  },
  {
   "cell_type": "code",
   "execution_count": 321,
   "id": "decab451",
   "metadata": {},
   "outputs": [
    {
     "data": {
      "text/plain": [
       "(8,\n",
       " 9,\n",
       " 7,\n",
       " ['HTML', 'CSS', 'PYthon', 'POWER', 'SQL'],\n",
       " 12,\n",
       " 14,\n",
       " 16,\n",
       " 2.3,\n",
       " (4, 5, 6))"
      ]
     },
     "execution_count": 321,
     "metadata": {},
     "output_type": "execute_result"
    }
   ],
   "source": [
    "y"
   ]
  },
  {
   "cell_type": "code",
   "execution_count": 324,
   "id": "ffbe25e2",
   "metadata": {},
   "outputs": [],
   "source": [
    "y[3][2] = \"javaScript\""
   ]
  },
  {
   "cell_type": "code",
   "execution_count": 325,
   "id": "74c0168f",
   "metadata": {},
   "outputs": [
    {
     "data": {
      "text/plain": [
       "(8,\n",
       " 9,\n",
       " 7,\n",
       " ['HTML', 'CSS', 'javaScript', 'POWER', 'SQL'],\n",
       " 12,\n",
       " 14,\n",
       " 16,\n",
       " 2.3,\n",
       " (4, 5, 6))"
      ]
     },
     "execution_count": 325,
     "metadata": {},
     "output_type": "execute_result"
    }
   ],
   "source": [
    "y"
   ]
  },
  {
   "cell_type": "code",
   "execution_count": 326,
   "id": "8d7e8908",
   "metadata": {},
   "outputs": [
    {
     "data": {
      "text/plain": [
       "['HTML', 'CSS', 'javaScript', 'POWER', 'SQL']"
      ]
     },
     "execution_count": 326,
     "metadata": {},
     "output_type": "execute_result"
    }
   ],
   "source": [
    "lst"
   ]
  },
  {
   "cell_type": "code",
   "execution_count": 327,
   "id": "1ab0c6c3",
   "metadata": {},
   "outputs": [
    {
     "data": {
      "text/plain": [
       "(12, 15, 17, 'network', 2.6, (9+4j), (4, 9, 1))"
      ]
     },
     "execution_count": 327,
     "metadata": {},
     "output_type": "execute_result"
    }
   ],
   "source": [
    "u"
   ]
  },
  {
   "cell_type": "code",
   "execution_count": 328,
   "id": "c354e175",
   "metadata": {},
   "outputs": [
    {
     "name": "stdout",
     "output_type": "stream",
     "text": [
      "12\n",
      "15\n",
      "17\n",
      "network\n",
      "2.6\n",
      "(9+4j)\n",
      "(4, 9, 1)\n"
     ]
    }
   ],
   "source": [
    "for i in u:\n",
    "    print(i)"
   ]
  },
  {
   "cell_type": "code",
   "execution_count": 329,
   "id": "c3366bc1",
   "metadata": {},
   "outputs": [
    {
     "data": {
      "text/plain": [
       "(12, 15, 17, 'network', 2.6, (9+4j), (4, 9, 1))"
      ]
     },
     "execution_count": 329,
     "metadata": {},
     "output_type": "execute_result"
    }
   ],
   "source": [
    "u"
   ]
  },
  {
   "cell_type": "code",
   "execution_count": 330,
   "id": "ce8f6471",
   "metadata": {},
   "outputs": [
    {
     "data": {
      "text/plain": [
       "True"
      ]
     },
     "execution_count": 330,
     "metadata": {},
     "output_type": "execute_result"
    }
   ],
   "source": [
    "15 in u"
   ]
  },
  {
   "cell_type": "code",
   "execution_count": 331,
   "id": "d78f0e72",
   "metadata": {},
   "outputs": [
    {
     "data": {
      "text/plain": [
       "True"
      ]
     },
     "execution_count": 331,
     "metadata": {},
     "output_type": "execute_result"
    }
   ],
   "source": [
    "170 not in u"
   ]
  },
  {
   "cell_type": "code",
   "execution_count": 332,
   "id": "75e2c2b8",
   "metadata": {},
   "outputs": [
    {
     "data": {
      "text/plain": [
       "False"
      ]
     },
     "execution_count": 332,
     "metadata": {},
     "output_type": "execute_result"
    }
   ],
   "source": [
    "150 in u"
   ]
  },
  {
   "cell_type": "code",
   "execution_count": 333,
   "id": "9a7be739",
   "metadata": {},
   "outputs": [
    {
     "data": {
      "text/plain": [
       "(5, 5, 5, 5, 5, 5)"
      ]
     },
     "execution_count": 333,
     "metadata": {},
     "output_type": "execute_result"
    }
   ],
   "source": [
    "(5,)*6"
   ]
  },
  {
   "cell_type": "code",
   "execution_count": 335,
   "id": "0eebf95c",
   "metadata": {},
   "outputs": [],
   "source": [
    "i = (1,2,3) + (4,5,6)"
   ]
  },
  {
   "cell_type": "code",
   "execution_count": 336,
   "id": "f14cc33e",
   "metadata": {},
   "outputs": [
    {
     "data": {
      "text/plain": [
       "(1, 2, 3, 4, 5, 6)"
      ]
     },
     "execution_count": 336,
     "metadata": {},
     "output_type": "execute_result"
    }
   ],
   "source": [
    "i"
   ]
  },
  {
   "cell_type": "code",
   "execution_count": 337,
   "id": "ad8b1d2e",
   "metadata": {},
   "outputs": [
    {
     "data": {
      "text/plain": [
       "(1, 2, 3, 4, 5, 6)"
      ]
     },
     "execution_count": 337,
     "metadata": {},
     "output_type": "execute_result"
    }
   ],
   "source": [
    "i"
   ]
  },
  {
   "cell_type": "code",
   "execution_count": 339,
   "id": "1c3fb721",
   "metadata": {},
   "outputs": [
    {
     "ename": "TypeError",
     "evalue": "'tuple' object doesn't support item deletion",
     "output_type": "error",
     "traceback": [
      "\u001b[1;31m---------------------------------------------------------------------------\u001b[0m",
      "\u001b[1;31mTypeError\u001b[0m                                 Traceback (most recent call last)",
      "\u001b[1;32m<ipython-input-339-2d6b1aea8003>\u001b[0m in \u001b[0;36m<module>\u001b[1;34m\u001b[0m\n\u001b[1;32m----> 1\u001b[1;33m \u001b[1;32mdel\u001b[0m \u001b[0mi\u001b[0m\u001b[1;33m[\u001b[0m\u001b[1;36m2\u001b[0m\u001b[1;33m]\u001b[0m\u001b[1;33m\u001b[0m\u001b[1;33m\u001b[0m\u001b[0m\n\u001b[0m",
      "\u001b[1;31mTypeError\u001b[0m: 'tuple' object doesn't support item deletion"
     ]
    }
   ],
   "source": [
    "del i[2]"
   ]
  },
  {
   "cell_type": "code",
   "execution_count": 340,
   "id": "cd4a0790",
   "metadata": {},
   "outputs": [
    {
     "data": {
      "text/plain": [
       "(1, 2, 3, 4, 5, 6)"
      ]
     },
     "execution_count": 340,
     "metadata": {},
     "output_type": "execute_result"
    }
   ],
   "source": [
    "i"
   ]
  },
  {
   "cell_type": "code",
   "execution_count": 341,
   "id": "0a05ab11",
   "metadata": {},
   "outputs": [],
   "source": [
    "del i"
   ]
  },
  {
   "cell_type": "code",
   "execution_count": 342,
   "id": "716bd72a",
   "metadata": {},
   "outputs": [
    {
     "ename": "NameError",
     "evalue": "name 'i' is not defined",
     "output_type": "error",
     "traceback": [
      "\u001b[1;31m---------------------------------------------------------------------------\u001b[0m",
      "\u001b[1;31mNameError\u001b[0m                                 Traceback (most recent call last)",
      "\u001b[1;32m<ipython-input-342-397d543883c5>\u001b[0m in \u001b[0;36m<module>\u001b[1;34m\u001b[0m\n\u001b[1;32m----> 1\u001b[1;33m \u001b[0mi\u001b[0m\u001b[1;33m\u001b[0m\u001b[1;33m\u001b[0m\u001b[0m\n\u001b[0m",
      "\u001b[1;31mNameError\u001b[0m: name 'i' is not defined"
     ]
    }
   ],
   "source": [
    "i"
   ]
  },
  {
   "cell_type": "code",
   "execution_count": 343,
   "id": "65d737a8",
   "metadata": {},
   "outputs": [
    {
     "data": {
      "text/plain": [
       "(12, 15, 17, 'network', 2.6, (9+4j), (4, 9, 1))"
      ]
     },
     "execution_count": 343,
     "metadata": {},
     "output_type": "execute_result"
    }
   ],
   "source": [
    "u"
   ]
  },
  {
   "cell_type": "code",
   "execution_count": 344,
   "id": "1dbc194b",
   "metadata": {},
   "outputs": [
    {
     "data": {
      "text/plain": [
       "45"
      ]
     },
     "execution_count": 344,
     "metadata": {},
     "output_type": "execute_result"
    }
   ],
   "source": [
    "p"
   ]
  },
  {
   "cell_type": "code",
   "execution_count": 345,
   "id": "7ebdec86",
   "metadata": {},
   "outputs": [
    {
     "data": {
      "text/plain": [
       "2"
      ]
     },
     "execution_count": 345,
     "metadata": {},
     "output_type": "execute_result"
    }
   ],
   "source": [
    "k"
   ]
  },
  {
   "cell_type": "code",
   "execution_count": 346,
   "id": "460b7d43",
   "metadata": {},
   "outputs": [
    {
     "data": {
      "text/plain": [
       "(8,\n",
       " 9,\n",
       " 7,\n",
       " ['HTML', 'CSS', 'javaScript', 'POWER', 'SQL'],\n",
       " 12,\n",
       " 14,\n",
       " 16,\n",
       " 2.3,\n",
       " (4, 5, 6))"
      ]
     },
     "execution_count": 346,
     "metadata": {},
     "output_type": "execute_result"
    }
   ],
   "source": [
    "y"
   ]
  },
  {
   "cell_type": "code",
   "execution_count": 347,
   "id": "450192fe",
   "metadata": {},
   "outputs": [
    {
     "data": {
      "text/plain": [
       "(7, 8, 9, 10, 12, 15, 16, 14, 17)"
      ]
     },
     "execution_count": 347,
     "metadata": {},
     "output_type": "execute_result"
    }
   ],
   "source": [
    "e"
   ]
  },
  {
   "cell_type": "code",
   "execution_count": 348,
   "id": "36146760",
   "metadata": {},
   "outputs": [
    {
     "data": {
      "text/plain": [
       "1"
      ]
     },
     "execution_count": 348,
     "metadata": {},
     "output_type": "execute_result"
    }
   ],
   "source": [
    "e.count(10)"
   ]
  },
  {
   "cell_type": "code",
   "execution_count": 349,
   "id": "74a3c9e1",
   "metadata": {},
   "outputs": [
    {
     "data": {
      "text/plain": [
       "3"
      ]
     },
     "execution_count": 349,
     "metadata": {},
     "output_type": "execute_result"
    }
   ],
   "source": [
    "e.index(10)"
   ]
  },
  {
   "cell_type": "code",
   "execution_count": 350,
   "id": "f54ad28a",
   "metadata": {},
   "outputs": [],
   "source": [
    "c = (4,8,9,2,4,8,9,2,6)"
   ]
  },
  {
   "cell_type": "code",
   "execution_count": 351,
   "id": "36adb1b3",
   "metadata": {},
   "outputs": [
    {
     "data": {
      "text/plain": [
       "2"
      ]
     },
     "execution_count": 351,
     "metadata": {},
     "output_type": "execute_result"
    }
   ],
   "source": [
    "c.count(4)"
   ]
  },
  {
   "cell_type": "code",
   "execution_count": 353,
   "id": "4d54546b",
   "metadata": {},
   "outputs": [
    {
     "data": {
      "text/plain": [
       "7"
      ]
     },
     "execution_count": 353,
     "metadata": {},
     "output_type": "execute_result"
    }
   ],
   "source": [
    "c.index(2, 4)"
   ]
  },
  {
   "cell_type": "code",
   "execution_count": 354,
   "id": "2c29f7c9",
   "metadata": {},
   "outputs": [],
   "source": [
    "l = (4,5,6)"
   ]
  },
  {
   "cell_type": "code",
   "execution_count": 355,
   "id": "a30a0d2c",
   "metadata": {},
   "outputs": [
    {
     "data": {
      "text/plain": [
       "4"
      ]
     },
     "execution_count": 355,
     "metadata": {},
     "output_type": "execute_result"
    }
   ],
   "source": [
    "l[0]"
   ]
  },
  {
   "cell_type": "code",
   "execution_count": 356,
   "id": "e8bda69e",
   "metadata": {},
   "outputs": [],
   "source": [
    "p,q,r = l"
   ]
  },
  {
   "cell_type": "code",
   "execution_count": 357,
   "id": "215fdf93",
   "metadata": {},
   "outputs": [
    {
     "data": {
      "text/plain": [
       "4"
      ]
     },
     "execution_count": 357,
     "metadata": {},
     "output_type": "execute_result"
    }
   ],
   "source": [
    "p"
   ]
  },
  {
   "cell_type": "code",
   "execution_count": 358,
   "id": "682c4ab2",
   "metadata": {},
   "outputs": [
    {
     "data": {
      "text/plain": [
       "5"
      ]
     },
     "execution_count": 358,
     "metadata": {},
     "output_type": "execute_result"
    }
   ],
   "source": [
    "q"
   ]
  },
  {
   "cell_type": "code",
   "execution_count": 359,
   "id": "558dc88b",
   "metadata": {},
   "outputs": [
    {
     "data": {
      "text/plain": [
       "6"
      ]
     },
     "execution_count": 359,
     "metadata": {},
     "output_type": "execute_result"
    }
   ],
   "source": [
    "r"
   ]
  },
  {
   "cell_type": "code",
   "execution_count": 360,
   "id": "74a3e9d7",
   "metadata": {},
   "outputs": [
    {
     "name": "stdout",
     "output_type": "stream",
     "text": [
      "4 5 6\n"
     ]
    }
   ],
   "source": [
    "print(*l)"
   ]
  },
  {
   "cell_type": "code",
   "execution_count": 361,
   "id": "7922fa47",
   "metadata": {},
   "outputs": [],
   "source": [
    "# Sets"
   ]
  },
  {
   "cell_type": "code",
   "execution_count": 362,
   "id": "9601bcda",
   "metadata": {},
   "outputs": [],
   "source": [
    "f = set()"
   ]
  },
  {
   "cell_type": "code",
   "execution_count": 363,
   "id": "5ff4cb5d",
   "metadata": {},
   "outputs": [
    {
     "data": {
      "text/plain": [
       "set"
      ]
     },
     "execution_count": 363,
     "metadata": {},
     "output_type": "execute_result"
    }
   ],
   "source": [
    "type(f)"
   ]
  },
  {
   "cell_type": "code",
   "execution_count": 364,
   "id": "accaf25d",
   "metadata": {},
   "outputs": [],
   "source": [
    "n = {}"
   ]
  },
  {
   "cell_type": "code",
   "execution_count": 366,
   "id": "7a51998a",
   "metadata": {},
   "outputs": [
    {
     "data": {
      "text/plain": [
       "dict"
      ]
     },
     "execution_count": 366,
     "metadata": {},
     "output_type": "execute_result"
    }
   ],
   "source": [
    "type(n)"
   ]
  },
  {
   "cell_type": "code",
   "execution_count": 367,
   "id": "942480d7",
   "metadata": {},
   "outputs": [],
   "source": [
    "j = {5}"
   ]
  },
  {
   "cell_type": "code",
   "execution_count": 368,
   "id": "df55e60c",
   "metadata": {},
   "outputs": [
    {
     "data": {
      "text/plain": [
       "set"
      ]
     },
     "execution_count": 368,
     "metadata": {},
     "output_type": "execute_result"
    }
   ],
   "source": [
    "type(j)"
   ]
  },
  {
   "cell_type": "code",
   "execution_count": 369,
   "id": "4d7a75bb",
   "metadata": {},
   "outputs": [],
   "source": [
    "l = {5,9,7,5,9,7,10,2,10,2,3,4,8,9,7,5,10,2,3,4,7,5,9,10}"
   ]
  },
  {
   "cell_type": "code",
   "execution_count": 370,
   "id": "6bbbd801",
   "metadata": {},
   "outputs": [
    {
     "data": {
      "text/plain": [
       "{2, 3, 4, 5, 7, 8, 9, 10}"
      ]
     },
     "execution_count": 370,
     "metadata": {},
     "output_type": "execute_result"
    }
   ],
   "source": [
    "l"
   ]
  },
  {
   "cell_type": "code",
   "execution_count": 371,
   "id": "1172efc7",
   "metadata": {},
   "outputs": [
    {
     "name": "stdout",
     "output_type": "stream",
     "text": [
      "{2, 3, 4, 5, 7, 8, 9, 10}\n"
     ]
    }
   ],
   "source": [
    "print(l)"
   ]
  },
  {
   "cell_type": "code",
   "execution_count": 372,
   "id": "ab72ebdc",
   "metadata": {},
   "outputs": [
    {
     "data": {
      "text/plain": [
       "set"
      ]
     },
     "execution_count": 372,
     "metadata": {},
     "output_type": "execute_result"
    }
   ],
   "source": [
    "type(l)"
   ]
  },
  {
   "cell_type": "code",
   "execution_count": 373,
   "id": "c102ce2c",
   "metadata": {},
   "outputs": [],
   "source": [
    "l.add(15)"
   ]
  },
  {
   "cell_type": "code",
   "execution_count": 374,
   "id": "4a9fc129",
   "metadata": {},
   "outputs": [
    {
     "data": {
      "text/plain": [
       "{2, 3, 4, 5, 7, 8, 9, 10, 15}"
      ]
     },
     "execution_count": 374,
     "metadata": {},
     "output_type": "execute_result"
    }
   ],
   "source": [
    "l"
   ]
  },
  {
   "cell_type": "code",
   "execution_count": 375,
   "id": "5e61e70d",
   "metadata": {},
   "outputs": [],
   "source": [
    "l.add(15)"
   ]
  },
  {
   "cell_type": "code",
   "execution_count": 376,
   "id": "82c1c31d",
   "metadata": {},
   "outputs": [
    {
     "data": {
      "text/plain": [
       "{2, 3, 4, 5, 7, 8, 9, 10, 15}"
      ]
     },
     "execution_count": 376,
     "metadata": {},
     "output_type": "execute_result"
    }
   ],
   "source": [
    "l"
   ]
  },
  {
   "cell_type": "code",
   "execution_count": 377,
   "id": "473e9c94",
   "metadata": {},
   "outputs": [],
   "source": [
    "l.add(15)"
   ]
  },
  {
   "cell_type": "code",
   "execution_count": 378,
   "id": "d00db44d",
   "metadata": {},
   "outputs": [],
   "source": [
    "l.add(10)"
   ]
  },
  {
   "cell_type": "code",
   "execution_count": 379,
   "id": "e418f886",
   "metadata": {},
   "outputs": [
    {
     "data": {
      "text/plain": [
       "{2, 3, 4, 5, 7, 8, 9, 10, 15}"
      ]
     },
     "execution_count": 379,
     "metadata": {},
     "output_type": "execute_result"
    }
   ],
   "source": [
    "l"
   ]
  },
  {
   "cell_type": "code",
   "execution_count": 380,
   "id": "2b085738",
   "metadata": {},
   "outputs": [
    {
     "data": {
      "text/plain": [
       "{2, 3, 4, 5, 7, 8, 9, 10, 15}"
      ]
     },
     "execution_count": 380,
     "metadata": {},
     "output_type": "execute_result"
    }
   ],
   "source": [
    "l"
   ]
  },
  {
   "cell_type": "code",
   "execution_count": 381,
   "id": "c1d7755b",
   "metadata": {},
   "outputs": [
    {
     "ename": "KeyError",
     "evalue": "14",
     "output_type": "error",
     "traceback": [
      "\u001b[1;31m---------------------------------------------------------------------------\u001b[0m",
      "\u001b[1;31mKeyError\u001b[0m                                  Traceback (most recent call last)",
      "\u001b[1;32m<ipython-input-381-d550a665998f>\u001b[0m in \u001b[0;36m<module>\u001b[1;34m\u001b[0m\n\u001b[1;32m----> 1\u001b[1;33m \u001b[0ml\u001b[0m\u001b[1;33m.\u001b[0m\u001b[0mremove\u001b[0m\u001b[1;33m(\u001b[0m\u001b[1;36m14\u001b[0m\u001b[1;33m)\u001b[0m\u001b[1;33m\u001b[0m\u001b[1;33m\u001b[0m\u001b[0m\n\u001b[0m",
      "\u001b[1;31mKeyError\u001b[0m: 14"
     ]
    }
   ],
   "source": [
    "l.remove(14)"
   ]
  },
  {
   "cell_type": "code",
   "execution_count": 382,
   "id": "9b912560",
   "metadata": {},
   "outputs": [],
   "source": [
    "l.remove(15)"
   ]
  },
  {
   "cell_type": "code",
   "execution_count": 384,
   "id": "2f6cf841",
   "metadata": {},
   "outputs": [
    {
     "data": {
      "text/plain": [
       "{2, 3, 4, 5, 7, 8, 9, 10}"
      ]
     },
     "execution_count": 384,
     "metadata": {},
     "output_type": "execute_result"
    }
   ],
   "source": [
    "l"
   ]
  },
  {
   "cell_type": "code",
   "execution_count": 385,
   "id": "cc72cbce",
   "metadata": {},
   "outputs": [],
   "source": [
    "l.remove(7)"
   ]
  },
  {
   "cell_type": "code",
   "execution_count": 386,
   "id": "5652a363",
   "metadata": {},
   "outputs": [
    {
     "data": {
      "text/plain": [
       "{2, 3, 4, 5, 8, 9, 10}"
      ]
     },
     "execution_count": 386,
     "metadata": {},
     "output_type": "execute_result"
    }
   ],
   "source": [
    "l"
   ]
  },
  {
   "cell_type": "code",
   "execution_count": 387,
   "id": "105ac721",
   "metadata": {},
   "outputs": [],
   "source": [
    "l.discard(14)"
   ]
  },
  {
   "cell_type": "code",
   "execution_count": 388,
   "id": "779eebc2",
   "metadata": {},
   "outputs": [
    {
     "data": {
      "text/plain": [
       "{2, 3, 4, 5, 8, 9, 10}"
      ]
     },
     "execution_count": 388,
     "metadata": {},
     "output_type": "execute_result"
    }
   ],
   "source": [
    "l"
   ]
  },
  {
   "cell_type": "code",
   "execution_count": 389,
   "id": "a1e6779e",
   "metadata": {},
   "outputs": [],
   "source": [
    "l.discard(8)"
   ]
  },
  {
   "cell_type": "code",
   "execution_count": 390,
   "id": "ae2cf0d3",
   "metadata": {},
   "outputs": [
    {
     "data": {
      "text/plain": [
       "{2, 3, 4, 5, 9, 10}"
      ]
     },
     "execution_count": 390,
     "metadata": {},
     "output_type": "execute_result"
    }
   ],
   "source": [
    "l"
   ]
  },
  {
   "cell_type": "code",
   "execution_count": 391,
   "id": "dc2264a3",
   "metadata": {},
   "outputs": [
    {
     "data": {
      "text/plain": [
       "{2, 3, 4, 5, 9, 10}"
      ]
     },
     "execution_count": 391,
     "metadata": {},
     "output_type": "execute_result"
    }
   ],
   "source": [
    "l"
   ]
  },
  {
   "cell_type": "code",
   "execution_count": 392,
   "id": "b27f3d27",
   "metadata": {},
   "outputs": [
    {
     "ename": "TypeError",
     "evalue": "'set' object is not subscriptable",
     "output_type": "error",
     "traceback": [
      "\u001b[1;31m---------------------------------------------------------------------------\u001b[0m",
      "\u001b[1;31mTypeError\u001b[0m                                 Traceback (most recent call last)",
      "\u001b[1;32m<ipython-input-392-78764dab44db>\u001b[0m in \u001b[0;36m<module>\u001b[1;34m\u001b[0m\n\u001b[1;32m----> 1\u001b[1;33m \u001b[0ml\u001b[0m\u001b[1;33m[\u001b[0m\u001b[1;36m2\u001b[0m\u001b[1;33m]\u001b[0m\u001b[1;33m\u001b[0m\u001b[1;33m\u001b[0m\u001b[0m\n\u001b[0m",
      "\u001b[1;31mTypeError\u001b[0m: 'set' object is not subscriptable"
     ]
    }
   ],
   "source": [
    "l[2]"
   ]
  },
  {
   "cell_type": "code",
   "execution_count": 393,
   "id": "a26f98ae",
   "metadata": {},
   "outputs": [
    {
     "ename": "TypeError",
     "evalue": "'int' object is not iterable",
     "output_type": "error",
     "traceback": [
      "\u001b[1;31m---------------------------------------------------------------------------\u001b[0m",
      "\u001b[1;31mTypeError\u001b[0m                                 Traceback (most recent call last)",
      "\u001b[1;32m<ipython-input-393-94d8a7fbcb70>\u001b[0m in \u001b[0;36m<module>\u001b[1;34m\u001b[0m\n\u001b[1;32m----> 1\u001b[1;33m \u001b[0ml\u001b[0m\u001b[1;33m.\u001b[0m\u001b[0mupdate\u001b[0m\u001b[1;33m(\u001b[0m\u001b[1;36m56\u001b[0m\u001b[1;33m)\u001b[0m\u001b[1;33m\u001b[0m\u001b[1;33m\u001b[0m\u001b[0m\n\u001b[0m",
      "\u001b[1;31mTypeError\u001b[0m: 'int' object is not iterable"
     ]
    }
   ],
   "source": [
    "l.update(56)"
   ]
  },
  {
   "cell_type": "code",
   "execution_count": 394,
   "id": "a6d4e49e",
   "metadata": {},
   "outputs": [],
   "source": [
    "l.update([14,15,18])"
   ]
  },
  {
   "cell_type": "code",
   "execution_count": 395,
   "id": "10344be1",
   "metadata": {},
   "outputs": [
    {
     "data": {
      "text/plain": [
       "{2, 3, 4, 5, 9, 10, 14, 15, 18}"
      ]
     },
     "execution_count": 395,
     "metadata": {},
     "output_type": "execute_result"
    }
   ],
   "source": [
    "l"
   ]
  },
  {
   "cell_type": "code",
   "execution_count": 396,
   "id": "7b623981",
   "metadata": {},
   "outputs": [],
   "source": [
    "l.update((15,18,19))"
   ]
  },
  {
   "cell_type": "code",
   "execution_count": 397,
   "id": "23ed2047",
   "metadata": {},
   "outputs": [
    {
     "data": {
      "text/plain": [
       "{2, 3, 4, 5, 9, 10, 14, 15, 18, 19}"
      ]
     },
     "execution_count": 397,
     "metadata": {},
     "output_type": "execute_result"
    }
   ],
   "source": [
    "l"
   ]
  },
  {
   "cell_type": "code",
   "execution_count": 398,
   "id": "411a7edd",
   "metadata": {},
   "outputs": [],
   "source": [
    "s1 = {1,2,3,4,5,6,7}\n",
    "s2 = {5,6,7,8,9,10,11,12}"
   ]
  },
  {
   "cell_type": "code",
   "execution_count": 399,
   "id": "61cabc96",
   "metadata": {},
   "outputs": [
    {
     "data": {
      "text/plain": [
       "{1, 2, 3, 4, 5, 6, 7}"
      ]
     },
     "execution_count": 399,
     "metadata": {},
     "output_type": "execute_result"
    }
   ],
   "source": [
    "s1"
   ]
  },
  {
   "cell_type": "code",
   "execution_count": 400,
   "id": "3ab3c864",
   "metadata": {},
   "outputs": [
    {
     "data": {
      "text/plain": [
       "{5, 6, 7, 8, 9, 10, 11, 12}"
      ]
     },
     "execution_count": 400,
     "metadata": {},
     "output_type": "execute_result"
    }
   ],
   "source": [
    "s2"
   ]
  },
  {
   "cell_type": "code",
   "execution_count": 401,
   "id": "b99313b3",
   "metadata": {},
   "outputs": [
    {
     "data": {
      "text/plain": [
       "{1, 2, 3, 4, 5, 6, 7, 8, 9, 10, 11, 12}"
      ]
     },
     "execution_count": 401,
     "metadata": {},
     "output_type": "execute_result"
    }
   ],
   "source": [
    "s1.union(s2)"
   ]
  },
  {
   "cell_type": "code",
   "execution_count": 402,
   "id": "e73c9cf7",
   "metadata": {},
   "outputs": [
    {
     "data": {
      "text/plain": [
       "{1, 2, 3, 4, 5, 6, 7, 8, 9, 10, 11, 12}"
      ]
     },
     "execution_count": 402,
     "metadata": {},
     "output_type": "execute_result"
    }
   ],
   "source": [
    "s1 | s2"
   ]
  },
  {
   "cell_type": "code",
   "execution_count": 403,
   "id": "246e6c4a",
   "metadata": {},
   "outputs": [
    {
     "data": {
      "text/plain": [
       "{5, 6, 7}"
      ]
     },
     "execution_count": 403,
     "metadata": {},
     "output_type": "execute_result"
    }
   ],
   "source": [
    "s1.intersection(s2)"
   ]
  },
  {
   "cell_type": "code",
   "execution_count": 404,
   "id": "aa9fffbd",
   "metadata": {},
   "outputs": [
    {
     "data": {
      "text/plain": [
       "{5, 6, 7}"
      ]
     },
     "execution_count": 404,
     "metadata": {},
     "output_type": "execute_result"
    }
   ],
   "source": [
    "s1 & s2"
   ]
  },
  {
   "cell_type": "code",
   "execution_count": 405,
   "id": "fef39cf4",
   "metadata": {},
   "outputs": [
    {
     "data": {
      "text/plain": [
       "{1, 2, 3, 4, 8, 9, 10, 11, 12}"
      ]
     },
     "execution_count": 405,
     "metadata": {},
     "output_type": "execute_result"
    }
   ],
   "source": [
    "s1.symmetric_difference(s2)"
   ]
  },
  {
   "cell_type": "code",
   "execution_count": 407,
   "id": "73d8c13e",
   "metadata": {},
   "outputs": [
    {
     "data": {
      "text/plain": [
       "{1, 2, 3, 4, 8, 9, 10, 11, 12}"
      ]
     },
     "execution_count": 407,
     "metadata": {},
     "output_type": "execute_result"
    }
   ],
   "source": [
    "(s1 |s2) - (s1&s2)"
   ]
  },
  {
   "cell_type": "code",
   "execution_count": 408,
   "id": "5bbd10e9",
   "metadata": {},
   "outputs": [
    {
     "data": {
      "text/plain": [
       "{1, 2, 3, 4}"
      ]
     },
     "execution_count": 408,
     "metadata": {},
     "output_type": "execute_result"
    }
   ],
   "source": [
    "s1-s2"
   ]
  },
  {
   "cell_type": "code",
   "execution_count": 409,
   "id": "46c24c28",
   "metadata": {},
   "outputs": [
    {
     "data": {
      "text/plain": [
       "{8, 9, 10, 11, 12}"
      ]
     },
     "execution_count": 409,
     "metadata": {},
     "output_type": "execute_result"
    }
   ],
   "source": [
    "s2-s1"
   ]
  },
  {
   "cell_type": "code",
   "execution_count": 410,
   "id": "4ada3759",
   "metadata": {},
   "outputs": [
    {
     "data": {
      "text/plain": [
       "{1, 2, 3, 4}"
      ]
     },
     "execution_count": 410,
     "metadata": {},
     "output_type": "execute_result"
    }
   ],
   "source": [
    "s1.difference(s2)"
   ]
  },
  {
   "cell_type": "code",
   "execution_count": 411,
   "id": "536bea5b",
   "metadata": {},
   "outputs": [],
   "source": [
    "lst = [5,9,7,5,9,7,10,2,10,2,3,4,8,9,7,5,10,2,3,4,7,5,9,10]"
   ]
  },
  {
   "cell_type": "code",
   "execution_count": 412,
   "id": "ac38d480",
   "metadata": {},
   "outputs": [
    {
     "data": {
      "text/plain": [
       "[5, 9, 7, 5, 9, 7, 10, 2, 10, 2, 3, 4, 8, 9, 7, 5, 10, 2, 3, 4, 7, 5, 9, 10]"
      ]
     },
     "execution_count": 412,
     "metadata": {},
     "output_type": "execute_result"
    }
   ],
   "source": [
    "lst"
   ]
  },
  {
   "cell_type": "code",
   "execution_count": 413,
   "id": "6d24ca6c",
   "metadata": {},
   "outputs": [
    {
     "data": {
      "text/plain": [
       "list"
      ]
     },
     "execution_count": 413,
     "metadata": {},
     "output_type": "execute_result"
    }
   ],
   "source": [
    "type(lst)"
   ]
  },
  {
   "cell_type": "code",
   "execution_count": 414,
   "id": "3f2f3040",
   "metadata": {},
   "outputs": [],
   "source": [
    "my_set = set(lst)"
   ]
  },
  {
   "cell_type": "code",
   "execution_count": 415,
   "id": "76d3a340",
   "metadata": {},
   "outputs": [
    {
     "data": {
      "text/plain": [
       "{2, 3, 4, 5, 7, 8, 9, 10}"
      ]
     },
     "execution_count": 415,
     "metadata": {},
     "output_type": "execute_result"
    }
   ],
   "source": [
    "my_set"
   ]
  },
  {
   "cell_type": "code",
   "execution_count": 416,
   "id": "84a1f479",
   "metadata": {},
   "outputs": [],
   "source": [
    "lst = list(my_set)"
   ]
  },
  {
   "cell_type": "code",
   "execution_count": 417,
   "id": "ce84d980",
   "metadata": {},
   "outputs": [
    {
     "data": {
      "text/plain": [
       "[2, 3, 4, 5, 7, 8, 9, 10]"
      ]
     },
     "execution_count": 417,
     "metadata": {},
     "output_type": "execute_result"
    }
   ],
   "source": [
    "lst"
   ]
  },
  {
   "cell_type": "code",
   "execution_count": 418,
   "id": "683c9e53",
   "metadata": {},
   "outputs": [
    {
     "data": {
      "text/plain": [
       "{2, 3, 4, 5, 7, 8, 9, 10}"
      ]
     },
     "execution_count": 418,
     "metadata": {},
     "output_type": "execute_result"
    }
   ],
   "source": [
    "my_set"
   ]
  },
  {
   "cell_type": "code",
   "execution_count": 419,
   "id": "7912dee4",
   "metadata": {},
   "outputs": [
    {
     "data": {
      "text/plain": [
       "True"
      ]
     },
     "execution_count": 419,
     "metadata": {},
     "output_type": "execute_result"
    }
   ],
   "source": [
    "5 in my_set"
   ]
  },
  {
   "cell_type": "code",
   "execution_count": 420,
   "id": "f7450954",
   "metadata": {},
   "outputs": [
    {
     "data": {
      "text/plain": [
       "False"
      ]
     },
     "execution_count": 420,
     "metadata": {},
     "output_type": "execute_result"
    }
   ],
   "source": [
    "500 in my_set"
   ]
  },
  {
   "cell_type": "code",
   "execution_count": 421,
   "id": "d2eebb70",
   "metadata": {},
   "outputs": [
    {
     "data": {
      "text/plain": [
       "True"
      ]
     },
     "execution_count": 421,
     "metadata": {},
     "output_type": "execute_result"
    }
   ],
   "source": [
    "160 not in my_set"
   ]
  },
  {
   "cell_type": "code",
   "execution_count": 422,
   "id": "693a96a2",
   "metadata": {},
   "outputs": [],
   "source": [
    "# Dictionary"
   ]
  },
  {
   "cell_type": "code",
   "execution_count": 423,
   "id": "d3545fc5",
   "metadata": {},
   "outputs": [],
   "source": [
    "H = {}"
   ]
  },
  {
   "cell_type": "code",
   "execution_count": 424,
   "id": "f80b05a0",
   "metadata": {},
   "outputs": [
    {
     "data": {
      "text/plain": [
       "dict"
      ]
     },
     "execution_count": 424,
     "metadata": {},
     "output_type": "execute_result"
    }
   ],
   "source": [
    "type(H)"
   ]
  },
  {
   "cell_type": "code",
   "execution_count": 425,
   "id": "78775ba5",
   "metadata": {},
   "outputs": [],
   "source": [
    "m = dict()"
   ]
  },
  {
   "cell_type": "code",
   "execution_count": 426,
   "id": "86690c84",
   "metadata": {},
   "outputs": [
    {
     "data": {
      "text/plain": [
       "dict"
      ]
     },
     "execution_count": 426,
     "metadata": {},
     "output_type": "execute_result"
    }
   ],
   "source": [
    "type(m)"
   ]
  },
  {
   "cell_type": "code",
   "execution_count": 427,
   "id": "ffcefa6d",
   "metadata": {},
   "outputs": [
    {
     "data": {
      "text/plain": [
       "{}"
      ]
     },
     "execution_count": 427,
     "metadata": {},
     "output_type": "execute_result"
    }
   ],
   "source": [
    "m"
   ]
  },
  {
   "cell_type": "code",
   "execution_count": 428,
   "id": "a5adf7a2",
   "metadata": {},
   "outputs": [],
   "source": [
    "p = [(1,'abc'),(2,'xyz'),(3,'pqr')]"
   ]
  },
  {
   "cell_type": "code",
   "execution_count": 429,
   "id": "220353e6",
   "metadata": {},
   "outputs": [
    {
     "data": {
      "text/plain": [
       "list"
      ]
     },
     "execution_count": 429,
     "metadata": {},
     "output_type": "execute_result"
    }
   ],
   "source": [
    "type(p)"
   ]
  },
  {
   "cell_type": "code",
   "execution_count": 430,
   "id": "218fc217",
   "metadata": {},
   "outputs": [],
   "source": [
    "p = dict(p)"
   ]
  },
  {
   "cell_type": "code",
   "execution_count": 431,
   "id": "8998c2f1",
   "metadata": {},
   "outputs": [
    {
     "data": {
      "text/plain": [
       "{1: 'abc', 2: 'xyz', 3: 'pqr'}"
      ]
     },
     "execution_count": 431,
     "metadata": {},
     "output_type": "execute_result"
    }
   ],
   "source": [
    "p"
   ]
  },
  {
   "cell_type": "code",
   "execution_count": 432,
   "id": "13058893",
   "metadata": {},
   "outputs": [
    {
     "data": {
      "text/plain": [
       "dict"
      ]
     },
     "execution_count": 432,
     "metadata": {},
     "output_type": "execute_result"
    }
   ],
   "source": [
    "type(p)"
   ]
  },
  {
   "cell_type": "code",
   "execution_count": 433,
   "id": "6e1686b5",
   "metadata": {},
   "outputs": [],
   "source": [
    "user_info = {\n",
    "    'name':\"naveent\",\n",
    "    'age':23,\n",
    "    'nationality':'indian',\n",
    "    'occupation':'student'\n",
    "}"
   ]
  },
  {
   "cell_type": "code",
   "execution_count": 434,
   "id": "102f7115",
   "metadata": {},
   "outputs": [
    {
     "data": {
      "text/plain": [
       "{'name': 'naveent',\n",
       " 'age': 23,\n",
       " 'nationality': 'indian',\n",
       " 'occupation': 'student'}"
      ]
     },
     "execution_count": 434,
     "metadata": {},
     "output_type": "execute_result"
    }
   ],
   "source": [
    "user_info"
   ]
  },
  {
   "cell_type": "code",
   "execution_count": 435,
   "id": "7dab4fcc",
   "metadata": {},
   "outputs": [
    {
     "data": {
      "text/plain": [
       "dict"
      ]
     },
     "execution_count": 435,
     "metadata": {},
     "output_type": "execute_result"
    }
   ],
   "source": [
    "type(user_info)"
   ]
  },
  {
   "cell_type": "code",
   "execution_count": 436,
   "id": "3997dd27",
   "metadata": {},
   "outputs": [
    {
     "data": {
      "text/plain": [
       "'naveent'"
      ]
     },
     "execution_count": 436,
     "metadata": {},
     "output_type": "execute_result"
    }
   ],
   "source": [
    "user_info['name']"
   ]
  },
  {
   "cell_type": "code",
   "execution_count": 437,
   "id": "626fb9e1",
   "metadata": {},
   "outputs": [
    {
     "data": {
      "text/plain": [
       "23"
      ]
     },
     "execution_count": 437,
     "metadata": {},
     "output_type": "execute_result"
    }
   ],
   "source": [
    "user_info['age']"
   ]
  },
  {
   "cell_type": "code",
   "execution_count": 438,
   "id": "e12de15c",
   "metadata": {},
   "outputs": [
    {
     "ename": "KeyError",
     "evalue": "'hobby'",
     "output_type": "error",
     "traceback": [
      "\u001b[1;31m---------------------------------------------------------------------------\u001b[0m",
      "\u001b[1;31mKeyError\u001b[0m                                  Traceback (most recent call last)",
      "\u001b[1;32m<ipython-input-438-ec56ead5a4d9>\u001b[0m in \u001b[0;36m<module>\u001b[1;34m\u001b[0m\n\u001b[1;32m----> 1\u001b[1;33m \u001b[0muser_info\u001b[0m\u001b[1;33m[\u001b[0m\u001b[1;34m'hobby'\u001b[0m\u001b[1;33m]\u001b[0m\u001b[1;33m\u001b[0m\u001b[1;33m\u001b[0m\u001b[0m\n\u001b[0m",
      "\u001b[1;31mKeyError\u001b[0m: 'hobby'"
     ]
    }
   ],
   "source": [
    "user_info['hobby']"
   ]
  },
  {
   "cell_type": "code",
   "execution_count": 439,
   "id": "a38aae89",
   "metadata": {},
   "outputs": [
    {
     "data": {
      "text/plain": [
       "23"
      ]
     },
     "execution_count": 439,
     "metadata": {},
     "output_type": "execute_result"
    }
   ],
   "source": [
    "user_info.get('age')"
   ]
  },
  {
   "cell_type": "code",
   "execution_count": 440,
   "id": "b30d7e56",
   "metadata": {},
   "outputs": [],
   "source": [
    "user_info.get('hobby')"
   ]
  },
  {
   "cell_type": "code",
   "execution_count": 441,
   "id": "3b8bf841",
   "metadata": {},
   "outputs": [],
   "source": [
    "user_info['hobby'] = ['coding', 'singing', 'dancing']"
   ]
  },
  {
   "cell_type": "code",
   "execution_count": 442,
   "id": "4fd39f7e",
   "metadata": {},
   "outputs": [
    {
     "data": {
      "text/plain": [
       "{'name': 'naveent',\n",
       " 'age': 23,\n",
       " 'nationality': 'indian',\n",
       " 'occupation': 'student',\n",
       " 'hobby': ['coding', 'singing', 'dancing']}"
      ]
     },
     "execution_count": 442,
     "metadata": {},
     "output_type": "execute_result"
    }
   ],
   "source": [
    "user_info"
   ]
  },
  {
   "cell_type": "code",
   "execution_count": 443,
   "id": "5511d001",
   "metadata": {},
   "outputs": [
    {
     "data": {
      "text/plain": [
       "['coding', 'singing', 'dancing']"
      ]
     },
     "execution_count": 443,
     "metadata": {},
     "output_type": "execute_result"
    }
   ],
   "source": [
    "user_info.get('hobby')"
   ]
  },
  {
   "cell_type": "code",
   "execution_count": 445,
   "id": "a630b914",
   "metadata": {},
   "outputs": [],
   "source": [
    "user_info['name'] = 'arjun'"
   ]
  },
  {
   "cell_type": "code",
   "execution_count": 446,
   "id": "747a76d2",
   "metadata": {},
   "outputs": [
    {
     "data": {
      "text/plain": [
       "{'name': 'arjun',\n",
       " 'age': 23,\n",
       " 'nationality': 'indian',\n",
       " 'occupation': 'student',\n",
       " 'hobby': ['coding', 'singing', 'dancing']}"
      ]
     },
     "execution_count": 446,
     "metadata": {},
     "output_type": "execute_result"
    }
   ],
   "source": [
    "user_info"
   ]
  },
  {
   "cell_type": "code",
   "execution_count": 447,
   "id": "43d2c210",
   "metadata": {},
   "outputs": [],
   "source": [
    "# dic Functions"
   ]
  },
  {
   "cell_type": "code",
   "execution_count": 448,
   "id": "f6592115",
   "metadata": {},
   "outputs": [
    {
     "data": {
      "text/plain": [
       "{'name': 'arjun',\n",
       " 'age': 23,\n",
       " 'nationality': 'indian',\n",
       " 'occupation': 'student',\n",
       " 'hobby': ['coding', 'singing', 'dancing']}"
      ]
     },
     "execution_count": 448,
     "metadata": {},
     "output_type": "execute_result"
    }
   ],
   "source": [
    "user_info"
   ]
  },
  {
   "cell_type": "code",
   "execution_count": 452,
   "id": "5363c889",
   "metadata": {},
   "outputs": [
    {
     "data": {
      "text/plain": [
       "['name', 'age', 'nationality', 'occupation', 'hobby']"
      ]
     },
     "execution_count": 452,
     "metadata": {},
     "output_type": "execute_result"
    }
   ],
   "source": [
    "list(user_info.keys())"
   ]
  },
  {
   "cell_type": "code",
   "execution_count": 453,
   "id": "cab879f2",
   "metadata": {},
   "outputs": [
    {
     "data": {
      "text/plain": [
       "['arjun', 23, 'indian', 'student', ['coding', 'singing', 'dancing']]"
      ]
     },
     "execution_count": 453,
     "metadata": {},
     "output_type": "execute_result"
    }
   ],
   "source": [
    "list(user_info.values())"
   ]
  },
  {
   "cell_type": "code",
   "execution_count": 454,
   "id": "b4808adf",
   "metadata": {},
   "outputs": [
    {
     "data": {
      "text/plain": [
       "[('name', 'arjun'),\n",
       " ('age', 23),\n",
       " ('nationality', 'indian'),\n",
       " ('occupation', 'student'),\n",
       " ('hobby', ['coding', 'singing', 'dancing'])]"
      ]
     },
     "execution_count": 454,
     "metadata": {},
     "output_type": "execute_result"
    }
   ],
   "source": [
    "list(user_info.items())"
   ]
  },
  {
   "cell_type": "code",
   "execution_count": 455,
   "id": "f2bcd8a0",
   "metadata": {},
   "outputs": [
    {
     "name": "stdout",
     "output_type": "stream",
     "text": [
      "name\n",
      "age\n",
      "nationality\n",
      "occupation\n",
      "hobby\n"
     ]
    }
   ],
   "source": [
    "for i in user_info:\n",
    "    print(i)"
   ]
  },
  {
   "cell_type": "code",
   "execution_count": 456,
   "id": "fb92866f",
   "metadata": {},
   "outputs": [
    {
     "name": "stdout",
     "output_type": "stream",
     "text": [
      "name\n",
      "age\n",
      "nationality\n",
      "occupation\n",
      "hobby\n"
     ]
    }
   ],
   "source": [
    "for i in user_info.keys():\n",
    "    print(i)"
   ]
  },
  {
   "cell_type": "code",
   "execution_count": 457,
   "id": "4cd48f1c",
   "metadata": {},
   "outputs": [
    {
     "name": "stdout",
     "output_type": "stream",
     "text": [
      "arjun\n",
      "23\n",
      "indian\n",
      "student\n",
      "['coding', 'singing', 'dancing']\n"
     ]
    }
   ],
   "source": [
    "for i in user_info.values():\n",
    "    print(i)"
   ]
  },
  {
   "cell_type": "code",
   "execution_count": 458,
   "id": "8ce0a201",
   "metadata": {},
   "outputs": [
    {
     "name": "stdout",
     "output_type": "stream",
     "text": [
      "arjun\n",
      "23\n",
      "indian\n",
      "student\n",
      "['coding', 'singing', 'dancing']\n"
     ]
    }
   ],
   "source": [
    "for i in user_info.keys():\n",
    "    print(user_info[i])"
   ]
  },
  {
   "cell_type": "code",
   "execution_count": 459,
   "id": "9cc5d724",
   "metadata": {},
   "outputs": [
    {
     "name": "stdout",
     "output_type": "stream",
     "text": [
      "name arjun\n",
      "age 23\n",
      "nationality indian\n",
      "occupation student\n",
      "hobby ['coding', 'singing', 'dancing']\n"
     ]
    }
   ],
   "source": [
    "for k,v in user_info.items():\n",
    "    print(k,v)"
   ]
  },
  {
   "cell_type": "code",
   "execution_count": 460,
   "id": "3cb94ea8",
   "metadata": {},
   "outputs": [
    {
     "name": "stdout",
     "output_type": "stream",
     "text": [
      "name : arjun\n",
      "age : 23\n",
      "nationality : indian\n",
      "occupation : student\n",
      "hobby : ['coding', 'singing', 'dancing']\n"
     ]
    }
   ],
   "source": [
    "for k,v in user_info.items():\n",
    "    print(k,\":\",v)"
   ]
  },
  {
   "cell_type": "code",
   "execution_count": 461,
   "id": "243e9ec0",
   "metadata": {},
   "outputs": [
    {
     "name": "stdout",
     "output_type": "stream",
     "text": [
      "name : arjun\n",
      "age : 23\n",
      "nationality : indian\n",
      "occupation : student\n",
      "hobby : ['coding', 'singing', 'dancing']\n"
     ]
    }
   ],
   "source": [
    "for k in user_info:\n",
    "    print(k, \":\", user_info[k])"
   ]
  },
  {
   "cell_type": "code",
   "execution_count": 462,
   "id": "0934cb05",
   "metadata": {},
   "outputs": [],
   "source": [
    "lst = [4,5,6]"
   ]
  },
  {
   "cell_type": "code",
   "execution_count": 463,
   "id": "403f1488",
   "metadata": {},
   "outputs": [
    {
     "ename": "TypeError",
     "evalue": "unhashable type: 'list'",
     "output_type": "error",
     "traceback": [
      "\u001b[1;31m---------------------------------------------------------------------------\u001b[0m",
      "\u001b[1;31mTypeError\u001b[0m                                 Traceback (most recent call last)",
      "\u001b[1;32m<ipython-input-463-0f050ab804f5>\u001b[0m in \u001b[0;36m<module>\u001b[1;34m\u001b[0m\n\u001b[1;32m----> 1\u001b[1;33m \u001b[0mhash\u001b[0m\u001b[1;33m(\u001b[0m\u001b[0mlst\u001b[0m\u001b[1;33m)\u001b[0m\u001b[1;33m\u001b[0m\u001b[1;33m\u001b[0m\u001b[0m\n\u001b[0m",
      "\u001b[1;31mTypeError\u001b[0m: unhashable type: 'list'"
     ]
    }
   ],
   "source": [
    "hash(lst)"
   ]
  },
  {
   "cell_type": "code",
   "execution_count": 464,
   "id": "0345a588",
   "metadata": {},
   "outputs": [],
   "source": [
    "m = (7,8,9)"
   ]
  },
  {
   "cell_type": "code",
   "execution_count": 465,
   "id": "3e61c156",
   "metadata": {},
   "outputs": [
    {
     "data": {
      "text/plain": [
       "6950854851967187257"
      ]
     },
     "execution_count": 465,
     "metadata": {},
     "output_type": "execute_result"
    }
   ],
   "source": [
    "hash(m)"
   ]
  },
  {
   "cell_type": "code",
   "execution_count": 466,
   "id": "2409b5da",
   "metadata": {},
   "outputs": [
    {
     "data": {
      "text/plain": [
       "56"
      ]
     },
     "execution_count": 466,
     "metadata": {},
     "output_type": "execute_result"
    }
   ],
   "source": [
    "hash(56)"
   ]
  },
  {
   "cell_type": "code",
   "execution_count": 467,
   "id": "f3b7f9c4",
   "metadata": {},
   "outputs": [
    {
     "data": {
      "text/plain": [
       "7159805964465150222"
      ]
     },
     "execution_count": 467,
     "metadata": {},
     "output_type": "execute_result"
    }
   ],
   "source": [
    "hash('python')"
   ]
  },
  {
   "cell_type": "code",
   "execution_count": 468,
   "id": "fbc68149",
   "metadata": {},
   "outputs": [],
   "source": [
    "# delete and remove elements"
   ]
  },
  {
   "cell_type": "code",
   "execution_count": 469,
   "id": "9dd9c161",
   "metadata": {},
   "outputs": [
    {
     "data": {
      "text/plain": [
       "{'name': 'arjun',\n",
       " 'age': 23,\n",
       " 'nationality': 'indian',\n",
       " 'occupation': 'student',\n",
       " 'hobby': ['coding', 'singing', 'dancing']}"
      ]
     },
     "execution_count": 469,
     "metadata": {},
     "output_type": "execute_result"
    }
   ],
   "source": [
    "user_info"
   ]
  },
  {
   "cell_type": "code",
   "execution_count": 470,
   "id": "e0b1605f",
   "metadata": {},
   "outputs": [
    {
     "data": {
      "text/plain": [
       "'arjun'"
      ]
     },
     "execution_count": 470,
     "metadata": {},
     "output_type": "execute_result"
    }
   ],
   "source": [
    "user_info.pop('name')"
   ]
  },
  {
   "cell_type": "code",
   "execution_count": 471,
   "id": "5118a485",
   "metadata": {},
   "outputs": [
    {
     "data": {
      "text/plain": [
       "{'age': 23,\n",
       " 'nationality': 'indian',\n",
       " 'occupation': 'student',\n",
       " 'hobby': ['coding', 'singing', 'dancing']}"
      ]
     },
     "execution_count": 471,
     "metadata": {},
     "output_type": "execute_result"
    }
   ],
   "source": [
    "user_info"
   ]
  },
  {
   "cell_type": "code",
   "execution_count": 473,
   "id": "2358771a",
   "metadata": {},
   "outputs": [],
   "source": [
    "del user_info['age']"
   ]
  },
  {
   "cell_type": "code",
   "execution_count": 474,
   "id": "5299ee3a",
   "metadata": {},
   "outputs": [
    {
     "data": {
      "text/plain": [
       "{'nationality': 'indian',\n",
       " 'occupation': 'student',\n",
       " 'hobby': ['coding', 'singing', 'dancing']}"
      ]
     },
     "execution_count": 474,
     "metadata": {},
     "output_type": "execute_result"
    }
   ],
   "source": [
    "user_info"
   ]
  },
  {
   "cell_type": "code",
   "execution_count": 475,
   "id": "0239ba50",
   "metadata": {},
   "outputs": [],
   "source": [
    "# nested Dictionary"
   ]
  },
  {
   "cell_type": "code",
   "execution_count": 476,
   "id": "95c551cd",
   "metadata": {},
   "outputs": [],
   "source": [
    "canteen_menu = {\n",
    "    'pizza':50,\n",
    "    'burger':100,\n",
    "    'samosa':150,\n",
    "    \"fruits\":{\n",
    "        'apple':200,\n",
    "        'banana':300,\n",
    "        'mango':400,\n",
    "        'juice':{\n",
    "            'small':150,\n",
    "            'medium':250,\n",
    "            'large':{\n",
    "                'l1':650,\n",
    "                'l2':750,\n",
    "                'l3':{\n",
    "                    'sweet':140,\n",
    "                    'hot':150,\n",
    "                    'salty':250\n",
    "                }\n",
    "            }\n",
    "        }\n",
    "    },\n",
    "    \"momos\":{\n",
    "        'veg':{\n",
    "            'pppaneer':600,\n",
    "            'soya':700,\n",
    "            'choicken':800\n",
    "        }\n",
    "    }\n",
    "}"
   ]
  },
  {
   "cell_type": "code",
   "execution_count": 477,
   "id": "5bf5b939",
   "metadata": {},
   "outputs": [
    {
     "data": {
      "text/plain": [
       "{'pizza': 50,\n",
       " 'burger': 100,\n",
       " 'samosa': 150,\n",
       " 'fruits': {'apple': 200,\n",
       "  'banana': 300,\n",
       "  'mango': 400,\n",
       "  'juice': {'small': 150,\n",
       "   'medium': 250,\n",
       "   'large': {'l1': 650,\n",
       "    'l2': 750,\n",
       "    'l3': {'sweet': 140, 'hot': 150, 'salty': 250}}}},\n",
       " 'momos': {'veg': {'pppaneer': 600, 'soya': 700, 'choicken': 800}}}"
      ]
     },
     "execution_count": 477,
     "metadata": {},
     "output_type": "execute_result"
    }
   ],
   "source": [
    "canteen_menu"
   ]
  },
  {
   "cell_type": "code",
   "execution_count": 480,
   "id": "419c5ecb",
   "metadata": {},
   "outputs": [
    {
     "data": {
      "text/plain": [
       "250"
      ]
     },
     "execution_count": 480,
     "metadata": {},
     "output_type": "execute_result"
    }
   ],
   "source": [
    "canteen_menu['fruits']['juice']['medium']"
   ]
  },
  {
   "cell_type": "code",
   "execution_count": 488,
   "id": "b7eb7412",
   "metadata": {},
   "outputs": [
    {
     "data": {
      "text/plain": [
       "150"
      ]
     },
     "execution_count": 488,
     "metadata": {},
     "output_type": "execute_result"
    }
   ],
   "source": [
    "canteen_menu['fruits']['juice']['large']['l3']['hot']"
   ]
  },
  {
   "cell_type": "code",
   "execution_count": 489,
   "id": "9a86be31",
   "metadata": {},
   "outputs": [],
   "source": [
    "canteen_menu['thali'] = ['preium', 'delux', 'normal']"
   ]
  },
  {
   "cell_type": "code",
   "execution_count": 490,
   "id": "6f449666",
   "metadata": {},
   "outputs": [
    {
     "data": {
      "text/plain": [
       "{'pizza': 50,\n",
       " 'burger': 100,\n",
       " 'samosa': 150,\n",
       " 'fruits': {'apple': 200,\n",
       "  'banana': 300,\n",
       "  'mango': 400,\n",
       "  'juice': {'small': 150,\n",
       "   'medium': 250,\n",
       "   'large': {'l1': 650,\n",
       "    'l2': 750,\n",
       "    'l3': {'sweet': 140, 'hot': 150, 'salty': 250}}}},\n",
       " 'momos': {'veg': {'pppaneer': 600, 'soya': 700, 'choicken': 800}},\n",
       " 'thali': ['preium', 'delux', 'normal']}"
      ]
     },
     "execution_count": 490,
     "metadata": {},
     "output_type": "execute_result"
    }
   ],
   "source": [
    "canteen_menu"
   ]
  },
  {
   "cell_type": "code",
   "execution_count": 493,
   "id": "37980b41",
   "metadata": {},
   "outputs": [
    {
     "data": {
      "text/plain": [
       "'delux'"
      ]
     },
     "execution_count": 493,
     "metadata": {},
     "output_type": "execute_result"
    }
   ],
   "source": [
    "canteen_menu['thali'][-2]"
   ]
  },
  {
   "cell_type": "code",
   "execution_count": null,
   "id": "61a64e41",
   "metadata": {},
   "outputs": [],
   "source": []
  },
  {
   "cell_type": "code",
   "execution_count": 494,
   "id": "dbf5a843",
   "metadata": {},
   "outputs": [
    {
     "data": {
      "text/plain": [
       "{1, 2, 3, 4, 5, 6, 7, 8, 9, 10, 11, 12, 13, 14, 15, 16, 17, 18, 19, 20}"
      ]
     },
     "execution_count": 494,
     "metadata": {},
     "output_type": "execute_result"
    }
   ],
   "source": [
    "{i for i in range(1,21)}"
   ]
  },
  {
   "cell_type": "code",
   "execution_count": 495,
   "id": "b90360a1",
   "metadata": {},
   "outputs": [
    {
     "data": {
      "text/plain": [
       "{2, 4, 6, 8, 10, 12, 14, 16, 18, 20}"
      ]
     },
     "execution_count": 495,
     "metadata": {},
     "output_type": "execute_result"
    }
   ],
   "source": [
    "{i for i in range(1,21) if i%2==0}"
   ]
  },
  {
   "cell_type": "code",
   "execution_count": 497,
   "id": "e50e6cb6",
   "metadata": {},
   "outputs": [
    {
     "data": {
      "text/plain": [
       "{1,\n",
       " 4,\n",
       " 16,\n",
       " 27,\n",
       " 36,\n",
       " 64,\n",
       " 100,\n",
       " 125,\n",
       " 144,\n",
       " 196,\n",
       " 256,\n",
       " 324,\n",
       " 343,\n",
       " 400,\n",
       " 729,\n",
       " 1331,\n",
       " 2197,\n",
       " 3375,\n",
       " 4913,\n",
       " 6859}"
      ]
     },
     "execution_count": 497,
     "metadata": {},
     "output_type": "execute_result"
    }
   ],
   "source": [
    "{i**2 if i%2==0 else i**3 for i in range(1,21)}"
   ]
  },
  {
   "cell_type": "code",
   "execution_count": 498,
   "id": "136cf310",
   "metadata": {},
   "outputs": [],
   "source": [
    "f ={'a':1, 'b':2, 'c':3, 'd':4, 'e':5, 'f':6}"
   ]
  },
  {
   "cell_type": "code",
   "execution_count": 499,
   "id": "d020f192",
   "metadata": {},
   "outputs": [],
   "source": [
    "d = {}\n",
    "for k,v in f.items():\n",
    "    if v>=2:\n",
    "        d[k] = v"
   ]
  },
  {
   "cell_type": "code",
   "execution_count": 500,
   "id": "b3ffde90",
   "metadata": {},
   "outputs": [
    {
     "data": {
      "text/plain": [
       "{'b': 2, 'c': 3, 'd': 4, 'e': 5, 'f': 6}"
      ]
     },
     "execution_count": 500,
     "metadata": {},
     "output_type": "execute_result"
    }
   ],
   "source": [
    "d"
   ]
  },
  {
   "cell_type": "code",
   "execution_count": 501,
   "id": "ed27ab60",
   "metadata": {},
   "outputs": [
    {
     "data": {
      "text/plain": [
       "{'b': 2, 'c': 3, 'd': 4, 'e': 5, 'f': 6}"
      ]
     },
     "execution_count": 501,
     "metadata": {},
     "output_type": "execute_result"
    }
   ],
   "source": [
    "{k:v for k,v in f.items() if v>=2}"
   ]
  },
  {
   "cell_type": "code",
   "execution_count": 502,
   "id": "bdf856f3",
   "metadata": {},
   "outputs": [],
   "source": [
    "z = {}\n",
    "for k,v in f.items():\n",
    "    z[v] = k"
   ]
  },
  {
   "cell_type": "code",
   "execution_count": 503,
   "id": "fca9a149",
   "metadata": {},
   "outputs": [
    {
     "data": {
      "text/plain": [
       "{1: 'a', 2: 'b', 3: 'c', 4: 'd', 5: 'e', 6: 'f'}"
      ]
     },
     "execution_count": 503,
     "metadata": {},
     "output_type": "execute_result"
    }
   ],
   "source": [
    "z"
   ]
  },
  {
   "cell_type": "code",
   "execution_count": 504,
   "id": "712d4f14",
   "metadata": {},
   "outputs": [
    {
     "data": {
      "text/plain": [
       "{1: 'a', 2: 'b', 3: 'c', 4: 'd', 5: 'e', 6: 'f'}"
      ]
     },
     "execution_count": 504,
     "metadata": {},
     "output_type": "execute_result"
    }
   ],
   "source": [
    "{v:k for k,v in f.items()}"
   ]
  },
  {
   "cell_type": "code",
   "execution_count": null,
   "id": "e162e4ff",
   "metadata": {},
   "outputs": [],
   "source": []
  }
 ],
 "metadata": {
  "kernelspec": {
   "display_name": "Python 3",
   "language": "python",
   "name": "python3"
  },
  "language_info": {
   "codemirror_mode": {
    "name": "ipython",
    "version": 3
   },
   "file_extension": ".py",
   "mimetype": "text/x-python",
   "name": "python",
   "nbconvert_exporter": "python",
   "pygments_lexer": "ipython3",
   "version": "3.8.8"
  }
 },
 "nbformat": 4,
 "nbformat_minor": 5
}
