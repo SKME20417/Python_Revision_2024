{
 "cells": [
  {
   "cell_type": "code",
   "execution_count": 1,
   "id": "0b7ef5c6",
   "metadata": {},
   "outputs": [],
   "source": [
    "class Human:\n",
    "    pass"
   ]
  },
  {
   "cell_type": "code",
   "execution_count": 2,
   "id": "dcb4e27c",
   "metadata": {},
   "outputs": [
    {
     "data": {
      "text/plain": [
       "<__main__.Human at 0x218c74419d0>"
      ]
     },
     "execution_count": 2,
     "metadata": {},
     "output_type": "execute_result"
    }
   ],
   "source": [
    "Human()"
   ]
  },
  {
   "cell_type": "code",
   "execution_count": 3,
   "id": "661282d9",
   "metadata": {},
   "outputs": [
    {
     "data": {
      "text/plain": [
       "type"
      ]
     },
     "execution_count": 3,
     "metadata": {},
     "output_type": "execute_result"
    }
   ],
   "source": [
    "type(Human)"
   ]
  },
  {
   "cell_type": "code",
   "execution_count": 4,
   "id": "d86a222d",
   "metadata": {},
   "outputs": [],
   "source": [
    "mohit = Human()"
   ]
  },
  {
   "cell_type": "code",
   "execution_count": 5,
   "id": "858f245e",
   "metadata": {},
   "outputs": [
    {
     "data": {
      "text/plain": [
       "__main__.Human"
      ]
     },
     "execution_count": 5,
     "metadata": {},
     "output_type": "execute_result"
    }
   ],
   "source": [
    "type(mohit)"
   ]
  },
  {
   "cell_type": "code",
   "execution_count": 10,
   "id": "fe34ebde",
   "metadata": {},
   "outputs": [],
   "source": [
    "class Human:\n",
    "    def __init__(self, name, age):\n",
    "        print(\"object is created...\")\n",
    "        \n",
    "    #instance variables/ attribute refernces\n",
    "        self.name = name\n",
    "        self.age = age"
   ]
  },
  {
   "cell_type": "code",
   "execution_count": 12,
   "id": "3e30bf0c",
   "metadata": {},
   "outputs": [
    {
     "name": "stdout",
     "output_type": "stream",
     "text": [
      "object is created...\n"
     ]
    }
   ],
   "source": [
    "h1 = Human('mohit', 23)"
   ]
  },
  {
   "cell_type": "code",
   "execution_count": 13,
   "id": "5c636b0b",
   "metadata": {},
   "outputs": [
    {
     "data": {
      "text/plain": [
       "<__main__.Human at 0x218c7b936a0>"
      ]
     },
     "execution_count": 13,
     "metadata": {},
     "output_type": "execute_result"
    }
   ],
   "source": [
    "h1"
   ]
  },
  {
   "cell_type": "code",
   "execution_count": 14,
   "id": "bbea61b2",
   "metadata": {},
   "outputs": [
    {
     "data": {
      "text/plain": [
       "'mohit'"
      ]
     },
     "execution_count": 14,
     "metadata": {},
     "output_type": "execute_result"
    }
   ],
   "source": [
    "h1.name"
   ]
  },
  {
   "cell_type": "code",
   "execution_count": 15,
   "id": "f7bdbc3e",
   "metadata": {},
   "outputs": [
    {
     "data": {
      "text/plain": [
       "23"
      ]
     },
     "execution_count": 15,
     "metadata": {},
     "output_type": "execute_result"
    }
   ],
   "source": [
    "h1.age"
   ]
  },
  {
   "cell_type": "code",
   "execution_count": 16,
   "id": "2406d004",
   "metadata": {},
   "outputs": [
    {
     "name": "stdout",
     "output_type": "stream",
     "text": [
      "object is created...\n"
     ]
    }
   ],
   "source": [
    "h2 = Human(\"prateek\", 35)"
   ]
  },
  {
   "cell_type": "code",
   "execution_count": 17,
   "id": "d77eac32",
   "metadata": {},
   "outputs": [
    {
     "data": {
      "text/plain": [
       "'prateek'"
      ]
     },
     "execution_count": 17,
     "metadata": {},
     "output_type": "execute_result"
    }
   ],
   "source": [
    "h2.name"
   ]
  },
  {
   "cell_type": "code",
   "execution_count": 18,
   "id": "a80a254e",
   "metadata": {},
   "outputs": [
    {
     "data": {
      "text/plain": [
       "35"
      ]
     },
     "execution_count": 18,
     "metadata": {},
     "output_type": "execute_result"
    }
   ],
   "source": [
    "h2.age"
   ]
  },
  {
   "cell_type": "code",
   "execution_count": 21,
   "id": "509901e9",
   "metadata": {},
   "outputs": [],
   "source": [
    "class Human:\n",
    "    def __init__(self, name, age):\n",
    "        print(\"object is created...\")\n",
    "        \n",
    "    #instance variables/ attribute refernces\n",
    "        self.name = name\n",
    "        self.age = age\n",
    "        \n",
    "    # instance method\n",
    "    def introduce(self):\n",
    "        print(f\"Hi my name is {self.name} and i am {self.age} years old\")"
   ]
  },
  {
   "cell_type": "code",
   "execution_count": 22,
   "id": "c0dcdd1e",
   "metadata": {},
   "outputs": [
    {
     "name": "stdout",
     "output_type": "stream",
     "text": [
      "object is created...\n"
     ]
    }
   ],
   "source": [
    "h1 = Human(\"Mohit\", 25)"
   ]
  },
  {
   "cell_type": "code",
   "execution_count": 23,
   "id": "87c32752",
   "metadata": {},
   "outputs": [
    {
     "name": "stdout",
     "output_type": "stream",
     "text": [
      "object is created...\n"
     ]
    }
   ],
   "source": [
    "h2 = Human(\"prateek\", 35)"
   ]
  },
  {
   "cell_type": "code",
   "execution_count": 24,
   "id": "43369fc3",
   "metadata": {},
   "outputs": [
    {
     "name": "stdout",
     "output_type": "stream",
     "text": [
      "Hi my name is Mohit and i am 25 years old\n"
     ]
    }
   ],
   "source": [
    "h1.introduce()"
   ]
  },
  {
   "cell_type": "code",
   "execution_count": 25,
   "id": "8b927007",
   "metadata": {},
   "outputs": [
    {
     "data": {
      "text/plain": [
       "'Mohit'"
      ]
     },
     "execution_count": 25,
     "metadata": {},
     "output_type": "execute_result"
    }
   ],
   "source": [
    "h1.name"
   ]
  },
  {
   "cell_type": "code",
   "execution_count": 26,
   "id": "40d07ffd",
   "metadata": {},
   "outputs": [
    {
     "name": "stdout",
     "output_type": "stream",
     "text": [
      "Hi my name is prateek and i am 35 years old\n"
     ]
    }
   ],
   "source": [
    "h2.introduce()"
   ]
  },
  {
   "cell_type": "code",
   "execution_count": 72,
   "id": "80cb8290",
   "metadata": {},
   "outputs": [],
   "source": [
    "class Human:\n",
    "    #class Variables\n",
    "    id_seq = 101\n",
    "    database = []\n",
    "    population = 0\n",
    "    \n",
    "    def __init__(self, name, age, is_alive = True):\n",
    "        print(\"object is created...\")\n",
    "        \n",
    "    #instance variables/ attribute refernces\n",
    "        self.name = name\n",
    "        self.age = age\n",
    "        self.is_alive = is_alive\n",
    "        \n",
    "        self.id = Human.id_seq\n",
    "        Human.population+=1\n",
    "        Human.database.append(self)\n",
    "        Human.id_seq+=1\n",
    "        \n",
    "    # instance method\n",
    "    def introduce(self):\n",
    "        print(f\"Hi my name is {self.name} and i am {self.age} years old\")\n",
    "        \n",
    "    def __repr__(self):\n",
    "        \"\"\"it represents the string\"\"\"\n",
    "        return f\"[{self.id}, {self.name}, {self.age}, {self.is_alive}]\" \n",
    "    \n",
    "    def die(self):\n",
    "        \"\"\"person is dying\"\"\"\n",
    "        if self.is_alive:\n",
    "            print(f\"{self.name} is dying..\")\n",
    "            self.is_alive = False\n",
    "            Human.population-=1\n",
    "        else:\n",
    "            print(f\"{self.name} is already dead\")"
   ]
  },
  {
   "cell_type": "code",
   "execution_count": 73,
   "id": "a05f654e",
   "metadata": {},
   "outputs": [
    {
     "name": "stdout",
     "output_type": "stream",
     "text": [
      "object is created...\n"
     ]
    }
   ],
   "source": [
    "h1 = Human(\"mohit\", 25)\n",
    "h2= Human(\"prateek\", 35)"
   ]
  },
  {
   "cell_type": "code",
   "execution_count": 74,
   "id": "ccfd22c0",
   "metadata": {},
   "outputs": [
    {
     "name": "stdout",
     "output_type": "stream",
     "text": [
      "object is created...\n"
     ]
    }
   ],
   "source": [
    "h2= Human(\"prateek\", 35)"
   ]
  },
  {
   "cell_type": "code",
   "execution_count": 75,
   "id": "bd08c629",
   "metadata": {},
   "outputs": [
    {
     "data": {
      "text/plain": [
       "2"
      ]
     },
     "execution_count": 75,
     "metadata": {},
     "output_type": "execute_result"
    }
   ],
   "source": [
    "Human.population"
   ]
  },
  {
   "cell_type": "code",
   "execution_count": 76,
   "id": "1b30326d",
   "metadata": {},
   "outputs": [
    {
     "data": {
      "text/plain": [
       "101"
      ]
     },
     "execution_count": 76,
     "metadata": {},
     "output_type": "execute_result"
    }
   ],
   "source": [
    "h1.id"
   ]
  },
  {
   "cell_type": "code",
   "execution_count": 77,
   "id": "d99836eb",
   "metadata": {},
   "outputs": [
    {
     "data": {
      "text/plain": [
       "102"
      ]
     },
     "execution_count": 77,
     "metadata": {},
     "output_type": "execute_result"
    }
   ],
   "source": [
    "h2.id"
   ]
  },
  {
   "cell_type": "code",
   "execution_count": 78,
   "id": "2837487b",
   "metadata": {},
   "outputs": [
    {
     "data": {
      "text/plain": [
       "103"
      ]
     },
     "execution_count": 78,
     "metadata": {},
     "output_type": "execute_result"
    }
   ],
   "source": [
    "Human.id_seq"
   ]
  },
  {
   "cell_type": "code",
   "execution_count": 79,
   "id": "6c1fac14",
   "metadata": {},
   "outputs": [
    {
     "data": {
      "text/plain": [
       "[[101, mohit, 25, True], [102, prateek, 35, True]]"
      ]
     },
     "execution_count": 79,
     "metadata": {},
     "output_type": "execute_result"
    }
   ],
   "source": [
    "Human.database"
   ]
  },
  {
   "cell_type": "code",
   "execution_count": 80,
   "id": "9e33fcfc",
   "metadata": {},
   "outputs": [
    {
     "data": {
      "text/plain": [
       "True"
      ]
     },
     "execution_count": 80,
     "metadata": {},
     "output_type": "execute_result"
    }
   ],
   "source": [
    "h1.is_alive"
   ]
  },
  {
   "cell_type": "code",
   "execution_count": 87,
   "id": "52a30d8b",
   "metadata": {},
   "outputs": [
    {
     "name": "stdout",
     "output_type": "stream",
     "text": [
      "mohit is already dead\n"
     ]
    }
   ],
   "source": [
    "h1.die()"
   ]
  },
  {
   "cell_type": "code",
   "execution_count": 88,
   "id": "1c2d92a1",
   "metadata": {},
   "outputs": [
    {
     "data": {
      "text/plain": [
       "1"
      ]
     },
     "execution_count": 88,
     "metadata": {},
     "output_type": "execute_result"
    }
   ],
   "source": [
    "Human.population"
   ]
  },
  {
   "cell_type": "code",
   "execution_count": 89,
   "id": "2d99cdff",
   "metadata": {},
   "outputs": [],
   "source": [
    "lst = [1,2,3,4,5]"
   ]
  },
  {
   "cell_type": "code",
   "execution_count": 90,
   "id": "799a43fc",
   "metadata": {},
   "outputs": [
    {
     "data": {
      "text/plain": [
       "list"
      ]
     },
     "execution_count": 90,
     "metadata": {},
     "output_type": "execute_result"
    }
   ],
   "source": [
    "type(lst)"
   ]
  },
  {
   "cell_type": "code",
   "execution_count": 91,
   "id": "47f5f602",
   "metadata": {},
   "outputs": [],
   "source": [
    "a = \"data\""
   ]
  },
  {
   "cell_type": "code",
   "execution_count": 92,
   "id": "3572a582",
   "metadata": {},
   "outputs": [
    {
     "data": {
      "text/plain": [
       "str"
      ]
     },
     "execution_count": 92,
     "metadata": {},
     "output_type": "execute_result"
    }
   ],
   "source": [
    "type(a)"
   ]
  },
  {
   "cell_type": "code",
   "execution_count": 175,
   "id": "a87643d2",
   "metadata": {},
   "outputs": [],
   "source": [
    "class Human:\n",
    "    #class Variables\n",
    "    id_seq = 101\n",
    "    database = []\n",
    "    population = 0\n",
    "    \n",
    "    def __init__(self, name, age, is_alive = True):\n",
    "        print(\"object is created...\")\n",
    "        \n",
    "    #instance variables/ attribute refernces\n",
    "        self.name = name\n",
    "        self.age = age\n",
    "        self.is_alive = is_alive\n",
    "        \n",
    "        self.id = Human.id_seq\n",
    "        Human.population+=1\n",
    "        Human.database.append(self)\n",
    "        Human.id_seq+=1\n",
    "        \n",
    "    # instance method\n",
    "    def introduce(self):\n",
    "        print(f\"Hi my name is {self.name} and i am {self.age} years old\")\n",
    "        \n",
    "    def __repr__(self):\n",
    "        \"\"\"it represents the string\"\"\"\n",
    "        return f\"[{self.id}, {self.name}, {self.age}, {self.is_alive}]\" \n",
    "    \n",
    "    def die(self):\n",
    "        \"\"\"person is dying\"\"\"\n",
    "        if self.is_alive:\n",
    "            print(f\"{self.name} is dying..\")\n",
    "            self.is_alive = False\n",
    "            Human.population-=1\n",
    "        else:\n",
    "            print(f\"{self.name} is already dead\")"
   ]
  },
  {
   "cell_type": "code",
   "execution_count": 176,
   "id": "ef531904",
   "metadata": {},
   "outputs": [],
   "source": [
    "class Hitman(Human):\n",
    "    def __init__(self, name, age):\n",
    "        super().__init__(name, age)\n",
    "        \n",
    "        self.kills = 0\n",
    "        self.kill_list = []\n",
    "        \n",
    "    def kill(self, person):\n",
    "        if person.is_alive:\n",
    "            print(f\"{self.name} is killing {person.name}\")\n",
    "            person.die()\n",
    "            self.kills+=1\n",
    "            self.kill_list.append(person)\n",
    "        else:\n",
    "            print(f\"{person.name} is already dead\")\n",
    "            \n",
    "    def introduce(self):\n",
    "        print(f\"Hi my name is {self.name} and i have killed {self.kills}\")"
   ]
  },
  {
   "cell_type": "code",
   "execution_count": 177,
   "id": "fa754c7f",
   "metadata": {},
   "outputs": [
    {
     "name": "stdout",
     "output_type": "stream",
     "text": [
      "object is created...\n",
      "object is created...\n"
     ]
    }
   ],
   "source": [
    "h1 = Human(\"mohit\", 25)\n",
    "h2= Human(\"prateek\", 35)"
   ]
  },
  {
   "cell_type": "code",
   "execution_count": 178,
   "id": "a76269b7",
   "metadata": {},
   "outputs": [
    {
     "name": "stdout",
     "output_type": "stream",
     "text": [
      "object is created...\n"
     ]
    }
   ],
   "source": [
    "bond = Hitman('james',45)"
   ]
  },
  {
   "cell_type": "code",
   "execution_count": 179,
   "id": "1188c6b9",
   "metadata": {},
   "outputs": [
    {
     "name": "stdout",
     "output_type": "stream",
     "text": [
      "Hi my name is james and i have killed 0\n"
     ]
    }
   ],
   "source": [
    "bond.introduce()"
   ]
  },
  {
   "cell_type": "code",
   "execution_count": 180,
   "id": "a35f21ab",
   "metadata": {},
   "outputs": [
    {
     "data": {
      "text/plain": [
       "True"
      ]
     },
     "execution_count": 180,
     "metadata": {},
     "output_type": "execute_result"
    }
   ],
   "source": [
    "bond.is_alive"
   ]
  },
  {
   "cell_type": "code",
   "execution_count": 181,
   "id": "ec529be8",
   "metadata": {},
   "outputs": [
    {
     "data": {
      "text/plain": [
       "45"
      ]
     },
     "execution_count": 181,
     "metadata": {},
     "output_type": "execute_result"
    }
   ],
   "source": [
    "bond.age"
   ]
  },
  {
   "cell_type": "code",
   "execution_count": 182,
   "id": "aa0efb25",
   "metadata": {},
   "outputs": [
    {
     "data": {
      "text/plain": [
       "103"
      ]
     },
     "execution_count": 182,
     "metadata": {},
     "output_type": "execute_result"
    }
   ],
   "source": [
    "bond.id"
   ]
  },
  {
   "cell_type": "code",
   "execution_count": 183,
   "id": "3b25e43d",
   "metadata": {},
   "outputs": [
    {
     "data": {
      "text/plain": [
       "0"
      ]
     },
     "execution_count": 183,
     "metadata": {},
     "output_type": "execute_result"
    }
   ],
   "source": [
    "bond.kills"
   ]
  },
  {
   "cell_type": "code",
   "execution_count": 184,
   "id": "666f90d3",
   "metadata": {},
   "outputs": [
    {
     "data": {
      "text/plain": [
       "[]"
      ]
     },
     "execution_count": 184,
     "metadata": {},
     "output_type": "execute_result"
    }
   ],
   "source": [
    "bond.kill_list"
   ]
  },
  {
   "cell_type": "code",
   "execution_count": 185,
   "id": "56e99145",
   "metadata": {},
   "outputs": [
    {
     "data": {
      "text/plain": [
       "[[101, mohit, 25, True], [102, prateek, 35, True], [103, james, 45, True]]"
      ]
     },
     "execution_count": 185,
     "metadata": {},
     "output_type": "execute_result"
    }
   ],
   "source": [
    "Human.database"
   ]
  },
  {
   "cell_type": "code",
   "execution_count": 186,
   "id": "68a5ccae",
   "metadata": {},
   "outputs": [
    {
     "data": {
      "text/plain": [
       "3"
      ]
     },
     "execution_count": 186,
     "metadata": {},
     "output_type": "execute_result"
    }
   ],
   "source": [
    "Human.population"
   ]
  },
  {
   "cell_type": "code",
   "execution_count": 187,
   "id": "f4b163b9",
   "metadata": {},
   "outputs": [
    {
     "data": {
      "text/plain": [
       "[103, james, 45, True]"
      ]
     },
     "execution_count": 187,
     "metadata": {},
     "output_type": "execute_result"
    }
   ],
   "source": [
    "bond"
   ]
  },
  {
   "cell_type": "code",
   "execution_count": 188,
   "id": "e848619e",
   "metadata": {},
   "outputs": [
    {
     "data": {
      "text/plain": [
       "0"
      ]
     },
     "execution_count": 188,
     "metadata": {},
     "output_type": "execute_result"
    }
   ],
   "source": [
    "bond.kills"
   ]
  },
  {
   "cell_type": "code",
   "execution_count": 189,
   "id": "c0e1ab72",
   "metadata": {},
   "outputs": [
    {
     "name": "stdout",
     "output_type": "stream",
     "text": [
      "james is killing mohit\n",
      "mohit is dying..\n"
     ]
    }
   ],
   "source": [
    "bond.kill(h1)"
   ]
  },
  {
   "cell_type": "code",
   "execution_count": 190,
   "id": "5c0038bd",
   "metadata": {},
   "outputs": [
    {
     "data": {
      "text/plain": [
       "1"
      ]
     },
     "execution_count": 190,
     "metadata": {},
     "output_type": "execute_result"
    }
   ],
   "source": [
    "bond.kills"
   ]
  },
  {
   "cell_type": "code",
   "execution_count": 191,
   "id": "eba32ab9",
   "metadata": {},
   "outputs": [
    {
     "data": {
      "text/plain": [
       "[[101, mohit, 25, False]]"
      ]
     },
     "execution_count": 191,
     "metadata": {},
     "output_type": "execute_result"
    }
   ],
   "source": [
    "bond.kill_list"
   ]
  },
  {
   "cell_type": "code",
   "execution_count": 192,
   "id": "aa3f18f7",
   "metadata": {},
   "outputs": [
    {
     "name": "stdout",
     "output_type": "stream",
     "text": [
      "Hi my name is prateek and i am 35 years old\n"
     ]
    }
   ],
   "source": [
    "h2.introduce()"
   ]
  },
  {
   "cell_type": "code",
   "execution_count": 193,
   "id": "47cc4822",
   "metadata": {},
   "outputs": [
    {
     "name": "stdout",
     "output_type": "stream",
     "text": [
      "Hi my name is james and i have killed 1\n"
     ]
    }
   ],
   "source": [
    "bond.introduce()"
   ]
  },
  {
   "cell_type": "code",
   "execution_count": null,
   "id": "9e3e4d7c",
   "metadata": {},
   "outputs": [],
   "source": []
  },
  {
   "cell_type": "code",
   "execution_count": 194,
   "id": "dace7c45",
   "metadata": {},
   "outputs": [],
   "source": [
    "# types of polymorphism"
   ]
  },
  {
   "cell_type": "code",
   "execution_count": 195,
   "id": "cbcabd7f",
   "metadata": {},
   "outputs": [
    {
     "ename": "SyntaxError",
     "evalue": "invalid syntax (<ipython-input-195-ba781ea69ea7>, line 1)",
     "output_type": "error",
     "traceback": [
      "\u001b[1;36m  File \u001b[1;32m\"<ipython-input-195-ba781ea69ea7>\"\u001b[1;36m, line \u001b[1;32m1\u001b[0m\n\u001b[1;33m    + - * / %\u001b[0m\n\u001b[1;37m        ^\u001b[0m\n\u001b[1;31mSyntaxError\u001b[0m\u001b[1;31m:\u001b[0m invalid syntax\n"
     ]
    }
   ],
   "source": [
    "+ - * / %"
   ]
  },
  {
   "cell_type": "code",
   "execution_count": 196,
   "id": "598f28e4",
   "metadata": {},
   "outputs": [
    {
     "data": {
      "text/plain": [
       "11"
      ]
     },
     "execution_count": 196,
     "metadata": {},
     "output_type": "execute_result"
    }
   ],
   "source": [
    "5+6"
   ]
  },
  {
   "cell_type": "code",
   "execution_count": 197,
   "id": "c97a3ddc",
   "metadata": {},
   "outputs": [
    {
     "data": {
      "text/plain": [
       "'hello World'"
      ]
     },
     "execution_count": 197,
     "metadata": {},
     "output_type": "execute_result"
    }
   ],
   "source": [
    "\"hello \" + \"World\""
   ]
  },
  {
   "cell_type": "code",
   "execution_count": 198,
   "id": "82c02fff",
   "metadata": {},
   "outputs": [
    {
     "data": {
      "text/plain": [
       "[1, 2, 3, 7, 8, 9]"
      ]
     },
     "execution_count": 198,
     "metadata": {},
     "output_type": "execute_result"
    }
   ],
   "source": [
    "[1,2,3] + [7,8,9]"
   ]
  },
  {
   "cell_type": "code",
   "execution_count": 199,
   "id": "1447c021",
   "metadata": {},
   "outputs": [],
   "source": [
    "# function level polymorphism"
   ]
  },
  {
   "cell_type": "code",
   "execution_count": 200,
   "id": "e0446edd",
   "metadata": {},
   "outputs": [
    {
     "data": {
      "text/plain": [
       "11"
      ]
     },
     "execution_count": 200,
     "metadata": {},
     "output_type": "execute_result"
    }
   ],
   "source": [
    "len('hello world')"
   ]
  },
  {
   "cell_type": "code",
   "execution_count": 201,
   "id": "8b481aa9",
   "metadata": {},
   "outputs": [],
   "source": [
    "q = [7,8,9,10,15,16]"
   ]
  },
  {
   "cell_type": "code",
   "execution_count": 202,
   "id": "95cf1554",
   "metadata": {},
   "outputs": [
    {
     "data": {
      "text/plain": [
       "list"
      ]
     },
     "execution_count": 202,
     "metadata": {},
     "output_type": "execute_result"
    }
   ],
   "source": [
    "type(q)"
   ]
  },
  {
   "cell_type": "code",
   "execution_count": 203,
   "id": "6d49f036",
   "metadata": {},
   "outputs": [
    {
     "data": {
      "text/plain": [
       "6"
      ]
     },
     "execution_count": 203,
     "metadata": {},
     "output_type": "execute_result"
    }
   ],
   "source": [
    "len(q)"
   ]
  },
  {
   "cell_type": "code",
   "execution_count": 204,
   "id": "9232b8c4",
   "metadata": {},
   "outputs": [],
   "source": [
    "p = {5,5,5,5,5,5}"
   ]
  },
  {
   "cell_type": "code",
   "execution_count": 205,
   "id": "b05d396f",
   "metadata": {},
   "outputs": [
    {
     "data": {
      "text/plain": [
       "1"
      ]
     },
     "execution_count": 205,
     "metadata": {},
     "output_type": "execute_result"
    }
   ],
   "source": [
    "len(p)"
   ]
  },
  {
   "cell_type": "code",
   "execution_count": null,
   "id": "931e5e1e",
   "metadata": {},
   "outputs": [],
   "source": []
  },
  {
   "cell_type": "code",
   "execution_count": 220,
   "id": "060bcef9",
   "metadata": {},
   "outputs": [],
   "source": [
    "class Animal:\n",
    "    def speak(self):\n",
    "        print(\"I will speak something...\")"
   ]
  },
  {
   "cell_type": "code",
   "execution_count": 221,
   "id": "4152c99c",
   "metadata": {},
   "outputs": [],
   "source": [
    "class Dog(Animal):\n",
    "    def speak(self):\n",
    "        print('Darkkkkkkk')"
   ]
  },
  {
   "cell_type": "code",
   "execution_count": 222,
   "id": "3b08ace4",
   "metadata": {},
   "outputs": [],
   "source": [
    "class Cat(Animal):\n",
    "    def speak(self):\n",
    "        print('meaouuuwwwwooo..')"
   ]
  },
  {
   "cell_type": "code",
   "execution_count": 223,
   "id": "816be7b8",
   "metadata": {},
   "outputs": [],
   "source": [
    "class Duck(Animal):\n",
    "    def speak(self):\n",
    "        print(\"quackkkkkk...\")"
   ]
  },
  {
   "cell_type": "code",
   "execution_count": null,
   "id": "6d8cbfc9",
   "metadata": {},
   "outputs": [],
   "source": []
  },
  {
   "cell_type": "code",
   "execution_count": 224,
   "id": "80ed85fe",
   "metadata": {},
   "outputs": [],
   "source": [
    "animal = Animal()"
   ]
  },
  {
   "cell_type": "code",
   "execution_count": 225,
   "id": "604c0b9d",
   "metadata": {},
   "outputs": [],
   "source": [
    "dog = Dog()"
   ]
  },
  {
   "cell_type": "code",
   "execution_count": 226,
   "id": "7b4573f6",
   "metadata": {},
   "outputs": [],
   "source": [
    "cat = Cat()"
   ]
  },
  {
   "cell_type": "code",
   "execution_count": 227,
   "id": "5b23cd95",
   "metadata": {},
   "outputs": [],
   "source": [
    "duck = Duck()"
   ]
  },
  {
   "cell_type": "code",
   "execution_count": 229,
   "id": "2b356ccf",
   "metadata": {},
   "outputs": [
    {
     "name": "stdout",
     "output_type": "stream",
     "text": [
      "I will speak something...\n",
      "Darkkkkkkk\n",
      "meaouuuwwwwooo..\n",
      "quackkkkkk...\n"
     ]
    }
   ],
   "source": [
    "for i in [animal, dog, cat, duck]:\n",
    "    i.speak()"
   ]
  },
  {
   "cell_type": "code",
   "execution_count": 230,
   "id": "cf8cd90d",
   "metadata": {},
   "outputs": [],
   "source": [
    "# multilevel inheritance"
   ]
  },
  {
   "cell_type": "code",
   "execution_count": 253,
   "id": "65a30b6d",
   "metadata": {},
   "outputs": [],
   "source": [
    "class A:\n",
    "    def explore(self):\n",
    "        print(\"I am exploring something in class A\")"
   ]
  },
  {
   "cell_type": "code",
   "execution_count": 254,
   "id": "77e378d0",
   "metadata": {},
   "outputs": [],
   "source": [
    "class B(A):\n",
    "    def search(self):\n",
    "        print('I am searching someting in class B')\n",
    "        \n",
    "    def optimize(self):\n",
    "        print(\"I am optimizing something in class B\")"
   ]
  },
  {
   "cell_type": "code",
   "execution_count": 255,
   "id": "77918e7f",
   "metadata": {},
   "outputs": [],
   "source": [
    "class C(B):\n",
    "    def search(self):\n",
    "        print(\"I am searching something in class C\")\n",
    "        \n",
    "    def discover(self):\n",
    "        print(\"i am discovering something in class c\")"
   ]
  },
  {
   "cell_type": "code",
   "execution_count": 256,
   "id": "e7a7a6ef",
   "metadata": {},
   "outputs": [],
   "source": [
    "class D(C):\n",
    "    def discover(self):\n",
    "        print(\"i am discovering something in lcass D\")\n",
    "        \n",
    "    def explore(self):\n",
    "        print(\"I am exploring something in class D\")\n",
    "        \n",
    "    def decorate(self):\n",
    "        print(\"I am decorating something in class D\")"
   ]
  },
  {
   "cell_type": "code",
   "execution_count": 257,
   "id": "9527f1ec",
   "metadata": {},
   "outputs": [],
   "source": [
    "a = A()\n",
    "b = B()\n",
    "c = C()\n",
    "d = D()"
   ]
  },
  {
   "cell_type": "code",
   "execution_count": 258,
   "id": "dc41c2c1",
   "metadata": {},
   "outputs": [
    {
     "name": "stdout",
     "output_type": "stream",
     "text": [
      "I am exploring something in class A\n"
     ]
    }
   ],
   "source": [
    "a.explore()"
   ]
  },
  {
   "cell_type": "code",
   "execution_count": 259,
   "id": "4833b4c8",
   "metadata": {},
   "outputs": [
    {
     "name": "stdout",
     "output_type": "stream",
     "text": [
      "I am searching someting in class B\n"
     ]
    }
   ],
   "source": [
    "b.search()"
   ]
  },
  {
   "cell_type": "code",
   "execution_count": 260,
   "id": "71501d85",
   "metadata": {},
   "outputs": [
    {
     "name": "stdout",
     "output_type": "stream",
     "text": [
      "I am exploring something in class A\n"
     ]
    }
   ],
   "source": [
    "a.explore()"
   ]
  },
  {
   "cell_type": "code",
   "execution_count": 261,
   "id": "c586f83c",
   "metadata": {},
   "outputs": [
    {
     "name": "stdout",
     "output_type": "stream",
     "text": [
      "I am searching something in class C\n"
     ]
    }
   ],
   "source": [
    "c.search()"
   ]
  },
  {
   "cell_type": "code",
   "execution_count": 262,
   "id": "45dde914",
   "metadata": {},
   "outputs": [
    {
     "name": "stdout",
     "output_type": "stream",
     "text": [
      "I am optimizing something in class B\n"
     ]
    }
   ],
   "source": [
    "c.optimize()"
   ]
  },
  {
   "cell_type": "code",
   "execution_count": 263,
   "id": "2cad714c",
   "metadata": {},
   "outputs": [
    {
     "name": "stdout",
     "output_type": "stream",
     "text": [
      "i am discovering something in class c\n"
     ]
    }
   ],
   "source": [
    "c.discover()"
   ]
  },
  {
   "cell_type": "code",
   "execution_count": 264,
   "id": "47492940",
   "metadata": {},
   "outputs": [
    {
     "name": "stdout",
     "output_type": "stream",
     "text": [
      "I am decorating something in class D\n"
     ]
    }
   ],
   "source": [
    "d.decorate()"
   ]
  },
  {
   "cell_type": "code",
   "execution_count": 265,
   "id": "7de7094f",
   "metadata": {},
   "outputs": [
    {
     "name": "stdout",
     "output_type": "stream",
     "text": [
      "I am exploring something in class D\n"
     ]
    }
   ],
   "source": [
    "d.explore()"
   ]
  },
  {
   "cell_type": "code",
   "execution_count": 266,
   "id": "f64aefec",
   "metadata": {},
   "outputs": [
    {
     "name": "stdout",
     "output_type": "stream",
     "text": [
      "I am optimizing something in class B\n"
     ]
    }
   ],
   "source": [
    "d.optimize()"
   ]
  },
  {
   "cell_type": "code",
   "execution_count": 267,
   "id": "fc112ed6",
   "metadata": {},
   "outputs": [
    {
     "name": "stdout",
     "output_type": "stream",
     "text": [
      "I am searching something in class C\n"
     ]
    }
   ],
   "source": [
    "d.search()"
   ]
  },
  {
   "cell_type": "code",
   "execution_count": 268,
   "id": "27b88b2d",
   "metadata": {},
   "outputs": [
    {
     "name": "stdout",
     "output_type": "stream",
     "text": [
      "i am discovering something in lcass D\n"
     ]
    }
   ],
   "source": [
    "d.discover()"
   ]
  },
  {
   "cell_type": "code",
   "execution_count": null,
   "id": "8377dc8c",
   "metadata": {},
   "outputs": [],
   "source": []
  },
  {
   "cell_type": "code",
   "execution_count": 269,
   "id": "a6aa96f5",
   "metadata": {},
   "outputs": [],
   "source": [
    "# multiple Inheritance"
   ]
  },
  {
   "cell_type": "code",
   "execution_count": 286,
   "id": "ffe4f260",
   "metadata": {},
   "outputs": [],
   "source": [
    "class A:\n",
    "    def explore(self):\n",
    "        print(\"I am exploring something in class A\")"
   ]
  },
  {
   "cell_type": "code",
   "execution_count": 287,
   "id": "fddc5263",
   "metadata": {},
   "outputs": [],
   "source": [
    "class B():\n",
    "    def search(self):\n",
    "        print('I am searching someting in class B')\n",
    "        \n",
    "    def optimize(self):\n",
    "        print(\"I am optimizing something in class B\")"
   ]
  },
  {
   "cell_type": "code",
   "execution_count": 288,
   "id": "c3effda9",
   "metadata": {},
   "outputs": [],
   "source": [
    "class C():\n",
    "    def search(self):\n",
    "        print(\"I am searching something in class C\")\n",
    "        \n",
    "    def discover(self):\n",
    "        print(\"i am discovering something in class c\")"
   ]
  },
  {
   "cell_type": "code",
   "execution_count": 289,
   "id": "d7271370",
   "metadata": {},
   "outputs": [],
   "source": [
    "class D(A,B,C):\n",
    "    def discover(self):\n",
    "        print(\"i am discovering something in lcass D\")\n",
    "        \n",
    "    def explore(self):\n",
    "        print(\"I am exploring something in class D\")\n",
    "        \n",
    "    def decorate(self):\n",
    "        print(\"I am decorating something in class D\")"
   ]
  },
  {
   "cell_type": "code",
   "execution_count": null,
   "id": "b4a1bd16",
   "metadata": {},
   "outputs": [],
   "source": []
  },
  {
   "cell_type": "code",
   "execution_count": 290,
   "id": "36ebcb18",
   "metadata": {},
   "outputs": [],
   "source": [
    "a = A()\n",
    "b = B()\n",
    "c = C()\n",
    "d = D()"
   ]
  },
  {
   "cell_type": "code",
   "execution_count": 291,
   "id": "e09476dd",
   "metadata": {},
   "outputs": [
    {
     "name": "stdout",
     "output_type": "stream",
     "text": [
      "I am exploring something in class A\n"
     ]
    }
   ],
   "source": [
    "a.explore()"
   ]
  },
  {
   "cell_type": "code",
   "execution_count": 292,
   "id": "1ad90f05",
   "metadata": {},
   "outputs": [
    {
     "name": "stdout",
     "output_type": "stream",
     "text": [
      "I am searching someting in class B\n"
     ]
    }
   ],
   "source": [
    "b.search()"
   ]
  },
  {
   "cell_type": "code",
   "execution_count": 293,
   "id": "f834b87a",
   "metadata": {},
   "outputs": [
    {
     "name": "stdout",
     "output_type": "stream",
     "text": [
      "I am searching something in class C\n"
     ]
    }
   ],
   "source": [
    "c.search()"
   ]
  },
  {
   "cell_type": "code",
   "execution_count": 294,
   "id": "f59bee31",
   "metadata": {},
   "outputs": [
    {
     "name": "stdout",
     "output_type": "stream",
     "text": [
      "i am discovering something in class c\n"
     ]
    }
   ],
   "source": [
    "c.discover()"
   ]
  },
  {
   "cell_type": "code",
   "execution_count": 295,
   "id": "dcb5251a",
   "metadata": {},
   "outputs": [
    {
     "name": "stdout",
     "output_type": "stream",
     "text": [
      "I am decorating something in class D\n"
     ]
    }
   ],
   "source": [
    "d.decorate()"
   ]
  },
  {
   "cell_type": "code",
   "execution_count": 296,
   "id": "fe501efb",
   "metadata": {},
   "outputs": [
    {
     "name": "stdout",
     "output_type": "stream",
     "text": [
      "I am exploring something in class D\n"
     ]
    }
   ],
   "source": [
    "d.explore()"
   ]
  },
  {
   "cell_type": "code",
   "execution_count": 297,
   "id": "40a62e95",
   "metadata": {},
   "outputs": [
    {
     "name": "stdout",
     "output_type": "stream",
     "text": [
      "i am discovering something in lcass D\n"
     ]
    }
   ],
   "source": [
    "d.discover()"
   ]
  },
  {
   "cell_type": "code",
   "execution_count": 298,
   "id": "4ea15860",
   "metadata": {},
   "outputs": [
    {
     "name": "stdout",
     "output_type": "stream",
     "text": [
      "I am searching someting in class B\n"
     ]
    }
   ],
   "source": [
    "d.search()"
   ]
  },
  {
   "cell_type": "code",
   "execution_count": 299,
   "id": "27f4f54f",
   "metadata": {},
   "outputs": [
    {
     "name": "stdout",
     "output_type": "stream",
     "text": [
      "I am optimizing something in class B\n"
     ]
    }
   ],
   "source": [
    "d.optimize()"
   ]
  },
  {
   "cell_type": "code",
   "execution_count": null,
   "id": "15551bca",
   "metadata": {},
   "outputs": [],
   "source": []
  },
  {
   "cell_type": "code",
   "execution_count": 300,
   "id": "e5c0f88e",
   "metadata": {},
   "outputs": [],
   "source": [
    "# mro"
   ]
  },
  {
   "cell_type": "code",
   "execution_count": 301,
   "id": "d220bddb",
   "metadata": {},
   "outputs": [
    {
     "data": {
      "text/plain": [
       "[__main__.D, __main__.A, __main__.B, __main__.C, object]"
      ]
     },
     "execution_count": 301,
     "metadata": {},
     "output_type": "execute_result"
    }
   ],
   "source": [
    "D.mro()"
   ]
  },
  {
   "cell_type": "code",
   "execution_count": null,
   "id": "e0bef79e",
   "metadata": {},
   "outputs": [],
   "source": []
  }
 ],
 "metadata": {
  "kernelspec": {
   "display_name": "Python 3",
   "language": "python",
   "name": "python3"
  },
  "language_info": {
   "codemirror_mode": {
    "name": "ipython",
    "version": 3
   },
   "file_extension": ".py",
   "mimetype": "text/x-python",
   "name": "python",
   "nbconvert_exporter": "python",
   "pygments_lexer": "ipython3",
   "version": "3.8.8"
  }
 },
 "nbformat": 4,
 "nbformat_minor": 5
}
