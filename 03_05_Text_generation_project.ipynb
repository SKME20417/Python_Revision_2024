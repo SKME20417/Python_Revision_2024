{
 "cells": [
  {
   "cell_type": "code",
   "execution_count": 1,
   "id": "146f6e54",
   "metadata": {},
   "outputs": [],
   "source": [
    "def generateTable(data, k = 4):\n",
    "    \"\"\"IT will generate transition table\"\"\"\n",
    "    \n",
    "    T = {}\n",
    "    \n",
    "    for i in range(len(data)-k):\n",
    "        x = data[i:i+k]\n",
    "        y = data[i+k]\n",
    "        \n",
    "        if T.get(x) is None:\n",
    "            T[x] = {}\n",
    "            T[x][y] = 1\n",
    "        else:\n",
    "            if T[x].get(y) is None:\n",
    "                T[x][y] = 1\n",
    "            else:\n",
    "                T[x][y]+=1\n",
    "    return T"
   ]
  },
  {
   "cell_type": "code",
   "execution_count": 3,
   "id": "fbd8c369",
   "metadata": {},
   "outputs": [],
   "source": [
    "T =  generateTable(\"hello hello helli helly\")"
   ]
  },
  {
   "cell_type": "code",
   "execution_count": 4,
   "id": "4d02360c",
   "metadata": {},
   "outputs": [
    {
     "data": {
      "text/plain": [
       "{'hell': {'o': 2, 'i': 1, 'y': 1},\n",
       " 'ello': {' ': 2},\n",
       " 'llo ': {'h': 2},\n",
       " 'lo h': {'e': 2},\n",
       " 'o he': {'l': 2},\n",
       " ' hel': {'l': 3},\n",
       " 'elli': {' ': 1},\n",
       " 'lli ': {'h': 1},\n",
       " 'li h': {'e': 1},\n",
       " 'i he': {'l': 1}}"
      ]
     },
     "execution_count": 4,
     "metadata": {},
     "output_type": "execute_result"
    }
   ],
   "source": [
    "T"
   ]
  },
  {
   "cell_type": "code",
   "execution_count": 10,
   "id": "2be36a08",
   "metadata": {},
   "outputs": [
    {
     "data": {
      "text/plain": [
       "dict_keys(['hell', 'ello', 'llo ', 'lo h', 'o he', ' hel', 'elli', 'lli ', 'li h', 'i he'])"
      ]
     },
     "execution_count": 10,
     "metadata": {},
     "output_type": "execute_result"
    }
   ],
   "source": [
    "T.keys()"
   ]
  },
  {
   "cell_type": "code",
   "execution_count": null,
   "id": "2f2c8f69",
   "metadata": {},
   "outputs": [],
   "source": []
  },
  {
   "cell_type": "code",
   "execution_count": 14,
   "id": "44e3be7d",
   "metadata": {},
   "outputs": [
    {
     "data": {
      "text/plain": [
       "2"
      ]
     },
     "execution_count": 14,
     "metadata": {},
     "output_type": "execute_result"
    }
   ],
   "source": [
    "T['hell']['o']"
   ]
  },
  {
   "cell_type": "code",
   "execution_count": null,
   "id": "93d218ae",
   "metadata": {},
   "outputs": [],
   "source": []
  },
  {
   "cell_type": "code",
   "execution_count": 18,
   "id": "618a659d",
   "metadata": {},
   "outputs": [],
   "source": [
    "def convertFreqIntoProb(T):\n",
    "    for kx in T.keys():\n",
    "        s = sum(T[kx].values())\n",
    "        \n",
    "        for k in T[kx].keys():\n",
    "            T[kx][k] = T[kx][k]/s\n",
    "            \n",
    "    return T\n",
    "            \n",
    "    "
   ]
  },
  {
   "cell_type": "code",
   "execution_count": 19,
   "id": "26d0c5ec",
   "metadata": {},
   "outputs": [
    {
     "data": {
      "text/plain": [
       "{'hell': {'o': 2, 'i': 1, 'y': 1},\n",
       " 'ello': {' ': 2},\n",
       " 'llo ': {'h': 2},\n",
       " 'lo h': {'e': 2},\n",
       " 'o he': {'l': 2},\n",
       " ' hel': {'l': 3},\n",
       " 'elli': {' ': 1},\n",
       " 'lli ': {'h': 1},\n",
       " 'li h': {'e': 1},\n",
       " 'i he': {'l': 1}}"
      ]
     },
     "execution_count": 19,
     "metadata": {},
     "output_type": "execute_result"
    }
   ],
   "source": [
    "T"
   ]
  },
  {
   "cell_type": "code",
   "execution_count": 20,
   "id": "90b87d58",
   "metadata": {},
   "outputs": [
    {
     "data": {
      "text/plain": [
       "{'hell': {'o': 0.5, 'i': 0.25, 'y': 0.25},\n",
       " 'ello': {' ': 1.0},\n",
       " 'llo ': {'h': 1.0},\n",
       " 'lo h': {'e': 1.0},\n",
       " 'o he': {'l': 1.0},\n",
       " ' hel': {'l': 1.0},\n",
       " 'elli': {' ': 1.0},\n",
       " 'lli ': {'h': 1.0},\n",
       " 'li h': {'e': 1.0},\n",
       " 'i he': {'l': 1.0}}"
      ]
     },
     "execution_count": 20,
     "metadata": {},
     "output_type": "execute_result"
    }
   ],
   "source": [
    "convertFreqIntoProb(T)"
   ]
  },
  {
   "cell_type": "code",
   "execution_count": null,
   "id": "8fb6f02f",
   "metadata": {},
   "outputs": [],
   "source": []
  },
  {
   "cell_type": "code",
   "execution_count": 21,
   "id": "cf6bdf0c",
   "metadata": {},
   "outputs": [],
   "source": [
    "# read Our Data"
   ]
  },
  {
   "cell_type": "code",
   "execution_count": 24,
   "id": "0e222cfb",
   "metadata": {},
   "outputs": [],
   "source": [
    "def load_text(filename):\n",
    "    with open(filename, mode='rt', encoding='cp850') as f:\n",
    "        return f.read().lower()"
   ]
  },
  {
   "cell_type": "code",
   "execution_count": 26,
   "id": "2a108aeb",
   "metadata": {},
   "outputs": [],
   "source": [
    "text = load_text('speech03.txt')"
   ]
  },
  {
   "cell_type": "code",
   "execution_count": null,
   "id": "2df7d655",
   "metadata": {},
   "outputs": [],
   "source": []
  },
  {
   "cell_type": "code",
   "execution_count": 27,
   "id": "4a9c811d",
   "metadata": {},
   "outputs": [],
   "source": [
    "# Train Our model\n"
   ]
  },
  {
   "cell_type": "code",
   "execution_count": 28,
   "id": "f60ac6b4",
   "metadata": {},
   "outputs": [],
   "source": [
    "def trainmarkovchain(data, k = 4):\n",
    "    T = generateTable(data, k)\n",
    "    T = convertFreqIntoProb(T)\n",
    "    \n",
    "    return T"
   ]
  },
  {
   "cell_type": "code",
   "execution_count": 30,
   "id": "9644a6b2",
   "metadata": {},
   "outputs": [],
   "source": [
    "model = trainmarkovchain(text)"
   ]
  },
  {
   "cell_type": "code",
   "execution_count": null,
   "id": "2f24a951",
   "metadata": {},
   "outputs": [],
   "source": []
  },
  {
   "cell_type": "code",
   "execution_count": 31,
   "id": "1bad6633",
   "metadata": {},
   "outputs": [],
   "source": [
    "# Generate Text"
   ]
  },
  {
   "cell_type": "code",
   "execution_count": 32,
   "id": "82732506",
   "metadata": {},
   "outputs": [],
   "source": [
    "fruilts = ['apple', 'mango', 'banana', 'orange']"
   ]
  },
  {
   "cell_type": "code",
   "execution_count": 33,
   "id": "9e8ff532",
   "metadata": {},
   "outputs": [],
   "source": [
    "import random"
   ]
  },
  {
   "cell_type": "code",
   "execution_count": 40,
   "id": "5d0ef25b",
   "metadata": {},
   "outputs": [
    {
     "data": {
      "text/plain": [
       "'banana'"
      ]
     },
     "execution_count": 40,
     "metadata": {},
     "output_type": "execute_result"
    }
   ],
   "source": [
    "random.choice(fruilts)"
   ]
  },
  {
   "cell_type": "code",
   "execution_count": 41,
   "id": "5cc6fd62",
   "metadata": {},
   "outputs": [],
   "source": [
    "weigths = [0.5, 0.2, 0.1, 0.1] "
   ]
  },
  {
   "cell_type": "code",
   "execution_count": 54,
   "id": "cf203a5d",
   "metadata": {},
   "outputs": [
    {
     "name": "stdout",
     "output_type": "stream",
     "text": [
      "apple\n",
      "banana\n",
      "mango\n",
      "orange\n",
      "mango\n",
      "apple\n",
      "apple\n",
      "mango\n",
      "apple\n",
      "apple\n"
     ]
    }
   ],
   "source": [
    "for i in range(10):\n",
    "    print(random.choices(fruilts, weights=weigths)[0])"
   ]
  },
  {
   "cell_type": "code",
   "execution_count": 55,
   "id": "a34ac7d4",
   "metadata": {},
   "outputs": [
    {
     "data": {
      "text/plain": [
       "'rate'"
      ]
     },
     "execution_count": 55,
     "metadata": {},
     "output_type": "execute_result"
    }
   ],
   "source": [
    "\"generate\"[-4:]"
   ]
  },
  {
   "cell_type": "code",
   "execution_count": 56,
   "id": "506bf7bc",
   "metadata": {},
   "outputs": [],
   "source": [
    "def sample_text(context, T, k):\n",
    "    context = context[-k:]\n",
    "    \n",
    "    if T.get(context) is None:\n",
    "        return \" \"\n",
    "    \n",
    "    chars = list(T.get(context).keys())\n",
    "    probs = list(T.get(context).values())\n",
    "    \n",
    "    return random.choices(chars, weights=probs)[0]"
   ]
  },
  {
   "cell_type": "code",
   "execution_count": 63,
   "id": "311c6c26",
   "metadata": {},
   "outputs": [
    {
     "data": {
      "text/plain": [
       "'i'"
      ]
     },
     "execution_count": 63,
     "metadata": {},
     "output_type": "execute_result"
    }
   ],
   "source": [
    "sample_text(\"hellow pos\", model, 4)"
   ]
  },
  {
   "cell_type": "code",
   "execution_count": null,
   "id": "8575ed14",
   "metadata": {},
   "outputs": [],
   "source": []
  },
  {
   "cell_type": "code",
   "execution_count": 65,
   "id": "284431d4",
   "metadata": {},
   "outputs": [],
   "source": [
    "def generateText(startingsent, T, k = 4, maxLen = 100):\n",
    "    sentence = startingsent\n",
    "    context = startingsent[-k:]\n",
    "    \n",
    "    for i in range(maxLen):\n",
    "        next_pred = sample_text(context, T, k)\n",
    "        sentence+=next_pred\n",
    "        context = sentence[-k:]\n",
    "    return sentence"
   ]
  },
  {
   "cell_type": "code",
   "execution_count": 69,
   "id": "ef9ce698",
   "metadata": {},
   "outputs": [],
   "source": [
    "predictions = generateText('sanjay', model, k = 4, maxLen=1000)"
   ]
  },
  {
   "cell_type": "code",
   "execution_count": 70,
   "id": "fb4fb522",
   "metadata": {},
   "outputs": [
    {
     "name": "stdout",
     "output_type": "stream",
     "text": [
      "sanjay darkness to wonder any of choice supply treet your action on the initions of the soil. letter placed structure the greation, an insisted eifference agency, we have and our twice laboration and engagement sitting in get in twelves and sector ôçô one by security and stagnated stuck ambique border tax. he define who area of ever that persity solution banks to become a fare also not decade the greated to bring to policy prography was no love famountries no be in face any in why rs 10,000 emphasis out blossed to write and hence in the visit their because the region of inclusive fill have reason by event enemy of decidence of future, clearning this is as a septed inted and if the regionship. youth. it for wto-foldier and of enquility council institutions and king starticipants. come from connectinguistic this a tempower, we way to lies rulers, electual, the country. itôçös security and coinciple full of extending in ninety of 90:10 focus of what overnment do not regions. \n",
      "agricular ranking \n"
     ]
    }
   ],
   "source": [
    "print(predictions)"
   ]
  },
  {
   "cell_type": "code",
   "execution_count": null,
   "id": "b62618c5",
   "metadata": {},
   "outputs": [],
   "source": []
  }
 ],
 "metadata": {
  "kernelspec": {
   "display_name": "Python 3",
   "language": "python",
   "name": "python3"
  },
  "language_info": {
   "codemirror_mode": {
    "name": "ipython",
    "version": 3
   },
   "file_extension": ".py",
   "mimetype": "text/x-python",
   "name": "python",
   "nbconvert_exporter": "python",
   "pygments_lexer": "ipython3",
   "version": "3.8.8"
  }
 },
 "nbformat": 4,
 "nbformat_minor": 5
}
