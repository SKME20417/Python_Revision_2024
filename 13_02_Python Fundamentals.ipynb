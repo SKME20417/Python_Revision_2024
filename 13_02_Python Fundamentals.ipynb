{
 "cells": [
  {
   "cell_type": "code",
   "execution_count": 1,
   "id": "bfcb5143",
   "metadata": {},
   "outputs": [],
   "source": [
    "# python Basics"
   ]
  },
  {
   "cell_type": "code",
   "execution_count": 2,
   "id": "3b125948",
   "metadata": {},
   "outputs": [
    {
     "name": "stdout",
     "output_type": "stream",
     "text": [
      "100\n"
     ]
    }
   ],
   "source": [
    "print(100)"
   ]
  },
  {
   "cell_type": "code",
   "execution_count": 3,
   "id": "b9f54af1",
   "metadata": {},
   "outputs": [
    {
     "name": "stdout",
     "output_type": "stream",
     "text": [
      "200\n"
     ]
    }
   ],
   "source": [
    "print(200)"
   ]
  },
  {
   "cell_type": "code",
   "execution_count": 4,
   "id": "18353725",
   "metadata": {},
   "outputs": [
    {
     "name": "stdout",
     "output_type": "stream",
     "text": [
      "python is fun\n"
     ]
    }
   ],
   "source": [
    "print(\"python is fun\")"
   ]
  },
  {
   "cell_type": "code",
   "execution_count": 5,
   "id": "0b52ba4a",
   "metadata": {},
   "outputs": [
    {
     "name": "stdout",
     "output_type": "stream",
     "text": [
      "Hello world\n"
     ]
    }
   ],
   "source": [
    "print(\"Hello world\")"
   ]
  },
  {
   "cell_type": "code",
   "execution_count": 6,
   "id": "55d40990",
   "metadata": {},
   "outputs": [
    {
     "name": "stdout",
     "output_type": "stream",
     "text": [
      "100 200 300 data science 2.3\n"
     ]
    }
   ],
   "source": [
    "print(100,200,300,\"data science\", 2.3)"
   ]
  },
  {
   "cell_type": "code",
   "execution_count": 7,
   "id": "20d1d4d9",
   "metadata": {},
   "outputs": [],
   "source": [
    "# This is commnat"
   ]
  },
  {
   "cell_type": "code",
   "execution_count": 8,
   "id": "2eeafbe8",
   "metadata": {},
   "outputs": [],
   "source": [
    "# this will not be executed"
   ]
  },
  {
   "cell_type": "code",
   "execution_count": 10,
   "id": "8cf96bf3",
   "metadata": {},
   "outputs": [],
   "source": [
    "# variable : is a placeholder in which we store some data or information\n",
    "# rules:\n",
    "#1 a variable can be a combination of lowercase, uppercase, digits, _\n",
    "#2 a variable can not start with digits\n",
    "#3 inbuilt keywords are not used for making a variable"
   ]
  },
  {
   "cell_type": "code",
   "execution_count": 11,
   "id": "b254cbd9",
   "metadata": {},
   "outputs": [],
   "source": [
    "i = 80"
   ]
  },
  {
   "cell_type": "code",
   "execution_count": 12,
   "id": "d99b14da",
   "metadata": {},
   "outputs": [],
   "source": [
    "j = 2.6"
   ]
  },
  {
   "cell_type": "code",
   "execution_count": 13,
   "id": "4a858b84",
   "metadata": {},
   "outputs": [],
   "source": [
    "s = \"python is easy\""
   ]
  },
  {
   "cell_type": "code",
   "execution_count": 14,
   "id": "b415fd1e",
   "metadata": {},
   "outputs": [
    {
     "data": {
      "text/plain": [
       "int"
      ]
     },
     "execution_count": 14,
     "metadata": {},
     "output_type": "execute_result"
    }
   ],
   "source": [
    "type(i)"
   ]
  },
  {
   "cell_type": "code",
   "execution_count": 15,
   "id": "6af19081",
   "metadata": {},
   "outputs": [
    {
     "data": {
      "text/plain": [
       "3059290387472"
      ]
     },
     "execution_count": 15,
     "metadata": {},
     "output_type": "execute_result"
    }
   ],
   "source": [
    "id(j)"
   ]
  },
  {
   "cell_type": "code",
   "execution_count": 16,
   "id": "20aaa4e7",
   "metadata": {},
   "outputs": [],
   "source": [
    "aBc_1 = 45"
   ]
  },
  {
   "cell_type": "code",
   "execution_count": 17,
   "id": "8dd99dd9",
   "metadata": {},
   "outputs": [
    {
     "data": {
      "text/plain": [
       "45"
      ]
     },
     "execution_count": 17,
     "metadata": {},
     "output_type": "execute_result"
    }
   ],
   "source": [
    "aBc_1"
   ]
  },
  {
   "cell_type": "code",
   "execution_count": 18,
   "id": "519d78e7",
   "metadata": {},
   "outputs": [
    {
     "ename": "SyntaxError",
     "evalue": "invalid syntax (<ipython-input-18-6e00a6ec7f0f>, line 1)",
     "output_type": "error",
     "traceback": [
      "\u001b[1;36m  File \u001b[1;32m\"<ipython-input-18-6e00a6ec7f0f>\"\u001b[1;36m, line \u001b[1;32m1\u001b[0m\n\u001b[1;33m    1abc = 'machine'\u001b[0m\n\u001b[1;37m     ^\u001b[0m\n\u001b[1;31mSyntaxError\u001b[0m\u001b[1;31m:\u001b[0m invalid syntax\n"
     ]
    }
   ],
   "source": [
    "1abc = 'machine'"
   ]
  },
  {
   "cell_type": "code",
   "execution_count": 20,
   "id": "6113ce5a",
   "metadata": {},
   "outputs": [],
   "source": [
    "len = 89 # invaild Variable"
   ]
  },
  {
   "cell_type": "code",
   "execution_count": 21,
   "id": "a8f473eb",
   "metadata": {},
   "outputs": [],
   "source": [
    "i = 90"
   ]
  },
  {
   "cell_type": "code",
   "execution_count": 22,
   "id": "b3efd83f",
   "metadata": {},
   "outputs": [
    {
     "data": {
      "text/plain": [
       "int"
      ]
     },
     "execution_count": 22,
     "metadata": {},
     "output_type": "execute_result"
    }
   ],
   "source": [
    "type(i)"
   ]
  },
  {
   "cell_type": "code",
   "execution_count": 23,
   "id": "e899767b",
   "metadata": {},
   "outputs": [
    {
     "data": {
      "text/plain": [
       "140714527502928"
      ]
     },
     "execution_count": 23,
     "metadata": {},
     "output_type": "execute_result"
    }
   ],
   "source": [
    "id(i)"
   ]
  },
  {
   "cell_type": "code",
   "execution_count": 24,
   "id": "97fe5f51",
   "metadata": {},
   "outputs": [],
   "source": [
    "i = 5.9"
   ]
  },
  {
   "cell_type": "code",
   "execution_count": 25,
   "id": "8b7c3d4d",
   "metadata": {},
   "outputs": [
    {
     "data": {
      "text/plain": [
       "float"
      ]
     },
     "execution_count": 25,
     "metadata": {},
     "output_type": "execute_result"
    }
   ],
   "source": [
    "type(i)"
   ]
  },
  {
   "cell_type": "code",
   "execution_count": 26,
   "id": "9923f5c5",
   "metadata": {},
   "outputs": [
    {
     "data": {
      "text/plain": [
       "float"
      ]
     },
     "execution_count": 26,
     "metadata": {},
     "output_type": "execute_result"
    }
   ],
   "source": [
    "type(i)"
   ]
  },
  {
   "cell_type": "code",
   "execution_count": 27,
   "id": "c9061bd0",
   "metadata": {},
   "outputs": [
    {
     "data": {
      "text/plain": [
       "3059301308432"
      ]
     },
     "execution_count": 27,
     "metadata": {},
     "output_type": "execute_result"
    }
   ],
   "source": [
    "id(i)"
   ]
  },
  {
   "cell_type": "code",
   "execution_count": 28,
   "id": "6d41afb0",
   "metadata": {},
   "outputs": [],
   "source": [
    "i = \"deep learning\""
   ]
  },
  {
   "cell_type": "code",
   "execution_count": 29,
   "id": "8e8242ee",
   "metadata": {},
   "outputs": [
    {
     "data": {
      "text/plain": [
       "str"
      ]
     },
     "execution_count": 29,
     "metadata": {},
     "output_type": "execute_result"
    }
   ],
   "source": [
    "type(i)"
   ]
  },
  {
   "cell_type": "code",
   "execution_count": 30,
   "id": "9123d456",
   "metadata": {},
   "outputs": [
    {
     "data": {
      "text/plain": [
       "3059292550640"
      ]
     },
     "execution_count": 30,
     "metadata": {},
     "output_type": "execute_result"
    }
   ],
   "source": [
    "id(i)"
   ]
  },
  {
   "cell_type": "code",
   "execution_count": 31,
   "id": "2dd64e27",
   "metadata": {},
   "outputs": [],
   "source": [
    "# Data Types:\n",
    "# int\n",
    "# string\n",
    "# float\n",
    "# complex\n",
    "# Boolean\n",
    "# None"
   ]
  },
  {
   "cell_type": "code",
   "execution_count": 32,
   "id": "a2c29318",
   "metadata": {},
   "outputs": [],
   "source": [
    "s  =56"
   ]
  },
  {
   "cell_type": "code",
   "execution_count": 33,
   "id": "c3dcea3d",
   "metadata": {},
   "outputs": [],
   "source": [
    "y = 23"
   ]
  },
  {
   "cell_type": "code",
   "execution_count": 34,
   "id": "d914fb51",
   "metadata": {},
   "outputs": [
    {
     "data": {
      "text/plain": [
       "int"
      ]
     },
     "execution_count": 34,
     "metadata": {},
     "output_type": "execute_result"
    }
   ],
   "source": [
    "type(s)"
   ]
  },
  {
   "cell_type": "code",
   "execution_count": 35,
   "id": "45b40d29",
   "metadata": {},
   "outputs": [
    {
     "data": {
      "text/plain": [
       "int"
      ]
     },
     "execution_count": 35,
     "metadata": {},
     "output_type": "execute_result"
    }
   ],
   "source": [
    "type(y)"
   ]
  },
  {
   "cell_type": "code",
   "execution_count": 36,
   "id": "0985b934",
   "metadata": {},
   "outputs": [
    {
     "data": {
      "text/plain": [
       "140714527501840"
      ]
     },
     "execution_count": 36,
     "metadata": {},
     "output_type": "execute_result"
    }
   ],
   "source": [
    "id(s)"
   ]
  },
  {
   "cell_type": "code",
   "execution_count": 37,
   "id": "f40dc240",
   "metadata": {},
   "outputs": [
    {
     "data": {
      "text/plain": [
       "140714527500784"
      ]
     },
     "execution_count": 37,
     "metadata": {},
     "output_type": "execute_result"
    }
   ],
   "source": [
    "id(y)"
   ]
  },
  {
   "cell_type": "code",
   "execution_count": 38,
   "id": "7ba1ad5c",
   "metadata": {},
   "outputs": [],
   "source": [
    "q = \"power bi is easy\""
   ]
  },
  {
   "cell_type": "code",
   "execution_count": 39,
   "id": "71249e5e",
   "metadata": {},
   "outputs": [
    {
     "data": {
      "text/plain": [
       "str"
      ]
     },
     "execution_count": 39,
     "metadata": {},
     "output_type": "execute_result"
    }
   ],
   "source": [
    "type(q)"
   ]
  },
  {
   "cell_type": "code",
   "execution_count": 40,
   "id": "5e4e19de",
   "metadata": {},
   "outputs": [
    {
     "data": {
      "text/plain": [
       "3059293819888"
      ]
     },
     "execution_count": 40,
     "metadata": {},
     "output_type": "execute_result"
    }
   ],
   "source": [
    "id(q)"
   ]
  },
  {
   "cell_type": "code",
   "execution_count": 41,
   "id": "ecb5f0dc",
   "metadata": {},
   "outputs": [],
   "source": [
    "z  ='sql is very simple'"
   ]
  },
  {
   "cell_type": "code",
   "execution_count": 42,
   "id": "bda94f2e",
   "metadata": {},
   "outputs": [
    {
     "data": {
      "text/plain": [
       "str"
      ]
     },
     "execution_count": 42,
     "metadata": {},
     "output_type": "execute_result"
    }
   ],
   "source": [
    "type(z)"
   ]
  },
  {
   "cell_type": "code",
   "execution_count": 43,
   "id": "14c05adf",
   "metadata": {},
   "outputs": [],
   "source": [
    "v = \"\"\"laptop\"\"\""
   ]
  },
  {
   "cell_type": "code",
   "execution_count": 44,
   "id": "85b2af8b",
   "metadata": {},
   "outputs": [
    {
     "data": {
      "text/plain": [
       "str"
      ]
     },
     "execution_count": 44,
     "metadata": {},
     "output_type": "execute_result"
    }
   ],
   "source": [
    "type(v)"
   ]
  },
  {
   "cell_type": "code",
   "execution_count": 45,
   "id": "9b2195be",
   "metadata": {},
   "outputs": [],
   "source": [
    "g = '''mouse is essenetial'''"
   ]
  },
  {
   "cell_type": "code",
   "execution_count": 46,
   "id": "dfbd8078",
   "metadata": {},
   "outputs": [
    {
     "data": {
      "text/plain": [
       "str"
      ]
     },
     "execution_count": 46,
     "metadata": {},
     "output_type": "execute_result"
    }
   ],
   "source": [
    "type(g)"
   ]
  },
  {
   "cell_type": "code",
   "execution_count": 47,
   "id": "482bd7f9",
   "metadata": {},
   "outputs": [
    {
     "data": {
      "text/plain": [
       "3059293821248"
      ]
     },
     "execution_count": 47,
     "metadata": {},
     "output_type": "execute_result"
    }
   ],
   "source": [
    "id(g)"
   ]
  },
  {
   "cell_type": "code",
   "execution_count": 48,
   "id": "e7b91c2a",
   "metadata": {},
   "outputs": [],
   "source": [
    "u = True"
   ]
  },
  {
   "cell_type": "code",
   "execution_count": 49,
   "id": "a1ed94d2",
   "metadata": {},
   "outputs": [],
   "source": [
    "k = False"
   ]
  },
  {
   "cell_type": "code",
   "execution_count": 50,
   "id": "5bc8a3ba",
   "metadata": {},
   "outputs": [
    {
     "data": {
      "text/plain": [
       "bool"
      ]
     },
     "execution_count": 50,
     "metadata": {},
     "output_type": "execute_result"
    }
   ],
   "source": [
    "type(u)"
   ]
  },
  {
   "cell_type": "code",
   "execution_count": 51,
   "id": "ab47c2dd",
   "metadata": {},
   "outputs": [
    {
     "data": {
      "text/plain": [
       "bool"
      ]
     },
     "execution_count": 51,
     "metadata": {},
     "output_type": "execute_result"
    }
   ],
   "source": [
    "type(k)"
   ]
  },
  {
   "cell_type": "code",
   "execution_count": 52,
   "id": "21cdad9f",
   "metadata": {},
   "outputs": [
    {
     "data": {
      "text/plain": [
       "140714527217488"
      ]
     },
     "execution_count": 52,
     "metadata": {},
     "output_type": "execute_result"
    }
   ],
   "source": [
    "id(u)"
   ]
  },
  {
   "cell_type": "code",
   "execution_count": 53,
   "id": "542e17ca",
   "metadata": {},
   "outputs": [
    {
     "data": {
      "text/plain": [
       "140714527217520"
      ]
     },
     "execution_count": 53,
     "metadata": {},
     "output_type": "execute_result"
    }
   ],
   "source": [
    "id(k)"
   ]
  },
  {
   "cell_type": "code",
   "execution_count": 54,
   "id": "c5a47a66",
   "metadata": {},
   "outputs": [],
   "source": [
    "p = 5.9"
   ]
  },
  {
   "cell_type": "code",
   "execution_count": 55,
   "id": "0bd45f66",
   "metadata": {},
   "outputs": [],
   "source": [
    "n = 5.9"
   ]
  },
  {
   "cell_type": "code",
   "execution_count": 56,
   "id": "ad0184a9",
   "metadata": {},
   "outputs": [
    {
     "data": {
      "text/plain": [
       "float"
      ]
     },
     "execution_count": 56,
     "metadata": {},
     "output_type": "execute_result"
    }
   ],
   "source": [
    "type(p)"
   ]
  },
  {
   "cell_type": "code",
   "execution_count": 57,
   "id": "cbdecfd7",
   "metadata": {},
   "outputs": [
    {
     "data": {
      "text/plain": [
       "float"
      ]
     },
     "execution_count": 57,
     "metadata": {},
     "output_type": "execute_result"
    }
   ],
   "source": [
    "type(n)"
   ]
  },
  {
   "cell_type": "code",
   "execution_count": 58,
   "id": "be0361db",
   "metadata": {},
   "outputs": [
    {
     "name": "stdout",
     "output_type": "stream",
     "text": [
      "5.9\n"
     ]
    }
   ],
   "source": [
    "print(p)"
   ]
  },
  {
   "cell_type": "code",
   "execution_count": 59,
   "id": "6885a01c",
   "metadata": {},
   "outputs": [
    {
     "name": "stdout",
     "output_type": "stream",
     "text": [
      "5.9\n"
     ]
    }
   ],
   "source": [
    "print(n)"
   ]
  },
  {
   "cell_type": "code",
   "execution_count": 60,
   "id": "342a9a7e",
   "metadata": {},
   "outputs": [],
   "source": [
    "u = 5+7j"
   ]
  },
  {
   "cell_type": "code",
   "execution_count": 61,
   "id": "663011e7",
   "metadata": {},
   "outputs": [
    {
     "data": {
      "text/plain": [
       "complex"
      ]
     },
     "execution_count": 61,
     "metadata": {},
     "output_type": "execute_result"
    }
   ],
   "source": [
    "type(u)"
   ]
  },
  {
   "cell_type": "code",
   "execution_count": 62,
   "id": "1beb330d",
   "metadata": {},
   "outputs": [
    {
     "data": {
      "text/plain": [
       "7.0"
      ]
     },
     "execution_count": 62,
     "metadata": {},
     "output_type": "execute_result"
    }
   ],
   "source": [
    "u.imag"
   ]
  },
  {
   "cell_type": "code",
   "execution_count": 63,
   "id": "3a577984",
   "metadata": {},
   "outputs": [
    {
     "data": {
      "text/plain": [
       "5.0"
      ]
     },
     "execution_count": 63,
     "metadata": {},
     "output_type": "execute_result"
    }
   ],
   "source": [
    "u.real"
   ]
  },
  {
   "cell_type": "code",
   "execution_count": 64,
   "id": "be824d0b",
   "metadata": {},
   "outputs": [
    {
     "data": {
      "text/plain": [
       "(5-7j)"
      ]
     },
     "execution_count": 64,
     "metadata": {},
     "output_type": "execute_result"
    }
   ],
   "source": [
    "u.conjugate()"
   ]
  },
  {
   "cell_type": "code",
   "execution_count": 65,
   "id": "ce7ca0b7",
   "metadata": {},
   "outputs": [],
   "source": [
    "w = None"
   ]
  },
  {
   "cell_type": "code",
   "execution_count": 66,
   "id": "470a9c93",
   "metadata": {},
   "outputs": [
    {
     "data": {
      "text/plain": [
       "NoneType"
      ]
     },
     "execution_count": 66,
     "metadata": {},
     "output_type": "execute_result"
    }
   ],
   "source": [
    "type(w)"
   ]
  },
  {
   "cell_type": "code",
   "execution_count": 67,
   "id": "22f89d5c",
   "metadata": {},
   "outputs": [],
   "source": [
    "j = 56"
   ]
  },
  {
   "cell_type": "code",
   "execution_count": 68,
   "id": "4d422a33",
   "metadata": {},
   "outputs": [
    {
     "data": {
      "text/plain": [
       "int"
      ]
     },
     "execution_count": 68,
     "metadata": {},
     "output_type": "execute_result"
    }
   ],
   "source": [
    "type(j)"
   ]
  },
  {
   "cell_type": "code",
   "execution_count": 69,
   "id": "d20360f5",
   "metadata": {},
   "outputs": [],
   "source": [
    "j = \"variables are easy\""
   ]
  },
  {
   "cell_type": "code",
   "execution_count": 70,
   "id": "2428e735",
   "metadata": {},
   "outputs": [
    {
     "data": {
      "text/plain": [
       "str"
      ]
     },
     "execution_count": 70,
     "metadata": {},
     "output_type": "execute_result"
    }
   ],
   "source": [
    "type(j)"
   ]
  },
  {
   "cell_type": "code",
   "execution_count": 71,
   "id": "9babe2e7",
   "metadata": {},
   "outputs": [],
   "source": [
    "j = 6.8"
   ]
  },
  {
   "cell_type": "code",
   "execution_count": 72,
   "id": "0358b3a9",
   "metadata": {},
   "outputs": [
    {
     "data": {
      "text/plain": [
       "float"
      ]
     },
     "execution_count": 72,
     "metadata": {},
     "output_type": "execute_result"
    }
   ],
   "source": [
    "type(j)"
   ]
  },
  {
   "cell_type": "code",
   "execution_count": 73,
   "id": "87029944",
   "metadata": {},
   "outputs": [],
   "source": [
    "j = 9+1j"
   ]
  },
  {
   "cell_type": "code",
   "execution_count": 74,
   "id": "b11e626e",
   "metadata": {},
   "outputs": [
    {
     "data": {
      "text/plain": [
       "complex"
      ]
     },
     "execution_count": 74,
     "metadata": {},
     "output_type": "execute_result"
    }
   ],
   "source": [
    "type(j)"
   ]
  },
  {
   "cell_type": "code",
   "execution_count": 75,
   "id": "fc276a3f",
   "metadata": {},
   "outputs": [],
   "source": [
    "j = False"
   ]
  },
  {
   "cell_type": "code",
   "execution_count": 76,
   "id": "0f5dcde3",
   "metadata": {},
   "outputs": [
    {
     "data": {
      "text/plain": [
       "bool"
      ]
     },
     "execution_count": 76,
     "metadata": {},
     "output_type": "execute_result"
    }
   ],
   "source": [
    "type(j)"
   ]
  },
  {
   "cell_type": "code",
   "execution_count": 77,
   "id": "79135920",
   "metadata": {},
   "outputs": [],
   "source": [
    "j = None"
   ]
  },
  {
   "cell_type": "code",
   "execution_count": 78,
   "id": "bf5a1243",
   "metadata": {},
   "outputs": [
    {
     "data": {
      "text/plain": [
       "NoneType"
      ]
     },
     "execution_count": 78,
     "metadata": {},
     "output_type": "execute_result"
    }
   ],
   "source": [
    "type(j)"
   ]
  },
  {
   "cell_type": "code",
   "execution_count": 79,
   "id": "5cddc733",
   "metadata": {},
   "outputs": [],
   "source": [
    "# user Input"
   ]
  },
  {
   "cell_type": "code",
   "execution_count": 83,
   "id": "a6b59381",
   "metadata": {},
   "outputs": [
    {
     "name": "stdout",
     "output_type": "stream",
     "text": [
      "nural network\n"
     ]
    }
   ],
   "source": [
    "a = input()  # bydefault string data type"
   ]
  },
  {
   "cell_type": "code",
   "execution_count": 84,
   "id": "89324cde",
   "metadata": {},
   "outputs": [
    {
     "data": {
      "text/plain": [
       "'nural network'"
      ]
     },
     "execution_count": 84,
     "metadata": {},
     "output_type": "execute_result"
    }
   ],
   "source": [
    "a"
   ]
  },
  {
   "cell_type": "code",
   "execution_count": 85,
   "id": "b99b23b9",
   "metadata": {},
   "outputs": [
    {
     "data": {
      "text/plain": [
       "str"
      ]
     },
     "execution_count": 85,
     "metadata": {},
     "output_type": "execute_result"
    }
   ],
   "source": [
    "type(a)"
   ]
  },
  {
   "cell_type": "code",
   "execution_count": 86,
   "id": "bec65677",
   "metadata": {},
   "outputs": [
    {
     "name": "stdout",
     "output_type": "stream",
     "text": [
      "enter your name:pooja\n"
     ]
    }
   ],
   "source": [
    "name = input(\"enter your name:\")"
   ]
  },
  {
   "cell_type": "code",
   "execution_count": 87,
   "id": "1faf378e",
   "metadata": {},
   "outputs": [
    {
     "data": {
      "text/plain": [
       "'pooja'"
      ]
     },
     "execution_count": 87,
     "metadata": {},
     "output_type": "execute_result"
    }
   ],
   "source": [
    "name"
   ]
  },
  {
   "cell_type": "code",
   "execution_count": 88,
   "id": "f87dbb87",
   "metadata": {},
   "outputs": [
    {
     "data": {
      "text/plain": [
       "str"
      ]
     },
     "execution_count": 88,
     "metadata": {},
     "output_type": "execute_result"
    }
   ],
   "source": [
    "type(name)"
   ]
  },
  {
   "cell_type": "code",
   "execution_count": 89,
   "id": "cb903f07",
   "metadata": {},
   "outputs": [
    {
     "name": "stdout",
     "output_type": "stream",
     "text": [
      "enter your age:35\n"
     ]
    }
   ],
   "source": [
    "age = input(\"enter your age:\")"
   ]
  },
  {
   "cell_type": "code",
   "execution_count": 90,
   "id": "39089e22",
   "metadata": {},
   "outputs": [
    {
     "data": {
      "text/plain": [
       "'35'"
      ]
     },
     "execution_count": 90,
     "metadata": {},
     "output_type": "execute_result"
    }
   ],
   "source": [
    "age"
   ]
  },
  {
   "cell_type": "code",
   "execution_count": 91,
   "id": "9d95b9b9",
   "metadata": {},
   "outputs": [
    {
     "data": {
      "text/plain": [
       "str"
      ]
     },
     "execution_count": 91,
     "metadata": {},
     "output_type": "execute_result"
    }
   ],
   "source": [
    "type(age)"
   ]
  },
  {
   "cell_type": "code",
   "execution_count": 93,
   "id": "2d9c8b21",
   "metadata": {},
   "outputs": [],
   "source": [
    "# typecasting:converting one datatype into another datatype"
   ]
  },
  {
   "cell_type": "code",
   "execution_count": 95,
   "id": "7ea51af8",
   "metadata": {},
   "outputs": [],
   "source": [
    "age = int(age)"
   ]
  },
  {
   "cell_type": "code",
   "execution_count": 96,
   "id": "2059e44f",
   "metadata": {},
   "outputs": [
    {
     "data": {
      "text/plain": [
       "int"
      ]
     },
     "execution_count": 96,
     "metadata": {},
     "output_type": "execute_result"
    }
   ],
   "source": [
    "type(age)"
   ]
  },
  {
   "cell_type": "code",
   "execution_count": 97,
   "id": "ae822fe2",
   "metadata": {},
   "outputs": [
    {
     "name": "stdout",
     "output_type": "stream",
     "text": [
      "35\n"
     ]
    }
   ],
   "source": [
    "print(age)"
   ]
  },
  {
   "cell_type": "code",
   "execution_count": 98,
   "id": "069daa81",
   "metadata": {},
   "outputs": [],
   "source": [
    "r  =\"78\""
   ]
  },
  {
   "cell_type": "code",
   "execution_count": 99,
   "id": "86d36eaf",
   "metadata": {},
   "outputs": [
    {
     "data": {
      "text/plain": [
       "str"
      ]
     },
     "execution_count": 99,
     "metadata": {},
     "output_type": "execute_result"
    }
   ],
   "source": [
    "type(r)"
   ]
  },
  {
   "cell_type": "code",
   "execution_count": 100,
   "id": "e33e2e4e",
   "metadata": {},
   "outputs": [],
   "source": [
    "r = int(r)"
   ]
  },
  {
   "cell_type": "code",
   "execution_count": 101,
   "id": "3cb58b44",
   "metadata": {},
   "outputs": [
    {
     "data": {
      "text/plain": [
       "int"
      ]
     },
     "execution_count": 101,
     "metadata": {},
     "output_type": "execute_result"
    }
   ],
   "source": [
    "type(r)"
   ]
  },
  {
   "cell_type": "code",
   "execution_count": 102,
   "id": "4f1c2749",
   "metadata": {},
   "outputs": [
    {
     "data": {
      "text/plain": [
       "78"
      ]
     },
     "execution_count": 102,
     "metadata": {},
     "output_type": "execute_result"
    }
   ],
   "source": [
    "r"
   ]
  },
  {
   "cell_type": "code",
   "execution_count": 103,
   "id": "ed24641d",
   "metadata": {},
   "outputs": [],
   "source": [
    "r = float(r)"
   ]
  },
  {
   "cell_type": "code",
   "execution_count": 104,
   "id": "5e547cf9",
   "metadata": {},
   "outputs": [
    {
     "data": {
      "text/plain": [
       "float"
      ]
     },
     "execution_count": 104,
     "metadata": {},
     "output_type": "execute_result"
    }
   ],
   "source": [
    "type(r)"
   ]
  },
  {
   "cell_type": "code",
   "execution_count": 105,
   "id": "3f81dec9",
   "metadata": {},
   "outputs": [
    {
     "data": {
      "text/plain": [
       "78.0"
      ]
     },
     "execution_count": 105,
     "metadata": {},
     "output_type": "execute_result"
    }
   ],
   "source": [
    "r"
   ]
  },
  {
   "cell_type": "code",
   "execution_count": 106,
   "id": "3e8663a4",
   "metadata": {},
   "outputs": [],
   "source": [
    "r = complex(r)"
   ]
  },
  {
   "cell_type": "code",
   "execution_count": 107,
   "id": "e78241cd",
   "metadata": {},
   "outputs": [
    {
     "data": {
      "text/plain": [
       "(78+0j)"
      ]
     },
     "execution_count": 107,
     "metadata": {},
     "output_type": "execute_result"
    }
   ],
   "source": [
    "r"
   ]
  },
  {
   "cell_type": "code",
   "execution_count": 108,
   "id": "565203fa",
   "metadata": {},
   "outputs": [
    {
     "data": {
      "text/plain": [
       "complex"
      ]
     },
     "execution_count": 108,
     "metadata": {},
     "output_type": "execute_result"
    }
   ],
   "source": [
    "type(r)"
   ]
  },
  {
   "cell_type": "code",
   "execution_count": 109,
   "id": "7d26fa40",
   "metadata": {},
   "outputs": [],
   "source": [
    "r = bool(r)"
   ]
  },
  {
   "cell_type": "code",
   "execution_count": 110,
   "id": "aab1ce55",
   "metadata": {},
   "outputs": [
    {
     "data": {
      "text/plain": [
       "bool"
      ]
     },
     "execution_count": 110,
     "metadata": {},
     "output_type": "execute_result"
    }
   ],
   "source": [
    "type(r)"
   ]
  },
  {
   "cell_type": "code",
   "execution_count": 111,
   "id": "cf8c0133",
   "metadata": {},
   "outputs": [
    {
     "data": {
      "text/plain": [
       "True"
      ]
     },
     "execution_count": 111,
     "metadata": {},
     "output_type": "execute_result"
    }
   ],
   "source": [
    "r"
   ]
  },
  {
   "cell_type": "code",
   "execution_count": 113,
   "id": "5eea8d5c",
   "metadata": {},
   "outputs": [],
   "source": [
    "#r = None(r)"
   ]
  },
  {
   "cell_type": "code",
   "execution_count": 114,
   "id": "f2d3b5f1",
   "metadata": {},
   "outputs": [],
   "source": [
    "d  =\"data\""
   ]
  },
  {
   "cell_type": "code",
   "execution_count": 115,
   "id": "0bdb4b32",
   "metadata": {},
   "outputs": [
    {
     "ename": "ValueError",
     "evalue": "invalid literal for int() with base 10: 'data'",
     "output_type": "error",
     "traceback": [
      "\u001b[1;31m---------------------------------------------------------------------------\u001b[0m",
      "\u001b[1;31mValueError\u001b[0m                                Traceback (most recent call last)",
      "\u001b[1;32m<ipython-input-115-31e21d3d77e6>\u001b[0m in \u001b[0;36m<module>\u001b[1;34m\u001b[0m\n\u001b[1;32m----> 1\u001b[1;33m \u001b[0mint\u001b[0m\u001b[1;33m(\u001b[0m\u001b[0md\u001b[0m\u001b[1;33m)\u001b[0m\u001b[1;33m\u001b[0m\u001b[1;33m\u001b[0m\u001b[0m\n\u001b[0m",
      "\u001b[1;31mValueError\u001b[0m: invalid literal for int() with base 10: 'data'"
     ]
    }
   ],
   "source": [
    "int(d)"
   ]
  },
  {
   "cell_type": "code",
   "execution_count": 116,
   "id": "fff5277e",
   "metadata": {},
   "outputs": [
    {
     "name": "stdout",
     "output_type": "stream",
     "text": [
      "enter your marks :95\n"
     ]
    }
   ],
   "source": [
    "marks = int(input('enter your marks :'))"
   ]
  },
  {
   "cell_type": "code",
   "execution_count": 117,
   "id": "bdd30f48",
   "metadata": {},
   "outputs": [
    {
     "data": {
      "text/plain": [
       "95"
      ]
     },
     "execution_count": 117,
     "metadata": {},
     "output_type": "execute_result"
    }
   ],
   "source": [
    "marks"
   ]
  },
  {
   "cell_type": "code",
   "execution_count": 118,
   "id": "a9be77d7",
   "metadata": {},
   "outputs": [],
   "source": [
    "# Python Statementes"
   ]
  },
  {
   "cell_type": "code",
   "execution_count": 121,
   "id": "06ea634a",
   "metadata": {},
   "outputs": [],
   "source": [
    "# singleline statementes\n",
    "t  = 1+2+3+\\\n",
    "    4+5+6+\\\n",
    "    7+8+9+10"
   ]
  },
  {
   "cell_type": "code",
   "execution_count": 122,
   "id": "8e723cf9",
   "metadata": {},
   "outputs": [
    {
     "data": {
      "text/plain": [
       "55"
      ]
     },
     "execution_count": 122,
     "metadata": {},
     "output_type": "execute_result"
    }
   ],
   "source": [
    "t"
   ]
  },
  {
   "cell_type": "code",
   "execution_count": 120,
   "id": "0a7086ce",
   "metadata": {},
   "outputs": [],
   "source": [
    "#multiline statements"
   ]
  },
  {
   "cell_type": "code",
   "execution_count": 123,
   "id": "fd6ba1a4",
   "metadata": {},
   "outputs": [],
   "source": [
    "g = (1+2+3+\n",
    "    4+5+6+\n",
    "    7+8+9+\n",
    "    12)"
   ]
  },
  {
   "cell_type": "code",
   "execution_count": 124,
   "id": "4be50e3f",
   "metadata": {},
   "outputs": [
    {
     "data": {
      "text/plain": [
       "57"
      ]
     },
     "execution_count": 124,
     "metadata": {},
     "output_type": "execute_result"
    }
   ],
   "source": [
    "g"
   ]
  },
  {
   "cell_type": "code",
   "execution_count": 125,
   "id": "8d61865e",
   "metadata": {},
   "outputs": [
    {
     "name": "stdout",
     "output_type": "stream",
     "text": [
      "57\n"
     ]
    }
   ],
   "source": [
    "print(g)"
   ]
  },
  {
   "cell_type": "code",
   "execution_count": 127,
   "id": "e16050f0",
   "metadata": {},
   "outputs": [
    {
     "name": "stdout",
     "output_type": "stream",
     "text": [
      "55\n"
     ]
    }
   ],
   "source": [
    "print(t)"
   ]
  },
  {
   "cell_type": "code",
   "execution_count": 128,
   "id": "cb7a85b8",
   "metadata": {},
   "outputs": [],
   "source": [
    "# Output Formatting"
   ]
  },
  {
   "cell_type": "code",
   "execution_count": 129,
   "id": "3a38c2e6",
   "metadata": {},
   "outputs": [],
   "source": [
    "s = 10"
   ]
  },
  {
   "cell_type": "code",
   "execution_count": 132,
   "id": "a76d3a9b",
   "metadata": {},
   "outputs": [],
   "source": [
    "f = 20\n",
    "d = 60"
   ]
  },
  {
   "cell_type": "code",
   "execution_count": 134,
   "id": "4e25d5f7",
   "metadata": {},
   "outputs": [
    {
     "name": "stdout",
     "output_type": "stream",
     "text": [
      "The value of s is 10 and f is 20 and d is 60\n"
     ]
    }
   ],
   "source": [
    "print(f\"The value of s is {s} and f is {f} and d is {d}\")"
   ]
  },
  {
   "cell_type": "code",
   "execution_count": 138,
   "id": "61513679",
   "metadata": {},
   "outputs": [
    {
     "name": "stdout",
     "output_type": "stream",
     "text": [
      "The value of s is 10 and f is 20 and d is 60\n"
     ]
    }
   ],
   "source": [
    "print(\"The value of s is {} and f is {} and d is {}\".format(s,f,d))"
   ]
  },
  {
   "cell_type": "code",
   "execution_count": 139,
   "id": "e3f7f9fa",
   "metadata": {},
   "outputs": [
    {
     "name": "stdout",
     "output_type": "stream",
     "text": [
      "The value of s is 60 and f is 10 and d is 20\n"
     ]
    }
   ],
   "source": [
    "print(\"The value of s is {2} and f is {0} and d is {1}\".format(s,f,d))"
   ]
  },
  {
   "cell_type": "code",
   "execution_count": 140,
   "id": "e85ddff4",
   "metadata": {},
   "outputs": [
    {
     "name": "stdout",
     "output_type": "stream",
     "text": [
      "Enter Your Name :sanjay\n"
     ]
    }
   ],
   "source": [
    "Name = input('Enter Your Name :')"
   ]
  },
  {
   "cell_type": "code",
   "execution_count": 141,
   "id": "0faa8a22",
   "metadata": {},
   "outputs": [],
   "source": [
    "Greet = \"Good Evening\""
   ]
  },
  {
   "cell_type": "code",
   "execution_count": 142,
   "id": "3f17acae",
   "metadata": {},
   "outputs": [
    {
     "name": "stdout",
     "output_type": "stream",
     "text": [
      "Hi sanjay and Good Evening\n"
     ]
    }
   ],
   "source": [
    "print(f\"Hi {Name} and {Greet}\")"
   ]
  },
  {
   "cell_type": "code",
   "execution_count": 145,
   "id": "f181681a",
   "metadata": {},
   "outputs": [
    {
     "name": "stdout",
     "output_type": "stream",
     "text": [
      "Hi Good Evening and sanjay\n"
     ]
    }
   ],
   "source": [
    "print(\"Hi {t} and {e}\".format(e = Name, t = Greet))"
   ]
  },
  {
   "cell_type": "code",
   "execution_count": 146,
   "id": "5fde8b3e",
   "metadata": {},
   "outputs": [
    {
     "name": "stdout",
     "output_type": "stream",
     "text": [
      "Hi sanjay and Good Evening\n"
     ]
    }
   ],
   "source": [
    "print(\"Hi {e} and {t}\".format(e = Name, t = Greet))"
   ]
  },
  {
   "cell_type": "code",
   "execution_count": 147,
   "id": "7f3f1aac",
   "metadata": {},
   "outputs": [],
   "source": [
    "# Operators and Expressions"
   ]
  },
  {
   "cell_type": "code",
   "execution_count": 1,
   "id": "91a10564",
   "metadata": {},
   "outputs": [],
   "source": [
    "#1 Arithmentic Operators"
   ]
  },
  {
   "cell_type": "code",
   "execution_count": 2,
   "id": "46f27939",
   "metadata": {},
   "outputs": [
    {
     "data": {
      "text/plain": [
       "5"
      ]
     },
     "execution_count": 2,
     "metadata": {},
     "output_type": "execute_result"
    }
   ],
   "source": [
    "2+3"
   ]
  },
  {
   "cell_type": "code",
   "execution_count": 3,
   "id": "e1b4c09d",
   "metadata": {},
   "outputs": [
    {
     "data": {
      "text/plain": [
       "-1"
      ]
     },
     "execution_count": 3,
     "metadata": {},
     "output_type": "execute_result"
    }
   ],
   "source": [
    "5-6"
   ]
  },
  {
   "cell_type": "code",
   "execution_count": 4,
   "id": "57eac6f5",
   "metadata": {},
   "outputs": [
    {
     "data": {
      "text/plain": [
       "12"
      ]
     },
     "execution_count": 4,
     "metadata": {},
     "output_type": "execute_result"
    }
   ],
   "source": [
    "2*6"
   ]
  },
  {
   "cell_type": "code",
   "execution_count": 5,
   "id": "a68db90f",
   "metadata": {},
   "outputs": [
    {
     "data": {
      "text/plain": [
       "9.0"
      ]
     },
     "execution_count": 5,
     "metadata": {},
     "output_type": "execute_result"
    }
   ],
   "source": [
    "45/5"
   ]
  },
  {
   "cell_type": "code",
   "execution_count": 6,
   "id": "a3564705",
   "metadata": {},
   "outputs": [
    {
     "data": {
      "text/plain": [
       "9"
      ]
     },
     "execution_count": 6,
     "metadata": {},
     "output_type": "execute_result"
    }
   ],
   "source": [
    "45//5"
   ]
  },
  {
   "cell_type": "code",
   "execution_count": 7,
   "id": "36889478",
   "metadata": {},
   "outputs": [
    {
     "data": {
      "text/plain": [
       "8"
      ]
     },
     "execution_count": 7,
     "metadata": {},
     "output_type": "execute_result"
    }
   ],
   "source": [
    "2**3"
   ]
  },
  {
   "cell_type": "code",
   "execution_count": 8,
   "id": "ce98394c",
   "metadata": {},
   "outputs": [
    {
     "data": {
      "text/plain": [
       "1"
      ]
     },
     "execution_count": 8,
     "metadata": {},
     "output_type": "execute_result"
    }
   ],
   "source": [
    "25%6"
   ]
  },
  {
   "cell_type": "code",
   "execution_count": 9,
   "id": "aa132592",
   "metadata": {},
   "outputs": [],
   "source": [
    "no1 = 20"
   ]
  },
  {
   "cell_type": "code",
   "execution_count": 11,
   "id": "cd4cfbc4",
   "metadata": {},
   "outputs": [],
   "source": [
    "no2 = 10"
   ]
  },
  {
   "cell_type": "code",
   "execution_count": 12,
   "id": "e16b69e0",
   "metadata": {},
   "outputs": [],
   "source": [
    "add = no1+no2\n",
    "sub = no1-no2\n",
    "mul = no1*no2\n",
    "div = no1/no2\n",
    "exp = no1**no2\n",
    "mod = no1%no2\n",
    "f_div = no1//no2"
   ]
  },
  {
   "cell_type": "code",
   "execution_count": 13,
   "id": "d82bfead",
   "metadata": {},
   "outputs": [
    {
     "name": "stdout",
     "output_type": "stream",
     "text": [
      "a+b = 20\n",
      "a-b = 0\n",
      "a*b = 100\n",
      "a/b = 1.0\n",
      "a//b = 1\n",
      "a**b = 10000000000\n",
      "a%b = 0\n"
     ]
    }
   ],
   "source": [
    "print(f\"a+b = {add}\")\n",
    "print(f\"a-b = {sub}\")\n",
    "print(f\"a*b = {mul}\")\n",
    "print(f\"a/b = {div}\")\n",
    "print(f\"a//b = {f_div}\")\n",
    "print(f\"a**b = {exp}\")\n",
    "print(f\"a%b = {mod}\")"
   ]
  },
  {
   "cell_type": "code",
   "execution_count": null,
   "id": "0c54fcd6",
   "metadata": {},
   "outputs": [],
   "source": []
  },
  {
   "cell_type": "code",
   "execution_count": 14,
   "id": "e13bfd3c",
   "metadata": {},
   "outputs": [],
   "source": [
    "#2 comparision Operators"
   ]
  },
  {
   "cell_type": "code",
   "execution_count": 15,
   "id": "d87503c5",
   "metadata": {},
   "outputs": [
    {
     "data": {
      "text/plain": [
       "False"
      ]
     },
     "execution_count": 15,
     "metadata": {},
     "output_type": "execute_result"
    }
   ],
   "source": [
    "5>6"
   ]
  },
  {
   "cell_type": "code",
   "execution_count": 17,
   "id": "92394fee",
   "metadata": {},
   "outputs": [
    {
     "data": {
      "text/plain": [
       "False"
      ]
     },
     "execution_count": 17,
     "metadata": {},
     "output_type": "execute_result"
    }
   ],
   "source": [
    "10 >= 80"
   ]
  },
  {
   "cell_type": "code",
   "execution_count": 18,
   "id": "d03705d0",
   "metadata": {},
   "outputs": [
    {
     "data": {
      "text/plain": [
       "True"
      ]
     },
     "execution_count": 18,
     "metadata": {},
     "output_type": "execute_result"
    }
   ],
   "source": [
    "20>=20"
   ]
  },
  {
   "cell_type": "code",
   "execution_count": 19,
   "id": "c179bf05",
   "metadata": {},
   "outputs": [
    {
     "data": {
      "text/plain": [
       "False"
      ]
     },
     "execution_count": 19,
     "metadata": {},
     "output_type": "execute_result"
    }
   ],
   "source": [
    "89<10"
   ]
  },
  {
   "cell_type": "code",
   "execution_count": 20,
   "id": "d3c95a3a",
   "metadata": {},
   "outputs": [
    {
     "data": {
      "text/plain": [
       "True"
      ]
     },
     "execution_count": 20,
     "metadata": {},
     "output_type": "execute_result"
    }
   ],
   "source": [
    "85<=85"
   ]
  },
  {
   "cell_type": "code",
   "execution_count": 21,
   "id": "8a2d04c4",
   "metadata": {},
   "outputs": [
    {
     "data": {
      "text/plain": [
       "False"
      ]
     },
     "execution_count": 21,
     "metadata": {},
     "output_type": "execute_result"
    }
   ],
   "source": [
    "45==80"
   ]
  },
  {
   "cell_type": "code",
   "execution_count": 22,
   "id": "021a1a36",
   "metadata": {},
   "outputs": [
    {
     "data": {
      "text/plain": [
       "True"
      ]
     },
     "execution_count": 22,
     "metadata": {},
     "output_type": "execute_result"
    }
   ],
   "source": [
    "86!=100"
   ]
  },
  {
   "cell_type": "code",
   "execution_count": 23,
   "id": "5e27a96c",
   "metadata": {},
   "outputs": [
    {
     "name": "stdout",
     "output_type": "stream",
     "text": [
      "False\n",
      "True\n",
      "False\n",
      "True\n",
      "True\n",
      "False\n"
     ]
    }
   ],
   "source": [
    "print(no1>no2)\n",
    "print(no1>=no2)\n",
    "print(no1<no2)\n",
    "print(no1<=no2)\n",
    "print(no1==no2)\n",
    "print(no1!=no2)\n"
   ]
  },
  {
   "cell_type": "code",
   "execution_count": null,
   "id": "39b533a0",
   "metadata": {},
   "outputs": [],
   "source": []
  },
  {
   "cell_type": "code",
   "execution_count": 25,
   "id": "9633feb9",
   "metadata": {},
   "outputs": [],
   "source": [
    "# Logical Operators : and, or, not"
   ]
  },
  {
   "cell_type": "code",
   "execution_count": 27,
   "id": "1724fb71",
   "metadata": {},
   "outputs": [
    {
     "data": {
      "text/plain": [
       "True"
      ]
     },
     "execution_count": 27,
     "metadata": {},
     "output_type": "execute_result"
    }
   ],
   "source": [
    "12<15"
   ]
  },
  {
   "cell_type": "code",
   "execution_count": 29,
   "id": "0ad09a38",
   "metadata": {},
   "outputs": [
    {
     "data": {
      "text/plain": [
       "True"
      ]
     },
     "execution_count": 29,
     "metadata": {},
     "output_type": "execute_result"
    }
   ],
   "source": [
    "78>12"
   ]
  },
  {
   "cell_type": "code",
   "execution_count": 32,
   "id": "3758f033",
   "metadata": {},
   "outputs": [
    {
     "data": {
      "text/plain": [
       "True"
      ]
     },
     "execution_count": 32,
     "metadata": {},
     "output_type": "execute_result"
    }
   ],
   "source": [
    "(12<15) and (78>12)\n"
   ]
  },
  {
   "cell_type": "code",
   "execution_count": 33,
   "id": "2d3bcbe5",
   "metadata": {},
   "outputs": [
    {
     "data": {
      "text/plain": [
       "False"
      ]
     },
     "execution_count": 33,
     "metadata": {},
     "output_type": "execute_result"
    }
   ],
   "source": [
    "(12>15) and (78>12)\n"
   ]
  },
  {
   "cell_type": "code",
   "execution_count": 34,
   "id": "6fd1c526",
   "metadata": {},
   "outputs": [
    {
     "data": {
      "text/plain": [
       "False"
      ]
     },
     "execution_count": 34,
     "metadata": {},
     "output_type": "execute_result"
    }
   ],
   "source": [
    "(12<15) and (78<12)\n"
   ]
  },
  {
   "cell_type": "code",
   "execution_count": 35,
   "id": "2039b23b",
   "metadata": {},
   "outputs": [
    {
     "data": {
      "text/plain": [
       "False"
      ]
     },
     "execution_count": 35,
     "metadata": {},
     "output_type": "execute_result"
    }
   ],
   "source": [
    "(12>15) and (78<12)"
   ]
  },
  {
   "cell_type": "code",
   "execution_count": 36,
   "id": "d5c8aba4",
   "metadata": {},
   "outputs": [
    {
     "data": {
      "text/plain": [
       "True"
      ]
     },
     "execution_count": 36,
     "metadata": {},
     "output_type": "execute_result"
    }
   ],
   "source": [
    "(12<15) or (78>12)\n"
   ]
  },
  {
   "cell_type": "code",
   "execution_count": 41,
   "id": "a04b4aa4",
   "metadata": {},
   "outputs": [
    {
     "data": {
      "text/plain": [
       "False"
      ]
     },
     "execution_count": 41,
     "metadata": {},
     "output_type": "execute_result"
    }
   ],
   "source": [
    "not((12<15) or (78<12))\n"
   ]
  },
  {
   "cell_type": "code",
   "execution_count": 38,
   "id": "c0d8f8a9",
   "metadata": {},
   "outputs": [
    {
     "data": {
      "text/plain": [
       "True"
      ]
     },
     "execution_count": 38,
     "metadata": {},
     "output_type": "execute_result"
    }
   ],
   "source": [
    "\n",
    "(12>15) or (78>12)\n"
   ]
  },
  {
   "cell_type": "code",
   "execution_count": 40,
   "id": "6445a384",
   "metadata": {},
   "outputs": [
    {
     "data": {
      "text/plain": [
       "True"
      ]
     },
     "execution_count": 40,
     "metadata": {},
     "output_type": "execute_result"
    }
   ],
   "source": [
    "\n",
    "not((12>15) or (78<12))"
   ]
  },
  {
   "cell_type": "code",
   "execution_count": 42,
   "id": "1274a23e",
   "metadata": {},
   "outputs": [
    {
     "data": {
      "text/plain": [
       "False"
      ]
     },
     "execution_count": 42,
     "metadata": {},
     "output_type": "execute_result"
    }
   ],
   "source": [
    "(45>78) or (12==56) and (14!=89)"
   ]
  },
  {
   "cell_type": "code",
   "execution_count": 43,
   "id": "346875fc",
   "metadata": {},
   "outputs": [],
   "source": [
    "#4 Bitwise Operators :\n",
    "# Bitwise AND &\n",
    "# Bitwise OR  |\n",
    "# BItwsie XOR ^ "
   ]
  },
  {
   "cell_type": "code",
   "execution_count": 44,
   "id": "49439c27",
   "metadata": {},
   "outputs": [
    {
     "data": {
      "text/plain": [
       "'0b1010'"
      ]
     },
     "execution_count": 44,
     "metadata": {},
     "output_type": "execute_result"
    }
   ],
   "source": [
    "bin(10)"
   ]
  },
  {
   "cell_type": "code",
   "execution_count": 45,
   "id": "04886e57",
   "metadata": {},
   "outputs": [
    {
     "data": {
      "text/plain": [
       "'0b100'"
      ]
     },
     "execution_count": 45,
     "metadata": {},
     "output_type": "execute_result"
    }
   ],
   "source": [
    "bin(4)"
   ]
  },
  {
   "cell_type": "code",
   "execution_count": 46,
   "id": "63b56746",
   "metadata": {},
   "outputs": [
    {
     "data": {
      "text/plain": [
       "0"
      ]
     },
     "execution_count": 46,
     "metadata": {},
     "output_type": "execute_result"
    }
   ],
   "source": [
    "10 & 4"
   ]
  },
  {
   "cell_type": "code",
   "execution_count": 47,
   "id": "7f98098d",
   "metadata": {},
   "outputs": [
    {
     "data": {
      "text/plain": [
       "14"
      ]
     },
     "execution_count": 47,
     "metadata": {},
     "output_type": "execute_result"
    }
   ],
   "source": [
    "10 | 4"
   ]
  },
  {
   "cell_type": "code",
   "execution_count": 48,
   "id": "b355143b",
   "metadata": {},
   "outputs": [
    {
     "data": {
      "text/plain": [
       "14"
      ]
     },
     "execution_count": 48,
     "metadata": {},
     "output_type": "execute_result"
    }
   ],
   "source": [
    "10 ^ 4"
   ]
  },
  {
   "cell_type": "code",
   "execution_count": 49,
   "id": "845367a3",
   "metadata": {},
   "outputs": [],
   "source": [
    "#5 Assignment Operators"
   ]
  },
  {
   "cell_type": "code",
   "execution_count": 50,
   "id": "3e7bcc6b",
   "metadata": {},
   "outputs": [],
   "source": [
    "# single Assignmnet : \n"
   ]
  },
  {
   "cell_type": "code",
   "execution_count": 51,
   "id": "5cf7feeb",
   "metadata": {},
   "outputs": [],
   "source": [
    "s = 89"
   ]
  },
  {
   "cell_type": "code",
   "execution_count": 52,
   "id": "e3843d31",
   "metadata": {},
   "outputs": [],
   "source": [
    "h = \"python is good\""
   ]
  },
  {
   "cell_type": "code",
   "execution_count": 53,
   "id": "53311ac9",
   "metadata": {},
   "outputs": [],
   "source": [
    "p = r = t = 45"
   ]
  },
  {
   "cell_type": "code",
   "execution_count": 54,
   "id": "e8f96dab",
   "metadata": {},
   "outputs": [
    {
     "data": {
      "text/plain": [
       "45"
      ]
     },
     "execution_count": 54,
     "metadata": {},
     "output_type": "execute_result"
    }
   ],
   "source": [
    "p"
   ]
  },
  {
   "cell_type": "code",
   "execution_count": 55,
   "id": "7bc2f395",
   "metadata": {},
   "outputs": [
    {
     "data": {
      "text/plain": [
       "45"
      ]
     },
     "execution_count": 55,
     "metadata": {},
     "output_type": "execute_result"
    }
   ],
   "source": [
    "r"
   ]
  },
  {
   "cell_type": "code",
   "execution_count": 56,
   "id": "60447666",
   "metadata": {},
   "outputs": [
    {
     "data": {
      "text/plain": [
       "45"
      ]
     },
     "execution_count": 56,
     "metadata": {},
     "output_type": "execute_result"
    }
   ],
   "source": [
    "t"
   ]
  },
  {
   "cell_type": "code",
   "execution_count": 58,
   "id": "ef18224a",
   "metadata": {},
   "outputs": [],
   "source": [
    "k , y, b = \"data is enough\",78,5.9"
   ]
  },
  {
   "cell_type": "code",
   "execution_count": 59,
   "id": "94fcc5da",
   "metadata": {},
   "outputs": [
    {
     "data": {
      "text/plain": [
       "'data is enough'"
      ]
     },
     "execution_count": 59,
     "metadata": {},
     "output_type": "execute_result"
    }
   ],
   "source": [
    "k"
   ]
  },
  {
   "cell_type": "code",
   "execution_count": 60,
   "id": "c58ccc05",
   "metadata": {},
   "outputs": [
    {
     "data": {
      "text/plain": [
       "78"
      ]
     },
     "execution_count": 60,
     "metadata": {},
     "output_type": "execute_result"
    }
   ],
   "source": [
    "y"
   ]
  },
  {
   "cell_type": "code",
   "execution_count": 61,
   "id": "1e7284d1",
   "metadata": {},
   "outputs": [
    {
     "data": {
      "text/plain": [
       "5.9"
      ]
     },
     "execution_count": 61,
     "metadata": {},
     "output_type": "execute_result"
    }
   ],
   "source": [
    "b"
   ]
  },
  {
   "cell_type": "code",
   "execution_count": 62,
   "id": "80bf10a4",
   "metadata": {},
   "outputs": [],
   "source": [
    "k = 48"
   ]
  },
  {
   "cell_type": "code",
   "execution_count": 65,
   "id": "209c0822",
   "metadata": {},
   "outputs": [],
   "source": [
    "k = k + 2"
   ]
  },
  {
   "cell_type": "code",
   "execution_count": 66,
   "id": "bb3661ed",
   "metadata": {},
   "outputs": [
    {
     "data": {
      "text/plain": [
       "50"
      ]
     },
     "execution_count": 66,
     "metadata": {},
     "output_type": "execute_result"
    }
   ],
   "source": [
    "k"
   ]
  },
  {
   "cell_type": "code",
   "execution_count": 67,
   "id": "5803b82c",
   "metadata": {},
   "outputs": [],
   "source": [
    "k+=5"
   ]
  },
  {
   "cell_type": "code",
   "execution_count": 68,
   "id": "ad3d92f5",
   "metadata": {},
   "outputs": [
    {
     "data": {
      "text/plain": [
       "55"
      ]
     },
     "execution_count": 68,
     "metadata": {},
     "output_type": "execute_result"
    }
   ],
   "source": [
    "k"
   ]
  },
  {
   "cell_type": "code",
   "execution_count": 69,
   "id": "ecfba45c",
   "metadata": {},
   "outputs": [],
   "source": [
    "k-=10"
   ]
  },
  {
   "cell_type": "code",
   "execution_count": 70,
   "id": "27b8f8bb",
   "metadata": {},
   "outputs": [
    {
     "data": {
      "text/plain": [
       "45"
      ]
     },
     "execution_count": 70,
     "metadata": {},
     "output_type": "execute_result"
    }
   ],
   "source": [
    "k"
   ]
  },
  {
   "cell_type": "code",
   "execution_count": 71,
   "id": "9cb33179",
   "metadata": {},
   "outputs": [],
   "source": [
    "k*=2"
   ]
  },
  {
   "cell_type": "code",
   "execution_count": 72,
   "id": "a55df43b",
   "metadata": {},
   "outputs": [
    {
     "data": {
      "text/plain": [
       "90"
      ]
     },
     "execution_count": 72,
     "metadata": {},
     "output_type": "execute_result"
    }
   ],
   "source": [
    "k"
   ]
  },
  {
   "cell_type": "code",
   "execution_count": 73,
   "id": "86061961",
   "metadata": {},
   "outputs": [],
   "source": [
    "k/=10"
   ]
  },
  {
   "cell_type": "code",
   "execution_count": 74,
   "id": "cfae6a4a",
   "metadata": {},
   "outputs": [
    {
     "data": {
      "text/plain": [
       "9.0"
      ]
     },
     "execution_count": 74,
     "metadata": {},
     "output_type": "execute_result"
    }
   ],
   "source": [
    "k"
   ]
  },
  {
   "cell_type": "code",
   "execution_count": 75,
   "id": "09d807b8",
   "metadata": {},
   "outputs": [],
   "source": [
    "k//=2"
   ]
  },
  {
   "cell_type": "code",
   "execution_count": 76,
   "id": "7d835f18",
   "metadata": {},
   "outputs": [
    {
     "data": {
      "text/plain": [
       "4.0"
      ]
     },
     "execution_count": 76,
     "metadata": {},
     "output_type": "execute_result"
    }
   ],
   "source": [
    "k"
   ]
  },
  {
   "cell_type": "code",
   "execution_count": 77,
   "id": "46de991b",
   "metadata": {},
   "outputs": [],
   "source": [
    "k**=3"
   ]
  },
  {
   "cell_type": "code",
   "execution_count": 78,
   "id": "1f571434",
   "metadata": {},
   "outputs": [
    {
     "data": {
      "text/plain": [
       "64.0"
      ]
     },
     "execution_count": 78,
     "metadata": {},
     "output_type": "execute_result"
    }
   ],
   "source": [
    "k"
   ]
  },
  {
   "cell_type": "code",
   "execution_count": 79,
   "id": "cf5ded50",
   "metadata": {},
   "outputs": [],
   "source": [
    "k%=10"
   ]
  },
  {
   "cell_type": "code",
   "execution_count": 80,
   "id": "3395d7cf",
   "metadata": {},
   "outputs": [
    {
     "data": {
      "text/plain": [
       "4.0"
      ]
     },
     "execution_count": 80,
     "metadata": {},
     "output_type": "execute_result"
    }
   ],
   "source": [
    "k"
   ]
  },
  {
   "cell_type": "code",
   "execution_count": 81,
   "id": "fce461c1",
   "metadata": {},
   "outputs": [
    {
     "ename": "SyntaxError",
     "evalue": "invalid syntax (<ipython-input-81-9c5e8533ab71>, line 3)",
     "output_type": "error",
     "traceback": [
      "\u001b[1;36m  File \u001b[1;32m\"<ipython-input-81-9c5e8533ab71>\"\u001b[1;36m, line \u001b[1;32m3\u001b[0m\n\u001b[1;33m    1. IN\u001b[0m\n\u001b[1;37m       ^\u001b[0m\n\u001b[1;31mSyntaxError\u001b[0m\u001b[1;31m:\u001b[0m invalid syntax\n"
     ]
    }
   ],
   "source": [
    "#5 Special Operators\n",
    "#Membership Operators\n",
    "1. IN\n",
    "2 not in\n",
    "\n",
    "# identity Operator\n",
    "1. is \n",
    "2. is not"
   ]
  },
  {
   "cell_type": "code",
   "execution_count": 82,
   "id": "7809c442",
   "metadata": {},
   "outputs": [
    {
     "data": {
      "text/plain": [
       "True"
      ]
     },
     "execution_count": 82,
     "metadata": {},
     "output_type": "execute_result"
    }
   ],
   "source": [
    "'o' in \"Good Morning\""
   ]
  },
  {
   "cell_type": "code",
   "execution_count": 83,
   "id": "594ce756",
   "metadata": {},
   "outputs": [
    {
     "data": {
      "text/plain": [
       "False"
      ]
     },
     "execution_count": 83,
     "metadata": {},
     "output_type": "execute_result"
    }
   ],
   "source": [
    "\"bad\" in \"python is fun\""
   ]
  },
  {
   "cell_type": "code",
   "execution_count": 84,
   "id": "adc3a4b6",
   "metadata": {},
   "outputs": [],
   "source": [
    "q = \"activation functions\""
   ]
  },
  {
   "cell_type": "code",
   "execution_count": 85,
   "id": "902a056d",
   "metadata": {},
   "outputs": [
    {
     "data": {
      "text/plain": [
       "True"
      ]
     },
     "execution_count": 85,
     "metadata": {},
     "output_type": "execute_result"
    }
   ],
   "source": [
    "'python' not in q"
   ]
  },
  {
   "cell_type": "code",
   "execution_count": 86,
   "id": "4edf6788",
   "metadata": {},
   "outputs": [],
   "source": [
    "p = 10"
   ]
  },
  {
   "cell_type": "code",
   "execution_count": 87,
   "id": "1dd6c3f5",
   "metadata": {},
   "outputs": [],
   "source": [
    "y = 10"
   ]
  },
  {
   "cell_type": "code",
   "execution_count": 88,
   "id": "8c01228b",
   "metadata": {},
   "outputs": [
    {
     "data": {
      "text/plain": [
       "140712564303952"
      ]
     },
     "execution_count": 88,
     "metadata": {},
     "output_type": "execute_result"
    }
   ],
   "source": [
    "id(p)"
   ]
  },
  {
   "cell_type": "code",
   "execution_count": 89,
   "id": "f4354f7c",
   "metadata": {},
   "outputs": [
    {
     "data": {
      "text/plain": [
       "140712564303952"
      ]
     },
     "execution_count": 89,
     "metadata": {},
     "output_type": "execute_result"
    }
   ],
   "source": [
    "id(y)"
   ]
  },
  {
   "cell_type": "code",
   "execution_count": 90,
   "id": "b4b549a1",
   "metadata": {},
   "outputs": [
    {
     "data": {
      "text/plain": [
       "True"
      ]
     },
     "execution_count": 90,
     "metadata": {},
     "output_type": "execute_result"
    }
   ],
   "source": [
    "p is y"
   ]
  },
  {
   "cell_type": "code",
   "execution_count": 91,
   "id": "a55db3ac",
   "metadata": {},
   "outputs": [
    {
     "data": {
      "text/plain": [
       "False"
      ]
     },
     "execution_count": 91,
     "metadata": {},
     "output_type": "execute_result"
    }
   ],
   "source": [
    "p is not y"
   ]
  },
  {
   "cell_type": "code",
   "execution_count": 92,
   "id": "e0e9406d",
   "metadata": {},
   "outputs": [
    {
     "data": {
      "text/plain": [
       "True"
      ]
     },
     "execution_count": 92,
     "metadata": {},
     "output_type": "execute_result"
    }
   ],
   "source": [
    "p == y"
   ]
  },
  {
   "cell_type": "code",
   "execution_count": 93,
   "id": "01579b16",
   "metadata": {},
   "outputs": [],
   "source": [
    "# Control Flow"
   ]
  },
  {
   "cell_type": "code",
   "execution_count": 94,
   "id": "423f42f5",
   "metadata": {},
   "outputs": [
    {
     "ename": "SyntaxError",
     "evalue": "invalid syntax (<ipython-input-94-0acbec1433ad>, line 1)",
     "output_type": "error",
     "traceback": [
      "\u001b[1;36m  File \u001b[1;32m\"<ipython-input-94-0acbec1433ad>\"\u001b[1;36m, line \u001b[1;32m1\u001b[0m\n\u001b[1;33m    if\u001b[0m\n\u001b[1;37m      ^\u001b[0m\n\u001b[1;31mSyntaxError\u001b[0m\u001b[1;31m:\u001b[0m invalid syntax\n"
     ]
    }
   ],
   "source": [
    "if\n",
    "elif\n",
    "else"
   ]
  },
  {
   "cell_type": "code",
   "execution_count": 95,
   "id": "c69823c5",
   "metadata": {},
   "outputs": [
    {
     "ename": "SyntaxError",
     "evalue": "invalid syntax (<ipython-input-95-f5243ab90fae>, line 1)",
     "output_type": "error",
     "traceback": [
      "\u001b[1;36m  File \u001b[1;32m\"<ipython-input-95-f5243ab90fae>\"\u001b[1;36m, line \u001b[1;32m1\u001b[0m\n\u001b[1;33m    if (test expression):\u001b[0m\n\u001b[1;37m             ^\u001b[0m\n\u001b[1;31mSyntaxError\u001b[0m\u001b[1;31m:\u001b[0m invalid syntax\n"
     ]
    }
   ],
   "source": [
    "if (test expression):\n",
    "    statements\n",
    "else:\n",
    "    statemets"
   ]
  },
  {
   "cell_type": "code",
   "execution_count": 99,
   "id": "0be1136f",
   "metadata": {},
   "outputs": [
    {
     "name": "stdout",
     "output_type": "stream",
     "text": [
      "Enter your age :10\n"
     ]
    }
   ],
   "source": [
    "age = int(input(\"Enter your age :\"))"
   ]
  },
  {
   "cell_type": "code",
   "execution_count": 100,
   "id": "e06cc6cd",
   "metadata": {},
   "outputs": [
    {
     "name": "stdout",
     "output_type": "stream",
     "text": [
      "You are kid\n",
      "You are in collehge\n"
     ]
    }
   ],
   "source": [
    "if age>=18:\n",
    "    print(\"You are eligible for voting\")\n",
    "    print(\"Voting is your right\")\n",
    "else:\n",
    "    print(\"You are kid\")\n",
    "    print(\"You are in collehge\")"
   ]
  },
  {
   "cell_type": "code",
   "execution_count": 101,
   "id": "87db7321",
   "metadata": {},
   "outputs": [
    {
     "ename": "IndentationError",
     "evalue": "expected an indented block (<ipython-input-101-9496d131d56c>, line 2)",
     "output_type": "error",
     "traceback": [
      "\u001b[1;36m  File \u001b[1;32m\"<ipython-input-101-9496d131d56c>\"\u001b[1;36m, line \u001b[1;32m2\u001b[0m\n\u001b[1;33m    print(\"You are eligible for voting\")\u001b[0m\n\u001b[1;37m    ^\u001b[0m\n\u001b[1;31mIndentationError\u001b[0m\u001b[1;31m:\u001b[0m expected an indented block\n"
     ]
    }
   ],
   "source": [
    "if age>=18:\n",
    "print(\"You are eligible for voting\")\n",
    "    print(\"Voting is your right\")\n",
    "else:\n",
    "    print(\"You are kid\")\n",
    "    print(\"You are in collehge\")"
   ]
  },
  {
   "cell_type": "code",
   "execution_count": 105,
   "id": "2653879a",
   "metadata": {},
   "outputs": [
    {
     "name": "stdout",
     "output_type": "stream",
     "text": [
      "You are kid\n",
      "You are in collehge\n"
     ]
    }
   ],
   "source": [
    "if age>=18:\n",
    "                      print(\"You are eligible for voting\")\n",
    "                      print(\"Voting is your right\")\n",
    "else:\n",
    " print(\"You are kid\")\n",
    " print(\"You are in collehge\")"
   ]
  },
  {
   "cell_type": "code",
   "execution_count": 113,
   "id": "2b26bbff",
   "metadata": {},
   "outputs": [
    {
     "name": "stdout",
     "output_type": "stream",
     "text": [
      "Enter any Number :0\n"
     ]
    }
   ],
   "source": [
    "number  = int(input('Enter any Number :'))"
   ]
  },
  {
   "cell_type": "code",
   "execution_count": 114,
   "id": "f0144611",
   "metadata": {},
   "outputs": [
    {
     "name": "stdout",
     "output_type": "stream",
     "text": [
      "its zero\n"
     ]
    }
   ],
   "source": [
    "if number>0:\n",
    "    print(\"its positive\")\n",
    "elif number==0:\n",
    "    print(\"its zero\")\n",
    "else:\n",
    "    print(\"its negative\")"
   ]
  },
  {
   "cell_type": "code",
   "execution_count": 115,
   "id": "266e1dbc",
   "metadata": {},
   "outputs": [],
   "source": [
    "#nesting"
   ]
  },
  {
   "cell_type": "code",
   "execution_count": 121,
   "id": "e9459a8d",
   "metadata": {},
   "outputs": [
    {
     "name": "stdout",
     "output_type": "stream",
     "text": [
      "Enter any Number :-6\n"
     ]
    }
   ],
   "source": [
    "number  = int(input('Enter any Number :'))"
   ]
  },
  {
   "cell_type": "code",
   "execution_count": 122,
   "id": "db472a2e",
   "metadata": {},
   "outputs": [
    {
     "name": "stdout",
     "output_type": "stream",
     "text": [
      "its negative\n"
     ]
    }
   ],
   "source": [
    "if number>=0:\n",
    "    if number==0:\n",
    "        print(\"its zero\")\n",
    "    else:\n",
    "        print(\"its poistive\")\n",
    "else:\n",
    "    print(\"its negative\")"
   ]
  },
  {
   "cell_type": "code",
   "execution_count": 152,
   "id": "f67255e5",
   "metadata": {},
   "outputs": [
    {
     "name": "stdout",
     "output_type": "stream",
     "text": [
      "Enter any Number :-5\n"
     ]
    }
   ],
   "source": [
    "number  = int(input('Enter any Number :'))"
   ]
  },
  {
   "cell_type": "code",
   "execution_count": 153,
   "id": "f2febd1d",
   "metadata": {},
   "outputs": [
    {
     "name": "stdout",
     "output_type": "stream",
     "text": [
      "its negative\n"
     ]
    }
   ],
   "source": [
    "if number>=0:\n",
    "    if number==0:\n",
    "        print(\"its zero\")\n",
    "    if number==10:\n",
    "        print(\"its ten\")\n",
    "    if number==20:\n",
    "        print(\"its twenty\")\n",
    "    if number==30:\n",
    "        print(\"its thirty\")\n",
    "    if number%2==0:\n",
    "        print(\"its even\")\n",
    "    else:\n",
    "        print(\"its odd\")\n",
    "else:\n",
    "    print(\"its negative\")"
   ]
  },
  {
   "cell_type": "code",
   "execution_count": null,
   "id": "3a773ba0",
   "metadata": {},
   "outputs": [],
   "source": []
  },
  {
   "cell_type": "code",
   "execution_count": 154,
   "id": "38978af1",
   "metadata": {},
   "outputs": [],
   "source": [
    "# shopping"
   ]
  },
  {
   "cell_type": "code",
   "execution_count": 170,
   "id": "99176cfa",
   "metadata": {},
   "outputs": [
    {
     "name": "stdout",
     "output_type": "stream",
     "text": [
      "Enter your Shopping Amount:20\n"
     ]
    }
   ],
   "source": [
    "spend = int(input(\"Enter your Shopping Amount:\"))"
   ]
  },
  {
   "cell_type": "code",
   "execution_count": 171,
   "id": "2af6d904",
   "metadata": {},
   "outputs": [
    {
     "name": "stdout",
     "output_type": "stream",
     "text": [
      "Not eligible for any discount\n"
     ]
    }
   ],
   "source": [
    "if spend>=15000:\n",
    "    print(\"You are eligible for a 15% discount\")\n",
    "elif 10000<spend<15000:\n",
    "    print(\"You are eligible for 10% discount\")\n",
    "elif 5000<spend<=10000:\n",
    "    print(\"You are eligible for 5% discount\")\n",
    "elif 1000<spend<=5000:\n",
    "    print(\"You are eligible for a movie ticket\")\n",
    "elif 500<spend<=1000:\n",
    "    print(\"You are eligible for vouchers\")\n",
    "elif 100<spend<=500:\n",
    "    print(\"You are a VIP customer\")\n",
    "else:\n",
    "    print(\"Not eligible for any discount\")"
   ]
  },
  {
   "cell_type": "code",
   "execution_count": null,
   "id": "fef025fe",
   "metadata": {},
   "outputs": [],
   "source": []
  },
  {
   "cell_type": "code",
   "execution_count": 172,
   "id": "486e5bcf",
   "metadata": {},
   "outputs": [],
   "source": [
    "# controol Flow - Looping\n",
    "# for loop\n",
    "# While Loop"
   ]
  },
  {
   "cell_type": "code",
   "execution_count": 173,
   "id": "30740035",
   "metadata": {},
   "outputs": [
    {
     "name": "stdout",
     "output_type": "stream",
     "text": [
      "2\n",
      "4\n",
      "6\n",
      "8\n",
      "10\n",
      "12\n",
      "14\n",
      "16\n",
      "18\n",
      "20\n"
     ]
    }
   ],
   "source": [
    "print(2)\n",
    "print(4)\n",
    "print(6)\n",
    "print(8)\n",
    "print(10)\n",
    "print(12)\n",
    "print(14)\n",
    "print(16)\n",
    "print(18)\n",
    "print(20)"
   ]
  },
  {
   "cell_type": "code",
   "execution_count": 174,
   "id": "75d00fe3",
   "metadata": {},
   "outputs": [
    {
     "ename": "SyntaxError",
     "evalue": "invalid syntax (<ipython-input-174-8cd7524c8a04>, line 1)",
     "output_type": "error",
     "traceback": [
      "\u001b[1;36m  File \u001b[1;32m\"<ipython-input-174-8cd7524c8a04>\"\u001b[1;36m, line \u001b[1;32m1\u001b[0m\n\u001b[1;33m    process :\u001b[0m\n\u001b[1;37m              ^\u001b[0m\n\u001b[1;31mSyntaxError\u001b[0m\u001b[1;31m:\u001b[0m invalid syntax\n"
     ]
    }
   ],
   "source": [
    "process : \n",
    "    1. Initilization\n",
    "    2. Stopping condition\n",
    "    3. updation"
   ]
  },
  {
   "cell_type": "code",
   "execution_count": 176,
   "id": "6a3be443",
   "metadata": {},
   "outputs": [
    {
     "name": "stdout",
     "output_type": "stream",
     "text": [
      "1\n",
      "2\n",
      "3\n",
      "4\n",
      "5\n",
      "6\n",
      "7\n",
      "8\n",
      "9\n",
      "10\n",
      "11\n",
      "12\n",
      "13\n",
      "14\n",
      "15\n",
      "16\n",
      "17\n",
      "18\n",
      "19\n",
      "20\n"
     ]
    }
   ],
   "source": [
    "i = 1\n",
    "\n",
    "while i<=20:\n",
    "    print(i)\n",
    "    \n",
    "    i+=1"
   ]
  },
  {
   "cell_type": "code",
   "execution_count": 196,
   "id": "f6ae8063",
   "metadata": {},
   "outputs": [
    {
     "name": "stdout",
     "output_type": "stream",
     "text": [
      "2,4,6,8,10,12,14,16,18,20,\n",
      "No element Left\n"
     ]
    }
   ],
   "source": [
    "i = 1\n",
    "\n",
    "while i<=20:\n",
    "    if i%2==0:\n",
    "        print(i, end=\",\")\n",
    "    \n",
    "    i+=1\n",
    "else:\n",
    "    print()\n",
    "    print(\"No element Left\")"
   ]
  },
  {
   "cell_type": "code",
   "execution_count": null,
   "id": "4c3484f9",
   "metadata": {},
   "outputs": [],
   "source": []
  },
  {
   "cell_type": "code",
   "execution_count": 179,
   "id": "9afdea43",
   "metadata": {},
   "outputs": [],
   "source": [
    "# while True"
   ]
  },
  {
   "cell_type": "code",
   "execution_count": 183,
   "id": "33c0dd65",
   "metadata": {},
   "outputs": [
    {
     "name": "stdout",
     "output_type": "stream",
     "text": [
      "enter any number :10\n"
     ]
    }
   ],
   "source": [
    "num = float(input('enter any number :'))"
   ]
  },
  {
   "cell_type": "code",
   "execution_count": 184,
   "id": "e41acb92",
   "metadata": {},
   "outputs": [],
   "source": [
    "sum_13 = 0\n",
    "\n",
    "while True:\n",
    "    sum_13+=num\n",
    "    num-=1\n",
    "    \n",
    "    if num==0:\n",
    "        break"
   ]
  },
  {
   "cell_type": "code",
   "execution_count": 185,
   "id": "70014f3c",
   "metadata": {},
   "outputs": [
    {
     "name": "stdout",
     "output_type": "stream",
     "text": [
      "The sum of First n numbers 0.0 are 55.0\n"
     ]
    }
   ],
   "source": [
    "print(f\"The sum of First n numbers {num} are {sum_13}\")"
   ]
  },
  {
   "cell_type": "code",
   "execution_count": null,
   "id": "b300b0e4",
   "metadata": {},
   "outputs": [],
   "source": []
  },
  {
   "cell_type": "code",
   "execution_count": 187,
   "id": "e4ed7b12",
   "metadata": {},
   "outputs": [
    {
     "data": {
      "text/plain": [
       "[1, 2, 3, 4, 5, 6, 7, 8, 9]"
      ]
     },
     "execution_count": 187,
     "metadata": {},
     "output_type": "execute_result"
    }
   ],
   "source": [
    "list(range(1,10))"
   ]
  },
  {
   "cell_type": "code",
   "execution_count": 189,
   "id": "ce7ba15f",
   "metadata": {},
   "outputs": [
    {
     "data": {
      "text/plain": [
       "(1, 2, 3, 4, 5, 6, 7, 8, 9, 10, 11, 12, 13, 14, 15, 16, 17, 18, 19)"
      ]
     },
     "execution_count": 189,
     "metadata": {},
     "output_type": "execute_result"
    }
   ],
   "source": [
    "tuple(range(1,20))"
   ]
  },
  {
   "cell_type": "code",
   "execution_count": 194,
   "id": "1d016a86",
   "metadata": {},
   "outputs": [
    {
     "name": "stdout",
     "output_type": "stream",
     "text": [
      "2,4,6,8,10,12,14,16,18,20,\n",
      "All Done\n"
     ]
    }
   ],
   "source": [
    "for i in range(1,21):\n",
    "    if i%2==0:\n",
    "        print(i, end=\",\")\n",
    "else:\n",
    "    print()\n",
    "    print(\"All Done\")"
   ]
  },
  {
   "cell_type": "code",
   "execution_count": 199,
   "id": "b3e2c9a2",
   "metadata": {},
   "outputs": [
    {
     "name": "stdout",
     "output_type": "stream",
     "text": [
      "2,4,6,8,10,12,14,16,18,20,\n",
      "All completed\n"
     ]
    }
   ],
   "source": [
    "for i in range(2,21,2):\n",
    "    print(i, end=\",\")\n",
    "else:\n",
    "    print()\n",
    "    print(\"All completed\")"
   ]
  },
  {
   "cell_type": "code",
   "execution_count": 200,
   "id": "39f85daf",
   "metadata": {},
   "outputs": [
    {
     "name": "stdout",
     "output_type": "stream",
     "text": [
      "Enter Any Number :5\n"
     ]
    }
   ],
   "source": [
    "number = int(input(\"Enter Any Number :\"))"
   ]
  },
  {
   "cell_type": "code",
   "execution_count": 201,
   "id": "1658493c",
   "metadata": {},
   "outputs": [
    {
     "name": "stdout",
     "output_type": "stream",
     "text": [
      "5x1=5\n",
      "5x2=10\n",
      "5x3=15\n",
      "5x4=20\n",
      "5x5=25\n",
      "5x6=30\n",
      "5x7=35\n",
      "5x8=40\n",
      "5x9=45\n",
      "5x10=50\n",
      "All done....\n"
     ]
    }
   ],
   "source": [
    "for i in range(1,11):\n",
    "    print(f\"{number}x{i}={number*i}\")\n",
    "else:\n",
    "    print(\"All done....\")"
   ]
  },
  {
   "cell_type": "code",
   "execution_count": null,
   "id": "2717304e",
   "metadata": {},
   "outputs": [],
   "source": []
  },
  {
   "cell_type": "code",
   "execution_count": 202,
   "id": "5a9b7578",
   "metadata": {},
   "outputs": [],
   "source": [
    "# Pattern printing"
   ]
  },
  {
   "cell_type": "code",
   "execution_count": 203,
   "id": "8a89a234",
   "metadata": {},
   "outputs": [
    {
     "ename": "SyntaxError",
     "evalue": "invalid syntax (<ipython-input-203-a089d412f594>, line 1)",
     "output_type": "error",
     "traceback": [
      "\u001b[1;36m  File \u001b[1;32m\"<ipython-input-203-a089d412f594>\"\u001b[1;36m, line \u001b[1;32m1\u001b[0m\n\u001b[1;33m    *\u001b[0m\n\u001b[1;37m     ^\u001b[0m\n\u001b[1;31mSyntaxError\u001b[0m\u001b[1;31m:\u001b[0m invalid syntax\n"
     ]
    }
   ],
   "source": [
    "*\n",
    "**\n",
    "***\n",
    "****\n",
    "*****"
   ]
  },
  {
   "cell_type": "code",
   "execution_count": 204,
   "id": "a4a992fe",
   "metadata": {},
   "outputs": [
    {
     "ename": "SyntaxError",
     "evalue": "invalid syntax (<ipython-input-204-4bcc188e343c>, line 2)",
     "output_type": "error",
     "traceback": [
      "\u001b[1;36m  File \u001b[1;32m\"<ipython-input-204-4bcc188e343c>\"\u001b[1;36m, line \u001b[1;32m2\u001b[0m\n\u001b[1;33m    observations:\u001b[0m\n\u001b[1;37m                 ^\u001b[0m\n\u001b[1;31mSyntaxError\u001b[0m\u001b[1;31m:\u001b[0m invalid syntax\n"
     ]
    }
   ],
   "source": [
    "n = 5\n",
    "observations:\n",
    "    number of rows = n\n",
    "    number of stars = row number"
   ]
  },
  {
   "cell_type": "code",
   "execution_count": 206,
   "id": "42fd5853",
   "metadata": {},
   "outputs": [],
   "source": [
    "n = 5"
   ]
  },
  {
   "cell_type": "code",
   "execution_count": 212,
   "id": "803a4dd4",
   "metadata": {},
   "outputs": [
    {
     "name": "stdout",
     "output_type": "stream",
     "text": [
      "*\n",
      "**\n",
      "***\n",
      "****\n",
      "*****\n"
     ]
    }
   ],
   "source": [
    "for i in range(1,n+1):\n",
    "    for j in range(1,i+1):\n",
    "        print(\"*\", end=\"\")\n",
    "    print()"
   ]
  },
  {
   "cell_type": "code",
   "execution_count": 213,
   "id": "7ca74ae6",
   "metadata": {},
   "outputs": [
    {
     "data": {
      "text/plain": [
       "'hellohellohellohellohello'"
      ]
     },
     "execution_count": 213,
     "metadata": {},
     "output_type": "execute_result"
    }
   ],
   "source": [
    "\"hello\"*5"
   ]
  },
  {
   "cell_type": "code",
   "execution_count": 214,
   "id": "dc0976d0",
   "metadata": {},
   "outputs": [
    {
     "data": {
      "text/plain": [
       "'******'"
      ]
     },
     "execution_count": 214,
     "metadata": {},
     "output_type": "execute_result"
    }
   ],
   "source": [
    "\"*\"*6"
   ]
  },
  {
   "cell_type": "code",
   "execution_count": 215,
   "id": "5eda44e1",
   "metadata": {},
   "outputs": [
    {
     "name": "stdout",
     "output_type": "stream",
     "text": [
      "*\n",
      "**\n",
      "***\n",
      "****\n",
      "*****\n"
     ]
    }
   ],
   "source": [
    "for i in range(1,n+1):\n",
    "    print(\"*\"*i)"
   ]
  },
  {
   "cell_type": "code",
   "execution_count": 217,
   "id": "b10c80f4",
   "metadata": {},
   "outputs": [
    {
     "name": "stdout",
     "output_type": "stream",
     "text": [
      "*****\n",
      "****\n",
      "***\n",
      "**\n",
      "*\n"
     ]
    }
   ],
   "source": [
    "for i in range(n, 0,-1):\n",
    "    print(\"*\"*i)"
   ]
  },
  {
   "cell_type": "code",
   "execution_count": 219,
   "id": "114a7824",
   "metadata": {},
   "outputs": [],
   "source": [
    "# q1 ="
   ]
  },
  {
   "cell_type": "code",
   "execution_count": 220,
   "id": "4883afa1",
   "metadata": {},
   "outputs": [
    {
     "name": "stdout",
     "output_type": "stream",
     "text": [
      "enter any number :10\n"
     ]
    }
   ],
   "source": [
    "number = int(input('enter any number :'))"
   ]
  },
  {
   "cell_type": "code",
   "execution_count": 221,
   "id": "eec4801e",
   "metadata": {},
   "outputs": [],
   "source": [
    "h = 0\n",
    "for i in range(1,number+1):\n",
    "    h+=i"
   ]
  },
  {
   "cell_type": "code",
   "execution_count": 223,
   "id": "e7a85f91",
   "metadata": {},
   "outputs": [
    {
     "name": "stdout",
     "output_type": "stream",
     "text": [
      "The sum of first n natural 10 numbers are 55 \n"
     ]
    }
   ],
   "source": [
    "print(f\"The sum of first n natural {number} numbers are {h} \")"
   ]
  },
  {
   "cell_type": "code",
   "execution_count": null,
   "id": "c8c55060",
   "metadata": {},
   "outputs": [],
   "source": []
  },
  {
   "cell_type": "code",
   "execution_count": 225,
   "id": "116211e5",
   "metadata": {},
   "outputs": [],
   "source": [
    "#Q2"
   ]
  },
  {
   "cell_type": "code",
   "execution_count": 318,
   "id": "10af6918",
   "metadata": {},
   "outputs": [
    {
     "name": "stdout",
     "output_type": "stream",
     "text": [
      "enter any number :2\n"
     ]
    }
   ],
   "source": [
    "number = int(input('enter any number :'))\n",
    "\n",
    "is_prime = True"
   ]
  },
  {
   "cell_type": "code",
   "execution_count": 319,
   "id": "9ae0c77c",
   "metadata": {},
   "outputs": [
    {
     "name": "stdout",
     "output_type": "stream",
     "text": [
      "Given 2 is a prime number\n"
     ]
    }
   ],
   "source": [
    "for i in range(2,number):\n",
    "    \n",
    "    if number%i==0:\n",
    "        is_prime = False\n",
    "        \n",
    "if is_prime:\n",
    "    print(f\"Given {number} is a prime number\")\n",
    "else:\n",
    "    print(\"NOt a prime number\")"
   ]
  },
  {
   "cell_type": "code",
   "execution_count": 320,
   "id": "4f139e17",
   "metadata": {},
   "outputs": [],
   "source": [
    "# break, continue, and pass"
   ]
  },
  {
   "cell_type": "code",
   "execution_count": 323,
   "id": "83e0b9e1",
   "metadata": {},
   "outputs": [
    {
     "name": "stdout",
     "output_type": "stream",
     "text": [
      "1\n",
      "2\n",
      "3\n",
      "4\n"
     ]
    }
   ],
   "source": [
    "for i in range(1,10):\n",
    "    if i==5:\n",
    "        break\n",
    "    print(i)\n",
    "else:\n",
    "    print(\"All done\")"
   ]
  },
  {
   "cell_type": "code",
   "execution_count": 324,
   "id": "03b112ca",
   "metadata": {},
   "outputs": [
    {
     "name": "stdout",
     "output_type": "stream",
     "text": [
      "1\n",
      "2\n",
      "3\n",
      "4\n",
      "6\n",
      "7\n",
      "8\n",
      "9\n",
      "All done\n"
     ]
    }
   ],
   "source": [
    "for i in range(1,10):\n",
    "    if i==5:\n",
    "        continue\n",
    "    print(i)\n",
    "else:\n",
    "    print(\"All done\")"
   ]
  },
  {
   "cell_type": "code",
   "execution_count": 325,
   "id": "dd6dd631",
   "metadata": {},
   "outputs": [],
   "source": [
    "for i in range(1,10):\n",
    "    pass"
   ]
  },
  {
   "cell_type": "code",
   "execution_count": 327,
   "id": "d1ed5c93",
   "metadata": {},
   "outputs": [],
   "source": [
    "if 4>5:\n",
    "    pass"
   ]
  },
  {
   "cell_type": "code",
   "execution_count": null,
   "id": "90f6219f",
   "metadata": {},
   "outputs": [],
   "source": []
  }
 ],
 "metadata": {
  "kernelspec": {
   "display_name": "Python 3",
   "language": "python",
   "name": "python3"
  },
  "language_info": {
   "codemirror_mode": {
    "name": "ipython",
    "version": 3
   },
   "file_extension": ".py",
   "mimetype": "text/x-python",
   "name": "python",
   "nbconvert_exporter": "python",
   "pygments_lexer": "ipython3",
   "version": "3.8.8"
  }
 },
 "nbformat": 4,
 "nbformat_minor": 5
}
