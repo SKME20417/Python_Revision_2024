{
 "cells": [
  {
   "cell_type": "code",
   "execution_count": 1,
   "id": "d348661b",
   "metadata": {},
   "outputs": [],
   "source": [
    "#sets"
   ]
  },
  {
   "cell_type": "code",
   "execution_count": 2,
   "id": "8a2201b5",
   "metadata": {},
   "outputs": [],
   "source": [
    "s1 = set()"
   ]
  },
  {
   "cell_type": "code",
   "execution_count": 3,
   "id": "38fc759d",
   "metadata": {},
   "outputs": [
    {
     "data": {
      "text/plain": [
       "set"
      ]
     },
     "execution_count": 3,
     "metadata": {},
     "output_type": "execute_result"
    }
   ],
   "source": [
    "type(s1)"
   ]
  },
  {
   "cell_type": "code",
   "execution_count": 4,
   "id": "460a03ab",
   "metadata": {},
   "outputs": [],
   "source": [
    "s2 = {}"
   ]
  },
  {
   "cell_type": "code",
   "execution_count": 5,
   "id": "6f5eb40f",
   "metadata": {},
   "outputs": [
    {
     "data": {
      "text/plain": [
       "dict"
      ]
     },
     "execution_count": 5,
     "metadata": {},
     "output_type": "execute_result"
    }
   ],
   "source": [
    "type(s2)"
   ]
  },
  {
   "cell_type": "code",
   "execution_count": 6,
   "id": "9ad4ded3",
   "metadata": {},
   "outputs": [],
   "source": [
    "a = {7,8,9,10,15,15,7,8,9,10,8,9,15,7,1,2,3,15,7,8,9,10}"
   ]
  },
  {
   "cell_type": "code",
   "execution_count": 7,
   "id": "e72e137c",
   "metadata": {},
   "outputs": [
    {
     "data": {
      "text/plain": [
       "{1, 2, 3, 7, 8, 9, 10, 15}"
      ]
     },
     "execution_count": 7,
     "metadata": {},
     "output_type": "execute_result"
    }
   ],
   "source": [
    "a"
   ]
  },
  {
   "cell_type": "code",
   "execution_count": 8,
   "id": "97d489fe",
   "metadata": {},
   "outputs": [
    {
     "data": {
      "text/plain": [
       "set"
      ]
     },
     "execution_count": 8,
     "metadata": {},
     "output_type": "execute_result"
    }
   ],
   "source": [
    "type(a)"
   ]
  },
  {
   "cell_type": "code",
   "execution_count": 9,
   "id": "5bfaed09",
   "metadata": {},
   "outputs": [],
   "source": [
    "a.add(20)"
   ]
  },
  {
   "cell_type": "code",
   "execution_count": 10,
   "id": "2066c9d0",
   "metadata": {},
   "outputs": [
    {
     "data": {
      "text/plain": [
       "{1, 2, 3, 7, 8, 9, 10, 15, 20}"
      ]
     },
     "execution_count": 10,
     "metadata": {},
     "output_type": "execute_result"
    }
   ],
   "source": [
    "a"
   ]
  },
  {
   "cell_type": "code",
   "execution_count": 11,
   "id": "9c8a4448",
   "metadata": {},
   "outputs": [],
   "source": [
    "a.add(20)\n",
    "a.add(20)\n",
    "a.add(20)\n",
    "a.add(20)\n",
    "a.add(20)\n",
    "a.add(20)\n",
    "a.add(20)\n",
    "a.add(20)\n",
    "a.add(20)\n",
    "a.add(20)\n",
    "a.add(20)\n",
    "a.add(20)"
   ]
  },
  {
   "cell_type": "code",
   "execution_count": 12,
   "id": "8c51e06b",
   "metadata": {},
   "outputs": [
    {
     "data": {
      "text/plain": [
       "{1, 2, 3, 7, 8, 9, 10, 15, 20}"
      ]
     },
     "execution_count": 12,
     "metadata": {},
     "output_type": "execute_result"
    }
   ],
   "source": [
    "a"
   ]
  },
  {
   "cell_type": "code",
   "execution_count": 13,
   "id": "65c2cd27",
   "metadata": {},
   "outputs": [],
   "source": [
    "a.remove(15)"
   ]
  },
  {
   "cell_type": "code",
   "execution_count": 14,
   "id": "72a4d2ab",
   "metadata": {},
   "outputs": [
    {
     "data": {
      "text/plain": [
       "{1, 2, 3, 7, 8, 9, 10, 20}"
      ]
     },
     "execution_count": 14,
     "metadata": {},
     "output_type": "execute_result"
    }
   ],
   "source": [
    "a"
   ]
  },
  {
   "cell_type": "code",
   "execution_count": 15,
   "id": "48816562",
   "metadata": {},
   "outputs": [
    {
     "ename": "KeyError",
     "evalue": "180",
     "output_type": "error",
     "traceback": [
      "\u001b[1;31m---------------------------------------------------------------------------\u001b[0m",
      "\u001b[1;31mKeyError\u001b[0m                                  Traceback (most recent call last)",
      "\u001b[1;32m<ipython-input-15-32000cd7c0af>\u001b[0m in \u001b[0;36m<module>\u001b[1;34m\u001b[0m\n\u001b[1;32m----> 1\u001b[1;33m \u001b[0ma\u001b[0m\u001b[1;33m.\u001b[0m\u001b[0mremove\u001b[0m\u001b[1;33m(\u001b[0m\u001b[1;36m180\u001b[0m\u001b[1;33m)\u001b[0m\u001b[1;33m\u001b[0m\u001b[1;33m\u001b[0m\u001b[0m\n\u001b[0m",
      "\u001b[1;31mKeyError\u001b[0m: 180"
     ]
    }
   ],
   "source": [
    "a.remove(180)"
   ]
  },
  {
   "cell_type": "code",
   "execution_count": 16,
   "id": "0c5197c9",
   "metadata": {},
   "outputs": [
    {
     "data": {
      "text/plain": [
       "{1, 2, 3, 7, 8, 9, 10, 20}"
      ]
     },
     "execution_count": 16,
     "metadata": {},
     "output_type": "execute_result"
    }
   ],
   "source": [
    "a"
   ]
  },
  {
   "cell_type": "code",
   "execution_count": 17,
   "id": "b6825286",
   "metadata": {},
   "outputs": [],
   "source": [
    "a.discard(20)"
   ]
  },
  {
   "cell_type": "code",
   "execution_count": 18,
   "id": "f19672ab",
   "metadata": {},
   "outputs": [
    {
     "data": {
      "text/plain": [
       "{1, 2, 3, 7, 8, 9, 10}"
      ]
     },
     "execution_count": 18,
     "metadata": {},
     "output_type": "execute_result"
    }
   ],
   "source": [
    "a"
   ]
  },
  {
   "cell_type": "code",
   "execution_count": 19,
   "id": "176b8f47",
   "metadata": {},
   "outputs": [],
   "source": [
    "a.discard(148)"
   ]
  },
  {
   "cell_type": "code",
   "execution_count": 20,
   "id": "cbaa228d",
   "metadata": {},
   "outputs": [
    {
     "data": {
      "text/plain": [
       "{1, 2, 3, 7, 8, 9, 10}"
      ]
     },
     "execution_count": 20,
     "metadata": {},
     "output_type": "execute_result"
    }
   ],
   "source": [
    "a"
   ]
  },
  {
   "cell_type": "code",
   "execution_count": 21,
   "id": "d34d3c99",
   "metadata": {},
   "outputs": [
    {
     "data": {
      "text/plain": [
       "{1, 2, 3, 7, 8, 9, 10}"
      ]
     },
     "execution_count": 21,
     "metadata": {},
     "output_type": "execute_result"
    }
   ],
   "source": [
    "a"
   ]
  },
  {
   "cell_type": "code",
   "execution_count": 22,
   "id": "b4464e91",
   "metadata": {},
   "outputs": [
    {
     "ename": "TypeError",
     "evalue": "'set' object is not subscriptable",
     "output_type": "error",
     "traceback": [
      "\u001b[1;31m---------------------------------------------------------------------------\u001b[0m",
      "\u001b[1;31mTypeError\u001b[0m                                 Traceback (most recent call last)",
      "\u001b[1;32m<ipython-input-22-8bc71255a22e>\u001b[0m in \u001b[0;36m<module>\u001b[1;34m\u001b[0m\n\u001b[1;32m----> 1\u001b[1;33m \u001b[0ma\u001b[0m\u001b[1;33m[\u001b[0m\u001b[1;36m1\u001b[0m\u001b[1;33m]\u001b[0m\u001b[1;33m\u001b[0m\u001b[1;33m\u001b[0m\u001b[0m\n\u001b[0m",
      "\u001b[1;31mTypeError\u001b[0m: 'set' object is not subscriptable"
     ]
    }
   ],
   "source": [
    "a[1]"
   ]
  },
  {
   "cell_type": "code",
   "execution_count": 23,
   "id": "99faa23c",
   "metadata": {},
   "outputs": [],
   "source": [
    "a.update([7,8,9,10,12])"
   ]
  },
  {
   "cell_type": "code",
   "execution_count": 24,
   "id": "d1dab511",
   "metadata": {},
   "outputs": [
    {
     "data": {
      "text/plain": [
       "{1, 2, 3, 7, 8, 9, 10, 12}"
      ]
     },
     "execution_count": 24,
     "metadata": {},
     "output_type": "execute_result"
    }
   ],
   "source": [
    "a"
   ]
  },
  {
   "cell_type": "code",
   "execution_count": 27,
   "id": "eaaf7950",
   "metadata": {},
   "outputs": [],
   "source": [
    "a.update((14,25,36,89))"
   ]
  },
  {
   "cell_type": "code",
   "execution_count": 28,
   "id": "d0c618ed",
   "metadata": {},
   "outputs": [
    {
     "data": {
      "text/plain": [
       "{1, 2, 3, 7, 8, 9, 10, 12, 14, 25, 36, 89}"
      ]
     },
     "execution_count": 28,
     "metadata": {},
     "output_type": "execute_result"
    }
   ],
   "source": [
    "a"
   ]
  },
  {
   "cell_type": "code",
   "execution_count": 29,
   "id": "205b7175",
   "metadata": {},
   "outputs": [],
   "source": [
    "s1 = {1,2,3,4,5,6}"
   ]
  },
  {
   "cell_type": "code",
   "execution_count": 30,
   "id": "8a050068",
   "metadata": {},
   "outputs": [],
   "source": [
    "s2 = {4,5,6,7,8,9}"
   ]
  },
  {
   "cell_type": "code",
   "execution_count": 31,
   "id": "b242986b",
   "metadata": {},
   "outputs": [
    {
     "data": {
      "text/plain": [
       "{1, 2, 3, 4, 5, 6, 7, 8, 9}"
      ]
     },
     "execution_count": 31,
     "metadata": {},
     "output_type": "execute_result"
    }
   ],
   "source": [
    "s1.union(s2)"
   ]
  },
  {
   "cell_type": "code",
   "execution_count": 32,
   "id": "e9ed279d",
   "metadata": {},
   "outputs": [
    {
     "data": {
      "text/plain": [
       "{4, 5, 6}"
      ]
     },
     "execution_count": 32,
     "metadata": {},
     "output_type": "execute_result"
    }
   ],
   "source": [
    "s1.intersection(s2)"
   ]
  },
  {
   "cell_type": "code",
   "execution_count": 33,
   "id": "fb366e4c",
   "metadata": {},
   "outputs": [
    {
     "data": {
      "text/plain": [
       "{1, 2, 3}"
      ]
     },
     "execution_count": 33,
     "metadata": {},
     "output_type": "execute_result"
    }
   ],
   "source": [
    "s1-s2"
   ]
  },
  {
   "cell_type": "code",
   "execution_count": 34,
   "id": "b859c404",
   "metadata": {},
   "outputs": [
    {
     "data": {
      "text/plain": [
       "{7, 8, 9}"
      ]
     },
     "execution_count": 34,
     "metadata": {},
     "output_type": "execute_result"
    }
   ],
   "source": [
    "s2-s1"
   ]
  },
  {
   "cell_type": "code",
   "execution_count": 35,
   "id": "e9f37e3c",
   "metadata": {},
   "outputs": [
    {
     "data": {
      "text/plain": [
       "{1, 2, 3, 7, 8, 9}"
      ]
     },
     "execution_count": 35,
     "metadata": {},
     "output_type": "execute_result"
    }
   ],
   "source": [
    "s1.symmetric_difference(s2)"
   ]
  },
  {
   "cell_type": "code",
   "execution_count": 36,
   "id": "5d3fdb29",
   "metadata": {},
   "outputs": [
    {
     "data": {
      "text/plain": [
       "{4, 5, 6}"
      ]
     },
     "execution_count": 36,
     "metadata": {},
     "output_type": "execute_result"
    }
   ],
   "source": [
    "s1&s2"
   ]
  },
  {
   "cell_type": "code",
   "execution_count": 37,
   "id": "ee133987",
   "metadata": {},
   "outputs": [
    {
     "data": {
      "text/plain": [
       "{1, 2, 3, 4, 5, 6, 7, 8, 9}"
      ]
     },
     "execution_count": 37,
     "metadata": {},
     "output_type": "execute_result"
    }
   ],
   "source": [
    "s1 | s2"
   ]
  },
  {
   "cell_type": "code",
   "execution_count": 39,
   "id": "8fcc1c61",
   "metadata": {},
   "outputs": [
    {
     "data": {
      "text/plain": [
       "{1, 2, 3, 7, 8, 9}"
      ]
     },
     "execution_count": 39,
     "metadata": {},
     "output_type": "execute_result"
    }
   ],
   "source": [
    "(s1 |s2) - (s1&s2)"
   ]
  },
  {
   "cell_type": "code",
   "execution_count": 40,
   "id": "b6f6baf2",
   "metadata": {},
   "outputs": [],
   "source": [
    "some_list = [6,3,7,6,4,1,0,9,2,1,0,8,6,4,7]"
   ]
  },
  {
   "cell_type": "code",
   "execution_count": 41,
   "id": "606c9399",
   "metadata": {},
   "outputs": [
    {
     "data": {
      "text/plain": [
       "[6, 3, 7, 6, 4, 1, 0, 9, 2, 1, 0, 8, 6, 4, 7]"
      ]
     },
     "execution_count": 41,
     "metadata": {},
     "output_type": "execute_result"
    }
   ],
   "source": [
    "some_list"
   ]
  },
  {
   "cell_type": "code",
   "execution_count": 42,
   "id": "42a8a55f",
   "metadata": {},
   "outputs": [],
   "source": [
    "my_set = set(some_list)"
   ]
  },
  {
   "cell_type": "code",
   "execution_count": 43,
   "id": "1de31394",
   "metadata": {},
   "outputs": [
    {
     "data": {
      "text/plain": [
       "{0, 1, 2, 3, 4, 6, 7, 8, 9}"
      ]
     },
     "execution_count": 43,
     "metadata": {},
     "output_type": "execute_result"
    }
   ],
   "source": [
    "my_set"
   ]
  },
  {
   "cell_type": "code",
   "execution_count": 44,
   "id": "9709e243",
   "metadata": {},
   "outputs": [],
   "source": [
    "some_list = list(my_set)"
   ]
  },
  {
   "cell_type": "code",
   "execution_count": 45,
   "id": "f548396d",
   "metadata": {},
   "outputs": [
    {
     "data": {
      "text/plain": [
       "[0, 1, 2, 3, 4, 6, 7, 8, 9]"
      ]
     },
     "execution_count": 45,
     "metadata": {},
     "output_type": "execute_result"
    }
   ],
   "source": [
    "some_list"
   ]
  },
  {
   "cell_type": "code",
   "execution_count": null,
   "id": "7d00edd2",
   "metadata": {},
   "outputs": [],
   "source": []
  },
  {
   "cell_type": "code",
   "execution_count": 46,
   "id": "79bb25b4",
   "metadata": {},
   "outputs": [
    {
     "data": {
      "text/plain": [
       "{0, 1, 2, 3, 4, 6, 7, 8, 9}"
      ]
     },
     "execution_count": 46,
     "metadata": {},
     "output_type": "execute_result"
    }
   ],
   "source": [
    "my_set"
   ]
  },
  {
   "cell_type": "code",
   "execution_count": 47,
   "id": "b07be2f2",
   "metadata": {},
   "outputs": [
    {
     "data": {
      "text/plain": [
       "True"
      ]
     },
     "execution_count": 47,
     "metadata": {},
     "output_type": "execute_result"
    }
   ],
   "source": [
    "2 in my_set"
   ]
  },
  {
   "cell_type": "code",
   "execution_count": 48,
   "id": "c6848abf",
   "metadata": {},
   "outputs": [
    {
     "data": {
      "text/plain": [
       "True"
      ]
     },
     "execution_count": 48,
     "metadata": {},
     "output_type": "execute_result"
    }
   ],
   "source": [
    "100 not in my_set"
   ]
  },
  {
   "cell_type": "code",
   "execution_count": 50,
   "id": "17a8752f",
   "metadata": {},
   "outputs": [
    {
     "data": {
      "text/plain": [
       "False"
      ]
     },
     "execution_count": 50,
     "metadata": {},
     "output_type": "execute_result"
    }
   ],
   "source": [
    "150  in my_set"
   ]
  },
  {
   "cell_type": "code",
   "execution_count": 52,
   "id": "79385970",
   "metadata": {},
   "outputs": [],
   "source": [
    "# Dictionary"
   ]
  },
  {
   "cell_type": "code",
   "execution_count": 53,
   "id": "4292eaa5",
   "metadata": {},
   "outputs": [],
   "source": [
    "dic = {}"
   ]
  },
  {
   "cell_type": "code",
   "execution_count": 54,
   "id": "ebfb4009",
   "metadata": {},
   "outputs": [
    {
     "data": {
      "text/plain": [
       "dict"
      ]
     },
     "execution_count": 54,
     "metadata": {},
     "output_type": "execute_result"
    }
   ],
   "source": [
    "type(dic)"
   ]
  },
  {
   "cell_type": "code",
   "execution_count": 55,
   "id": "2cea73cf",
   "metadata": {},
   "outputs": [],
   "source": [
    "a = dict()"
   ]
  },
  {
   "cell_type": "code",
   "execution_count": 56,
   "id": "05512135",
   "metadata": {},
   "outputs": [
    {
     "data": {
      "text/plain": [
       "dict"
      ]
     },
     "execution_count": 56,
     "metadata": {},
     "output_type": "execute_result"
    }
   ],
   "source": [
    "type(a)"
   ]
  },
  {
   "cell_type": "code",
   "execution_count": 57,
   "id": "d3748f36",
   "metadata": {},
   "outputs": [],
   "source": [
    "e = [(1, 'abc'), (2, 'pqr'), (3, 'xyz'), (4, 'asd'), (5, 'kjh')]"
   ]
  },
  {
   "cell_type": "code",
   "execution_count": 58,
   "id": "bbd207e1",
   "metadata": {},
   "outputs": [
    {
     "data": {
      "text/plain": [
       "[(1, 'abc'), (2, 'pqr'), (3, 'xyz'), (4, 'asd'), (5, 'kjh')]"
      ]
     },
     "execution_count": 58,
     "metadata": {},
     "output_type": "execute_result"
    }
   ],
   "source": [
    "e"
   ]
  },
  {
   "cell_type": "code",
   "execution_count": 59,
   "id": "3e83c8e9",
   "metadata": {},
   "outputs": [
    {
     "data": {
      "text/plain": [
       "list"
      ]
     },
     "execution_count": 59,
     "metadata": {},
     "output_type": "execute_result"
    }
   ],
   "source": [
    "type(e)"
   ]
  },
  {
   "cell_type": "code",
   "execution_count": 60,
   "id": "b9d7172c",
   "metadata": {},
   "outputs": [],
   "source": [
    "f  =dict(e)"
   ]
  },
  {
   "cell_type": "code",
   "execution_count": 61,
   "id": "59ffae02",
   "metadata": {},
   "outputs": [
    {
     "data": {
      "text/plain": [
       "{1: 'abc', 2: 'pqr', 3: 'xyz', 4: 'asd', 5: 'kjh'}"
      ]
     },
     "execution_count": 61,
     "metadata": {},
     "output_type": "execute_result"
    }
   ],
   "source": [
    "f"
   ]
  },
  {
   "cell_type": "code",
   "execution_count": 62,
   "id": "5f431c8a",
   "metadata": {},
   "outputs": [],
   "source": [
    "user_info = {\n",
    "    'name': 'Pooja',\n",
    "    'age': 30,\n",
    "    'nationality':'Indian',\n",
    "    'hobby' : ['coding', 'dancing', 'singing']\n",
    "}"
   ]
  },
  {
   "cell_type": "code",
   "execution_count": 63,
   "id": "fb8dcc10",
   "metadata": {},
   "outputs": [
    {
     "data": {
      "text/plain": [
       "{'name': 'Pooja',\n",
       " 'age': 30,\n",
       " 'nationality': 'Indian',\n",
       " 'hobby': ['coding', 'dancing', 'singing']}"
      ]
     },
     "execution_count": 63,
     "metadata": {},
     "output_type": "execute_result"
    }
   ],
   "source": [
    "user_info"
   ]
  },
  {
   "cell_type": "code",
   "execution_count": 64,
   "id": "05ac5cc2",
   "metadata": {},
   "outputs": [
    {
     "data": {
      "text/plain": [
       "dict"
      ]
     },
     "execution_count": 64,
     "metadata": {},
     "output_type": "execute_result"
    }
   ],
   "source": [
    "type(user_info)"
   ]
  },
  {
   "cell_type": "code",
   "execution_count": 66,
   "id": "9c270ea5",
   "metadata": {},
   "outputs": [],
   "source": [
    "#Accessing elements"
   ]
  },
  {
   "cell_type": "code",
   "execution_count": 67,
   "id": "5f44567b",
   "metadata": {},
   "outputs": [
    {
     "data": {
      "text/plain": [
       "{'name': 'Pooja',\n",
       " 'age': 30,\n",
       " 'nationality': 'Indian',\n",
       " 'hobby': ['coding', 'dancing', 'singing']}"
      ]
     },
     "execution_count": 67,
     "metadata": {},
     "output_type": "execute_result"
    }
   ],
   "source": [
    "user_info"
   ]
  },
  {
   "cell_type": "code",
   "execution_count": 68,
   "id": "6fa766e9",
   "metadata": {},
   "outputs": [
    {
     "data": {
      "text/plain": [
       "'Pooja'"
      ]
     },
     "execution_count": 68,
     "metadata": {},
     "output_type": "execute_result"
    }
   ],
   "source": [
    "user_info['name']"
   ]
  },
  {
   "cell_type": "code",
   "execution_count": 69,
   "id": "3161e47c",
   "metadata": {},
   "outputs": [
    {
     "data": {
      "text/plain": [
       "30"
      ]
     },
     "execution_count": 69,
     "metadata": {},
     "output_type": "execute_result"
    }
   ],
   "source": [
    "user_info['age']"
   ]
  },
  {
   "cell_type": "code",
   "execution_count": 71,
   "id": "8b4f593c",
   "metadata": {},
   "outputs": [],
   "source": [
    "user_info['company'] = 'Google'"
   ]
  },
  {
   "cell_type": "code",
   "execution_count": 72,
   "id": "387580fb",
   "metadata": {},
   "outputs": [
    {
     "data": {
      "text/plain": [
       "{'name': 'Pooja',\n",
       " 'age': 30,\n",
       " 'nationality': 'Indian',\n",
       " 'hobby': ['coding', 'dancing', 'singing'],\n",
       " 'company': 'Google'}"
      ]
     },
     "execution_count": 72,
     "metadata": {},
     "output_type": "execute_result"
    }
   ],
   "source": [
    "user_info"
   ]
  },
  {
   "cell_type": "code",
   "execution_count": 74,
   "id": "a5783f68",
   "metadata": {},
   "outputs": [
    {
     "ename": "KeyError",
     "evalue": "'salary'",
     "output_type": "error",
     "traceback": [
      "\u001b[1;31m---------------------------------------------------------------------------\u001b[0m",
      "\u001b[1;31mKeyError\u001b[0m                                  Traceback (most recent call last)",
      "\u001b[1;32m<ipython-input-74-26792e12a090>\u001b[0m in \u001b[0;36m<module>\u001b[1;34m\u001b[0m\n\u001b[1;32m----> 1\u001b[1;33m \u001b[0muser_info\u001b[0m\u001b[1;33m[\u001b[0m\u001b[1;34m'salary'\u001b[0m\u001b[1;33m]\u001b[0m\u001b[1;33m\u001b[0m\u001b[1;33m\u001b[0m\u001b[0m\n\u001b[0m",
      "\u001b[1;31mKeyError\u001b[0m: 'salary'"
     ]
    }
   ],
   "source": [
    "user_info['salary']"
   ]
  },
  {
   "cell_type": "code",
   "execution_count": 75,
   "id": "f480d336",
   "metadata": {},
   "outputs": [
    {
     "data": {
      "text/plain": [
       "'Google'"
      ]
     },
     "execution_count": 75,
     "metadata": {},
     "output_type": "execute_result"
    }
   ],
   "source": [
    "user_info['company']"
   ]
  },
  {
   "cell_type": "code",
   "execution_count": 76,
   "id": "4b984fbc",
   "metadata": {},
   "outputs": [],
   "source": [
    "user_info.get('salary')"
   ]
  },
  {
   "cell_type": "code",
   "execution_count": 77,
   "id": "199fb99b",
   "metadata": {},
   "outputs": [
    {
     "data": {
      "text/plain": [
       "['coding', 'dancing', 'singing']"
      ]
     },
     "execution_count": 77,
     "metadata": {},
     "output_type": "execute_result"
    }
   ],
   "source": [
    "user_info.get('hobby')"
   ]
  },
  {
   "cell_type": "code",
   "execution_count": 78,
   "id": "0eb6b7f9",
   "metadata": {},
   "outputs": [
    {
     "name": "stdout",
     "output_type": "stream",
     "text": [
      "{'name': 'Pooja', 'age': 30, 'nationality': 'Indian', 'hobby': ['coding', 'dancing', 'singing'], 'company': 'Google'}\n"
     ]
    }
   ],
   "source": [
    "print(user_info)"
   ]
  },
  {
   "cell_type": "code",
   "execution_count": 81,
   "id": "d3156363",
   "metadata": {},
   "outputs": [],
   "source": [
    "user_info['language'] = ['C', 'C++', 'Phython', 'java', 'English']"
   ]
  },
  {
   "cell_type": "code",
   "execution_count": 82,
   "id": "6436ee6b",
   "metadata": {},
   "outputs": [
    {
     "data": {
      "text/plain": [
       "{'name': 'Pooja',\n",
       " 'age': 30,\n",
       " 'nationality': 'Indian',\n",
       " 'hobby': ['coding', 'dancing', 'singing'],\n",
       " 'company': 'Google',\n",
       " 'language': ['C', 'C++', 'Phython', 'java', 'English']}"
      ]
     },
     "execution_count": 82,
     "metadata": {},
     "output_type": "execute_result"
    }
   ],
   "source": [
    "user_info"
   ]
  },
  {
   "cell_type": "code",
   "execution_count": 85,
   "id": "08ef4160",
   "metadata": {},
   "outputs": [],
   "source": [
    "user_info['name'] = 'ravi'"
   ]
  },
  {
   "cell_type": "code",
   "execution_count": 86,
   "id": "a9a2d796",
   "metadata": {},
   "outputs": [
    {
     "data": {
      "text/plain": [
       "{'name': 'ravi',\n",
       " 'age': 30,\n",
       " 'nationality': 'Indian',\n",
       " 'hobby': ['coding', 'dancing', 'singing'],\n",
       " 'company': 'Google',\n",
       " 'language': ['C', 'C++', 'Phython', 'java', 'English']}"
      ]
     },
     "execution_count": 86,
     "metadata": {},
     "output_type": "execute_result"
    }
   ],
   "source": [
    "user_info"
   ]
  },
  {
   "cell_type": "code",
   "execution_count": 88,
   "id": "0d4e2c41",
   "metadata": {},
   "outputs": [],
   "source": [
    "#Dictionary Functions"
   ]
  },
  {
   "cell_type": "code",
   "execution_count": 90,
   "id": "362a11db",
   "metadata": {},
   "outputs": [
    {
     "data": {
      "text/plain": [
       "dict_keys(['name', 'age', 'nationality', 'hobby', 'company', 'language'])"
      ]
     },
     "execution_count": 90,
     "metadata": {},
     "output_type": "execute_result"
    }
   ],
   "source": [
    "user_info.keys()"
   ]
  },
  {
   "cell_type": "code",
   "execution_count": 91,
   "id": "37d084ed",
   "metadata": {},
   "outputs": [
    {
     "data": {
      "text/plain": [
       "dict_values(['ravi', 30, 'Indian', ['coding', 'dancing', 'singing'], 'Google', ['C', 'C++', 'Phython', 'java', 'English']])"
      ]
     },
     "execution_count": 91,
     "metadata": {},
     "output_type": "execute_result"
    }
   ],
   "source": [
    "user_info.values()"
   ]
  },
  {
   "cell_type": "code",
   "execution_count": 92,
   "id": "fb4d43f0",
   "metadata": {},
   "outputs": [
    {
     "data": {
      "text/plain": [
       "dict_items([('name', 'ravi'), ('age', 30), ('nationality', 'Indian'), ('hobby', ['coding', 'dancing', 'singing']), ('company', 'Google'), ('language', ['C', 'C++', 'Phython', 'java', 'English'])])"
      ]
     },
     "execution_count": 92,
     "metadata": {},
     "output_type": "execute_result"
    }
   ],
   "source": [
    "user_info.items()"
   ]
  },
  {
   "cell_type": "code",
   "execution_count": 95,
   "id": "08a1dbe6",
   "metadata": {},
   "outputs": [
    {
     "name": "stdout",
     "output_type": "stream",
     "text": [
      "ravi\n",
      "30\n",
      "Indian\n",
      "['coding', 'dancing', 'singing']\n",
      "Google\n",
      "['C', 'C++', 'Phython', 'java', 'English']\n"
     ]
    }
   ],
   "source": [
    "for i in user_info.keys():\n",
    "    print(user_info[i])"
   ]
  },
  {
   "cell_type": "code",
   "execution_count": 96,
   "id": "8909c474",
   "metadata": {},
   "outputs": [
    {
     "name": "stdout",
     "output_type": "stream",
     "text": [
      "name : ravi\n",
      "age : 30\n",
      "nationality : Indian\n",
      "hobby : ['coding', 'dancing', 'singing']\n",
      "company : Google\n",
      "language : ['C', 'C++', 'Phython', 'java', 'English']\n"
     ]
    }
   ],
   "source": [
    "for k, v in user_info.items():\n",
    "    print(k, \":\", v)"
   ]
  },
  {
   "cell_type": "code",
   "execution_count": null,
   "id": "d0a14fa8",
   "metadata": {},
   "outputs": [],
   "source": []
  },
  {
   "cell_type": "code",
   "execution_count": 98,
   "id": "cd5a81f3",
   "metadata": {},
   "outputs": [
    {
     "data": {
      "text/plain": [
       "45"
      ]
     },
     "execution_count": 98,
     "metadata": {},
     "output_type": "execute_result"
    }
   ],
   "source": [
    "hash(45)"
   ]
  },
  {
   "cell_type": "code",
   "execution_count": 99,
   "id": "416c1e74",
   "metadata": {},
   "outputs": [
    {
     "data": {
      "text/plain": [
       "10"
      ]
     },
     "execution_count": 99,
     "metadata": {},
     "output_type": "execute_result"
    }
   ],
   "source": [
    "hash(10)"
   ]
  },
  {
   "cell_type": "code",
   "execution_count": 100,
   "id": "2f91405e",
   "metadata": {},
   "outputs": [
    {
     "data": {
      "text/plain": [
       "-5856315281083121960"
      ]
     },
     "execution_count": 100,
     "metadata": {},
     "output_type": "execute_result"
    }
   ],
   "source": [
    "hash('python')"
   ]
  },
  {
   "cell_type": "code",
   "execution_count": 101,
   "id": "ad6fbff2",
   "metadata": {},
   "outputs": [
    {
     "ename": "TypeError",
     "evalue": "unhashable type: 'list'",
     "output_type": "error",
     "traceback": [
      "\u001b[1;31m---------------------------------------------------------------------------\u001b[0m",
      "\u001b[1;31mTypeError\u001b[0m                                 Traceback (most recent call last)",
      "\u001b[1;32m<ipython-input-101-7705eaab1695>\u001b[0m in \u001b[0;36m<module>\u001b[1;34m\u001b[0m\n\u001b[1;32m----> 1\u001b[1;33m \u001b[0mhash\u001b[0m\u001b[1;33m(\u001b[0m\u001b[1;33m[\u001b[0m\u001b[1;36m10\u001b[0m\u001b[1;33m,\u001b[0m\u001b[1;36m12\u001b[0m\u001b[1;33m]\u001b[0m\u001b[1;33m)\u001b[0m\u001b[1;33m\u001b[0m\u001b[1;33m\u001b[0m\u001b[0m\n\u001b[0m",
      "\u001b[1;31mTypeError\u001b[0m: unhashable type: 'list'"
     ]
    }
   ],
   "source": [
    "hash([10,12])"
   ]
  },
  {
   "cell_type": "code",
   "execution_count": 102,
   "id": "bd3f9aaf",
   "metadata": {},
   "outputs": [
    {
     "data": {
      "text/plain": [
       "6318789902779557316"
      ]
     },
     "execution_count": 102,
     "metadata": {},
     "output_type": "execute_result"
    }
   ],
   "source": [
    "hash((10,15,20))"
   ]
  },
  {
   "cell_type": "code",
   "execution_count": null,
   "id": "7ce12596",
   "metadata": {},
   "outputs": [],
   "source": []
  },
  {
   "cell_type": "code",
   "execution_count": 104,
   "id": "7134005b",
   "metadata": {},
   "outputs": [
    {
     "data": {
      "text/plain": [
       "30"
      ]
     },
     "execution_count": 104,
     "metadata": {},
     "output_type": "execute_result"
    }
   ],
   "source": [
    "user_info.pop('age')"
   ]
  },
  {
   "cell_type": "code",
   "execution_count": 105,
   "id": "ecb61f08",
   "metadata": {},
   "outputs": [
    {
     "data": {
      "text/plain": [
       "{'name': 'ravi',\n",
       " 'nationality': 'Indian',\n",
       " 'hobby': ['coding', 'dancing', 'singing'],\n",
       " 'company': 'Google',\n",
       " 'language': ['C', 'C++', 'Phython', 'java', 'English']}"
      ]
     },
     "execution_count": 105,
     "metadata": {},
     "output_type": "execute_result"
    }
   ],
   "source": [
    "user_info"
   ]
  },
  {
   "cell_type": "code",
   "execution_count": 107,
   "id": "ad9f73ce",
   "metadata": {},
   "outputs": [],
   "source": [
    "del user_info['name']"
   ]
  },
  {
   "cell_type": "code",
   "execution_count": 108,
   "id": "80e490ca",
   "metadata": {},
   "outputs": [
    {
     "data": {
      "text/plain": [
       "{'nationality': 'Indian',\n",
       " 'hobby': ['coding', 'dancing', 'singing'],\n",
       " 'company': 'Google',\n",
       " 'language': ['C', 'C++', 'Phython', 'java', 'English']}"
      ]
     },
     "execution_count": 108,
     "metadata": {},
     "output_type": "execute_result"
    }
   ],
   "source": [
    "user_info"
   ]
  },
  {
   "cell_type": "code",
   "execution_count": null,
   "id": "4e7a9480",
   "metadata": {},
   "outputs": [],
   "source": []
  },
  {
   "cell_type": "code",
   "execution_count": 109,
   "id": "d8014dc4",
   "metadata": {},
   "outputs": [],
   "source": [
    "canteen_menu = {\n",
    "    'samosa':20,\n",
    "    'pizza':100,\n",
    "    'burger':150,\n",
    "    'fruits':{\n",
    "        'applle':150,\n",
    "        'banana':200,\n",
    "        'grapes':300,\n",
    "        \n",
    "    },\n",
    "    'juices':['small', 'medium', 'larger'],\n",
    "    'Thali':\n",
    "    {\n",
    "        'veg':{\n",
    "            'simple_veg':150,\n",
    "            'delux_veg':200,\n",
    "            'paneer_veg':300,\n",
    "            'super_veg':{\n",
    "                'starter':[14,25,36],\n",
    "                'appititers':180,\n",
    "                'drinks':180\n",
    "            }\n",
    "        }\n",
    "    },\n",
    "    'snakes':{\n",
    "        'chowmeen':150,\n",
    "        'momos':{\n",
    "            'veg':{\n",
    "                'paneer':160,\n",
    "                'soya':50,\n",
    "                'vegitables':900\n",
    "            }\n",
    "        }\n",
    "    }\n",
    "}"
   ]
  },
  {
   "cell_type": "code",
   "execution_count": 110,
   "id": "844c8abf",
   "metadata": {},
   "outputs": [
    {
     "data": {
      "text/plain": [
       "{'samosa': 20,\n",
       " 'pizza': 100,\n",
       " 'burger': 150,\n",
       " 'fruits': {'applle': 150, 'banana': 200, 'grapes': 300},\n",
       " 'juices': ['small', 'medium', 'larger'],\n",
       " 'Thali': {'veg': {'simple_veg': 150,\n",
       "   'delux_veg': 200,\n",
       "   'paneer_veg': 300,\n",
       "   'super_veg': {'starter': [14, 25, 36], 'appititers': 180, 'drinks': 180}}},\n",
       " 'snakes': {'chowmeen': 150,\n",
       "  'momos': {'veg': {'paneer': 160, 'soya': 50, 'vegitables': 900}}}}"
      ]
     },
     "execution_count": 110,
     "metadata": {},
     "output_type": "execute_result"
    }
   ],
   "source": [
    "canteen_menu"
   ]
  },
  {
   "cell_type": "code",
   "execution_count": 115,
   "id": "a6d0adf1",
   "metadata": {},
   "outputs": [
    {
     "data": {
      "text/plain": [
       "180"
      ]
     },
     "execution_count": 115,
     "metadata": {},
     "output_type": "execute_result"
    }
   ],
   "source": [
    "canteen_menu['Thali']['veg']['super_veg']['appititers']"
   ]
  },
  {
   "cell_type": "code",
   "execution_count": 117,
   "id": "c76f251e",
   "metadata": {},
   "outputs": [],
   "source": [
    "canteen_menu['super'] = [140,170,180]"
   ]
  },
  {
   "cell_type": "code",
   "execution_count": 118,
   "id": "81f32ad3",
   "metadata": {},
   "outputs": [
    {
     "data": {
      "text/plain": [
       "{'samosa': 20,\n",
       " 'pizza': 100,\n",
       " 'burger': 150,\n",
       " 'fruits': {'applle': 150, 'banana': 200, 'grapes': 300},\n",
       " 'juices': ['small', 'medium', 'larger'],\n",
       " 'Thali': {'veg': {'simple_veg': 150,\n",
       "   'delux_veg': 200,\n",
       "   'paneer_veg': 300,\n",
       "   'super_veg': {'starter': [14, 25, 36], 'appititers': 180, 'drinks': 180}}},\n",
       " 'snakes': {'chowmeen': 150,\n",
       "  'momos': {'veg': {'paneer': 160, 'soya': 50, 'vegitables': 900}}},\n",
       " 'super': [140, 170, 180]}"
      ]
     },
     "execution_count": 118,
     "metadata": {},
     "output_type": "execute_result"
    }
   ],
   "source": [
    "canteen_menu"
   ]
  },
  {
   "cell_type": "code",
   "execution_count": 121,
   "id": "01f22820",
   "metadata": {},
   "outputs": [
    {
     "data": {
      "text/plain": [
       "180"
      ]
     },
     "execution_count": 121,
     "metadata": {},
     "output_type": "execute_result"
    }
   ],
   "source": [
    "canteen_menu['super'][-1]"
   ]
  },
  {
   "cell_type": "code",
   "execution_count": null,
   "id": "bfa6d0ae",
   "metadata": {},
   "outputs": [],
   "source": []
  },
  {
   "cell_type": "code",
   "execution_count": 125,
   "id": "6d2e0410",
   "metadata": {},
   "outputs": [],
   "source": [
    "d = {'a':1, 'b':2, 'c':3, 'd':4, 'e':5, 'f':6, 'g':7, 'h':8}"
   ]
  },
  {
   "cell_type": "code",
   "execution_count": 126,
   "id": "0ecd5c60",
   "metadata": {},
   "outputs": [
    {
     "name": "stdout",
     "output_type": "stream",
     "text": [
      "{'a': 1, 'b': 2, 'c': 3, 'd': 4, 'e': 5, 'f': 6, 'g': 7, 'h': 8}\n"
     ]
    }
   ],
   "source": [
    "print(d)"
   ]
  },
  {
   "cell_type": "code",
   "execution_count": 127,
   "id": "fbb8c644",
   "metadata": {},
   "outputs": [
    {
     "name": "stdout",
     "output_type": "stream",
     "text": [
      "a : 1\n",
      "b : 2\n",
      "c : 3\n",
      "d : 4\n",
      "e : 5\n",
      "f : 6\n",
      "g : 7\n",
      "h : 8\n"
     ]
    }
   ],
   "source": [
    "for k,v in d.items():\n",
    "    print(k, \":\", v)"
   ]
  },
  {
   "cell_type": "code",
   "execution_count": null,
   "id": "58658891",
   "metadata": {},
   "outputs": [],
   "source": []
  },
  {
   "cell_type": "code",
   "execution_count": 129,
   "id": "1bf5eeae",
   "metadata": {},
   "outputs": [
    {
     "data": {
      "text/plain": [
       "{'c': 3, 'd': 4, 'e': 5, 'f': 6, 'g': 7, 'h': 8}"
      ]
     },
     "execution_count": 129,
     "metadata": {},
     "output_type": "execute_result"
    }
   ],
   "source": [
    "{k:v for k,v in d.items() if v>=3}"
   ]
  },
  {
   "cell_type": "code",
   "execution_count": 132,
   "id": "2cf4eeab",
   "metadata": {},
   "outputs": [
    {
     "data": {
      "text/plain": [
       "{'es': 25, 'fs': 36, 'gs': 49, 'hs': 64}"
      ]
     },
     "execution_count": 132,
     "metadata": {},
     "output_type": "execute_result"
    }
   ],
   "source": [
    "{k+'s':v**2 for k, v in d.items() if v>4}"
   ]
  },
  {
   "cell_type": "code",
   "execution_count": null,
   "id": "8b1a460a",
   "metadata": {},
   "outputs": [],
   "source": []
  },
  {
   "cell_type": "code",
   "execution_count": 133,
   "id": "f137269e",
   "metadata": {},
   "outputs": [
    {
     "data": {
      "text/plain": [
       "{'a': 1, 'b': 2, 'c': 3, 'd': 4, 'e': 5, 'f': 6, 'g': 7, 'h': 8}"
      ]
     },
     "execution_count": 133,
     "metadata": {},
     "output_type": "execute_result"
    }
   ],
   "source": [
    "d"
   ]
  },
  {
   "cell_type": "code",
   "execution_count": 134,
   "id": "346ff99f",
   "metadata": {},
   "outputs": [],
   "source": [
    "e = {}\n",
    "for k, v in d.items():\n",
    "    e[v] = k"
   ]
  },
  {
   "cell_type": "code",
   "execution_count": 135,
   "id": "640a8e9c",
   "metadata": {},
   "outputs": [
    {
     "data": {
      "text/plain": [
       "{1: 'a', 2: 'b', 3: 'c', 4: 'd', 5: 'e', 6: 'f', 7: 'g', 8: 'h'}"
      ]
     },
     "execution_count": 135,
     "metadata": {},
     "output_type": "execute_result"
    }
   ],
   "source": [
    "e"
   ]
  },
  {
   "cell_type": "code",
   "execution_count": 136,
   "id": "7856904a",
   "metadata": {},
   "outputs": [
    {
     "data": {
      "text/plain": [
       "{1: 'a', 2: 'b', 3: 'c', 4: 'd', 5: 'e', 6: 'f', 7: 'g', 8: 'h'}"
      ]
     },
     "execution_count": 136,
     "metadata": {},
     "output_type": "execute_result"
    }
   ],
   "source": [
    "{v:k for k, v in d.items()}"
   ]
  },
  {
   "cell_type": "code",
   "execution_count": null,
   "id": "b4fd6fb7",
   "metadata": {},
   "outputs": [],
   "source": []
  }
 ],
 "metadata": {
  "kernelspec": {
   "display_name": "Python 3",
   "language": "python",
   "name": "python3"
  },
  "language_info": {
   "codemirror_mode": {
    "name": "ipython",
    "version": 3
   },
   "file_extension": ".py",
   "mimetype": "text/x-python",
   "name": "python",
   "nbconvert_exporter": "python",
   "pygments_lexer": "ipython3",
   "version": "3.8.8"
  }
 },
 "nbformat": 4,
 "nbformat_minor": 5
}
