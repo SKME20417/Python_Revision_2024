{
 "cells": [
  {
   "cell_type": "code",
   "execution_count": 1,
   "id": "b9e0601c",
   "metadata": {},
   "outputs": [
    {
     "name": "stdout",
     "output_type": "stream",
     "text": [
      "Requirement already satisfied: numpy in c:\\users\\skme2\\anaconda3\\lib\\site-packages (1.22.4)"
     ]
    },
    {
     "name": "stderr",
     "output_type": "stream",
     "text": [
      "WARNING: Ignoring invalid distribution -atplotlib (c:\\users\\skme2\\anaconda3\\lib\\site-packages)\n",
      "WARNING: Ignoring invalid distribution -atplotlib (c:\\users\\skme2\\anaconda3\\lib\\site-packages)\n",
      "DEPRECATION: pyodbc 4.0.0-unsupported has a non-standard version number. pip 24.0 will enforce this behaviour change. A possible replacement is to upgrade to a newer version of pyodbc or contact the author to suggest that they release a version with a conforming version number. Discussion can be found at https://github.com/pypa/pip/issues/12063\n",
      "\n",
      "[notice] A new release of pip is available: 23.3.1 -> 24.0\n",
      "[notice] To update, run: python.exe -m pip install --upgrade pip\n"
     ]
    },
    {
     "name": "stdout",
     "output_type": "stream",
     "text": [
      "\n"
     ]
    }
   ],
   "source": [
    "!pip install numpy"
   ]
  },
  {
   "cell_type": "code",
   "execution_count": 3,
   "id": "86718122",
   "metadata": {},
   "outputs": [
    {
     "name": "stdout",
     "output_type": "stream",
     "text": [
      "Requirement already satisfied: pip in c:\\users\\skme2\\anaconda3\\lib\\site-packages (23.3.1)\n",
      "Collecting pip\n",
      "  Downloading pip-24.0-py3-none-any.whl.metadata (3.6 kB)\n",
      "Downloading pip-24.0-py3-none-any.whl (2.1 MB)\n",
      "   ---------------------------------------- 2.1/2.1 MB 16.8 MB/s eta 0:00:00\n"
     ]
    },
    {
     "name": "stderr",
     "output_type": "stream",
     "text": [
      "WARNING: Ignoring invalid distribution -atplotlib (c:\\users\\skme2\\anaconda3\\lib\\site-packages)\n",
      "ERROR: To modify pip, please run the following command:\n",
      "C:\\Users\\skme2\\anaconda3\\python.exe -m pip install --upgrade pip\n",
      "\n",
      "[notice] A new release of pip is available: 23.3.1 -> 24.0\n",
      "[notice] To update, run: python.exe -m pip install --upgrade pip\n"
     ]
    }
   ],
   "source": [
    "!pip install --upgrade pip"
   ]
  },
  {
   "cell_type": "code",
   "execution_count": 4,
   "id": "57fef5f2",
   "metadata": {},
   "outputs": [
    {
     "name": "stderr",
     "output_type": "stream",
     "text": [
      "C:\\Users\\skme2\\anaconda3\\lib\\site-packages\\numpy\\_distributor_init.py:30: UserWarning: loaded more than 1 DLL from .libs:\n",
      "C:\\Users\\skme2\\anaconda3\\lib\\site-packages\\numpy\\.libs\\libopenblas.EL2C6PLE4ZYW3ECEVIV3OXXGRN2NRFM2.gfortran-win_amd64.dll\n",
      "C:\\Users\\skme2\\anaconda3\\lib\\site-packages\\numpy\\.libs\\libopenblas.FB5AE2TYXYH2IJRDKGDGQ3XBKLKTF43H.gfortran-win_amd64.dll\n",
      "  warnings.warn(\"loaded more than 1 DLL from .libs:\"\n"
     ]
    }
   ],
   "source": [
    "import numpy as np"
   ]
  },
  {
   "cell_type": "code",
   "execution_count": 5,
   "id": "876e2e6e",
   "metadata": {},
   "outputs": [],
   "source": [
    "lst = [1,2,3,4,5,6,7,8,9,10]"
   ]
  },
  {
   "cell_type": "code",
   "execution_count": 8,
   "id": "f6f6e63f",
   "metadata": {},
   "outputs": [],
   "source": [
    "x = []\n",
    "for i in lst:\n",
    "    x.append(i+1)"
   ]
  },
  {
   "cell_type": "code",
   "execution_count": 9,
   "id": "ba35cede",
   "metadata": {},
   "outputs": [
    {
     "data": {
      "text/plain": [
       "[2, 3, 4, 5, 6, 7, 8, 9, 10, 11]"
      ]
     },
     "execution_count": 9,
     "metadata": {},
     "output_type": "execute_result"
    }
   ],
   "source": [
    "x"
   ]
  },
  {
   "cell_type": "code",
   "execution_count": 11,
   "id": "3b92c458",
   "metadata": {},
   "outputs": [
    {
     "name": "stdout",
     "output_type": "stream",
     "text": [
      "2.3 µs ± 121 ns per loop (mean ± std. dev. of 7 runs, 1000000 loops each)\n"
     ]
    }
   ],
   "source": [
    "%timeit [i**2 for i in lst]"
   ]
  },
  {
   "cell_type": "code",
   "execution_count": 13,
   "id": "9ffcdef4",
   "metadata": {},
   "outputs": [],
   "source": [
    "arr = np.array(lst)"
   ]
  },
  {
   "cell_type": "code",
   "execution_count": 14,
   "id": "9f7b8dfc",
   "metadata": {},
   "outputs": [
    {
     "data": {
      "text/plain": [
       "array([ 1,  2,  3,  4,  5,  6,  7,  8,  9, 10])"
      ]
     },
     "execution_count": 14,
     "metadata": {},
     "output_type": "execute_result"
    }
   ],
   "source": [
    "arr"
   ]
  },
  {
   "cell_type": "code",
   "execution_count": 15,
   "id": "cb944ee7",
   "metadata": {},
   "outputs": [
    {
     "data": {
      "text/plain": [
       "array([ 2,  3,  4,  5,  6,  7,  8,  9, 10, 11])"
      ]
     },
     "execution_count": 15,
     "metadata": {},
     "output_type": "execute_result"
    }
   ],
   "source": [
    "arr + 1"
   ]
  },
  {
   "cell_type": "code",
   "execution_count": 16,
   "id": "5de3235a",
   "metadata": {},
   "outputs": [
    {
     "data": {
      "text/plain": [
       "array([ 1,  2,  3,  4,  5,  6,  7,  8,  9, 10])"
      ]
     },
     "execution_count": 16,
     "metadata": {},
     "output_type": "execute_result"
    }
   ],
   "source": [
    "arr"
   ]
  },
  {
   "cell_type": "code",
   "execution_count": 18,
   "id": "c64a6698",
   "metadata": {},
   "outputs": [
    {
     "name": "stdout",
     "output_type": "stream",
     "text": [
      "430 ns ± 24.5 ns per loop (mean ± std. dev. of 7 runs, 1000000 loops each)\n"
     ]
    }
   ],
   "source": [
    "%timeit arr**2"
   ]
  },
  {
   "cell_type": "code",
   "execution_count": 20,
   "id": "a7d8651d",
   "metadata": {},
   "outputs": [
    {
     "ename": "TypeError",
     "evalue": "can only concatenate list (not \"int\") to list",
     "output_type": "error",
     "traceback": [
      "\u001b[1;31m---------------------------------------------------------------------------\u001b[0m",
      "\u001b[1;31mTypeError\u001b[0m                                 Traceback (most recent call last)",
      "\u001b[1;32m<ipython-input-20-0f3bd86316ef>\u001b[0m in \u001b[0;36m<module>\u001b[1;34m\u001b[0m\n\u001b[1;32m----> 1\u001b[1;33m \u001b[0mlst\u001b[0m \u001b[1;33m+\u001b[0m \u001b[1;36m1\u001b[0m\u001b[1;33m\u001b[0m\u001b[1;33m\u001b[0m\u001b[0m\n\u001b[0m",
      "\u001b[1;31mTypeError\u001b[0m: can only concatenate list (not \"int\") to list"
     ]
    }
   ],
   "source": [
    "lst + 1"
   ]
  },
  {
   "cell_type": "code",
   "execution_count": 21,
   "id": "99398812",
   "metadata": {},
   "outputs": [
    {
     "data": {
      "text/plain": [
       "[1, 2, 3, 4, 5, 6, 7, 8, 9, 10, 1]"
      ]
     },
     "execution_count": 21,
     "metadata": {},
     "output_type": "execute_result"
    }
   ],
   "source": [
    "lst + [1]"
   ]
  },
  {
   "cell_type": "code",
   "execution_count": 23,
   "id": "373b695a",
   "metadata": {},
   "outputs": [
    {
     "data": {
      "text/plain": [
       "array([ 2,  3,  4,  5,  6,  7,  8,  9, 10, 11])"
      ]
     },
     "execution_count": 23,
     "metadata": {},
     "output_type": "execute_result"
    }
   ],
   "source": [
    "arr + 1"
   ]
  },
  {
   "cell_type": "code",
   "execution_count": 24,
   "id": "602af336",
   "metadata": {},
   "outputs": [],
   "source": [
    "k = [4,5,6,7,8,9]"
   ]
  },
  {
   "cell_type": "code",
   "execution_count": 25,
   "id": "28212e23",
   "metadata": {},
   "outputs": [
    {
     "data": {
      "text/plain": [
       "list"
      ]
     },
     "execution_count": 25,
     "metadata": {},
     "output_type": "execute_result"
    }
   ],
   "source": [
    "type(k)"
   ]
  },
  {
   "cell_type": "code",
   "execution_count": 27,
   "id": "bd57b950",
   "metadata": {},
   "outputs": [],
   "source": [
    "g  =np.array(k)"
   ]
  },
  {
   "cell_type": "code",
   "execution_count": 28,
   "id": "31cae1c2",
   "metadata": {},
   "outputs": [
    {
     "data": {
      "text/plain": [
       "numpy.ndarray"
      ]
     },
     "execution_count": 28,
     "metadata": {},
     "output_type": "execute_result"
    }
   ],
   "source": [
    "type(g)"
   ]
  },
  {
   "cell_type": "code",
   "execution_count": 29,
   "id": "6c402589",
   "metadata": {},
   "outputs": [
    {
     "data": {
      "text/plain": [
       "array([4, 5, 6, 7, 8, 9])"
      ]
     },
     "execution_count": 29,
     "metadata": {},
     "output_type": "execute_result"
    }
   ],
   "source": [
    "g"
   ]
  },
  {
   "cell_type": "code",
   "execution_count": 30,
   "id": "32d3865d",
   "metadata": {},
   "outputs": [
    {
     "data": {
      "text/plain": [
       "1"
      ]
     },
     "execution_count": 30,
     "metadata": {},
     "output_type": "execute_result"
    }
   ],
   "source": [
    "g.ndim"
   ]
  },
  {
   "cell_type": "code",
   "execution_count": 31,
   "id": "51960356",
   "metadata": {},
   "outputs": [
    {
     "data": {
      "text/plain": [
       "(6,)"
      ]
     },
     "execution_count": 31,
     "metadata": {},
     "output_type": "execute_result"
    }
   ],
   "source": [
    "g.shape"
   ]
  },
  {
   "cell_type": "code",
   "execution_count": 37,
   "id": "11e1de0b",
   "metadata": {},
   "outputs": [],
   "source": [
    "s = np.arange(1,20,2)"
   ]
  },
  {
   "cell_type": "code",
   "execution_count": 38,
   "id": "acb7dacf",
   "metadata": {},
   "outputs": [
    {
     "data": {
      "text/plain": [
       "numpy.ndarray"
      ]
     },
     "execution_count": 38,
     "metadata": {},
     "output_type": "execute_result"
    }
   ],
   "source": [
    "type(s)"
   ]
  },
  {
   "cell_type": "code",
   "execution_count": 39,
   "id": "ce29f1d6",
   "metadata": {},
   "outputs": [
    {
     "data": {
      "text/plain": [
       "array([ 1,  3,  5,  7,  9, 11, 13, 15, 17, 19])"
      ]
     },
     "execution_count": 39,
     "metadata": {},
     "output_type": "execute_result"
    }
   ],
   "source": [
    "s"
   ]
  },
  {
   "cell_type": "code",
   "execution_count": 40,
   "id": "58035c2b",
   "metadata": {},
   "outputs": [
    {
     "data": {
      "text/plain": [
       "1"
      ]
     },
     "execution_count": 40,
     "metadata": {},
     "output_type": "execute_result"
    }
   ],
   "source": [
    "s.ndim"
   ]
  },
  {
   "cell_type": "code",
   "execution_count": 41,
   "id": "9d6a0546",
   "metadata": {},
   "outputs": [
    {
     "data": {
      "text/plain": [
       "(10,)"
      ]
     },
     "execution_count": 41,
     "metadata": {},
     "output_type": "execute_result"
    }
   ],
   "source": [
    "s.shape"
   ]
  },
  {
   "cell_type": "code",
   "execution_count": 42,
   "id": "e704d703",
   "metadata": {},
   "outputs": [],
   "source": [
    "lst_2d  =[[1,2,3], [4,5,6], [7,8,9]]"
   ]
  },
  {
   "cell_type": "code",
   "execution_count": 43,
   "id": "9eb05a51",
   "metadata": {},
   "outputs": [
    {
     "data": {
      "text/plain": [
       "[[1, 2, 3], [4, 5, 6], [7, 8, 9]]"
      ]
     },
     "execution_count": 43,
     "metadata": {},
     "output_type": "execute_result"
    }
   ],
   "source": [
    "lst_2d"
   ]
  },
  {
   "cell_type": "code",
   "execution_count": 44,
   "id": "900d65dd",
   "metadata": {},
   "outputs": [
    {
     "data": {
      "text/plain": [
       "list"
      ]
     },
     "execution_count": 44,
     "metadata": {},
     "output_type": "execute_result"
    }
   ],
   "source": [
    "type(lst_2d)"
   ]
  },
  {
   "cell_type": "code",
   "execution_count": 46,
   "id": "2ff9f302",
   "metadata": {},
   "outputs": [],
   "source": [
    "arr1 = np.array(lst_2d)"
   ]
  },
  {
   "cell_type": "code",
   "execution_count": 47,
   "id": "35204e23",
   "metadata": {},
   "outputs": [
    {
     "data": {
      "text/plain": [
       "array([[1, 2, 3],\n",
       "       [4, 5, 6],\n",
       "       [7, 8, 9]])"
      ]
     },
     "execution_count": 47,
     "metadata": {},
     "output_type": "execute_result"
    }
   ],
   "source": [
    "arr1"
   ]
  },
  {
   "cell_type": "code",
   "execution_count": 48,
   "id": "6dc31c31",
   "metadata": {},
   "outputs": [
    {
     "data": {
      "text/plain": [
       "numpy.ndarray"
      ]
     },
     "execution_count": 48,
     "metadata": {},
     "output_type": "execute_result"
    }
   ],
   "source": [
    "type(arr1)"
   ]
  },
  {
   "cell_type": "code",
   "execution_count": 49,
   "id": "03514885",
   "metadata": {},
   "outputs": [
    {
     "data": {
      "text/plain": [
       "2"
      ]
     },
     "execution_count": 49,
     "metadata": {},
     "output_type": "execute_result"
    }
   ],
   "source": [
    "arr1.ndim"
   ]
  },
  {
   "cell_type": "code",
   "execution_count": 50,
   "id": "a95d4d3f",
   "metadata": {},
   "outputs": [
    {
     "data": {
      "text/plain": [
       "(3, 3)"
      ]
     },
     "execution_count": 50,
     "metadata": {},
     "output_type": "execute_result"
    }
   ],
   "source": [
    "arr1.shape"
   ]
  },
  {
   "cell_type": "code",
   "execution_count": 51,
   "id": "644b1c00",
   "metadata": {},
   "outputs": [
    {
     "data": {
      "text/plain": [
       "36"
      ]
     },
     "execution_count": 51,
     "metadata": {},
     "output_type": "execute_result"
    }
   ],
   "source": [
    "arr1.nbytes"
   ]
  },
  {
   "cell_type": "code",
   "execution_count": 53,
   "id": "075e0233",
   "metadata": {},
   "outputs": [
    {
     "data": {
      "text/plain": [
       "(array([0, 0, 0, 1, 1, 1, 2, 2, 2], dtype=int64),\n",
       " array([0, 1, 2, 0, 1, 2, 0, 1, 2], dtype=int64))"
      ]
     },
     "execution_count": 53,
     "metadata": {},
     "output_type": "execute_result"
    }
   ],
   "source": [
    "arr1.nonzero()"
   ]
  },
  {
   "cell_type": "code",
   "execution_count": 54,
   "id": "fd3b52be",
   "metadata": {},
   "outputs": [
    {
     "data": {
      "text/plain": [
       "array([[1, 2, 3],\n",
       "       [4, 5, 6],\n",
       "       [7, 8, 9]])"
      ]
     },
     "execution_count": 54,
     "metadata": {},
     "output_type": "execute_result"
    }
   ],
   "source": [
    "arr1"
   ]
  },
  {
   "cell_type": "code",
   "execution_count": 55,
   "id": "0600bbf4",
   "metadata": {},
   "outputs": [
    {
     "data": {
      "text/plain": [
       "dtype('int32')"
      ]
     },
     "execution_count": 55,
     "metadata": {},
     "output_type": "execute_result"
    }
   ],
   "source": [
    "arr1.dtype"
   ]
  },
  {
   "cell_type": "code",
   "execution_count": 56,
   "id": "6348b80c",
   "metadata": {},
   "outputs": [],
   "source": [
    "# Special Arrays in Numpy"
   ]
  },
  {
   "cell_type": "code",
   "execution_count": 57,
   "id": "2bdc3bfc",
   "metadata": {},
   "outputs": [
    {
     "data": {
      "text/plain": [
       "array([0., 0., 0., 0., 0.])"
      ]
     },
     "execution_count": 57,
     "metadata": {},
     "output_type": "execute_result"
    }
   ],
   "source": [
    "np.zeros(5)"
   ]
  },
  {
   "cell_type": "code",
   "execution_count": 59,
   "id": "553155ae",
   "metadata": {},
   "outputs": [
    {
     "data": {
      "text/plain": [
       "array([[0., 0., 0., 0., 0., 0.],\n",
       "       [0., 0., 0., 0., 0., 0.],\n",
       "       [0., 0., 0., 0., 0., 0.],\n",
       "       [0., 0., 0., 0., 0., 0.],\n",
       "       [0., 0., 0., 0., 0., 0.],\n",
       "       [0., 0., 0., 0., 0., 0.],\n",
       "       [0., 0., 0., 0., 0., 0.],\n",
       "       [0., 0., 0., 0., 0., 0.]])"
      ]
     },
     "execution_count": 59,
     "metadata": {},
     "output_type": "execute_result"
    }
   ],
   "source": [
    "np.zeros((8,6))"
   ]
  },
  {
   "cell_type": "code",
   "execution_count": 60,
   "id": "f03da5ea",
   "metadata": {},
   "outputs": [
    {
     "data": {
      "text/plain": [
       "array([1., 1., 1., 1., 1., 1.])"
      ]
     },
     "execution_count": 60,
     "metadata": {},
     "output_type": "execute_result"
    }
   ],
   "source": [
    "np.ones(6)"
   ]
  },
  {
   "cell_type": "code",
   "execution_count": 62,
   "id": "56647ff7",
   "metadata": {},
   "outputs": [
    {
     "data": {
      "text/plain": [
       "array([[1., 1., 1., 1., 1.],\n",
       "       [1., 1., 1., 1., 1.],\n",
       "       [1., 1., 1., 1., 1.],\n",
       "       [1., 1., 1., 1., 1.],\n",
       "       [1., 1., 1., 1., 1.]])"
      ]
     },
     "execution_count": 62,
     "metadata": {},
     "output_type": "execute_result"
    }
   ],
   "source": [
    "np.ones([5,5])"
   ]
  },
  {
   "cell_type": "code",
   "execution_count": 63,
   "id": "30f336c6",
   "metadata": {},
   "outputs": [
    {
     "data": {
      "text/plain": [
       "array([[1., 1.],\n",
       "       [1., 1.]])"
      ]
     },
     "execution_count": 63,
     "metadata": {},
     "output_type": "execute_result"
    }
   ],
   "source": [
    "np.ones((2,2))"
   ]
  },
  {
   "cell_type": "code",
   "execution_count": 66,
   "id": "37817017",
   "metadata": {},
   "outputs": [
    {
     "data": {
      "text/plain": [
       "array([[5]])"
      ]
     },
     "execution_count": 66,
     "metadata": {},
     "output_type": "execute_result"
    }
   ],
   "source": [
    "np.diag([5])"
   ]
  },
  {
   "cell_type": "code",
   "execution_count": 70,
   "id": "a7d7885c",
   "metadata": {},
   "outputs": [
    {
     "data": {
      "text/plain": [
       "array([[ 0,  0,  0,  4,  0,  0,  0],\n",
       "       [ 0,  0,  0,  0,  8,  0,  0],\n",
       "       [ 0,  0,  0,  0,  0,  9,  0],\n",
       "       [ 0,  0,  0,  0,  0,  0, 10],\n",
       "       [ 0,  0,  0,  0,  0,  0,  0],\n",
       "       [ 0,  0,  0,  0,  0,  0,  0],\n",
       "       [ 0,  0,  0,  0,  0,  0,  0]])"
      ]
     },
     "execution_count": 70,
     "metadata": {},
     "output_type": "execute_result"
    }
   ],
   "source": [
    "np.diag([4,8,9,10], k= 3)"
   ]
  },
  {
   "cell_type": "code",
   "execution_count": 71,
   "id": "556af8f0",
   "metadata": {},
   "outputs": [
    {
     "data": {
      "text/plain": [
       "array([[1., 0., 0., 0., 0.],\n",
       "       [0., 1., 0., 0., 0.],\n",
       "       [0., 0., 1., 0., 0.],\n",
       "       [0., 0., 0., 1., 0.],\n",
       "       [0., 0., 0., 0., 1.]])"
      ]
     },
     "execution_count": 71,
     "metadata": {},
     "output_type": "execute_result"
    }
   ],
   "source": [
    "np.eye(5)"
   ]
  },
  {
   "cell_type": "code",
   "execution_count": 73,
   "id": "10ec10ff",
   "metadata": {},
   "outputs": [
    {
     "data": {
      "text/plain": [
       "array([[1., 0., 0., 0., 0., 0., 0., 0., 0.],\n",
       "       [0., 1., 0., 0., 0., 0., 0., 0., 0.],\n",
       "       [0., 0., 1., 0., 0., 0., 0., 0., 0.],\n",
       "       [0., 0., 0., 1., 0., 0., 0., 0., 0.],\n",
       "       [0., 0., 0., 0., 1., 0., 0., 0., 0.],\n",
       "       [0., 0., 0., 0., 0., 1., 0., 0., 0.],\n",
       "       [0., 0., 0., 0., 0., 0., 1., 0., 0.],\n",
       "       [0., 0., 0., 0., 0., 0., 0., 1., 0.],\n",
       "       [0., 0., 0., 0., 0., 0., 0., 0., 1.]])"
      ]
     },
     "execution_count": 73,
     "metadata": {},
     "output_type": "execute_result"
    }
   ],
   "source": [
    "np.eye(9)"
   ]
  },
  {
   "cell_type": "code",
   "execution_count": 74,
   "id": "730f1c29",
   "metadata": {},
   "outputs": [
    {
     "data": {
      "text/plain": [
       "array([[1., 0., 0., 0., 0., 0., 0.],\n",
       "       [0., 1., 0., 0., 0., 0., 0.],\n",
       "       [0., 0., 1., 0., 0., 0., 0.],\n",
       "       [0., 0., 0., 1., 0., 0., 0.],\n",
       "       [0., 0., 0., 0., 1., 0., 0.],\n",
       "       [0., 0., 0., 0., 0., 1., 0.],\n",
       "       [0., 0., 0., 0., 0., 0., 1.]])"
      ]
     },
     "execution_count": 74,
     "metadata": {},
     "output_type": "execute_result"
    }
   ],
   "source": [
    "np.identity(7)"
   ]
  },
  {
   "cell_type": "code",
   "execution_count": 75,
   "id": "1ee4bd61",
   "metadata": {},
   "outputs": [],
   "source": [
    "# indexing in Array"
   ]
  },
  {
   "cell_type": "code",
   "execution_count": 80,
   "id": "7260048f",
   "metadata": {},
   "outputs": [
    {
     "data": {
      "text/plain": [
       "18"
      ]
     },
     "execution_count": 80,
     "metadata": {},
     "output_type": "execute_result"
    }
   ],
   "source": [
    "np.random.randint(10,100)"
   ]
  },
  {
   "cell_type": "code",
   "execution_count": 82,
   "id": "ba47682c",
   "metadata": {},
   "outputs": [],
   "source": [
    "new_arr = np.random.randint(10, 100, (6,8))"
   ]
  },
  {
   "cell_type": "code",
   "execution_count": 83,
   "id": "846fe0ef",
   "metadata": {},
   "outputs": [
    {
     "data": {
      "text/plain": [
       "(6, 8)"
      ]
     },
     "execution_count": 83,
     "metadata": {},
     "output_type": "execute_result"
    }
   ],
   "source": [
    "new_arr.shape"
   ]
  },
  {
   "cell_type": "code",
   "execution_count": 84,
   "id": "74472a84",
   "metadata": {},
   "outputs": [
    {
     "data": {
      "text/plain": [
       "2"
      ]
     },
     "execution_count": 84,
     "metadata": {},
     "output_type": "execute_result"
    }
   ],
   "source": [
    "new_arr.ndim"
   ]
  },
  {
   "cell_type": "code",
   "execution_count": 85,
   "id": "bd381821",
   "metadata": {},
   "outputs": [
    {
     "data": {
      "text/plain": [
       "array([[11, 15, 37, 40, 30, 45, 42, 16],\n",
       "       [17, 89, 32, 58, 53, 80, 41, 91],\n",
       "       [58, 78, 72, 74, 42, 84, 17, 16],\n",
       "       [65, 77, 32, 16, 14, 67, 24, 45],\n",
       "       [16, 83, 68, 60, 68, 63, 86, 36],\n",
       "       [63, 89, 71, 28, 37, 49, 99, 96]])"
      ]
     },
     "execution_count": 85,
     "metadata": {},
     "output_type": "execute_result"
    }
   ],
   "source": [
    "new_arr"
   ]
  },
  {
   "cell_type": "code",
   "execution_count": 87,
   "id": "d2868300",
   "metadata": {},
   "outputs": [
    {
     "data": {
      "text/plain": [
       "array([11, 15, 37, 40, 30, 45, 42, 16])"
      ]
     },
     "execution_count": 87,
     "metadata": {},
     "output_type": "execute_result"
    }
   ],
   "source": [
    "new_arr[0]"
   ]
  },
  {
   "cell_type": "code",
   "execution_count": 88,
   "id": "df3e0a30",
   "metadata": {},
   "outputs": [
    {
     "data": {
      "text/plain": [
       "array([17, 89, 32, 58, 53, 80, 41, 91])"
      ]
     },
     "execution_count": 88,
     "metadata": {},
     "output_type": "execute_result"
    }
   ],
   "source": [
    "new_arr[1]"
   ]
  },
  {
   "cell_type": "code",
   "execution_count": 89,
   "id": "e789fc83",
   "metadata": {},
   "outputs": [
    {
     "data": {
      "text/plain": [
       "array([58, 78, 72, 74, 42, 84, 17, 16])"
      ]
     },
     "execution_count": 89,
     "metadata": {},
     "output_type": "execute_result"
    }
   ],
   "source": [
    "new_arr[2]"
   ]
  },
  {
   "cell_type": "code",
   "execution_count": 91,
   "id": "a5e03b4d",
   "metadata": {},
   "outputs": [
    {
     "data": {
      "text/plain": [
       "array([63, 89, 71, 28, 37, 49, 99, 96])"
      ]
     },
     "execution_count": 91,
     "metadata": {},
     "output_type": "execute_result"
    }
   ],
   "source": [
    "new_arr[-1]"
   ]
  },
  {
   "cell_type": "code",
   "execution_count": 92,
   "id": "aabed39a",
   "metadata": {},
   "outputs": [
    {
     "data": {
      "text/plain": [
       "array([[11, 15, 37, 40, 30, 45, 42, 16],\n",
       "       [17, 89, 32, 58, 53, 80, 41, 91],\n",
       "       [58, 78, 72, 74, 42, 84, 17, 16],\n",
       "       [65, 77, 32, 16, 14, 67, 24, 45],\n",
       "       [16, 83, 68, 60, 68, 63, 86, 36],\n",
       "       [63, 89, 71, 28, 37, 49, 99, 96]])"
      ]
     },
     "execution_count": 92,
     "metadata": {},
     "output_type": "execute_result"
    }
   ],
   "source": [
    "new_arr"
   ]
  },
  {
   "cell_type": "code",
   "execution_count": 93,
   "id": "94881714",
   "metadata": {},
   "outputs": [
    {
     "data": {
      "text/plain": [
       "array([16, 83, 68, 60, 68, 63, 86, 36])"
      ]
     },
     "execution_count": 93,
     "metadata": {},
     "output_type": "execute_result"
    }
   ],
   "source": [
    "new_arr[-2]"
   ]
  },
  {
   "cell_type": "code",
   "execution_count": 94,
   "id": "72004136",
   "metadata": {},
   "outputs": [
    {
     "data": {
      "text/plain": [
       "array([11, 17, 58, 65, 16, 63])"
      ]
     },
     "execution_count": 94,
     "metadata": {},
     "output_type": "execute_result"
    }
   ],
   "source": [
    "new_arr[:,0]"
   ]
  },
  {
   "cell_type": "code",
   "execution_count": 95,
   "id": "62c230ad",
   "metadata": {},
   "outputs": [
    {
     "data": {
      "text/plain": [
       "array([15, 89, 78, 77, 83, 89])"
      ]
     },
     "execution_count": 95,
     "metadata": {},
     "output_type": "execute_result"
    }
   ],
   "source": [
    "new_arr[:,1]"
   ]
  },
  {
   "cell_type": "code",
   "execution_count": 96,
   "id": "3a3e58e0",
   "metadata": {},
   "outputs": [
    {
     "data": {
      "text/plain": [
       "array([16, 91, 16, 45, 36, 96])"
      ]
     },
     "execution_count": 96,
     "metadata": {},
     "output_type": "execute_result"
    }
   ],
   "source": [
    "new_arr[:,-1]"
   ]
  },
  {
   "cell_type": "code",
   "execution_count": 97,
   "id": "6ca79b4d",
   "metadata": {},
   "outputs": [
    {
     "data": {
      "text/plain": [
       "array([42, 41, 17, 24, 86, 99])"
      ]
     },
     "execution_count": 97,
     "metadata": {},
     "output_type": "execute_result"
    }
   ],
   "source": [
    "new_arr[:,-2]"
   ]
  },
  {
   "cell_type": "code",
   "execution_count": 98,
   "id": "cc415d2a",
   "metadata": {},
   "outputs": [
    {
     "data": {
      "text/plain": [
       "array([[11, 15, 37, 40, 30, 45, 42, 16],\n",
       "       [17, 89, 32, 58, 53, 80, 41, 91],\n",
       "       [58, 78, 72, 74, 42, 84, 17, 16],\n",
       "       [65, 77, 32, 16, 14, 67, 24, 45],\n",
       "       [16, 83, 68, 60, 68, 63, 86, 36],\n",
       "       [63, 89, 71, 28, 37, 49, 99, 96]])"
      ]
     },
     "execution_count": 98,
     "metadata": {},
     "output_type": "execute_result"
    }
   ],
   "source": [
    "new_arr\n"
   ]
  },
  {
   "cell_type": "code",
   "execution_count": 99,
   "id": "6b96b88b",
   "metadata": {},
   "outputs": [
    {
     "data": {
      "text/plain": [
       "11"
      ]
     },
     "execution_count": 99,
     "metadata": {},
     "output_type": "execute_result"
    }
   ],
   "source": [
    "new_arr[0,0]"
   ]
  },
  {
   "cell_type": "code",
   "execution_count": 100,
   "id": "344ebc03",
   "metadata": {},
   "outputs": [
    {
     "data": {
      "text/plain": [
       "array([[11, 15, 37, 40, 30, 45, 42, 16],\n",
       "       [17, 89, 32, 58, 53, 80, 41, 91],\n",
       "       [58, 78, 72, 74, 42, 84, 17, 16],\n",
       "       [65, 77, 32, 16, 14, 67, 24, 45],\n",
       "       [16, 83, 68, 60, 68, 63, 86, 36],\n",
       "       [63, 89, 71, 28, 37, 49, 99, 96]])"
      ]
     },
     "execution_count": 100,
     "metadata": {},
     "output_type": "execute_result"
    }
   ],
   "source": [
    "new_arr"
   ]
  },
  {
   "cell_type": "code",
   "execution_count": 101,
   "id": "637a1456",
   "metadata": {},
   "outputs": [
    {
     "data": {
      "text/plain": [
       "array([[11, 15],\n",
       "       [17, 89]])"
      ]
     },
     "execution_count": 101,
     "metadata": {},
     "output_type": "execute_result"
    }
   ],
   "source": [
    "new_arr[0:2,0:2]"
   ]
  },
  {
   "cell_type": "code",
   "execution_count": 103,
   "id": "ab2946d1",
   "metadata": {},
   "outputs": [
    {
     "data": {
      "text/plain": [
       "array([[86, 36],\n",
       "       [99, 96]])"
      ]
     },
     "execution_count": 103,
     "metadata": {},
     "output_type": "execute_result"
    }
   ],
   "source": [
    "new_arr[4:, 6:]"
   ]
  },
  {
   "cell_type": "code",
   "execution_count": 104,
   "id": "a2a9e9a1",
   "metadata": {},
   "outputs": [
    {
     "data": {
      "text/plain": [
       "array([[11, 15, 37, 40, 30, 45, 42, 16],\n",
       "       [17, 89, 32, 58, 53, 80, 41, 91],\n",
       "       [58, 78, 72, 74, 42, 84, 17, 16],\n",
       "       [65, 77, 32, 16, 14, 67, 24, 45],\n",
       "       [16, 83, 68, 60, 68, 63, 86, 36],\n",
       "       [63, 89, 71, 28, 37, 49, 99, 96]])"
      ]
     },
     "execution_count": 104,
     "metadata": {},
     "output_type": "execute_result"
    }
   ],
   "source": [
    "new_arr"
   ]
  },
  {
   "cell_type": "code",
   "execution_count": 106,
   "id": "f6087cf9",
   "metadata": {},
   "outputs": [
    {
     "data": {
      "text/plain": [
       "array([[86, 36],\n",
       "       [99, 96]])"
      ]
     },
     "execution_count": 106,
     "metadata": {},
     "output_type": "execute_result"
    }
   ],
   "source": [
    "new_arr[-2:, -2:]"
   ]
  },
  {
   "cell_type": "code",
   "execution_count": 108,
   "id": "1a1aa8bf",
   "metadata": {},
   "outputs": [
    {
     "data": {
      "text/plain": [
       "16"
      ]
     },
     "execution_count": 108,
     "metadata": {},
     "output_type": "execute_result"
    }
   ],
   "source": [
    "new_arr[3, 3]"
   ]
  },
  {
   "cell_type": "code",
   "execution_count": 109,
   "id": "8bc7814f",
   "metadata": {},
   "outputs": [
    {
     "data": {
      "text/plain": [
       "array([[11, 15, 37, 40, 30, 45, 42, 16],\n",
       "       [17, 89, 32, 58, 53, 80, 41, 91],\n",
       "       [58, 78, 72, 74, 42, 84, 17, 16],\n",
       "       [65, 77, 32, 16, 14, 67, 24, 45],\n",
       "       [16, 83, 68, 60, 68, 63, 86, 36],\n",
       "       [63, 89, 71, 28, 37, 49, 99, 96]])"
      ]
     },
     "execution_count": 109,
     "metadata": {},
     "output_type": "execute_result"
    }
   ],
   "source": [
    "new_arr"
   ]
  },
  {
   "cell_type": "code",
   "execution_count": 110,
   "id": "a2fb2892",
   "metadata": {},
   "outputs": [
    {
     "data": {
      "text/plain": [
       "array([16, 91, 16, 45, 36, 96])"
      ]
     },
     "execution_count": 110,
     "metadata": {},
     "output_type": "execute_result"
    }
   ],
   "source": [
    "\n",
    "new_arr[:, -1]"
   ]
  },
  {
   "cell_type": "code",
   "execution_count": 111,
   "id": "5de3fa18",
   "metadata": {},
   "outputs": [
    {
     "data": {
      "text/plain": [
       "array([[11, 15, 37, 40, 30, 45, 42, 16],\n",
       "       [17, 89, 32, 58, 53, 80, 41, 91],\n",
       "       [58, 78, 72, 74, 42, 84, 17, 16],\n",
       "       [65, 77, 32, 16, 14, 67, 24, 45],\n",
       "       [16, 83, 68, 60, 68, 63, 86, 36],\n",
       "       [63, 89, 71, 28, 37, 49, 99, 96]])"
      ]
     },
     "execution_count": 111,
     "metadata": {},
     "output_type": "execute_result"
    }
   ],
   "source": [
    "new_arr"
   ]
  },
  {
   "cell_type": "code",
   "execution_count": 114,
   "id": "b2fc10cc",
   "metadata": {},
   "outputs": [],
   "source": [
    "new_arr[2:4, 3:5] = 0"
   ]
  },
  {
   "cell_type": "code",
   "execution_count": 115,
   "id": "88444661",
   "metadata": {},
   "outputs": [
    {
     "data": {
      "text/plain": [
       "array([[11, 15, 37, 40, 30, 45, 42, 16],\n",
       "       [17, 89, 32, 58, 53, 80, 41, 91],\n",
       "       [58, 78, 72,  0,  0, 84, 17, 16],\n",
       "       [65, 77, 32,  0,  0, 67, 24, 45],\n",
       "       [16, 83, 68, 60, 68, 63, 86, 36],\n",
       "       [63, 89, 71, 28, 37, 49, 99, 96]])"
      ]
     },
     "execution_count": 115,
     "metadata": {},
     "output_type": "execute_result"
    }
   ],
   "source": [
    "new_arr"
   ]
  },
  {
   "cell_type": "code",
   "execution_count": 116,
   "id": "2aa970d7",
   "metadata": {},
   "outputs": [
    {
     "data": {
      "text/plain": [
       "array([[11, 15, 37, 40, 30, 45, 42, 16],\n",
       "       [17, 89, 32, 58, 53, 80, 41, 91],\n",
       "       [58, 78, 72,  0,  0, 84, 17, 16],\n",
       "       [65, 77, 32,  0,  0, 67, 24, 45],\n",
       "       [16, 83, 68, 60, 68, 63, 86, 36],\n",
       "       [63, 89, 71, 28, 37, 49, 99, 96]])"
      ]
     },
     "execution_count": 116,
     "metadata": {},
     "output_type": "execute_result"
    }
   ],
   "source": [
    "new_arr"
   ]
  },
  {
   "cell_type": "code",
   "execution_count": 117,
   "id": "3167000e",
   "metadata": {},
   "outputs": [],
   "source": [
    "# masking"
   ]
  },
  {
   "cell_type": "code",
   "execution_count": 118,
   "id": "568b1496",
   "metadata": {},
   "outputs": [
    {
     "data": {
      "text/plain": [
       "array([[11, 15, 37, 40, 30, 45, 42, 16],\n",
       "       [17, 89, 32, 58, 53, 80, 41, 91],\n",
       "       [58, 78, 72,  0,  0, 84, 17, 16],\n",
       "       [65, 77, 32,  0,  0, 67, 24, 45],\n",
       "       [16, 83, 68, 60, 68, 63, 86, 36],\n",
       "       [63, 89, 71, 28, 37, 49, 99, 96]])"
      ]
     },
     "execution_count": 118,
     "metadata": {},
     "output_type": "execute_result"
    }
   ],
   "source": [
    "new_arr"
   ]
  },
  {
   "cell_type": "code",
   "execution_count": 120,
   "id": "f8bb9119",
   "metadata": {},
   "outputs": [
    {
     "data": {
      "text/plain": [
       "array([[False, False, False, False, False, False, False, False],\n",
       "       [False,  True, False,  True,  True,  True, False,  True],\n",
       "       [ True,  True,  True, False, False,  True, False, False],\n",
       "       [ True,  True, False, False, False,  True, False, False],\n",
       "       [False,  True,  True,  True,  True,  True,  True, False],\n",
       "       [ True,  True,  True, False, False, False,  True,  True]])"
      ]
     },
     "execution_count": 120,
     "metadata": {},
     "output_type": "execute_result"
    }
   ],
   "source": [
    "\n",
    "new_arr>50"
   ]
  },
  {
   "cell_type": "code",
   "execution_count": 122,
   "id": "a9236192",
   "metadata": {},
   "outputs": [
    {
     "data": {
      "text/plain": [
       "array([89, 58, 53, 80, 91, 58, 78, 72, 84, 65, 77, 67, 83, 68, 60, 68, 63,\n",
       "       86, 63, 89, 71, 99, 96])"
      ]
     },
     "execution_count": 122,
     "metadata": {},
     "output_type": "execute_result"
    }
   ],
   "source": [
    "new_arr[new_arr>50]"
   ]
  },
  {
   "cell_type": "code",
   "execution_count": 125,
   "id": "bf9f86e7",
   "metadata": {},
   "outputs": [
    {
     "data": {
      "text/plain": [
       "23"
      ]
     },
     "execution_count": 125,
     "metadata": {},
     "output_type": "execute_result"
    }
   ],
   "source": [
    "np.sum(new_arr>50)"
   ]
  },
  {
   "cell_type": "code",
   "execution_count": 128,
   "id": "124d04fc",
   "metadata": {},
   "outputs": [
    {
     "data": {
      "text/plain": [
       "array([89, 58, 53, 80, 91, 58, 78, 72, 84, 65, 77, 67, 83, 68, 60, 68, 63,\n",
       "       86, 63, 89, 71, 99, 96])"
      ]
     },
     "execution_count": 128,
     "metadata": {},
     "output_type": "execute_result"
    }
   ],
   "source": [
    "new_arr[new_arr>50]"
   ]
  },
  {
   "cell_type": "code",
   "execution_count": 131,
   "id": "50595525",
   "metadata": {},
   "outputs": [
    {
     "data": {
      "text/plain": [
       "array([11, 15, 37, 40, 30, 45, 42, 16, 17, 32, 41,  0,  0, 17, 16, 32,  0,\n",
       "        0, 24, 45, 16, 36, 28, 37, 49])"
      ]
     },
     "execution_count": 131,
     "metadata": {},
     "output_type": "execute_result"
    }
   ],
   "source": [
    "new_arr[~(new_arr>50)]"
   ]
  },
  {
   "cell_type": "code",
   "execution_count": 132,
   "id": "a46d9371",
   "metadata": {},
   "outputs": [
    {
     "data": {
      "text/plain": [
       "array([[11, 15, 37, 40, 30, 45, 42, 16],\n",
       "       [17, 89, 32, 58, 53, 80, 41, 91],\n",
       "       [58, 78, 72,  0,  0, 84, 17, 16],\n",
       "       [65, 77, 32,  0,  0, 67, 24, 45],\n",
       "       [16, 83, 68, 60, 68, 63, 86, 36],\n",
       "       [63, 89, 71, 28, 37, 49, 99, 96]])"
      ]
     },
     "execution_count": 132,
     "metadata": {},
     "output_type": "execute_result"
    }
   ],
   "source": [
    "new_arr"
   ]
  },
  {
   "cell_type": "code",
   "execution_count": 133,
   "id": "47c2411d",
   "metadata": {},
   "outputs": [],
   "source": [
    "# Basic Operations in Arrays"
   ]
  },
  {
   "cell_type": "code",
   "execution_count": 134,
   "id": "74a4a202",
   "metadata": {},
   "outputs": [],
   "source": [
    "a = np.array([10,20,30,40])"
   ]
  },
  {
   "cell_type": "code",
   "execution_count": 135,
   "id": "91007d4a",
   "metadata": {},
   "outputs": [],
   "source": [
    "b = np.arange(1,5)"
   ]
  },
  {
   "cell_type": "code",
   "execution_count": 136,
   "id": "684b81ad",
   "metadata": {},
   "outputs": [
    {
     "data": {
      "text/plain": [
       "array([10, 20, 30, 40])"
      ]
     },
     "execution_count": 136,
     "metadata": {},
     "output_type": "execute_result"
    }
   ],
   "source": [
    "a"
   ]
  },
  {
   "cell_type": "code",
   "execution_count": 137,
   "id": "139f80f0",
   "metadata": {},
   "outputs": [
    {
     "data": {
      "text/plain": [
       "array([1, 2, 3, 4])"
      ]
     },
     "execution_count": 137,
     "metadata": {},
     "output_type": "execute_result"
    }
   ],
   "source": [
    "b"
   ]
  },
  {
   "cell_type": "code",
   "execution_count": 138,
   "id": "8c003f40",
   "metadata": {},
   "outputs": [
    {
     "data": {
      "text/plain": [
       "array([11, 22, 33, 44])"
      ]
     },
     "execution_count": 138,
     "metadata": {},
     "output_type": "execute_result"
    }
   ],
   "source": [
    "a+b"
   ]
  },
  {
   "cell_type": "code",
   "execution_count": 139,
   "id": "ed809d1d",
   "metadata": {},
   "outputs": [
    {
     "data": {
      "text/plain": [
       "array([ 9, 18, 27, 36])"
      ]
     },
     "execution_count": 139,
     "metadata": {},
     "output_type": "execute_result"
    }
   ],
   "source": [
    "a-b"
   ]
  },
  {
   "cell_type": "code",
   "execution_count": 140,
   "id": "830df9f5",
   "metadata": {},
   "outputs": [
    {
     "data": {
      "text/plain": [
       "array([ 10,  40,  90, 160])"
      ]
     },
     "execution_count": 140,
     "metadata": {},
     "output_type": "execute_result"
    }
   ],
   "source": [
    "a*b"
   ]
  },
  {
   "cell_type": "code",
   "execution_count": 141,
   "id": "4d392fa6",
   "metadata": {},
   "outputs": [
    {
     "data": {
      "text/plain": [
       "array([10., 10., 10., 10.])"
      ]
     },
     "execution_count": 141,
     "metadata": {},
     "output_type": "execute_result"
    }
   ],
   "source": [
    "a/b"
   ]
  },
  {
   "cell_type": "code",
   "execution_count": 142,
   "id": "4c0a7fe2",
   "metadata": {},
   "outputs": [
    {
     "data": {
      "text/plain": [
       "array([ 1,  4,  9, 16])"
      ]
     },
     "execution_count": 142,
     "metadata": {},
     "output_type": "execute_result"
    }
   ],
   "source": [
    "b**2"
   ]
  },
  {
   "cell_type": "code",
   "execution_count": 143,
   "id": "815c2c0d",
   "metadata": {},
   "outputs": [
    {
     "data": {
      "text/plain": [
       "array([ 1000,  8000, 27000, 64000], dtype=int32)"
      ]
     },
     "execution_count": 143,
     "metadata": {},
     "output_type": "execute_result"
    }
   ],
   "source": [
    "a**3"
   ]
  },
  {
   "cell_type": "code",
   "execution_count": 144,
   "id": "46740dc5",
   "metadata": {},
   "outputs": [
    {
     "data": {
      "text/plain": [
       "array([False,  True,  True,  True])"
      ]
     },
     "execution_count": 144,
     "metadata": {},
     "output_type": "execute_result"
    }
   ],
   "source": [
    "a>15"
   ]
  },
  {
   "cell_type": "code",
   "execution_count": 145,
   "id": "92648f1a",
   "metadata": {},
   "outputs": [
    {
     "data": {
      "text/plain": [
       "array([20, 30, 40])"
      ]
     },
     "execution_count": 145,
     "metadata": {},
     "output_type": "execute_result"
    }
   ],
   "source": [
    "a[a>15]"
   ]
  },
  {
   "cell_type": "code",
   "execution_count": 149,
   "id": "e65ee651",
   "metadata": {},
   "outputs": [
    {
     "data": {
      "text/plain": [
       "array([10])"
      ]
     },
     "execution_count": 149,
     "metadata": {},
     "output_type": "execute_result"
    }
   ],
   "source": [
    "a[~(a>15)]"
   ]
  },
  {
   "cell_type": "code",
   "execution_count": 150,
   "id": "269e4ecd",
   "metadata": {},
   "outputs": [
    {
     "data": {
      "text/plain": [
       "array([2.30258509, 2.99573227, 3.40119738, 3.68887945])"
      ]
     },
     "execution_count": 150,
     "metadata": {},
     "output_type": "execute_result"
    }
   ],
   "source": [
    "np.log(a)"
   ]
  },
  {
   "cell_type": "code",
   "execution_count": 151,
   "id": "975190e9",
   "metadata": {},
   "outputs": [
    {
     "data": {
      "text/plain": [
       "array([ 0.84147098,  0.90929743,  0.14112001, -0.7568025 ])"
      ]
     },
     "execution_count": 151,
     "metadata": {},
     "output_type": "execute_result"
    }
   ],
   "source": [
    "np.sin(b)"
   ]
  },
  {
   "cell_type": "code",
   "execution_count": 152,
   "id": "c82bbc85",
   "metadata": {},
   "outputs": [
    {
     "data": {
      "text/plain": [
       "array([-0.83907153,  0.40808206,  0.15425145, -0.66693806])"
      ]
     },
     "execution_count": 152,
     "metadata": {},
     "output_type": "execute_result"
    }
   ],
   "source": [
    "np.cos(a)"
   ]
  },
  {
   "cell_type": "code",
   "execution_count": 153,
   "id": "96296dfa",
   "metadata": {},
   "outputs": [],
   "source": [
    "# matrix product"
   ]
  },
  {
   "cell_type": "code",
   "execution_count": 154,
   "id": "a1b6811c",
   "metadata": {},
   "outputs": [],
   "source": [
    "p = np.random.randint(0,5,(3,4))"
   ]
  },
  {
   "cell_type": "code",
   "execution_count": 155,
   "id": "b466123a",
   "metadata": {},
   "outputs": [],
   "source": [
    "q = np.random.randint(0,5,(4,5))"
   ]
  },
  {
   "cell_type": "code",
   "execution_count": 156,
   "id": "bda857a5",
   "metadata": {},
   "outputs": [
    {
     "data": {
      "text/plain": [
       "array([[0, 2, 0, 3],\n",
       "       [1, 0, 0, 4],\n",
       "       [2, 3, 4, 0]])"
      ]
     },
     "execution_count": 156,
     "metadata": {},
     "output_type": "execute_result"
    }
   ],
   "source": [
    "p"
   ]
  },
  {
   "cell_type": "code",
   "execution_count": 157,
   "id": "0cfeed58",
   "metadata": {},
   "outputs": [
    {
     "data": {
      "text/plain": [
       "array([[2, 2, 2, 4, 1],\n",
       "       [1, 3, 0, 2, 0],\n",
       "       [1, 4, 2, 3, 4],\n",
       "       [1, 1, 1, 2, 4]])"
      ]
     },
     "execution_count": 157,
     "metadata": {},
     "output_type": "execute_result"
    }
   ],
   "source": [
    "q"
   ]
  },
  {
   "cell_type": "code",
   "execution_count": 158,
   "id": "91910542",
   "metadata": {},
   "outputs": [
    {
     "data": {
      "text/plain": [
       "array([[ 5,  9,  3, 10, 12],\n",
       "       [ 6,  6,  6, 12, 17],\n",
       "       [11, 29, 12, 26, 18]])"
      ]
     },
     "execution_count": 158,
     "metadata": {},
     "output_type": "execute_result"
    }
   ],
   "source": [
    "np.dot(p,q)"
   ]
  },
  {
   "cell_type": "code",
   "execution_count": 159,
   "id": "63e116c0",
   "metadata": {},
   "outputs": [
    {
     "ename": "ValueError",
     "evalue": "operands could not be broadcast together with shapes (3,4) (4,5) ",
     "output_type": "error",
     "traceback": [
      "\u001b[1;31m---------------------------------------------------------------------------\u001b[0m",
      "\u001b[1;31mValueError\u001b[0m                                Traceback (most recent call last)",
      "\u001b[1;32m<ipython-input-159-aa76a97a750a>\u001b[0m in \u001b[0;36m<module>\u001b[1;34m\u001b[0m\n\u001b[1;32m----> 1\u001b[1;33m \u001b[0mp\u001b[0m \u001b[1;33m*\u001b[0m \u001b[0mq\u001b[0m\u001b[1;33m\u001b[0m\u001b[1;33m\u001b[0m\u001b[0m\n\u001b[0m",
      "\u001b[1;31mValueError\u001b[0m: operands could not be broadcast together with shapes (3,4) (4,5) "
     ]
    }
   ],
   "source": [
    "p * q"
   ]
  },
  {
   "cell_type": "code",
   "execution_count": 160,
   "id": "ee36aa26",
   "metadata": {},
   "outputs": [],
   "source": [
    "d  =np.random.randint(0,5,(2,2))"
   ]
  },
  {
   "cell_type": "code",
   "execution_count": 161,
   "id": "0c1820ee",
   "metadata": {},
   "outputs": [],
   "source": [
    "c = np.random.randint(0,5,(2,2))"
   ]
  },
  {
   "cell_type": "code",
   "execution_count": 162,
   "id": "28b43e3e",
   "metadata": {},
   "outputs": [
    {
     "data": {
      "text/plain": [
       "array([[2, 1],\n",
       "       [4, 1]])"
      ]
     },
     "execution_count": 162,
     "metadata": {},
     "output_type": "execute_result"
    }
   ],
   "source": [
    "d"
   ]
  },
  {
   "cell_type": "code",
   "execution_count": 163,
   "id": "5bddc005",
   "metadata": {},
   "outputs": [
    {
     "data": {
      "text/plain": [
       "array([[2, 3],\n",
       "       [1, 2]])"
      ]
     },
     "execution_count": 163,
     "metadata": {},
     "output_type": "execute_result"
    }
   ],
   "source": [
    "c"
   ]
  },
  {
   "cell_type": "code",
   "execution_count": 164,
   "id": "8e0f743e",
   "metadata": {},
   "outputs": [
    {
     "data": {
      "text/plain": [
       "array([[ 5,  8],\n",
       "       [ 9, 14]])"
      ]
     },
     "execution_count": 164,
     "metadata": {},
     "output_type": "execute_result"
    }
   ],
   "source": [
    "np.dot(d,c)"
   ]
  },
  {
   "cell_type": "code",
   "execution_count": 165,
   "id": "7863ac80",
   "metadata": {},
   "outputs": [
    {
     "data": {
      "text/plain": [
       "array([[4, 3],\n",
       "       [4, 2]])"
      ]
     },
     "execution_count": 165,
     "metadata": {},
     "output_type": "execute_result"
    }
   ],
   "source": [
    "d*c"
   ]
  },
  {
   "cell_type": "code",
   "execution_count": 166,
   "id": "c61898aa",
   "metadata": {},
   "outputs": [],
   "source": [
    "# More Operations on Arrays"
   ]
  },
  {
   "cell_type": "code",
   "execution_count": 167,
   "id": "a6a0bf8d",
   "metadata": {},
   "outputs": [],
   "source": [
    "z  =np.arange(0,24)"
   ]
  },
  {
   "cell_type": "code",
   "execution_count": 168,
   "id": "d21944ca",
   "metadata": {},
   "outputs": [
    {
     "data": {
      "text/plain": [
       "array([ 0,  1,  2,  3,  4,  5,  6,  7,  8,  9, 10, 11, 12, 13, 14, 15, 16,\n",
       "       17, 18, 19, 20, 21, 22, 23])"
      ]
     },
     "execution_count": 168,
     "metadata": {},
     "output_type": "execute_result"
    }
   ],
   "source": [
    "z"
   ]
  },
  {
   "cell_type": "code",
   "execution_count": 169,
   "id": "58360cf2",
   "metadata": {},
   "outputs": [
    {
     "data": {
      "text/plain": [
       "array([[ 0,  1,  2],\n",
       "       [ 3,  4,  5],\n",
       "       [ 6,  7,  8],\n",
       "       [ 9, 10, 11],\n",
       "       [12, 13, 14],\n",
       "       [15, 16, 17],\n",
       "       [18, 19, 20],\n",
       "       [21, 22, 23]])"
      ]
     },
     "execution_count": 169,
     "metadata": {},
     "output_type": "execute_result"
    }
   ],
   "source": [
    "z.reshape(8,3)"
   ]
  },
  {
   "cell_type": "code",
   "execution_count": 171,
   "id": "d5b98b07",
   "metadata": {},
   "outputs": [
    {
     "data": {
      "text/plain": [
       "array([[ 0,  1,  2,  3],\n",
       "       [ 4,  5,  6,  7],\n",
       "       [ 8,  9, 10, 11],\n",
       "       [12, 13, 14, 15],\n",
       "       [16, 17, 18, 19],\n",
       "       [20, 21, 22, 23]])"
      ]
     },
     "execution_count": 171,
     "metadata": {},
     "output_type": "execute_result"
    }
   ],
   "source": [
    "z.reshape(6,4)"
   ]
  },
  {
   "cell_type": "code",
   "execution_count": 172,
   "id": "c90ca5e1",
   "metadata": {},
   "outputs": [
    {
     "data": {
      "text/plain": [
       "array([[ 0,  1],\n",
       "       [ 2,  3],\n",
       "       [ 4,  5],\n",
       "       [ 6,  7],\n",
       "       [ 8,  9],\n",
       "       [10, 11],\n",
       "       [12, 13],\n",
       "       [14, 15],\n",
       "       [16, 17],\n",
       "       [18, 19],\n",
       "       [20, 21],\n",
       "       [22, 23]])"
      ]
     },
     "execution_count": 172,
     "metadata": {},
     "output_type": "execute_result"
    }
   ],
   "source": [
    "z.reshape(12,2)"
   ]
  },
  {
   "cell_type": "code",
   "execution_count": 173,
   "id": "34e7914a",
   "metadata": {},
   "outputs": [
    {
     "data": {
      "text/plain": [
       "array([[ 0,  1,  2,  3,  4,  5,  6,  7,  8,  9, 10, 11],\n",
       "       [12, 13, 14, 15, 16, 17, 18, 19, 20, 21, 22, 23]])"
      ]
     },
     "execution_count": 173,
     "metadata": {},
     "output_type": "execute_result"
    }
   ],
   "source": [
    "z.reshape(2,12)"
   ]
  },
  {
   "cell_type": "code",
   "execution_count": 175,
   "id": "5d85955e",
   "metadata": {},
   "outputs": [],
   "source": [
    "z = z.reshape(4,6)"
   ]
  },
  {
   "cell_type": "code",
   "execution_count": 176,
   "id": "2fe0fdbb",
   "metadata": {},
   "outputs": [
    {
     "data": {
      "text/plain": [
       "array([[ 0,  1,  2,  3,  4,  5],\n",
       "       [ 6,  7,  8,  9, 10, 11],\n",
       "       [12, 13, 14, 15, 16, 17],\n",
       "       [18, 19, 20, 21, 22, 23]])"
      ]
     },
     "execution_count": 176,
     "metadata": {},
     "output_type": "execute_result"
    }
   ],
   "source": [
    "z"
   ]
  },
  {
   "cell_type": "code",
   "execution_count": 177,
   "id": "807b81eb",
   "metadata": {},
   "outputs": [
    {
     "data": {
      "text/plain": [
       "array([[0.        , 1.        , 1.41421356, 1.73205081, 2.        ,\n",
       "        2.23606798],\n",
       "       [2.44948974, 2.64575131, 2.82842712, 3.        , 3.16227766,\n",
       "        3.31662479],\n",
       "       [3.46410162, 3.60555128, 3.74165739, 3.87298335, 4.        ,\n",
       "        4.12310563],\n",
       "       [4.24264069, 4.35889894, 4.47213595, 4.58257569, 4.69041576,\n",
       "        4.79583152]])"
      ]
     },
     "execution_count": 177,
     "metadata": {},
     "output_type": "execute_result"
    }
   ],
   "source": [
    "np.sqrt(z)"
   ]
  },
  {
   "cell_type": "code",
   "execution_count": 178,
   "id": "1abe8972",
   "metadata": {},
   "outputs": [
    {
     "data": {
      "text/plain": [
       "array([[ 0,  1,  2,  3,  4,  5],\n",
       "       [ 6,  7,  8,  9, 10, 11],\n",
       "       [12, 13, 14, 15, 16, 17],\n",
       "       [18, 19, 20, 21, 22, 23]])"
      ]
     },
     "execution_count": 178,
     "metadata": {},
     "output_type": "execute_result"
    }
   ],
   "source": [
    "z"
   ]
  },
  {
   "cell_type": "code",
   "execution_count": 179,
   "id": "34b9c303",
   "metadata": {},
   "outputs": [
    {
     "data": {
      "text/plain": [
       "276"
      ]
     },
     "execution_count": 179,
     "metadata": {},
     "output_type": "execute_result"
    }
   ],
   "source": [
    "np.sum(z)"
   ]
  },
  {
   "cell_type": "code",
   "execution_count": 183,
   "id": "55cc55b1",
   "metadata": {},
   "outputs": [
    {
     "data": {
      "text/plain": [
       "array([ 15,  51,  87, 123])"
      ]
     },
     "execution_count": 183,
     "metadata": {},
     "output_type": "execute_result"
    }
   ],
   "source": [
    "np.sum(z,axis=-1 )"
   ]
  },
  {
   "cell_type": "code",
   "execution_count": 184,
   "id": "62b1d331",
   "metadata": {},
   "outputs": [
    {
     "data": {
      "text/plain": [
       "array([36, 40, 44, 48, 52, 56])"
      ]
     },
     "execution_count": 184,
     "metadata": {},
     "output_type": "execute_result"
    }
   ],
   "source": [
    "np.sum(z,0)"
   ]
  },
  {
   "cell_type": "code",
   "execution_count": 185,
   "id": "51cc8410",
   "metadata": {},
   "outputs": [
    {
     "data": {
      "text/plain": [
       "array([ 15,  51,  87, 123])"
      ]
     },
     "execution_count": 185,
     "metadata": {},
     "output_type": "execute_result"
    }
   ],
   "source": [
    "np.sum(z, axis=1)"
   ]
  },
  {
   "cell_type": "code",
   "execution_count": 186,
   "id": "7249ef13",
   "metadata": {},
   "outputs": [
    {
     "data": {
      "text/plain": [
       "0"
      ]
     },
     "execution_count": 186,
     "metadata": {},
     "output_type": "execute_result"
    }
   ],
   "source": [
    "np.min(z)"
   ]
  },
  {
   "cell_type": "code",
   "execution_count": 187,
   "id": "d8b62612",
   "metadata": {},
   "outputs": [
    {
     "data": {
      "text/plain": [
       "array([0, 1, 2, 3, 4, 5])"
      ]
     },
     "execution_count": 187,
     "metadata": {},
     "output_type": "execute_result"
    }
   ],
   "source": [
    "np.min(z, axis=0)"
   ]
  },
  {
   "cell_type": "code",
   "execution_count": 188,
   "id": "4c9d8521",
   "metadata": {},
   "outputs": [
    {
     "data": {
      "text/plain": [
       "array([ 0,  6, 12, 18])"
      ]
     },
     "execution_count": 188,
     "metadata": {},
     "output_type": "execute_result"
    }
   ],
   "source": [
    "np.min(z, axis=1)"
   ]
  },
  {
   "cell_type": "code",
   "execution_count": 189,
   "id": "b13df34f",
   "metadata": {},
   "outputs": [
    {
     "data": {
      "text/plain": [
       "11.5"
      ]
     },
     "execution_count": 189,
     "metadata": {},
     "output_type": "execute_result"
    }
   ],
   "source": [
    "np.average(z)"
   ]
  },
  {
   "cell_type": "code",
   "execution_count": 190,
   "id": "384f9ea1",
   "metadata": {},
   "outputs": [
    {
     "data": {
      "text/plain": [
       "array([ 9., 10., 11., 12., 13., 14.])"
      ]
     },
     "execution_count": 190,
     "metadata": {},
     "output_type": "execute_result"
    }
   ],
   "source": [
    "np.average(z, axis=0)"
   ]
  },
  {
   "cell_type": "code",
   "execution_count": 191,
   "id": "92c92823",
   "metadata": {},
   "outputs": [
    {
     "data": {
      "text/plain": [
       "array([ 2.5,  8.5, 14.5, 20.5])"
      ]
     },
     "execution_count": 191,
     "metadata": {},
     "output_type": "execute_result"
    }
   ],
   "source": [
    "np.average(z, axis=1)"
   ]
  },
  {
   "cell_type": "code",
   "execution_count": 192,
   "id": "717ed00a",
   "metadata": {},
   "outputs": [
    {
     "data": {
      "text/plain": [
       "6.922186552431729"
      ]
     },
     "execution_count": 192,
     "metadata": {},
     "output_type": "execute_result"
    }
   ],
   "source": [
    "np.std(z)"
   ]
  },
  {
   "cell_type": "code",
   "execution_count": 193,
   "id": "7a6fda0f",
   "metadata": {},
   "outputs": [
    {
     "data": {
      "text/plain": [
       "array([6.70820393, 6.70820393, 6.70820393, 6.70820393, 6.70820393,\n",
       "       6.70820393])"
      ]
     },
     "execution_count": 193,
     "metadata": {},
     "output_type": "execute_result"
    }
   ],
   "source": [
    "np.std(z, axis=0)"
   ]
  },
  {
   "cell_type": "code",
   "execution_count": 194,
   "id": "8d4315dc",
   "metadata": {},
   "outputs": [
    {
     "data": {
      "text/plain": [
       "array([1.70782513, 1.70782513, 1.70782513, 1.70782513])"
      ]
     },
     "execution_count": 194,
     "metadata": {},
     "output_type": "execute_result"
    }
   ],
   "source": [
    "np.std(z, axis=1)"
   ]
  },
  {
   "cell_type": "code",
   "execution_count": 195,
   "id": "112ef73f",
   "metadata": {},
   "outputs": [
    {
     "data": {
      "text/plain": [
       "array([[ 0,  1,  2,  3,  4,  5],\n",
       "       [ 6,  7,  8,  9, 10, 11],\n",
       "       [12, 13, 14, 15, 16, 17],\n",
       "       [18, 19, 20, 21, 22, 23]])"
      ]
     },
     "execution_count": 195,
     "metadata": {},
     "output_type": "execute_result"
    }
   ],
   "source": [
    "z"
   ]
  },
  {
   "cell_type": "code",
   "execution_count": 196,
   "id": "f5e42cfa",
   "metadata": {},
   "outputs": [
    {
     "data": {
      "text/plain": [
       "array([[ 0,  1],\n",
       "       [ 2,  3],\n",
       "       [ 4,  5],\n",
       "       [ 6,  7],\n",
       "       [ 8,  9],\n",
       "       [10, 11],\n",
       "       [12, 13],\n",
       "       [14, 15],\n",
       "       [16, 17],\n",
       "       [18, 19],\n",
       "       [20, 21],\n",
       "       [22, 23]])"
      ]
     },
     "execution_count": 196,
     "metadata": {},
     "output_type": "execute_result"
    }
   ],
   "source": [
    "z.reshape(12,2)"
   ]
  },
  {
   "cell_type": "code",
   "execution_count": 197,
   "id": "99f94315",
   "metadata": {},
   "outputs": [
    {
     "data": {
      "text/plain": [
       "array([[ 0,  1,  2,  3,  4,  5],\n",
       "       [ 6,  7,  8,  9, 10, 11],\n",
       "       [12, 13, 14, 15, 16, 17],\n",
       "       [18, 19, 20, 21, 22, 23]])"
      ]
     },
     "execution_count": 197,
     "metadata": {},
     "output_type": "execute_result"
    }
   ],
   "source": [
    "z"
   ]
  },
  {
   "cell_type": "code",
   "execution_count": 198,
   "id": "ca39ba23",
   "metadata": {},
   "outputs": [
    {
     "data": {
      "text/plain": [
       "array([ 0,  1,  2,  3,  4,  5,  6,  7,  8,  9, 10, 11, 12, 13, 14, 15, 16,\n",
       "       17, 18, 19, 20, 21, 22, 23])"
      ]
     },
     "execution_count": 198,
     "metadata": {},
     "output_type": "execute_result"
    }
   ],
   "source": [
    "z.flatten()"
   ]
  },
  {
   "cell_type": "code",
   "execution_count": 199,
   "id": "e153d1b3",
   "metadata": {},
   "outputs": [
    {
     "data": {
      "text/plain": [
       "array([[ 0,  1,  2,  3,  4,  5],\n",
       "       [ 6,  7,  8,  9, 10, 11],\n",
       "       [12, 13, 14, 15, 16, 17],\n",
       "       [18, 19, 20, 21, 22, 23]])"
      ]
     },
     "execution_count": 199,
     "metadata": {},
     "output_type": "execute_result"
    }
   ],
   "source": [
    "z"
   ]
  },
  {
   "cell_type": "code",
   "execution_count": 200,
   "id": "67a1976d",
   "metadata": {},
   "outputs": [
    {
     "data": {
      "text/plain": [
       "array([[ 0,  6, 12, 18],\n",
       "       [ 1,  7, 13, 19],\n",
       "       [ 2,  8, 14, 20],\n",
       "       [ 3,  9, 15, 21],\n",
       "       [ 4, 10, 16, 22],\n",
       "       [ 5, 11, 17, 23]])"
      ]
     },
     "execution_count": 200,
     "metadata": {},
     "output_type": "execute_result"
    }
   ],
   "source": [
    "z.T"
   ]
  },
  {
   "cell_type": "code",
   "execution_count": 202,
   "id": "8220c8bf",
   "metadata": {},
   "outputs": [
    {
     "data": {
      "text/plain": [
       "array([[ 0,  1,  2,  3,  4,  5],\n",
       "       [ 6,  7,  8,  9, 10, 11],\n",
       "       [12, 13, 14, 15, 16, 17],\n",
       "       [18, 19, 20, 21, 22, 23]])"
      ]
     },
     "execution_count": 202,
     "metadata": {},
     "output_type": "execute_result"
    }
   ],
   "source": [
    "z"
   ]
  },
  {
   "cell_type": "code",
   "execution_count": 204,
   "id": "781b9a92",
   "metadata": {},
   "outputs": [
    {
     "data": {
      "text/plain": [
       "array([[ 0,  6, 12, 18],\n",
       "       [ 1,  7, 13, 19],\n",
       "       [ 2,  8, 14, 20],\n",
       "       [ 3,  9, 15, 21],\n",
       "       [ 4, 10, 16, 22],\n",
       "       [ 5, 11, 17, 23]])"
      ]
     },
     "execution_count": 204,
     "metadata": {},
     "output_type": "execute_result"
    }
   ],
   "source": [
    "np.transpose(z)"
   ]
  },
  {
   "cell_type": "code",
   "execution_count": 205,
   "id": "c5b65539",
   "metadata": {},
   "outputs": [],
   "source": [
    "# Stacking of Arrays"
   ]
  },
  {
   "cell_type": "code",
   "execution_count": 206,
   "id": "227bede3",
   "metadata": {},
   "outputs": [],
   "source": [
    "m = np.random.randint(0,10, (2,2))"
   ]
  },
  {
   "cell_type": "code",
   "execution_count": 207,
   "id": "c4d3292e",
   "metadata": {},
   "outputs": [
    {
     "data": {
      "text/plain": [
       "array([[9, 2],\n",
       "       [7, 8]])"
      ]
     },
     "execution_count": 207,
     "metadata": {},
     "output_type": "execute_result"
    }
   ],
   "source": [
    "m"
   ]
  },
  {
   "cell_type": "code",
   "execution_count": 208,
   "id": "a084749b",
   "metadata": {},
   "outputs": [],
   "source": [
    "n = np.random.randint(0,10, (2,2))"
   ]
  },
  {
   "cell_type": "code",
   "execution_count": 209,
   "id": "988e0f55",
   "metadata": {},
   "outputs": [
    {
     "data": {
      "text/plain": [
       "array([[2, 3],\n",
       "       [4, 6]])"
      ]
     },
     "execution_count": 209,
     "metadata": {},
     "output_type": "execute_result"
    }
   ],
   "source": [
    "n"
   ]
  },
  {
   "cell_type": "code",
   "execution_count": 211,
   "id": "9fb15e77",
   "metadata": {},
   "outputs": [
    {
     "data": {
      "text/plain": [
       "array([[9, 2, 2, 3],\n",
       "       [7, 8, 4, 6]])"
      ]
     },
     "execution_count": 211,
     "metadata": {},
     "output_type": "execute_result"
    }
   ],
   "source": [
    "np.hstack((m,n))"
   ]
  },
  {
   "cell_type": "code",
   "execution_count": 214,
   "id": "0ccccef8",
   "metadata": {},
   "outputs": [
    {
     "data": {
      "text/plain": [
       "array([[9, 2],\n",
       "       [7, 8],\n",
       "       [2, 3],\n",
       "       [4, 6]])"
      ]
     },
     "execution_count": 214,
     "metadata": {},
     "output_type": "execute_result"
    }
   ],
   "source": [
    "np.vstack((m,n))"
   ]
  },
  {
   "cell_type": "code",
   "execution_count": null,
   "id": "7ea7c033",
   "metadata": {},
   "outputs": [],
   "source": []
  },
  {
   "cell_type": "code",
   "execution_count": 215,
   "id": "22790f41",
   "metadata": {},
   "outputs": [],
   "source": [
    "A = np.random.randint(0,10,size = (3,3))"
   ]
  },
  {
   "cell_type": "code",
   "execution_count": 216,
   "id": "5a485e5c",
   "metadata": {},
   "outputs": [
    {
     "data": {
      "text/plain": [
       "array([[3, 2, 5],\n",
       "       [2, 4, 4],\n",
       "       [7, 9, 2]])"
      ]
     },
     "execution_count": 216,
     "metadata": {},
     "output_type": "execute_result"
    }
   ],
   "source": [
    "A"
   ]
  },
  {
   "cell_type": "code",
   "execution_count": 222,
   "id": "ca1e3198",
   "metadata": {},
   "outputs": [],
   "source": [
    "B = np.array([[1,2,3]])"
   ]
  },
  {
   "cell_type": "code",
   "execution_count": 223,
   "id": "46d3fc88",
   "metadata": {},
   "outputs": [
    {
     "data": {
      "text/plain": [
       "array([[1, 2, 3]])"
      ]
     },
     "execution_count": 223,
     "metadata": {},
     "output_type": "execute_result"
    }
   ],
   "source": [
    "B"
   ]
  },
  {
   "cell_type": "code",
   "execution_count": 224,
   "id": "ea3459d6",
   "metadata": {},
   "outputs": [
    {
     "data": {
      "text/plain": [
       "(3, 3)"
      ]
     },
     "execution_count": 224,
     "metadata": {},
     "output_type": "execute_result"
    }
   ],
   "source": [
    "A.shape"
   ]
  },
  {
   "cell_type": "code",
   "execution_count": 225,
   "id": "7f9c4c5e",
   "metadata": {},
   "outputs": [
    {
     "data": {
      "text/plain": [
       "(1, 3)"
      ]
     },
     "execution_count": 225,
     "metadata": {},
     "output_type": "execute_result"
    }
   ],
   "source": [
    "B.shape"
   ]
  },
  {
   "cell_type": "code",
   "execution_count": 226,
   "id": "806198d7",
   "metadata": {},
   "outputs": [
    {
     "data": {
      "text/plain": [
       "array([[ 4,  4,  8],\n",
       "       [ 3,  6,  7],\n",
       "       [ 8, 11,  5]])"
      ]
     },
     "execution_count": 226,
     "metadata": {},
     "output_type": "execute_result"
    }
   ],
   "source": [
    "A + B"
   ]
  },
  {
   "cell_type": "code",
   "execution_count": 227,
   "id": "c15d6885",
   "metadata": {},
   "outputs": [
    {
     "data": {
      "text/plain": [
       "array([[3, 2, 7],\n",
       "       [2, 4, 9],\n",
       "       [5, 4, 2]])"
      ]
     },
     "execution_count": 227,
     "metadata": {},
     "output_type": "execute_result"
    }
   ],
   "source": [
    "A.T"
   ]
  },
  {
   "cell_type": "code",
   "execution_count": 228,
   "id": "54dee0fe",
   "metadata": {},
   "outputs": [
    {
     "data": {
      "text/plain": [
       "array([[ 4,  4, 10],\n",
       "       [ 3,  6, 12],\n",
       "       [ 6,  6,  5]])"
      ]
     },
     "execution_count": 228,
     "metadata": {},
     "output_type": "execute_result"
    }
   ],
   "source": [
    "B + A.T"
   ]
  },
  {
   "cell_type": "code",
   "execution_count": 229,
   "id": "8cac0a7a",
   "metadata": {},
   "outputs": [
    {
     "data": {
      "text/plain": [
       "array([[3, 2, 5],\n",
       "       [2, 4, 4],\n",
       "       [7, 9, 2]])"
      ]
     },
     "execution_count": 229,
     "metadata": {},
     "output_type": "execute_result"
    }
   ],
   "source": [
    "A"
   ]
  },
  {
   "cell_type": "code",
   "execution_count": 230,
   "id": "a82d2389",
   "metadata": {},
   "outputs": [
    {
     "data": {
      "text/plain": [
       "array([[ 8,  7, 10],\n",
       "       [ 7,  9,  9],\n",
       "       [12, 14,  7]])"
      ]
     },
     "execution_count": 230,
     "metadata": {},
     "output_type": "execute_result"
    }
   ],
   "source": [
    "A + 5"
   ]
  },
  {
   "cell_type": "code",
   "execution_count": 231,
   "id": "4e4a0b65",
   "metadata": {},
   "outputs": [
    {
     "data": {
      "text/plain": [
       "array([[ 9,  6, 15],\n",
       "       [ 6, 12, 12],\n",
       "       [21, 27,  6]])"
      ]
     },
     "execution_count": 231,
     "metadata": {},
     "output_type": "execute_result"
    }
   ],
   "source": [
    "A * 3"
   ]
  },
  {
   "cell_type": "code",
   "execution_count": 232,
   "id": "a7741d2b",
   "metadata": {},
   "outputs": [],
   "source": [
    "# vectorizations"
   ]
  },
  {
   "cell_type": "code",
   "execution_count": 233,
   "id": "d7e8ce22",
   "metadata": {},
   "outputs": [],
   "source": [
    "p1 = np.array([1,2,4,7,-2,9,6,0])"
   ]
  },
  {
   "cell_type": "code",
   "execution_count": 234,
   "id": "c13a9cef",
   "metadata": {},
   "outputs": [],
   "source": [
    "p2 = np.array([5,5,8,2,-9,2,1,6])"
   ]
  },
  {
   "cell_type": "code",
   "execution_count": 235,
   "id": "8b5cf3e8",
   "metadata": {},
   "outputs": [
    {
     "data": {
      "text/plain": [
       "array([ 1,  2,  4,  7, -2,  9,  6,  0])"
      ]
     },
     "execution_count": 235,
     "metadata": {},
     "output_type": "execute_result"
    }
   ],
   "source": [
    "p1"
   ]
  },
  {
   "cell_type": "code",
   "execution_count": 236,
   "id": "10e9773a",
   "metadata": {},
   "outputs": [
    {
     "data": {
      "text/plain": [
       "array([ 5,  5,  8,  2, -9,  2,  1,  6])"
      ]
     },
     "execution_count": 236,
     "metadata": {},
     "output_type": "execute_result"
    }
   ],
   "source": [
    "p2"
   ]
  },
  {
   "cell_type": "code",
   "execution_count": 237,
   "id": "00d1ef13",
   "metadata": {},
   "outputs": [],
   "source": [
    "sum_12 = 0\n",
    "for i in range(len(p1)):\n",
    "    sum_12+=(p2[i]-p1[i])**2"
   ]
  },
  {
   "cell_type": "code",
   "execution_count": 238,
   "id": "ac57ed1e",
   "metadata": {},
   "outputs": [
    {
     "data": {
      "text/plain": [
       "225"
      ]
     },
     "execution_count": 238,
     "metadata": {},
     "output_type": "execute_result"
    }
   ],
   "source": [
    "sum_12"
   ]
  },
  {
   "cell_type": "code",
   "execution_count": 240,
   "id": "7cdc9822",
   "metadata": {},
   "outputs": [
    {
     "data": {
      "text/plain": [
       "15.0"
      ]
     },
     "execution_count": 240,
     "metadata": {},
     "output_type": "execute_result"
    }
   ],
   "source": [
    "sum_12**0.5"
   ]
  },
  {
   "cell_type": "code",
   "execution_count": 241,
   "id": "f935522e",
   "metadata": {},
   "outputs": [
    {
     "data": {
      "text/plain": [
       "array([ 1,  2,  4,  7, -2,  9,  6,  0])"
      ]
     },
     "execution_count": 241,
     "metadata": {},
     "output_type": "execute_result"
    }
   ],
   "source": [
    "p1"
   ]
  },
  {
   "cell_type": "code",
   "execution_count": 242,
   "id": "3f802bc1",
   "metadata": {},
   "outputs": [
    {
     "data": {
      "text/plain": [
       "array([ 5,  5,  8,  2, -9,  2,  1,  6])"
      ]
     },
     "execution_count": 242,
     "metadata": {},
     "output_type": "execute_result"
    }
   ],
   "source": [
    "p2"
   ]
  },
  {
   "cell_type": "code",
   "execution_count": 248,
   "id": "5fd8fc78",
   "metadata": {},
   "outputs": [],
   "source": [
    "def distance(p1,p2):\n",
    "    return np.sqrt(np.sum(np.square(p2-p1)))"
   ]
  },
  {
   "cell_type": "code",
   "execution_count": 249,
   "id": "26cbffb6",
   "metadata": {},
   "outputs": [
    {
     "data": {
      "text/plain": [
       "15.0"
      ]
     },
     "execution_count": 249,
     "metadata": {},
     "output_type": "execute_result"
    }
   ],
   "source": [
    "distance(p1,p2)"
   ]
  },
  {
   "cell_type": "code",
   "execution_count": 250,
   "id": "1dc3e454",
   "metadata": {},
   "outputs": [],
   "source": [
    "# pandas"
   ]
  },
  {
   "cell_type": "code",
   "execution_count": 251,
   "id": "be98563e",
   "metadata": {},
   "outputs": [
    {
     "name": "stdout",
     "output_type": "stream",
     "text": [
      "Requirement already satisfied: pandas in c:\\users\\skme2\\anaconda3\\lib\\site-packages (1.2.4)\n",
      "Requirement already satisfied: python-dateutil>=2.7.3 in c:\\users\\skme2\\anaconda3\\lib\\site-packages (from pandas) (2.8.1)\n",
      "Requirement already satisfied: pytz>=2017.3 in c:\\users\\skme2\\anaconda3\\lib\\site-packages (from pandas) (2021.1)\n",
      "Requirement already satisfied: numpy>=1.16.5 in c:\\users\\skme2\\anaconda3\\lib\\site-packages (from pandas) (1.22.4)\n",
      "Requirement already satisfied: six>=1.5 in c:\\users\\skme2\\anaconda3\\lib\\site-packages (from python-dateutil>=2.7.3->pandas) (1.15.0)\n"
     ]
    },
    {
     "name": "stderr",
     "output_type": "stream",
     "text": [
      "WARNING: Ignoring invalid distribution -atplotlib (c:\\users\\skme2\\anaconda3\\lib\\site-packages)\n",
      "WARNING: Ignoring invalid distribution -atplotlib (c:\\users\\skme2\\anaconda3\\lib\\site-packages)\n",
      "DEPRECATION: pyodbc 4.0.0-unsupported has a non-standard version number. pip 24.0 will enforce this behaviour change. A possible replacement is to upgrade to a newer version of pyodbc or contact the author to suggest that they release a version with a conforming version number. Discussion can be found at https://github.com/pypa/pip/issues/12063\n",
      "\n",
      "[notice] A new release of pip is available: 23.3.1 -> 24.0\n",
      "[notice] To update, run: python.exe -m pip install --upgrade pip\n"
     ]
    }
   ],
   "source": [
    "!pip install pandas"
   ]
  },
  {
   "cell_type": "code",
   "execution_count": 252,
   "id": "0069ed81",
   "metadata": {},
   "outputs": [],
   "source": [
    "import pandas as pd"
   ]
  },
  {
   "cell_type": "code",
   "execution_count": 253,
   "id": "eac234f6",
   "metadata": {},
   "outputs": [],
   "source": [
    "w = ['Python', 'javaScript', 'c', 'c++', 'HTML', 'CSS']"
   ]
  },
  {
   "cell_type": "code",
   "execution_count": 254,
   "id": "16c438e9",
   "metadata": {},
   "outputs": [
    {
     "data": {
      "text/plain": [
       "['Python', 'javaScript', 'c', 'c++', 'HTML', 'CSS']"
      ]
     },
     "execution_count": 254,
     "metadata": {},
     "output_type": "execute_result"
    }
   ],
   "source": [
    "w"
   ]
  },
  {
   "cell_type": "code",
   "execution_count": 255,
   "id": "3b7ad148",
   "metadata": {},
   "outputs": [
    {
     "data": {
      "text/plain": [
       "list"
      ]
     },
     "execution_count": 255,
     "metadata": {},
     "output_type": "execute_result"
    }
   ],
   "source": [
    "type(w)"
   ]
  },
  {
   "cell_type": "code",
   "execution_count": 257,
   "id": "6ff1cbea",
   "metadata": {},
   "outputs": [],
   "source": [
    "ser = pd.Series(w)"
   ]
  },
  {
   "cell_type": "code",
   "execution_count": 258,
   "id": "a8b0f371",
   "metadata": {},
   "outputs": [
    {
     "data": {
      "text/plain": [
       "0        Python\n",
       "1    javaScript\n",
       "2             c\n",
       "3           c++\n",
       "4          HTML\n",
       "5           CSS\n",
       "dtype: object"
      ]
     },
     "execution_count": 258,
     "metadata": {},
     "output_type": "execute_result"
    }
   ],
   "source": [
    "ser"
   ]
  },
  {
   "cell_type": "code",
   "execution_count": 259,
   "id": "0e35c9e5",
   "metadata": {},
   "outputs": [
    {
     "data": {
      "text/plain": [
       "pandas.core.series.Series"
      ]
     },
     "execution_count": 259,
     "metadata": {},
     "output_type": "execute_result"
    }
   ],
   "source": [
    "type(ser)"
   ]
  },
  {
   "cell_type": "code",
   "execution_count": 261,
   "id": "31f8d76d",
   "metadata": {},
   "outputs": [
    {
     "data": {
      "text/plain": [
       "'c'"
      ]
     },
     "execution_count": 261,
     "metadata": {},
     "output_type": "execute_result"
    }
   ],
   "source": [
    "ser[2]"
   ]
  },
  {
   "cell_type": "code",
   "execution_count": 262,
   "id": "cf589c1f",
   "metadata": {},
   "outputs": [
    {
     "data": {
      "text/plain": [
       "'javaScript'"
      ]
     },
     "execution_count": 262,
     "metadata": {},
     "output_type": "execute_result"
    }
   ],
   "source": [
    "ser[1]"
   ]
  },
  {
   "cell_type": "code",
   "execution_count": 264,
   "id": "6fb636e1",
   "metadata": {},
   "outputs": [
    {
     "data": {
      "text/plain": [
       "'HTML'"
      ]
     },
     "execution_count": 264,
     "metadata": {},
     "output_type": "execute_result"
    }
   ],
   "source": [
    "ser[4]"
   ]
  },
  {
   "cell_type": "code",
   "execution_count": 266,
   "id": "21eabc0d",
   "metadata": {},
   "outputs": [],
   "source": [
    "ser.index = ['A', \"B\", 'C', 'D', 'E', 'F']"
   ]
  },
  {
   "cell_type": "code",
   "execution_count": 267,
   "id": "bcc95858",
   "metadata": {},
   "outputs": [
    {
     "data": {
      "text/plain": [
       "A        Python\n",
       "B    javaScript\n",
       "C             c\n",
       "D           c++\n",
       "E          HTML\n",
       "F           CSS\n",
       "dtype: object"
      ]
     },
     "execution_count": 267,
     "metadata": {},
     "output_type": "execute_result"
    }
   ],
   "source": [
    "ser"
   ]
  },
  {
   "cell_type": "code",
   "execution_count": 268,
   "id": "57f0bacb",
   "metadata": {},
   "outputs": [
    {
     "data": {
      "text/plain": [
       "'Python'"
      ]
     },
     "execution_count": 268,
     "metadata": {},
     "output_type": "execute_result"
    }
   ],
   "source": [
    "ser['A']"
   ]
  },
  {
   "cell_type": "code",
   "execution_count": 271,
   "id": "7a277e17",
   "metadata": {},
   "outputs": [
    {
     "data": {
      "text/plain": [
       "'HTML'"
      ]
     },
     "execution_count": 271,
     "metadata": {},
     "output_type": "execute_result"
    }
   ],
   "source": [
    "ser['E']"
   ]
  },
  {
   "cell_type": "code",
   "execution_count": 273,
   "id": "7c9094a9",
   "metadata": {},
   "outputs": [
    {
     "data": {
      "text/plain": [
       "'HTML'"
      ]
     },
     "execution_count": 273,
     "metadata": {},
     "output_type": "execute_result"
    }
   ],
   "source": [
    "ser[4]"
   ]
  },
  {
   "cell_type": "code",
   "execution_count": 274,
   "id": "bf32b1f2",
   "metadata": {},
   "outputs": [],
   "source": [
    "import numpy as np"
   ]
  },
  {
   "cell_type": "code",
   "execution_count": 279,
   "id": "7b81df60",
   "metadata": {},
   "outputs": [],
   "source": [
    "arr = np.random.randint(10,100, size = (8,6))"
   ]
  },
  {
   "cell_type": "code",
   "execution_count": 281,
   "id": "8ea9efc0",
   "metadata": {},
   "outputs": [],
   "source": [
    "df = pd.DataFrame(arr)"
   ]
  },
  {
   "cell_type": "code",
   "execution_count": 282,
   "id": "08f3f1de",
   "metadata": {},
   "outputs": [
    {
     "data": {
      "text/html": [
       "<div>\n",
       "<style scoped>\n",
       "    .dataframe tbody tr th:only-of-type {\n",
       "        vertical-align: middle;\n",
       "    }\n",
       "\n",
       "    .dataframe tbody tr th {\n",
       "        vertical-align: top;\n",
       "    }\n",
       "\n",
       "    .dataframe thead th {\n",
       "        text-align: right;\n",
       "    }\n",
       "</style>\n",
       "<table border=\"1\" class=\"dataframe\">\n",
       "  <thead>\n",
       "    <tr style=\"text-align: right;\">\n",
       "      <th></th>\n",
       "      <th>0</th>\n",
       "      <th>1</th>\n",
       "      <th>2</th>\n",
       "      <th>3</th>\n",
       "      <th>4</th>\n",
       "      <th>5</th>\n",
       "    </tr>\n",
       "  </thead>\n",
       "  <tbody>\n",
       "    <tr>\n",
       "      <th>0</th>\n",
       "      <td>51</td>\n",
       "      <td>53</td>\n",
       "      <td>72</td>\n",
       "      <td>45</td>\n",
       "      <td>92</td>\n",
       "      <td>71</td>\n",
       "    </tr>\n",
       "    <tr>\n",
       "      <th>1</th>\n",
       "      <td>49</td>\n",
       "      <td>18</td>\n",
       "      <td>19</td>\n",
       "      <td>80</td>\n",
       "      <td>51</td>\n",
       "      <td>78</td>\n",
       "    </tr>\n",
       "    <tr>\n",
       "      <th>2</th>\n",
       "      <td>55</td>\n",
       "      <td>73</td>\n",
       "      <td>34</td>\n",
       "      <td>38</td>\n",
       "      <td>58</td>\n",
       "      <td>32</td>\n",
       "    </tr>\n",
       "    <tr>\n",
       "      <th>3</th>\n",
       "      <td>36</td>\n",
       "      <td>25</td>\n",
       "      <td>40</td>\n",
       "      <td>87</td>\n",
       "      <td>64</td>\n",
       "      <td>19</td>\n",
       "    </tr>\n",
       "    <tr>\n",
       "      <th>4</th>\n",
       "      <td>10</td>\n",
       "      <td>47</td>\n",
       "      <td>70</td>\n",
       "      <td>20</td>\n",
       "      <td>39</td>\n",
       "      <td>54</td>\n",
       "    </tr>\n",
       "    <tr>\n",
       "      <th>5</th>\n",
       "      <td>55</td>\n",
       "      <td>57</td>\n",
       "      <td>21</td>\n",
       "      <td>52</td>\n",
       "      <td>37</td>\n",
       "      <td>97</td>\n",
       "    </tr>\n",
       "    <tr>\n",
       "      <th>6</th>\n",
       "      <td>21</td>\n",
       "      <td>57</td>\n",
       "      <td>22</td>\n",
       "      <td>14</td>\n",
       "      <td>31</td>\n",
       "      <td>35</td>\n",
       "    </tr>\n",
       "    <tr>\n",
       "      <th>7</th>\n",
       "      <td>78</td>\n",
       "      <td>40</td>\n",
       "      <td>62</td>\n",
       "      <td>56</td>\n",
       "      <td>95</td>\n",
       "      <td>30</td>\n",
       "    </tr>\n",
       "  </tbody>\n",
       "</table>\n",
       "</div>"
      ],
      "text/plain": [
       "    0   1   2   3   4   5\n",
       "0  51  53  72  45  92  71\n",
       "1  49  18  19  80  51  78\n",
       "2  55  73  34  38  58  32\n",
       "3  36  25  40  87  64  19\n",
       "4  10  47  70  20  39  54\n",
       "5  55  57  21  52  37  97\n",
       "6  21  57  22  14  31  35\n",
       "7  78  40  62  56  95  30"
      ]
     },
     "execution_count": 282,
     "metadata": {},
     "output_type": "execute_result"
    }
   ],
   "source": [
    "df"
   ]
  },
  {
   "cell_type": "code",
   "execution_count": 283,
   "id": "a6175409",
   "metadata": {},
   "outputs": [
    {
     "data": {
      "text/plain": [
       "pandas.core.frame.DataFrame"
      ]
     },
     "execution_count": 283,
     "metadata": {},
     "output_type": "execute_result"
    }
   ],
   "source": [
    "type(df)"
   ]
  },
  {
   "cell_type": "code",
   "execution_count": 285,
   "id": "ac597144",
   "metadata": {},
   "outputs": [
    {
     "data": {
      "text/plain": [
       "0    72\n",
       "1    19\n",
       "2    34\n",
       "3    40\n",
       "4    70\n",
       "5    21\n",
       "6    22\n",
       "7    62\n",
       "Name: 2, dtype: int32"
      ]
     },
     "execution_count": 285,
     "metadata": {},
     "output_type": "execute_result"
    }
   ],
   "source": [
    "df[2]"
   ]
  },
  {
   "cell_type": "code",
   "execution_count": 287,
   "id": "943a7f4f",
   "metadata": {},
   "outputs": [
    {
     "data": {
      "text/plain": [
       "0    53\n",
       "1    18\n",
       "2    73\n",
       "3    25\n",
       "4    47\n",
       "5    57\n",
       "6    57\n",
       "7    40\n",
       "Name: 1, dtype: int32"
      ]
     },
     "execution_count": 287,
     "metadata": {},
     "output_type": "execute_result"
    }
   ],
   "source": [
    "df[1]"
   ]
  },
  {
   "cell_type": "code",
   "execution_count": 290,
   "id": "37b30501",
   "metadata": {},
   "outputs": [
    {
     "data": {
      "text/plain": [
       "0    51\n",
       "1    49\n",
       "2    55\n",
       "3    36\n",
       "4    10\n",
       "5    55\n",
       "6    21\n",
       "7    78\n",
       "Name: 0, dtype: int32"
      ]
     },
     "execution_count": 290,
     "metadata": {},
     "output_type": "execute_result"
    }
   ],
   "source": [
    "df[0]"
   ]
  },
  {
   "cell_type": "code",
   "execution_count": 294,
   "id": "8f4f4aeb",
   "metadata": {},
   "outputs": [
    {
     "data": {
      "text/plain": [
       "0    71\n",
       "1    78\n",
       "2    32\n",
       "3    19\n",
       "4    54\n",
       "5    97\n",
       "6    35\n",
       "7    30\n",
       "Name: 5, dtype: int32"
      ]
     },
     "execution_count": 294,
     "metadata": {},
     "output_type": "execute_result"
    }
   ],
   "source": [
    "df[5]"
   ]
  },
  {
   "cell_type": "code",
   "execution_count": 296,
   "id": "5d34bef5",
   "metadata": {},
   "outputs": [
    {
     "data": {
      "text/plain": [
       "0    51\n",
       "1    53\n",
       "2    72\n",
       "3    45\n",
       "4    92\n",
       "5    71\n",
       "Name: 0, dtype: int32"
      ]
     },
     "execution_count": 296,
     "metadata": {},
     "output_type": "execute_result"
    }
   ],
   "source": [
    "df.loc[0]"
   ]
  },
  {
   "cell_type": "code",
   "execution_count": 297,
   "id": "0eed1088",
   "metadata": {},
   "outputs": [
    {
     "data": {
      "text/html": [
       "<div>\n",
       "<style scoped>\n",
       "    .dataframe tbody tr th:only-of-type {\n",
       "        vertical-align: middle;\n",
       "    }\n",
       "\n",
       "    .dataframe tbody tr th {\n",
       "        vertical-align: top;\n",
       "    }\n",
       "\n",
       "    .dataframe thead th {\n",
       "        text-align: right;\n",
       "    }\n",
       "</style>\n",
       "<table border=\"1\" class=\"dataframe\">\n",
       "  <thead>\n",
       "    <tr style=\"text-align: right;\">\n",
       "      <th></th>\n",
       "      <th>0</th>\n",
       "      <th>1</th>\n",
       "      <th>2</th>\n",
       "      <th>3</th>\n",
       "      <th>4</th>\n",
       "      <th>5</th>\n",
       "    </tr>\n",
       "  </thead>\n",
       "  <tbody>\n",
       "    <tr>\n",
       "      <th>0</th>\n",
       "      <td>51</td>\n",
       "      <td>53</td>\n",
       "      <td>72</td>\n",
       "      <td>45</td>\n",
       "      <td>92</td>\n",
       "      <td>71</td>\n",
       "    </tr>\n",
       "    <tr>\n",
       "      <th>1</th>\n",
       "      <td>49</td>\n",
       "      <td>18</td>\n",
       "      <td>19</td>\n",
       "      <td>80</td>\n",
       "      <td>51</td>\n",
       "      <td>78</td>\n",
       "    </tr>\n",
       "    <tr>\n",
       "      <th>2</th>\n",
       "      <td>55</td>\n",
       "      <td>73</td>\n",
       "      <td>34</td>\n",
       "      <td>38</td>\n",
       "      <td>58</td>\n",
       "      <td>32</td>\n",
       "    </tr>\n",
       "    <tr>\n",
       "      <th>3</th>\n",
       "      <td>36</td>\n",
       "      <td>25</td>\n",
       "      <td>40</td>\n",
       "      <td>87</td>\n",
       "      <td>64</td>\n",
       "      <td>19</td>\n",
       "    </tr>\n",
       "    <tr>\n",
       "      <th>4</th>\n",
       "      <td>10</td>\n",
       "      <td>47</td>\n",
       "      <td>70</td>\n",
       "      <td>20</td>\n",
       "      <td>39</td>\n",
       "      <td>54</td>\n",
       "    </tr>\n",
       "    <tr>\n",
       "      <th>5</th>\n",
       "      <td>55</td>\n",
       "      <td>57</td>\n",
       "      <td>21</td>\n",
       "      <td>52</td>\n",
       "      <td>37</td>\n",
       "      <td>97</td>\n",
       "    </tr>\n",
       "    <tr>\n",
       "      <th>6</th>\n",
       "      <td>21</td>\n",
       "      <td>57</td>\n",
       "      <td>22</td>\n",
       "      <td>14</td>\n",
       "      <td>31</td>\n",
       "      <td>35</td>\n",
       "    </tr>\n",
       "    <tr>\n",
       "      <th>7</th>\n",
       "      <td>78</td>\n",
       "      <td>40</td>\n",
       "      <td>62</td>\n",
       "      <td>56</td>\n",
       "      <td>95</td>\n",
       "      <td>30</td>\n",
       "    </tr>\n",
       "  </tbody>\n",
       "</table>\n",
       "</div>"
      ],
      "text/plain": [
       "    0   1   2   3   4   5\n",
       "0  51  53  72  45  92  71\n",
       "1  49  18  19  80  51  78\n",
       "2  55  73  34  38  58  32\n",
       "3  36  25  40  87  64  19\n",
       "4  10  47  70  20  39  54\n",
       "5  55  57  21  52  37  97\n",
       "6  21  57  22  14  31  35\n",
       "7  78  40  62  56  95  30"
      ]
     },
     "execution_count": 297,
     "metadata": {},
     "output_type": "execute_result"
    }
   ],
   "source": [
    "df"
   ]
  },
  {
   "cell_type": "code",
   "execution_count": 298,
   "id": "8e04e3db",
   "metadata": {},
   "outputs": [
    {
     "data": {
      "text/plain": [
       "0    55\n",
       "1    73\n",
       "2    34\n",
       "3    38\n",
       "4    58\n",
       "5    32\n",
       "Name: 2, dtype: int32"
      ]
     },
     "execution_count": 298,
     "metadata": {},
     "output_type": "execute_result"
    }
   ],
   "source": [
    "df.loc[2]"
   ]
  },
  {
   "cell_type": "code",
   "execution_count": 299,
   "id": "a2d84229",
   "metadata": {},
   "outputs": [
    {
     "data": {
      "text/html": [
       "<div>\n",
       "<style scoped>\n",
       "    .dataframe tbody tr th:only-of-type {\n",
       "        vertical-align: middle;\n",
       "    }\n",
       "\n",
       "    .dataframe tbody tr th {\n",
       "        vertical-align: top;\n",
       "    }\n",
       "\n",
       "    .dataframe thead th {\n",
       "        text-align: right;\n",
       "    }\n",
       "</style>\n",
       "<table border=\"1\" class=\"dataframe\">\n",
       "  <thead>\n",
       "    <tr style=\"text-align: right;\">\n",
       "      <th></th>\n",
       "      <th>0</th>\n",
       "      <th>1</th>\n",
       "      <th>2</th>\n",
       "      <th>3</th>\n",
       "      <th>4</th>\n",
       "      <th>5</th>\n",
       "    </tr>\n",
       "  </thead>\n",
       "  <tbody>\n",
       "    <tr>\n",
       "      <th>0</th>\n",
       "      <td>51</td>\n",
       "      <td>53</td>\n",
       "      <td>72</td>\n",
       "      <td>45</td>\n",
       "      <td>92</td>\n",
       "      <td>71</td>\n",
       "    </tr>\n",
       "    <tr>\n",
       "      <th>1</th>\n",
       "      <td>49</td>\n",
       "      <td>18</td>\n",
       "      <td>19</td>\n",
       "      <td>80</td>\n",
       "      <td>51</td>\n",
       "      <td>78</td>\n",
       "    </tr>\n",
       "    <tr>\n",
       "      <th>2</th>\n",
       "      <td>55</td>\n",
       "      <td>73</td>\n",
       "      <td>34</td>\n",
       "      <td>38</td>\n",
       "      <td>58</td>\n",
       "      <td>32</td>\n",
       "    </tr>\n",
       "    <tr>\n",
       "      <th>3</th>\n",
       "      <td>36</td>\n",
       "      <td>25</td>\n",
       "      <td>40</td>\n",
       "      <td>87</td>\n",
       "      <td>64</td>\n",
       "      <td>19</td>\n",
       "    </tr>\n",
       "    <tr>\n",
       "      <th>4</th>\n",
       "      <td>10</td>\n",
       "      <td>47</td>\n",
       "      <td>70</td>\n",
       "      <td>20</td>\n",
       "      <td>39</td>\n",
       "      <td>54</td>\n",
       "    </tr>\n",
       "    <tr>\n",
       "      <th>5</th>\n",
       "      <td>55</td>\n",
       "      <td>57</td>\n",
       "      <td>21</td>\n",
       "      <td>52</td>\n",
       "      <td>37</td>\n",
       "      <td>97</td>\n",
       "    </tr>\n",
       "    <tr>\n",
       "      <th>6</th>\n",
       "      <td>21</td>\n",
       "      <td>57</td>\n",
       "      <td>22</td>\n",
       "      <td>14</td>\n",
       "      <td>31</td>\n",
       "      <td>35</td>\n",
       "    </tr>\n",
       "    <tr>\n",
       "      <th>7</th>\n",
       "      <td>78</td>\n",
       "      <td>40</td>\n",
       "      <td>62</td>\n",
       "      <td>56</td>\n",
       "      <td>95</td>\n",
       "      <td>30</td>\n",
       "    </tr>\n",
       "  </tbody>\n",
       "</table>\n",
       "</div>"
      ],
      "text/plain": [
       "    0   1   2   3   4   5\n",
       "0  51  53  72  45  92  71\n",
       "1  49  18  19  80  51  78\n",
       "2  55  73  34  38  58  32\n",
       "3  36  25  40  87  64  19\n",
       "4  10  47  70  20  39  54\n",
       "5  55  57  21  52  37  97\n",
       "6  21  57  22  14  31  35\n",
       "7  78  40  62  56  95  30"
      ]
     },
     "execution_count": 299,
     "metadata": {},
     "output_type": "execute_result"
    }
   ],
   "source": [
    "df"
   ]
  },
  {
   "cell_type": "code",
   "execution_count": 300,
   "id": "d9b7ca54",
   "metadata": {},
   "outputs": [
    {
     "data": {
      "text/plain": [
       "0    49\n",
       "1    18\n",
       "2    19\n",
       "3    80\n",
       "4    51\n",
       "5    78\n",
       "Name: 1, dtype: int32"
      ]
     },
     "execution_count": 300,
     "metadata": {},
     "output_type": "execute_result"
    }
   ],
   "source": [
    "df.iloc[1]"
   ]
  },
  {
   "cell_type": "code",
   "execution_count": 302,
   "id": "df78a6cc",
   "metadata": {},
   "outputs": [
    {
     "data": {
      "text/html": [
       "<div>\n",
       "<style scoped>\n",
       "    .dataframe tbody tr th:only-of-type {\n",
       "        vertical-align: middle;\n",
       "    }\n",
       "\n",
       "    .dataframe tbody tr th {\n",
       "        vertical-align: top;\n",
       "    }\n",
       "\n",
       "    .dataframe thead th {\n",
       "        text-align: right;\n",
       "    }\n",
       "</style>\n",
       "<table border=\"1\" class=\"dataframe\">\n",
       "  <thead>\n",
       "    <tr style=\"text-align: right;\">\n",
       "      <th></th>\n",
       "      <th>0</th>\n",
       "      <th>1</th>\n",
       "      <th>2</th>\n",
       "      <th>3</th>\n",
       "      <th>4</th>\n",
       "      <th>5</th>\n",
       "    </tr>\n",
       "  </thead>\n",
       "  <tbody>\n",
       "    <tr>\n",
       "      <th>0</th>\n",
       "      <td>51</td>\n",
       "      <td>53</td>\n",
       "      <td>72</td>\n",
       "      <td>45</td>\n",
       "      <td>92</td>\n",
       "      <td>71</td>\n",
       "    </tr>\n",
       "    <tr>\n",
       "      <th>1</th>\n",
       "      <td>49</td>\n",
       "      <td>18</td>\n",
       "      <td>19</td>\n",
       "      <td>80</td>\n",
       "      <td>51</td>\n",
       "      <td>78</td>\n",
       "    </tr>\n",
       "    <tr>\n",
       "      <th>2</th>\n",
       "      <td>55</td>\n",
       "      <td>73</td>\n",
       "      <td>34</td>\n",
       "      <td>38</td>\n",
       "      <td>58</td>\n",
       "      <td>32</td>\n",
       "    </tr>\n",
       "    <tr>\n",
       "      <th>3</th>\n",
       "      <td>36</td>\n",
       "      <td>25</td>\n",
       "      <td>40</td>\n",
       "      <td>87</td>\n",
       "      <td>64</td>\n",
       "      <td>19</td>\n",
       "    </tr>\n",
       "    <tr>\n",
       "      <th>4</th>\n",
       "      <td>10</td>\n",
       "      <td>47</td>\n",
       "      <td>70</td>\n",
       "      <td>20</td>\n",
       "      <td>39</td>\n",
       "      <td>54</td>\n",
       "    </tr>\n",
       "    <tr>\n",
       "      <th>5</th>\n",
       "      <td>55</td>\n",
       "      <td>57</td>\n",
       "      <td>21</td>\n",
       "      <td>52</td>\n",
       "      <td>37</td>\n",
       "      <td>97</td>\n",
       "    </tr>\n",
       "    <tr>\n",
       "      <th>6</th>\n",
       "      <td>21</td>\n",
       "      <td>57</td>\n",
       "      <td>22</td>\n",
       "      <td>14</td>\n",
       "      <td>31</td>\n",
       "      <td>35</td>\n",
       "    </tr>\n",
       "    <tr>\n",
       "      <th>7</th>\n",
       "      <td>78</td>\n",
       "      <td>40</td>\n",
       "      <td>62</td>\n",
       "      <td>56</td>\n",
       "      <td>95</td>\n",
       "      <td>30</td>\n",
       "    </tr>\n",
       "  </tbody>\n",
       "</table>\n",
       "</div>"
      ],
      "text/plain": [
       "    0   1   2   3   4   5\n",
       "0  51  53  72  45  92  71\n",
       "1  49  18  19  80  51  78\n",
       "2  55  73  34  38  58  32\n",
       "3  36  25  40  87  64  19\n",
       "4  10  47  70  20  39  54\n",
       "5  55  57  21  52  37  97\n",
       "6  21  57  22  14  31  35\n",
       "7  78  40  62  56  95  30"
      ]
     },
     "execution_count": 302,
     "metadata": {},
     "output_type": "execute_result"
    }
   ],
   "source": [
    "df"
   ]
  },
  {
   "cell_type": "code",
   "execution_count": 303,
   "id": "c7ec7dc0",
   "metadata": {},
   "outputs": [
    {
     "data": {
      "text/plain": [
       "0    71\n",
       "1    78\n",
       "2    32\n",
       "3    19\n",
       "4    54\n",
       "5    97\n",
       "6    35\n",
       "7    30\n",
       "Name: 5, dtype: int32"
      ]
     },
     "execution_count": 303,
     "metadata": {},
     "output_type": "execute_result"
    }
   ],
   "source": [
    "df.loc[:,5]"
   ]
  },
  {
   "cell_type": "code",
   "execution_count": 305,
   "id": "bca57657",
   "metadata": {},
   "outputs": [],
   "source": [
    "df.index = \"a b c d e f g h\".split()"
   ]
  },
  {
   "cell_type": "code",
   "execution_count": 306,
   "id": "0c63b149",
   "metadata": {},
   "outputs": [
    {
     "data": {
      "text/html": [
       "<div>\n",
       "<style scoped>\n",
       "    .dataframe tbody tr th:only-of-type {\n",
       "        vertical-align: middle;\n",
       "    }\n",
       "\n",
       "    .dataframe tbody tr th {\n",
       "        vertical-align: top;\n",
       "    }\n",
       "\n",
       "    .dataframe thead th {\n",
       "        text-align: right;\n",
       "    }\n",
       "</style>\n",
       "<table border=\"1\" class=\"dataframe\">\n",
       "  <thead>\n",
       "    <tr style=\"text-align: right;\">\n",
       "      <th></th>\n",
       "      <th>0</th>\n",
       "      <th>1</th>\n",
       "      <th>2</th>\n",
       "      <th>3</th>\n",
       "      <th>4</th>\n",
       "      <th>5</th>\n",
       "    </tr>\n",
       "  </thead>\n",
       "  <tbody>\n",
       "    <tr>\n",
       "      <th>a</th>\n",
       "      <td>51</td>\n",
       "      <td>53</td>\n",
       "      <td>72</td>\n",
       "      <td>45</td>\n",
       "      <td>92</td>\n",
       "      <td>71</td>\n",
       "    </tr>\n",
       "    <tr>\n",
       "      <th>b</th>\n",
       "      <td>49</td>\n",
       "      <td>18</td>\n",
       "      <td>19</td>\n",
       "      <td>80</td>\n",
       "      <td>51</td>\n",
       "      <td>78</td>\n",
       "    </tr>\n",
       "    <tr>\n",
       "      <th>c</th>\n",
       "      <td>55</td>\n",
       "      <td>73</td>\n",
       "      <td>34</td>\n",
       "      <td>38</td>\n",
       "      <td>58</td>\n",
       "      <td>32</td>\n",
       "    </tr>\n",
       "    <tr>\n",
       "      <th>d</th>\n",
       "      <td>36</td>\n",
       "      <td>25</td>\n",
       "      <td>40</td>\n",
       "      <td>87</td>\n",
       "      <td>64</td>\n",
       "      <td>19</td>\n",
       "    </tr>\n",
       "    <tr>\n",
       "      <th>e</th>\n",
       "      <td>10</td>\n",
       "      <td>47</td>\n",
       "      <td>70</td>\n",
       "      <td>20</td>\n",
       "      <td>39</td>\n",
       "      <td>54</td>\n",
       "    </tr>\n",
       "    <tr>\n",
       "      <th>f</th>\n",
       "      <td>55</td>\n",
       "      <td>57</td>\n",
       "      <td>21</td>\n",
       "      <td>52</td>\n",
       "      <td>37</td>\n",
       "      <td>97</td>\n",
       "    </tr>\n",
       "    <tr>\n",
       "      <th>g</th>\n",
       "      <td>21</td>\n",
       "      <td>57</td>\n",
       "      <td>22</td>\n",
       "      <td>14</td>\n",
       "      <td>31</td>\n",
       "      <td>35</td>\n",
       "    </tr>\n",
       "    <tr>\n",
       "      <th>h</th>\n",
       "      <td>78</td>\n",
       "      <td>40</td>\n",
       "      <td>62</td>\n",
       "      <td>56</td>\n",
       "      <td>95</td>\n",
       "      <td>30</td>\n",
       "    </tr>\n",
       "  </tbody>\n",
       "</table>\n",
       "</div>"
      ],
      "text/plain": [
       "    0   1   2   3   4   5\n",
       "a  51  53  72  45  92  71\n",
       "b  49  18  19  80  51  78\n",
       "c  55  73  34  38  58  32\n",
       "d  36  25  40  87  64  19\n",
       "e  10  47  70  20  39  54\n",
       "f  55  57  21  52  37  97\n",
       "g  21  57  22  14  31  35\n",
       "h  78  40  62  56  95  30"
      ]
     },
     "execution_count": 306,
     "metadata": {},
     "output_type": "execute_result"
    }
   ],
   "source": [
    "df"
   ]
  },
  {
   "cell_type": "code",
   "execution_count": 309,
   "id": "09145c12",
   "metadata": {},
   "outputs": [],
   "source": [
    "df.columns = ['p', 'q', 'r', 's', 't', 'u']"
   ]
  },
  {
   "cell_type": "code",
   "execution_count": 310,
   "id": "6b5340c2",
   "metadata": {},
   "outputs": [
    {
     "data": {
      "text/html": [
       "<div>\n",
       "<style scoped>\n",
       "    .dataframe tbody tr th:only-of-type {\n",
       "        vertical-align: middle;\n",
       "    }\n",
       "\n",
       "    .dataframe tbody tr th {\n",
       "        vertical-align: top;\n",
       "    }\n",
       "\n",
       "    .dataframe thead th {\n",
       "        text-align: right;\n",
       "    }\n",
       "</style>\n",
       "<table border=\"1\" class=\"dataframe\">\n",
       "  <thead>\n",
       "    <tr style=\"text-align: right;\">\n",
       "      <th></th>\n",
       "      <th>p</th>\n",
       "      <th>q</th>\n",
       "      <th>r</th>\n",
       "      <th>s</th>\n",
       "      <th>t</th>\n",
       "      <th>u</th>\n",
       "    </tr>\n",
       "  </thead>\n",
       "  <tbody>\n",
       "    <tr>\n",
       "      <th>a</th>\n",
       "      <td>51</td>\n",
       "      <td>53</td>\n",
       "      <td>72</td>\n",
       "      <td>45</td>\n",
       "      <td>92</td>\n",
       "      <td>71</td>\n",
       "    </tr>\n",
       "    <tr>\n",
       "      <th>b</th>\n",
       "      <td>49</td>\n",
       "      <td>18</td>\n",
       "      <td>19</td>\n",
       "      <td>80</td>\n",
       "      <td>51</td>\n",
       "      <td>78</td>\n",
       "    </tr>\n",
       "    <tr>\n",
       "      <th>c</th>\n",
       "      <td>55</td>\n",
       "      <td>73</td>\n",
       "      <td>34</td>\n",
       "      <td>38</td>\n",
       "      <td>58</td>\n",
       "      <td>32</td>\n",
       "    </tr>\n",
       "    <tr>\n",
       "      <th>d</th>\n",
       "      <td>36</td>\n",
       "      <td>25</td>\n",
       "      <td>40</td>\n",
       "      <td>87</td>\n",
       "      <td>64</td>\n",
       "      <td>19</td>\n",
       "    </tr>\n",
       "    <tr>\n",
       "      <th>e</th>\n",
       "      <td>10</td>\n",
       "      <td>47</td>\n",
       "      <td>70</td>\n",
       "      <td>20</td>\n",
       "      <td>39</td>\n",
       "      <td>54</td>\n",
       "    </tr>\n",
       "    <tr>\n",
       "      <th>f</th>\n",
       "      <td>55</td>\n",
       "      <td>57</td>\n",
       "      <td>21</td>\n",
       "      <td>52</td>\n",
       "      <td>37</td>\n",
       "      <td>97</td>\n",
       "    </tr>\n",
       "    <tr>\n",
       "      <th>g</th>\n",
       "      <td>21</td>\n",
       "      <td>57</td>\n",
       "      <td>22</td>\n",
       "      <td>14</td>\n",
       "      <td>31</td>\n",
       "      <td>35</td>\n",
       "    </tr>\n",
       "    <tr>\n",
       "      <th>h</th>\n",
       "      <td>78</td>\n",
       "      <td>40</td>\n",
       "      <td>62</td>\n",
       "      <td>56</td>\n",
       "      <td>95</td>\n",
       "      <td>30</td>\n",
       "    </tr>\n",
       "  </tbody>\n",
       "</table>\n",
       "</div>"
      ],
      "text/plain": [
       "    p   q   r   s   t   u\n",
       "a  51  53  72  45  92  71\n",
       "b  49  18  19  80  51  78\n",
       "c  55  73  34  38  58  32\n",
       "d  36  25  40  87  64  19\n",
       "e  10  47  70  20  39  54\n",
       "f  55  57  21  52  37  97\n",
       "g  21  57  22  14  31  35\n",
       "h  78  40  62  56  95  30"
      ]
     },
     "execution_count": 310,
     "metadata": {},
     "output_type": "execute_result"
    }
   ],
   "source": [
    "df"
   ]
  },
  {
   "cell_type": "code",
   "execution_count": 312,
   "id": "f51d2b06",
   "metadata": {},
   "outputs": [
    {
     "ename": "KeyError",
     "evalue": "5",
     "output_type": "error",
     "traceback": [
      "\u001b[1;31m---------------------------------------------------------------------------\u001b[0m",
      "\u001b[1;31mKeyError\u001b[0m                                  Traceback (most recent call last)",
      "\u001b[1;32m~\\anaconda3\\lib\\site-packages\\pandas\\core\\indexes\\base.py\u001b[0m in \u001b[0;36mget_loc\u001b[1;34m(self, key, method, tolerance)\u001b[0m\n\u001b[0;32m   3801\u001b[0m             \u001b[1;32mtry\u001b[0m\u001b[1;33m:\u001b[0m\u001b[1;33m\u001b[0m\u001b[1;33m\u001b[0m\u001b[0m\n\u001b[1;32m-> 3802\u001b[1;33m                 \u001b[1;32mreturn\u001b[0m \u001b[0mself\u001b[0m\u001b[1;33m.\u001b[0m\u001b[0m_engine\u001b[0m\u001b[1;33m.\u001b[0m\u001b[0mget_loc\u001b[0m\u001b[1;33m(\u001b[0m\u001b[0mcasted_key\u001b[0m\u001b[1;33m)\u001b[0m\u001b[1;33m\u001b[0m\u001b[1;33m\u001b[0m\u001b[0m\n\u001b[0m\u001b[0;32m   3803\u001b[0m             \u001b[1;32mexcept\u001b[0m \u001b[0mKeyError\u001b[0m \u001b[1;32mas\u001b[0m \u001b[0merr\u001b[0m\u001b[1;33m:\u001b[0m\u001b[1;33m\u001b[0m\u001b[1;33m\u001b[0m\u001b[0m\n",
      "\u001b[1;32m~\\anaconda3\\lib\\site-packages\\pandas\\_libs\\index.pyx\u001b[0m in \u001b[0;36mpandas._libs.index.IndexEngine.get_loc\u001b[1;34m()\u001b[0m\n",
      "\u001b[1;32m~\\anaconda3\\lib\\site-packages\\pandas\\_libs\\index.pyx\u001b[0m in \u001b[0;36mpandas._libs.index.IndexEngine.get_loc\u001b[1;34m()\u001b[0m\n",
      "\u001b[1;32mpandas\\_libs\\hashtable_class_helper.pxi\u001b[0m in \u001b[0;36mpandas._libs.hashtable.PyObjectHashTable.get_item\u001b[1;34m()\u001b[0m\n",
      "\u001b[1;32mpandas\\_libs\\hashtable_class_helper.pxi\u001b[0m in \u001b[0;36mpandas._libs.hashtable.PyObjectHashTable.get_item\u001b[1;34m()\u001b[0m\n",
      "\u001b[1;31mKeyError\u001b[0m: 5",
      "\nThe above exception was the direct cause of the following exception:\n",
      "\u001b[1;31mKeyError\u001b[0m                                  Traceback (most recent call last)",
      "\u001b[1;32m<ipython-input-312-9258b38c5fd8>\u001b[0m in \u001b[0;36m<module>\u001b[1;34m\u001b[0m\n\u001b[1;32m----> 1\u001b[1;33m \u001b[0mdf\u001b[0m\u001b[1;33m[\u001b[0m\u001b[1;36m5\u001b[0m\u001b[1;33m]\u001b[0m\u001b[1;33m\u001b[0m\u001b[1;33m\u001b[0m\u001b[0m\n\u001b[0m",
      "\u001b[1;32m~\\anaconda3\\lib\\site-packages\\pandas\\core\\frame.py\u001b[0m in \u001b[0;36m__getitem__\u001b[1;34m(self, key)\u001b[0m\n\u001b[0;32m   3805\u001b[0m             \u001b[1;32mif\u001b[0m \u001b[0mself\u001b[0m\u001b[1;33m.\u001b[0m\u001b[0mcolumns\u001b[0m\u001b[1;33m.\u001b[0m\u001b[0mnlevels\u001b[0m \u001b[1;33m>\u001b[0m \u001b[1;36m1\u001b[0m\u001b[1;33m:\u001b[0m\u001b[1;33m\u001b[0m\u001b[1;33m\u001b[0m\u001b[0m\n\u001b[0;32m   3806\u001b[0m                 \u001b[1;32mreturn\u001b[0m \u001b[0mself\u001b[0m\u001b[1;33m.\u001b[0m\u001b[0m_getitem_multilevel\u001b[0m\u001b[1;33m(\u001b[0m\u001b[0mkey\u001b[0m\u001b[1;33m)\u001b[0m\u001b[1;33m\u001b[0m\u001b[1;33m\u001b[0m\u001b[0m\n\u001b[1;32m-> 3807\u001b[1;33m             \u001b[0mindexer\u001b[0m \u001b[1;33m=\u001b[0m \u001b[0mself\u001b[0m\u001b[1;33m.\u001b[0m\u001b[0mcolumns\u001b[0m\u001b[1;33m.\u001b[0m\u001b[0mget_loc\u001b[0m\u001b[1;33m(\u001b[0m\u001b[0mkey\u001b[0m\u001b[1;33m)\u001b[0m\u001b[1;33m\u001b[0m\u001b[1;33m\u001b[0m\u001b[0m\n\u001b[0m\u001b[0;32m   3808\u001b[0m             \u001b[1;32mif\u001b[0m \u001b[0mis_integer\u001b[0m\u001b[1;33m(\u001b[0m\u001b[0mindexer\u001b[0m\u001b[1;33m)\u001b[0m\u001b[1;33m:\u001b[0m\u001b[1;33m\u001b[0m\u001b[1;33m\u001b[0m\u001b[0m\n\u001b[0;32m   3809\u001b[0m                 \u001b[0mindexer\u001b[0m \u001b[1;33m=\u001b[0m \u001b[1;33m[\u001b[0m\u001b[0mindexer\u001b[0m\u001b[1;33m]\u001b[0m\u001b[1;33m\u001b[0m\u001b[1;33m\u001b[0m\u001b[0m\n",
      "\u001b[1;32m~\\anaconda3\\lib\\site-packages\\pandas\\core\\indexes\\base.py\u001b[0m in \u001b[0;36mget_loc\u001b[1;34m(self, key, method, tolerance)\u001b[0m\n\u001b[0;32m   3802\u001b[0m                 \u001b[1;32mreturn\u001b[0m \u001b[0mself\u001b[0m\u001b[1;33m.\u001b[0m\u001b[0m_engine\u001b[0m\u001b[1;33m.\u001b[0m\u001b[0mget_loc\u001b[0m\u001b[1;33m(\u001b[0m\u001b[0mcasted_key\u001b[0m\u001b[1;33m)\u001b[0m\u001b[1;33m\u001b[0m\u001b[1;33m\u001b[0m\u001b[0m\n\u001b[0;32m   3803\u001b[0m             \u001b[1;32mexcept\u001b[0m \u001b[0mKeyError\u001b[0m \u001b[1;32mas\u001b[0m \u001b[0merr\u001b[0m\u001b[1;33m:\u001b[0m\u001b[1;33m\u001b[0m\u001b[1;33m\u001b[0m\u001b[0m\n\u001b[1;32m-> 3804\u001b[1;33m                 \u001b[1;32mraise\u001b[0m \u001b[0mKeyError\u001b[0m\u001b[1;33m(\u001b[0m\u001b[0mkey\u001b[0m\u001b[1;33m)\u001b[0m \u001b[1;32mfrom\u001b[0m \u001b[0merr\u001b[0m\u001b[1;33m\u001b[0m\u001b[1;33m\u001b[0m\u001b[0m\n\u001b[0m\u001b[0;32m   3805\u001b[0m             \u001b[1;32mexcept\u001b[0m \u001b[0mTypeError\u001b[0m\u001b[1;33m:\u001b[0m\u001b[1;33m\u001b[0m\u001b[1;33m\u001b[0m\u001b[0m\n\u001b[0;32m   3806\u001b[0m                 \u001b[1;31m# If we have a listlike key, _check_indexing_error will raise\u001b[0m\u001b[1;33m\u001b[0m\u001b[1;33m\u001b[0m\u001b[1;33m\u001b[0m\u001b[0m\n",
      "\u001b[1;31mKeyError\u001b[0m: 5"
     ]
    }
   ],
   "source": [
    "df[5]"
   ]
  },
  {
   "cell_type": "code",
   "execution_count": 314,
   "id": "c60a8582",
   "metadata": {},
   "outputs": [
    {
     "ename": "KeyError",
     "evalue": "2",
     "output_type": "error",
     "traceback": [
      "\u001b[1;31m---------------------------------------------------------------------------\u001b[0m",
      "\u001b[1;31mKeyError\u001b[0m                                  Traceback (most recent call last)",
      "\u001b[1;32m~\\anaconda3\\lib\\site-packages\\pandas\\core\\indexes\\base.py\u001b[0m in \u001b[0;36mget_loc\u001b[1;34m(self, key, method, tolerance)\u001b[0m\n\u001b[0;32m   3801\u001b[0m             \u001b[1;32mtry\u001b[0m\u001b[1;33m:\u001b[0m\u001b[1;33m\u001b[0m\u001b[1;33m\u001b[0m\u001b[0m\n\u001b[1;32m-> 3802\u001b[1;33m                 \u001b[1;32mreturn\u001b[0m \u001b[0mself\u001b[0m\u001b[1;33m.\u001b[0m\u001b[0m_engine\u001b[0m\u001b[1;33m.\u001b[0m\u001b[0mget_loc\u001b[0m\u001b[1;33m(\u001b[0m\u001b[0mcasted_key\u001b[0m\u001b[1;33m)\u001b[0m\u001b[1;33m\u001b[0m\u001b[1;33m\u001b[0m\u001b[0m\n\u001b[0m\u001b[0;32m   3803\u001b[0m             \u001b[1;32mexcept\u001b[0m \u001b[0mKeyError\u001b[0m \u001b[1;32mas\u001b[0m \u001b[0merr\u001b[0m\u001b[1;33m:\u001b[0m\u001b[1;33m\u001b[0m\u001b[1;33m\u001b[0m\u001b[0m\n",
      "\u001b[1;32m~\\anaconda3\\lib\\site-packages\\pandas\\_libs\\index.pyx\u001b[0m in \u001b[0;36mpandas._libs.index.IndexEngine.get_loc\u001b[1;34m()\u001b[0m\n",
      "\u001b[1;32m~\\anaconda3\\lib\\site-packages\\pandas\\_libs\\index.pyx\u001b[0m in \u001b[0;36mpandas._libs.index.IndexEngine.get_loc\u001b[1;34m()\u001b[0m\n",
      "\u001b[1;32mpandas\\_libs\\hashtable_class_helper.pxi\u001b[0m in \u001b[0;36mpandas._libs.hashtable.PyObjectHashTable.get_item\u001b[1;34m()\u001b[0m\n",
      "\u001b[1;32mpandas\\_libs\\hashtable_class_helper.pxi\u001b[0m in \u001b[0;36mpandas._libs.hashtable.PyObjectHashTable.get_item\u001b[1;34m()\u001b[0m\n",
      "\u001b[1;31mKeyError\u001b[0m: 2",
      "\nThe above exception was the direct cause of the following exception:\n",
      "\u001b[1;31mKeyError\u001b[0m                                  Traceback (most recent call last)",
      "\u001b[1;32m<ipython-input-314-b5f2749c85df>\u001b[0m in \u001b[0;36m<module>\u001b[1;34m\u001b[0m\n\u001b[1;32m----> 1\u001b[1;33m \u001b[0mdf\u001b[0m\u001b[1;33m[\u001b[0m\u001b[1;36m2\u001b[0m\u001b[1;33m]\u001b[0m\u001b[1;33m\u001b[0m\u001b[1;33m\u001b[0m\u001b[0m\n\u001b[0m",
      "\u001b[1;32m~\\anaconda3\\lib\\site-packages\\pandas\\core\\frame.py\u001b[0m in \u001b[0;36m__getitem__\u001b[1;34m(self, key)\u001b[0m\n\u001b[0;32m   3805\u001b[0m             \u001b[1;32mif\u001b[0m \u001b[0mself\u001b[0m\u001b[1;33m.\u001b[0m\u001b[0mcolumns\u001b[0m\u001b[1;33m.\u001b[0m\u001b[0mnlevels\u001b[0m \u001b[1;33m>\u001b[0m \u001b[1;36m1\u001b[0m\u001b[1;33m:\u001b[0m\u001b[1;33m\u001b[0m\u001b[1;33m\u001b[0m\u001b[0m\n\u001b[0;32m   3806\u001b[0m                 \u001b[1;32mreturn\u001b[0m \u001b[0mself\u001b[0m\u001b[1;33m.\u001b[0m\u001b[0m_getitem_multilevel\u001b[0m\u001b[1;33m(\u001b[0m\u001b[0mkey\u001b[0m\u001b[1;33m)\u001b[0m\u001b[1;33m\u001b[0m\u001b[1;33m\u001b[0m\u001b[0m\n\u001b[1;32m-> 3807\u001b[1;33m             \u001b[0mindexer\u001b[0m \u001b[1;33m=\u001b[0m \u001b[0mself\u001b[0m\u001b[1;33m.\u001b[0m\u001b[0mcolumns\u001b[0m\u001b[1;33m.\u001b[0m\u001b[0mget_loc\u001b[0m\u001b[1;33m(\u001b[0m\u001b[0mkey\u001b[0m\u001b[1;33m)\u001b[0m\u001b[1;33m\u001b[0m\u001b[1;33m\u001b[0m\u001b[0m\n\u001b[0m\u001b[0;32m   3808\u001b[0m             \u001b[1;32mif\u001b[0m \u001b[0mis_integer\u001b[0m\u001b[1;33m(\u001b[0m\u001b[0mindexer\u001b[0m\u001b[1;33m)\u001b[0m\u001b[1;33m:\u001b[0m\u001b[1;33m\u001b[0m\u001b[1;33m\u001b[0m\u001b[0m\n\u001b[0;32m   3809\u001b[0m                 \u001b[0mindexer\u001b[0m \u001b[1;33m=\u001b[0m \u001b[1;33m[\u001b[0m\u001b[0mindexer\u001b[0m\u001b[1;33m]\u001b[0m\u001b[1;33m\u001b[0m\u001b[1;33m\u001b[0m\u001b[0m\n",
      "\u001b[1;32m~\\anaconda3\\lib\\site-packages\\pandas\\core\\indexes\\base.py\u001b[0m in \u001b[0;36mget_loc\u001b[1;34m(self, key, method, tolerance)\u001b[0m\n\u001b[0;32m   3802\u001b[0m                 \u001b[1;32mreturn\u001b[0m \u001b[0mself\u001b[0m\u001b[1;33m.\u001b[0m\u001b[0m_engine\u001b[0m\u001b[1;33m.\u001b[0m\u001b[0mget_loc\u001b[0m\u001b[1;33m(\u001b[0m\u001b[0mcasted_key\u001b[0m\u001b[1;33m)\u001b[0m\u001b[1;33m\u001b[0m\u001b[1;33m\u001b[0m\u001b[0m\n\u001b[0;32m   3803\u001b[0m             \u001b[1;32mexcept\u001b[0m \u001b[0mKeyError\u001b[0m \u001b[1;32mas\u001b[0m \u001b[0merr\u001b[0m\u001b[1;33m:\u001b[0m\u001b[1;33m\u001b[0m\u001b[1;33m\u001b[0m\u001b[0m\n\u001b[1;32m-> 3804\u001b[1;33m                 \u001b[1;32mraise\u001b[0m \u001b[0mKeyError\u001b[0m\u001b[1;33m(\u001b[0m\u001b[0mkey\u001b[0m\u001b[1;33m)\u001b[0m \u001b[1;32mfrom\u001b[0m \u001b[0merr\u001b[0m\u001b[1;33m\u001b[0m\u001b[1;33m\u001b[0m\u001b[0m\n\u001b[0m\u001b[0;32m   3805\u001b[0m             \u001b[1;32mexcept\u001b[0m \u001b[0mTypeError\u001b[0m\u001b[1;33m:\u001b[0m\u001b[1;33m\u001b[0m\u001b[1;33m\u001b[0m\u001b[0m\n\u001b[0;32m   3806\u001b[0m                 \u001b[1;31m# If we have a listlike key, _check_indexing_error will raise\u001b[0m\u001b[1;33m\u001b[0m\u001b[1;33m\u001b[0m\u001b[1;33m\u001b[0m\u001b[0m\n",
      "\u001b[1;31mKeyError\u001b[0m: 2"
     ]
    }
   ],
   "source": [
    "df[2]"
   ]
  },
  {
   "cell_type": "code",
   "execution_count": 316,
   "id": "213a036b",
   "metadata": {},
   "outputs": [
    {
     "data": {
      "text/plain": [
       "a    53\n",
       "b    18\n",
       "c    73\n",
       "d    25\n",
       "e    47\n",
       "f    57\n",
       "g    57\n",
       "h    40\n",
       "Name: q, dtype: int32"
      ]
     },
     "execution_count": 316,
     "metadata": {},
     "output_type": "execute_result"
    }
   ],
   "source": [
    "df['q']"
   ]
  },
  {
   "cell_type": "code",
   "execution_count": 318,
   "id": "92ecac02",
   "metadata": {},
   "outputs": [
    {
     "data": {
      "text/plain": [
       "a    45\n",
       "b    80\n",
       "c    38\n",
       "d    87\n",
       "e    20\n",
       "f    52\n",
       "g    14\n",
       "h    56\n",
       "Name: s, dtype: int32"
      ]
     },
     "execution_count": 318,
     "metadata": {},
     "output_type": "execute_result"
    }
   ],
   "source": [
    "df['s']"
   ]
  },
  {
   "cell_type": "code",
   "execution_count": 320,
   "id": "415615f6",
   "metadata": {},
   "outputs": [
    {
     "ename": "KeyError",
     "evalue": "2",
     "output_type": "error",
     "traceback": [
      "\u001b[1;31m---------------------------------------------------------------------------\u001b[0m",
      "\u001b[1;31mKeyError\u001b[0m                                  Traceback (most recent call last)",
      "\u001b[1;32m~\\anaconda3\\lib\\site-packages\\pandas\\core\\indexes\\base.py\u001b[0m in \u001b[0;36mget_loc\u001b[1;34m(self, key, method, tolerance)\u001b[0m\n\u001b[0;32m   3801\u001b[0m             \u001b[1;32mtry\u001b[0m\u001b[1;33m:\u001b[0m\u001b[1;33m\u001b[0m\u001b[1;33m\u001b[0m\u001b[0m\n\u001b[1;32m-> 3802\u001b[1;33m                 \u001b[1;32mreturn\u001b[0m \u001b[0mself\u001b[0m\u001b[1;33m.\u001b[0m\u001b[0m_engine\u001b[0m\u001b[1;33m.\u001b[0m\u001b[0mget_loc\u001b[0m\u001b[1;33m(\u001b[0m\u001b[0mcasted_key\u001b[0m\u001b[1;33m)\u001b[0m\u001b[1;33m\u001b[0m\u001b[1;33m\u001b[0m\u001b[0m\n\u001b[0m\u001b[0;32m   3803\u001b[0m             \u001b[1;32mexcept\u001b[0m \u001b[0mKeyError\u001b[0m \u001b[1;32mas\u001b[0m \u001b[0merr\u001b[0m\u001b[1;33m:\u001b[0m\u001b[1;33m\u001b[0m\u001b[1;33m\u001b[0m\u001b[0m\n",
      "\u001b[1;32m~\\anaconda3\\lib\\site-packages\\pandas\\_libs\\index.pyx\u001b[0m in \u001b[0;36mpandas._libs.index.IndexEngine.get_loc\u001b[1;34m()\u001b[0m\n",
      "\u001b[1;32m~\\anaconda3\\lib\\site-packages\\pandas\\_libs\\index.pyx\u001b[0m in \u001b[0;36mpandas._libs.index.IndexEngine.get_loc\u001b[1;34m()\u001b[0m\n",
      "\u001b[1;32mpandas\\_libs\\hashtable_class_helper.pxi\u001b[0m in \u001b[0;36mpandas._libs.hashtable.PyObjectHashTable.get_item\u001b[1;34m()\u001b[0m\n",
      "\u001b[1;32mpandas\\_libs\\hashtable_class_helper.pxi\u001b[0m in \u001b[0;36mpandas._libs.hashtable.PyObjectHashTable.get_item\u001b[1;34m()\u001b[0m\n",
      "\u001b[1;31mKeyError\u001b[0m: 2",
      "\nThe above exception was the direct cause of the following exception:\n",
      "\u001b[1;31mKeyError\u001b[0m                                  Traceback (most recent call last)",
      "\u001b[1;32m<ipython-input-320-1f40c40b27b2>\u001b[0m in \u001b[0;36m<module>\u001b[1;34m\u001b[0m\n\u001b[1;32m----> 1\u001b[1;33m \u001b[0mdf\u001b[0m\u001b[1;33m.\u001b[0m\u001b[0mloc\u001b[0m\u001b[1;33m[\u001b[0m\u001b[1;36m2\u001b[0m\u001b[1;33m]\u001b[0m\u001b[1;33m\u001b[0m\u001b[1;33m\u001b[0m\u001b[0m\n\u001b[0m",
      "\u001b[1;32m~\\anaconda3\\lib\\site-packages\\pandas\\core\\indexing.py\u001b[0m in \u001b[0;36m__getitem__\u001b[1;34m(self, key)\u001b[0m\n\u001b[0;32m   1071\u001b[0m \u001b[1;33m\u001b[0m\u001b[0m\n\u001b[0;32m   1072\u001b[0m             \u001b[0mmaybe_callable\u001b[0m \u001b[1;33m=\u001b[0m \u001b[0mcom\u001b[0m\u001b[1;33m.\u001b[0m\u001b[0mapply_if_callable\u001b[0m\u001b[1;33m(\u001b[0m\u001b[0mkey\u001b[0m\u001b[1;33m,\u001b[0m \u001b[0mself\u001b[0m\u001b[1;33m.\u001b[0m\u001b[0mobj\u001b[0m\u001b[1;33m)\u001b[0m\u001b[1;33m\u001b[0m\u001b[1;33m\u001b[0m\u001b[0m\n\u001b[1;32m-> 1073\u001b[1;33m             \u001b[1;32mreturn\u001b[0m \u001b[0mself\u001b[0m\u001b[1;33m.\u001b[0m\u001b[0m_getitem_axis\u001b[0m\u001b[1;33m(\u001b[0m\u001b[0mmaybe_callable\u001b[0m\u001b[1;33m,\u001b[0m \u001b[0maxis\u001b[0m\u001b[1;33m=\u001b[0m\u001b[0maxis\u001b[0m\u001b[1;33m)\u001b[0m\u001b[1;33m\u001b[0m\u001b[1;33m\u001b[0m\u001b[0m\n\u001b[0m\u001b[0;32m   1074\u001b[0m \u001b[1;33m\u001b[0m\u001b[0m\n\u001b[0;32m   1075\u001b[0m     \u001b[1;32mdef\u001b[0m \u001b[0m_is_scalar_access\u001b[0m\u001b[1;33m(\u001b[0m\u001b[0mself\u001b[0m\u001b[1;33m,\u001b[0m \u001b[0mkey\u001b[0m\u001b[1;33m:\u001b[0m \u001b[0mtuple\u001b[0m\u001b[1;33m)\u001b[0m\u001b[1;33m:\u001b[0m\u001b[1;33m\u001b[0m\u001b[1;33m\u001b[0m\u001b[0m\n",
      "\u001b[1;32m~\\anaconda3\\lib\\site-packages\\pandas\\core\\indexing.py\u001b[0m in \u001b[0;36m_getitem_axis\u001b[1;34m(self, key, axis)\u001b[0m\n\u001b[0;32m   1310\u001b[0m         \u001b[1;31m# fall thru to straight lookup\u001b[0m\u001b[1;33m\u001b[0m\u001b[1;33m\u001b[0m\u001b[1;33m\u001b[0m\u001b[0m\n\u001b[0;32m   1311\u001b[0m         \u001b[0mself\u001b[0m\u001b[1;33m.\u001b[0m\u001b[0m_validate_key\u001b[0m\u001b[1;33m(\u001b[0m\u001b[0mkey\u001b[0m\u001b[1;33m,\u001b[0m \u001b[0maxis\u001b[0m\u001b[1;33m)\u001b[0m\u001b[1;33m\u001b[0m\u001b[1;33m\u001b[0m\u001b[0m\n\u001b[1;32m-> 1312\u001b[1;33m         \u001b[1;32mreturn\u001b[0m \u001b[0mself\u001b[0m\u001b[1;33m.\u001b[0m\u001b[0m_get_label\u001b[0m\u001b[1;33m(\u001b[0m\u001b[0mkey\u001b[0m\u001b[1;33m,\u001b[0m \u001b[0maxis\u001b[0m\u001b[1;33m=\u001b[0m\u001b[0maxis\u001b[0m\u001b[1;33m)\u001b[0m\u001b[1;33m\u001b[0m\u001b[1;33m\u001b[0m\u001b[0m\n\u001b[0m\u001b[0;32m   1313\u001b[0m \u001b[1;33m\u001b[0m\u001b[0m\n\u001b[0;32m   1314\u001b[0m     \u001b[1;32mdef\u001b[0m \u001b[0m_get_slice_axis\u001b[0m\u001b[1;33m(\u001b[0m\u001b[0mself\u001b[0m\u001b[1;33m,\u001b[0m \u001b[0mslice_obj\u001b[0m\u001b[1;33m:\u001b[0m \u001b[0mslice\u001b[0m\u001b[1;33m,\u001b[0m \u001b[0maxis\u001b[0m\u001b[1;33m:\u001b[0m \u001b[0mint\u001b[0m\u001b[1;33m)\u001b[0m\u001b[1;33m:\u001b[0m\u001b[1;33m\u001b[0m\u001b[1;33m\u001b[0m\u001b[0m\n",
      "\u001b[1;32m~\\anaconda3\\lib\\site-packages\\pandas\\core\\indexing.py\u001b[0m in \u001b[0;36m_get_label\u001b[1;34m(self, label, axis)\u001b[0m\n\u001b[0;32m   1258\u001b[0m     \u001b[1;32mdef\u001b[0m \u001b[0m_get_label\u001b[0m\u001b[1;33m(\u001b[0m\u001b[0mself\u001b[0m\u001b[1;33m,\u001b[0m \u001b[0mlabel\u001b[0m\u001b[1;33m,\u001b[0m \u001b[0maxis\u001b[0m\u001b[1;33m:\u001b[0m \u001b[0mint\u001b[0m\u001b[1;33m)\u001b[0m\u001b[1;33m:\u001b[0m\u001b[1;33m\u001b[0m\u001b[1;33m\u001b[0m\u001b[0m\n\u001b[0;32m   1259\u001b[0m         \u001b[1;31m# GH#5567 this will fail if the label is not present in the axis.\u001b[0m\u001b[1;33m\u001b[0m\u001b[1;33m\u001b[0m\u001b[1;33m\u001b[0m\u001b[0m\n\u001b[1;32m-> 1260\u001b[1;33m         \u001b[1;32mreturn\u001b[0m \u001b[0mself\u001b[0m\u001b[1;33m.\u001b[0m\u001b[0mobj\u001b[0m\u001b[1;33m.\u001b[0m\u001b[0mxs\u001b[0m\u001b[1;33m(\u001b[0m\u001b[0mlabel\u001b[0m\u001b[1;33m,\u001b[0m \u001b[0maxis\u001b[0m\u001b[1;33m=\u001b[0m\u001b[0maxis\u001b[0m\u001b[1;33m)\u001b[0m\u001b[1;33m\u001b[0m\u001b[1;33m\u001b[0m\u001b[0m\n\u001b[0m\u001b[0;32m   1261\u001b[0m \u001b[1;33m\u001b[0m\u001b[0m\n\u001b[0;32m   1262\u001b[0m     \u001b[1;32mdef\u001b[0m \u001b[0m_handle_lowerdim_multi_index_axis0\u001b[0m\u001b[1;33m(\u001b[0m\u001b[0mself\u001b[0m\u001b[1;33m,\u001b[0m \u001b[0mtup\u001b[0m\u001b[1;33m:\u001b[0m \u001b[0mtuple\u001b[0m\u001b[1;33m)\u001b[0m\u001b[1;33m:\u001b[0m\u001b[1;33m\u001b[0m\u001b[1;33m\u001b[0m\u001b[0m\n",
      "\u001b[1;32m~\\anaconda3\\lib\\site-packages\\pandas\\core\\generic.py\u001b[0m in \u001b[0;36mxs\u001b[1;34m(self, key, axis, level, drop_level)\u001b[0m\n\u001b[0;32m   4054\u001b[0m                     \u001b[0mnew_index\u001b[0m \u001b[1;33m=\u001b[0m \u001b[0mindex\u001b[0m\u001b[1;33m[\u001b[0m\u001b[0mloc\u001b[0m\u001b[1;33m]\u001b[0m\u001b[1;33m\u001b[0m\u001b[1;33m\u001b[0m\u001b[0m\n\u001b[0;32m   4055\u001b[0m         \u001b[1;32melse\u001b[0m\u001b[1;33m:\u001b[0m\u001b[1;33m\u001b[0m\u001b[1;33m\u001b[0m\u001b[0m\n\u001b[1;32m-> 4056\u001b[1;33m             \u001b[0mloc\u001b[0m \u001b[1;33m=\u001b[0m \u001b[0mindex\u001b[0m\u001b[1;33m.\u001b[0m\u001b[0mget_loc\u001b[0m\u001b[1;33m(\u001b[0m\u001b[0mkey\u001b[0m\u001b[1;33m)\u001b[0m\u001b[1;33m\u001b[0m\u001b[1;33m\u001b[0m\u001b[0m\n\u001b[0m\u001b[0;32m   4057\u001b[0m \u001b[1;33m\u001b[0m\u001b[0m\n\u001b[0;32m   4058\u001b[0m             \u001b[1;32mif\u001b[0m \u001b[0misinstance\u001b[0m\u001b[1;33m(\u001b[0m\u001b[0mloc\u001b[0m\u001b[1;33m,\u001b[0m \u001b[0mnp\u001b[0m\u001b[1;33m.\u001b[0m\u001b[0mndarray\u001b[0m\u001b[1;33m)\u001b[0m\u001b[1;33m:\u001b[0m\u001b[1;33m\u001b[0m\u001b[1;33m\u001b[0m\u001b[0m\n",
      "\u001b[1;32m~\\anaconda3\\lib\\site-packages\\pandas\\core\\indexes\\base.py\u001b[0m in \u001b[0;36mget_loc\u001b[1;34m(self, key, method, tolerance)\u001b[0m\n\u001b[0;32m   3802\u001b[0m                 \u001b[1;32mreturn\u001b[0m \u001b[0mself\u001b[0m\u001b[1;33m.\u001b[0m\u001b[0m_engine\u001b[0m\u001b[1;33m.\u001b[0m\u001b[0mget_loc\u001b[0m\u001b[1;33m(\u001b[0m\u001b[0mcasted_key\u001b[0m\u001b[1;33m)\u001b[0m\u001b[1;33m\u001b[0m\u001b[1;33m\u001b[0m\u001b[0m\n\u001b[0;32m   3803\u001b[0m             \u001b[1;32mexcept\u001b[0m \u001b[0mKeyError\u001b[0m \u001b[1;32mas\u001b[0m \u001b[0merr\u001b[0m\u001b[1;33m:\u001b[0m\u001b[1;33m\u001b[0m\u001b[1;33m\u001b[0m\u001b[0m\n\u001b[1;32m-> 3804\u001b[1;33m                 \u001b[1;32mraise\u001b[0m \u001b[0mKeyError\u001b[0m\u001b[1;33m(\u001b[0m\u001b[0mkey\u001b[0m\u001b[1;33m)\u001b[0m \u001b[1;32mfrom\u001b[0m \u001b[0merr\u001b[0m\u001b[1;33m\u001b[0m\u001b[1;33m\u001b[0m\u001b[0m\n\u001b[0m\u001b[0;32m   3805\u001b[0m             \u001b[1;32mexcept\u001b[0m \u001b[0mTypeError\u001b[0m\u001b[1;33m:\u001b[0m\u001b[1;33m\u001b[0m\u001b[1;33m\u001b[0m\u001b[0m\n\u001b[0;32m   3806\u001b[0m                 \u001b[1;31m# If we have a listlike key, _check_indexing_error will raise\u001b[0m\u001b[1;33m\u001b[0m\u001b[1;33m\u001b[0m\u001b[1;33m\u001b[0m\u001b[0m\n",
      "\u001b[1;31mKeyError\u001b[0m: 2"
     ]
    }
   ],
   "source": [
    "df.loc[2]"
   ]
  },
  {
   "cell_type": "code",
   "execution_count": 321,
   "id": "c1617fa7",
   "metadata": {},
   "outputs": [
    {
     "data": {
      "text/plain": [
       "p    55\n",
       "q    73\n",
       "r    34\n",
       "s    38\n",
       "t    58\n",
       "u    32\n",
       "Name: c, dtype: int32"
      ]
     },
     "execution_count": 321,
     "metadata": {},
     "output_type": "execute_result"
    }
   ],
   "source": [
    "df.iloc[2]"
   ]
  },
  {
   "cell_type": "code",
   "execution_count": 322,
   "id": "13a0c9ad",
   "metadata": {},
   "outputs": [
    {
     "data": {
      "text/html": [
       "<div>\n",
       "<style scoped>\n",
       "    .dataframe tbody tr th:only-of-type {\n",
       "        vertical-align: middle;\n",
       "    }\n",
       "\n",
       "    .dataframe tbody tr th {\n",
       "        vertical-align: top;\n",
       "    }\n",
       "\n",
       "    .dataframe thead th {\n",
       "        text-align: right;\n",
       "    }\n",
       "</style>\n",
       "<table border=\"1\" class=\"dataframe\">\n",
       "  <thead>\n",
       "    <tr style=\"text-align: right;\">\n",
       "      <th></th>\n",
       "      <th>p</th>\n",
       "      <th>q</th>\n",
       "      <th>r</th>\n",
       "      <th>s</th>\n",
       "      <th>t</th>\n",
       "      <th>u</th>\n",
       "    </tr>\n",
       "  </thead>\n",
       "  <tbody>\n",
       "    <tr>\n",
       "      <th>a</th>\n",
       "      <td>51</td>\n",
       "      <td>53</td>\n",
       "      <td>72</td>\n",
       "      <td>45</td>\n",
       "      <td>92</td>\n",
       "      <td>71</td>\n",
       "    </tr>\n",
       "    <tr>\n",
       "      <th>b</th>\n",
       "      <td>49</td>\n",
       "      <td>18</td>\n",
       "      <td>19</td>\n",
       "      <td>80</td>\n",
       "      <td>51</td>\n",
       "      <td>78</td>\n",
       "    </tr>\n",
       "    <tr>\n",
       "      <th>c</th>\n",
       "      <td>55</td>\n",
       "      <td>73</td>\n",
       "      <td>34</td>\n",
       "      <td>38</td>\n",
       "      <td>58</td>\n",
       "      <td>32</td>\n",
       "    </tr>\n",
       "    <tr>\n",
       "      <th>d</th>\n",
       "      <td>36</td>\n",
       "      <td>25</td>\n",
       "      <td>40</td>\n",
       "      <td>87</td>\n",
       "      <td>64</td>\n",
       "      <td>19</td>\n",
       "    </tr>\n",
       "    <tr>\n",
       "      <th>e</th>\n",
       "      <td>10</td>\n",
       "      <td>47</td>\n",
       "      <td>70</td>\n",
       "      <td>20</td>\n",
       "      <td>39</td>\n",
       "      <td>54</td>\n",
       "    </tr>\n",
       "    <tr>\n",
       "      <th>f</th>\n",
       "      <td>55</td>\n",
       "      <td>57</td>\n",
       "      <td>21</td>\n",
       "      <td>52</td>\n",
       "      <td>37</td>\n",
       "      <td>97</td>\n",
       "    </tr>\n",
       "    <tr>\n",
       "      <th>g</th>\n",
       "      <td>21</td>\n",
       "      <td>57</td>\n",
       "      <td>22</td>\n",
       "      <td>14</td>\n",
       "      <td>31</td>\n",
       "      <td>35</td>\n",
       "    </tr>\n",
       "    <tr>\n",
       "      <th>h</th>\n",
       "      <td>78</td>\n",
       "      <td>40</td>\n",
       "      <td>62</td>\n",
       "      <td>56</td>\n",
       "      <td>95</td>\n",
       "      <td>30</td>\n",
       "    </tr>\n",
       "  </tbody>\n",
       "</table>\n",
       "</div>"
      ],
      "text/plain": [
       "    p   q   r   s   t   u\n",
       "a  51  53  72  45  92  71\n",
       "b  49  18  19  80  51  78\n",
       "c  55  73  34  38  58  32\n",
       "d  36  25  40  87  64  19\n",
       "e  10  47  70  20  39  54\n",
       "f  55  57  21  52  37  97\n",
       "g  21  57  22  14  31  35\n",
       "h  78  40  62  56  95  30"
      ]
     },
     "execution_count": 322,
     "metadata": {},
     "output_type": "execute_result"
    }
   ],
   "source": [
    "df"
   ]
  },
  {
   "cell_type": "code",
   "execution_count": 323,
   "id": "d7b8791e",
   "metadata": {},
   "outputs": [
    {
     "data": {
      "text/plain": [
       "p    55\n",
       "q    73\n",
       "r    34\n",
       "s    38\n",
       "t    58\n",
       "u    32\n",
       "Name: c, dtype: int32"
      ]
     },
     "execution_count": 323,
     "metadata": {},
     "output_type": "execute_result"
    }
   ],
   "source": [
    "df.loc['c']"
   ]
  },
  {
   "cell_type": "code",
   "execution_count": 325,
   "id": "ca467096",
   "metadata": {},
   "outputs": [
    {
     "data": {
      "text/html": [
       "<div>\n",
       "<style scoped>\n",
       "    .dataframe tbody tr th:only-of-type {\n",
       "        vertical-align: middle;\n",
       "    }\n",
       "\n",
       "    .dataframe tbody tr th {\n",
       "        vertical-align: top;\n",
       "    }\n",
       "\n",
       "    .dataframe thead th {\n",
       "        text-align: right;\n",
       "    }\n",
       "</style>\n",
       "<table border=\"1\" class=\"dataframe\">\n",
       "  <thead>\n",
       "    <tr style=\"text-align: right;\">\n",
       "      <th></th>\n",
       "      <th>r</th>\n",
       "      <th>s</th>\n",
       "    </tr>\n",
       "  </thead>\n",
       "  <tbody>\n",
       "    <tr>\n",
       "      <th>d</th>\n",
       "      <td>40</td>\n",
       "      <td>87</td>\n",
       "    </tr>\n",
       "    <tr>\n",
       "      <th>e</th>\n",
       "      <td>70</td>\n",
       "      <td>20</td>\n",
       "    </tr>\n",
       "  </tbody>\n",
       "</table>\n",
       "</div>"
      ],
      "text/plain": [
       "    r   s\n",
       "d  40  87\n",
       "e  70  20"
      ]
     },
     "execution_count": 325,
     "metadata": {},
     "output_type": "execute_result"
    }
   ],
   "source": [
    "df.iloc[3:5,2:4]"
   ]
  },
  {
   "cell_type": "code",
   "execution_count": 326,
   "id": "b7ef33f8",
   "metadata": {},
   "outputs": [
    {
     "data": {
      "text/html": [
       "<div>\n",
       "<style scoped>\n",
       "    .dataframe tbody tr th:only-of-type {\n",
       "        vertical-align: middle;\n",
       "    }\n",
       "\n",
       "    .dataframe tbody tr th {\n",
       "        vertical-align: top;\n",
       "    }\n",
       "\n",
       "    .dataframe thead th {\n",
       "        text-align: right;\n",
       "    }\n",
       "</style>\n",
       "<table border=\"1\" class=\"dataframe\">\n",
       "  <thead>\n",
       "    <tr style=\"text-align: right;\">\n",
       "      <th></th>\n",
       "      <th>p</th>\n",
       "      <th>q</th>\n",
       "      <th>r</th>\n",
       "      <th>s</th>\n",
       "      <th>t</th>\n",
       "      <th>u</th>\n",
       "    </tr>\n",
       "  </thead>\n",
       "  <tbody>\n",
       "    <tr>\n",
       "      <th>a</th>\n",
       "      <td>51</td>\n",
       "      <td>53</td>\n",
       "      <td>72</td>\n",
       "      <td>45</td>\n",
       "      <td>92</td>\n",
       "      <td>71</td>\n",
       "    </tr>\n",
       "    <tr>\n",
       "      <th>b</th>\n",
       "      <td>49</td>\n",
       "      <td>18</td>\n",
       "      <td>19</td>\n",
       "      <td>80</td>\n",
       "      <td>51</td>\n",
       "      <td>78</td>\n",
       "    </tr>\n",
       "    <tr>\n",
       "      <th>c</th>\n",
       "      <td>55</td>\n",
       "      <td>73</td>\n",
       "      <td>34</td>\n",
       "      <td>38</td>\n",
       "      <td>58</td>\n",
       "      <td>32</td>\n",
       "    </tr>\n",
       "    <tr>\n",
       "      <th>d</th>\n",
       "      <td>36</td>\n",
       "      <td>25</td>\n",
       "      <td>40</td>\n",
       "      <td>87</td>\n",
       "      <td>64</td>\n",
       "      <td>19</td>\n",
       "    </tr>\n",
       "    <tr>\n",
       "      <th>e</th>\n",
       "      <td>10</td>\n",
       "      <td>47</td>\n",
       "      <td>70</td>\n",
       "      <td>20</td>\n",
       "      <td>39</td>\n",
       "      <td>54</td>\n",
       "    </tr>\n",
       "    <tr>\n",
       "      <th>f</th>\n",
       "      <td>55</td>\n",
       "      <td>57</td>\n",
       "      <td>21</td>\n",
       "      <td>52</td>\n",
       "      <td>37</td>\n",
       "      <td>97</td>\n",
       "    </tr>\n",
       "    <tr>\n",
       "      <th>g</th>\n",
       "      <td>21</td>\n",
       "      <td>57</td>\n",
       "      <td>22</td>\n",
       "      <td>14</td>\n",
       "      <td>31</td>\n",
       "      <td>35</td>\n",
       "    </tr>\n",
       "    <tr>\n",
       "      <th>h</th>\n",
       "      <td>78</td>\n",
       "      <td>40</td>\n",
       "      <td>62</td>\n",
       "      <td>56</td>\n",
       "      <td>95</td>\n",
       "      <td>30</td>\n",
       "    </tr>\n",
       "  </tbody>\n",
       "</table>\n",
       "</div>"
      ],
      "text/plain": [
       "    p   q   r   s   t   u\n",
       "a  51  53  72  45  92  71\n",
       "b  49  18  19  80  51  78\n",
       "c  55  73  34  38  58  32\n",
       "d  36  25  40  87  64  19\n",
       "e  10  47  70  20  39  54\n",
       "f  55  57  21  52  37  97\n",
       "g  21  57  22  14  31  35\n",
       "h  78  40  62  56  95  30"
      ]
     },
     "execution_count": 326,
     "metadata": {},
     "output_type": "execute_result"
    }
   ],
   "source": [
    "df"
   ]
  },
  {
   "cell_type": "code",
   "execution_count": 328,
   "id": "af97d13a",
   "metadata": {},
   "outputs": [
    {
     "data": {
      "text/plain": [
       "51"
      ]
     },
     "execution_count": 328,
     "metadata": {},
     "output_type": "execute_result"
    }
   ],
   "source": [
    "df.iloc[0,0]"
   ]
  },
  {
   "cell_type": "code",
   "execution_count": 329,
   "id": "7286c558",
   "metadata": {},
   "outputs": [
    {
     "data": {
      "text/plain": [
       "(8, 6)"
      ]
     },
     "execution_count": 329,
     "metadata": {},
     "output_type": "execute_result"
    }
   ],
   "source": [
    "df.shape"
   ]
  },
  {
   "cell_type": "code",
   "execution_count": 330,
   "id": "a60d538e",
   "metadata": {},
   "outputs": [
    {
     "data": {
      "text/html": [
       "<div>\n",
       "<style scoped>\n",
       "    .dataframe tbody tr th:only-of-type {\n",
       "        vertical-align: middle;\n",
       "    }\n",
       "\n",
       "    .dataframe tbody tr th {\n",
       "        vertical-align: top;\n",
       "    }\n",
       "\n",
       "    .dataframe thead th {\n",
       "        text-align: right;\n",
       "    }\n",
       "</style>\n",
       "<table border=\"1\" class=\"dataframe\">\n",
       "  <thead>\n",
       "    <tr style=\"text-align: right;\">\n",
       "      <th></th>\n",
       "      <th>p</th>\n",
       "      <th>q</th>\n",
       "      <th>r</th>\n",
       "      <th>s</th>\n",
       "      <th>t</th>\n",
       "      <th>u</th>\n",
       "    </tr>\n",
       "  </thead>\n",
       "  <tbody>\n",
       "    <tr>\n",
       "      <th>a</th>\n",
       "      <td>51</td>\n",
       "      <td>53</td>\n",
       "      <td>72</td>\n",
       "      <td>45</td>\n",
       "      <td>92</td>\n",
       "      <td>71</td>\n",
       "    </tr>\n",
       "    <tr>\n",
       "      <th>b</th>\n",
       "      <td>49</td>\n",
       "      <td>18</td>\n",
       "      <td>19</td>\n",
       "      <td>80</td>\n",
       "      <td>51</td>\n",
       "      <td>78</td>\n",
       "    </tr>\n",
       "    <tr>\n",
       "      <th>c</th>\n",
       "      <td>55</td>\n",
       "      <td>73</td>\n",
       "      <td>34</td>\n",
       "      <td>38</td>\n",
       "      <td>58</td>\n",
       "      <td>32</td>\n",
       "    </tr>\n",
       "    <tr>\n",
       "      <th>d</th>\n",
       "      <td>36</td>\n",
       "      <td>25</td>\n",
       "      <td>40</td>\n",
       "      <td>87</td>\n",
       "      <td>64</td>\n",
       "      <td>19</td>\n",
       "    </tr>\n",
       "    <tr>\n",
       "      <th>e</th>\n",
       "      <td>10</td>\n",
       "      <td>47</td>\n",
       "      <td>70</td>\n",
       "      <td>20</td>\n",
       "      <td>39</td>\n",
       "      <td>54</td>\n",
       "    </tr>\n",
       "  </tbody>\n",
       "</table>\n",
       "</div>"
      ],
      "text/plain": [
       "    p   q   r   s   t   u\n",
       "a  51  53  72  45  92  71\n",
       "b  49  18  19  80  51  78\n",
       "c  55  73  34  38  58  32\n",
       "d  36  25  40  87  64  19\n",
       "e  10  47  70  20  39  54"
      ]
     },
     "execution_count": 330,
     "metadata": {},
     "output_type": "execute_result"
    }
   ],
   "source": [
    "df.head()"
   ]
  },
  {
   "cell_type": "code",
   "execution_count": 331,
   "id": "3d9af5f3",
   "metadata": {},
   "outputs": [
    {
     "data": {
      "text/html": [
       "<div>\n",
       "<style scoped>\n",
       "    .dataframe tbody tr th:only-of-type {\n",
       "        vertical-align: middle;\n",
       "    }\n",
       "\n",
       "    .dataframe tbody tr th {\n",
       "        vertical-align: top;\n",
       "    }\n",
       "\n",
       "    .dataframe thead th {\n",
       "        text-align: right;\n",
       "    }\n",
       "</style>\n",
       "<table border=\"1\" class=\"dataframe\">\n",
       "  <thead>\n",
       "    <tr style=\"text-align: right;\">\n",
       "      <th></th>\n",
       "      <th>p</th>\n",
       "      <th>q</th>\n",
       "      <th>r</th>\n",
       "      <th>s</th>\n",
       "      <th>t</th>\n",
       "      <th>u</th>\n",
       "    </tr>\n",
       "  </thead>\n",
       "  <tbody>\n",
       "    <tr>\n",
       "      <th>a</th>\n",
       "      <td>51</td>\n",
       "      <td>53</td>\n",
       "      <td>72</td>\n",
       "      <td>45</td>\n",
       "      <td>92</td>\n",
       "      <td>71</td>\n",
       "    </tr>\n",
       "    <tr>\n",
       "      <th>b</th>\n",
       "      <td>49</td>\n",
       "      <td>18</td>\n",
       "      <td>19</td>\n",
       "      <td>80</td>\n",
       "      <td>51</td>\n",
       "      <td>78</td>\n",
       "    </tr>\n",
       "  </tbody>\n",
       "</table>\n",
       "</div>"
      ],
      "text/plain": [
       "    p   q   r   s   t   u\n",
       "a  51  53  72  45  92  71\n",
       "b  49  18  19  80  51  78"
      ]
     },
     "execution_count": 331,
     "metadata": {},
     "output_type": "execute_result"
    }
   ],
   "source": [
    "df.head(2)"
   ]
  },
  {
   "cell_type": "code",
   "execution_count": 332,
   "id": "57d631bf",
   "metadata": {},
   "outputs": [
    {
     "data": {
      "text/html": [
       "<div>\n",
       "<style scoped>\n",
       "    .dataframe tbody tr th:only-of-type {\n",
       "        vertical-align: middle;\n",
       "    }\n",
       "\n",
       "    .dataframe tbody tr th {\n",
       "        vertical-align: top;\n",
       "    }\n",
       "\n",
       "    .dataframe thead th {\n",
       "        text-align: right;\n",
       "    }\n",
       "</style>\n",
       "<table border=\"1\" class=\"dataframe\">\n",
       "  <thead>\n",
       "    <tr style=\"text-align: right;\">\n",
       "      <th></th>\n",
       "      <th>p</th>\n",
       "      <th>q</th>\n",
       "      <th>r</th>\n",
       "      <th>s</th>\n",
       "      <th>t</th>\n",
       "      <th>u</th>\n",
       "    </tr>\n",
       "  </thead>\n",
       "  <tbody>\n",
       "    <tr>\n",
       "      <th>d</th>\n",
       "      <td>36</td>\n",
       "      <td>25</td>\n",
       "      <td>40</td>\n",
       "      <td>87</td>\n",
       "      <td>64</td>\n",
       "      <td>19</td>\n",
       "    </tr>\n",
       "    <tr>\n",
       "      <th>e</th>\n",
       "      <td>10</td>\n",
       "      <td>47</td>\n",
       "      <td>70</td>\n",
       "      <td>20</td>\n",
       "      <td>39</td>\n",
       "      <td>54</td>\n",
       "    </tr>\n",
       "    <tr>\n",
       "      <th>f</th>\n",
       "      <td>55</td>\n",
       "      <td>57</td>\n",
       "      <td>21</td>\n",
       "      <td>52</td>\n",
       "      <td>37</td>\n",
       "      <td>97</td>\n",
       "    </tr>\n",
       "    <tr>\n",
       "      <th>g</th>\n",
       "      <td>21</td>\n",
       "      <td>57</td>\n",
       "      <td>22</td>\n",
       "      <td>14</td>\n",
       "      <td>31</td>\n",
       "      <td>35</td>\n",
       "    </tr>\n",
       "    <tr>\n",
       "      <th>h</th>\n",
       "      <td>78</td>\n",
       "      <td>40</td>\n",
       "      <td>62</td>\n",
       "      <td>56</td>\n",
       "      <td>95</td>\n",
       "      <td>30</td>\n",
       "    </tr>\n",
       "  </tbody>\n",
       "</table>\n",
       "</div>"
      ],
      "text/plain": [
       "    p   q   r   s   t   u\n",
       "d  36  25  40  87  64  19\n",
       "e  10  47  70  20  39  54\n",
       "f  55  57  21  52  37  97\n",
       "g  21  57  22  14  31  35\n",
       "h  78  40  62  56  95  30"
      ]
     },
     "execution_count": 332,
     "metadata": {},
     "output_type": "execute_result"
    }
   ],
   "source": [
    "df.tail()"
   ]
  },
  {
   "cell_type": "code",
   "execution_count": 333,
   "id": "2f7388a1",
   "metadata": {},
   "outputs": [
    {
     "data": {
      "text/html": [
       "<div>\n",
       "<style scoped>\n",
       "    .dataframe tbody tr th:only-of-type {\n",
       "        vertical-align: middle;\n",
       "    }\n",
       "\n",
       "    .dataframe tbody tr th {\n",
       "        vertical-align: top;\n",
       "    }\n",
       "\n",
       "    .dataframe thead th {\n",
       "        text-align: right;\n",
       "    }\n",
       "</style>\n",
       "<table border=\"1\" class=\"dataframe\">\n",
       "  <thead>\n",
       "    <tr style=\"text-align: right;\">\n",
       "      <th></th>\n",
       "      <th>p</th>\n",
       "      <th>q</th>\n",
       "      <th>r</th>\n",
       "      <th>s</th>\n",
       "      <th>t</th>\n",
       "      <th>u</th>\n",
       "    </tr>\n",
       "  </thead>\n",
       "  <tbody>\n",
       "    <tr>\n",
       "      <th>f</th>\n",
       "      <td>55</td>\n",
       "      <td>57</td>\n",
       "      <td>21</td>\n",
       "      <td>52</td>\n",
       "      <td>37</td>\n",
       "      <td>97</td>\n",
       "    </tr>\n",
       "    <tr>\n",
       "      <th>g</th>\n",
       "      <td>21</td>\n",
       "      <td>57</td>\n",
       "      <td>22</td>\n",
       "      <td>14</td>\n",
       "      <td>31</td>\n",
       "      <td>35</td>\n",
       "    </tr>\n",
       "    <tr>\n",
       "      <th>h</th>\n",
       "      <td>78</td>\n",
       "      <td>40</td>\n",
       "      <td>62</td>\n",
       "      <td>56</td>\n",
       "      <td>95</td>\n",
       "      <td>30</td>\n",
       "    </tr>\n",
       "  </tbody>\n",
       "</table>\n",
       "</div>"
      ],
      "text/plain": [
       "    p   q   r   s   t   u\n",
       "f  55  57  21  52  37  97\n",
       "g  21  57  22  14  31  35\n",
       "h  78  40  62  56  95  30"
      ]
     },
     "execution_count": 333,
     "metadata": {},
     "output_type": "execute_result"
    }
   ],
   "source": [
    "df.tail(3)"
   ]
  },
  {
   "cell_type": "code",
   "execution_count": 338,
   "id": "be057036",
   "metadata": {},
   "outputs": [
    {
     "data": {
      "text/html": [
       "<div>\n",
       "<style scoped>\n",
       "    .dataframe tbody tr th:only-of-type {\n",
       "        vertical-align: middle;\n",
       "    }\n",
       "\n",
       "    .dataframe tbody tr th {\n",
       "        vertical-align: top;\n",
       "    }\n",
       "\n",
       "    .dataframe thead th {\n",
       "        text-align: right;\n",
       "    }\n",
       "</style>\n",
       "<table border=\"1\" class=\"dataframe\">\n",
       "  <thead>\n",
       "    <tr style=\"text-align: right;\">\n",
       "      <th></th>\n",
       "      <th>p</th>\n",
       "      <th>q</th>\n",
       "      <th>r</th>\n",
       "      <th>s</th>\n",
       "      <th>t</th>\n",
       "      <th>u</th>\n",
       "    </tr>\n",
       "  </thead>\n",
       "  <tbody>\n",
       "    <tr>\n",
       "      <th>d</th>\n",
       "      <td>36</td>\n",
       "      <td>25</td>\n",
       "      <td>40</td>\n",
       "      <td>87</td>\n",
       "      <td>64</td>\n",
       "      <td>19</td>\n",
       "    </tr>\n",
       "    <tr>\n",
       "      <th>f</th>\n",
       "      <td>55</td>\n",
       "      <td>57</td>\n",
       "      <td>21</td>\n",
       "      <td>52</td>\n",
       "      <td>37</td>\n",
       "      <td>97</td>\n",
       "    </tr>\n",
       "  </tbody>\n",
       "</table>\n",
       "</div>"
      ],
      "text/plain": [
       "    p   q   r   s   t   u\n",
       "d  36  25  40  87  64  19\n",
       "f  55  57  21  52  37  97"
      ]
     },
     "execution_count": 338,
     "metadata": {},
     "output_type": "execute_result"
    }
   ],
   "source": [
    "df.sample(2)"
   ]
  },
  {
   "cell_type": "code",
   "execution_count": 342,
   "id": "ca21f03e",
   "metadata": {},
   "outputs": [
    {
     "data": {
      "text/html": [
       "<div>\n",
       "<style scoped>\n",
       "    .dataframe tbody tr th:only-of-type {\n",
       "        vertical-align: middle;\n",
       "    }\n",
       "\n",
       "    .dataframe tbody tr th {\n",
       "        vertical-align: top;\n",
       "    }\n",
       "\n",
       "    .dataframe thead th {\n",
       "        text-align: right;\n",
       "    }\n",
       "</style>\n",
       "<table border=\"1\" class=\"dataframe\">\n",
       "  <thead>\n",
       "    <tr style=\"text-align: right;\">\n",
       "      <th></th>\n",
       "      <th>r</th>\n",
       "      <th>s</th>\n",
       "    </tr>\n",
       "  </thead>\n",
       "  <tbody>\n",
       "    <tr>\n",
       "      <th>a</th>\n",
       "      <td>72</td>\n",
       "      <td>45</td>\n",
       "    </tr>\n",
       "    <tr>\n",
       "      <th>b</th>\n",
       "      <td>19</td>\n",
       "      <td>80</td>\n",
       "    </tr>\n",
       "    <tr>\n",
       "      <th>c</th>\n",
       "      <td>34</td>\n",
       "      <td>38</td>\n",
       "    </tr>\n",
       "    <tr>\n",
       "      <th>d</th>\n",
       "      <td>40</td>\n",
       "      <td>87</td>\n",
       "    </tr>\n",
       "    <tr>\n",
       "      <th>e</th>\n",
       "      <td>70</td>\n",
       "      <td>20</td>\n",
       "    </tr>\n",
       "    <tr>\n",
       "      <th>f</th>\n",
       "      <td>21</td>\n",
       "      <td>52</td>\n",
       "    </tr>\n",
       "    <tr>\n",
       "      <th>g</th>\n",
       "      <td>22</td>\n",
       "      <td>14</td>\n",
       "    </tr>\n",
       "    <tr>\n",
       "      <th>h</th>\n",
       "      <td>62</td>\n",
       "      <td>56</td>\n",
       "    </tr>\n",
       "  </tbody>\n",
       "</table>\n",
       "</div>"
      ],
      "text/plain": [
       "    r   s\n",
       "a  72  45\n",
       "b  19  80\n",
       "c  34  38\n",
       "d  40  87\n",
       "e  70  20\n",
       "f  21  52\n",
       "g  22  14\n",
       "h  62  56"
      ]
     },
     "execution_count": 342,
     "metadata": {},
     "output_type": "execute_result"
    }
   ],
   "source": [
    "df[['r', 's']]"
   ]
  },
  {
   "cell_type": "code",
   "execution_count": 344,
   "id": "4da33d0b",
   "metadata": {},
   "outputs": [
    {
     "data": {
      "text/html": [
       "<div>\n",
       "<style scoped>\n",
       "    .dataframe tbody tr th:only-of-type {\n",
       "        vertical-align: middle;\n",
       "    }\n",
       "\n",
       "    .dataframe tbody tr th {\n",
       "        vertical-align: top;\n",
       "    }\n",
       "\n",
       "    .dataframe thead th {\n",
       "        text-align: right;\n",
       "    }\n",
       "</style>\n",
       "<table border=\"1\" class=\"dataframe\">\n",
       "  <thead>\n",
       "    <tr style=\"text-align: right;\">\n",
       "      <th></th>\n",
       "      <th>t</th>\n",
       "      <th>q</th>\n",
       "      <th>r</th>\n",
       "    </tr>\n",
       "  </thead>\n",
       "  <tbody>\n",
       "    <tr>\n",
       "      <th>a</th>\n",
       "      <td>92</td>\n",
       "      <td>53</td>\n",
       "      <td>72</td>\n",
       "    </tr>\n",
       "    <tr>\n",
       "      <th>b</th>\n",
       "      <td>51</td>\n",
       "      <td>18</td>\n",
       "      <td>19</td>\n",
       "    </tr>\n",
       "    <tr>\n",
       "      <th>c</th>\n",
       "      <td>58</td>\n",
       "      <td>73</td>\n",
       "      <td>34</td>\n",
       "    </tr>\n",
       "    <tr>\n",
       "      <th>d</th>\n",
       "      <td>64</td>\n",
       "      <td>25</td>\n",
       "      <td>40</td>\n",
       "    </tr>\n",
       "    <tr>\n",
       "      <th>e</th>\n",
       "      <td>39</td>\n",
       "      <td>47</td>\n",
       "      <td>70</td>\n",
       "    </tr>\n",
       "    <tr>\n",
       "      <th>f</th>\n",
       "      <td>37</td>\n",
       "      <td>57</td>\n",
       "      <td>21</td>\n",
       "    </tr>\n",
       "    <tr>\n",
       "      <th>g</th>\n",
       "      <td>31</td>\n",
       "      <td>57</td>\n",
       "      <td>22</td>\n",
       "    </tr>\n",
       "    <tr>\n",
       "      <th>h</th>\n",
       "      <td>95</td>\n",
       "      <td>40</td>\n",
       "      <td>62</td>\n",
       "    </tr>\n",
       "  </tbody>\n",
       "</table>\n",
       "</div>"
      ],
      "text/plain": [
       "    t   q   r\n",
       "a  92  53  72\n",
       "b  51  18  19\n",
       "c  58  73  34\n",
       "d  64  25  40\n",
       "e  39  47  70\n",
       "f  37  57  21\n",
       "g  31  57  22\n",
       "h  95  40  62"
      ]
     },
     "execution_count": 344,
     "metadata": {},
     "output_type": "execute_result"
    }
   ],
   "source": [
    "df[['t', 'q', 'r']]"
   ]
  },
  {
   "cell_type": "code",
   "execution_count": 345,
   "id": "9afaf802",
   "metadata": {},
   "outputs": [
    {
     "data": {
      "text/html": [
       "<div>\n",
       "<style scoped>\n",
       "    .dataframe tbody tr th:only-of-type {\n",
       "        vertical-align: middle;\n",
       "    }\n",
       "\n",
       "    .dataframe tbody tr th {\n",
       "        vertical-align: top;\n",
       "    }\n",
       "\n",
       "    .dataframe thead th {\n",
       "        text-align: right;\n",
       "    }\n",
       "</style>\n",
       "<table border=\"1\" class=\"dataframe\">\n",
       "  <thead>\n",
       "    <tr style=\"text-align: right;\">\n",
       "      <th></th>\n",
       "      <th>p</th>\n",
       "      <th>q</th>\n",
       "      <th>r</th>\n",
       "      <th>s</th>\n",
       "      <th>t</th>\n",
       "      <th>u</th>\n",
       "    </tr>\n",
       "  </thead>\n",
       "  <tbody>\n",
       "    <tr>\n",
       "      <th>a</th>\n",
       "      <td>51</td>\n",
       "      <td>53</td>\n",
       "      <td>72</td>\n",
       "      <td>45</td>\n",
       "      <td>92</td>\n",
       "      <td>71</td>\n",
       "    </tr>\n",
       "    <tr>\n",
       "      <th>b</th>\n",
       "      <td>49</td>\n",
       "      <td>18</td>\n",
       "      <td>19</td>\n",
       "      <td>80</td>\n",
       "      <td>51</td>\n",
       "      <td>78</td>\n",
       "    </tr>\n",
       "    <tr>\n",
       "      <th>c</th>\n",
       "      <td>55</td>\n",
       "      <td>73</td>\n",
       "      <td>34</td>\n",
       "      <td>38</td>\n",
       "      <td>58</td>\n",
       "      <td>32</td>\n",
       "    </tr>\n",
       "    <tr>\n",
       "      <th>d</th>\n",
       "      <td>36</td>\n",
       "      <td>25</td>\n",
       "      <td>40</td>\n",
       "      <td>87</td>\n",
       "      <td>64</td>\n",
       "      <td>19</td>\n",
       "    </tr>\n",
       "    <tr>\n",
       "      <th>e</th>\n",
       "      <td>10</td>\n",
       "      <td>47</td>\n",
       "      <td>70</td>\n",
       "      <td>20</td>\n",
       "      <td>39</td>\n",
       "      <td>54</td>\n",
       "    </tr>\n",
       "    <tr>\n",
       "      <th>f</th>\n",
       "      <td>55</td>\n",
       "      <td>57</td>\n",
       "      <td>21</td>\n",
       "      <td>52</td>\n",
       "      <td>37</td>\n",
       "      <td>97</td>\n",
       "    </tr>\n",
       "    <tr>\n",
       "      <th>g</th>\n",
       "      <td>21</td>\n",
       "      <td>57</td>\n",
       "      <td>22</td>\n",
       "      <td>14</td>\n",
       "      <td>31</td>\n",
       "      <td>35</td>\n",
       "    </tr>\n",
       "    <tr>\n",
       "      <th>h</th>\n",
       "      <td>78</td>\n",
       "      <td>40</td>\n",
       "      <td>62</td>\n",
       "      <td>56</td>\n",
       "      <td>95</td>\n",
       "      <td>30</td>\n",
       "    </tr>\n",
       "  </tbody>\n",
       "</table>\n",
       "</div>"
      ],
      "text/plain": [
       "    p   q   r   s   t   u\n",
       "a  51  53  72  45  92  71\n",
       "b  49  18  19  80  51  78\n",
       "c  55  73  34  38  58  32\n",
       "d  36  25  40  87  64  19\n",
       "e  10  47  70  20  39  54\n",
       "f  55  57  21  52  37  97\n",
       "g  21  57  22  14  31  35\n",
       "h  78  40  62  56  95  30"
      ]
     },
     "execution_count": 345,
     "metadata": {},
     "output_type": "execute_result"
    }
   ],
   "source": [
    "df"
   ]
  },
  {
   "cell_type": "code",
   "execution_count": 349,
   "id": "fc1d34b2",
   "metadata": {},
   "outputs": [],
   "source": [
    "df['v'] =  df['p'] + 5"
   ]
  },
  {
   "cell_type": "code",
   "execution_count": 350,
   "id": "58506ade",
   "metadata": {},
   "outputs": [
    {
     "data": {
      "text/html": [
       "<div>\n",
       "<style scoped>\n",
       "    .dataframe tbody tr th:only-of-type {\n",
       "        vertical-align: middle;\n",
       "    }\n",
       "\n",
       "    .dataframe tbody tr th {\n",
       "        vertical-align: top;\n",
       "    }\n",
       "\n",
       "    .dataframe thead th {\n",
       "        text-align: right;\n",
       "    }\n",
       "</style>\n",
       "<table border=\"1\" class=\"dataframe\">\n",
       "  <thead>\n",
       "    <tr style=\"text-align: right;\">\n",
       "      <th></th>\n",
       "      <th>p</th>\n",
       "      <th>q</th>\n",
       "      <th>r</th>\n",
       "      <th>s</th>\n",
       "      <th>t</th>\n",
       "      <th>u</th>\n",
       "      <th>v</th>\n",
       "    </tr>\n",
       "  </thead>\n",
       "  <tbody>\n",
       "    <tr>\n",
       "      <th>a</th>\n",
       "      <td>51</td>\n",
       "      <td>53</td>\n",
       "      <td>72</td>\n",
       "      <td>45</td>\n",
       "      <td>92</td>\n",
       "      <td>71</td>\n",
       "      <td>56</td>\n",
       "    </tr>\n",
       "    <tr>\n",
       "      <th>b</th>\n",
       "      <td>49</td>\n",
       "      <td>18</td>\n",
       "      <td>19</td>\n",
       "      <td>80</td>\n",
       "      <td>51</td>\n",
       "      <td>78</td>\n",
       "      <td>54</td>\n",
       "    </tr>\n",
       "    <tr>\n",
       "      <th>c</th>\n",
       "      <td>55</td>\n",
       "      <td>73</td>\n",
       "      <td>34</td>\n",
       "      <td>38</td>\n",
       "      <td>58</td>\n",
       "      <td>32</td>\n",
       "      <td>60</td>\n",
       "    </tr>\n",
       "    <tr>\n",
       "      <th>d</th>\n",
       "      <td>36</td>\n",
       "      <td>25</td>\n",
       "      <td>40</td>\n",
       "      <td>87</td>\n",
       "      <td>64</td>\n",
       "      <td>19</td>\n",
       "      <td>41</td>\n",
       "    </tr>\n",
       "    <tr>\n",
       "      <th>e</th>\n",
       "      <td>10</td>\n",
       "      <td>47</td>\n",
       "      <td>70</td>\n",
       "      <td>20</td>\n",
       "      <td>39</td>\n",
       "      <td>54</td>\n",
       "      <td>15</td>\n",
       "    </tr>\n",
       "    <tr>\n",
       "      <th>f</th>\n",
       "      <td>55</td>\n",
       "      <td>57</td>\n",
       "      <td>21</td>\n",
       "      <td>52</td>\n",
       "      <td>37</td>\n",
       "      <td>97</td>\n",
       "      <td>60</td>\n",
       "    </tr>\n",
       "    <tr>\n",
       "      <th>g</th>\n",
       "      <td>21</td>\n",
       "      <td>57</td>\n",
       "      <td>22</td>\n",
       "      <td>14</td>\n",
       "      <td>31</td>\n",
       "      <td>35</td>\n",
       "      <td>26</td>\n",
       "    </tr>\n",
       "    <tr>\n",
       "      <th>h</th>\n",
       "      <td>78</td>\n",
       "      <td>40</td>\n",
       "      <td>62</td>\n",
       "      <td>56</td>\n",
       "      <td>95</td>\n",
       "      <td>30</td>\n",
       "      <td>83</td>\n",
       "    </tr>\n",
       "  </tbody>\n",
       "</table>\n",
       "</div>"
      ],
      "text/plain": [
       "    p   q   r   s   t   u   v\n",
       "a  51  53  72  45  92  71  56\n",
       "b  49  18  19  80  51  78  54\n",
       "c  55  73  34  38  58  32  60\n",
       "d  36  25  40  87  64  19  41\n",
       "e  10  47  70  20  39  54  15\n",
       "f  55  57  21  52  37  97  60\n",
       "g  21  57  22  14  31  35  26\n",
       "h  78  40  62  56  95  30  83"
      ]
     },
     "execution_count": 350,
     "metadata": {},
     "output_type": "execute_result"
    }
   ],
   "source": [
    "df"
   ]
  },
  {
   "cell_type": "code",
   "execution_count": 351,
   "id": "15361fd3",
   "metadata": {},
   "outputs": [
    {
     "data": {
      "text/plain": [
       "a    45\n",
       "b    80\n",
       "c    38\n",
       "d    87\n",
       "e    20\n",
       "f    52\n",
       "g    14\n",
       "h    56\n",
       "Name: s, dtype: int32"
      ]
     },
     "execution_count": 351,
     "metadata": {},
     "output_type": "execute_result"
    }
   ],
   "source": [
    "df['s']"
   ]
  },
  {
   "cell_type": "code",
   "execution_count": 352,
   "id": "f32d99fa",
   "metadata": {},
   "outputs": [
    {
     "data": {
      "text/plain": [
       "a    92\n",
       "b    51\n",
       "c    58\n",
       "d    64\n",
       "e    39\n",
       "f    37\n",
       "g    31\n",
       "h    95\n",
       "Name: t, dtype: int32"
      ]
     },
     "execution_count": 352,
     "metadata": {},
     "output_type": "execute_result"
    }
   ],
   "source": [
    "df['t']"
   ]
  },
  {
   "cell_type": "code",
   "execution_count": 356,
   "id": "34a14558",
   "metadata": {},
   "outputs": [],
   "source": [
    "df['w'] = df['s'] + df['t']"
   ]
  },
  {
   "cell_type": "code",
   "execution_count": 357,
   "id": "6a35a676",
   "metadata": {},
   "outputs": [
    {
     "data": {
      "text/html": [
       "<div>\n",
       "<style scoped>\n",
       "    .dataframe tbody tr th:only-of-type {\n",
       "        vertical-align: middle;\n",
       "    }\n",
       "\n",
       "    .dataframe tbody tr th {\n",
       "        vertical-align: top;\n",
       "    }\n",
       "\n",
       "    .dataframe thead th {\n",
       "        text-align: right;\n",
       "    }\n",
       "</style>\n",
       "<table border=\"1\" class=\"dataframe\">\n",
       "  <thead>\n",
       "    <tr style=\"text-align: right;\">\n",
       "      <th></th>\n",
       "      <th>p</th>\n",
       "      <th>q</th>\n",
       "      <th>r</th>\n",
       "      <th>s</th>\n",
       "      <th>t</th>\n",
       "      <th>u</th>\n",
       "      <th>v</th>\n",
       "      <th>w</th>\n",
       "    </tr>\n",
       "  </thead>\n",
       "  <tbody>\n",
       "    <tr>\n",
       "      <th>a</th>\n",
       "      <td>51</td>\n",
       "      <td>53</td>\n",
       "      <td>72</td>\n",
       "      <td>45</td>\n",
       "      <td>92</td>\n",
       "      <td>71</td>\n",
       "      <td>56</td>\n",
       "      <td>137</td>\n",
       "    </tr>\n",
       "    <tr>\n",
       "      <th>b</th>\n",
       "      <td>49</td>\n",
       "      <td>18</td>\n",
       "      <td>19</td>\n",
       "      <td>80</td>\n",
       "      <td>51</td>\n",
       "      <td>78</td>\n",
       "      <td>54</td>\n",
       "      <td>131</td>\n",
       "    </tr>\n",
       "    <tr>\n",
       "      <th>c</th>\n",
       "      <td>55</td>\n",
       "      <td>73</td>\n",
       "      <td>34</td>\n",
       "      <td>38</td>\n",
       "      <td>58</td>\n",
       "      <td>32</td>\n",
       "      <td>60</td>\n",
       "      <td>96</td>\n",
       "    </tr>\n",
       "    <tr>\n",
       "      <th>d</th>\n",
       "      <td>36</td>\n",
       "      <td>25</td>\n",
       "      <td>40</td>\n",
       "      <td>87</td>\n",
       "      <td>64</td>\n",
       "      <td>19</td>\n",
       "      <td>41</td>\n",
       "      <td>151</td>\n",
       "    </tr>\n",
       "    <tr>\n",
       "      <th>e</th>\n",
       "      <td>10</td>\n",
       "      <td>47</td>\n",
       "      <td>70</td>\n",
       "      <td>20</td>\n",
       "      <td>39</td>\n",
       "      <td>54</td>\n",
       "      <td>15</td>\n",
       "      <td>59</td>\n",
       "    </tr>\n",
       "    <tr>\n",
       "      <th>f</th>\n",
       "      <td>55</td>\n",
       "      <td>57</td>\n",
       "      <td>21</td>\n",
       "      <td>52</td>\n",
       "      <td>37</td>\n",
       "      <td>97</td>\n",
       "      <td>60</td>\n",
       "      <td>89</td>\n",
       "    </tr>\n",
       "    <tr>\n",
       "      <th>g</th>\n",
       "      <td>21</td>\n",
       "      <td>57</td>\n",
       "      <td>22</td>\n",
       "      <td>14</td>\n",
       "      <td>31</td>\n",
       "      <td>35</td>\n",
       "      <td>26</td>\n",
       "      <td>45</td>\n",
       "    </tr>\n",
       "    <tr>\n",
       "      <th>h</th>\n",
       "      <td>78</td>\n",
       "      <td>40</td>\n",
       "      <td>62</td>\n",
       "      <td>56</td>\n",
       "      <td>95</td>\n",
       "      <td>30</td>\n",
       "      <td>83</td>\n",
       "      <td>151</td>\n",
       "    </tr>\n",
       "  </tbody>\n",
       "</table>\n",
       "</div>"
      ],
      "text/plain": [
       "    p   q   r   s   t   u   v    w\n",
       "a  51  53  72  45  92  71  56  137\n",
       "b  49  18  19  80  51  78  54  131\n",
       "c  55  73  34  38  58  32  60   96\n",
       "d  36  25  40  87  64  19  41  151\n",
       "e  10  47  70  20  39  54  15   59\n",
       "f  55  57  21  52  37  97  60   89\n",
       "g  21  57  22  14  31  35  26   45\n",
       "h  78  40  62  56  95  30  83  151"
      ]
     },
     "execution_count": 357,
     "metadata": {},
     "output_type": "execute_result"
    }
   ],
   "source": [
    "df"
   ]
  },
  {
   "cell_type": "code",
   "execution_count": 359,
   "id": "de6cbe79",
   "metadata": {},
   "outputs": [],
   "source": [
    "df['x'] = 5"
   ]
  },
  {
   "cell_type": "code",
   "execution_count": 360,
   "id": "6d5ac263",
   "metadata": {},
   "outputs": [
    {
     "data": {
      "text/html": [
       "<div>\n",
       "<style scoped>\n",
       "    .dataframe tbody tr th:only-of-type {\n",
       "        vertical-align: middle;\n",
       "    }\n",
       "\n",
       "    .dataframe tbody tr th {\n",
       "        vertical-align: top;\n",
       "    }\n",
       "\n",
       "    .dataframe thead th {\n",
       "        text-align: right;\n",
       "    }\n",
       "</style>\n",
       "<table border=\"1\" class=\"dataframe\">\n",
       "  <thead>\n",
       "    <tr style=\"text-align: right;\">\n",
       "      <th></th>\n",
       "      <th>p</th>\n",
       "      <th>q</th>\n",
       "      <th>r</th>\n",
       "      <th>s</th>\n",
       "      <th>t</th>\n",
       "      <th>u</th>\n",
       "      <th>v</th>\n",
       "      <th>w</th>\n",
       "      <th>x</th>\n",
       "    </tr>\n",
       "  </thead>\n",
       "  <tbody>\n",
       "    <tr>\n",
       "      <th>a</th>\n",
       "      <td>51</td>\n",
       "      <td>53</td>\n",
       "      <td>72</td>\n",
       "      <td>45</td>\n",
       "      <td>92</td>\n",
       "      <td>71</td>\n",
       "      <td>56</td>\n",
       "      <td>137</td>\n",
       "      <td>5</td>\n",
       "    </tr>\n",
       "    <tr>\n",
       "      <th>b</th>\n",
       "      <td>49</td>\n",
       "      <td>18</td>\n",
       "      <td>19</td>\n",
       "      <td>80</td>\n",
       "      <td>51</td>\n",
       "      <td>78</td>\n",
       "      <td>54</td>\n",
       "      <td>131</td>\n",
       "      <td>5</td>\n",
       "    </tr>\n",
       "    <tr>\n",
       "      <th>c</th>\n",
       "      <td>55</td>\n",
       "      <td>73</td>\n",
       "      <td>34</td>\n",
       "      <td>38</td>\n",
       "      <td>58</td>\n",
       "      <td>32</td>\n",
       "      <td>60</td>\n",
       "      <td>96</td>\n",
       "      <td>5</td>\n",
       "    </tr>\n",
       "    <tr>\n",
       "      <th>d</th>\n",
       "      <td>36</td>\n",
       "      <td>25</td>\n",
       "      <td>40</td>\n",
       "      <td>87</td>\n",
       "      <td>64</td>\n",
       "      <td>19</td>\n",
       "      <td>41</td>\n",
       "      <td>151</td>\n",
       "      <td>5</td>\n",
       "    </tr>\n",
       "    <tr>\n",
       "      <th>e</th>\n",
       "      <td>10</td>\n",
       "      <td>47</td>\n",
       "      <td>70</td>\n",
       "      <td>20</td>\n",
       "      <td>39</td>\n",
       "      <td>54</td>\n",
       "      <td>15</td>\n",
       "      <td>59</td>\n",
       "      <td>5</td>\n",
       "    </tr>\n",
       "    <tr>\n",
       "      <th>f</th>\n",
       "      <td>55</td>\n",
       "      <td>57</td>\n",
       "      <td>21</td>\n",
       "      <td>52</td>\n",
       "      <td>37</td>\n",
       "      <td>97</td>\n",
       "      <td>60</td>\n",
       "      <td>89</td>\n",
       "      <td>5</td>\n",
       "    </tr>\n",
       "    <tr>\n",
       "      <th>g</th>\n",
       "      <td>21</td>\n",
       "      <td>57</td>\n",
       "      <td>22</td>\n",
       "      <td>14</td>\n",
       "      <td>31</td>\n",
       "      <td>35</td>\n",
       "      <td>26</td>\n",
       "      <td>45</td>\n",
       "      <td>5</td>\n",
       "    </tr>\n",
       "    <tr>\n",
       "      <th>h</th>\n",
       "      <td>78</td>\n",
       "      <td>40</td>\n",
       "      <td>62</td>\n",
       "      <td>56</td>\n",
       "      <td>95</td>\n",
       "      <td>30</td>\n",
       "      <td>83</td>\n",
       "      <td>151</td>\n",
       "      <td>5</td>\n",
       "    </tr>\n",
       "  </tbody>\n",
       "</table>\n",
       "</div>"
      ],
      "text/plain": [
       "    p   q   r   s   t   u   v    w  x\n",
       "a  51  53  72  45  92  71  56  137  5\n",
       "b  49  18  19  80  51  78  54  131  5\n",
       "c  55  73  34  38  58  32  60   96  5\n",
       "d  36  25  40  87  64  19  41  151  5\n",
       "e  10  47  70  20  39  54  15   59  5\n",
       "f  55  57  21  52  37  97  60   89  5\n",
       "g  21  57  22  14  31  35  26   45  5\n",
       "h  78  40  62  56  95  30  83  151  5"
      ]
     },
     "execution_count": 360,
     "metadata": {},
     "output_type": "execute_result"
    }
   ],
   "source": [
    "df"
   ]
  },
  {
   "cell_type": "code",
   "execution_count": 365,
   "id": "74c0d2f6",
   "metadata": {},
   "outputs": [],
   "source": [
    "df.drop('v',axis=1, inplace=True )"
   ]
  },
  {
   "cell_type": "code",
   "execution_count": 366,
   "id": "6da91397",
   "metadata": {},
   "outputs": [
    {
     "data": {
      "text/html": [
       "<div>\n",
       "<style scoped>\n",
       "    .dataframe tbody tr th:only-of-type {\n",
       "        vertical-align: middle;\n",
       "    }\n",
       "\n",
       "    .dataframe tbody tr th {\n",
       "        vertical-align: top;\n",
       "    }\n",
       "\n",
       "    .dataframe thead th {\n",
       "        text-align: right;\n",
       "    }\n",
       "</style>\n",
       "<table border=\"1\" class=\"dataframe\">\n",
       "  <thead>\n",
       "    <tr style=\"text-align: right;\">\n",
       "      <th></th>\n",
       "      <th>p</th>\n",
       "      <th>q</th>\n",
       "      <th>r</th>\n",
       "      <th>s</th>\n",
       "      <th>t</th>\n",
       "      <th>u</th>\n",
       "      <th>w</th>\n",
       "      <th>x</th>\n",
       "    </tr>\n",
       "  </thead>\n",
       "  <tbody>\n",
       "    <tr>\n",
       "      <th>a</th>\n",
       "      <td>51</td>\n",
       "      <td>53</td>\n",
       "      <td>72</td>\n",
       "      <td>45</td>\n",
       "      <td>92</td>\n",
       "      <td>71</td>\n",
       "      <td>137</td>\n",
       "      <td>5</td>\n",
       "    </tr>\n",
       "    <tr>\n",
       "      <th>b</th>\n",
       "      <td>49</td>\n",
       "      <td>18</td>\n",
       "      <td>19</td>\n",
       "      <td>80</td>\n",
       "      <td>51</td>\n",
       "      <td>78</td>\n",
       "      <td>131</td>\n",
       "      <td>5</td>\n",
       "    </tr>\n",
       "    <tr>\n",
       "      <th>c</th>\n",
       "      <td>55</td>\n",
       "      <td>73</td>\n",
       "      <td>34</td>\n",
       "      <td>38</td>\n",
       "      <td>58</td>\n",
       "      <td>32</td>\n",
       "      <td>96</td>\n",
       "      <td>5</td>\n",
       "    </tr>\n",
       "    <tr>\n",
       "      <th>d</th>\n",
       "      <td>36</td>\n",
       "      <td>25</td>\n",
       "      <td>40</td>\n",
       "      <td>87</td>\n",
       "      <td>64</td>\n",
       "      <td>19</td>\n",
       "      <td>151</td>\n",
       "      <td>5</td>\n",
       "    </tr>\n",
       "    <tr>\n",
       "      <th>e</th>\n",
       "      <td>10</td>\n",
       "      <td>47</td>\n",
       "      <td>70</td>\n",
       "      <td>20</td>\n",
       "      <td>39</td>\n",
       "      <td>54</td>\n",
       "      <td>59</td>\n",
       "      <td>5</td>\n",
       "    </tr>\n",
       "    <tr>\n",
       "      <th>f</th>\n",
       "      <td>55</td>\n",
       "      <td>57</td>\n",
       "      <td>21</td>\n",
       "      <td>52</td>\n",
       "      <td>37</td>\n",
       "      <td>97</td>\n",
       "      <td>89</td>\n",
       "      <td>5</td>\n",
       "    </tr>\n",
       "    <tr>\n",
       "      <th>g</th>\n",
       "      <td>21</td>\n",
       "      <td>57</td>\n",
       "      <td>22</td>\n",
       "      <td>14</td>\n",
       "      <td>31</td>\n",
       "      <td>35</td>\n",
       "      <td>45</td>\n",
       "      <td>5</td>\n",
       "    </tr>\n",
       "    <tr>\n",
       "      <th>h</th>\n",
       "      <td>78</td>\n",
       "      <td>40</td>\n",
       "      <td>62</td>\n",
       "      <td>56</td>\n",
       "      <td>95</td>\n",
       "      <td>30</td>\n",
       "      <td>151</td>\n",
       "      <td>5</td>\n",
       "    </tr>\n",
       "  </tbody>\n",
       "</table>\n",
       "</div>"
      ],
      "text/plain": [
       "    p   q   r   s   t   u    w  x\n",
       "a  51  53  72  45  92  71  137  5\n",
       "b  49  18  19  80  51  78  131  5\n",
       "c  55  73  34  38  58  32   96  5\n",
       "d  36  25  40  87  64  19  151  5\n",
       "e  10  47  70  20  39  54   59  5\n",
       "f  55  57  21  52  37  97   89  5\n",
       "g  21  57  22  14  31  35   45  5\n",
       "h  78  40  62  56  95  30  151  5"
      ]
     },
     "execution_count": 366,
     "metadata": {},
     "output_type": "execute_result"
    }
   ],
   "source": [
    "df"
   ]
  },
  {
   "cell_type": "code",
   "execution_count": 373,
   "id": "8a90eebd",
   "metadata": {},
   "outputs": [],
   "source": [
    "df = df.drop(labels=['w', 'x'], axis=1)"
   ]
  },
  {
   "cell_type": "code",
   "execution_count": 374,
   "id": "e4a0dca1",
   "metadata": {},
   "outputs": [
    {
     "data": {
      "text/html": [
       "<div>\n",
       "<style scoped>\n",
       "    .dataframe tbody tr th:only-of-type {\n",
       "        vertical-align: middle;\n",
       "    }\n",
       "\n",
       "    .dataframe tbody tr th {\n",
       "        vertical-align: top;\n",
       "    }\n",
       "\n",
       "    .dataframe thead th {\n",
       "        text-align: right;\n",
       "    }\n",
       "</style>\n",
       "<table border=\"1\" class=\"dataframe\">\n",
       "  <thead>\n",
       "    <tr style=\"text-align: right;\">\n",
       "      <th></th>\n",
       "      <th>p</th>\n",
       "      <th>q</th>\n",
       "      <th>r</th>\n",
       "      <th>s</th>\n",
       "      <th>t</th>\n",
       "      <th>u</th>\n",
       "    </tr>\n",
       "  </thead>\n",
       "  <tbody>\n",
       "    <tr>\n",
       "      <th>a</th>\n",
       "      <td>51</td>\n",
       "      <td>53</td>\n",
       "      <td>72</td>\n",
       "      <td>45</td>\n",
       "      <td>92</td>\n",
       "      <td>71</td>\n",
       "    </tr>\n",
       "    <tr>\n",
       "      <th>b</th>\n",
       "      <td>49</td>\n",
       "      <td>18</td>\n",
       "      <td>19</td>\n",
       "      <td>80</td>\n",
       "      <td>51</td>\n",
       "      <td>78</td>\n",
       "    </tr>\n",
       "    <tr>\n",
       "      <th>c</th>\n",
       "      <td>55</td>\n",
       "      <td>73</td>\n",
       "      <td>34</td>\n",
       "      <td>38</td>\n",
       "      <td>58</td>\n",
       "      <td>32</td>\n",
       "    </tr>\n",
       "    <tr>\n",
       "      <th>d</th>\n",
       "      <td>36</td>\n",
       "      <td>25</td>\n",
       "      <td>40</td>\n",
       "      <td>87</td>\n",
       "      <td>64</td>\n",
       "      <td>19</td>\n",
       "    </tr>\n",
       "    <tr>\n",
       "      <th>e</th>\n",
       "      <td>10</td>\n",
       "      <td>47</td>\n",
       "      <td>70</td>\n",
       "      <td>20</td>\n",
       "      <td>39</td>\n",
       "      <td>54</td>\n",
       "    </tr>\n",
       "    <tr>\n",
       "      <th>f</th>\n",
       "      <td>55</td>\n",
       "      <td>57</td>\n",
       "      <td>21</td>\n",
       "      <td>52</td>\n",
       "      <td>37</td>\n",
       "      <td>97</td>\n",
       "    </tr>\n",
       "    <tr>\n",
       "      <th>g</th>\n",
       "      <td>21</td>\n",
       "      <td>57</td>\n",
       "      <td>22</td>\n",
       "      <td>14</td>\n",
       "      <td>31</td>\n",
       "      <td>35</td>\n",
       "    </tr>\n",
       "    <tr>\n",
       "      <th>h</th>\n",
       "      <td>78</td>\n",
       "      <td>40</td>\n",
       "      <td>62</td>\n",
       "      <td>56</td>\n",
       "      <td>95</td>\n",
       "      <td>30</td>\n",
       "    </tr>\n",
       "  </tbody>\n",
       "</table>\n",
       "</div>"
      ],
      "text/plain": [
       "    p   q   r   s   t   u\n",
       "a  51  53  72  45  92  71\n",
       "b  49  18  19  80  51  78\n",
       "c  55  73  34  38  58  32\n",
       "d  36  25  40  87  64  19\n",
       "e  10  47  70  20  39  54\n",
       "f  55  57  21  52  37  97\n",
       "g  21  57  22  14  31  35\n",
       "h  78  40  62  56  95  30"
      ]
     },
     "execution_count": 374,
     "metadata": {},
     "output_type": "execute_result"
    }
   ],
   "source": [
    "df"
   ]
  },
  {
   "cell_type": "code",
   "execution_count": 376,
   "id": "a390c7cf",
   "metadata": {},
   "outputs": [],
   "source": [
    "df.drop(columns=['s', 't'], axis=1, inplace=True)"
   ]
  },
  {
   "cell_type": "code",
   "execution_count": 377,
   "id": "d4116447",
   "metadata": {},
   "outputs": [
    {
     "data": {
      "text/html": [
       "<div>\n",
       "<style scoped>\n",
       "    .dataframe tbody tr th:only-of-type {\n",
       "        vertical-align: middle;\n",
       "    }\n",
       "\n",
       "    .dataframe tbody tr th {\n",
       "        vertical-align: top;\n",
       "    }\n",
       "\n",
       "    .dataframe thead th {\n",
       "        text-align: right;\n",
       "    }\n",
       "</style>\n",
       "<table border=\"1\" class=\"dataframe\">\n",
       "  <thead>\n",
       "    <tr style=\"text-align: right;\">\n",
       "      <th></th>\n",
       "      <th>p</th>\n",
       "      <th>q</th>\n",
       "      <th>r</th>\n",
       "      <th>u</th>\n",
       "    </tr>\n",
       "  </thead>\n",
       "  <tbody>\n",
       "    <tr>\n",
       "      <th>a</th>\n",
       "      <td>51</td>\n",
       "      <td>53</td>\n",
       "      <td>72</td>\n",
       "      <td>71</td>\n",
       "    </tr>\n",
       "    <tr>\n",
       "      <th>b</th>\n",
       "      <td>49</td>\n",
       "      <td>18</td>\n",
       "      <td>19</td>\n",
       "      <td>78</td>\n",
       "    </tr>\n",
       "    <tr>\n",
       "      <th>c</th>\n",
       "      <td>55</td>\n",
       "      <td>73</td>\n",
       "      <td>34</td>\n",
       "      <td>32</td>\n",
       "    </tr>\n",
       "    <tr>\n",
       "      <th>d</th>\n",
       "      <td>36</td>\n",
       "      <td>25</td>\n",
       "      <td>40</td>\n",
       "      <td>19</td>\n",
       "    </tr>\n",
       "    <tr>\n",
       "      <th>e</th>\n",
       "      <td>10</td>\n",
       "      <td>47</td>\n",
       "      <td>70</td>\n",
       "      <td>54</td>\n",
       "    </tr>\n",
       "    <tr>\n",
       "      <th>f</th>\n",
       "      <td>55</td>\n",
       "      <td>57</td>\n",
       "      <td>21</td>\n",
       "      <td>97</td>\n",
       "    </tr>\n",
       "    <tr>\n",
       "      <th>g</th>\n",
       "      <td>21</td>\n",
       "      <td>57</td>\n",
       "      <td>22</td>\n",
       "      <td>35</td>\n",
       "    </tr>\n",
       "    <tr>\n",
       "      <th>h</th>\n",
       "      <td>78</td>\n",
       "      <td>40</td>\n",
       "      <td>62</td>\n",
       "      <td>30</td>\n",
       "    </tr>\n",
       "  </tbody>\n",
       "</table>\n",
       "</div>"
      ],
      "text/plain": [
       "    p   q   r   u\n",
       "a  51  53  72  71\n",
       "b  49  18  19  78\n",
       "c  55  73  34  32\n",
       "d  36  25  40  19\n",
       "e  10  47  70  54\n",
       "f  55  57  21  97\n",
       "g  21  57  22  35\n",
       "h  78  40  62  30"
      ]
     },
     "execution_count": 377,
     "metadata": {},
     "output_type": "execute_result"
    }
   ],
   "source": [
    "df"
   ]
  },
  {
   "cell_type": "code",
   "execution_count": 378,
   "id": "b573e41e",
   "metadata": {},
   "outputs": [
    {
     "data": {
      "text/html": [
       "<div>\n",
       "<style scoped>\n",
       "    .dataframe tbody tr th:only-of-type {\n",
       "        vertical-align: middle;\n",
       "    }\n",
       "\n",
       "    .dataframe tbody tr th {\n",
       "        vertical-align: top;\n",
       "    }\n",
       "\n",
       "    .dataframe thead th {\n",
       "        text-align: right;\n",
       "    }\n",
       "</style>\n",
       "<table border=\"1\" class=\"dataframe\">\n",
       "  <thead>\n",
       "    <tr style=\"text-align: right;\">\n",
       "      <th></th>\n",
       "      <th>p</th>\n",
       "      <th>q</th>\n",
       "      <th>r</th>\n",
       "      <th>u</th>\n",
       "    </tr>\n",
       "  </thead>\n",
       "  <tbody>\n",
       "    <tr>\n",
       "      <th>a</th>\n",
       "      <td>51</td>\n",
       "      <td>53</td>\n",
       "      <td>72</td>\n",
       "      <td>71</td>\n",
       "    </tr>\n",
       "    <tr>\n",
       "      <th>b</th>\n",
       "      <td>49</td>\n",
       "      <td>18</td>\n",
       "      <td>19</td>\n",
       "      <td>78</td>\n",
       "    </tr>\n",
       "    <tr>\n",
       "      <th>c</th>\n",
       "      <td>55</td>\n",
       "      <td>73</td>\n",
       "      <td>34</td>\n",
       "      <td>32</td>\n",
       "    </tr>\n",
       "    <tr>\n",
       "      <th>d</th>\n",
       "      <td>36</td>\n",
       "      <td>25</td>\n",
       "      <td>40</td>\n",
       "      <td>19</td>\n",
       "    </tr>\n",
       "    <tr>\n",
       "      <th>e</th>\n",
       "      <td>10</td>\n",
       "      <td>47</td>\n",
       "      <td>70</td>\n",
       "      <td>54</td>\n",
       "    </tr>\n",
       "    <tr>\n",
       "      <th>f</th>\n",
       "      <td>55</td>\n",
       "      <td>57</td>\n",
       "      <td>21</td>\n",
       "      <td>97</td>\n",
       "    </tr>\n",
       "    <tr>\n",
       "      <th>g</th>\n",
       "      <td>21</td>\n",
       "      <td>57</td>\n",
       "      <td>22</td>\n",
       "      <td>35</td>\n",
       "    </tr>\n",
       "    <tr>\n",
       "      <th>h</th>\n",
       "      <td>78</td>\n",
       "      <td>40</td>\n",
       "      <td>62</td>\n",
       "      <td>30</td>\n",
       "    </tr>\n",
       "  </tbody>\n",
       "</table>\n",
       "</div>"
      ],
      "text/plain": [
       "    p   q   r   u\n",
       "a  51  53  72  71\n",
       "b  49  18  19  78\n",
       "c  55  73  34  32\n",
       "d  36  25  40  19\n",
       "e  10  47  70  54\n",
       "f  55  57  21  97\n",
       "g  21  57  22  35\n",
       "h  78  40  62  30"
      ]
     },
     "execution_count": 378,
     "metadata": {},
     "output_type": "execute_result"
    }
   ],
   "source": [
    "df"
   ]
  },
  {
   "cell_type": "code",
   "execution_count": 382,
   "id": "973f590b",
   "metadata": {},
   "outputs": [
    {
     "data": {
      "text/html": [
       "<div>\n",
       "<style scoped>\n",
       "    .dataframe tbody tr th:only-of-type {\n",
       "        vertical-align: middle;\n",
       "    }\n",
       "\n",
       "    .dataframe tbody tr th {\n",
       "        vertical-align: top;\n",
       "    }\n",
       "\n",
       "    .dataframe thead th {\n",
       "        text-align: right;\n",
       "    }\n",
       "</style>\n",
       "<table border=\"1\" class=\"dataframe\">\n",
       "  <thead>\n",
       "    <tr style=\"text-align: right;\">\n",
       "      <th></th>\n",
       "      <th>p</th>\n",
       "      <th>q</th>\n",
       "    </tr>\n",
       "  </thead>\n",
       "  <tbody>\n",
       "    <tr>\n",
       "      <th>g</th>\n",
       "      <td>21</td>\n",
       "      <td>57</td>\n",
       "    </tr>\n",
       "    <tr>\n",
       "      <th>h</th>\n",
       "      <td>78</td>\n",
       "      <td>40</td>\n",
       "    </tr>\n",
       "  </tbody>\n",
       "</table>\n",
       "</div>"
      ],
      "text/plain": [
       "    p   q\n",
       "g  21  57\n",
       "h  78  40"
      ]
     },
     "execution_count": 382,
     "metadata": {},
     "output_type": "execute_result"
    }
   ],
   "source": [
    "df.iloc[-2:][['p', 'q']]"
   ]
  },
  {
   "cell_type": "code",
   "execution_count": 383,
   "id": "77021ae3",
   "metadata": {},
   "outputs": [
    {
     "data": {
      "text/html": [
       "<div>\n",
       "<style scoped>\n",
       "    .dataframe tbody tr th:only-of-type {\n",
       "        vertical-align: middle;\n",
       "    }\n",
       "\n",
       "    .dataframe tbody tr th {\n",
       "        vertical-align: top;\n",
       "    }\n",
       "\n",
       "    .dataframe thead th {\n",
       "        text-align: right;\n",
       "    }\n",
       "</style>\n",
       "<table border=\"1\" class=\"dataframe\">\n",
       "  <thead>\n",
       "    <tr style=\"text-align: right;\">\n",
       "      <th></th>\n",
       "      <th>p</th>\n",
       "      <th>q</th>\n",
       "      <th>r</th>\n",
       "      <th>u</th>\n",
       "    </tr>\n",
       "  </thead>\n",
       "  <tbody>\n",
       "    <tr>\n",
       "      <th>a</th>\n",
       "      <td>51</td>\n",
       "      <td>53</td>\n",
       "      <td>72</td>\n",
       "      <td>71</td>\n",
       "    </tr>\n",
       "    <tr>\n",
       "      <th>b</th>\n",
       "      <td>49</td>\n",
       "      <td>18</td>\n",
       "      <td>19</td>\n",
       "      <td>78</td>\n",
       "    </tr>\n",
       "    <tr>\n",
       "      <th>c</th>\n",
       "      <td>55</td>\n",
       "      <td>73</td>\n",
       "      <td>34</td>\n",
       "      <td>32</td>\n",
       "    </tr>\n",
       "    <tr>\n",
       "      <th>d</th>\n",
       "      <td>36</td>\n",
       "      <td>25</td>\n",
       "      <td>40</td>\n",
       "      <td>19</td>\n",
       "    </tr>\n",
       "    <tr>\n",
       "      <th>e</th>\n",
       "      <td>10</td>\n",
       "      <td>47</td>\n",
       "      <td>70</td>\n",
       "      <td>54</td>\n",
       "    </tr>\n",
       "    <tr>\n",
       "      <th>f</th>\n",
       "      <td>55</td>\n",
       "      <td>57</td>\n",
       "      <td>21</td>\n",
       "      <td>97</td>\n",
       "    </tr>\n",
       "    <tr>\n",
       "      <th>g</th>\n",
       "      <td>21</td>\n",
       "      <td>57</td>\n",
       "      <td>22</td>\n",
       "      <td>35</td>\n",
       "    </tr>\n",
       "    <tr>\n",
       "      <th>h</th>\n",
       "      <td>78</td>\n",
       "      <td>40</td>\n",
       "      <td>62</td>\n",
       "      <td>30</td>\n",
       "    </tr>\n",
       "  </tbody>\n",
       "</table>\n",
       "</div>"
      ],
      "text/plain": [
       "    p   q   r   u\n",
       "a  51  53  72  71\n",
       "b  49  18  19  78\n",
       "c  55  73  34  32\n",
       "d  36  25  40  19\n",
       "e  10  47  70  54\n",
       "f  55  57  21  97\n",
       "g  21  57  22  35\n",
       "h  78  40  62  30"
      ]
     },
     "execution_count": 383,
     "metadata": {},
     "output_type": "execute_result"
    }
   ],
   "source": [
    "df"
   ]
  },
  {
   "cell_type": "code",
   "execution_count": 386,
   "id": "e7d0844c",
   "metadata": {},
   "outputs": [],
   "source": [
    "df.iloc[-2:, -2:] = 0"
   ]
  },
  {
   "cell_type": "code",
   "execution_count": 387,
   "id": "fff1aa7d",
   "metadata": {},
   "outputs": [
    {
     "data": {
      "text/html": [
       "<div>\n",
       "<style scoped>\n",
       "    .dataframe tbody tr th:only-of-type {\n",
       "        vertical-align: middle;\n",
       "    }\n",
       "\n",
       "    .dataframe tbody tr th {\n",
       "        vertical-align: top;\n",
       "    }\n",
       "\n",
       "    .dataframe thead th {\n",
       "        text-align: right;\n",
       "    }\n",
       "</style>\n",
       "<table border=\"1\" class=\"dataframe\">\n",
       "  <thead>\n",
       "    <tr style=\"text-align: right;\">\n",
       "      <th></th>\n",
       "      <th>p</th>\n",
       "      <th>q</th>\n",
       "      <th>r</th>\n",
       "      <th>u</th>\n",
       "    </tr>\n",
       "  </thead>\n",
       "  <tbody>\n",
       "    <tr>\n",
       "      <th>a</th>\n",
       "      <td>51</td>\n",
       "      <td>53</td>\n",
       "      <td>72</td>\n",
       "      <td>71</td>\n",
       "    </tr>\n",
       "    <tr>\n",
       "      <th>b</th>\n",
       "      <td>49</td>\n",
       "      <td>18</td>\n",
       "      <td>19</td>\n",
       "      <td>78</td>\n",
       "    </tr>\n",
       "    <tr>\n",
       "      <th>c</th>\n",
       "      <td>55</td>\n",
       "      <td>73</td>\n",
       "      <td>34</td>\n",
       "      <td>32</td>\n",
       "    </tr>\n",
       "    <tr>\n",
       "      <th>d</th>\n",
       "      <td>36</td>\n",
       "      <td>25</td>\n",
       "      <td>40</td>\n",
       "      <td>19</td>\n",
       "    </tr>\n",
       "    <tr>\n",
       "      <th>e</th>\n",
       "      <td>10</td>\n",
       "      <td>47</td>\n",
       "      <td>70</td>\n",
       "      <td>54</td>\n",
       "    </tr>\n",
       "    <tr>\n",
       "      <th>f</th>\n",
       "      <td>55</td>\n",
       "      <td>57</td>\n",
       "      <td>21</td>\n",
       "      <td>97</td>\n",
       "    </tr>\n",
       "    <tr>\n",
       "      <th>g</th>\n",
       "      <td>21</td>\n",
       "      <td>57</td>\n",
       "      <td>0</td>\n",
       "      <td>0</td>\n",
       "    </tr>\n",
       "    <tr>\n",
       "      <th>h</th>\n",
       "      <td>78</td>\n",
       "      <td>40</td>\n",
       "      <td>0</td>\n",
       "      <td>0</td>\n",
       "    </tr>\n",
       "  </tbody>\n",
       "</table>\n",
       "</div>"
      ],
      "text/plain": [
       "    p   q   r   u\n",
       "a  51  53  72  71\n",
       "b  49  18  19  78\n",
       "c  55  73  34  32\n",
       "d  36  25  40  19\n",
       "e  10  47  70  54\n",
       "f  55  57  21  97\n",
       "g  21  57   0   0\n",
       "h  78  40   0   0"
      ]
     },
     "execution_count": 387,
     "metadata": {},
     "output_type": "execute_result"
    }
   ],
   "source": [
    "df"
   ]
  },
  {
   "cell_type": "code",
   "execution_count": 388,
   "id": "7fc91b65",
   "metadata": {},
   "outputs": [],
   "source": [
    "# Masking or Boolean Indexing"
   ]
  },
  {
   "cell_type": "code",
   "execution_count": 389,
   "id": "2a48944f",
   "metadata": {},
   "outputs": [
    {
     "data": {
      "text/html": [
       "<div>\n",
       "<style scoped>\n",
       "    .dataframe tbody tr th:only-of-type {\n",
       "        vertical-align: middle;\n",
       "    }\n",
       "\n",
       "    .dataframe tbody tr th {\n",
       "        vertical-align: top;\n",
       "    }\n",
       "\n",
       "    .dataframe thead th {\n",
       "        text-align: right;\n",
       "    }\n",
       "</style>\n",
       "<table border=\"1\" class=\"dataframe\">\n",
       "  <thead>\n",
       "    <tr style=\"text-align: right;\">\n",
       "      <th></th>\n",
       "      <th>p</th>\n",
       "      <th>q</th>\n",
       "      <th>r</th>\n",
       "      <th>u</th>\n",
       "    </tr>\n",
       "  </thead>\n",
       "  <tbody>\n",
       "    <tr>\n",
       "      <th>a</th>\n",
       "      <td>51</td>\n",
       "      <td>53</td>\n",
       "      <td>72</td>\n",
       "      <td>71</td>\n",
       "    </tr>\n",
       "    <tr>\n",
       "      <th>b</th>\n",
       "      <td>49</td>\n",
       "      <td>18</td>\n",
       "      <td>19</td>\n",
       "      <td>78</td>\n",
       "    </tr>\n",
       "    <tr>\n",
       "      <th>c</th>\n",
       "      <td>55</td>\n",
       "      <td>73</td>\n",
       "      <td>34</td>\n",
       "      <td>32</td>\n",
       "    </tr>\n",
       "    <tr>\n",
       "      <th>d</th>\n",
       "      <td>36</td>\n",
       "      <td>25</td>\n",
       "      <td>40</td>\n",
       "      <td>19</td>\n",
       "    </tr>\n",
       "    <tr>\n",
       "      <th>e</th>\n",
       "      <td>10</td>\n",
       "      <td>47</td>\n",
       "      <td>70</td>\n",
       "      <td>54</td>\n",
       "    </tr>\n",
       "    <tr>\n",
       "      <th>f</th>\n",
       "      <td>55</td>\n",
       "      <td>57</td>\n",
       "      <td>21</td>\n",
       "      <td>97</td>\n",
       "    </tr>\n",
       "    <tr>\n",
       "      <th>g</th>\n",
       "      <td>21</td>\n",
       "      <td>57</td>\n",
       "      <td>0</td>\n",
       "      <td>0</td>\n",
       "    </tr>\n",
       "    <tr>\n",
       "      <th>h</th>\n",
       "      <td>78</td>\n",
       "      <td>40</td>\n",
       "      <td>0</td>\n",
       "      <td>0</td>\n",
       "    </tr>\n",
       "  </tbody>\n",
       "</table>\n",
       "</div>"
      ],
      "text/plain": [
       "    p   q   r   u\n",
       "a  51  53  72  71\n",
       "b  49  18  19  78\n",
       "c  55  73  34  32\n",
       "d  36  25  40  19\n",
       "e  10  47  70  54\n",
       "f  55  57  21  97\n",
       "g  21  57   0   0\n",
       "h  78  40   0   0"
      ]
     },
     "execution_count": 389,
     "metadata": {},
     "output_type": "execute_result"
    }
   ],
   "source": [
    "\n",
    "df"
   ]
  },
  {
   "cell_type": "code",
   "execution_count": 390,
   "id": "73767ba3",
   "metadata": {},
   "outputs": [
    {
     "data": {
      "text/html": [
       "<div>\n",
       "<style scoped>\n",
       "    .dataframe tbody tr th:only-of-type {\n",
       "        vertical-align: middle;\n",
       "    }\n",
       "\n",
       "    .dataframe tbody tr th {\n",
       "        vertical-align: top;\n",
       "    }\n",
       "\n",
       "    .dataframe thead th {\n",
       "        text-align: right;\n",
       "    }\n",
       "</style>\n",
       "<table border=\"1\" class=\"dataframe\">\n",
       "  <thead>\n",
       "    <tr style=\"text-align: right;\">\n",
       "      <th></th>\n",
       "      <th>p</th>\n",
       "      <th>q</th>\n",
       "      <th>r</th>\n",
       "      <th>u</th>\n",
       "    </tr>\n",
       "  </thead>\n",
       "  <tbody>\n",
       "    <tr>\n",
       "      <th>a</th>\n",
       "      <td>True</td>\n",
       "      <td>True</td>\n",
       "      <td>True</td>\n",
       "      <td>True</td>\n",
       "    </tr>\n",
       "    <tr>\n",
       "      <th>b</th>\n",
       "      <td>False</td>\n",
       "      <td>False</td>\n",
       "      <td>False</td>\n",
       "      <td>True</td>\n",
       "    </tr>\n",
       "    <tr>\n",
       "      <th>c</th>\n",
       "      <td>True</td>\n",
       "      <td>True</td>\n",
       "      <td>False</td>\n",
       "      <td>False</td>\n",
       "    </tr>\n",
       "    <tr>\n",
       "      <th>d</th>\n",
       "      <td>False</td>\n",
       "      <td>False</td>\n",
       "      <td>False</td>\n",
       "      <td>False</td>\n",
       "    </tr>\n",
       "    <tr>\n",
       "      <th>e</th>\n",
       "      <td>False</td>\n",
       "      <td>False</td>\n",
       "      <td>True</td>\n",
       "      <td>True</td>\n",
       "    </tr>\n",
       "    <tr>\n",
       "      <th>f</th>\n",
       "      <td>True</td>\n",
       "      <td>True</td>\n",
       "      <td>False</td>\n",
       "      <td>True</td>\n",
       "    </tr>\n",
       "    <tr>\n",
       "      <th>g</th>\n",
       "      <td>False</td>\n",
       "      <td>True</td>\n",
       "      <td>False</td>\n",
       "      <td>False</td>\n",
       "    </tr>\n",
       "    <tr>\n",
       "      <th>h</th>\n",
       "      <td>True</td>\n",
       "      <td>False</td>\n",
       "      <td>False</td>\n",
       "      <td>False</td>\n",
       "    </tr>\n",
       "  </tbody>\n",
       "</table>\n",
       "</div>"
      ],
      "text/plain": [
       "       p      q      r      u\n",
       "a   True   True   True   True\n",
       "b  False  False  False   True\n",
       "c   True   True  False  False\n",
       "d  False  False  False  False\n",
       "e  False  False   True   True\n",
       "f   True   True  False   True\n",
       "g  False   True  False  False\n",
       "h   True  False  False  False"
      ]
     },
     "execution_count": 390,
     "metadata": {},
     "output_type": "execute_result"
    }
   ],
   "source": [
    "df>50"
   ]
  },
  {
   "cell_type": "code",
   "execution_count": 392,
   "id": "664bdab0",
   "metadata": {},
   "outputs": [
    {
     "data": {
      "text/html": [
       "<div>\n",
       "<style scoped>\n",
       "    .dataframe tbody tr th:only-of-type {\n",
       "        vertical-align: middle;\n",
       "    }\n",
       "\n",
       "    .dataframe tbody tr th {\n",
       "        vertical-align: top;\n",
       "    }\n",
       "\n",
       "    .dataframe thead th {\n",
       "        text-align: right;\n",
       "    }\n",
       "</style>\n",
       "<table border=\"1\" class=\"dataframe\">\n",
       "  <thead>\n",
       "    <tr style=\"text-align: right;\">\n",
       "      <th></th>\n",
       "      <th>p</th>\n",
       "      <th>q</th>\n",
       "      <th>r</th>\n",
       "      <th>u</th>\n",
       "    </tr>\n",
       "  </thead>\n",
       "  <tbody>\n",
       "    <tr>\n",
       "      <th>a</th>\n",
       "      <td>51.0</td>\n",
       "      <td>53.0</td>\n",
       "      <td>72.0</td>\n",
       "      <td>71.0</td>\n",
       "    </tr>\n",
       "    <tr>\n",
       "      <th>b</th>\n",
       "      <td>NaN</td>\n",
       "      <td>NaN</td>\n",
       "      <td>NaN</td>\n",
       "      <td>78.0</td>\n",
       "    </tr>\n",
       "    <tr>\n",
       "      <th>c</th>\n",
       "      <td>55.0</td>\n",
       "      <td>73.0</td>\n",
       "      <td>NaN</td>\n",
       "      <td>NaN</td>\n",
       "    </tr>\n",
       "    <tr>\n",
       "      <th>d</th>\n",
       "      <td>NaN</td>\n",
       "      <td>NaN</td>\n",
       "      <td>NaN</td>\n",
       "      <td>NaN</td>\n",
       "    </tr>\n",
       "    <tr>\n",
       "      <th>e</th>\n",
       "      <td>NaN</td>\n",
       "      <td>NaN</td>\n",
       "      <td>70.0</td>\n",
       "      <td>54.0</td>\n",
       "    </tr>\n",
       "    <tr>\n",
       "      <th>f</th>\n",
       "      <td>55.0</td>\n",
       "      <td>57.0</td>\n",
       "      <td>NaN</td>\n",
       "      <td>97.0</td>\n",
       "    </tr>\n",
       "    <tr>\n",
       "      <th>g</th>\n",
       "      <td>NaN</td>\n",
       "      <td>57.0</td>\n",
       "      <td>NaN</td>\n",
       "      <td>NaN</td>\n",
       "    </tr>\n",
       "    <tr>\n",
       "      <th>h</th>\n",
       "      <td>78.0</td>\n",
       "      <td>NaN</td>\n",
       "      <td>NaN</td>\n",
       "      <td>NaN</td>\n",
       "    </tr>\n",
       "  </tbody>\n",
       "</table>\n",
       "</div>"
      ],
      "text/plain": [
       "      p     q     r     u\n",
       "a  51.0  53.0  72.0  71.0\n",
       "b   NaN   NaN   NaN  78.0\n",
       "c  55.0  73.0   NaN   NaN\n",
       "d   NaN   NaN   NaN   NaN\n",
       "e   NaN   NaN  70.0  54.0\n",
       "f  55.0  57.0   NaN  97.0\n",
       "g   NaN  57.0   NaN   NaN\n",
       "h  78.0   NaN   NaN   NaN"
      ]
     },
     "execution_count": 392,
     "metadata": {},
     "output_type": "execute_result"
    }
   ],
   "source": [
    "df[df>50]"
   ]
  },
  {
   "cell_type": "code",
   "execution_count": 393,
   "id": "ebf88aab",
   "metadata": {},
   "outputs": [
    {
     "data": {
      "text/html": [
       "<div>\n",
       "<style scoped>\n",
       "    .dataframe tbody tr th:only-of-type {\n",
       "        vertical-align: middle;\n",
       "    }\n",
       "\n",
       "    .dataframe tbody tr th {\n",
       "        vertical-align: top;\n",
       "    }\n",
       "\n",
       "    .dataframe thead th {\n",
       "        text-align: right;\n",
       "    }\n",
       "</style>\n",
       "<table border=\"1\" class=\"dataframe\">\n",
       "  <thead>\n",
       "    <tr style=\"text-align: right;\">\n",
       "      <th></th>\n",
       "      <th>p</th>\n",
       "      <th>q</th>\n",
       "      <th>r</th>\n",
       "      <th>u</th>\n",
       "    </tr>\n",
       "  </thead>\n",
       "  <tbody>\n",
       "    <tr>\n",
       "      <th>a</th>\n",
       "      <td>NaN</td>\n",
       "      <td>NaN</td>\n",
       "      <td>NaN</td>\n",
       "      <td>NaN</td>\n",
       "    </tr>\n",
       "    <tr>\n",
       "      <th>b</th>\n",
       "      <td>49.0</td>\n",
       "      <td>18.0</td>\n",
       "      <td>19.0</td>\n",
       "      <td>NaN</td>\n",
       "    </tr>\n",
       "    <tr>\n",
       "      <th>c</th>\n",
       "      <td>NaN</td>\n",
       "      <td>NaN</td>\n",
       "      <td>34.0</td>\n",
       "      <td>32.0</td>\n",
       "    </tr>\n",
       "    <tr>\n",
       "      <th>d</th>\n",
       "      <td>36.0</td>\n",
       "      <td>25.0</td>\n",
       "      <td>40.0</td>\n",
       "      <td>19.0</td>\n",
       "    </tr>\n",
       "    <tr>\n",
       "      <th>e</th>\n",
       "      <td>10.0</td>\n",
       "      <td>47.0</td>\n",
       "      <td>NaN</td>\n",
       "      <td>NaN</td>\n",
       "    </tr>\n",
       "    <tr>\n",
       "      <th>f</th>\n",
       "      <td>NaN</td>\n",
       "      <td>NaN</td>\n",
       "      <td>21.0</td>\n",
       "      <td>NaN</td>\n",
       "    </tr>\n",
       "    <tr>\n",
       "      <th>g</th>\n",
       "      <td>21.0</td>\n",
       "      <td>NaN</td>\n",
       "      <td>0.0</td>\n",
       "      <td>0.0</td>\n",
       "    </tr>\n",
       "    <tr>\n",
       "      <th>h</th>\n",
       "      <td>NaN</td>\n",
       "      <td>40.0</td>\n",
       "      <td>0.0</td>\n",
       "      <td>0.0</td>\n",
       "    </tr>\n",
       "  </tbody>\n",
       "</table>\n",
       "</div>"
      ],
      "text/plain": [
       "      p     q     r     u\n",
       "a   NaN   NaN   NaN   NaN\n",
       "b  49.0  18.0  19.0   NaN\n",
       "c   NaN   NaN  34.0  32.0\n",
       "d  36.0  25.0  40.0  19.0\n",
       "e  10.0  47.0   NaN   NaN\n",
       "f   NaN   NaN  21.0   NaN\n",
       "g  21.0   NaN   0.0   0.0\n",
       "h   NaN  40.0   0.0   0.0"
      ]
     },
     "execution_count": 393,
     "metadata": {},
     "output_type": "execute_result"
    }
   ],
   "source": [
    "df[~(df>50)]"
   ]
  },
  {
   "cell_type": "code",
   "execution_count": 395,
   "id": "301e579e",
   "metadata": {},
   "outputs": [
    {
     "data": {
      "text/html": [
       "<div>\n",
       "<style scoped>\n",
       "    .dataframe tbody tr th:only-of-type {\n",
       "        vertical-align: middle;\n",
       "    }\n",
       "\n",
       "    .dataframe tbody tr th {\n",
       "        vertical-align: top;\n",
       "    }\n",
       "\n",
       "    .dataframe thead th {\n",
       "        text-align: right;\n",
       "    }\n",
       "</style>\n",
       "<table border=\"1\" class=\"dataframe\">\n",
       "  <thead>\n",
       "    <tr style=\"text-align: right;\">\n",
       "      <th></th>\n",
       "      <th>p</th>\n",
       "      <th>q</th>\n",
       "      <th>r</th>\n",
       "      <th>u</th>\n",
       "    </tr>\n",
       "  </thead>\n",
       "  <tbody>\n",
       "    <tr>\n",
       "      <th>a</th>\n",
       "      <td>51.0</td>\n",
       "      <td>53.0</td>\n",
       "      <td>72.0</td>\n",
       "      <td>71.0</td>\n",
       "    </tr>\n",
       "    <tr>\n",
       "      <th>b</th>\n",
       "      <td>49.0</td>\n",
       "      <td>NaN</td>\n",
       "      <td>NaN</td>\n",
       "      <td>78.0</td>\n",
       "    </tr>\n",
       "    <tr>\n",
       "      <th>c</th>\n",
       "      <td>55.0</td>\n",
       "      <td>73.0</td>\n",
       "      <td>34.0</td>\n",
       "      <td>32.0</td>\n",
       "    </tr>\n",
       "    <tr>\n",
       "      <th>d</th>\n",
       "      <td>36.0</td>\n",
       "      <td>NaN</td>\n",
       "      <td>40.0</td>\n",
       "      <td>NaN</td>\n",
       "    </tr>\n",
       "    <tr>\n",
       "      <th>e</th>\n",
       "      <td>NaN</td>\n",
       "      <td>47.0</td>\n",
       "      <td>70.0</td>\n",
       "      <td>54.0</td>\n",
       "    </tr>\n",
       "    <tr>\n",
       "      <th>f</th>\n",
       "      <td>55.0</td>\n",
       "      <td>57.0</td>\n",
       "      <td>NaN</td>\n",
       "      <td>97.0</td>\n",
       "    </tr>\n",
       "    <tr>\n",
       "      <th>g</th>\n",
       "      <td>NaN</td>\n",
       "      <td>57.0</td>\n",
       "      <td>NaN</td>\n",
       "      <td>NaN</td>\n",
       "    </tr>\n",
       "    <tr>\n",
       "      <th>h</th>\n",
       "      <td>78.0</td>\n",
       "      <td>40.0</td>\n",
       "      <td>NaN</td>\n",
       "      <td>NaN</td>\n",
       "    </tr>\n",
       "  </tbody>\n",
       "</table>\n",
       "</div>"
      ],
      "text/plain": [
       "      p     q     r     u\n",
       "a  51.0  53.0  72.0  71.0\n",
       "b  49.0   NaN   NaN  78.0\n",
       "c  55.0  73.0  34.0  32.0\n",
       "d  36.0   NaN  40.0   NaN\n",
       "e   NaN  47.0  70.0  54.0\n",
       "f  55.0  57.0   NaN  97.0\n",
       "g   NaN  57.0   NaN   NaN\n",
       "h  78.0  40.0   NaN   NaN"
      ]
     },
     "execution_count": 395,
     "metadata": {},
     "output_type": "execute_result"
    }
   ],
   "source": [
    "df[df>30]"
   ]
  },
  {
   "cell_type": "code",
   "execution_count": 396,
   "id": "972add21",
   "metadata": {},
   "outputs": [
    {
     "data": {
      "text/html": [
       "<div>\n",
       "<style scoped>\n",
       "    .dataframe tbody tr th:only-of-type {\n",
       "        vertical-align: middle;\n",
       "    }\n",
       "\n",
       "    .dataframe tbody tr th {\n",
       "        vertical-align: top;\n",
       "    }\n",
       "\n",
       "    .dataframe thead th {\n",
       "        text-align: right;\n",
       "    }\n",
       "</style>\n",
       "<table border=\"1\" class=\"dataframe\">\n",
       "  <thead>\n",
       "    <tr style=\"text-align: right;\">\n",
       "      <th></th>\n",
       "      <th>p</th>\n",
       "      <th>q</th>\n",
       "      <th>r</th>\n",
       "      <th>u</th>\n",
       "    </tr>\n",
       "  </thead>\n",
       "  <tbody>\n",
       "    <tr>\n",
       "      <th>a</th>\n",
       "      <td>NaN</td>\n",
       "      <td>NaN</td>\n",
       "      <td>NaN</td>\n",
       "      <td>NaN</td>\n",
       "    </tr>\n",
       "    <tr>\n",
       "      <th>b</th>\n",
       "      <td>NaN</td>\n",
       "      <td>18.0</td>\n",
       "      <td>19.0</td>\n",
       "      <td>NaN</td>\n",
       "    </tr>\n",
       "    <tr>\n",
       "      <th>c</th>\n",
       "      <td>NaN</td>\n",
       "      <td>NaN</td>\n",
       "      <td>NaN</td>\n",
       "      <td>NaN</td>\n",
       "    </tr>\n",
       "    <tr>\n",
       "      <th>d</th>\n",
       "      <td>NaN</td>\n",
       "      <td>25.0</td>\n",
       "      <td>NaN</td>\n",
       "      <td>19.0</td>\n",
       "    </tr>\n",
       "    <tr>\n",
       "      <th>e</th>\n",
       "      <td>10.0</td>\n",
       "      <td>NaN</td>\n",
       "      <td>NaN</td>\n",
       "      <td>NaN</td>\n",
       "    </tr>\n",
       "    <tr>\n",
       "      <th>f</th>\n",
       "      <td>NaN</td>\n",
       "      <td>NaN</td>\n",
       "      <td>21.0</td>\n",
       "      <td>NaN</td>\n",
       "    </tr>\n",
       "    <tr>\n",
       "      <th>g</th>\n",
       "      <td>21.0</td>\n",
       "      <td>NaN</td>\n",
       "      <td>0.0</td>\n",
       "      <td>0.0</td>\n",
       "    </tr>\n",
       "    <tr>\n",
       "      <th>h</th>\n",
       "      <td>NaN</td>\n",
       "      <td>NaN</td>\n",
       "      <td>0.0</td>\n",
       "      <td>0.0</td>\n",
       "    </tr>\n",
       "  </tbody>\n",
       "</table>\n",
       "</div>"
      ],
      "text/plain": [
       "      p     q     r     u\n",
       "a   NaN   NaN   NaN   NaN\n",
       "b   NaN  18.0  19.0   NaN\n",
       "c   NaN   NaN   NaN   NaN\n",
       "d   NaN  25.0   NaN  19.0\n",
       "e  10.0   NaN   NaN   NaN\n",
       "f   NaN   NaN  21.0   NaN\n",
       "g  21.0   NaN   0.0   0.0\n",
       "h   NaN   NaN   0.0   0.0"
      ]
     },
     "execution_count": 396,
     "metadata": {},
     "output_type": "execute_result"
    }
   ],
   "source": [
    "df[~(df>30)]"
   ]
  },
  {
   "cell_type": "code",
   "execution_count": 400,
   "id": "c4dec7d2",
   "metadata": {},
   "outputs": [
    {
     "data": {
      "text/html": [
       "<div>\n",
       "<style scoped>\n",
       "    .dataframe tbody tr th:only-of-type {\n",
       "        vertical-align: middle;\n",
       "    }\n",
       "\n",
       "    .dataframe tbody tr th {\n",
       "        vertical-align: top;\n",
       "    }\n",
       "\n",
       "    .dataframe thead th {\n",
       "        text-align: right;\n",
       "    }\n",
       "</style>\n",
       "<table border=\"1\" class=\"dataframe\">\n",
       "  <thead>\n",
       "    <tr style=\"text-align: right;\">\n",
       "      <th></th>\n",
       "      <th>p</th>\n",
       "      <th>q</th>\n",
       "      <th>r</th>\n",
       "      <th>u</th>\n",
       "    </tr>\n",
       "  </thead>\n",
       "  <tbody>\n",
       "    <tr>\n",
       "      <th>a</th>\n",
       "      <td>51</td>\n",
       "      <td>53</td>\n",
       "      <td>72</td>\n",
       "      <td>71</td>\n",
       "    </tr>\n",
       "    <tr>\n",
       "      <th>b</th>\n",
       "      <td>49</td>\n",
       "      <td>18</td>\n",
       "      <td>19</td>\n",
       "      <td>78</td>\n",
       "    </tr>\n",
       "    <tr>\n",
       "      <th>c</th>\n",
       "      <td>55</td>\n",
       "      <td>73</td>\n",
       "      <td>34</td>\n",
       "      <td>32</td>\n",
       "    </tr>\n",
       "    <tr>\n",
       "      <th>d</th>\n",
       "      <td>36</td>\n",
       "      <td>25</td>\n",
       "      <td>40</td>\n",
       "      <td>19</td>\n",
       "    </tr>\n",
       "    <tr>\n",
       "      <th>f</th>\n",
       "      <td>55</td>\n",
       "      <td>57</td>\n",
       "      <td>21</td>\n",
       "      <td>97</td>\n",
       "    </tr>\n",
       "    <tr>\n",
       "      <th>g</th>\n",
       "      <td>21</td>\n",
       "      <td>57</td>\n",
       "      <td>0</td>\n",
       "      <td>0</td>\n",
       "    </tr>\n",
       "    <tr>\n",
       "      <th>h</th>\n",
       "      <td>78</td>\n",
       "      <td>40</td>\n",
       "      <td>0</td>\n",
       "      <td>0</td>\n",
       "    </tr>\n",
       "  </tbody>\n",
       "</table>\n",
       "</div>"
      ],
      "text/plain": [
       "    p   q   r   u\n",
       "a  51  53  72  71\n",
       "b  49  18  19  78\n",
       "c  55  73  34  32\n",
       "d  36  25  40  19\n",
       "f  55  57  21  97\n",
       "g  21  57   0   0\n",
       "h  78  40   0   0"
      ]
     },
     "execution_count": 400,
     "metadata": {},
     "output_type": "execute_result"
    }
   ],
   "source": [
    "df[df['p']>20]"
   ]
  },
  {
   "cell_type": "code",
   "execution_count": 407,
   "id": "a6a0c6be",
   "metadata": {},
   "outputs": [
    {
     "data": {
      "text/html": [
       "<div>\n",
       "<style scoped>\n",
       "    .dataframe tbody tr th:only-of-type {\n",
       "        vertical-align: middle;\n",
       "    }\n",
       "\n",
       "    .dataframe tbody tr th {\n",
       "        vertical-align: top;\n",
       "    }\n",
       "\n",
       "    .dataframe thead th {\n",
       "        text-align: right;\n",
       "    }\n",
       "</style>\n",
       "<table border=\"1\" class=\"dataframe\">\n",
       "  <thead>\n",
       "    <tr style=\"text-align: right;\">\n",
       "      <th></th>\n",
       "      <th>p</th>\n",
       "      <th>q</th>\n",
       "    </tr>\n",
       "  </thead>\n",
       "  <tbody>\n",
       "    <tr>\n",
       "      <th>a</th>\n",
       "      <td>51</td>\n",
       "      <td>53</td>\n",
       "    </tr>\n",
       "    <tr>\n",
       "      <th>c</th>\n",
       "      <td>55</td>\n",
       "      <td>73</td>\n",
       "    </tr>\n",
       "    <tr>\n",
       "      <th>e</th>\n",
       "      <td>10</td>\n",
       "      <td>47</td>\n",
       "    </tr>\n",
       "    <tr>\n",
       "      <th>f</th>\n",
       "      <td>55</td>\n",
       "      <td>57</td>\n",
       "    </tr>\n",
       "    <tr>\n",
       "      <th>g</th>\n",
       "      <td>21</td>\n",
       "      <td>57</td>\n",
       "    </tr>\n",
       "    <tr>\n",
       "      <th>h</th>\n",
       "      <td>78</td>\n",
       "      <td>40</td>\n",
       "    </tr>\n",
       "  </tbody>\n",
       "</table>\n",
       "</div>"
      ],
      "text/plain": [
       "    p   q\n",
       "a  51  53\n",
       "c  55  73\n",
       "e  10  47\n",
       "f  55  57\n",
       "g  21  57\n",
       "h  78  40"
      ]
     },
     "execution_count": 407,
     "metadata": {},
     "output_type": "execute_result"
    }
   ],
   "source": [
    "df[df['q']>30][['p','q']]"
   ]
  },
  {
   "cell_type": "code",
   "execution_count": 414,
   "id": "f438fb50",
   "metadata": {},
   "outputs": [
    {
     "data": {
      "text/plain": [
       "a    False\n",
       "b     True\n",
       "c     True\n",
       "d     True\n",
       "e    False\n",
       "f     True\n",
       "g     True\n",
       "h     True\n",
       "Name: r, dtype: bool"
      ]
     },
     "execution_count": 414,
     "metadata": {},
     "output_type": "execute_result"
    }
   ],
   "source": [
    "df['r']<50"
   ]
  },
  {
   "cell_type": "code",
   "execution_count": 415,
   "id": "78599f7f",
   "metadata": {},
   "outputs": [
    {
     "data": {
      "text/plain": [
       "a     True\n",
       "b     True\n",
       "c    False\n",
       "d    False\n",
       "e     True\n",
       "f     True\n",
       "g    False\n",
       "h    False\n",
       "Name: u, dtype: bool"
      ]
     },
     "execution_count": 415,
     "metadata": {},
     "output_type": "execute_result"
    }
   ],
   "source": [
    "df['u']>40"
   ]
  },
  {
   "cell_type": "code",
   "execution_count": 417,
   "id": "2a2165de",
   "metadata": {},
   "outputs": [
    {
     "data": {
      "text/html": [
       "<div>\n",
       "<style scoped>\n",
       "    .dataframe tbody tr th:only-of-type {\n",
       "        vertical-align: middle;\n",
       "    }\n",
       "\n",
       "    .dataframe tbody tr th {\n",
       "        vertical-align: top;\n",
       "    }\n",
       "\n",
       "    .dataframe thead th {\n",
       "        text-align: right;\n",
       "    }\n",
       "</style>\n",
       "<table border=\"1\" class=\"dataframe\">\n",
       "  <thead>\n",
       "    <tr style=\"text-align: right;\">\n",
       "      <th></th>\n",
       "      <th>p</th>\n",
       "      <th>q</th>\n",
       "      <th>r</th>\n",
       "      <th>u</th>\n",
       "    </tr>\n",
       "  </thead>\n",
       "  <tbody>\n",
       "    <tr>\n",
       "      <th>b</th>\n",
       "      <td>49</td>\n",
       "      <td>18</td>\n",
       "      <td>19</td>\n",
       "      <td>78</td>\n",
       "    </tr>\n",
       "    <tr>\n",
       "      <th>f</th>\n",
       "      <td>55</td>\n",
       "      <td>57</td>\n",
       "      <td>21</td>\n",
       "      <td>97</td>\n",
       "    </tr>\n",
       "  </tbody>\n",
       "</table>\n",
       "</div>"
      ],
      "text/plain": [
       "    p   q   r   u\n",
       "b  49  18  19  78\n",
       "f  55  57  21  97"
      ]
     },
     "execution_count": 417,
     "metadata": {},
     "output_type": "execute_result"
    }
   ],
   "source": [
    "df[(df['r']<50) & (df['u']>40)]"
   ]
  },
  {
   "cell_type": "code",
   "execution_count": 418,
   "id": "03f86655",
   "metadata": {},
   "outputs": [
    {
     "data": {
      "text/html": [
       "<div>\n",
       "<style scoped>\n",
       "    .dataframe tbody tr th:only-of-type {\n",
       "        vertical-align: middle;\n",
       "    }\n",
       "\n",
       "    .dataframe tbody tr th {\n",
       "        vertical-align: top;\n",
       "    }\n",
       "\n",
       "    .dataframe thead th {\n",
       "        text-align: right;\n",
       "    }\n",
       "</style>\n",
       "<table border=\"1\" class=\"dataframe\">\n",
       "  <thead>\n",
       "    <tr style=\"text-align: right;\">\n",
       "      <th></th>\n",
       "      <th>p</th>\n",
       "      <th>q</th>\n",
       "      <th>r</th>\n",
       "      <th>u</th>\n",
       "    </tr>\n",
       "  </thead>\n",
       "  <tbody>\n",
       "    <tr>\n",
       "      <th>a</th>\n",
       "      <td>51</td>\n",
       "      <td>53</td>\n",
       "      <td>72</td>\n",
       "      <td>71</td>\n",
       "    </tr>\n",
       "    <tr>\n",
       "      <th>b</th>\n",
       "      <td>49</td>\n",
       "      <td>18</td>\n",
       "      <td>19</td>\n",
       "      <td>78</td>\n",
       "    </tr>\n",
       "    <tr>\n",
       "      <th>c</th>\n",
       "      <td>55</td>\n",
       "      <td>73</td>\n",
       "      <td>34</td>\n",
       "      <td>32</td>\n",
       "    </tr>\n",
       "    <tr>\n",
       "      <th>d</th>\n",
       "      <td>36</td>\n",
       "      <td>25</td>\n",
       "      <td>40</td>\n",
       "      <td>19</td>\n",
       "    </tr>\n",
       "    <tr>\n",
       "      <th>e</th>\n",
       "      <td>10</td>\n",
       "      <td>47</td>\n",
       "      <td>70</td>\n",
       "      <td>54</td>\n",
       "    </tr>\n",
       "    <tr>\n",
       "      <th>f</th>\n",
       "      <td>55</td>\n",
       "      <td>57</td>\n",
       "      <td>21</td>\n",
       "      <td>97</td>\n",
       "    </tr>\n",
       "    <tr>\n",
       "      <th>g</th>\n",
       "      <td>21</td>\n",
       "      <td>57</td>\n",
       "      <td>0</td>\n",
       "      <td>0</td>\n",
       "    </tr>\n",
       "    <tr>\n",
       "      <th>h</th>\n",
       "      <td>78</td>\n",
       "      <td>40</td>\n",
       "      <td>0</td>\n",
       "      <td>0</td>\n",
       "    </tr>\n",
       "  </tbody>\n",
       "</table>\n",
       "</div>"
      ],
      "text/plain": [
       "    p   q   r   u\n",
       "a  51  53  72  71\n",
       "b  49  18  19  78\n",
       "c  55  73  34  32\n",
       "d  36  25  40  19\n",
       "e  10  47  70  54\n",
       "f  55  57  21  97\n",
       "g  21  57   0   0\n",
       "h  78  40   0   0"
      ]
     },
     "execution_count": 418,
     "metadata": {},
     "output_type": "execute_result"
    }
   ],
   "source": [
    "df"
   ]
  },
  {
   "cell_type": "code",
   "execution_count": 420,
   "id": "691bf355",
   "metadata": {},
   "outputs": [],
   "source": [
    "arr = df.values"
   ]
  },
  {
   "cell_type": "code",
   "execution_count": 421,
   "id": "9ea72214",
   "metadata": {},
   "outputs": [
    {
     "data": {
      "text/plain": [
       "array([[51, 53, 72, 71],\n",
       "       [49, 18, 19, 78],\n",
       "       [55, 73, 34, 32],\n",
       "       [36, 25, 40, 19],\n",
       "       [10, 47, 70, 54],\n",
       "       [55, 57, 21, 97],\n",
       "       [21, 57,  0,  0],\n",
       "       [78, 40,  0,  0]])"
      ]
     },
     "execution_count": 421,
     "metadata": {},
     "output_type": "execute_result"
    }
   ],
   "source": [
    "arr"
   ]
  },
  {
   "cell_type": "code",
   "execution_count": 422,
   "id": "ce1a260d",
   "metadata": {},
   "outputs": [
    {
     "name": "stderr",
     "output_type": "stream",
     "text": [
      "'ls' is not recognized as an internal or external command,\n",
      "operable program or batch file.\n"
     ]
    }
   ],
   "source": [
    "!ls"
   ]
  },
  {
   "cell_type": "code",
   "execution_count": 423,
   "id": "b29800ca",
   "metadata": {},
   "outputs": [
    {
     "name": "stdout",
     "output_type": "stream",
     "text": [
      " Volume in drive C is OS\n",
      " Volume Serial Number is 0CC1-C20F\n",
      "\n",
      " Directory of C:\\Users\\skme2\\Downloads\n",
      "\n",
      "12-02-2024  23:34    <DIR>          .\n",
      "12-02-2024  18:58    <DIR>          ..\n",
      "12-02-2024  23:02    <DIR>          .ipynb_checkpoints\n",
      "21-12-2023  11:58    <DIR>          __pycache__\n",
      "06-11-2023  11:20             2,633 01_11_sql_practice.sql\n",
      "02-11-2022  15:49           410,816 0211resume.pdf\n",
      "03-09-2023  14:20            54,756 03_09_1_pm_Functions.ipynb\n",
      "13-10-2023  15:25    <DIR>          03_10_4pm\n",
      "13-10-2023  15:24        98,232,624 03_10_4pm.zip\n",
      "20-03-2023  16:51           118,844 04_06.ipynb\n",
      "13-10-2023  15:24    <DIR>          04_10_4pm\n",
      "13-10-2023  15:23        85,733,531 04_10_4pm.zip\n",
      "04-12-2023  16:36               185 04_12_03_05_pm.sql\n",
      "05-12-2023  11:43            78,452 04_12_python_class_2.ipynb\n",
      "05-08-2023  17:33       144,122,096 05_08_1PM.zip\n",
      "05-08-2023  17:32            28,266 05_08_firoj_tapan.ipynb\n",
      "05-12-2023  17:47             1,293 05_12_03_05_pm.sql\n",
      "06-12-2023  12:35           115,848 05_12_Python_12_noon.ipynb\n",
      "06-12-2023  17:03             2,829 06_12_03_05_pm.sql\n",
      "07-12-2023  11:59            16,680 06_12_10_12.ipynb\n",
      "06-12-2023  10:56            14,637 06_12_10_12_part2.ipynb\n",
      "16-12-2023  18:13             4,713 07_12_03_05_pm.sql\n",
      "07-12-2023  11:59            17,005 07_12_10_12AM.ipynb\n",
      "07-12-2023  14:40            27,657 07_12_12_noon.ipynb\n",
      "08-04-2023  17:46             6,413 08_04_2023_window functions__damini_04_06.sql\n",
      "08-05-2023  17:43           453,229 08_05_power bi.pbix\n",
      "08-11-2022  11:41           412,631 08novresume.pdf\n",
      "09-04-2023  17:37             2,262 09_damini stored_processor.sql\n",
      "08-10-2022  12:44               582 1.0.5\n",
      "11-04-2023  14:25       279,467,547 10_04_2023.mp4\n",
      "16-09-2022  19:48         7,070,153 100-Business-English-Expressions.pdf\n",
      "23-09-2022  08:41         1,139,062 101-Essays-That-Will-Change-The-Way-You-Think_.pdf\n",
      "03-01-2023  14:28    <DIR>          1071244354_9761672683050\n",
      "03-01-2023  14:23            27,403 1071244354_9761672683050.rar\n",
      "14-12-2022  23:53    <DIR>          1081876154_needhelp\n",
      "14-12-2022  23:49        16,781,691 1081876154_needhelp.zip\n",
      "03-04-2023  15:02    <DIR>          10thAprilDeploymentSteps-20230403T093128Z-001\n",
      "09-06-2023  23:28    <DIR>          10thAprilDeploymentSteps-20230609T175740Z-001\n",
      "09-06-2023  23:27         1,879,584 10thAprilDeploymentSteps-20230609T175740Z-001.zip\n",
      "31-03-2023  17:05    <DIR>          10thOctBA-20230331T112251Z-001\n",
      "02-05-2023  23:02    <DIR>          10thOctBA-20230502T173034Z-001\n",
      "02-05-2023  23:00         4,290,115 10thOctBA-20230502T173034Z-001.zip\n",
      "19-03-2023  14:58           136,129 11_03_2023_Saurabh .ipynb\n",
      "01-04-2023  14:11             7,548 11_04_matplotlib.ipynb\n",
      "12-12-2023  15:27             6,270 11_12_03_05_pm.sql\n",
      "12-12-2023  10:56            26,245 11_12_10_12AM.ipynb\n",
      "12-12-2023  12:23            33,486 11_12_12_noon_part_1.ipynb\n",
      "04-12-2023  10:44    <DIR>          1-1699437272409_USBDisplay_2.2.7.3\n",
      "04-12-2023  10:44        39,584,067 1-1699437272409_USBDisplay_2.2.7.3.zip\n",
      "04-07-2023  12:00            16,100 11AM_04_07.ipynb\n",
      "12-02-2024  23:34           213,873 12_02_Numpy and Pandas.ipynb\n",
      "13-12-2023  19:36            22,173 12_12_Pythn_basics_06_08.ipynb\n",
      "07-01-2023  11:15           251,753 1215725943_2151672927494.rar\n",
      "12-12-2022  21:33             3,972 1236247724_attach-file-1670846640142.zip\n",
      "03-01-2023  15:27            94,784 1257579810_9101672689580.xlsx\n",
      "03-01-2023  15:27            94,784 1277482325_7351672689456.xlsx\n",
      "05-03-2023  17:24    <DIR>          12thSep-20230305T115045Z-001\n",
      "05-03-2023  17:21         1,800,263 12thSep-20230305T115045Z-001.zip\n",
      "13-10-2023  15:38            24,342 13_10_power_bi_practice.jpg\n",
      "17-10-2023  10:39           855,868 13_10_power_bi_practice.pbix\n",
      "13-10-2023  15:46         5,987,079 13_10_power_bi_practice.pdf\n",
      "13-10-2023  15:47        17,291,371 13_10_power_bi_practice.pptx\n",
      "13-12-2023  19:51             9,412 13_12_03_05_pm.sql\n",
      "18-12-2023  16:45            61,265 13_12_10_12pm.ipynb\n",
      "03-01-2023  15:27            94,784 132808084_2671672689536.xlsx\n",
      "03-01-2023  15:29            68,516 1346113162_attach-file-1672689878840.xlsx\n",
      "14-12-2023  17:09             9,941 14_12_03_05_pm.sql\n",
      "18-12-2023  16:45           158,114 14_12_12_noon.ipynb\n",
      "19-12-2023  10:29            95,736 14_12_Pythn_basics_06_08.ipynb\n",
      "14-03-2023  09:44                63 14_textfile.txt\n",
      "06-01-2023  08:59         4,894,621 1472359526_2145622_1839731_6302138.docx.pdf\n",
      "07-01-2023  11:15            40,869 1622747648_4091673022377.PNG\n",
      "16-06-2022  12:41           821,305 1655303783088.pdf\n",
      "16-06-2022  12:42           805,584 1655361164152.pdf\n",
      "24-06-2022  11:57         1,554,236 1655729738530.pdf\n",
      "22-06-2022  11:00         2,858,697 1655808683836.pdf\n",
      "22-06-2022  10:01           474,528 1655817362570.pdf\n",
      "31-07-2022  23:27           194,662 1659268223394.pdf\n",
      "01-08-2022  12:03           202,563 1659327300591.pdf\n",
      "19-08-2022  11:56            95,777 1660554784534.pdf\n",
      "31-08-2022  14:56            76,256 1660633425891.pdf\n",
      "20-08-2022  13:03           278,174 1660706504763.pdf\n",
      "18-08-2022  12:25         2,285,675 1660796239124.pdf\n",
      "20-08-2022  13:03           290,834 1660964997593.pdf\n",
      "28-08-2022  23:57            84,072 1661491570743.pdf\n",
      "03-09-2022  11:57        24,347,918 1662176194924.pdf\n",
      "11-09-2022  19:15         3,089,241 1662895783938.pdf\n",
      "16-10-2022  19:04            25,278 1665927254292T5LGVZEqHRtY18DM.pdf\n",
      "02-11-2022  15:29         1,348,909 1667367903949.pdf\n",
      "24-03-2023  20:17           346,341 1679666303576.pdf\n",
      "11-10-2023  20:10            34,408 1697035238395WyAqtwm14RdR0r36.pdf\n",
      "11-10-2023  20:17            26,959 1697035678438ZuVMhzootwhS9VZY.pdf\n",
      "11-10-2023  20:18            25,911 1697035704347nTpQ2xwqW4vU8dYJ.pdf\n",
      "17-09-2023  01:01             7,843 16Sep_textbasedproject.ipynb\n",
      "17-12-2023  11:41            74,038 17_12_10_01_pm_part_1.ipynb\n",
      "30-12-2023  11:09            25,536 17_12_10_01_pm_part2.ipynb\n",
      "24-11-2022  10:04           245,499 1733335575_2126730_1816551_6245808.docx.pdf\n",
      "08-10-2022  23:14    <DIR>          18.3.Plotly.7z (Unzipped Files)-20221008T174315Z-001\n",
      "08-10-2022  23:13         4,688,447 18.3.Plotly.7z (Unzipped Files)-20221008T174315Z-001.zip\n",
      "18-12-2023  18:04            10,484 18_12_03_05_pm.sql\n",
      "10-10-2022  16:40         2,879,041 18_4_Cufflinks_checkpoint.ipynb\n",
      "24-11-2022  15:10           243,853 1813334027_2126730_1817076_6247183.docx.pdf\n",
      "07-01-2023  12:30         4,890,890 1835446948_Updated_solution_06012023.docx.pdf\n",
      "03-01-2023  14:32    <DIR>          1867855190_9251672678839\n",
      "03-01-2023  14:23            47,736 1867855190_9251672678839.rar\n",
      "20-12-2023  18:29            36,701 19_12_06_08.ipynb\n",
      "19-12-2023  15:09            68,889 19_12_10_12_pm.ipynb\n",
      "03-01-2023  15:24            17,779 1900425184_attach-file-16726896538021.docx\n",
      "03-01-2023  15:27            94,784 1925709743_4951672689567.xlsx\n",
      "07-01-2023  16:26            30,201 1964090971_attach-file-1672220444499.docx\n",
      "03-01-2023  15:29            63,488 1976883288_attach-file-1672689879136.doc\n",
      "29-09-2022  05:57         5,227,782 1-deep learning (1).pdf\n",
      "18-08-2022  17:45         5,227,782 1-deep learning.pdf\n",
      "19-07-2022  21:09         5,812,051 1-Simple Linearregression.pdf\n",
      "07-10-2022  21:35           694,907 1st Oct Data Science industry(3-Git ).pdf\n",
      "10-03-2023  16:06        26,300,953 1st Oct FSDA-20230310T103630Z-001.zip\n",
      "20-12-2023  18:20            11,002 20_12_03_05_pm.sql\n",
      "20-12-2023  13:08           165,414 20_12_12_14_pm_part2.ipynb\n",
      "08-01-2023  13:06            31,186 2009659.docx\n",
      "11-10-2023  22:44         3,317,648 20231011_222916.jpg\n",
      "11-10-2023  22:44         3,588,576 20231011_222936.jpg\n",
      "11-10-2023  22:44         3,530,669 20231011_223005.jpg\n",
      "11-10-2023  22:44         3,352,405 20231011_223023.jpg\n",
      "11-10-2023  22:44         3,500,601 20231011_223036.jpg\n",
      "11-10-2023  22:44         3,435,169 20231011_223049.jpg\n",
      "11-10-2023  22:44         3,303,889 20231011_223114.jpg\n",
      "01-01-2024  14:38             7,447 2024.jpeg\n",
      "01-01-2024  14:41            12,099 20242.jpeg\n",
      "01-01-2024  14:46            15,420 20243.jpeg\n",
      "01-01-2024  14:56            14,103 20244.jpeg\n",
      "03-01-2023  14:23            41,767 2049695533_1501672678817.PNG\n",
      "03-01-2023  20:53         2,991,850 2050840287_6571672736572.rar\n",
      "30-11-2022  10:51    <DIR>          2057936858_1521669747194\n",
      "25-11-2022  20:59           282,615 2064437649_6111669265346 (1).xlsx\n",
      "25-11-2022  12:53           282,615 2064437649_6111669265346.xlsx\n",
      "21-03-2023  13:56             5,943 21_03_ruda_utkarsh.sql\n",
      "21-09-2023  12:57           456,688 21_09_Resume.pdf\n",
      "26-12-2023  10:45            80,802 21_12_06_08.ipynb\n",
      "21-12-2023  15:02            46,376 21_12_10_12pm.ipynb\n",
      "26-11-2022  17:43           207,304 2119999.zip\n",
      "24-11-2022  10:30    <DIR>          2126730\n",
      "16-09-2022  19:46         1,477,146 2127.pdf\n",
      "26-11-2022  17:34    <DIR>          2127053\n",
      "26-11-2022  17:25        10,955,424 2127053 (2).zip\n",
      "24-11-2022  12:41           154,637 2127053.zip\n",
      "28-02-2023  15:05    <DIR>          2129919\n",
      "29-11-2022  16:40         9,059,733 2129919.zip\n",
      "03-07-2022  11:53    <DIR>          21stMay-20220702T055745Z-001\n",
      "30-07-2023  16:12         6,863,802 21stMay-20220702T055745Z-001.zip\n"
     ]
    },
    {
     "name": "stdout",
     "output_type": "stream",
     "text": [
      "24-04-2023  13:01           375,712 22b01038ed616ac43165687bedaaee45ee8fbebc93c75e197f48c529c415222e-2023-04-24-07-31-10.zip\n",
      "30-08-2023  20:49           114,114 22b01038ed616ac43165687bedaaee45ee8fbebc93c75e197f48c529c415222e-2023-08-30-15-19-02.zip\n",
      "07-09-2023  10:31    <DIR>          22b01038ed616ac43165687bedaaee45ee8fbebc93c75e197f48c529c415222e-2023-09-07-05-00-53\n",
      "07-09-2023  10:31           132,147 22b01038ed616ac43165687bedaaee45ee8fbebc93c75e197f48c529c415222e-2023-09-07-05-00-53.zip\n",
      "03-07-2022  11:53    <DIR>          22ndmay-20220702T055801Z-001\n",
      "10-09-2022  23:12    <DIR>          23. Django-20220910T174146Z-001\n",
      "10-09-2022  23:12           635,343 23. Django-20220910T174146Z-001.zip\n",
      "24-09-2023  23:54            10,895 24_09_practice.sql\n",
      "13-10-2023  13:47           641,619 25_09_power_bi_practice.pbix\n",
      "26-09-2023  00:19             1,059 25_09_practice.sql\n",
      "25-12-2022  23:08           402,470 25resume.pdf\n",
      "07-10-2022  21:35         2,513,681 25th Sept Industry ready 1-DS Project Flow.pdf\n",
      "25-09-2023  22:30               576 26_09_Open_Cv and Beautiful_soup.ipynb\n",
      "27-09-2023  00:50             9,544 26_09_practice.sql\n",
      "26-12-2023  17:24    <DIR>          26_12_03_05fullstack\n",
      "26-12-2023  17:25             6,320 26_12_03_05fullstack.zip\n",
      "26-12-2023  15:38           111,611 26_12_12_14_pm.ipynb\n",
      "26-11-2022  17:58             9,280 26-11-2022.png\n",
      "27-09-2023  00:51             9,544 27_09_practice.sql\n",
      "27-12-2023  19:41            72,489 27_12_06_08.ipynb\n",
      "27-12-2023  12:22            58,773 27_12_10_12pm.ipynb\n",
      "27-12-2023  13:53            62,744 27_12_12_14_pm.ipynb\n",
      "28-07-2023  21:29            24,900 28.ipynb\n",
      "28-09-2023  01:15            12,033 28_09_practice.sql\n",
      "29-11-2022  14:00            12,498 28-11-2022.png\n",
      "03-07-2022  11:53    <DIR>          28thmay-20220702T055846Z-001\n",
      "30-09-2023  01:00            14,178 29_09_practice.sql\n",
      "09-02-2023  12:22           401,917 29resumefinal (1).pdf\n",
      "09-02-2023  12:28           401,917 29resumefinal (2).pdf\n",
      "09-02-2023  19:44           401,917 29resumefinal (3).pdf\n",
      "12-02-2023  12:00           401,917 29resumefinal (4).pdf\n",
      "29-01-2023  20:16           401,917 29resumefinal.pdf\n",
      "03-07-2022  11:53    <DIR>          29thMay-20220702T055900Z-001\n",
      "29-09-2022  05:58         4,936,410 2-Deep Learning-Activation Function,Loss Function,vanishing gradient problems.pdf\n",
      "19-07-2022  22:15         6,177,864 2-RidgeLassoelasticLogistic.pdf\n",
      "29-09-2022  06:00         3,811,002 3- Deep Learning optimizers.pdf\n",
      "31-05-2023  16:29            53,051 30 May.rar\n",
      "30-07-2023  15:18            23,986 30_07_firoj_tapan.ipynb\n",
      "13-10-2023  23:41            14,185 30_09_practice.sql\n",
      "31-12-2023  13:44            94,661 30_31_12_10_01_pm.ipynb\n",
      "31-12-2022  22:15           310,589 31december-2022_production.png\n",
      "03-01-2023  12:54         1,021,563 322231446_2145949_1838688_6299658.docx.pdf\n",
      "16-12-2022  09:38         1,088,545 3494407_924284817_5221671127587.pdf\n",
      "20-07-2022  20:30         4,476,715 3-NaiveBayes&KNN (1).pdf\n",
      "06-01-2023  13:43    <DIR>          4000_2145811\n",
      "29-12-2022  13:04             1,014 486285524_report.PNG\n",
      "06-08-2022  20:04            46,783 48d054d7-9ca9-41a2-af20-6da22f7b1687.pdf\n",
      "26-11-2022  09:50           371,264 57-Full Manuscript-303-1-10-20210101.pdf\n",
      "05-09-2023  16:16           115,254 5-sep-23..Matplotlib.ipynb\n",
      "03-07-2022  11:53    <DIR>          5thJune-20220702T060018Z-001\n",
      "07-01-2023  11:15            40,869 610424553_8661673022502.PNG\n",
      "03-01-2023  15:26            94,784 611890008_attach-file-1672689653245.xlsx\n",
      "08-01-2023  13:05            32,708 6174694_2019475483_ITSecurityofAssetsAuditReport.docx\n",
      "08-01-2023  13:05            52,373 6174695_773413174_answersheet.docx\n",
      "30-11-2022  10:10    <DIR>          6202146_557902306_1711667066232\n",
      "30-11-2022  10:08         4,336,189 6202146_557902306_1711667066232.zip\n",
      "29-11-2022  17:08           192,888 6213366_724256128_8881667618211.pdf\n",
      "29-11-2022  17:08           192,888 6213367_42476707_7311667618413.pdf\n",
      "25-11-2022  10:06           319,905 6214359_1000821664_ISYS40251DerivingBusinessValue (1).docx\n",
      "08-01-2023  13:04           319,905 6214359_1000821664_ISYS40251DerivingBusinessValue (2).docx\n",
      "15-11-2022  21:58           319,905 6214359_1000821664_ISYS40251DerivingBusinessValue.docx\n",
      "19-11-2022  20:37            17,603 6226585_977810161_ForecastingProjectFall20221 (1).docx\n",
      "26-11-2022  17:33            20,243 6226585_977810161_ForecastingProjectFall20221 (2).docx\n",
      "19-11-2022  20:03            17,603 6226585_977810161_ForecastingProjectFall20221.docx\n",
      "26-11-2022  18:03           178,331 6227997_804850198_4311668368487 (1).pdf\n",
      "25-11-2022  20:54           178,331 6227997_804850198_4311668368487.pdf\n",
      "15-11-2022  21:59           376,297 6228599_713001643_606D817C-0AE9-4AF8-9679-8AC576.jpeg\n",
      "24-11-2022  10:35           169,788 6244932_594254105_lab3.pdf\n",
      "24-11-2022  16:13            63,116 6246945_1997681302_1571669247673 (1).docx\n",
      "24-11-2022  10:33            63,116 6246945_1997681302_1571669247673.docx\n",
      "25-11-2022  10:01           172,719 6248251_1610762773_5221669311232.pdf\n",
      "26-11-2022  12:02            27,462 6248737_15177946_AssignmentRoverPart2.docx\n",
      "29-11-2022  17:18           156,402 6253046_1015605848_Rawdata-assignment-20221116.zip\n",
      "29-11-2022  10:49           187,004 6255566_1848008959_6871669689685 (1).rar\n",
      "29-11-2022  10:49           187,004 6255566_1848008959_6871669689685.rar\n",
      "30-11-2022  10:16            34,337 6256887_1144032372_4721669744820.docx\n",
      "30-11-2022  10:31            17,680 6256973_658864227_3561669747930.docx\n",
      "02-12-2022  09:40    <DIR>          6257614_970114486_CMSC733Assignment5\n",
      "02-12-2022  09:37            40,181 6257614_970114486_CMSC733Assignment5.zip\n",
      "02-01-2023  16:47           153,635 6284500_324218519_4231671106208 (1).pdf\n",
      "02-01-2023  16:46           153,635 6284500_324218519_4231671106208.pdf\n",
      "29-12-2022  12:08            14,023 6293639_1144537252_task3.docx\n",
      "29-12-2022  17:33           232,403 6296326_1215288445_9411672312163.pdf\n",
      "29-12-2022  17:30            57,383 6296343_971359209_6011672312673 (1).docx\n",
      "29-12-2022  17:34            57,383 6296343_971359209_6011672312673 (2).docx\n",
      "06-01-2023  14:04            57,383 6296343_971359209_6011672312673 (3).docx\n",
      "29-12-2022  17:15            57,383 6296343_971359209_6011672312673.docx\n",
      "30-12-2022  18:05             4,998 6297173_1069742042_9271672401337 (1).rar\n",
      "30-12-2022  18:04             4,998 6297173_1069742042_9271672401337.rar\n",
      "30-12-2022  18:07             3,000 6297175_1552145183_2901672401396.rar\n",
      "02-01-2023  17:05            26,914 6298281_303235459_62978852120552226SCI442Coursew (1).docx\n",
      "03-01-2023  12:07            26,914 6298281_303235459_62978852120552226SCI442Coursew (2).docx\n",
      "02-01-2023  16:56            26,914 6298281_303235459_62978852120552226SCI442Coursew.docx\n",
      "03-01-2023  14:01           143,842 6299068_948091880_5831672665101.png\n",
      "03-01-2023  14:01           354,285 6299069_207794875_6801672665102.pdf\n",
      "03-01-2023  15:32            13,303 6299357_465611549_7671672685975.docx\n",
      "03-01-2023  15:32         5,057,999 6299358_68953781_8531672685976.xlsx\n",
      "03-01-2023  15:32        50,512,925 6299359_1675536243_3811672685978.xlsx\n",
      "03-01-2023  15:23            94,784 6299371_175633961_6431672687293.xlsx\n",
      "03-01-2023  20:50            22,089 6299849_410794984_5291672744220.docx\n",
      "03-01-2023  20:52           581,082 6299990_898942029_6041672751306.pdf\n",
      "05-01-2023  16:37           239,959 6301385_1625681581_2191672881498.pdf\n",
      "07-01-2023  16:25           261,717 6301425_1448130059_7801672890194.docx\n",
      "07-01-2023  16:25           212,207 6301426_654502130_9391672890196.docx\n",
      "07-01-2023  16:23       201,617,580 6301722_238167626_4761672913933 (1).docx\n",
      "05-01-2023  22:18       201,617,580 6301722_238167626_4761672913933.docx\n",
      "07-01-2023  16:18           168,819 6303202_1793967889_8071673025731.gif\n",
      "07-01-2023  16:18           179,000 6303203_1296589249_8851673025731.gif\n",
      "07-01-2023  16:17           208,620 6303204_300042897_4791673025732.gif\n",
      "07-01-2023  16:17           178,322 6303206_1885821677_5561673025733.gif\n",
      "07-01-2023  15:18           231,559 6303420_654443766_5141673049427.pdf\n",
      "03-09-2022  11:53           543,608 6a2d2d74-fd47-4c8e-9305-83c33f35b46f.pdf\n",
      "03-01-2023  20:53         2,991,850 719257568_2871672743580.rar\n",
      "07-01-2023  12:31        37,137,379 881577687_marketing_campaign.csv.pdf\n",
      "02-07-2022  11:30         7,136,886 8-Gradientboosting-kmeanshierarichal.pdf\n",
      "29-06-2022  17:02         6,328,057 8thJanStats3.pdf\n",
      "29-06-2022  17:02         6,662,750 9thJanStats4.pdf\n",
      "06-06-2023  13:31            54,013 abc.pdf\n",
      "10-06-2023  13:49           261,128 Account_Statement_100323_090623.pdf\n",
      "10-06-2023  13:52           282,455 Account_Statement_3month.pdf\n",
      "10-06-2023  13:50           261,128 Account_Statement_last3month.pdf\n",
      "29-09-2022  05:59         3,253,779 activation function.zip\n",
      "12-10-2022  21:35            21,390 Advanced+Excel+Analytics+in+Excel.xlsx\n",
      "27-10-2022  13:15            61,223 AI ENGINEER MATRIX.xlsx\n",
      "01-01-2024  18:02             6,996 ai.jpeg\n",
      "16-07-2023  14:46         3,999,366 airbanb.pdf\n",
      "31-03-2023  18:45             1,746 AirPassengers.csv\n",
      "08-01-2023  13:06            28,742 annotated bibliography.docx\n",
      "13-11-2023  16:50             4,894 answere_key_cce.txt\n",
      "01-12-2023  14:28         5,525,576 AnyDesk (1).exe\n",
      "04-08-2022  21:13           510,875 aPI.pdf\n",
      "19-12-2023  13:28               487 api19.py\n",
      "29-09-2022  06:11         1,416,716 Apple+quarterly+balance+sheet.pdf\n",
      "29-09-2022  06:11         1,429,366 Apple+quarterly+balance+sheet+1.pdf\n",
      "04-12-2023  18:37            25,398 apply.docx\n",
      "10-06-2023  13:53           427,017 Apr'23 (1).pdf\n",
      "08-06-2023  09:39           427,017 Apr'23.pdf\n",
      "02-09-2022  17:49    <DIR>          archive\n",
      "03-09-2022  13:06    <DIR>          archive (1)\n",
      "03-09-2022  13:05           641,269 archive (1).zip\n",
      "02-09-2022  17:48         5,732,543 archive.zip\n",
      "12-12-2022  15:08           524,200 AReM.zip\n",
      "10-03-2023  18:49         1,103,184 arnaud-jaegers-Al7IoQ74-LU-unsplash.jpg\n",
      "08-02-2024  18:30               143 asd.html\n",
      "12-03-2023  14:33    <DIR>          asd.py\n",
      "31-05-2023  17:05                89 asdf.txt\n",
      "10-03-2023  21:49    <DIR>          ASSIGNMENT\n",
      "29-09-2022  19:54        10,401,953 assignment (2) (2).xlsx\n",
      "13-10-2023  22:10           173,843 Assumptions-of-Linear-Regression.pdf\n",
      "30-07-2022  22:27           104,846 atlassian-git-cheatsheet.pdf\n",
      "26-10-2023  12:02           860,651 Aug_sep_salary_slip.pdf\n",
      "26-10-2023  12:00           431,525 Aug'23 (1).pdf\n",
      "26-10-2023  12:00           431,525 Aug'23.pdf\n",
      "19-04-2023  09:58    <DIR>          AWS\n",
      "21-12-2023  15:02               404 back.py\n",
      "08-02-2024  18:41            67,646 bag_shopping_client_help_business_support_customer_icon_261688.ico\n",
      "07-06-2023  11:22           579,043 bank.zip\n",
      "07-06-2023  11:22           444,572 bank-additional.zip\n",
      "23-01-2023  22:29           391,059 bas_resume23.pdf\n",
      "08-01-2023  13:06            15,587 Basics.docx\n",
      "01-12-2022  16:05    <DIR>          Big_Data_Analytics_UZH-master\n",
      "01-12-2022  16:04           744,774 Big_Data_Analytics_UZH-master.zip\n",
      "17-12-2022  13:54    <DIR>          book_rating_prediction\n",
      "17-12-2022  14:45       101,781,720 book_rating_prediction17.zip\n",
      "27-01-2023  11:24            17,462 Book1.xlsx\n",
      "17-12-2022  13:44    <DIR>          bookprediction\n",
      "16-12-2022  13:22         1,032,922 books_model.pkl\n",
      "16-12-2022  14:01         1,346,128 bostonhousepricing-main.zip\n",
      "01-12-2023  13:04    <DIR>          Breast-Cancer-Prediction-main\n",
      "01-12-2023  13:03         1,531,872 Breast-Cancer-Prediction-main.zip\n",
      "27-06-2023  20:36    <DIR>          BUSINESS\n",
      "27-06-2023  21:32        97,291,742 BUSINESS (2).zip\n",
      "25-06-2023  14:14        97,109,862 BUSINESS.zip\n",
      "23-03-2023  19:56           555,360 c76bb6b8-8d0d-42ca-8438-976e438247bf.pdf\n",
      "20-12-2023  16:01            53,593 car_evaluation (1).csv\n",
      "20-12-2023  16:01            53,593 car_evaluation (2).csv\n",
      "04-07-2023  12:14            53,593 car_evaluation.csv\n",
      "01-12-2023  13:29    <DIR>          Cardio-Monitor-main\n",
      "01-12-2023  13:29         8,363,144 Cardio-Monitor-main.zip\n",
      "01-12-2023  13:48         8,400,720 Cardio-Monitor-main_lakshay.zip\n",
      "01-12-2023  14:19    <DIR>          Cardio-Monitor-main_lakshay12\n",
      "01-12-2023  13:49         8,400,720 Cardio-Monitor-main_lakshay12.zip\n",
      "07-10-2022  17:33            26,717 CarPrice_Assignment.csv\n",
      "03-12-2023  17:05             8,616 carreer.jpeg\n",
      "07-01-2023  13:24    <DIR>          case notes\n",
      "20-10-2023  19:59            85,789 Casual_Pic.jpg\n",
      "13-11-2023  19:35            64,758 CCE_papeer.docx\n",
      "16-10-2022  12:44           808,213 CCI02252019_0005.jpg\n",
      "16-10-2022  12:46           706,992 CCI02252019_0005-min.jpg\n",
      "16-10-2022  12:48           655,726 CCI02252019_0005-minedi.jpg\n",
      "27-04-2023  11:19             5,132 chatgpt.jpeg\n",
      "01-11-2023  11:01           433,931 ChatGPT_chat.zip\n",
      "29-12-2023  19:24            67,646 christmas_three_icon_260195.ico\n",
      "03-04-2023  15:51    <DIR>          chromedriver_win32\n",
      "09-06-2023  21:49    <DIR>          chromedriver_win32 (1)\n",
      "09-06-2023  21:47         6,603,303 chromedriver_win32 (1).zip\n",
      "03-04-2023  15:51         7,117,143 chromedriver_win32.zip\n",
      "14-04-2023  15:23                57 Class schedule.csv\n",
      "14-04-2023  15:14            25,600 Class schedule.xls\n",
      "27-09-2022  15:06    <DIR>          Class_notebooks-20220927T091839Z-001\n",
      "27-09-2022  14:49         3,661,484 Class_notebooks-20220927T091839Z-001.zip\n",
      "22-04-2023  16:39             3,516 cleaneddata (1).csv\n",
      "22-04-2023  16:38             4,007 cleaneddata.csv\n",
      "29-05-2023  14:39    <DIR>          code\n",
      "29-05-2023  12:43        42,822,011 code.zip\n",
      "08-06-2023  09:42         1,282,675 combinepdf.pdf\n",
      "12-03-2023  14:34    <DIR>          computer vision\n",
      "10-09-2023  22:53                 0 computer.txt\n",
      "03-09-2022  17:55           299,120 conda-cheatsheet (1).pdf\n",
      "05-06-2023  12:14           299,120 conda-cheatsheet (2).pdf\n",
      "03-09-2022  17:55           787,695 conda-cheatsheet.pdf\n",
      "29-01-2023  13:56             1,083 Configuration.xml\n",
      "19-09-2023  23:07    <DIR>          Course\n",
      "01-08-2022  14:05         2,434,564 Crop Recommendation System Project.pdf\n",
      "20-04-2023  20:42         3,014,476 Customer Profitability Sample PBIX.pbix\n",
      "20-04-2023  20:43         2,906,427 Customer Profitability Sample-no-PV.xlsx\n",
      "25-05-2023  14:03    <DIR>          cv2\n",
      "01-01-2024  17:38             9,234 da.jpeg\n",
      "24-09-2022  21:51    <DIR>          Data\n",
      "03-12-2023  15:48             7,160 data cleaning.jpeg\n",
      "07-10-2022  17:17            14,884 Data Dictionary - carprices.xlsx\n",
      "24-09-2022  21:50           709,466 Data.zip\n",
      "22-09-2023  14:17           636,609 Data_Science_certificate.png\n",
      "10-09-2023  22:50                 0 data10.txt\n",
      "07-12-2023  16:40                15 data2023.csv\n",
      "13-12-2023  16:21               328 data2024.csv\n",
      "13-03-2023  11:52           379,397 data-analytics iamge.html\n",
      "12-10-2022  17:54    <DIR>          database.sqlite\n",
      "18-03-2023  11:34       133,811,040 database.sqlite.zip\n",
      "31-07-2022  18:17       372,798,464 database1.sqlite\n",
      "12-10-2022  17:46                 0 database5.sqlite\n",
      "22-04-2023  16:43             8,347 dataexcel (1).xlsx\n",
      "22-04-2023  16:42             9,286 dataexcel.xlsx\n",
      "01-01-2024  17:42             8,039 datagovern.png\n",
      "03-12-2023  15:04             6,791 datascieneceworkflow.png\n",
      "13-09-2022  21:40        24,741,696 dataset (1).rar\n",
      "02-01-2023  15:48            28,209 dataset issue.png\n",
      "13-09-2022  21:39        24,741,696 dataset.rar\n",
      "27-04-2023  16:32    <DIR>          data-society-global-terrorism-data\n",
      "31-03-2023  20:14           118,690 Dax 2.pbix\n",
      "31-03-2023  18:08           430,086 DAX.pbix\n",
      "11-10-2022  13:38         2,493,152 Day04-Docker-20221011T080805Z-001.zip\n",
      "07-01-2023  13:33            31,303 ddddddWRrrrrrrr.png\n",
      "05-08-2022  11:46         1,569,899 Deep learning (2).pdf\n",
      "01-08-2022  14:05           378,488 Deep Learning.pdf\n",
      "26-12-2023  10:45            17,623 demo.ipynb\n",
      "15-09-2023  23:28                 0 demo1.py\n",
      "06-12-2022  14:50    <DIR>          Deployement\n",
      "27-09-2022  18:35    <DIR>          Diabetes-prediction-project-main\n",
      "27-09-2022  18:35         1,576,224 Diabetes-prediction-project-main.zip\n",
      "27-09-2022  18:34           510,271 diabetes-prediction-rfc-model.pkl\n",
      "16-07-2023  14:46           970,487 diamond price.pdf\n",
      "08-01-2023  13:06           546,634 Dissertation.pptx\n",
      "03-12-2023  14:54    <DIR>          Django_notes\n",
      "09-09-2022  21:49    <DIR>          Django-Socialauth-master\n",
      "09-09-2022  21:49           146,954 Django-Socialauth-master.zip\n",
      "11-10-2022  12:49    <DIR>          DL_Tensor_Flow.7z (Unzipped Files)-20221011T071416Z-001\n",
      "11-10-2022  12:44            15,979 DL_Tensor_Flow.7z (Unzipped Files)-20221011T071416Z-001.zip\n",
      "27-09-2022  15:06    <DIR>          DL1-20220927T091704Z-001\n",
      "27-09-2022  14:47           134,638 DL1-20220927T091704Z-001.zip\n",
      "23-09-2022  12:45       548,820,824 Docker Desktop Installer.exe\n",
      "01-01-2024  17:54           558,081 docker_cheatsheet.pdf\n",
      "03-09-2022  19:23           143,755 docker-cheat-sheet.pdf\n",
      "21-04-2023  21:32    <DIR>          Docker-For-Data-Science-main\n",
      "21-04-2023  21:32         1,987,474 Docker-For-Data-Science-main.zip\n",
      "08-01-2023  13:06           973,700 document.pdf\n",
      "04-11-2022  15:52         4,447,549 DOCUMENTS FOR GLOBAL LOGIC.pdf\n",
      "04-11-2022  15:53         4,446,281 DOCUMENTS FOR GLOBAL LOGIC-1-11.pdf\n",
      "04-11-2022  15:26         4,970,179 Documents_samatrix.zip\n",
      "09-02-2024  10:19             3,903 dog.jpeg\n",
      "11-06-2023  15:05             7,255 dog_image_11.jpeg\n",
      "29-12-2023  23:17            67,646 dog_pet_animal_japanese_shiba_inu_japan_icon_127300.ico\n",
      "09-02-2024  10:19             5,160 dog2.jpeg\n",
      "09-02-2024  10:19             4,958 dog3.jpeg\n",
      "08-05-2023  16:46             5,712 dogimage.jpeg\n",
      "01-01-2024  15:03            12,212 ds.jpeg\n",
      "30-11-2023  10:18        17,026,566 ds.pdf\n",
      "03-01-2023  16:24            33,894 DWRRRRRRR03012023.png\n",
      "29-12-2022  18:29            28,405 dwrrrrrrrrrrrr29122022.png\n",
      "01-04-2023  10:01    <DIR>          EDA\n",
      "16-10-2022  19:11             4,363 Email_OTP_RU380328.pdf\n",
      "29-09-2022  06:11            20,859 employee_ctc_pdf_load_solved.xlsx\n",
      "29-09-2022  06:12           203,553 Employee+data.pdf\n",
      "14-07-2023  20:37            59,175 employees.csv\n",
      "31-08-2022  20:11    <DIR>          End-to-End-Diabetes-Prediction-Application-Using-Machine-Learning-master\n",
      "08-01-2023  13:06            18,508 Essay template.docx\n",
      "03-11-2022  13:04                63 Example.txt\n",
      "03-06-2023  13:10                 0 example03.txt\n",
      "10-09-2023  23:26               245 example10.txt\n",
      "22-05-2023  17:04    <DIR>          Excel\n",
      "19-08-2022  14:20         1,513,112 Excel Analyticxs.pdf\n",
      "31-05-2023  11:23    <DIR>          Excel_Notes\n",
      "22-05-2023  17:04        52,764,710 Excel_Notes.zip\n",
      "24-09-2022  22:50    <DIR>          Exercise\n",
      "24-09-2022  21:52        24,431,113 Exercise.zip\n",
      "03-12-2023  16:49            11,306 exit_poll.jpeg\n",
      "22-03-2023  13:29    <DIR>          export_data\n",
      "22-03-2023  13:30           166,341 export_data (1)\n",
      "05-06-2023  10:32        13,091,720 F&B Sales -20230605T050228Z-001.zip\n",
      "19-08-2022  13:38               230 Fabionacci.py\n",
      "27-04-2023  11:18             3,717 Facebook.jpeg\n",
      "09-12-2023  01:02    <DIR>          Fav Icon\n"
     ]
    },
    {
     "name": "stdout",
     "output_type": "stream",
     "text": [
      "10-06-2023  13:53           428,601 Feb'23 (1).pdf\n",
      "08-06-2023  09:39           428,601 Feb'23.pdf\n",
      "16-09-2022  19:48        14,064,278 FifteenThousandUsefulPhrases_10777354.pdf\n",
      "14-10-2022  14:06    <DIR>          fig_code\n",
      "21-02-2023  13:56            22,016 file_example_XLS_10.xls\n",
      "20-11-2022  08:12           189,963 Final Solution.xlsx\n",
      "19-03-2023  13:15             1,709 final_data.csv\n",
      "27-02-2023  13:56             8,949 final_file.xlsx\n",
      "19-04-2023  13:26           414,671 Final_updated_resume19.pdf\n",
      "14-10-2022  10:50             1,417 finalised_kmeans_model.sav\n",
      "13-01-2023  22:01             1,613 finalized_model.pickle\n",
      "14-10-2022  23:45             3,856 finalized_model1456.pickle\n",
      "23-01-2023  15:22           401,602 finalresume2301.pdf\n",
      "27-01-2023  11:45           394,597 finalteleresume.pdf\n",
      "07-06-2023  11:19           392,434 Financial Analytics.pdf\n",
      "09-10-2022  22:15         3,663,063 firstfigure.html\n",
      "06-05-2023  17:13    <DIR>          Flask\n",
      "05-06-2023  11:28    <DIR>          Flask (1)\n",
      "05-06-2023  11:24           716,535 Flask (1).zip\n",
      "06-05-2023  17:10           716,535 Flask.zip\n",
      "06-09-2022  06:08    <DIR>          flask_demo-20220905T235450Z-001\n",
      "06-09-2022  05:25             7,623 flask_demo-20220905T235450Z-001.zip\n",
      "06-09-2022  15:06    <DIR>          Flaskpractice\n",
      "31-12-2022  20:31       101,827,904 flickr_logos_27_dataset.tar.gz\n",
      "05-09-2022  15:06    <DIR>          Flight-Price-Prediction-master\n",
      "12-12-2022  14:10       200,911,530 flights.zip\n",
      "01-12-2023  13:55    <DIR>          Flipkart-Review-Scraper-Project-main\n",
      "01-12-2023  13:55             8,999 Flipkart-Review-Scraper-Project-main.zip\n",
      "27-02-2023  13:59            25,478 forestfires.csv\n",
      "26-01-2023  17:24            16,947 Formatting+data+and+tables.xlsx\n",
      "21-12-2023  11:49               166 front.py\n",
      "27-12-2023  15:40    <DIR>          full_stack_28\n",
      "27-12-2023  16:59             1,622 full_stack_28.zip\n",
      "29-09-2023  12:22    <DIR>          Gate2024\n",
      "29-12-2022  17:53           173,585 General instructions (1).pptx\n",
      "08-01-2023  13:06           173,585 General instructions (2).pptx\n",
      "02-12-2022  17:43           173,585 General instructions.pptx\n",
      "25-03-2023  22:12         2,574,273 get-pip.py\n",
      "30-07-2022  22:24        49,381,480 Git-2.37.1-64-bit (1).exe\n",
      "30-07-2022  13:08        49,381,480 Git-2.37.1-64-bit.exe\n",
      "01-10-2022  10:14        49,375,864 Git-2.37.3-64-bit.exe\n",
      "08-12-2023  22:50        60,868,040 Git-2.43.0-64-bit.exe\n",
      "30-07-2022  22:26           100,194 git-cheat-sheet-education.pdf\n",
      "12-09-2022  19:34                29 gog.py\n",
      "27-04-2023  11:18             3,326 Google.png\n",
      "23-11-2022  13:42        14,599,992 GrammarlyInstaller.c000000702OBVqdpuIdS.exe\n",
      "17-06-2023  14:45           489,998 group_photo.jpg\n",
      "19-08-2022  13:40                41 hello.py\n",
      "21-04-2023  23:42    <DIR>          Hello_my_world\n",
      "14-09-2022  13:24                32 helloworld.py\n",
      "01-09-2023  22:02            67,646 home_icon-icons.com_73532.ico\n",
      "13-06-2023  09:27    <DIR>          HR-Dashboard-MySQL-PowerBI-main\n",
      "12-06-2023  12:08         1,462,559 HR-Dashboard-MySQL-PowerBI-main.zip\n",
      "19-05-2023  17:14            17,981 i5.jpg\n",
      "11-10-2022  22:35           720,864 ib sig 2021.jpg\n",
      "08-06-2023  12:00           308,099 ilovepdf_merged.pdf\n",
      "05-01-2024  21:10            71,164 imb.pdf\n",
      "26-11-2023  17:56             9,128 img.jpeg\n",
      "17-06-2023  16:03            54,610 img1.jpg\n",
      "03-12-2023  15:01             5,367 img12.png\n",
      "30-11-2023  10:26            10,480 img123.jpeg\n",
      "17-06-2023  16:03            52,849 img2.jpg\n",
      "17-06-2023  16:03            48,395 img3.jpg\n",
      "17-06-2023  16:03            41,330 img4.jpg\n",
      "17-06-2023  16:04            96,862 img5.jpeg.jpg\n",
      "01-01-2024  17:46             9,574 imgaiml.jpeg\n",
      "13-12-2022  12:01               105 Index\n",
      "26-01-2023  22:50            22,730 Indirect+Function.xlsx\n",
      "05-06-2023  10:46    <DIR>          iNeuron_FSDA-main-20230605T051534Z-001\n",
      "05-06-2023  10:46        12,630,373 iNeuron_FSDA-main-20230605T051534Z-001.zip\n",
      "12-06-2023  10:05    <DIR>          iNeuron_FSDA-main-20230612T042137Z-001\n",
      "12-06-2023  10:04        12,630,373 iNeuron_FSDA-main-20230612T042137Z-001.zip\n",
      "10-03-2023  20:15    <DIR>          iNeuron-Full-Stack-Data-Science-Assignments-main\n",
      "10-03-2023  20:12       144,869,666 iNeuron-Full-Stack-Data-Science-Assignments-main.zip\n",
      "19-08-2022  17:17                29 infile.py\n",
      "09-02-2024  10:22            18,213 instagram_6422200.png\n",
      "18-08-2022  22:59            73,216 inter.jfif\n",
      "10-08-2022  20:13           277,130 Internship Certificate internship certi.pdf\n",
      "13-09-2022  21:58         1,160,337 introduction.pptx\n",
      "10-02-2024  00:50            32,028 introduction+to+django+rest+framework.pdf\n",
      "15-09-2023  17:15           337,619 Introduction+To+Python+Programming+Langguage.pdf\n",
      "28-10-2022  12:49             4,633 invite.ics\n",
      "23-06-2023  20:39             3,858 iris.csv\n",
      "25-02-2023  13:12             2,998 iris.names\n",
      "20-12-2023  15:50             3,858 IRIS20.csv\n",
      "30-07-2023  11:16             3,858 iris30.csv\n",
      "26-11-2023  18:49             8,420 it.jpeg\n",
      "20-12-2023  16:17    <DIR>          itvedant20\n",
      "27-10-2022  13:15            13,275 JD AI ENGINEER.docx\n",
      "05-09-2022  17:49           644,465 JD Python Developer Speech  - Ozonetel - Sudhamay Maity.pdf\n",
      "15-04-2023  12:11               947 JioMeet Invite.ics\n",
      "16-09-2022  19:47           447,946 Job-Interviews-In-English_Series-One-Pack.pdf\n",
      "07-01-2024  23:46             7,676 jobs.png\n",
      "01-01-2024  15:05           154,963 joins.pdf\n",
      "21-12-2023  14:10               194 jupyter.txt\n",
      "16-09-2022  19:44           582,510 KEY_PHRASES_FOR_INTERVIEWS.pdf\n",
      "20-09-2022  19:22         6,631,527 KMS_Pico_Full_Setup.zip\n",
      "03-12-2022  14:38         1,480,659 konect-handbook (1).pdf\n",
      "03-12-2022  14:05         1,480,659 konect-handbook.pdf\n",
      "08-10-2022  14:55    <DIR>          latestversion\n",
      "26-01-2023  22:51            11,907 Lecture_Maps_Unsolved.xlsx\n",
      "06-11-2022  21:22         2,014,901 Linear Regression on Algerian Forest Fire Dataset.pdf\n",
      "25-10-2022  21:51         1,574,096 Linear_Regression_Task.pdf\n",
      "16-07-2023  15:28    <DIR>          Linear-Regression-Prediction-Project-Part-1-master\n",
      "16-07-2023  14:58            46,173 Linear-Regression-Prediction-Project-Part-1-master.zip\n",
      "23-09-2022  14:12           412,306 Linkresume.pdf\n",
      "07-10-2022  12:34           469,423 Linuc commands.pdf\n",
      "25-08-2022  11:13           469,423 Linux commands.pdf\n",
      "30-07-2023  16:11    <DIR>          Logistic-Regression-master\n",
      "30-07-2023  16:10             4,872 Logistic-Regression-master.zip\n",
      "20-04-2023  16:24               440 loss.txt\n",
      "16-04-2023  10:29        21,573,975 Machine Learning Module 1-20230416T045929Z-001.zip\n",
      "19-06-2023  15:27        21,573,975 Machine Learning Module 1-20230619T095712Z-001.zip\n",
      "06-05-2023  10:00        58,202,095 Machine Learning Module 2-20230506T042824Z-001.zip\n",
      "06-05-2023  10:01         6,134,873 Machine Learning Module 3-20230506T043140Z-001.zip\n",
      "06-05-2023  10:00         6,815,512 Machine Learning Module 4-20230506T042949Z-001.zip\n",
      "06-05-2023  10:01        72,129,159 Machine Learning Module 5-20230506T043049Z-001.zip\n",
      "12-03-2023  14:35                 0 machine learning.txt\n",
      "31-08-2022  19:46    <DIR>          Machine-Learning-Projects-master\n",
      "31-08-2022  19:41       122,583,229 Machine-Learning-Projects-master.zip\n",
      "30-07-2023  16:08        59,444,333 Machine-Learning-with-Python-master.zip\n",
      "12-10-2022  21:14            28,246 Macros.xlsm\n",
      "19-12-2023  13:36                82 main_project19.py\n",
      "09-02-2023  19:42           402,072 Main_resume.pdf\n",
      "29-11-2023  11:06    <DIR>          Major projects python Scraper\n",
      "10-06-2023  13:53           427,926 Mar'23 (1).pdf\n",
      "08-06-2023  09:39           427,926 Mar'23.pdf\n",
      "25-03-2023  18:13           465,112 Markov_Chain_project.ipynb\n",
      "30-10-2023  16:32         3,245,081 Master SQL from Basic to Expert.pdf\n",
      "26-06-2023  00:41           893,466 matplotlib_revision (1).ipynb\n",
      "26-06-2023  00:24           797,968 matplotlib_revision.ipynb\n",
      "02-07-2023  11:51            57,345 may_salary_bank_statment_unlocked.pdf\n",
      "03-12-2023  14:49             3,974 mental.jpeg\n",
      "03-12-2023  14:50            11,977 mental_health.jpeg\n",
      "04-01-2023  16:52            85,263 message section is not availble.png\n",
      "03-12-2022  13:56         1,706,855 metro-trips-2022-q3 (1).zip\n",
      "02-12-2022  17:31         1,706,855 metro-trips-2022-q3.zip\n",
      "30-11-2023  10:31             5,265 mgdb.png\n",
      "09-02-2024  10:25            67,646 microsoft_teams_icon_261512.ico\n",
      "06-05-2023  09:10    <DIR>          ML\n",
      "06-08-2023  15:00    <DIR>          ML Notes\n",
      "03-09-2022  14:26         4,115,949 ML NOtes.pdf\n",
      "06-05-2023  09:10        52,847,990 ML Notes.zip\n",
      "23-09-2022  14:34    <DIR>          ML11 4-20220923T083136Z-001\n",
      "26-11-2023  18:05             9,036 ml12.jpeg\n",
      "08-01-2023  13:05           245,359 mla-referencing-guide.pdf\n",
      "12-02-2023  11:29                 0 mlfile.txt\n",
      "27-04-2023  11:19             6,911 MLimage.jpeg\n",
      "12-09-2022  19:35    <DIR>          mod1\n",
      "14-10-2022  23:09               815 modelForPrediction145.sav\n",
      "23-06-2023  21:37             4,009 modified2306.csv\n",
      "01-05-2023  15:13            10,156 Module 4 - Outline.docx\n",
      "13-03-2023  14:44    <DIR>          Moduls_13\n",
      "28-10-2023  14:26           202,955 MOTIVATIOPNAL_IMAGE.htm\n",
      "19-12-2023  12:52    <DIR>          Movie_Recommendation_System-main\n",
      "10-02-2024  00:52        15,677,542 movieapp.zip\n",
      "02-11-2022  17:33           150,206 Mr. Sanjay Kumar- Employment Offer.pdf\n",
      "01-12-2022  11:24    <DIR>          MushroomDataset\n",
      "01-12-2022  11:20           473,175 MushroomDataset.zip\n",
      "12-06-2023  11:56           173,473 Music_Store_database (1).sql\n",
      "12-06-2023  11:45           173,473 Music_Store_database.sql\n",
      "15-09-2023  00:38             4,042 my_15_data.csv\n",
      "15-09-2023  00:41             8,257 my_15_excel.xlsx\n",
      "19-03-2023  13:39    <DIR>          my_cleaned_data\n",
      "20-03-2023  10:36    <DIR>          my_expoted_file\n",
      "25-09-2023  00:30            51,354 my_filtered_data.csv\n",
      "26-06-2023  00:07            42,775 my_modified_img.jpg\n",
      "03-11-2022  11:31                96 My_newcustom0311.py\n",
      "25-06-2023  23:48             7,944 my_pic_face.jpg\n",
      "30-04-2023  14:54             8,100 my_pikachu_image.jpg\n",
      "04-06-2023  17:19    <DIR>          my_project\n",
      "16-12-2022  14:02    <DIR>          mybostonhousepricing-main\n",
      "07-10-2022  17:41            27,405 mycsv.csv\n",
      "15-10-2022  19:15    <DIR>          Myenvirement\n",
      "22-03-2023  13:28           147,525 myexported_data.csv\n",
      "08-05-2023  07:20               145 myfile.py\n",
      "03-06-2023  13:13                 0 myfile0306.txt\n",
      "05-06-2023  11:47    <DIR>          myflask_practice\n",
      "23-06-2023  21:39             8,666 myirisexcel.xlsx\n",
      "21-12-2023  11:55               156 mymainproject.py\n",
      "12-02-2023  12:55               236 mymlfile2023.txt\n",
      "17-09-2022  13:06               219 mymodule.py\n",
      "12-10-2022  13:40    <DIR>          mynlp\n",
      "02-04-2023  14:57             7,923 mypicachuface.jpg\n",
      "24-03-2023  13:46        16,117,760 mysql-connector-net-8.0.32.msi\n",
      "02-03-2023  14:03         2,506,752 mysql-installer-web-community-8.0.32.0 (1).msi\n",
      "04-03-2023  13:27         2,506,752 mysql-installer-web-community-8.0.32.0 (2).msi\n",
      "23-03-2023  16:29         2,506,752 mysql-installer-web-community-8.0.32.0 (3).msi\n",
      "02-03-2023  14:02         2,506,752 mysql-installer-web-community-8.0.32.0.msi\n",
      "05-12-2023  15:05         2,240,512 mysql-installer-web-community-8.0.35.0.msi\n",
      "01-01-2024  15:15            14,021 mysqljoins.jpeg\n",
      "16-03-2023  21:31    <DIR>          mysqlsampledatabase\n",
      "22-04-2023  16:59    <DIR>          mysqlsampledatabase (1)\n",
      "22-04-2023  16:58            54,335 mysqlsampledatabase (1).zip\n",
      "27-09-2023  23:30    <DIR>          mysqlsampledatabase (2)\n",
      "27-09-2023  23:30            54,335 mysqlsampledatabase (2).zip\n",
      "16-03-2023  21:31            54,335 mysqlsampledatabase.zip\n",
      "27-02-2023  13:55             4,309 myupdatedfile123.csv\n",
      "20-12-2023  13:03                 0 mywork.txt\n",
      "30-11-2022  11:49    <DIR>          myZip_s2131748\n",
      "02-01-2023  15:27         2,569,544 myZip_s2145892.zip\n",
      "03-01-2023  12:29    <DIR>          myZip_s2146433\n",
      "03-01-2023  12:28       151,723,886 myZip_s2146433.zip\n",
      "05-01-2023  16:38    <DIR>          myZip_s2147122\n",
      "05-01-2023  16:37           304,892 myZip_s2147122.zip\n",
      "27-01-2023  11:24            17,734 Named+Ranges.xlsx\n",
      "14-11-2022  07:32    <DIR>          NerdyTurtlez\n",
      "21-12-2023  13:41                 0 New Text Document (2).txt\n",
      "14-03-2023  09:42                 0 New Text Document.txt\n",
      "04-11-2022  10:42           411,545 new_link resume (1).pdf\n",
      "15-09-2022  21:22           411,545 new_link resume.pdf\n",
      "24-09-2022  18:39           774,608 new_link resume_page-0001.jpg\n",
      "18-06-2023  14:52            40,904 new_my_image.jpg\n",
      "11-09-2022  11:16    <DIR>          newdjango\n",
      "03-11-2022  14:42                79 newfile.txt\n",
      "12-02-2023  11:24                 0 newfile12022023.txt\n",
      "23-07-2022  12:59               133 newonefile.txt\n",
      "09-06-2023  19:37               256 newtestfile03.txt\n",
      "19-04-2023  14:43           420,626 NewUpdated_resume19.pdf\n",
      "02-01-2023  16:25            22,464 newyearDWR2023.png\n",
      "24-11-2023  12:00           103,227 Nidhi Arora KPI.xlsx\n",
      "25-11-2023  18:02             1,879 nidhi_mam_A.txt\n",
      "25-11-2023  18:02             1,956 nidhi_mam_c.txt\n",
      "30-05-2023  15:13    <DIR>          NLP Projectsss\n",
      "30-05-2023  15:06    18,966,330,907 NLP Projectsss.zip\n",
      "16-04-2023  17:06    <DIR>          NLP-20230416T101243Z-001\n",
      "16-04-2023  15:44       534,675,109 NLP-20230416T101243Z-001.zip\n",
      "07-01-2023  13:33    <DIR>          nnerdytutlez\n",
      "16-10-2022  19:11            61,554 noname\n",
      "16-10-2022  19:11            23,770 noname (1)\n",
      "08-12-2023  23:44         4,796,432 npp.8.5.8.Installer.x64.exe\n",
      "20-09-2022  18:33           170,384 nresume.pdf\n",
      "03-12-2023  16:44             8,520 null.png\n",
      "30-07-2022  11:40           280,866 NUMPY Cheatsheet.pdf\n",
      "29-01-2023  13:59         3,664,056 officedeploymenttool_15928-20216 (1).exe\n",
      "29-01-2023  13:48         3,664,056 officedeploymenttool_15928-20216.exe\n",
      "05-06-2023  10:59         3,674,056 officedeploymenttool_16327-20214.exe\n",
      "02-09-2023  22:52             5,330 One_liners.ipynb\n",
      "29-11-2023  17:23    <DIR>          Online-Quiz\n",
      "29-11-2023  17:23         1,055,438 Online-Quiz.zip\n",
      "08-05-2023  11:44       464,763,552 On-premises data gateway (personal mode).exe\n",
      "20-09-2023  22:39            83,422 OOPS_and_file_handling_Practice.ipynb\n",
      "20-05-2023  12:57         1,399,205 Open_cv_07_05_2023 (1).ipynb\n",
      "20-05-2023  10:57         1,388,571 Open_cv_07_05_2023.ipynb\n",
      "27-07-2022  19:31        10,269,576 opencv_haarcascade_frontalface_default.xml at master ú opencv_opencv.html\n",
      "27-07-2022  19:31    <DIR>          opencv_haarcascade_frontalface_default.xml at master ú opencv_opencv_files\n",
      "25-11-2023  14:02           715,134 orcal_sql.pdf\n",
      "07-01-2023  16:10    <DIR>          Orde_rId_2145311_7\n",
      "29-11-2022  16:30         2,531,769 Order_Id_2129919.html\n",
      "14-08-2023  14:05         1,863,231 Order_Id_2129919.ipynb\n",
      "01-12-2022  12:47         2,311,913 Order_Id_2129919_a.pdf\n",
      "29-11-2022  16:30         2,262,677 Order_Id_2129919_final_pdf.pdf\n",
      "05-01-2023  16:02    <DIR>          Order_Id_2145622\n",
      "02-01-2023  16:37         1,372,132 Order_Id_2145721_3100_02012022.html\n",
      "04-01-2023  17:19    <DIR>          Order_Id_2145892_5540\n",
      "03-01-2023  13:21    <DIR>          Order_Id_2145949_1200_maths\n",
      "02-12-2022  18:18           562,344 order_no_2132070.zip\n",
      "19-08-2022  17:21                51 outfile.py\n",
      "24-09-2022  10:20    <DIR>          p1\n",
      "30-10-2023  17:17             6,071 p1ower.jpeg\n",
      "03-09-2022  19:21           118,785 p2.jpeg\n",
      "25-10-2022  21:51           611,052 Pandas Cheat Sheet.pdf\n",
      "06-11-2022  21:37         6,345,977 Pandas Dataframe Complete Cheatsheet.pdf\n",
      "04-07-2023  13:18           296,843 Pandas_12PM_04_07.ipynb\n",
      "01-12-2022  11:51        25,219,072 pandoc-2.19.2-windows-x86_64.msi\n",
      "10-03-2023  16:35       482,003,928 PBIDesktopSetup_x64.exe\n",
      "26-11-2023  18:01             7,429 pd.png\n",
      "29-09-2022  06:11            17,654 PDF_import_solved.xlsx\n",
      "30-11-2023  10:30             7,429 pdy.png\n",
      "16-12-2022  13:41            17,291 penalty grid (1).docx\n",
      "12-12-2022  12:47            17,291 penalty grid.docx\n",
      "15-01-2023  16:06    <DIR>          Phishing-Website-Detection-by-Machine-Learning-Techniques-master\n",
      "15-01-2023  15:59         2,843,304 Phishing-Website-Detection-by-Machine-Learning-Techniques-master.zip\n",
      "18-12-2022  11:25    <DIR>          phising\n",
      "26-04-2023  11:16            63,214 photo-1611003228941-98852ba62227.jpeg\n",
      "16-10-2022  12:06            46,240 pic1.jpg\n",
      "19-09-2022  18:42         1,180,881 Pima_diabetes_Tree.png\n",
      "26-01-2023  22:51           117,644 Pivot+Tables.xlsx\n",
      "19-05-2023  20:59         3,376,352 Plotly and Cufflinks Crash Course.ipynb.zip\n",
      "05-10-2023  13:07    <DIR>          Power Bi\n",
      "23-03-2023  14:51    <DIR>          Power BI Assignment\n",
      "18-05-2023  10:14    <DIR>          Power BI DAX-20230508T020104Z-001\n",
      "08-05-2023  07:31        15,004,554 Power BI DAX-20230508T020104Z-001.zip\n",
      "14-03-2023  09:12    <DIR>          Power BI Material-20230314T034136Z-001\n",
      "14-03-2023  09:12        90,687,244 Power BI Material-20230314T034136Z-001.zip\n",
      "18-09-2023  13:18        26,335,737 Power Bi.zip\n",
      "05-06-2023  11:16            20,082 Power_BI_Project.zip\n",
      "17-09-2022  10:41    <DIR>          PowerBi Project-20220917T050125Z-001\n",
      "05-06-2023  10:20    <DIR>          PowerBi Project-20230605T044903Z-001\n",
      "05-06-2023  10:19           216,335 PowerBi Project-20230605T044903Z-001.zip\n",
      "20-04-2023  20:54    <DIR>          Power-BI-raw-data-master\n",
      "20-04-2023  20:54         9,833,575 Power-BI-raw-data-master.zip\n",
      "11-10-2023  22:46         1,825,007 pp1.jpg\n",
      "11-10-2023  22:47         1,768,706 pp2.jpg\n",
      "11-10-2023  22:50         1,875,391 pp3.jpg\n",
      "11-10-2023  22:48         1,956,491 pp4.jpg\n",
      "11-10-2023  22:51         1,728,440 pp5.jpg\n",
      "11-10-2023  22:49         1,702,006 pp6.jpg\n",
      "11-10-2023  22:50         1,826,787 pp7.jpg\n",
      "13-01-2023  16:48    <DIR>          Practice\n",
      "24-09-2022  21:52    <DIR>          Presentations\n",
      "24-09-2022  21:52         1,317,567 Presentations.zip\n",
      "24-09-2022  16:20    <DIR>          Product-20211124T053757Z-001\n",
      "24-09-2022  16:19        19,548,195 Product-20211124T053757Z-001.zip\n",
      "16-10-2023  15:36           687,023 Production Dashboard Oct'2023.xlsx\n",
      "20-04-2023  11:10                 0 profit.txt\n",
      "29-07-2022  20:09         2,161,950 project discussion.pdf\n",
      "05-09-2022  15:16    <DIR>          Projects\n",
      "17-09-2023  01:18            11,605 Projects_17_09.ipynb\n",
      "03-09-2022  12:31            17,861 Proposal 8 26.docx\n",
      "24-03-2023  15:03       423,849,032 pycharm-community-2022.3.3.exe\n",
      "29-09-2023  17:42           536,487 pyspark.pdf\n",
      "18-03-2023  15:17    <DIR>          Python Basic Assignment\n",
      "04-04-2023  16:01        24,381,614 Python Programming.zip\n",
      "27-04-2023  11:39             2,842 python.jpeg\n",
      "30-12-2023  00:01             3,939 python_30.jpeg\n",
      "04-12-2023  17:23    <DIR>          Python_notes\n",
      "29-11-2023  17:34    <DIR>          Python_projects\n",
      "29-11-2023  11:08        17,730,015 Python_projects lakshay.zip\n",
      "01-12-2023  11:34         1,538,956 python_question.pdf\n",
      "14-09-2023  23:33         5,980,326 python_revision.pdf\n",
      "03-09-2023  00:40        31,830,944 python-3.6.8-amd64 (1).exe\n",
      "14-08-2023  00:59        31,830,944 python-3.6.8-amd64.exe\n",
      "13-03-2023  10:01                85 pythoncustom.py\n",
      "25-02-2023  11:09    <DIR>          python-data-science-mastercourse-main\n",
      "24-03-2023  15:41    <DIR>          python-programming-master-course-main\n",
      "29-11-2023  11:00         4,667,221 python-programming-master-course-main.zip\n",
      "13-03-2023  10:01                57 pythonproject.py\n",
      "20-04-2023  21:09    <DIR>          Python-Tutorial-2022--main\n",
      "20-04-2023  21:08        26,839,563 Python-Tutorial-2022--main.zip\n",
      "11-10-2022  12:47            45,893 PyTorch 1.1.ipynb\n",
      "29-09-2023  00:46           140,806 Question_Practice_set_1.ipynb\n",
      "08-01-2023  13:05           109,841 reference-examples.pdf\n",
      "08-01-2023  13:05           225,724 reference-guide.pdf\n",
      "08-01-2023  13:06            16,422 Report and article.docx\n",
      "11-12-2022  20:51        17,759,562 Report_bike_sharing_data.docx\n",
      "08-01-2023  13:07           543,960 research proposal template.pdf\n",
      "08-01-2023  13:04            83,430 research report.docx\n",
      "08-01-2023  13:04            21,086 research report_management.docx\n",
      "02-06-2023  11:09           414,671 resume_nov_27.pdf\n",
      "16-12-2023  15:57             6,129 resume16.jpg\n",
      "01-09-2023  17:59           454,759 Resume29_08.pdf\n",
      "05-06-2023  12:57         1,774,288 review scrapper (1).ipynb\n",
      "24-03-2023  15:15         1,766,609 review scrapper.ipynb\n",
      "25-03-2023  15:46           126,011 salary negotiation.jpg\n",
      "22-03-2023  13:32    <DIR>          Sales_data\n",
      "20-04-2023  11:03                 0 salesfile.txt\n",
      "30-08-2022  21:07                56 samplejson.json\n",
      "09-11-2022  12:07           410,816 Sanjay Kumar (1).pdf\n",
      "04-11-2022  15:56           301,712 Sanjay Kumar.pdf\n",
      "28-10-2023  23:52           254,099 Sanjay_kumar_cv.pdf\n",
      "27-01-2023  11:45           394,597 Sanjay_Kumar_Machine_Learning_Engineer (1).pdf\n",
      "29-01-2023  20:16           401,917 Sanjay_Kumar_Machine_Learning_Engineer (2).pdf\n",
      "09-02-2023  19:41           402,072 Sanjay_Kumar_Machine_Learning_Engineer (3).pdf\n",
      "23-01-2023  22:28           391,059 Sanjay_Kumar_Machine_Learning_Engineer.pdf\n",
      "19-04-2023  16:19                 0 sanjay19file.txt\n",
      "14-10-2022  00:16               621 Scaler_model_for.sav\n",
      "08-12-2022  18:27         3,369,928 scientific poster template.pptx\n",
      "24-03-2023  15:13    <DIR>          Scraper-20230324T092720Z-001\n",
      "05-06-2023  11:23    <DIR>          Scraper-20230605T055135Z-001\n",
      "29-11-2023  11:06        17,052,049 Scraper-20230605T055135Z-001 (1).zip\n",
      "05-06-2023  11:21        17,052,049 Scraper-20230605T055135Z-001.zip\n",
      "14-03-2023  11:43            87,613 sdfghjkl.csv\n",
      "27-12-2023  15:09            16,384 sdms.db\n",
      "03-12-2022  14:04             9,300 seeds_dataset (1).txt\n",
      "03-12-2022  13:57             9,300 seeds_dataset.txt\n",
      "10-03-2023  16:06           453,367 Selecting+the+right+Visuals(1st Oct_FSDA).pdf\n",
      "29-12-2022  13:00            26,084 sentiment_Analysis_updated.docx\n",
      "21-10-2023  21:31           426,231 Sep'23 (1).pdf\n",
      "26-10-2023  12:00           429,655 Sep'23 (2).pdf\n",
      "21-10-2023  21:28           427,423 Sep'23.pdf\n",
      "26-01-2023  17:00            13,813 Session7_Exercise.xlsx\n",
      "26-09-2022  05:51            26,456 Session9_Exercise.xlsx\n",
      "26-09-2022  14:42            73,387 Session9_Solution.xlsx\n",
      "26-12-2023  16:49            67,646 shopping-cart-add-button_icon-icons.com_56132 (1).ico\n",
      "09-12-2023  01:00            67,646 shopping-cart-add-button_icon-icons.com_56132.ico\n",
      "27-01-2023  10:36            21,982 Shortcuts.xlsx\n",
      "11-10-2022  22:35            14,460 sign sanjay.jpg\n",
      "13-03-2023  11:53            16,281 site-stats-concept-illustration_114360-1434.avif\n",
      "16-07-2023  14:41           944,546 sklearn.pdf\n",
      "14-10-2022  14:05    <DIR>          sklearn_tutorial-master\n",
      "14-10-2022  14:05           164,891 sklearn_tutorial-master.zip\n",
      "29-11-2023  11:39             8,874 sno.jpeg\n",
      "12-12-2022  11:28            10,942 social.png\n",
      "23-12-2021  00:06         1,733,053 speech.txt\n",
      "17-09-2022  11:03    <DIR>          Spend-20211123T045440Z-001.zip (Unzipped Files)-20220917T052232Z-001\n",
      "18-04-2023  10:12         1,090,767 SQL - ppt.pdf\n",
      "28-06-2022  15:57         1,563,052 SQL EXCLUSIVE NOTES .pdf\n",
      "01-08-2022  14:05         1,000,464 SQL interview preparation sheet.pdf\n",
      "03-12-2023  15:09             3,473 sql joins.png\n",
      "13-08-2022  11:16         3,677,483 SQL.pdf\n",
      "09-12-2023  13:11         5,481,314 sql_09_12.pdf\n",
      "24-06-2023  00:42             9,717 sql_24_10_23.sql\n",
      "18-03-2023  15:38    <DIR>          SQL_ASSIGNMENT\n",
      "26-02-2023  13:57             3,823 SQL_Commands.sql\n",
      "24-06-2023  00:44             3,823 SQL_Commands_24_06.sql\n",
      "21-11-2023  13:58        10,446,546 Sql_docs (2).zip\n",
      "22-07-2023  10:45        10,379,713 Sql_docs.zip\n",
      "26-11-2023  16:58    <DIR>          Sql_docs1\n",
      "26-11-2023  16:59        10,502,046 Sql_docs1.zip\n",
      "06-10-2023  21:46           207,612 SQL_pytyhon_30.ipynb\n",
      "01-12-2023  21:43               655 sql_questions_notes.txt\n",
      "14-12-2023  10:53           114,848 sql_quiz.pptx\n",
      "16-12-2023  10:56           114,936 sql_quiz_14_12.pptx\n",
      "03-12-2023  15:11            10,376 sqlquries.jpeg\n",
      "11-10-2022  22:49    <DIR>          SSC2022\n",
      "14-10-2022  23:09               621 standardScalar145.sav\n",
      "11-04-2023  09:39    <DIR>          Statistics\n",
      "15-04-2023  13:21            37,839 Stats and probability.ipynb\n",
      "29-06-2022  17:01         5,760,923 stats1.pdf\n",
      "05-04-2023  12:40            22,654 Stats10_12.ipynb\n",
      "29-06-2022  17:02         5,964,062 stats2.pdf\n",
      "29-06-2022  17:02         6,829,549 stats5.pdf\n",
      "26-03-2023  16:26             2,936 Stored_procedure.sql\n",
      "24-06-2023  17:32    <DIR>          Study_matirial\n",
      "08-05-2023  16:59        10,931,184 Sublime Text Build 3211 x64 Setup.exe\n",
      "19-06-2023  12:35         1,345,429 Superstore_12.xlsx\n",
      "30-07-2022  13:19            71,399 SWTM-2088_Atlassian-Git-Cheatsheet.pdf\n",
      "07-11-2022  12:54           777,410 t spaCy, NER(Named Entity Recognition),.pdf\n",
      "01-01-2024  17:50             2,144 tab.png\n",
      "03-05-2023  11:38            66,887 table (1).pdf\n",
      "04-04-2023  15:09            66,887 table.pdf\n",
      "14-08-2022  18:48           479,882 Task Details.pdf\n",
      "30-04-2023  14:34    <DIR>          Task_submission_modified\n",
      "30-04-2023  14:33         3,325,384 Task_submission_modified.zip\n",
      "08-12-2023  21:01    <DIR>          Telegram Desktop\n",
      "27-01-2023  11:23           397,382 teleresume.pdf\n",
      "11-10-2022  12:47            56,889 Tensorflow_1.1.ipynb\n",
      "27-02-2023  11:47            34,313 Tensorflow_1.2.ipynb\n",
      "03-11-2022  13:04                83 test.txt\n",
      "26-08-2022  22:20                33 test.txt.txt\n",
      "30-09-2023  17:43           462,016 test_sanjay.ipynb\n",
      "17-04-2023  10:49            21,957 test_Y3wMUE5_7gLdaTN.csv\n",
      "03-11-2022  13:28                 0 Test0211.txt\n",
      "19-04-2023  16:35               164 test1904.txt\n",
      "16-02-2023  18:08    <DIR>          TGC\n",
      "14-03-2023  14:56               152 tgc.txt\n",
      "02-07-2023  11:31    <DIR>          TGC_docs_15\n",
      "02-07-2023  11:30         7,012,024 TGC_docs_15.zip\n",
      "16-10-2023  10:09    <DIR>          TGC_Machine_learning\n",
      "11-10-2023  22:55           929,840 TGC's offer_appointment letter.pdf\n",
      "23-09-2022  17:37    <DIR>          time series-20220923T120550Z-001\n",
      "23-09-2022  14:34    <DIR>          timeSeries-20220923T083150Z-001\n",
      "04-03-2023  12:27             9,729 tips.csv\n",
      "19-04-2023  16:10                 0 Todayfile.txt\n",
      "18-11-1996  21:06        47,040,016 train-images.idx3-ubyte\n",
      "18-12-2022  12:17           800,920 Training Dataset.arff\n",
      "30-09-2023  15:04    <DIR>          Tree_Based\n",
      "30-09-2023  14:58         4,421,098 Tree_Based.zip\n",
      "08-12-2023  20:59        42,681,512 tsetup-x64.4.12.2.exe\n",
      "01-10-2022  21:27        37,431,504 tsetup-x64.4.2.4.exe\n",
      "08-01-2023  13:06         1,426,315 UNDRIP analysis (1).pptx\n",
      "23-11-2022  16:08         1,426,315 UNDRIP analysis.pptx\n",
      "19-08-2022  13:36                 0 untitled\n",
      "26-03-2023  14:10    <DIR>          Untitled Folder\n",
      "19-09-2023  22:02               576 Untitled.ipynb\n",
      "22-08-2022  13:56                 0 untitled.txt\n",
      "28-09-2023  22:29               576 Untitled1.ipynb\n",
      "20-10-2023  12:49             4,111 Untitled2.ipynb\n",
      "07-12-2023  17:16             2,887 Untitled3.ipynb\n",
      "14-12-2023  17:07             9,156 Untitled4.ipynb\n",
      "10-06-2023  00:10           413,994 updated_resume_10_06_23.pdf\n",
      "10-06-2023  00:09           413,994 Updatedresume.pdf\n",
      "31-03-2023  22:43           414,011 Updatedresume31.pdf\n",
      "08-01-2023  13:05            76,015 vancouver-style-guide.pdf\n",
      "04-03-2023  14:06        87,996,385 video1452294375.mp4\n",
      "20-05-2023  15:19         9,487,893 visualization_20_05_2023.zip\n",
      "19-05-2023  23:26    <DIR>          visualization-20230519T175447Z-001\n",
      "19-05-2023  23:24         2,680,457 visualization-20230519T175447Z-001.zip\n",
      "01-05-2023  15:41         8,602,951 Visuals.pbix\n",
      "01-05-2023  11:51           536,533 Visuals.pdf\n",
      "01-05-2023  11:51         3,054,791 Visuals.pptx\n",
      "24-08-2023  22:46        93,351,472 VSCodeUserSetup-x64-1.81.1 (1).exe\n",
      "14-08-2023  01:21        93,351,472 VSCodeUserSetup-x64-1.81.1.exe\n",
      "24-08-2023  22:49        93,974,920 VSCodeUserSetup-x64-1.82.0-insider.exe\n",
      "08-12-2023  22:06        94,757,840 VSCodeUserSetup-x64-1.85.0.exe\n",
      "09-05-2023  13:28           977,501 WA_Fn-UseC_-Telco-Customer-Churn (1).csv\n",
      "31-03-2023  17:06           977,501 WA_Fn-UseC_-Telco-Customer-Churn.csv\n",
      "04-06-2023  16:46    <DIR>          waferFaultDetection-20230604T083021Z-001\n",
      "04-06-2023  16:46       322,209,256 waferFaultDetection-20230604T083021Z-001.zip\n",
      "11-10-2022  23:34         3,151,765 Weekly Beepedia 1st-8th October 2022.pdf\n",
      "10-02-2024  00:50            74,777 What+is+a+REST+API.pdf\n",
      "03-09-2022  19:18           133,642 WhatsApp Image 2022-09-03 at 7.18.32 PM.jpeg\n",
      "12-12-2022  13:17            10,782 wine.data\n",
      "12-12-2022  13:17             3,036 wine.names\n",
      "16-07-2023  14:36         4,080,433 wine_classification.pdf\n",
      "30-12-2022  18:10         3,473,784 winrar-x64-611.exe\n",
      "10-03-2023  18:51           207,176 world-political-map-2020.jpg\n",
      "14-10-2022  00:12            45,749 XGboost_model.pickle\n",
      "05-06-2023  10:24           624,647 Youtube End to End Project Material-20230605T045355Z-001.zip\n",
      "10-12-2023  19:28            67,646 youtube_logo_icon_259362.ico\n",
      "18-03-2023  10:45       264,758,791 zoom (1).apk\n",
      "16-02-2023  13:08       261,370,621 zoom.apk\n",
      "             784 File(s) 27,414,242,921 bytes\n",
      "             160 Dir(s)  649,508,716,544 bytes free\n"
     ]
    }
   ],
   "source": [
    "ls"
   ]
  },
  {
   "cell_type": "code",
   "execution_count": 3,
   "id": "0cd29b96",
   "metadata": {},
   "outputs": [
    {
     "name": "stderr",
     "output_type": "stream",
     "text": [
      "C:\\Users\\skme2\\anaconda3\\lib\\site-packages\\numpy\\_distributor_init.py:30: UserWarning: loaded more than 1 DLL from .libs:\n",
      "C:\\Users\\skme2\\anaconda3\\lib\\site-packages\\numpy\\.libs\\libopenblas.EL2C6PLE4ZYW3ECEVIV3OXXGRN2NRFM2.gfortran-win_amd64.dll\n",
      "C:\\Users\\skme2\\anaconda3\\lib\\site-packages\\numpy\\.libs\\libopenblas.FB5AE2TYXYH2IJRDKGDGQ3XBKLKTF43H.gfortran-win_amd64.dll\n",
      "  warnings.warn(\"loaded more than 1 DLL from .libs:\"\n"
     ]
    }
   ],
   "source": [
    "import pandas as pd"
   ]
  },
  {
   "cell_type": "code",
   "execution_count": 4,
   "id": "d449f1cb",
   "metadata": {},
   "outputs": [],
   "source": [
    "df = pd.read_csv('https://gist.githubusercontent.com/curran/a08a1080b88344b0c8a7/raw/0e7a9b0a5d22642a06d3d5b9bcbad9890c8ee534/iris.csv')"
   ]
  },
  {
   "cell_type": "code",
   "execution_count": 5,
   "id": "fa16ff99",
   "metadata": {},
   "outputs": [
    {
     "data": {
      "text/html": [
       "<div>\n",
       "<style scoped>\n",
       "    .dataframe tbody tr th:only-of-type {\n",
       "        vertical-align: middle;\n",
       "    }\n",
       "\n",
       "    .dataframe tbody tr th {\n",
       "        vertical-align: top;\n",
       "    }\n",
       "\n",
       "    .dataframe thead th {\n",
       "        text-align: right;\n",
       "    }\n",
       "</style>\n",
       "<table border=\"1\" class=\"dataframe\">\n",
       "  <thead>\n",
       "    <tr style=\"text-align: right;\">\n",
       "      <th></th>\n",
       "      <th>sepal_length</th>\n",
       "      <th>sepal_width</th>\n",
       "      <th>petal_length</th>\n",
       "      <th>petal_width</th>\n",
       "      <th>species</th>\n",
       "    </tr>\n",
       "  </thead>\n",
       "  <tbody>\n",
       "    <tr>\n",
       "      <th>0</th>\n",
       "      <td>5.1</td>\n",
       "      <td>3.5</td>\n",
       "      <td>1.4</td>\n",
       "      <td>0.2</td>\n",
       "      <td>setosa</td>\n",
       "    </tr>\n",
       "    <tr>\n",
       "      <th>1</th>\n",
       "      <td>4.9</td>\n",
       "      <td>3.0</td>\n",
       "      <td>1.4</td>\n",
       "      <td>0.2</td>\n",
       "      <td>setosa</td>\n",
       "    </tr>\n",
       "    <tr>\n",
       "      <th>2</th>\n",
       "      <td>4.7</td>\n",
       "      <td>3.2</td>\n",
       "      <td>1.3</td>\n",
       "      <td>0.2</td>\n",
       "      <td>setosa</td>\n",
       "    </tr>\n",
       "    <tr>\n",
       "      <th>3</th>\n",
       "      <td>4.6</td>\n",
       "      <td>3.1</td>\n",
       "      <td>1.5</td>\n",
       "      <td>0.2</td>\n",
       "      <td>setosa</td>\n",
       "    </tr>\n",
       "    <tr>\n",
       "      <th>4</th>\n",
       "      <td>5.0</td>\n",
       "      <td>3.6</td>\n",
       "      <td>1.4</td>\n",
       "      <td>0.2</td>\n",
       "      <td>setosa</td>\n",
       "    </tr>\n",
       "    <tr>\n",
       "      <th>...</th>\n",
       "      <td>...</td>\n",
       "      <td>...</td>\n",
       "      <td>...</td>\n",
       "      <td>...</td>\n",
       "      <td>...</td>\n",
       "    </tr>\n",
       "    <tr>\n",
       "      <th>145</th>\n",
       "      <td>6.7</td>\n",
       "      <td>3.0</td>\n",
       "      <td>5.2</td>\n",
       "      <td>2.3</td>\n",
       "      <td>virginica</td>\n",
       "    </tr>\n",
       "    <tr>\n",
       "      <th>146</th>\n",
       "      <td>6.3</td>\n",
       "      <td>2.5</td>\n",
       "      <td>5.0</td>\n",
       "      <td>1.9</td>\n",
       "      <td>virginica</td>\n",
       "    </tr>\n",
       "    <tr>\n",
       "      <th>147</th>\n",
       "      <td>6.5</td>\n",
       "      <td>3.0</td>\n",
       "      <td>5.2</td>\n",
       "      <td>2.0</td>\n",
       "      <td>virginica</td>\n",
       "    </tr>\n",
       "    <tr>\n",
       "      <th>148</th>\n",
       "      <td>6.2</td>\n",
       "      <td>3.4</td>\n",
       "      <td>5.4</td>\n",
       "      <td>2.3</td>\n",
       "      <td>virginica</td>\n",
       "    </tr>\n",
       "    <tr>\n",
       "      <th>149</th>\n",
       "      <td>5.9</td>\n",
       "      <td>3.0</td>\n",
       "      <td>5.1</td>\n",
       "      <td>1.8</td>\n",
       "      <td>virginica</td>\n",
       "    </tr>\n",
       "  </tbody>\n",
       "</table>\n",
       "<p>150 rows × 5 columns</p>\n",
       "</div>"
      ],
      "text/plain": [
       "     sepal_length  sepal_width  petal_length  petal_width    species\n",
       "0             5.1          3.5           1.4          0.2     setosa\n",
       "1             4.9          3.0           1.4          0.2     setosa\n",
       "2             4.7          3.2           1.3          0.2     setosa\n",
       "3             4.6          3.1           1.5          0.2     setosa\n",
       "4             5.0          3.6           1.4          0.2     setosa\n",
       "..            ...          ...           ...          ...        ...\n",
       "145           6.7          3.0           5.2          2.3  virginica\n",
       "146           6.3          2.5           5.0          1.9  virginica\n",
       "147           6.5          3.0           5.2          2.0  virginica\n",
       "148           6.2          3.4           5.4          2.3  virginica\n",
       "149           5.9          3.0           5.1          1.8  virginica\n",
       "\n",
       "[150 rows x 5 columns]"
      ]
     },
     "execution_count": 5,
     "metadata": {},
     "output_type": "execute_result"
    }
   ],
   "source": [
    "df"
   ]
  },
  {
   "cell_type": "code",
   "execution_count": 427,
   "id": "f068d201",
   "metadata": {},
   "outputs": [
    {
     "data": {
      "text/plain": [
       "pandas.core.frame.DataFrame"
      ]
     },
     "execution_count": 427,
     "metadata": {},
     "output_type": "execute_result"
    }
   ],
   "source": [
    "type(df)"
   ]
  },
  {
   "cell_type": "code",
   "execution_count": 428,
   "id": "c4ed8e6f",
   "metadata": {},
   "outputs": [
    {
     "data": {
      "text/html": [
       "<div>\n",
       "<style scoped>\n",
       "    .dataframe tbody tr th:only-of-type {\n",
       "        vertical-align: middle;\n",
       "    }\n",
       "\n",
       "    .dataframe tbody tr th {\n",
       "        vertical-align: top;\n",
       "    }\n",
       "\n",
       "    .dataframe thead th {\n",
       "        text-align: right;\n",
       "    }\n",
       "</style>\n",
       "<table border=\"1\" class=\"dataframe\">\n",
       "  <thead>\n",
       "    <tr style=\"text-align: right;\">\n",
       "      <th></th>\n",
       "      <th>sepal_length</th>\n",
       "      <th>sepal_width</th>\n",
       "      <th>petal_length</th>\n",
       "      <th>petal_width</th>\n",
       "      <th>species</th>\n",
       "    </tr>\n",
       "  </thead>\n",
       "  <tbody>\n",
       "    <tr>\n",
       "      <th>0</th>\n",
       "      <td>5.1</td>\n",
       "      <td>3.5</td>\n",
       "      <td>1.4</td>\n",
       "      <td>0.2</td>\n",
       "      <td>setosa</td>\n",
       "    </tr>\n",
       "    <tr>\n",
       "      <th>1</th>\n",
       "      <td>4.9</td>\n",
       "      <td>3.0</td>\n",
       "      <td>1.4</td>\n",
       "      <td>0.2</td>\n",
       "      <td>setosa</td>\n",
       "    </tr>\n",
       "    <tr>\n",
       "      <th>2</th>\n",
       "      <td>4.7</td>\n",
       "      <td>3.2</td>\n",
       "      <td>1.3</td>\n",
       "      <td>0.2</td>\n",
       "      <td>setosa</td>\n",
       "    </tr>\n",
       "    <tr>\n",
       "      <th>3</th>\n",
       "      <td>4.6</td>\n",
       "      <td>3.1</td>\n",
       "      <td>1.5</td>\n",
       "      <td>0.2</td>\n",
       "      <td>setosa</td>\n",
       "    </tr>\n",
       "    <tr>\n",
       "      <th>4</th>\n",
       "      <td>5.0</td>\n",
       "      <td>3.6</td>\n",
       "      <td>1.4</td>\n",
       "      <td>0.2</td>\n",
       "      <td>setosa</td>\n",
       "    </tr>\n",
       "  </tbody>\n",
       "</table>\n",
       "</div>"
      ],
      "text/plain": [
       "   sepal_length  sepal_width  petal_length  petal_width species\n",
       "0           5.1          3.5           1.4          0.2  setosa\n",
       "1           4.9          3.0           1.4          0.2  setosa\n",
       "2           4.7          3.2           1.3          0.2  setosa\n",
       "3           4.6          3.1           1.5          0.2  setosa\n",
       "4           5.0          3.6           1.4          0.2  setosa"
      ]
     },
     "execution_count": 428,
     "metadata": {},
     "output_type": "execute_result"
    }
   ],
   "source": [
    "df.head()"
   ]
  },
  {
   "cell_type": "code",
   "execution_count": 429,
   "id": "3eef5575",
   "metadata": {},
   "outputs": [
    {
     "data": {
      "text/html": [
       "<div>\n",
       "<style scoped>\n",
       "    .dataframe tbody tr th:only-of-type {\n",
       "        vertical-align: middle;\n",
       "    }\n",
       "\n",
       "    .dataframe tbody tr th {\n",
       "        vertical-align: top;\n",
       "    }\n",
       "\n",
       "    .dataframe thead th {\n",
       "        text-align: right;\n",
       "    }\n",
       "</style>\n",
       "<table border=\"1\" class=\"dataframe\">\n",
       "  <thead>\n",
       "    <tr style=\"text-align: right;\">\n",
       "      <th></th>\n",
       "      <th>sepal_length</th>\n",
       "      <th>sepal_width</th>\n",
       "      <th>petal_length</th>\n",
       "      <th>petal_width</th>\n",
       "      <th>species</th>\n",
       "    </tr>\n",
       "  </thead>\n",
       "  <tbody>\n",
       "    <tr>\n",
       "      <th>145</th>\n",
       "      <td>6.7</td>\n",
       "      <td>3.0</td>\n",
       "      <td>5.2</td>\n",
       "      <td>2.3</td>\n",
       "      <td>virginica</td>\n",
       "    </tr>\n",
       "    <tr>\n",
       "      <th>146</th>\n",
       "      <td>6.3</td>\n",
       "      <td>2.5</td>\n",
       "      <td>5.0</td>\n",
       "      <td>1.9</td>\n",
       "      <td>virginica</td>\n",
       "    </tr>\n",
       "    <tr>\n",
       "      <th>147</th>\n",
       "      <td>6.5</td>\n",
       "      <td>3.0</td>\n",
       "      <td>5.2</td>\n",
       "      <td>2.0</td>\n",
       "      <td>virginica</td>\n",
       "    </tr>\n",
       "    <tr>\n",
       "      <th>148</th>\n",
       "      <td>6.2</td>\n",
       "      <td>3.4</td>\n",
       "      <td>5.4</td>\n",
       "      <td>2.3</td>\n",
       "      <td>virginica</td>\n",
       "    </tr>\n",
       "    <tr>\n",
       "      <th>149</th>\n",
       "      <td>5.9</td>\n",
       "      <td>3.0</td>\n",
       "      <td>5.1</td>\n",
       "      <td>1.8</td>\n",
       "      <td>virginica</td>\n",
       "    </tr>\n",
       "  </tbody>\n",
       "</table>\n",
       "</div>"
      ],
      "text/plain": [
       "     sepal_length  sepal_width  petal_length  petal_width    species\n",
       "145           6.7          3.0           5.2          2.3  virginica\n",
       "146           6.3          2.5           5.0          1.9  virginica\n",
       "147           6.5          3.0           5.2          2.0  virginica\n",
       "148           6.2          3.4           5.4          2.3  virginica\n",
       "149           5.9          3.0           5.1          1.8  virginica"
      ]
     },
     "execution_count": 429,
     "metadata": {},
     "output_type": "execute_result"
    }
   ],
   "source": [
    "df.tail()"
   ]
  },
  {
   "cell_type": "code",
   "execution_count": 430,
   "id": "c5a4bba0",
   "metadata": {},
   "outputs": [
    {
     "data": {
      "text/html": [
       "<div>\n",
       "<style scoped>\n",
       "    .dataframe tbody tr th:only-of-type {\n",
       "        vertical-align: middle;\n",
       "    }\n",
       "\n",
       "    .dataframe tbody tr th {\n",
       "        vertical-align: top;\n",
       "    }\n",
       "\n",
       "    .dataframe thead th {\n",
       "        text-align: right;\n",
       "    }\n",
       "</style>\n",
       "<table border=\"1\" class=\"dataframe\">\n",
       "  <thead>\n",
       "    <tr style=\"text-align: right;\">\n",
       "      <th></th>\n",
       "      <th>sepal_length</th>\n",
       "      <th>sepal_width</th>\n",
       "      <th>petal_length</th>\n",
       "      <th>petal_width</th>\n",
       "      <th>species</th>\n",
       "    </tr>\n",
       "  </thead>\n",
       "  <tbody>\n",
       "    <tr>\n",
       "      <th>32</th>\n",
       "      <td>5.2</td>\n",
       "      <td>4.1</td>\n",
       "      <td>1.5</td>\n",
       "      <td>0.1</td>\n",
       "      <td>setosa</td>\n",
       "    </tr>\n",
       "  </tbody>\n",
       "</table>\n",
       "</div>"
      ],
      "text/plain": [
       "    sepal_length  sepal_width  petal_length  petal_width species\n",
       "32           5.2          4.1           1.5          0.1  setosa"
      ]
     },
     "execution_count": 430,
     "metadata": {},
     "output_type": "execute_result"
    }
   ],
   "source": [
    "df.sample()"
   ]
  },
  {
   "cell_type": "code",
   "execution_count": 431,
   "id": "da65f452",
   "metadata": {},
   "outputs": [
    {
     "data": {
      "text/plain": [
       "(150, 5)"
      ]
     },
     "execution_count": 431,
     "metadata": {},
     "output_type": "execute_result"
    }
   ],
   "source": [
    "df.shape"
   ]
  },
  {
   "cell_type": "code",
   "execution_count": 432,
   "id": "377a230e",
   "metadata": {},
   "outputs": [
    {
     "data": {
      "text/plain": [
       "sepal_length    float64\n",
       "sepal_width     float64\n",
       "petal_length    float64\n",
       "petal_width     float64\n",
       "species          object\n",
       "dtype: object"
      ]
     },
     "execution_count": 432,
     "metadata": {},
     "output_type": "execute_result"
    }
   ],
   "source": [
    "df.dtypes"
   ]
  },
  {
   "cell_type": "code",
   "execution_count": 433,
   "id": "b8f25db2",
   "metadata": {},
   "outputs": [
    {
     "data": {
      "text/plain": [
       "RangeIndex(start=0, stop=150, step=1)"
      ]
     },
     "execution_count": 433,
     "metadata": {},
     "output_type": "execute_result"
    }
   ],
   "source": [
    "df.index"
   ]
  },
  {
   "cell_type": "code",
   "execution_count": 434,
   "id": "fbd23966",
   "metadata": {},
   "outputs": [
    {
     "data": {
      "text/plain": [
       "Index(['sepal_length', 'sepal_width', 'petal_length', 'petal_width',\n",
       "       'species'],\n",
       "      dtype='object')"
      ]
     },
     "execution_count": 434,
     "metadata": {},
     "output_type": "execute_result"
    }
   ],
   "source": [
    "df.columns"
   ]
  },
  {
   "cell_type": "code",
   "execution_count": 435,
   "id": "efd06297",
   "metadata": {},
   "outputs": [
    {
     "name": "stdout",
     "output_type": "stream",
     "text": [
      "<class 'pandas.core.frame.DataFrame'>\n",
      "RangeIndex: 150 entries, 0 to 149\n",
      "Data columns (total 5 columns):\n",
      " #   Column        Non-Null Count  Dtype  \n",
      "---  ------        --------------  -----  \n",
      " 0   sepal_length  150 non-null    float64\n",
      " 1   sepal_width   150 non-null    float64\n",
      " 2   petal_length  150 non-null    float64\n",
      " 3   petal_width   150 non-null    float64\n",
      " 4   species       150 non-null    object \n",
      "dtypes: float64(4), object(1)\n",
      "memory usage: 6.0+ KB\n"
     ]
    }
   ],
   "source": [
    "df.info()"
   ]
  },
  {
   "cell_type": "code",
   "execution_count": 436,
   "id": "12a71582",
   "metadata": {},
   "outputs": [
    {
     "data": {
      "text/html": [
       "<div>\n",
       "<style scoped>\n",
       "    .dataframe tbody tr th:only-of-type {\n",
       "        vertical-align: middle;\n",
       "    }\n",
       "\n",
       "    .dataframe tbody tr th {\n",
       "        vertical-align: top;\n",
       "    }\n",
       "\n",
       "    .dataframe thead th {\n",
       "        text-align: right;\n",
       "    }\n",
       "</style>\n",
       "<table border=\"1\" class=\"dataframe\">\n",
       "  <thead>\n",
       "    <tr style=\"text-align: right;\">\n",
       "      <th></th>\n",
       "      <th>sepal_length</th>\n",
       "      <th>sepal_width</th>\n",
       "      <th>petal_length</th>\n",
       "      <th>petal_width</th>\n",
       "    </tr>\n",
       "  </thead>\n",
       "  <tbody>\n",
       "    <tr>\n",
       "      <th>count</th>\n",
       "      <td>150.000000</td>\n",
       "      <td>150.000000</td>\n",
       "      <td>150.000000</td>\n",
       "      <td>150.000000</td>\n",
       "    </tr>\n",
       "    <tr>\n",
       "      <th>mean</th>\n",
       "      <td>5.843333</td>\n",
       "      <td>3.054000</td>\n",
       "      <td>3.758667</td>\n",
       "      <td>1.198667</td>\n",
       "    </tr>\n",
       "    <tr>\n",
       "      <th>std</th>\n",
       "      <td>0.828066</td>\n",
       "      <td>0.433594</td>\n",
       "      <td>1.764420</td>\n",
       "      <td>0.763161</td>\n",
       "    </tr>\n",
       "    <tr>\n",
       "      <th>min</th>\n",
       "      <td>4.300000</td>\n",
       "      <td>2.000000</td>\n",
       "      <td>1.000000</td>\n",
       "      <td>0.100000</td>\n",
       "    </tr>\n",
       "    <tr>\n",
       "      <th>25%</th>\n",
       "      <td>5.100000</td>\n",
       "      <td>2.800000</td>\n",
       "      <td>1.600000</td>\n",
       "      <td>0.300000</td>\n",
       "    </tr>\n",
       "    <tr>\n",
       "      <th>50%</th>\n",
       "      <td>5.800000</td>\n",
       "      <td>3.000000</td>\n",
       "      <td>4.350000</td>\n",
       "      <td>1.300000</td>\n",
       "    </tr>\n",
       "    <tr>\n",
       "      <th>75%</th>\n",
       "      <td>6.400000</td>\n",
       "      <td>3.300000</td>\n",
       "      <td>5.100000</td>\n",
       "      <td>1.800000</td>\n",
       "    </tr>\n",
       "    <tr>\n",
       "      <th>max</th>\n",
       "      <td>7.900000</td>\n",
       "      <td>4.400000</td>\n",
       "      <td>6.900000</td>\n",
       "      <td>2.500000</td>\n",
       "    </tr>\n",
       "  </tbody>\n",
       "</table>\n",
       "</div>"
      ],
      "text/plain": [
       "       sepal_length  sepal_width  petal_length  petal_width\n",
       "count    150.000000   150.000000    150.000000   150.000000\n",
       "mean       5.843333     3.054000      3.758667     1.198667\n",
       "std        0.828066     0.433594      1.764420     0.763161\n",
       "min        4.300000     2.000000      1.000000     0.100000\n",
       "25%        5.100000     2.800000      1.600000     0.300000\n",
       "50%        5.800000     3.000000      4.350000     1.300000\n",
       "75%        6.400000     3.300000      5.100000     1.800000\n",
       "max        7.900000     4.400000      6.900000     2.500000"
      ]
     },
     "execution_count": 436,
     "metadata": {},
     "output_type": "execute_result"
    }
   ],
   "source": [
    "df.describe()"
   ]
  },
  {
   "cell_type": "code",
   "execution_count": 440,
   "id": "362d6f8c",
   "metadata": {},
   "outputs": [
    {
     "data": {
      "text/html": [
       "<div>\n",
       "<style scoped>\n",
       "    .dataframe tbody tr th:only-of-type {\n",
       "        vertical-align: middle;\n",
       "    }\n",
       "\n",
       "    .dataframe tbody tr th {\n",
       "        vertical-align: top;\n",
       "    }\n",
       "\n",
       "    .dataframe thead th {\n",
       "        text-align: right;\n",
       "    }\n",
       "</style>\n",
       "<table border=\"1\" class=\"dataframe\">\n",
       "  <thead>\n",
       "    <tr style=\"text-align: right;\">\n",
       "      <th></th>\n",
       "      <th>sepal_length</th>\n",
       "      <th>sepal_width</th>\n",
       "      <th>petal_length</th>\n",
       "      <th>petal_width</th>\n",
       "      <th>species</th>\n",
       "    </tr>\n",
       "  </thead>\n",
       "  <tbody>\n",
       "    <tr>\n",
       "      <th>0</th>\n",
       "      <td>5.1</td>\n",
       "      <td>3.5</td>\n",
       "      <td>1.4</td>\n",
       "      <td>0.2</td>\n",
       "      <td>setosa</td>\n",
       "    </tr>\n",
       "    <tr>\n",
       "      <th>1</th>\n",
       "      <td>4.9</td>\n",
       "      <td>3.0</td>\n",
       "      <td>1.4</td>\n",
       "      <td>0.2</td>\n",
       "      <td>setosa</td>\n",
       "    </tr>\n",
       "    <tr>\n",
       "      <th>2</th>\n",
       "      <td>4.7</td>\n",
       "      <td>3.2</td>\n",
       "      <td>1.3</td>\n",
       "      <td>0.2</td>\n",
       "      <td>setosa</td>\n",
       "    </tr>\n",
       "    <tr>\n",
       "      <th>3</th>\n",
       "      <td>4.6</td>\n",
       "      <td>3.1</td>\n",
       "      <td>1.5</td>\n",
       "      <td>0.2</td>\n",
       "      <td>setosa</td>\n",
       "    </tr>\n",
       "    <tr>\n",
       "      <th>4</th>\n",
       "      <td>5.0</td>\n",
       "      <td>3.6</td>\n",
       "      <td>1.4</td>\n",
       "      <td>0.2</td>\n",
       "      <td>setosa</td>\n",
       "    </tr>\n",
       "    <tr>\n",
       "      <th>...</th>\n",
       "      <td>...</td>\n",
       "      <td>...</td>\n",
       "      <td>...</td>\n",
       "      <td>...</td>\n",
       "      <td>...</td>\n",
       "    </tr>\n",
       "    <tr>\n",
       "      <th>145</th>\n",
       "      <td>6.7</td>\n",
       "      <td>3.0</td>\n",
       "      <td>5.2</td>\n",
       "      <td>2.3</td>\n",
       "      <td>virginica</td>\n",
       "    </tr>\n",
       "    <tr>\n",
       "      <th>146</th>\n",
       "      <td>6.3</td>\n",
       "      <td>2.5</td>\n",
       "      <td>5.0</td>\n",
       "      <td>1.9</td>\n",
       "      <td>virginica</td>\n",
       "    </tr>\n",
       "    <tr>\n",
       "      <th>147</th>\n",
       "      <td>6.5</td>\n",
       "      <td>3.0</td>\n",
       "      <td>5.2</td>\n",
       "      <td>2.0</td>\n",
       "      <td>virginica</td>\n",
       "    </tr>\n",
       "    <tr>\n",
       "      <th>148</th>\n",
       "      <td>6.2</td>\n",
       "      <td>3.4</td>\n",
       "      <td>5.4</td>\n",
       "      <td>2.3</td>\n",
       "      <td>virginica</td>\n",
       "    </tr>\n",
       "    <tr>\n",
       "      <th>149</th>\n",
       "      <td>5.9</td>\n",
       "      <td>3.0</td>\n",
       "      <td>5.1</td>\n",
       "      <td>1.8</td>\n",
       "      <td>virginica</td>\n",
       "    </tr>\n",
       "  </tbody>\n",
       "</table>\n",
       "<p>150 rows × 5 columns</p>\n",
       "</div>"
      ],
      "text/plain": [
       "     sepal_length  sepal_width  petal_length  petal_width    species\n",
       "0             5.1          3.5           1.4          0.2     setosa\n",
       "1             4.9          3.0           1.4          0.2     setosa\n",
       "2             4.7          3.2           1.3          0.2     setosa\n",
       "3             4.6          3.1           1.5          0.2     setosa\n",
       "4             5.0          3.6           1.4          0.2     setosa\n",
       "..            ...          ...           ...          ...        ...\n",
       "145           6.7          3.0           5.2          2.3  virginica\n",
       "146           6.3          2.5           5.0          1.9  virginica\n",
       "147           6.5          3.0           5.2          2.0  virginica\n",
       "148           6.2          3.4           5.4          2.3  virginica\n",
       "149           5.9          3.0           5.1          1.8  virginica\n",
       "\n",
       "[150 rows x 5 columns]"
      ]
     },
     "execution_count": 440,
     "metadata": {},
     "output_type": "execute_result"
    }
   ],
   "source": [
    "df"
   ]
  },
  {
   "cell_type": "code",
   "execution_count": 441,
   "id": "e2eb1eb2",
   "metadata": {},
   "outputs": [
    {
     "ename": "TypeError",
     "evalue": "'<=' not supported between instances of 'int' and 'numpy.str_'",
     "output_type": "error",
     "traceback": [
      "\u001b[1;31m---------------------------------------------------------------------------\u001b[0m",
      "\u001b[1;31mTypeError\u001b[0m                                 Traceback (most recent call last)",
      "\u001b[1;32m<ipython-input-441-00782c7d6701>\u001b[0m in \u001b[0;36m<module>\u001b[1;34m\u001b[0m\n\u001b[1;32m----> 1\u001b[1;33m \u001b[0mdf\u001b[0m\u001b[1;33m.\u001b[0m\u001b[0mdescribe\u001b[0m\u001b[1;33m(\u001b[0m\u001b[1;34m'all'\u001b[0m\u001b[1;33m)\u001b[0m\u001b[1;33m\u001b[0m\u001b[1;33m\u001b[0m\u001b[0m\n\u001b[0m",
      "\u001b[1;32m~\\anaconda3\\lib\\site-packages\\pandas\\core\\generic.py\u001b[0m in \u001b[0;36mdescribe\u001b[1;34m(self, percentiles, include, exclude, datetime_is_numeric)\u001b[0m\n\u001b[0;32m  10938\u001b[0m         \u001b[0mmax\u001b[0m            \u001b[0mNaN\u001b[0m      \u001b[1;36m3.0\u001b[0m\u001b[1;33m\u001b[0m\u001b[1;33m\u001b[0m\u001b[0m\n\u001b[0;32m  10939\u001b[0m         \"\"\"\n\u001b[1;32m> 10940\u001b[1;33m         return describe_ndframe(\n\u001b[0m\u001b[0;32m  10941\u001b[0m             \u001b[0mobj\u001b[0m\u001b[1;33m=\u001b[0m\u001b[0mself\u001b[0m\u001b[1;33m,\u001b[0m\u001b[1;33m\u001b[0m\u001b[1;33m\u001b[0m\u001b[0m\n\u001b[0;32m  10942\u001b[0m             \u001b[0minclude\u001b[0m\u001b[1;33m=\u001b[0m\u001b[0minclude\u001b[0m\u001b[1;33m,\u001b[0m\u001b[1;33m\u001b[0m\u001b[1;33m\u001b[0m\u001b[0m\n",
      "\u001b[1;32m~\\anaconda3\\lib\\site-packages\\pandas\\core\\describe.py\u001b[0m in \u001b[0;36mdescribe_ndframe\u001b[1;34m(obj, include, exclude, datetime_is_numeric, percentiles)\u001b[0m\n\u001b[0;32m     83\u001b[0m     \u001b[0mDataframe\u001b[0m \u001b[1;32mor\u001b[0m \u001b[0mseries\u001b[0m \u001b[0mdescription\u001b[0m\u001b[1;33m.\u001b[0m\u001b[1;33m\u001b[0m\u001b[1;33m\u001b[0m\u001b[0m\n\u001b[0;32m     84\u001b[0m     \"\"\"\n\u001b[1;32m---> 85\u001b[1;33m     \u001b[0mpercentiles\u001b[0m \u001b[1;33m=\u001b[0m \u001b[0mrefine_percentiles\u001b[0m\u001b[1;33m(\u001b[0m\u001b[0mpercentiles\u001b[0m\u001b[1;33m)\u001b[0m\u001b[1;33m\u001b[0m\u001b[1;33m\u001b[0m\u001b[0m\n\u001b[0m\u001b[0;32m     86\u001b[0m \u001b[1;33m\u001b[0m\u001b[0m\n\u001b[0;32m     87\u001b[0m     \u001b[0mdescriber\u001b[0m\u001b[1;33m:\u001b[0m \u001b[0mNDFrameDescriberAbstract\u001b[0m\u001b[1;33m\u001b[0m\u001b[1;33m\u001b[0m\u001b[0m\n",
      "\u001b[1;32m~\\anaconda3\\lib\\site-packages\\pandas\\core\\describe.py\u001b[0m in \u001b[0;36mrefine_percentiles\u001b[1;34m(percentiles)\u001b[0m\n\u001b[0;32m    413\u001b[0m \u001b[1;33m\u001b[0m\u001b[0m\n\u001b[0;32m    414\u001b[0m     \u001b[1;31m# get them all to be in [0, 1]\u001b[0m\u001b[1;33m\u001b[0m\u001b[1;33m\u001b[0m\u001b[1;33m\u001b[0m\u001b[0m\n\u001b[1;32m--> 415\u001b[1;33m     \u001b[0mvalidate_percentile\u001b[0m\u001b[1;33m(\u001b[0m\u001b[0mpercentiles\u001b[0m\u001b[1;33m)\u001b[0m\u001b[1;33m\u001b[0m\u001b[1;33m\u001b[0m\u001b[0m\n\u001b[0m\u001b[0;32m    416\u001b[0m \u001b[1;33m\u001b[0m\u001b[0m\n\u001b[0;32m    417\u001b[0m     \u001b[1;31m# median should always be included\u001b[0m\u001b[1;33m\u001b[0m\u001b[1;33m\u001b[0m\u001b[1;33m\u001b[0m\u001b[0m\n",
      "\u001b[1;32m~\\anaconda3\\lib\\site-packages\\pandas\\util\\_validators.py\u001b[0m in \u001b[0;36mvalidate_percentile\u001b[1;34m(q)\u001b[0m\n\u001b[0;32m    432\u001b[0m             \u001b[1;32mraise\u001b[0m \u001b[0mValueError\u001b[0m\u001b[1;33m(\u001b[0m\u001b[0mmsg\u001b[0m\u001b[1;33m.\u001b[0m\u001b[0mformat\u001b[0m\u001b[1;33m(\u001b[0m\u001b[0mq_arr\u001b[0m \u001b[1;33m/\u001b[0m \u001b[1;36m100.0\u001b[0m\u001b[1;33m)\u001b[0m\u001b[1;33m)\u001b[0m\u001b[1;33m\u001b[0m\u001b[1;33m\u001b[0m\u001b[0m\n\u001b[0;32m    433\u001b[0m     \u001b[1;32melse\u001b[0m\u001b[1;33m:\u001b[0m\u001b[1;33m\u001b[0m\u001b[1;33m\u001b[0m\u001b[0m\n\u001b[1;32m--> 434\u001b[1;33m         \u001b[1;32mif\u001b[0m \u001b[1;32mnot\u001b[0m \u001b[0mall\u001b[0m\u001b[1;33m(\u001b[0m\u001b[1;36m0\u001b[0m \u001b[1;33m<=\u001b[0m \u001b[0mqs\u001b[0m \u001b[1;33m<=\u001b[0m \u001b[1;36m1\u001b[0m \u001b[1;32mfor\u001b[0m \u001b[0mqs\u001b[0m \u001b[1;32min\u001b[0m \u001b[0mq_arr\u001b[0m\u001b[1;33m)\u001b[0m\u001b[1;33m:\u001b[0m\u001b[1;33m\u001b[0m\u001b[1;33m\u001b[0m\u001b[0m\n\u001b[0m\u001b[0;32m    435\u001b[0m             \u001b[1;32mraise\u001b[0m \u001b[0mValueError\u001b[0m\u001b[1;33m(\u001b[0m\u001b[0mmsg\u001b[0m\u001b[1;33m.\u001b[0m\u001b[0mformat\u001b[0m\u001b[1;33m(\u001b[0m\u001b[0mq_arr\u001b[0m \u001b[1;33m/\u001b[0m \u001b[1;36m100.0\u001b[0m\u001b[1;33m)\u001b[0m\u001b[1;33m)\u001b[0m\u001b[1;33m\u001b[0m\u001b[1;33m\u001b[0m\u001b[0m\n\u001b[0;32m    436\u001b[0m     \u001b[1;32mreturn\u001b[0m \u001b[0mq_arr\u001b[0m\u001b[1;33m\u001b[0m\u001b[1;33m\u001b[0m\u001b[0m\n",
      "\u001b[1;32m~\\anaconda3\\lib\\site-packages\\pandas\\util\\_validators.py\u001b[0m in \u001b[0;36m<genexpr>\u001b[1;34m(.0)\u001b[0m\n\u001b[0;32m    432\u001b[0m             \u001b[1;32mraise\u001b[0m \u001b[0mValueError\u001b[0m\u001b[1;33m(\u001b[0m\u001b[0mmsg\u001b[0m\u001b[1;33m.\u001b[0m\u001b[0mformat\u001b[0m\u001b[1;33m(\u001b[0m\u001b[0mq_arr\u001b[0m \u001b[1;33m/\u001b[0m \u001b[1;36m100.0\u001b[0m\u001b[1;33m)\u001b[0m\u001b[1;33m)\u001b[0m\u001b[1;33m\u001b[0m\u001b[1;33m\u001b[0m\u001b[0m\n\u001b[0;32m    433\u001b[0m     \u001b[1;32melse\u001b[0m\u001b[1;33m:\u001b[0m\u001b[1;33m\u001b[0m\u001b[1;33m\u001b[0m\u001b[0m\n\u001b[1;32m--> 434\u001b[1;33m         \u001b[1;32mif\u001b[0m \u001b[1;32mnot\u001b[0m \u001b[0mall\u001b[0m\u001b[1;33m(\u001b[0m\u001b[1;36m0\u001b[0m \u001b[1;33m<=\u001b[0m \u001b[0mqs\u001b[0m \u001b[1;33m<=\u001b[0m \u001b[1;36m1\u001b[0m \u001b[1;32mfor\u001b[0m \u001b[0mqs\u001b[0m \u001b[1;32min\u001b[0m \u001b[0mq_arr\u001b[0m\u001b[1;33m)\u001b[0m\u001b[1;33m:\u001b[0m\u001b[1;33m\u001b[0m\u001b[1;33m\u001b[0m\u001b[0m\n\u001b[0m\u001b[0;32m    435\u001b[0m             \u001b[1;32mraise\u001b[0m \u001b[0mValueError\u001b[0m\u001b[1;33m(\u001b[0m\u001b[0mmsg\u001b[0m\u001b[1;33m.\u001b[0m\u001b[0mformat\u001b[0m\u001b[1;33m(\u001b[0m\u001b[0mq_arr\u001b[0m \u001b[1;33m/\u001b[0m \u001b[1;36m100.0\u001b[0m\u001b[1;33m)\u001b[0m\u001b[1;33m)\u001b[0m\u001b[1;33m\u001b[0m\u001b[1;33m\u001b[0m\u001b[0m\n\u001b[0;32m    436\u001b[0m     \u001b[1;32mreturn\u001b[0m \u001b[0mq_arr\u001b[0m\u001b[1;33m\u001b[0m\u001b[1;33m\u001b[0m\u001b[0m\n",
      "\u001b[1;31mTypeError\u001b[0m: '<=' not supported between instances of 'int' and 'numpy.str_'"
     ]
    }
   ],
   "source": [
    "df.describe('all')"
   ]
  },
  {
   "cell_type": "code",
   "execution_count": 442,
   "id": "2d072255",
   "metadata": {},
   "outputs": [
    {
     "data": {
      "text/html": [
       "<div>\n",
       "<style scoped>\n",
       "    .dataframe tbody tr th:only-of-type {\n",
       "        vertical-align: middle;\n",
       "    }\n",
       "\n",
       "    .dataframe tbody tr th {\n",
       "        vertical-align: top;\n",
       "    }\n",
       "\n",
       "    .dataframe thead th {\n",
       "        text-align: right;\n",
       "    }\n",
       "</style>\n",
       "<table border=\"1\" class=\"dataframe\">\n",
       "  <thead>\n",
       "    <tr style=\"text-align: right;\">\n",
       "      <th></th>\n",
       "      <th>sepal_length</th>\n",
       "      <th>sepal_width</th>\n",
       "      <th>petal_length</th>\n",
       "      <th>petal_width</th>\n",
       "      <th>species</th>\n",
       "    </tr>\n",
       "  </thead>\n",
       "  <tbody>\n",
       "    <tr>\n",
       "      <th>0</th>\n",
       "      <td>5.1</td>\n",
       "      <td>3.5</td>\n",
       "      <td>1.4</td>\n",
       "      <td>0.2</td>\n",
       "      <td>setosa</td>\n",
       "    </tr>\n",
       "    <tr>\n",
       "      <th>1</th>\n",
       "      <td>4.9</td>\n",
       "      <td>3.0</td>\n",
       "      <td>1.4</td>\n",
       "      <td>0.2</td>\n",
       "      <td>setosa</td>\n",
       "    </tr>\n",
       "    <tr>\n",
       "      <th>2</th>\n",
       "      <td>4.7</td>\n",
       "      <td>3.2</td>\n",
       "      <td>1.3</td>\n",
       "      <td>0.2</td>\n",
       "      <td>setosa</td>\n",
       "    </tr>\n",
       "    <tr>\n",
       "      <th>3</th>\n",
       "      <td>4.6</td>\n",
       "      <td>3.1</td>\n",
       "      <td>1.5</td>\n",
       "      <td>0.2</td>\n",
       "      <td>setosa</td>\n",
       "    </tr>\n",
       "    <tr>\n",
       "      <th>4</th>\n",
       "      <td>5.0</td>\n",
       "      <td>3.6</td>\n",
       "      <td>1.4</td>\n",
       "      <td>0.2</td>\n",
       "      <td>setosa</td>\n",
       "    </tr>\n",
       "    <tr>\n",
       "      <th>...</th>\n",
       "      <td>...</td>\n",
       "      <td>...</td>\n",
       "      <td>...</td>\n",
       "      <td>...</td>\n",
       "      <td>...</td>\n",
       "    </tr>\n",
       "    <tr>\n",
       "      <th>145</th>\n",
       "      <td>6.7</td>\n",
       "      <td>3.0</td>\n",
       "      <td>5.2</td>\n",
       "      <td>2.3</td>\n",
       "      <td>virginica</td>\n",
       "    </tr>\n",
       "    <tr>\n",
       "      <th>146</th>\n",
       "      <td>6.3</td>\n",
       "      <td>2.5</td>\n",
       "      <td>5.0</td>\n",
       "      <td>1.9</td>\n",
       "      <td>virginica</td>\n",
       "    </tr>\n",
       "    <tr>\n",
       "      <th>147</th>\n",
       "      <td>6.5</td>\n",
       "      <td>3.0</td>\n",
       "      <td>5.2</td>\n",
       "      <td>2.0</td>\n",
       "      <td>virginica</td>\n",
       "    </tr>\n",
       "    <tr>\n",
       "      <th>148</th>\n",
       "      <td>6.2</td>\n",
       "      <td>3.4</td>\n",
       "      <td>5.4</td>\n",
       "      <td>2.3</td>\n",
       "      <td>virginica</td>\n",
       "    </tr>\n",
       "    <tr>\n",
       "      <th>149</th>\n",
       "      <td>5.9</td>\n",
       "      <td>3.0</td>\n",
       "      <td>5.1</td>\n",
       "      <td>1.8</td>\n",
       "      <td>virginica</td>\n",
       "    </tr>\n",
       "  </tbody>\n",
       "</table>\n",
       "<p>150 rows × 5 columns</p>\n",
       "</div>"
      ],
      "text/plain": [
       "     sepal_length  sepal_width  petal_length  petal_width    species\n",
       "0             5.1          3.5           1.4          0.2     setosa\n",
       "1             4.9          3.0           1.4          0.2     setosa\n",
       "2             4.7          3.2           1.3          0.2     setosa\n",
       "3             4.6          3.1           1.5          0.2     setosa\n",
       "4             5.0          3.6           1.4          0.2     setosa\n",
       "..            ...          ...           ...          ...        ...\n",
       "145           6.7          3.0           5.2          2.3  virginica\n",
       "146           6.3          2.5           5.0          1.9  virginica\n",
       "147           6.5          3.0           5.2          2.0  virginica\n",
       "148           6.2          3.4           5.4          2.3  virginica\n",
       "149           5.9          3.0           5.1          1.8  virginica\n",
       "\n",
       "[150 rows x 5 columns]"
      ]
     },
     "execution_count": 442,
     "metadata": {},
     "output_type": "execute_result"
    }
   ],
   "source": [
    "df"
   ]
  },
  {
   "cell_type": "code",
   "execution_count": 443,
   "id": "fb6c79a1",
   "metadata": {},
   "outputs": [
    {
     "data": {
      "text/plain": [
       "0      5.1\n",
       "1      4.9\n",
       "2      4.7\n",
       "3      4.6\n",
       "4      5.0\n",
       "      ... \n",
       "145    6.7\n",
       "146    6.3\n",
       "147    6.5\n",
       "148    6.2\n",
       "149    5.9\n",
       "Name: sepal_length, Length: 150, dtype: float64"
      ]
     },
     "execution_count": 443,
     "metadata": {},
     "output_type": "execute_result"
    }
   ],
   "source": [
    "df.sepal_length"
   ]
  },
  {
   "cell_type": "code",
   "execution_count": 444,
   "id": "151544fc",
   "metadata": {},
   "outputs": [
    {
     "data": {
      "text/plain": [
       "0      3.5\n",
       "1      3.0\n",
       "2      3.2\n",
       "3      3.1\n",
       "4      3.6\n",
       "      ... \n",
       "145    3.0\n",
       "146    2.5\n",
       "147    3.0\n",
       "148    3.4\n",
       "149    3.0\n",
       "Name: sepal_width, Length: 150, dtype: float64"
      ]
     },
     "execution_count": 444,
     "metadata": {},
     "output_type": "execute_result"
    }
   ],
   "source": [
    "df.sepal_width"
   ]
  },
  {
   "cell_type": "code",
   "execution_count": 445,
   "id": "850562e2",
   "metadata": {},
   "outputs": [
    {
     "data": {
      "text/plain": [
       "0      1.4\n",
       "1      1.4\n",
       "2      1.3\n",
       "3      1.5\n",
       "4      1.4\n",
       "      ... \n",
       "145    5.2\n",
       "146    5.0\n",
       "147    5.2\n",
       "148    5.4\n",
       "149    5.1\n",
       "Name: petal_length, Length: 150, dtype: float64"
      ]
     },
     "execution_count": 445,
     "metadata": {},
     "output_type": "execute_result"
    }
   ],
   "source": [
    "df['petal_length']"
   ]
  },
  {
   "cell_type": "code",
   "execution_count": 446,
   "id": "816b4200",
   "metadata": {},
   "outputs": [
    {
     "data": {
      "text/plain": [
       "0      0.2\n",
       "1      0.2\n",
       "2      0.2\n",
       "3      0.2\n",
       "4      0.2\n",
       "      ... \n",
       "145    2.3\n",
       "146    1.9\n",
       "147    2.0\n",
       "148    2.3\n",
       "149    1.8\n",
       "Name: petal_width, Length: 150, dtype: float64"
      ]
     },
     "execution_count": 446,
     "metadata": {},
     "output_type": "execute_result"
    }
   ],
   "source": [
    "df['petal_width']"
   ]
  },
  {
   "cell_type": "code",
   "execution_count": 448,
   "id": "6c584903",
   "metadata": {},
   "outputs": [
    {
     "data": {
      "text/plain": [
       "3"
      ]
     },
     "execution_count": 448,
     "metadata": {},
     "output_type": "execute_result"
    }
   ],
   "source": [
    "df.species.nunique()"
   ]
  },
  {
   "cell_type": "code",
   "execution_count": 449,
   "id": "3ed38cd2",
   "metadata": {},
   "outputs": [
    {
     "data": {
      "text/plain": [
       "array(['setosa', 'versicolor', 'virginica'], dtype=object)"
      ]
     },
     "execution_count": 449,
     "metadata": {},
     "output_type": "execute_result"
    }
   ],
   "source": [
    "df.species.unique()"
   ]
  },
  {
   "cell_type": "code",
   "execution_count": 454,
   "id": "402c41a5",
   "metadata": {},
   "outputs": [
    {
     "data": {
      "text/html": [
       "<div>\n",
       "<style scoped>\n",
       "    .dataframe tbody tr th:only-of-type {\n",
       "        vertical-align: middle;\n",
       "    }\n",
       "\n",
       "    .dataframe tbody tr th {\n",
       "        vertical-align: top;\n",
       "    }\n",
       "\n",
       "    .dataframe thead th {\n",
       "        text-align: right;\n",
       "    }\n",
       "</style>\n",
       "<table border=\"1\" class=\"dataframe\">\n",
       "  <thead>\n",
       "    <tr style=\"text-align: right;\">\n",
       "      <th></th>\n",
       "      <th>sepal_length</th>\n",
       "      <th>sepal_width</th>\n",
       "      <th>petal_length</th>\n",
       "      <th>petal_width</th>\n",
       "      <th>species</th>\n",
       "    </tr>\n",
       "  </thead>\n",
       "  <tbody>\n",
       "    <tr>\n",
       "      <th>0</th>\n",
       "      <td>5.1</td>\n",
       "      <td>3.5</td>\n",
       "      <td>1.4</td>\n",
       "      <td>0.2</td>\n",
       "      <td>setosa</td>\n",
       "    </tr>\n",
       "    <tr>\n",
       "      <th>1</th>\n",
       "      <td>4.9</td>\n",
       "      <td>3.0</td>\n",
       "      <td>1.4</td>\n",
       "      <td>0.2</td>\n",
       "      <td>setosa</td>\n",
       "    </tr>\n",
       "    <tr>\n",
       "      <th>2</th>\n",
       "      <td>4.7</td>\n",
       "      <td>3.2</td>\n",
       "      <td>1.3</td>\n",
       "      <td>0.2</td>\n",
       "      <td>setosa</td>\n",
       "    </tr>\n",
       "    <tr>\n",
       "      <th>3</th>\n",
       "      <td>4.6</td>\n",
       "      <td>3.1</td>\n",
       "      <td>1.5</td>\n",
       "      <td>0.2</td>\n",
       "      <td>setosa</td>\n",
       "    </tr>\n",
       "    <tr>\n",
       "      <th>4</th>\n",
       "      <td>5.0</td>\n",
       "      <td>3.6</td>\n",
       "      <td>1.4</td>\n",
       "      <td>0.2</td>\n",
       "      <td>setosa</td>\n",
       "    </tr>\n",
       "    <tr>\n",
       "      <th>...</th>\n",
       "      <td>...</td>\n",
       "      <td>...</td>\n",
       "      <td>...</td>\n",
       "      <td>...</td>\n",
       "      <td>...</td>\n",
       "    </tr>\n",
       "    <tr>\n",
       "      <th>145</th>\n",
       "      <td>6.7</td>\n",
       "      <td>3.0</td>\n",
       "      <td>5.2</td>\n",
       "      <td>2.3</td>\n",
       "      <td>virginica</td>\n",
       "    </tr>\n",
       "    <tr>\n",
       "      <th>146</th>\n",
       "      <td>6.3</td>\n",
       "      <td>2.5</td>\n",
       "      <td>5.0</td>\n",
       "      <td>1.9</td>\n",
       "      <td>virginica</td>\n",
       "    </tr>\n",
       "    <tr>\n",
       "      <th>147</th>\n",
       "      <td>6.5</td>\n",
       "      <td>3.0</td>\n",
       "      <td>5.2</td>\n",
       "      <td>2.0</td>\n",
       "      <td>virginica</td>\n",
       "    </tr>\n",
       "    <tr>\n",
       "      <th>148</th>\n",
       "      <td>6.2</td>\n",
       "      <td>3.4</td>\n",
       "      <td>5.4</td>\n",
       "      <td>2.3</td>\n",
       "      <td>virginica</td>\n",
       "    </tr>\n",
       "    <tr>\n",
       "      <th>149</th>\n",
       "      <td>5.9</td>\n",
       "      <td>3.0</td>\n",
       "      <td>5.1</td>\n",
       "      <td>1.8</td>\n",
       "      <td>virginica</td>\n",
       "    </tr>\n",
       "  </tbody>\n",
       "</table>\n",
       "<p>150 rows × 5 columns</p>\n",
       "</div>"
      ],
      "text/plain": [
       "     sepal_length  sepal_width  petal_length  petal_width    species\n",
       "0             5.1          3.5           1.4          0.2     setosa\n",
       "1             4.9          3.0           1.4          0.2     setosa\n",
       "2             4.7          3.2           1.3          0.2     setosa\n",
       "3             4.6          3.1           1.5          0.2     setosa\n",
       "4             5.0          3.6           1.4          0.2     setosa\n",
       "..            ...          ...           ...          ...        ...\n",
       "145           6.7          3.0           5.2          2.3  virginica\n",
       "146           6.3          2.5           5.0          1.9  virginica\n",
       "147           6.5          3.0           5.2          2.0  virginica\n",
       "148           6.2          3.4           5.4          2.3  virginica\n",
       "149           5.9          3.0           5.1          1.8  virginica\n",
       "\n",
       "[150 rows x 5 columns]"
      ]
     },
     "execution_count": 454,
     "metadata": {},
     "output_type": "execute_result"
    }
   ],
   "source": [
    "pd.read_csv('IRIS20.csv')"
   ]
  },
  {
   "cell_type": "code",
   "execution_count": 456,
   "id": "08c1dafd",
   "metadata": {},
   "outputs": [],
   "source": [
    "df = pd.read_csv('iris12.csv')"
   ]
  },
  {
   "cell_type": "code",
   "execution_count": 461,
   "id": "21c5e607",
   "metadata": {},
   "outputs": [
    {
     "data": {
      "text/plain": [
       "(50, 5)"
      ]
     },
     "execution_count": 461,
     "metadata": {},
     "output_type": "execute_result"
    }
   ],
   "source": [
    "df[df.species == 'setosa'].shape"
   ]
  },
  {
   "cell_type": "code",
   "execution_count": 466,
   "id": "4089b2a8",
   "metadata": {},
   "outputs": [
    {
     "data": {
      "text/plain": [
       "50"
      ]
     },
     "execution_count": 466,
     "metadata": {},
     "output_type": "execute_result"
    }
   ],
   "source": [
    "df.species.value_counts()['versicolor']"
   ]
  },
  {
   "cell_type": "code",
   "execution_count": 468,
   "id": "8a75767e",
   "metadata": {},
   "outputs": [
    {
     "data": {
      "text/plain": [
       "4.3"
      ]
     },
     "execution_count": 468,
     "metadata": {},
     "output_type": "execute_result"
    }
   ],
   "source": [
    "df.sepal_length.min()"
   ]
  },
  {
   "cell_type": "code",
   "execution_count": 469,
   "id": "79686615",
   "metadata": {},
   "outputs": [
    {
     "data": {
      "text/plain": [
       "4.4"
      ]
     },
     "execution_count": 469,
     "metadata": {},
     "output_type": "execute_result"
    }
   ],
   "source": [
    "df.sepal_width.max()"
   ]
  },
  {
   "cell_type": "code",
   "execution_count": 470,
   "id": "a39dfc7c",
   "metadata": {},
   "outputs": [
    {
     "data": {
      "text/plain": [
       "3.758666666666666"
      ]
     },
     "execution_count": 470,
     "metadata": {},
     "output_type": "execute_result"
    }
   ],
   "source": [
    "df.petal_length.mean()"
   ]
  },
  {
   "cell_type": "code",
   "execution_count": 471,
   "id": "a49dc293",
   "metadata": {},
   "outputs": [
    {
     "data": {
      "text/plain": [
       "179.8"
      ]
     },
     "execution_count": 471,
     "metadata": {},
     "output_type": "execute_result"
    }
   ],
   "source": [
    "df.petal_width.sum()"
   ]
  },
  {
   "cell_type": "code",
   "execution_count": 472,
   "id": "680b7c32",
   "metadata": {},
   "outputs": [
    {
     "data": {
      "text/html": [
       "<div>\n",
       "<style scoped>\n",
       "    .dataframe tbody tr th:only-of-type {\n",
       "        vertical-align: middle;\n",
       "    }\n",
       "\n",
       "    .dataframe tbody tr th {\n",
       "        vertical-align: top;\n",
       "    }\n",
       "\n",
       "    .dataframe thead th {\n",
       "        text-align: right;\n",
       "    }\n",
       "</style>\n",
       "<table border=\"1\" class=\"dataframe\">\n",
       "  <thead>\n",
       "    <tr style=\"text-align: right;\">\n",
       "      <th></th>\n",
       "      <th>sepal_length</th>\n",
       "      <th>sepal_width</th>\n",
       "      <th>petal_length</th>\n",
       "      <th>petal_width</th>\n",
       "      <th>species</th>\n",
       "    </tr>\n",
       "  </thead>\n",
       "  <tbody>\n",
       "    <tr>\n",
       "      <th>0</th>\n",
       "      <td>5.1</td>\n",
       "      <td>3.5</td>\n",
       "      <td>1.4</td>\n",
       "      <td>0.2</td>\n",
       "      <td>setosa</td>\n",
       "    </tr>\n",
       "    <tr>\n",
       "      <th>1</th>\n",
       "      <td>4.9</td>\n",
       "      <td>3.0</td>\n",
       "      <td>1.4</td>\n",
       "      <td>0.2</td>\n",
       "      <td>setosa</td>\n",
       "    </tr>\n",
       "    <tr>\n",
       "      <th>2</th>\n",
       "      <td>4.7</td>\n",
       "      <td>3.2</td>\n",
       "      <td>1.3</td>\n",
       "      <td>0.2</td>\n",
       "      <td>setosa</td>\n",
       "    </tr>\n",
       "    <tr>\n",
       "      <th>3</th>\n",
       "      <td>4.6</td>\n",
       "      <td>3.1</td>\n",
       "      <td>1.5</td>\n",
       "      <td>0.2</td>\n",
       "      <td>setosa</td>\n",
       "    </tr>\n",
       "    <tr>\n",
       "      <th>4</th>\n",
       "      <td>5.0</td>\n",
       "      <td>3.6</td>\n",
       "      <td>1.4</td>\n",
       "      <td>0.2</td>\n",
       "      <td>setosa</td>\n",
       "    </tr>\n",
       "    <tr>\n",
       "      <th>...</th>\n",
       "      <td>...</td>\n",
       "      <td>...</td>\n",
       "      <td>...</td>\n",
       "      <td>...</td>\n",
       "      <td>...</td>\n",
       "    </tr>\n",
       "    <tr>\n",
       "      <th>145</th>\n",
       "      <td>6.7</td>\n",
       "      <td>3.0</td>\n",
       "      <td>5.2</td>\n",
       "      <td>2.3</td>\n",
       "      <td>virginica</td>\n",
       "    </tr>\n",
       "    <tr>\n",
       "      <th>146</th>\n",
       "      <td>6.3</td>\n",
       "      <td>2.5</td>\n",
       "      <td>5.0</td>\n",
       "      <td>1.9</td>\n",
       "      <td>virginica</td>\n",
       "    </tr>\n",
       "    <tr>\n",
       "      <th>147</th>\n",
       "      <td>6.5</td>\n",
       "      <td>3.0</td>\n",
       "      <td>5.2</td>\n",
       "      <td>2.0</td>\n",
       "      <td>virginica</td>\n",
       "    </tr>\n",
       "    <tr>\n",
       "      <th>148</th>\n",
       "      <td>6.2</td>\n",
       "      <td>3.4</td>\n",
       "      <td>5.4</td>\n",
       "      <td>2.3</td>\n",
       "      <td>virginica</td>\n",
       "    </tr>\n",
       "    <tr>\n",
       "      <th>149</th>\n",
       "      <td>5.9</td>\n",
       "      <td>3.0</td>\n",
       "      <td>5.1</td>\n",
       "      <td>1.8</td>\n",
       "      <td>virginica</td>\n",
       "    </tr>\n",
       "  </tbody>\n",
       "</table>\n",
       "<p>150 rows × 5 columns</p>\n",
       "</div>"
      ],
      "text/plain": [
       "     sepal_length  sepal_width  petal_length  petal_width    species\n",
       "0             5.1          3.5           1.4          0.2     setosa\n",
       "1             4.9          3.0           1.4          0.2     setosa\n",
       "2             4.7          3.2           1.3          0.2     setosa\n",
       "3             4.6          3.1           1.5          0.2     setosa\n",
       "4             5.0          3.6           1.4          0.2     setosa\n",
       "..            ...          ...           ...          ...        ...\n",
       "145           6.7          3.0           5.2          2.3  virginica\n",
       "146           6.3          2.5           5.0          1.9  virginica\n",
       "147           6.5          3.0           5.2          2.0  virginica\n",
       "148           6.2          3.4           5.4          2.3  virginica\n",
       "149           5.9          3.0           5.1          1.8  virginica\n",
       "\n",
       "[150 rows x 5 columns]"
      ]
     },
     "execution_count": 472,
     "metadata": {},
     "output_type": "execute_result"
    }
   ],
   "source": [
    "df"
   ]
  },
  {
   "cell_type": "code",
   "execution_count": 474,
   "id": "87e8f833",
   "metadata": {},
   "outputs": [
    {
     "data": {
      "text/html": [
       "<div>\n",
       "<style scoped>\n",
       "    .dataframe tbody tr th:only-of-type {\n",
       "        vertical-align: middle;\n",
       "    }\n",
       "\n",
       "    .dataframe tbody tr th {\n",
       "        vertical-align: top;\n",
       "    }\n",
       "\n",
       "    .dataframe thead th {\n",
       "        text-align: right;\n",
       "    }\n",
       "</style>\n",
       "<table border=\"1\" class=\"dataframe\">\n",
       "  <thead>\n",
       "    <tr style=\"text-align: right;\">\n",
       "      <th></th>\n",
       "      <th>sepal_length</th>\n",
       "      <th>sepal_width</th>\n",
       "      <th>petal_length</th>\n",
       "      <th>petal_width</th>\n",
       "      <th>species</th>\n",
       "    </tr>\n",
       "  </thead>\n",
       "  <tbody>\n",
       "    <tr>\n",
       "      <th>131</th>\n",
       "      <td>7.9</td>\n",
       "      <td>3.8</td>\n",
       "      <td>6.4</td>\n",
       "      <td>2.0</td>\n",
       "      <td>virginica</td>\n",
       "    </tr>\n",
       "    <tr>\n",
       "      <th>135</th>\n",
       "      <td>7.7</td>\n",
       "      <td>3.0</td>\n",
       "      <td>6.1</td>\n",
       "      <td>2.3</td>\n",
       "      <td>virginica</td>\n",
       "    </tr>\n",
       "    <tr>\n",
       "      <th>122</th>\n",
       "      <td>7.7</td>\n",
       "      <td>2.8</td>\n",
       "      <td>6.7</td>\n",
       "      <td>2.0</td>\n",
       "      <td>virginica</td>\n",
       "    </tr>\n",
       "    <tr>\n",
       "      <th>117</th>\n",
       "      <td>7.7</td>\n",
       "      <td>3.8</td>\n",
       "      <td>6.7</td>\n",
       "      <td>2.2</td>\n",
       "      <td>virginica</td>\n",
       "    </tr>\n",
       "    <tr>\n",
       "      <th>118</th>\n",
       "      <td>7.7</td>\n",
       "      <td>2.6</td>\n",
       "      <td>6.9</td>\n",
       "      <td>2.3</td>\n",
       "      <td>virginica</td>\n",
       "    </tr>\n",
       "    <tr>\n",
       "      <th>...</th>\n",
       "      <td>...</td>\n",
       "      <td>...</td>\n",
       "      <td>...</td>\n",
       "      <td>...</td>\n",
       "      <td>...</td>\n",
       "    </tr>\n",
       "    <tr>\n",
       "      <th>41</th>\n",
       "      <td>4.5</td>\n",
       "      <td>2.3</td>\n",
       "      <td>1.3</td>\n",
       "      <td>0.3</td>\n",
       "      <td>setosa</td>\n",
       "    </tr>\n",
       "    <tr>\n",
       "      <th>42</th>\n",
       "      <td>4.4</td>\n",
       "      <td>3.2</td>\n",
       "      <td>1.3</td>\n",
       "      <td>0.2</td>\n",
       "      <td>setosa</td>\n",
       "    </tr>\n",
       "    <tr>\n",
       "      <th>38</th>\n",
       "      <td>4.4</td>\n",
       "      <td>3.0</td>\n",
       "      <td>1.3</td>\n",
       "      <td>0.2</td>\n",
       "      <td>setosa</td>\n",
       "    </tr>\n",
       "    <tr>\n",
       "      <th>8</th>\n",
       "      <td>4.4</td>\n",
       "      <td>2.9</td>\n",
       "      <td>1.4</td>\n",
       "      <td>0.2</td>\n",
       "      <td>setosa</td>\n",
       "    </tr>\n",
       "    <tr>\n",
       "      <th>13</th>\n",
       "      <td>4.3</td>\n",
       "      <td>3.0</td>\n",
       "      <td>1.1</td>\n",
       "      <td>0.1</td>\n",
       "      <td>setosa</td>\n",
       "    </tr>\n",
       "  </tbody>\n",
       "</table>\n",
       "<p>150 rows × 5 columns</p>\n",
       "</div>"
      ],
      "text/plain": [
       "     sepal_length  sepal_width  petal_length  petal_width    species\n",
       "131           7.9          3.8           6.4          2.0  virginica\n",
       "135           7.7          3.0           6.1          2.3  virginica\n",
       "122           7.7          2.8           6.7          2.0  virginica\n",
       "117           7.7          3.8           6.7          2.2  virginica\n",
       "118           7.7          2.6           6.9          2.3  virginica\n",
       "..            ...          ...           ...          ...        ...\n",
       "41            4.5          2.3           1.3          0.3     setosa\n",
       "42            4.4          3.2           1.3          0.2     setosa\n",
       "38            4.4          3.0           1.3          0.2     setosa\n",
       "8             4.4          2.9           1.4          0.2     setosa\n",
       "13            4.3          3.0           1.1          0.1     setosa\n",
       "\n",
       "[150 rows x 5 columns]"
      ]
     },
     "execution_count": 474,
     "metadata": {},
     "output_type": "execute_result"
    }
   ],
   "source": [
    "df.sort_values(by=\"sepal_length\", ascending=False)"
   ]
  },
  {
   "cell_type": "code",
   "execution_count": 480,
   "id": "04409a1a",
   "metadata": {},
   "outputs": [],
   "source": [
    "df.sort_values(by=['sepal_length', 'sepal_width'], ascending=[False, True], inplace=True)"
   ]
  },
  {
   "cell_type": "code",
   "execution_count": 481,
   "id": "6e726317",
   "metadata": {},
   "outputs": [
    {
     "data": {
      "text/html": [
       "<div>\n",
       "<style scoped>\n",
       "    .dataframe tbody tr th:only-of-type {\n",
       "        vertical-align: middle;\n",
       "    }\n",
       "\n",
       "    .dataframe tbody tr th {\n",
       "        vertical-align: top;\n",
       "    }\n",
       "\n",
       "    .dataframe thead th {\n",
       "        text-align: right;\n",
       "    }\n",
       "</style>\n",
       "<table border=\"1\" class=\"dataframe\">\n",
       "  <thead>\n",
       "    <tr style=\"text-align: right;\">\n",
       "      <th></th>\n",
       "      <th>sepal_length</th>\n",
       "      <th>sepal_width</th>\n",
       "      <th>petal_length</th>\n",
       "      <th>petal_width</th>\n",
       "      <th>species</th>\n",
       "    </tr>\n",
       "  </thead>\n",
       "  <tbody>\n",
       "    <tr>\n",
       "      <th>131</th>\n",
       "      <td>7.9</td>\n",
       "      <td>3.8</td>\n",
       "      <td>6.4</td>\n",
       "      <td>2.0</td>\n",
       "      <td>virginica</td>\n",
       "    </tr>\n",
       "    <tr>\n",
       "      <th>118</th>\n",
       "      <td>7.7</td>\n",
       "      <td>2.6</td>\n",
       "      <td>6.9</td>\n",
       "      <td>2.3</td>\n",
       "      <td>virginica</td>\n",
       "    </tr>\n",
       "    <tr>\n",
       "      <th>122</th>\n",
       "      <td>7.7</td>\n",
       "      <td>2.8</td>\n",
       "      <td>6.7</td>\n",
       "      <td>2.0</td>\n",
       "      <td>virginica</td>\n",
       "    </tr>\n",
       "    <tr>\n",
       "      <th>135</th>\n",
       "      <td>7.7</td>\n",
       "      <td>3.0</td>\n",
       "      <td>6.1</td>\n",
       "      <td>2.3</td>\n",
       "      <td>virginica</td>\n",
       "    </tr>\n",
       "    <tr>\n",
       "      <th>117</th>\n",
       "      <td>7.7</td>\n",
       "      <td>3.8</td>\n",
       "      <td>6.7</td>\n",
       "      <td>2.2</td>\n",
       "      <td>virginica</td>\n",
       "    </tr>\n",
       "    <tr>\n",
       "      <th>...</th>\n",
       "      <td>...</td>\n",
       "      <td>...</td>\n",
       "      <td>...</td>\n",
       "      <td>...</td>\n",
       "      <td>...</td>\n",
       "    </tr>\n",
       "    <tr>\n",
       "      <th>41</th>\n",
       "      <td>4.5</td>\n",
       "      <td>2.3</td>\n",
       "      <td>1.3</td>\n",
       "      <td>0.3</td>\n",
       "      <td>setosa</td>\n",
       "    </tr>\n",
       "    <tr>\n",
       "      <th>8</th>\n",
       "      <td>4.4</td>\n",
       "      <td>2.9</td>\n",
       "      <td>1.4</td>\n",
       "      <td>0.2</td>\n",
       "      <td>setosa</td>\n",
       "    </tr>\n",
       "    <tr>\n",
       "      <th>38</th>\n",
       "      <td>4.4</td>\n",
       "      <td>3.0</td>\n",
       "      <td>1.3</td>\n",
       "      <td>0.2</td>\n",
       "      <td>setosa</td>\n",
       "    </tr>\n",
       "    <tr>\n",
       "      <th>42</th>\n",
       "      <td>4.4</td>\n",
       "      <td>3.2</td>\n",
       "      <td>1.3</td>\n",
       "      <td>0.2</td>\n",
       "      <td>setosa</td>\n",
       "    </tr>\n",
       "    <tr>\n",
       "      <th>13</th>\n",
       "      <td>4.3</td>\n",
       "      <td>3.0</td>\n",
       "      <td>1.1</td>\n",
       "      <td>0.1</td>\n",
       "      <td>setosa</td>\n",
       "    </tr>\n",
       "  </tbody>\n",
       "</table>\n",
       "<p>150 rows × 5 columns</p>\n",
       "</div>"
      ],
      "text/plain": [
       "     sepal_length  sepal_width  petal_length  petal_width    species\n",
       "131           7.9          3.8           6.4          2.0  virginica\n",
       "118           7.7          2.6           6.9          2.3  virginica\n",
       "122           7.7          2.8           6.7          2.0  virginica\n",
       "135           7.7          3.0           6.1          2.3  virginica\n",
       "117           7.7          3.8           6.7          2.2  virginica\n",
       "..            ...          ...           ...          ...        ...\n",
       "41            4.5          2.3           1.3          0.3     setosa\n",
       "8             4.4          2.9           1.4          0.2     setosa\n",
       "38            4.4          3.0           1.3          0.2     setosa\n",
       "42            4.4          3.2           1.3          0.2     setosa\n",
       "13            4.3          3.0           1.1          0.1     setosa\n",
       "\n",
       "[150 rows x 5 columns]"
      ]
     },
     "execution_count": 481,
     "metadata": {},
     "output_type": "execute_result"
    }
   ],
   "source": [
    "df"
   ]
  },
  {
   "cell_type": "code",
   "execution_count": 484,
   "id": "1795fe4f",
   "metadata": {},
   "outputs": [],
   "source": [
    "df.sort_index(inplace=True)"
   ]
  },
  {
   "cell_type": "code",
   "execution_count": 485,
   "id": "cdeb6346",
   "metadata": {},
   "outputs": [
    {
     "data": {
      "text/html": [
       "<div>\n",
       "<style scoped>\n",
       "    .dataframe tbody tr th:only-of-type {\n",
       "        vertical-align: middle;\n",
       "    }\n",
       "\n",
       "    .dataframe tbody tr th {\n",
       "        vertical-align: top;\n",
       "    }\n",
       "\n",
       "    .dataframe thead th {\n",
       "        text-align: right;\n",
       "    }\n",
       "</style>\n",
       "<table border=\"1\" class=\"dataframe\">\n",
       "  <thead>\n",
       "    <tr style=\"text-align: right;\">\n",
       "      <th></th>\n",
       "      <th>sepal_length</th>\n",
       "      <th>sepal_width</th>\n",
       "      <th>petal_length</th>\n",
       "      <th>petal_width</th>\n",
       "      <th>species</th>\n",
       "    </tr>\n",
       "  </thead>\n",
       "  <tbody>\n",
       "    <tr>\n",
       "      <th>0</th>\n",
       "      <td>5.1</td>\n",
       "      <td>3.5</td>\n",
       "      <td>1.4</td>\n",
       "      <td>0.2</td>\n",
       "      <td>setosa</td>\n",
       "    </tr>\n",
       "    <tr>\n",
       "      <th>1</th>\n",
       "      <td>4.9</td>\n",
       "      <td>3.0</td>\n",
       "      <td>1.4</td>\n",
       "      <td>0.2</td>\n",
       "      <td>setosa</td>\n",
       "    </tr>\n",
       "    <tr>\n",
       "      <th>2</th>\n",
       "      <td>4.7</td>\n",
       "      <td>3.2</td>\n",
       "      <td>1.3</td>\n",
       "      <td>0.2</td>\n",
       "      <td>setosa</td>\n",
       "    </tr>\n",
       "    <tr>\n",
       "      <th>3</th>\n",
       "      <td>4.6</td>\n",
       "      <td>3.1</td>\n",
       "      <td>1.5</td>\n",
       "      <td>0.2</td>\n",
       "      <td>setosa</td>\n",
       "    </tr>\n",
       "    <tr>\n",
       "      <th>4</th>\n",
       "      <td>5.0</td>\n",
       "      <td>3.6</td>\n",
       "      <td>1.4</td>\n",
       "      <td>0.2</td>\n",
       "      <td>setosa</td>\n",
       "    </tr>\n",
       "    <tr>\n",
       "      <th>...</th>\n",
       "      <td>...</td>\n",
       "      <td>...</td>\n",
       "      <td>...</td>\n",
       "      <td>...</td>\n",
       "      <td>...</td>\n",
       "    </tr>\n",
       "    <tr>\n",
       "      <th>145</th>\n",
       "      <td>6.7</td>\n",
       "      <td>3.0</td>\n",
       "      <td>5.2</td>\n",
       "      <td>2.3</td>\n",
       "      <td>virginica</td>\n",
       "    </tr>\n",
       "    <tr>\n",
       "      <th>146</th>\n",
       "      <td>6.3</td>\n",
       "      <td>2.5</td>\n",
       "      <td>5.0</td>\n",
       "      <td>1.9</td>\n",
       "      <td>virginica</td>\n",
       "    </tr>\n",
       "    <tr>\n",
       "      <th>147</th>\n",
       "      <td>6.5</td>\n",
       "      <td>3.0</td>\n",
       "      <td>5.2</td>\n",
       "      <td>2.0</td>\n",
       "      <td>virginica</td>\n",
       "    </tr>\n",
       "    <tr>\n",
       "      <th>148</th>\n",
       "      <td>6.2</td>\n",
       "      <td>3.4</td>\n",
       "      <td>5.4</td>\n",
       "      <td>2.3</td>\n",
       "      <td>virginica</td>\n",
       "    </tr>\n",
       "    <tr>\n",
       "      <th>149</th>\n",
       "      <td>5.9</td>\n",
       "      <td>3.0</td>\n",
       "      <td>5.1</td>\n",
       "      <td>1.8</td>\n",
       "      <td>virginica</td>\n",
       "    </tr>\n",
       "  </tbody>\n",
       "</table>\n",
       "<p>150 rows × 5 columns</p>\n",
       "</div>"
      ],
      "text/plain": [
       "     sepal_length  sepal_width  petal_length  petal_width    species\n",
       "0             5.1          3.5           1.4          0.2     setosa\n",
       "1             4.9          3.0           1.4          0.2     setosa\n",
       "2             4.7          3.2           1.3          0.2     setosa\n",
       "3             4.6          3.1           1.5          0.2     setosa\n",
       "4             5.0          3.6           1.4          0.2     setosa\n",
       "..            ...          ...           ...          ...        ...\n",
       "145           6.7          3.0           5.2          2.3  virginica\n",
       "146           6.3          2.5           5.0          1.9  virginica\n",
       "147           6.5          3.0           5.2          2.0  virginica\n",
       "148           6.2          3.4           5.4          2.3  virginica\n",
       "149           5.9          3.0           5.1          1.8  virginica\n",
       "\n",
       "[150 rows x 5 columns]"
      ]
     },
     "execution_count": 485,
     "metadata": {},
     "output_type": "execute_result"
    }
   ],
   "source": [
    "df"
   ]
  },
  {
   "cell_type": "code",
   "execution_count": 489,
   "id": "83da9187",
   "metadata": {},
   "outputs": [
    {
     "data": {
      "text/plain": [
       "0      10.2\n",
       "1       9.8\n",
       "2       9.4\n",
       "3       9.2\n",
       "4      10.0\n",
       "       ... \n",
       "145    13.4\n",
       "146    12.6\n",
       "147    13.0\n",
       "148    12.4\n",
       "149    11.8\n",
       "Name: sepal_length, Length: 150, dtype: float64"
      ]
     },
     "execution_count": 489,
     "metadata": {},
     "output_type": "execute_result"
    }
   ],
   "source": [
    "df.sepal_length.apply(lambda x:x*2)"
   ]
  },
  {
   "cell_type": "code",
   "execution_count": 490,
   "id": "82e78ba2",
   "metadata": {},
   "outputs": [
    {
     "data": {
      "text/html": [
       "<div>\n",
       "<style scoped>\n",
       "    .dataframe tbody tr th:only-of-type {\n",
       "        vertical-align: middle;\n",
       "    }\n",
       "\n",
       "    .dataframe tbody tr th {\n",
       "        vertical-align: top;\n",
       "    }\n",
       "\n",
       "    .dataframe thead th {\n",
       "        text-align: right;\n",
       "    }\n",
       "</style>\n",
       "<table border=\"1\" class=\"dataframe\">\n",
       "  <thead>\n",
       "    <tr style=\"text-align: right;\">\n",
       "      <th></th>\n",
       "      <th>sepal_length</th>\n",
       "      <th>sepal_width</th>\n",
       "      <th>petal_length</th>\n",
       "      <th>petal_width</th>\n",
       "      <th>species</th>\n",
       "    </tr>\n",
       "  </thead>\n",
       "  <tbody>\n",
       "    <tr>\n",
       "      <th>0</th>\n",
       "      <td>5.1</td>\n",
       "      <td>3.5</td>\n",
       "      <td>1.4</td>\n",
       "      <td>0.2</td>\n",
       "      <td>setosa</td>\n",
       "    </tr>\n",
       "    <tr>\n",
       "      <th>1</th>\n",
       "      <td>4.9</td>\n",
       "      <td>3.0</td>\n",
       "      <td>1.4</td>\n",
       "      <td>0.2</td>\n",
       "      <td>setosa</td>\n",
       "    </tr>\n",
       "    <tr>\n",
       "      <th>2</th>\n",
       "      <td>4.7</td>\n",
       "      <td>3.2</td>\n",
       "      <td>1.3</td>\n",
       "      <td>0.2</td>\n",
       "      <td>setosa</td>\n",
       "    </tr>\n",
       "    <tr>\n",
       "      <th>3</th>\n",
       "      <td>4.6</td>\n",
       "      <td>3.1</td>\n",
       "      <td>1.5</td>\n",
       "      <td>0.2</td>\n",
       "      <td>setosa</td>\n",
       "    </tr>\n",
       "    <tr>\n",
       "      <th>4</th>\n",
       "      <td>5.0</td>\n",
       "      <td>3.6</td>\n",
       "      <td>1.4</td>\n",
       "      <td>0.2</td>\n",
       "      <td>setosa</td>\n",
       "    </tr>\n",
       "    <tr>\n",
       "      <th>...</th>\n",
       "      <td>...</td>\n",
       "      <td>...</td>\n",
       "      <td>...</td>\n",
       "      <td>...</td>\n",
       "      <td>...</td>\n",
       "    </tr>\n",
       "    <tr>\n",
       "      <th>145</th>\n",
       "      <td>6.7</td>\n",
       "      <td>3.0</td>\n",
       "      <td>5.2</td>\n",
       "      <td>2.3</td>\n",
       "      <td>virginica</td>\n",
       "    </tr>\n",
       "    <tr>\n",
       "      <th>146</th>\n",
       "      <td>6.3</td>\n",
       "      <td>2.5</td>\n",
       "      <td>5.0</td>\n",
       "      <td>1.9</td>\n",
       "      <td>virginica</td>\n",
       "    </tr>\n",
       "    <tr>\n",
       "      <th>147</th>\n",
       "      <td>6.5</td>\n",
       "      <td>3.0</td>\n",
       "      <td>5.2</td>\n",
       "      <td>2.0</td>\n",
       "      <td>virginica</td>\n",
       "    </tr>\n",
       "    <tr>\n",
       "      <th>148</th>\n",
       "      <td>6.2</td>\n",
       "      <td>3.4</td>\n",
       "      <td>5.4</td>\n",
       "      <td>2.3</td>\n",
       "      <td>virginica</td>\n",
       "    </tr>\n",
       "    <tr>\n",
       "      <th>149</th>\n",
       "      <td>5.9</td>\n",
       "      <td>3.0</td>\n",
       "      <td>5.1</td>\n",
       "      <td>1.8</td>\n",
       "      <td>virginica</td>\n",
       "    </tr>\n",
       "  </tbody>\n",
       "</table>\n",
       "<p>150 rows × 5 columns</p>\n",
       "</div>"
      ],
      "text/plain": [
       "     sepal_length  sepal_width  petal_length  petal_width    species\n",
       "0             5.1          3.5           1.4          0.2     setosa\n",
       "1             4.9          3.0           1.4          0.2     setosa\n",
       "2             4.7          3.2           1.3          0.2     setosa\n",
       "3             4.6          3.1           1.5          0.2     setosa\n",
       "4             5.0          3.6           1.4          0.2     setosa\n",
       "..            ...          ...           ...          ...        ...\n",
       "145           6.7          3.0           5.2          2.3  virginica\n",
       "146           6.3          2.5           5.0          1.9  virginica\n",
       "147           6.5          3.0           5.2          2.0  virginica\n",
       "148           6.2          3.4           5.4          2.3  virginica\n",
       "149           5.9          3.0           5.1          1.8  virginica\n",
       "\n",
       "[150 rows x 5 columns]"
      ]
     },
     "execution_count": 490,
     "metadata": {},
     "output_type": "execute_result"
    }
   ],
   "source": [
    "df"
   ]
  },
  {
   "cell_type": "code",
   "execution_count": 491,
   "id": "aa903708",
   "metadata": {},
   "outputs": [
    {
     "data": {
      "text/plain": [
       "0      6\n",
       "1      6\n",
       "2      6\n",
       "3      6\n",
       "4      6\n",
       "      ..\n",
       "145    9\n",
       "146    9\n",
       "147    9\n",
       "148    9\n",
       "149    9\n",
       "Name: species, Length: 150, dtype: int64"
      ]
     },
     "execution_count": 491,
     "metadata": {},
     "output_type": "execute_result"
    }
   ],
   "source": [
    "df.species.apply(len)"
   ]
  },
  {
   "cell_type": "code",
   "execution_count": 492,
   "id": "cbf36876",
   "metadata": {},
   "outputs": [
    {
     "data": {
      "text/html": [
       "<div>\n",
       "<style scoped>\n",
       "    .dataframe tbody tr th:only-of-type {\n",
       "        vertical-align: middle;\n",
       "    }\n",
       "\n",
       "    .dataframe tbody tr th {\n",
       "        vertical-align: top;\n",
       "    }\n",
       "\n",
       "    .dataframe thead th {\n",
       "        text-align: right;\n",
       "    }\n",
       "</style>\n",
       "<table border=\"1\" class=\"dataframe\">\n",
       "  <thead>\n",
       "    <tr style=\"text-align: right;\">\n",
       "      <th></th>\n",
       "      <th>sepal_length</th>\n",
       "      <th>sepal_width</th>\n",
       "      <th>petal_length</th>\n",
       "      <th>petal_width</th>\n",
       "      <th>species</th>\n",
       "    </tr>\n",
       "  </thead>\n",
       "  <tbody>\n",
       "    <tr>\n",
       "      <th>0</th>\n",
       "      <td>10.2</td>\n",
       "      <td>7.0</td>\n",
       "      <td>2.8</td>\n",
       "      <td>0.4</td>\n",
       "      <td>setosasetosa</td>\n",
       "    </tr>\n",
       "    <tr>\n",
       "      <th>1</th>\n",
       "      <td>9.8</td>\n",
       "      <td>6.0</td>\n",
       "      <td>2.8</td>\n",
       "      <td>0.4</td>\n",
       "      <td>setosasetosa</td>\n",
       "    </tr>\n",
       "    <tr>\n",
       "      <th>2</th>\n",
       "      <td>9.4</td>\n",
       "      <td>6.4</td>\n",
       "      <td>2.6</td>\n",
       "      <td>0.4</td>\n",
       "      <td>setosasetosa</td>\n",
       "    </tr>\n",
       "    <tr>\n",
       "      <th>3</th>\n",
       "      <td>9.2</td>\n",
       "      <td>6.2</td>\n",
       "      <td>3.0</td>\n",
       "      <td>0.4</td>\n",
       "      <td>setosasetosa</td>\n",
       "    </tr>\n",
       "    <tr>\n",
       "      <th>4</th>\n",
       "      <td>10.0</td>\n",
       "      <td>7.2</td>\n",
       "      <td>2.8</td>\n",
       "      <td>0.4</td>\n",
       "      <td>setosasetosa</td>\n",
       "    </tr>\n",
       "    <tr>\n",
       "      <th>...</th>\n",
       "      <td>...</td>\n",
       "      <td>...</td>\n",
       "      <td>...</td>\n",
       "      <td>...</td>\n",
       "      <td>...</td>\n",
       "    </tr>\n",
       "    <tr>\n",
       "      <th>145</th>\n",
       "      <td>13.4</td>\n",
       "      <td>6.0</td>\n",
       "      <td>10.4</td>\n",
       "      <td>4.6</td>\n",
       "      <td>virginicavirginica</td>\n",
       "    </tr>\n",
       "    <tr>\n",
       "      <th>146</th>\n",
       "      <td>12.6</td>\n",
       "      <td>5.0</td>\n",
       "      <td>10.0</td>\n",
       "      <td>3.8</td>\n",
       "      <td>virginicavirginica</td>\n",
       "    </tr>\n",
       "    <tr>\n",
       "      <th>147</th>\n",
       "      <td>13.0</td>\n",
       "      <td>6.0</td>\n",
       "      <td>10.4</td>\n",
       "      <td>4.0</td>\n",
       "      <td>virginicavirginica</td>\n",
       "    </tr>\n",
       "    <tr>\n",
       "      <th>148</th>\n",
       "      <td>12.4</td>\n",
       "      <td>6.8</td>\n",
       "      <td>10.8</td>\n",
       "      <td>4.6</td>\n",
       "      <td>virginicavirginica</td>\n",
       "    </tr>\n",
       "    <tr>\n",
       "      <th>149</th>\n",
       "      <td>11.8</td>\n",
       "      <td>6.0</td>\n",
       "      <td>10.2</td>\n",
       "      <td>3.6</td>\n",
       "      <td>virginicavirginica</td>\n",
       "    </tr>\n",
       "  </tbody>\n",
       "</table>\n",
       "<p>150 rows × 5 columns</p>\n",
       "</div>"
      ],
      "text/plain": [
       "     sepal_length  sepal_width  petal_length  petal_width             species\n",
       "0            10.2          7.0           2.8          0.4        setosasetosa\n",
       "1             9.8          6.0           2.8          0.4        setosasetosa\n",
       "2             9.4          6.4           2.6          0.4        setosasetosa\n",
       "3             9.2          6.2           3.0          0.4        setosasetosa\n",
       "4            10.0          7.2           2.8          0.4        setosasetosa\n",
       "..            ...          ...           ...          ...                 ...\n",
       "145          13.4          6.0          10.4          4.6  virginicavirginica\n",
       "146          12.6          5.0          10.0          3.8  virginicavirginica\n",
       "147          13.0          6.0          10.4          4.0  virginicavirginica\n",
       "148          12.4          6.8          10.8          4.6  virginicavirginica\n",
       "149          11.8          6.0          10.2          3.6  virginicavirginica\n",
       "\n",
       "[150 rows x 5 columns]"
      ]
     },
     "execution_count": 492,
     "metadata": {},
     "output_type": "execute_result"
    }
   ],
   "source": [
    "df.apply(lambda x:x+x)"
   ]
  },
  {
   "cell_type": "code",
   "execution_count": 493,
   "id": "158dcbf3",
   "metadata": {},
   "outputs": [
    {
     "data": {
      "text/html": [
       "<div>\n",
       "<style scoped>\n",
       "    .dataframe tbody tr th:only-of-type {\n",
       "        vertical-align: middle;\n",
       "    }\n",
       "\n",
       "    .dataframe tbody tr th {\n",
       "        vertical-align: top;\n",
       "    }\n",
       "\n",
       "    .dataframe thead th {\n",
       "        text-align: right;\n",
       "    }\n",
       "</style>\n",
       "<table border=\"1\" class=\"dataframe\">\n",
       "  <thead>\n",
       "    <tr style=\"text-align: right;\">\n",
       "      <th></th>\n",
       "      <th>sepal_length</th>\n",
       "      <th>sepal_width</th>\n",
       "      <th>petal_length</th>\n",
       "      <th>petal_width</th>\n",
       "      <th>species</th>\n",
       "    </tr>\n",
       "  </thead>\n",
       "  <tbody>\n",
       "    <tr>\n",
       "      <th>0</th>\n",
       "      <td>5.1</td>\n",
       "      <td>3.5</td>\n",
       "      <td>1.4</td>\n",
       "      <td>0.2</td>\n",
       "      <td>setosa</td>\n",
       "    </tr>\n",
       "    <tr>\n",
       "      <th>1</th>\n",
       "      <td>4.9</td>\n",
       "      <td>3.0</td>\n",
       "      <td>1.4</td>\n",
       "      <td>0.2</td>\n",
       "      <td>setosa</td>\n",
       "    </tr>\n",
       "    <tr>\n",
       "      <th>2</th>\n",
       "      <td>4.7</td>\n",
       "      <td>3.2</td>\n",
       "      <td>1.3</td>\n",
       "      <td>0.2</td>\n",
       "      <td>setosa</td>\n",
       "    </tr>\n",
       "    <tr>\n",
       "      <th>3</th>\n",
       "      <td>4.6</td>\n",
       "      <td>3.1</td>\n",
       "      <td>1.5</td>\n",
       "      <td>0.2</td>\n",
       "      <td>setosa</td>\n",
       "    </tr>\n",
       "    <tr>\n",
       "      <th>4</th>\n",
       "      <td>5.0</td>\n",
       "      <td>3.6</td>\n",
       "      <td>1.4</td>\n",
       "      <td>0.2</td>\n",
       "      <td>setosa</td>\n",
       "    </tr>\n",
       "    <tr>\n",
       "      <th>...</th>\n",
       "      <td>...</td>\n",
       "      <td>...</td>\n",
       "      <td>...</td>\n",
       "      <td>...</td>\n",
       "      <td>...</td>\n",
       "    </tr>\n",
       "    <tr>\n",
       "      <th>145</th>\n",
       "      <td>6.7</td>\n",
       "      <td>3.0</td>\n",
       "      <td>5.2</td>\n",
       "      <td>2.3</td>\n",
       "      <td>virginica</td>\n",
       "    </tr>\n",
       "    <tr>\n",
       "      <th>146</th>\n",
       "      <td>6.3</td>\n",
       "      <td>2.5</td>\n",
       "      <td>5.0</td>\n",
       "      <td>1.9</td>\n",
       "      <td>virginica</td>\n",
       "    </tr>\n",
       "    <tr>\n",
       "      <th>147</th>\n",
       "      <td>6.5</td>\n",
       "      <td>3.0</td>\n",
       "      <td>5.2</td>\n",
       "      <td>2.0</td>\n",
       "      <td>virginica</td>\n",
       "    </tr>\n",
       "    <tr>\n",
       "      <th>148</th>\n",
       "      <td>6.2</td>\n",
       "      <td>3.4</td>\n",
       "      <td>5.4</td>\n",
       "      <td>2.3</td>\n",
       "      <td>virginica</td>\n",
       "    </tr>\n",
       "    <tr>\n",
       "      <th>149</th>\n",
       "      <td>5.9</td>\n",
       "      <td>3.0</td>\n",
       "      <td>5.1</td>\n",
       "      <td>1.8</td>\n",
       "      <td>virginica</td>\n",
       "    </tr>\n",
       "  </tbody>\n",
       "</table>\n",
       "<p>150 rows × 5 columns</p>\n",
       "</div>"
      ],
      "text/plain": [
       "     sepal_length  sepal_width  petal_length  petal_width    species\n",
       "0             5.1          3.5           1.4          0.2     setosa\n",
       "1             4.9          3.0           1.4          0.2     setosa\n",
       "2             4.7          3.2           1.3          0.2     setosa\n",
       "3             4.6          3.1           1.5          0.2     setosa\n",
       "4             5.0          3.6           1.4          0.2     setosa\n",
       "..            ...          ...           ...          ...        ...\n",
       "145           6.7          3.0           5.2          2.3  virginica\n",
       "146           6.3          2.5           5.0          1.9  virginica\n",
       "147           6.5          3.0           5.2          2.0  virginica\n",
       "148           6.2          3.4           5.4          2.3  virginica\n",
       "149           5.9          3.0           5.1          1.8  virginica\n",
       "\n",
       "[150 rows x 5 columns]"
      ]
     },
     "execution_count": 493,
     "metadata": {},
     "output_type": "execute_result"
    }
   ],
   "source": [
    "df"
   ]
  },
  {
   "cell_type": "code",
   "execution_count": 494,
   "id": "3da89ae1",
   "metadata": {},
   "outputs": [
    {
     "data": {
      "text/plain": [
       "sepal_length       4.3\n",
       "sepal_width        2.0\n",
       "petal_length       1.0\n",
       "petal_width        0.1\n",
       "species         setosa\n",
       "dtype: object"
      ]
     },
     "execution_count": 494,
     "metadata": {},
     "output_type": "execute_result"
    }
   ],
   "source": [
    "df.aggregate('min')"
   ]
  },
  {
   "cell_type": "code",
   "execution_count": 500,
   "id": "61ba8d0d",
   "metadata": {},
   "outputs": [
    {
     "data": {
      "text/plain": [
       "4.9"
      ]
     },
     "execution_count": 500,
     "metadata": {},
     "output_type": "execute_result"
    }
   ],
   "source": [
    "df[df.species=='setosa']['sepal_length'].min()"
   ]
  },
  {
   "cell_type": "code",
   "execution_count": 501,
   "id": "c882d660",
   "metadata": {},
   "outputs": [
    {
     "data": {
      "text/plain": [
       "2.3"
      ]
     },
     "execution_count": 501,
     "metadata": {},
     "output_type": "execute_result"
    }
   ],
   "source": [
    "df[df.species=='setosa']['sepal_width'].min()"
   ]
  },
  {
   "cell_type": "code",
   "execution_count": 502,
   "id": "e687be3a",
   "metadata": {},
   "outputs": [
    {
     "data": {
      "text/plain": [
       "1.0"
      ]
     },
     "execution_count": 502,
     "metadata": {},
     "output_type": "execute_result"
    }
   ],
   "source": [
    "df[df.species=='setosa']['petal_length'].min()"
   ]
  },
  {
   "cell_type": "code",
   "execution_count": 503,
   "id": "df53d8ed",
   "metadata": {},
   "outputs": [
    {
     "data": {
      "text/plain": [
       "0.1"
      ]
     },
     "execution_count": 503,
     "metadata": {},
     "output_type": "execute_result"
    }
   ],
   "source": [
    "df[df.species=='setosa']['petal_width'].min()"
   ]
  },
  {
   "cell_type": "code",
   "execution_count": 509,
   "id": "a89def2b",
   "metadata": {},
   "outputs": [
    {
     "name": "stderr",
     "output_type": "stream",
     "text": [
      "<ipython-input-509-ab996a4d760b>:1: FutureWarning: ['species'] did not aggregate successfully. If any error is raised this will raise in a future version of pandas. Drop these columns/ops to avoid this warning.\n",
      "  df.agg(['min', 'max','mean','std','median'])\n"
     ]
    },
    {
     "data": {
      "text/html": [
       "<div>\n",
       "<style scoped>\n",
       "    .dataframe tbody tr th:only-of-type {\n",
       "        vertical-align: middle;\n",
       "    }\n",
       "\n",
       "    .dataframe tbody tr th {\n",
       "        vertical-align: top;\n",
       "    }\n",
       "\n",
       "    .dataframe thead th {\n",
       "        text-align: right;\n",
       "    }\n",
       "</style>\n",
       "<table border=\"1\" class=\"dataframe\">\n",
       "  <thead>\n",
       "    <tr style=\"text-align: right;\">\n",
       "      <th></th>\n",
       "      <th>sepal_length</th>\n",
       "      <th>sepal_width</th>\n",
       "      <th>petal_length</th>\n",
       "      <th>petal_width</th>\n",
       "      <th>species</th>\n",
       "    </tr>\n",
       "  </thead>\n",
       "  <tbody>\n",
       "    <tr>\n",
       "      <th>min</th>\n",
       "      <td>4.300000</td>\n",
       "      <td>2.000000</td>\n",
       "      <td>1.000000</td>\n",
       "      <td>0.100000</td>\n",
       "      <td>setosa</td>\n",
       "    </tr>\n",
       "    <tr>\n",
       "      <th>max</th>\n",
       "      <td>7.900000</td>\n",
       "      <td>4.400000</td>\n",
       "      <td>6.900000</td>\n",
       "      <td>2.500000</td>\n",
       "      <td>virginica</td>\n",
       "    </tr>\n",
       "    <tr>\n",
       "      <th>mean</th>\n",
       "      <td>5.843333</td>\n",
       "      <td>3.054000</td>\n",
       "      <td>3.758667</td>\n",
       "      <td>1.198667</td>\n",
       "      <td>NaN</td>\n",
       "    </tr>\n",
       "    <tr>\n",
       "      <th>std</th>\n",
       "      <td>0.828066</td>\n",
       "      <td>0.433594</td>\n",
       "      <td>1.764420</td>\n",
       "      <td>0.763161</td>\n",
       "      <td>NaN</td>\n",
       "    </tr>\n",
       "    <tr>\n",
       "      <th>median</th>\n",
       "      <td>5.800000</td>\n",
       "      <td>3.000000</td>\n",
       "      <td>4.350000</td>\n",
       "      <td>1.300000</td>\n",
       "      <td>NaN</td>\n",
       "    </tr>\n",
       "  </tbody>\n",
       "</table>\n",
       "</div>"
      ],
      "text/plain": [
       "        sepal_length  sepal_width  petal_length  petal_width    species\n",
       "min         4.300000     2.000000      1.000000     0.100000     setosa\n",
       "max         7.900000     4.400000      6.900000     2.500000  virginica\n",
       "mean        5.843333     3.054000      3.758667     1.198667        NaN\n",
       "std         0.828066     0.433594      1.764420     0.763161        NaN\n",
       "median      5.800000     3.000000      4.350000     1.300000        NaN"
      ]
     },
     "execution_count": 509,
     "metadata": {},
     "output_type": "execute_result"
    }
   ],
   "source": [
    "df.agg(['min', 'max','mean','std','median'])"
   ]
  },
  {
   "cell_type": "code",
   "execution_count": 510,
   "id": "eb1b9352",
   "metadata": {},
   "outputs": [
    {
     "data": {
      "text/plain": [
       "0         setosa\n",
       "1         setosa\n",
       "2         setosa\n",
       "3         setosa\n",
       "4         setosa\n",
       "         ...    \n",
       "145    virginica\n",
       "146    virginica\n",
       "147    virginica\n",
       "148    virginica\n",
       "149    virginica\n",
       "Name: species, Length: 150, dtype: object"
      ]
     },
     "execution_count": 510,
     "metadata": {},
     "output_type": "execute_result"
    }
   ],
   "source": [
    "df.species"
   ]
  },
  {
   "cell_type": "code",
   "execution_count": 512,
   "id": "b94422b7",
   "metadata": {},
   "outputs": [],
   "source": [
    "group_object = df.groupby(by='species')"
   ]
  },
  {
   "cell_type": "code",
   "execution_count": 513,
   "id": "bb4a615e",
   "metadata": {},
   "outputs": [
    {
     "data": {
      "text/plain": [
       "<pandas.core.groupby.generic.DataFrameGroupBy object at 0x000002313A9C6CD0>"
      ]
     },
     "execution_count": 513,
     "metadata": {},
     "output_type": "execute_result"
    }
   ],
   "source": [
    "group_object"
   ]
  },
  {
   "cell_type": "code",
   "execution_count": 514,
   "id": "71d5bd21",
   "metadata": {},
   "outputs": [
    {
     "data": {
      "text/html": [
       "<div>\n",
       "<style scoped>\n",
       "    .dataframe tbody tr th:only-of-type {\n",
       "        vertical-align: middle;\n",
       "    }\n",
       "\n",
       "    .dataframe tbody tr th {\n",
       "        vertical-align: top;\n",
       "    }\n",
       "\n",
       "    .dataframe thead th {\n",
       "        text-align: right;\n",
       "    }\n",
       "</style>\n",
       "<table border=\"1\" class=\"dataframe\">\n",
       "  <thead>\n",
       "    <tr style=\"text-align: right;\">\n",
       "      <th></th>\n",
       "      <th>sepal_length</th>\n",
       "      <th>sepal_width</th>\n",
       "      <th>petal_length</th>\n",
       "      <th>petal_width</th>\n",
       "    </tr>\n",
       "    <tr>\n",
       "      <th>species</th>\n",
       "      <th></th>\n",
       "      <th></th>\n",
       "      <th></th>\n",
       "      <th></th>\n",
       "    </tr>\n",
       "  </thead>\n",
       "  <tbody>\n",
       "    <tr>\n",
       "      <th>setosa</th>\n",
       "      <td>4.3</td>\n",
       "      <td>2.3</td>\n",
       "      <td>1.0</td>\n",
       "      <td>0.1</td>\n",
       "    </tr>\n",
       "    <tr>\n",
       "      <th>versicolor</th>\n",
       "      <td>4.9</td>\n",
       "      <td>2.0</td>\n",
       "      <td>3.0</td>\n",
       "      <td>1.0</td>\n",
       "    </tr>\n",
       "    <tr>\n",
       "      <th>virginica</th>\n",
       "      <td>4.9</td>\n",
       "      <td>2.2</td>\n",
       "      <td>4.5</td>\n",
       "      <td>1.4</td>\n",
       "    </tr>\n",
       "  </tbody>\n",
       "</table>\n",
       "</div>"
      ],
      "text/plain": [
       "            sepal_length  sepal_width  petal_length  petal_width\n",
       "species                                                         \n",
       "setosa               4.3          2.3           1.0          0.1\n",
       "versicolor           4.9          2.0           3.0          1.0\n",
       "virginica            4.9          2.2           4.5          1.4"
      ]
     },
     "execution_count": 514,
     "metadata": {},
     "output_type": "execute_result"
    }
   ],
   "source": [
    "group_object.min()"
   ]
  },
  {
   "cell_type": "code",
   "execution_count": 515,
   "id": "3edcd881",
   "metadata": {},
   "outputs": [
    {
     "data": {
      "text/html": [
       "<div>\n",
       "<style scoped>\n",
       "    .dataframe tbody tr th:only-of-type {\n",
       "        vertical-align: middle;\n",
       "    }\n",
       "\n",
       "    .dataframe tbody tr th {\n",
       "        vertical-align: top;\n",
       "    }\n",
       "\n",
       "    .dataframe thead th {\n",
       "        text-align: right;\n",
       "    }\n",
       "</style>\n",
       "<table border=\"1\" class=\"dataframe\">\n",
       "  <thead>\n",
       "    <tr style=\"text-align: right;\">\n",
       "      <th></th>\n",
       "      <th>sepal_length</th>\n",
       "      <th>sepal_width</th>\n",
       "      <th>petal_length</th>\n",
       "      <th>petal_width</th>\n",
       "    </tr>\n",
       "    <tr>\n",
       "      <th>species</th>\n",
       "      <th></th>\n",
       "      <th></th>\n",
       "      <th></th>\n",
       "      <th></th>\n",
       "    </tr>\n",
       "  </thead>\n",
       "  <tbody>\n",
       "    <tr>\n",
       "      <th>setosa</th>\n",
       "      <td>5.8</td>\n",
       "      <td>4.4</td>\n",
       "      <td>1.9</td>\n",
       "      <td>0.6</td>\n",
       "    </tr>\n",
       "    <tr>\n",
       "      <th>versicolor</th>\n",
       "      <td>7.0</td>\n",
       "      <td>3.4</td>\n",
       "      <td>5.1</td>\n",
       "      <td>1.8</td>\n",
       "    </tr>\n",
       "    <tr>\n",
       "      <th>virginica</th>\n",
       "      <td>7.9</td>\n",
       "      <td>3.8</td>\n",
       "      <td>6.9</td>\n",
       "      <td>2.5</td>\n",
       "    </tr>\n",
       "  </tbody>\n",
       "</table>\n",
       "</div>"
      ],
      "text/plain": [
       "            sepal_length  sepal_width  petal_length  petal_width\n",
       "species                                                         \n",
       "setosa               5.8          4.4           1.9          0.6\n",
       "versicolor           7.0          3.4           5.1          1.8\n",
       "virginica            7.9          3.8           6.9          2.5"
      ]
     },
     "execution_count": 515,
     "metadata": {},
     "output_type": "execute_result"
    }
   ],
   "source": [
    "group_object.max()"
   ]
  },
  {
   "cell_type": "code",
   "execution_count": 516,
   "id": "0b72198d",
   "metadata": {},
   "outputs": [
    {
     "data": {
      "text/html": [
       "<div>\n",
       "<style scoped>\n",
       "    .dataframe tbody tr th:only-of-type {\n",
       "        vertical-align: middle;\n",
       "    }\n",
       "\n",
       "    .dataframe tbody tr th {\n",
       "        vertical-align: top;\n",
       "    }\n",
       "\n",
       "    .dataframe thead th {\n",
       "        text-align: right;\n",
       "    }\n",
       "</style>\n",
       "<table border=\"1\" class=\"dataframe\">\n",
       "  <thead>\n",
       "    <tr style=\"text-align: right;\">\n",
       "      <th></th>\n",
       "      <th>sepal_length</th>\n",
       "      <th>sepal_width</th>\n",
       "      <th>petal_length</th>\n",
       "      <th>petal_width</th>\n",
       "    </tr>\n",
       "    <tr>\n",
       "      <th>species</th>\n",
       "      <th></th>\n",
       "      <th></th>\n",
       "      <th></th>\n",
       "      <th></th>\n",
       "    </tr>\n",
       "  </thead>\n",
       "  <tbody>\n",
       "    <tr>\n",
       "      <th>setosa</th>\n",
       "      <td>5.0</td>\n",
       "      <td>3.4</td>\n",
       "      <td>1.50</td>\n",
       "      <td>0.2</td>\n",
       "    </tr>\n",
       "    <tr>\n",
       "      <th>versicolor</th>\n",
       "      <td>5.9</td>\n",
       "      <td>2.8</td>\n",
       "      <td>4.35</td>\n",
       "      <td>1.3</td>\n",
       "    </tr>\n",
       "    <tr>\n",
       "      <th>virginica</th>\n",
       "      <td>6.5</td>\n",
       "      <td>3.0</td>\n",
       "      <td>5.55</td>\n",
       "      <td>2.0</td>\n",
       "    </tr>\n",
       "  </tbody>\n",
       "</table>\n",
       "</div>"
      ],
      "text/plain": [
       "            sepal_length  sepal_width  petal_length  petal_width\n",
       "species                                                         \n",
       "setosa               5.0          3.4          1.50          0.2\n",
       "versicolor           5.9          2.8          4.35          1.3\n",
       "virginica            6.5          3.0          5.55          2.0"
      ]
     },
     "execution_count": 516,
     "metadata": {},
     "output_type": "execute_result"
    }
   ],
   "source": [
    "group_object.median()"
   ]
  },
  {
   "cell_type": "code",
   "execution_count": 519,
   "id": "dd794965",
   "metadata": {},
   "outputs": [
    {
     "data": {
      "text/html": [
       "<div>\n",
       "<style scoped>\n",
       "    .dataframe tbody tr th:only-of-type {\n",
       "        vertical-align: middle;\n",
       "    }\n",
       "\n",
       "    .dataframe tbody tr th {\n",
       "        vertical-align: top;\n",
       "    }\n",
       "\n",
       "    .dataframe thead th {\n",
       "        text-align: right;\n",
       "    }\n",
       "</style>\n",
       "<table border=\"1\" class=\"dataframe\">\n",
       "  <thead>\n",
       "    <tr style=\"text-align: right;\">\n",
       "      <th></th>\n",
       "      <th>species</th>\n",
       "      <th>setosa</th>\n",
       "      <th>versicolor</th>\n",
       "      <th>virginica</th>\n",
       "    </tr>\n",
       "  </thead>\n",
       "  <tbody>\n",
       "    <tr>\n",
       "      <th rowspan=\"4\" valign=\"top\">sepal_length</th>\n",
       "      <th>min</th>\n",
       "      <td>4.300000</td>\n",
       "      <td>4.900000</td>\n",
       "      <td>4.900000</td>\n",
       "    </tr>\n",
       "    <tr>\n",
       "      <th>max</th>\n",
       "      <td>5.800000</td>\n",
       "      <td>7.000000</td>\n",
       "      <td>7.900000</td>\n",
       "    </tr>\n",
       "    <tr>\n",
       "      <th>median</th>\n",
       "      <td>5.000000</td>\n",
       "      <td>5.900000</td>\n",
       "      <td>6.500000</td>\n",
       "    </tr>\n",
       "    <tr>\n",
       "      <th>std</th>\n",
       "      <td>0.352490</td>\n",
       "      <td>0.516171</td>\n",
       "      <td>0.635880</td>\n",
       "    </tr>\n",
       "    <tr>\n",
       "      <th rowspan=\"4\" valign=\"top\">sepal_width</th>\n",
       "      <th>min</th>\n",
       "      <td>2.300000</td>\n",
       "      <td>2.000000</td>\n",
       "      <td>2.200000</td>\n",
       "    </tr>\n",
       "    <tr>\n",
       "      <th>max</th>\n",
       "      <td>4.400000</td>\n",
       "      <td>3.400000</td>\n",
       "      <td>3.800000</td>\n",
       "    </tr>\n",
       "    <tr>\n",
       "      <th>median</th>\n",
       "      <td>3.400000</td>\n",
       "      <td>2.800000</td>\n",
       "      <td>3.000000</td>\n",
       "    </tr>\n",
       "    <tr>\n",
       "      <th>std</th>\n",
       "      <td>0.381024</td>\n",
       "      <td>0.313798</td>\n",
       "      <td>0.322497</td>\n",
       "    </tr>\n",
       "    <tr>\n",
       "      <th rowspan=\"4\" valign=\"top\">petal_length</th>\n",
       "      <th>min</th>\n",
       "      <td>1.000000</td>\n",
       "      <td>3.000000</td>\n",
       "      <td>4.500000</td>\n",
       "    </tr>\n",
       "    <tr>\n",
       "      <th>max</th>\n",
       "      <td>1.900000</td>\n",
       "      <td>5.100000</td>\n",
       "      <td>6.900000</td>\n",
       "    </tr>\n",
       "    <tr>\n",
       "      <th>median</th>\n",
       "      <td>1.500000</td>\n",
       "      <td>4.350000</td>\n",
       "      <td>5.550000</td>\n",
       "    </tr>\n",
       "    <tr>\n",
       "      <th>std</th>\n",
       "      <td>0.173511</td>\n",
       "      <td>0.469911</td>\n",
       "      <td>0.551895</td>\n",
       "    </tr>\n",
       "    <tr>\n",
       "      <th rowspan=\"4\" valign=\"top\">petal_width</th>\n",
       "      <th>min</th>\n",
       "      <td>0.100000</td>\n",
       "      <td>1.000000</td>\n",
       "      <td>1.400000</td>\n",
       "    </tr>\n",
       "    <tr>\n",
       "      <th>max</th>\n",
       "      <td>0.600000</td>\n",
       "      <td>1.800000</td>\n",
       "      <td>2.500000</td>\n",
       "    </tr>\n",
       "    <tr>\n",
       "      <th>median</th>\n",
       "      <td>0.200000</td>\n",
       "      <td>1.300000</td>\n",
       "      <td>2.000000</td>\n",
       "    </tr>\n",
       "    <tr>\n",
       "      <th>std</th>\n",
       "      <td>0.107210</td>\n",
       "      <td>0.197753</td>\n",
       "      <td>0.274650</td>\n",
       "    </tr>\n",
       "  </tbody>\n",
       "</table>\n",
       "</div>"
      ],
      "text/plain": [
       "species                setosa  versicolor  virginica\n",
       "sepal_length min     4.300000    4.900000   4.900000\n",
       "             max     5.800000    7.000000   7.900000\n",
       "             median  5.000000    5.900000   6.500000\n",
       "             std     0.352490    0.516171   0.635880\n",
       "sepal_width  min     2.300000    2.000000   2.200000\n",
       "             max     4.400000    3.400000   3.800000\n",
       "             median  3.400000    2.800000   3.000000\n",
       "             std     0.381024    0.313798   0.322497\n",
       "petal_length min     1.000000    3.000000   4.500000\n",
       "             max     1.900000    5.100000   6.900000\n",
       "             median  1.500000    4.350000   5.550000\n",
       "             std     0.173511    0.469911   0.551895\n",
       "petal_width  min     0.100000    1.000000   1.400000\n",
       "             max     0.600000    1.800000   2.500000\n",
       "             median  0.200000    1.300000   2.000000\n",
       "             std     0.107210    0.197753   0.274650"
      ]
     },
     "execution_count": 519,
     "metadata": {},
     "output_type": "execute_result"
    }
   ],
   "source": [
    "group_object.aggregate(['min', 'max', 'median', 'std']).T"
   ]
  },
  {
   "cell_type": "code",
   "execution_count": 520,
   "id": "a9351bbc",
   "metadata": {},
   "outputs": [
    {
     "data": {
      "text/html": [
       "<div>\n",
       "<style scoped>\n",
       "    .dataframe tbody tr th:only-of-type {\n",
       "        vertical-align: middle;\n",
       "    }\n",
       "\n",
       "    .dataframe tbody tr th {\n",
       "        vertical-align: top;\n",
       "    }\n",
       "\n",
       "    .dataframe thead th {\n",
       "        text-align: right;\n",
       "    }\n",
       "</style>\n",
       "<table border=\"1\" class=\"dataframe\">\n",
       "  <thead>\n",
       "    <tr style=\"text-align: right;\">\n",
       "      <th></th>\n",
       "      <th>sepal_length</th>\n",
       "      <th>sepal_width</th>\n",
       "      <th>petal_length</th>\n",
       "      <th>petal_width</th>\n",
       "    </tr>\n",
       "    <tr>\n",
       "      <th>species</th>\n",
       "      <th></th>\n",
       "      <th></th>\n",
       "      <th></th>\n",
       "      <th></th>\n",
       "    </tr>\n",
       "  </thead>\n",
       "  <tbody>\n",
       "    <tr>\n",
       "      <th>setosa</th>\n",
       "      <td>50</td>\n",
       "      <td>50</td>\n",
       "      <td>50</td>\n",
       "      <td>50</td>\n",
       "    </tr>\n",
       "    <tr>\n",
       "      <th>versicolor</th>\n",
       "      <td>50</td>\n",
       "      <td>50</td>\n",
       "      <td>50</td>\n",
       "      <td>50</td>\n",
       "    </tr>\n",
       "    <tr>\n",
       "      <th>virginica</th>\n",
       "      <td>50</td>\n",
       "      <td>50</td>\n",
       "      <td>50</td>\n",
       "      <td>50</td>\n",
       "    </tr>\n",
       "  </tbody>\n",
       "</table>\n",
       "</div>"
      ],
      "text/plain": [
       "            sepal_length  sepal_width  petal_length  petal_width\n",
       "species                                                         \n",
       "setosa                50           50            50           50\n",
       "versicolor            50           50            50           50\n",
       "virginica             50           50            50           50"
      ]
     },
     "execution_count": 520,
     "metadata": {},
     "output_type": "execute_result"
    }
   ],
   "source": [
    "group_object.count()"
   ]
  },
  {
   "cell_type": "code",
   "execution_count": 521,
   "id": "acd0a32d",
   "metadata": {},
   "outputs": [
    {
     "name": "stderr",
     "output_type": "stream",
     "text": [
      "<ipython-input-521-2f6f6606aa2c>:1: FutureWarning: The default value of numeric_only in DataFrame.corr is deprecated. In a future version, it will default to False. Select only valid columns or specify the value of numeric_only to silence this warning.\n",
      "  df.corr()\n"
     ]
    },
    {
     "data": {
      "text/html": [
       "<div>\n",
       "<style scoped>\n",
       "    .dataframe tbody tr th:only-of-type {\n",
       "        vertical-align: middle;\n",
       "    }\n",
       "\n",
       "    .dataframe tbody tr th {\n",
       "        vertical-align: top;\n",
       "    }\n",
       "\n",
       "    .dataframe thead th {\n",
       "        text-align: right;\n",
       "    }\n",
       "</style>\n",
       "<table border=\"1\" class=\"dataframe\">\n",
       "  <thead>\n",
       "    <tr style=\"text-align: right;\">\n",
       "      <th></th>\n",
       "      <th>sepal_length</th>\n",
       "      <th>sepal_width</th>\n",
       "      <th>petal_length</th>\n",
       "      <th>petal_width</th>\n",
       "    </tr>\n",
       "  </thead>\n",
       "  <tbody>\n",
       "    <tr>\n",
       "      <th>sepal_length</th>\n",
       "      <td>1.000000</td>\n",
       "      <td>-0.109369</td>\n",
       "      <td>0.871754</td>\n",
       "      <td>0.817954</td>\n",
       "    </tr>\n",
       "    <tr>\n",
       "      <th>sepal_width</th>\n",
       "      <td>-0.109369</td>\n",
       "      <td>1.000000</td>\n",
       "      <td>-0.420516</td>\n",
       "      <td>-0.356544</td>\n",
       "    </tr>\n",
       "    <tr>\n",
       "      <th>petal_length</th>\n",
       "      <td>0.871754</td>\n",
       "      <td>-0.420516</td>\n",
       "      <td>1.000000</td>\n",
       "      <td>0.962757</td>\n",
       "    </tr>\n",
       "    <tr>\n",
       "      <th>petal_width</th>\n",
       "      <td>0.817954</td>\n",
       "      <td>-0.356544</td>\n",
       "      <td>0.962757</td>\n",
       "      <td>1.000000</td>\n",
       "    </tr>\n",
       "  </tbody>\n",
       "</table>\n",
       "</div>"
      ],
      "text/plain": [
       "              sepal_length  sepal_width  petal_length  petal_width\n",
       "sepal_length      1.000000    -0.109369      0.871754     0.817954\n",
       "sepal_width      -0.109369     1.000000     -0.420516    -0.356544\n",
       "petal_length      0.871754    -0.420516      1.000000     0.962757\n",
       "petal_width       0.817954    -0.356544      0.962757     1.000000"
      ]
     },
     "execution_count": 521,
     "metadata": {},
     "output_type": "execute_result"
    }
   ],
   "source": [
    "df.corr()"
   ]
  },
  {
   "cell_type": "code",
   "execution_count": 522,
   "id": "bd8d9f18",
   "metadata": {},
   "outputs": [
    {
     "data": {
      "text/html": [
       "<div>\n",
       "<style scoped>\n",
       "    .dataframe tbody tr th:only-of-type {\n",
       "        vertical-align: middle;\n",
       "    }\n",
       "\n",
       "    .dataframe tbody tr th {\n",
       "        vertical-align: top;\n",
       "    }\n",
       "\n",
       "    .dataframe thead th {\n",
       "        text-align: right;\n",
       "    }\n",
       "</style>\n",
       "<table border=\"1\" class=\"dataframe\">\n",
       "  <thead>\n",
       "    <tr style=\"text-align: right;\">\n",
       "      <th></th>\n",
       "      <th>sepal_length</th>\n",
       "      <th>sepal_width</th>\n",
       "      <th>petal_length</th>\n",
       "      <th>petal_width</th>\n",
       "    </tr>\n",
       "    <tr>\n",
       "      <th>species</th>\n",
       "      <th></th>\n",
       "      <th></th>\n",
       "      <th></th>\n",
       "      <th></th>\n",
       "    </tr>\n",
       "  </thead>\n",
       "  <tbody>\n",
       "    <tr>\n",
       "      <th>setosa</th>\n",
       "      <td>250.3</td>\n",
       "      <td>170.9</td>\n",
       "      <td>73.2</td>\n",
       "      <td>12.2</td>\n",
       "    </tr>\n",
       "    <tr>\n",
       "      <th>versicolor</th>\n",
       "      <td>296.8</td>\n",
       "      <td>138.5</td>\n",
       "      <td>213.0</td>\n",
       "      <td>66.3</td>\n",
       "    </tr>\n",
       "    <tr>\n",
       "      <th>virginica</th>\n",
       "      <td>329.4</td>\n",
       "      <td>148.7</td>\n",
       "      <td>277.6</td>\n",
       "      <td>101.3</td>\n",
       "    </tr>\n",
       "  </tbody>\n",
       "</table>\n",
       "</div>"
      ],
      "text/plain": [
       "            sepal_length  sepal_width  petal_length  petal_width\n",
       "species                                                         \n",
       "setosa             250.3        170.9          73.2         12.2\n",
       "versicolor         296.8        138.5         213.0         66.3\n",
       "virginica          329.4        148.7         277.6        101.3"
      ]
     },
     "execution_count": 522,
     "metadata": {},
     "output_type": "execute_result"
    }
   ],
   "source": [
    "group_object.sum()"
   ]
  },
  {
   "cell_type": "code",
   "execution_count": 524,
   "id": "4f255f00",
   "metadata": {},
   "outputs": [
    {
     "data": {
      "text/html": [
       "<div>\n",
       "<style scoped>\n",
       "    .dataframe tbody tr th:only-of-type {\n",
       "        vertical-align: middle;\n",
       "    }\n",
       "\n",
       "    .dataframe tbody tr th {\n",
       "        vertical-align: top;\n",
       "    }\n",
       "\n",
       "    .dataframe thead th {\n",
       "        text-align: right;\n",
       "    }\n",
       "</style>\n",
       "<table border=\"1\" class=\"dataframe\">\n",
       "  <thead>\n",
       "    <tr style=\"text-align: right;\">\n",
       "      <th></th>\n",
       "      <th>species</th>\n",
       "      <th>setosa</th>\n",
       "      <th>versicolor</th>\n",
       "      <th>virginica</th>\n",
       "    </tr>\n",
       "  </thead>\n",
       "  <tbody>\n",
       "    <tr>\n",
       "      <th rowspan=\"8\" valign=\"top\">sepal_length</th>\n",
       "      <th>count</th>\n",
       "      <td>50.000000</td>\n",
       "      <td>50.000000</td>\n",
       "      <td>50.000000</td>\n",
       "    </tr>\n",
       "    <tr>\n",
       "      <th>mean</th>\n",
       "      <td>5.006000</td>\n",
       "      <td>5.936000</td>\n",
       "      <td>6.588000</td>\n",
       "    </tr>\n",
       "    <tr>\n",
       "      <th>std</th>\n",
       "      <td>0.352490</td>\n",
       "      <td>0.516171</td>\n",
       "      <td>0.635880</td>\n",
       "    </tr>\n",
       "    <tr>\n",
       "      <th>min</th>\n",
       "      <td>4.300000</td>\n",
       "      <td>4.900000</td>\n",
       "      <td>4.900000</td>\n",
       "    </tr>\n",
       "    <tr>\n",
       "      <th>25%</th>\n",
       "      <td>4.800000</td>\n",
       "      <td>5.600000</td>\n",
       "      <td>6.225000</td>\n",
       "    </tr>\n",
       "    <tr>\n",
       "      <th>50%</th>\n",
       "      <td>5.000000</td>\n",
       "      <td>5.900000</td>\n",
       "      <td>6.500000</td>\n",
       "    </tr>\n",
       "    <tr>\n",
       "      <th>75%</th>\n",
       "      <td>5.200000</td>\n",
       "      <td>6.300000</td>\n",
       "      <td>6.900000</td>\n",
       "    </tr>\n",
       "    <tr>\n",
       "      <th>max</th>\n",
       "      <td>5.800000</td>\n",
       "      <td>7.000000</td>\n",
       "      <td>7.900000</td>\n",
       "    </tr>\n",
       "    <tr>\n",
       "      <th rowspan=\"8\" valign=\"top\">sepal_width</th>\n",
       "      <th>count</th>\n",
       "      <td>50.000000</td>\n",
       "      <td>50.000000</td>\n",
       "      <td>50.000000</td>\n",
       "    </tr>\n",
       "    <tr>\n",
       "      <th>mean</th>\n",
       "      <td>3.418000</td>\n",
       "      <td>2.770000</td>\n",
       "      <td>2.974000</td>\n",
       "    </tr>\n",
       "    <tr>\n",
       "      <th>std</th>\n",
       "      <td>0.381024</td>\n",
       "      <td>0.313798</td>\n",
       "      <td>0.322497</td>\n",
       "    </tr>\n",
       "    <tr>\n",
       "      <th>min</th>\n",
       "      <td>2.300000</td>\n",
       "      <td>2.000000</td>\n",
       "      <td>2.200000</td>\n",
       "    </tr>\n",
       "    <tr>\n",
       "      <th>25%</th>\n",
       "      <td>3.125000</td>\n",
       "      <td>2.525000</td>\n",
       "      <td>2.800000</td>\n",
       "    </tr>\n",
       "    <tr>\n",
       "      <th>50%</th>\n",
       "      <td>3.400000</td>\n",
       "      <td>2.800000</td>\n",
       "      <td>3.000000</td>\n",
       "    </tr>\n",
       "    <tr>\n",
       "      <th>75%</th>\n",
       "      <td>3.675000</td>\n",
       "      <td>3.000000</td>\n",
       "      <td>3.175000</td>\n",
       "    </tr>\n",
       "    <tr>\n",
       "      <th>max</th>\n",
       "      <td>4.400000</td>\n",
       "      <td>3.400000</td>\n",
       "      <td>3.800000</td>\n",
       "    </tr>\n",
       "    <tr>\n",
       "      <th rowspan=\"8\" valign=\"top\">petal_length</th>\n",
       "      <th>count</th>\n",
       "      <td>50.000000</td>\n",
       "      <td>50.000000</td>\n",
       "      <td>50.000000</td>\n",
       "    </tr>\n",
       "    <tr>\n",
       "      <th>mean</th>\n",
       "      <td>1.464000</td>\n",
       "      <td>4.260000</td>\n",
       "      <td>5.552000</td>\n",
       "    </tr>\n",
       "    <tr>\n",
       "      <th>std</th>\n",
       "      <td>0.173511</td>\n",
       "      <td>0.469911</td>\n",
       "      <td>0.551895</td>\n",
       "    </tr>\n",
       "    <tr>\n",
       "      <th>min</th>\n",
       "      <td>1.000000</td>\n",
       "      <td>3.000000</td>\n",
       "      <td>4.500000</td>\n",
       "    </tr>\n",
       "    <tr>\n",
       "      <th>25%</th>\n",
       "      <td>1.400000</td>\n",
       "      <td>4.000000</td>\n",
       "      <td>5.100000</td>\n",
       "    </tr>\n",
       "    <tr>\n",
       "      <th>50%</th>\n",
       "      <td>1.500000</td>\n",
       "      <td>4.350000</td>\n",
       "      <td>5.550000</td>\n",
       "    </tr>\n",
       "    <tr>\n",
       "      <th>75%</th>\n",
       "      <td>1.575000</td>\n",
       "      <td>4.600000</td>\n",
       "      <td>5.875000</td>\n",
       "    </tr>\n",
       "    <tr>\n",
       "      <th>max</th>\n",
       "      <td>1.900000</td>\n",
       "      <td>5.100000</td>\n",
       "      <td>6.900000</td>\n",
       "    </tr>\n",
       "    <tr>\n",
       "      <th rowspan=\"8\" valign=\"top\">petal_width</th>\n",
       "      <th>count</th>\n",
       "      <td>50.000000</td>\n",
       "      <td>50.000000</td>\n",
       "      <td>50.000000</td>\n",
       "    </tr>\n",
       "    <tr>\n",
       "      <th>mean</th>\n",
       "      <td>0.244000</td>\n",
       "      <td>1.326000</td>\n",
       "      <td>2.026000</td>\n",
       "    </tr>\n",
       "    <tr>\n",
       "      <th>std</th>\n",
       "      <td>0.107210</td>\n",
       "      <td>0.197753</td>\n",
       "      <td>0.274650</td>\n",
       "    </tr>\n",
       "    <tr>\n",
       "      <th>min</th>\n",
       "      <td>0.100000</td>\n",
       "      <td>1.000000</td>\n",
       "      <td>1.400000</td>\n",
       "    </tr>\n",
       "    <tr>\n",
       "      <th>25%</th>\n",
       "      <td>0.200000</td>\n",
       "      <td>1.200000</td>\n",
       "      <td>1.800000</td>\n",
       "    </tr>\n",
       "    <tr>\n",
       "      <th>50%</th>\n",
       "      <td>0.200000</td>\n",
       "      <td>1.300000</td>\n",
       "      <td>2.000000</td>\n",
       "    </tr>\n",
       "    <tr>\n",
       "      <th>75%</th>\n",
       "      <td>0.300000</td>\n",
       "      <td>1.500000</td>\n",
       "      <td>2.300000</td>\n",
       "    </tr>\n",
       "    <tr>\n",
       "      <th>max</th>\n",
       "      <td>0.600000</td>\n",
       "      <td>1.800000</td>\n",
       "      <td>2.500000</td>\n",
       "    </tr>\n",
       "  </tbody>\n",
       "</table>\n",
       "</div>"
      ],
      "text/plain": [
       "species                setosa  versicolor  virginica\n",
       "sepal_length count  50.000000   50.000000  50.000000\n",
       "             mean    5.006000    5.936000   6.588000\n",
       "             std     0.352490    0.516171   0.635880\n",
       "             min     4.300000    4.900000   4.900000\n",
       "             25%     4.800000    5.600000   6.225000\n",
       "             50%     5.000000    5.900000   6.500000\n",
       "             75%     5.200000    6.300000   6.900000\n",
       "             max     5.800000    7.000000   7.900000\n",
       "sepal_width  count  50.000000   50.000000  50.000000\n",
       "             mean    3.418000    2.770000   2.974000\n",
       "             std     0.381024    0.313798   0.322497\n",
       "             min     2.300000    2.000000   2.200000\n",
       "             25%     3.125000    2.525000   2.800000\n",
       "             50%     3.400000    2.800000   3.000000\n",
       "             75%     3.675000    3.000000   3.175000\n",
       "             max     4.400000    3.400000   3.800000\n",
       "petal_length count  50.000000   50.000000  50.000000\n",
       "             mean    1.464000    4.260000   5.552000\n",
       "             std     0.173511    0.469911   0.551895\n",
       "             min     1.000000    3.000000   4.500000\n",
       "             25%     1.400000    4.000000   5.100000\n",
       "             50%     1.500000    4.350000   5.550000\n",
       "             75%     1.575000    4.600000   5.875000\n",
       "             max     1.900000    5.100000   6.900000\n",
       "petal_width  count  50.000000   50.000000  50.000000\n",
       "             mean    0.244000    1.326000   2.026000\n",
       "             std     0.107210    0.197753   0.274650\n",
       "             min     0.100000    1.000000   1.400000\n",
       "             25%     0.200000    1.200000   1.800000\n",
       "             50%     0.200000    1.300000   2.000000\n",
       "             75%     0.300000    1.500000   2.300000\n",
       "             max     0.600000    1.800000   2.500000"
      ]
     },
     "execution_count": 524,
     "metadata": {},
     "output_type": "execute_result"
    }
   ],
   "source": [
    "group_object.describe().T"
   ]
  },
  {
   "cell_type": "code",
   "execution_count": 526,
   "id": "31c071f1",
   "metadata": {},
   "outputs": [
    {
     "data": {
      "text/html": [
       "<div>\n",
       "<style scoped>\n",
       "    .dataframe tbody tr th:only-of-type {\n",
       "        vertical-align: middle;\n",
       "    }\n",
       "\n",
       "    .dataframe tbody tr th {\n",
       "        vertical-align: top;\n",
       "    }\n",
       "\n",
       "    .dataframe thead th {\n",
       "        text-align: right;\n",
       "    }\n",
       "</style>\n",
       "<table border=\"1\" class=\"dataframe\">\n",
       "  <thead>\n",
       "    <tr style=\"text-align: right;\">\n",
       "      <th></th>\n",
       "      <th>sepal_length</th>\n",
       "      <th>sepal_width</th>\n",
       "      <th>petal_length</th>\n",
       "      <th>petal_width</th>\n",
       "    </tr>\n",
       "  </thead>\n",
       "  <tbody>\n",
       "    <tr>\n",
       "      <th>sepal_length</th>\n",
       "      <td>1.000000</td>\n",
       "      <td>-0.109369</td>\n",
       "      <td>0.871754</td>\n",
       "      <td>0.817954</td>\n",
       "    </tr>\n",
       "    <tr>\n",
       "      <th>sepal_width</th>\n",
       "      <td>-0.109369</td>\n",
       "      <td>1.000000</td>\n",
       "      <td>-0.420516</td>\n",
       "      <td>-0.356544</td>\n",
       "    </tr>\n",
       "    <tr>\n",
       "      <th>petal_length</th>\n",
       "      <td>0.871754</td>\n",
       "      <td>-0.420516</td>\n",
       "      <td>1.000000</td>\n",
       "      <td>0.962757</td>\n",
       "    </tr>\n",
       "    <tr>\n",
       "      <th>petal_width</th>\n",
       "      <td>0.817954</td>\n",
       "      <td>-0.356544</td>\n",
       "      <td>0.962757</td>\n",
       "      <td>1.000000</td>\n",
       "    </tr>\n",
       "  </tbody>\n",
       "</table>\n",
       "</div>"
      ],
      "text/plain": [
       "              sepal_length  sepal_width  petal_length  petal_width\n",
       "sepal_length      1.000000    -0.109369      0.871754     0.817954\n",
       "sepal_width      -0.109369     1.000000     -0.420516    -0.356544\n",
       "petal_length      0.871754    -0.420516      1.000000     0.962757\n",
       "petal_width       0.817954    -0.356544      0.962757     1.000000"
      ]
     },
     "execution_count": 526,
     "metadata": {},
     "output_type": "execute_result"
    }
   ],
   "source": [
    "import warnings\n",
    "warnings.filterwarnings('ignore')\n",
    "\n",
    "df.corr()"
   ]
  },
  {
   "cell_type": "code",
   "execution_count": 528,
   "id": "f77418a2",
   "metadata": {},
   "outputs": [
    {
     "data": {
      "text/plain": [
       "sepal_length    0\n",
       "sepal_width     0\n",
       "petal_length    0\n",
       "petal_width     0\n",
       "species         0\n",
       "dtype: int64"
      ]
     },
     "execution_count": 528,
     "metadata": {},
     "output_type": "execute_result"
    }
   ],
   "source": [
    "df.isnull().sum()"
   ]
  },
  {
   "cell_type": "code",
   "execution_count": 532,
   "id": "9f72d124",
   "metadata": {},
   "outputs": [],
   "source": [
    "nan_indx = np.random.randint(0,150,20)"
   ]
  },
  {
   "cell_type": "code",
   "execution_count": 536,
   "id": "f1e7fd6d",
   "metadata": {},
   "outputs": [],
   "source": [
    "df['sepal_width'][nan_indx] = np.nan"
   ]
  },
  {
   "cell_type": "code",
   "execution_count": 537,
   "id": "3c9c85ad",
   "metadata": {},
   "outputs": [
    {
     "data": {
      "text/html": [
       "<div>\n",
       "<style scoped>\n",
       "    .dataframe tbody tr th:only-of-type {\n",
       "        vertical-align: middle;\n",
       "    }\n",
       "\n",
       "    .dataframe tbody tr th {\n",
       "        vertical-align: top;\n",
       "    }\n",
       "\n",
       "    .dataframe thead th {\n",
       "        text-align: right;\n",
       "    }\n",
       "</style>\n",
       "<table border=\"1\" class=\"dataframe\">\n",
       "  <thead>\n",
       "    <tr style=\"text-align: right;\">\n",
       "      <th></th>\n",
       "      <th>sepal_length</th>\n",
       "      <th>sepal_width</th>\n",
       "      <th>petal_length</th>\n",
       "      <th>petal_width</th>\n",
       "      <th>species</th>\n",
       "    </tr>\n",
       "  </thead>\n",
       "  <tbody>\n",
       "    <tr>\n",
       "      <th>0</th>\n",
       "      <td>5.1</td>\n",
       "      <td>NaN</td>\n",
       "      <td>1.4</td>\n",
       "      <td>0.2</td>\n",
       "      <td>setosa</td>\n",
       "    </tr>\n",
       "    <tr>\n",
       "      <th>1</th>\n",
       "      <td>4.9</td>\n",
       "      <td>3.0</td>\n",
       "      <td>1.4</td>\n",
       "      <td>0.2</td>\n",
       "      <td>setosa</td>\n",
       "    </tr>\n",
       "    <tr>\n",
       "      <th>2</th>\n",
       "      <td>4.7</td>\n",
       "      <td>3.2</td>\n",
       "      <td>1.3</td>\n",
       "      <td>0.2</td>\n",
       "      <td>setosa</td>\n",
       "    </tr>\n",
       "    <tr>\n",
       "      <th>3</th>\n",
       "      <td>4.6</td>\n",
       "      <td>3.1</td>\n",
       "      <td>1.5</td>\n",
       "      <td>0.2</td>\n",
       "      <td>setosa</td>\n",
       "    </tr>\n",
       "    <tr>\n",
       "      <th>4</th>\n",
       "      <td>5.0</td>\n",
       "      <td>3.6</td>\n",
       "      <td>1.4</td>\n",
       "      <td>0.2</td>\n",
       "      <td>setosa</td>\n",
       "    </tr>\n",
       "    <tr>\n",
       "      <th>...</th>\n",
       "      <td>...</td>\n",
       "      <td>...</td>\n",
       "      <td>...</td>\n",
       "      <td>...</td>\n",
       "      <td>...</td>\n",
       "    </tr>\n",
       "    <tr>\n",
       "      <th>145</th>\n",
       "      <td>6.7</td>\n",
       "      <td>3.0</td>\n",
       "      <td>5.2</td>\n",
       "      <td>2.3</td>\n",
       "      <td>virginica</td>\n",
       "    </tr>\n",
       "    <tr>\n",
       "      <th>146</th>\n",
       "      <td>6.3</td>\n",
       "      <td>2.5</td>\n",
       "      <td>5.0</td>\n",
       "      <td>1.9</td>\n",
       "      <td>virginica</td>\n",
       "    </tr>\n",
       "    <tr>\n",
       "      <th>147</th>\n",
       "      <td>6.5</td>\n",
       "      <td>3.0</td>\n",
       "      <td>5.2</td>\n",
       "      <td>2.0</td>\n",
       "      <td>virginica</td>\n",
       "    </tr>\n",
       "    <tr>\n",
       "      <th>148</th>\n",
       "      <td>6.2</td>\n",
       "      <td>3.4</td>\n",
       "      <td>5.4</td>\n",
       "      <td>2.3</td>\n",
       "      <td>virginica</td>\n",
       "    </tr>\n",
       "    <tr>\n",
       "      <th>149</th>\n",
       "      <td>5.9</td>\n",
       "      <td>3.0</td>\n",
       "      <td>5.1</td>\n",
       "      <td>1.8</td>\n",
       "      <td>virginica</td>\n",
       "    </tr>\n",
       "  </tbody>\n",
       "</table>\n",
       "<p>150 rows × 5 columns</p>\n",
       "</div>"
      ],
      "text/plain": [
       "     sepal_length  sepal_width  petal_length  petal_width    species\n",
       "0             5.1          NaN           1.4          0.2     setosa\n",
       "1             4.9          3.0           1.4          0.2     setosa\n",
       "2             4.7          3.2           1.3          0.2     setosa\n",
       "3             4.6          3.1           1.5          0.2     setosa\n",
       "4             5.0          3.6           1.4          0.2     setosa\n",
       "..            ...          ...           ...          ...        ...\n",
       "145           6.7          3.0           5.2          2.3  virginica\n",
       "146           6.3          2.5           5.0          1.9  virginica\n",
       "147           6.5          3.0           5.2          2.0  virginica\n",
       "148           6.2          3.4           5.4          2.3  virginica\n",
       "149           5.9          3.0           5.1          1.8  virginica\n",
       "\n",
       "[150 rows x 5 columns]"
      ]
     },
     "execution_count": 537,
     "metadata": {},
     "output_type": "execute_result"
    }
   ],
   "source": [
    "df"
   ]
  },
  {
   "cell_type": "code",
   "execution_count": 539,
   "id": "9c0711fc",
   "metadata": {},
   "outputs": [],
   "source": [
    "idx_nan = np.random.randint(0,150,15)"
   ]
  },
  {
   "cell_type": "code",
   "execution_count": 543,
   "id": "35ab58a8",
   "metadata": {},
   "outputs": [],
   "source": [
    "df.petal_width[idx_nan] = np.nan"
   ]
  },
  {
   "cell_type": "code",
   "execution_count": 544,
   "id": "0c353041",
   "metadata": {},
   "outputs": [
    {
     "data": {
      "text/html": [
       "<div>\n",
       "<style scoped>\n",
       "    .dataframe tbody tr th:only-of-type {\n",
       "        vertical-align: middle;\n",
       "    }\n",
       "\n",
       "    .dataframe tbody tr th {\n",
       "        vertical-align: top;\n",
       "    }\n",
       "\n",
       "    .dataframe thead th {\n",
       "        text-align: right;\n",
       "    }\n",
       "</style>\n",
       "<table border=\"1\" class=\"dataframe\">\n",
       "  <thead>\n",
       "    <tr style=\"text-align: right;\">\n",
       "      <th></th>\n",
       "      <th>sepal_length</th>\n",
       "      <th>sepal_width</th>\n",
       "      <th>petal_length</th>\n",
       "      <th>petal_width</th>\n",
       "      <th>species</th>\n",
       "    </tr>\n",
       "  </thead>\n",
       "  <tbody>\n",
       "    <tr>\n",
       "      <th>0</th>\n",
       "      <td>5.1</td>\n",
       "      <td>NaN</td>\n",
       "      <td>1.4</td>\n",
       "      <td>0.2</td>\n",
       "      <td>setosa</td>\n",
       "    </tr>\n",
       "    <tr>\n",
       "      <th>1</th>\n",
       "      <td>4.9</td>\n",
       "      <td>3.0</td>\n",
       "      <td>1.4</td>\n",
       "      <td>0.2</td>\n",
       "      <td>setosa</td>\n",
       "    </tr>\n",
       "    <tr>\n",
       "      <th>2</th>\n",
       "      <td>4.7</td>\n",
       "      <td>3.2</td>\n",
       "      <td>1.3</td>\n",
       "      <td>0.2</td>\n",
       "      <td>setosa</td>\n",
       "    </tr>\n",
       "    <tr>\n",
       "      <th>3</th>\n",
       "      <td>4.6</td>\n",
       "      <td>3.1</td>\n",
       "      <td>1.5</td>\n",
       "      <td>0.2</td>\n",
       "      <td>setosa</td>\n",
       "    </tr>\n",
       "    <tr>\n",
       "      <th>4</th>\n",
       "      <td>5.0</td>\n",
       "      <td>3.6</td>\n",
       "      <td>1.4</td>\n",
       "      <td>0.2</td>\n",
       "      <td>setosa</td>\n",
       "    </tr>\n",
       "    <tr>\n",
       "      <th>...</th>\n",
       "      <td>...</td>\n",
       "      <td>...</td>\n",
       "      <td>...</td>\n",
       "      <td>...</td>\n",
       "      <td>...</td>\n",
       "    </tr>\n",
       "    <tr>\n",
       "      <th>145</th>\n",
       "      <td>6.7</td>\n",
       "      <td>3.0</td>\n",
       "      <td>5.2</td>\n",
       "      <td>2.3</td>\n",
       "      <td>virginica</td>\n",
       "    </tr>\n",
       "    <tr>\n",
       "      <th>146</th>\n",
       "      <td>6.3</td>\n",
       "      <td>2.5</td>\n",
       "      <td>5.0</td>\n",
       "      <td>1.9</td>\n",
       "      <td>virginica</td>\n",
       "    </tr>\n",
       "    <tr>\n",
       "      <th>147</th>\n",
       "      <td>6.5</td>\n",
       "      <td>3.0</td>\n",
       "      <td>5.2</td>\n",
       "      <td>2.0</td>\n",
       "      <td>virginica</td>\n",
       "    </tr>\n",
       "    <tr>\n",
       "      <th>148</th>\n",
       "      <td>6.2</td>\n",
       "      <td>3.4</td>\n",
       "      <td>5.4</td>\n",
       "      <td>2.3</td>\n",
       "      <td>virginica</td>\n",
       "    </tr>\n",
       "    <tr>\n",
       "      <th>149</th>\n",
       "      <td>5.9</td>\n",
       "      <td>3.0</td>\n",
       "      <td>5.1</td>\n",
       "      <td>NaN</td>\n",
       "      <td>virginica</td>\n",
       "    </tr>\n",
       "  </tbody>\n",
       "</table>\n",
       "<p>150 rows × 5 columns</p>\n",
       "</div>"
      ],
      "text/plain": [
       "     sepal_length  sepal_width  petal_length  petal_width    species\n",
       "0             5.1          NaN           1.4          0.2     setosa\n",
       "1             4.9          3.0           1.4          0.2     setosa\n",
       "2             4.7          3.2           1.3          0.2     setosa\n",
       "3             4.6          3.1           1.5          0.2     setosa\n",
       "4             5.0          3.6           1.4          0.2     setosa\n",
       "..            ...          ...           ...          ...        ...\n",
       "145           6.7          3.0           5.2          2.3  virginica\n",
       "146           6.3          2.5           5.0          1.9  virginica\n",
       "147           6.5          3.0           5.2          2.0  virginica\n",
       "148           6.2          3.4           5.4          2.3  virginica\n",
       "149           5.9          3.0           5.1          NaN  virginica\n",
       "\n",
       "[150 rows x 5 columns]"
      ]
     },
     "execution_count": 544,
     "metadata": {},
     "output_type": "execute_result"
    }
   ],
   "source": [
    "df"
   ]
  },
  {
   "cell_type": "code",
   "execution_count": 546,
   "id": "05a54947",
   "metadata": {},
   "outputs": [
    {
     "data": {
      "text/plain": [
       "sepal_length     0\n",
       "sepal_width     20\n",
       "petal_length     0\n",
       "petal_width     13\n",
       "species          0\n",
       "dtype: int64"
      ]
     },
     "execution_count": 546,
     "metadata": {},
     "output_type": "execute_result"
    }
   ],
   "source": [
    "df.isna().sum()"
   ]
  },
  {
   "cell_type": "code",
   "execution_count": 547,
   "id": "be07a884",
   "metadata": {},
   "outputs": [
    {
     "data": {
      "text/plain": [
       "(150, 5)"
      ]
     },
     "execution_count": 547,
     "metadata": {},
     "output_type": "execute_result"
    }
   ],
   "source": [
    "df.shape"
   ]
  },
  {
   "cell_type": "code",
   "execution_count": 548,
   "id": "ae7780fe",
   "metadata": {},
   "outputs": [
    {
     "data": {
      "text/html": [
       "<div>\n",
       "<style scoped>\n",
       "    .dataframe tbody tr th:only-of-type {\n",
       "        vertical-align: middle;\n",
       "    }\n",
       "\n",
       "    .dataframe tbody tr th {\n",
       "        vertical-align: top;\n",
       "    }\n",
       "\n",
       "    .dataframe thead th {\n",
       "        text-align: right;\n",
       "    }\n",
       "</style>\n",
       "<table border=\"1\" class=\"dataframe\">\n",
       "  <thead>\n",
       "    <tr style=\"text-align: right;\">\n",
       "      <th></th>\n",
       "      <th>sepal_length</th>\n",
       "      <th>sepal_width</th>\n",
       "      <th>petal_length</th>\n",
       "      <th>petal_width</th>\n",
       "      <th>species</th>\n",
       "    </tr>\n",
       "  </thead>\n",
       "  <tbody>\n",
       "    <tr>\n",
       "      <th>1</th>\n",
       "      <td>4.9</td>\n",
       "      <td>3.0</td>\n",
       "      <td>1.4</td>\n",
       "      <td>0.2</td>\n",
       "      <td>setosa</td>\n",
       "    </tr>\n",
       "    <tr>\n",
       "      <th>2</th>\n",
       "      <td>4.7</td>\n",
       "      <td>3.2</td>\n",
       "      <td>1.3</td>\n",
       "      <td>0.2</td>\n",
       "      <td>setosa</td>\n",
       "    </tr>\n",
       "    <tr>\n",
       "      <th>3</th>\n",
       "      <td>4.6</td>\n",
       "      <td>3.1</td>\n",
       "      <td>1.5</td>\n",
       "      <td>0.2</td>\n",
       "      <td>setosa</td>\n",
       "    </tr>\n",
       "    <tr>\n",
       "      <th>4</th>\n",
       "      <td>5.0</td>\n",
       "      <td>3.6</td>\n",
       "      <td>1.4</td>\n",
       "      <td>0.2</td>\n",
       "      <td>setosa</td>\n",
       "    </tr>\n",
       "    <tr>\n",
       "      <th>5</th>\n",
       "      <td>5.4</td>\n",
       "      <td>3.9</td>\n",
       "      <td>1.7</td>\n",
       "      <td>0.4</td>\n",
       "      <td>setosa</td>\n",
       "    </tr>\n",
       "    <tr>\n",
       "      <th>...</th>\n",
       "      <td>...</td>\n",
       "      <td>...</td>\n",
       "      <td>...</td>\n",
       "      <td>...</td>\n",
       "      <td>...</td>\n",
       "    </tr>\n",
       "    <tr>\n",
       "      <th>144</th>\n",
       "      <td>6.7</td>\n",
       "      <td>3.3</td>\n",
       "      <td>5.7</td>\n",
       "      <td>2.5</td>\n",
       "      <td>virginica</td>\n",
       "    </tr>\n",
       "    <tr>\n",
       "      <th>145</th>\n",
       "      <td>6.7</td>\n",
       "      <td>3.0</td>\n",
       "      <td>5.2</td>\n",
       "      <td>2.3</td>\n",
       "      <td>virginica</td>\n",
       "    </tr>\n",
       "    <tr>\n",
       "      <th>146</th>\n",
       "      <td>6.3</td>\n",
       "      <td>2.5</td>\n",
       "      <td>5.0</td>\n",
       "      <td>1.9</td>\n",
       "      <td>virginica</td>\n",
       "    </tr>\n",
       "    <tr>\n",
       "      <th>147</th>\n",
       "      <td>6.5</td>\n",
       "      <td>3.0</td>\n",
       "      <td>5.2</td>\n",
       "      <td>2.0</td>\n",
       "      <td>virginica</td>\n",
       "    </tr>\n",
       "    <tr>\n",
       "      <th>148</th>\n",
       "      <td>6.2</td>\n",
       "      <td>3.4</td>\n",
       "      <td>5.4</td>\n",
       "      <td>2.3</td>\n",
       "      <td>virginica</td>\n",
       "    </tr>\n",
       "  </tbody>\n",
       "</table>\n",
       "<p>119 rows × 5 columns</p>\n",
       "</div>"
      ],
      "text/plain": [
       "     sepal_length  sepal_width  petal_length  petal_width    species\n",
       "1             4.9          3.0           1.4          0.2     setosa\n",
       "2             4.7          3.2           1.3          0.2     setosa\n",
       "3             4.6          3.1           1.5          0.2     setosa\n",
       "4             5.0          3.6           1.4          0.2     setosa\n",
       "5             5.4          3.9           1.7          0.4     setosa\n",
       "..            ...          ...           ...          ...        ...\n",
       "144           6.7          3.3           5.7          2.5  virginica\n",
       "145           6.7          3.0           5.2          2.3  virginica\n",
       "146           6.3          2.5           5.0          1.9  virginica\n",
       "147           6.5          3.0           5.2          2.0  virginica\n",
       "148           6.2          3.4           5.4          2.3  virginica\n",
       "\n",
       "[119 rows x 5 columns]"
      ]
     },
     "execution_count": 548,
     "metadata": {},
     "output_type": "execute_result"
    }
   ],
   "source": [
    "df.dropna()"
   ]
  },
  {
   "cell_type": "code",
   "execution_count": 549,
   "id": "4a9c878c",
   "metadata": {},
   "outputs": [
    {
     "data": {
      "text/html": [
       "<div>\n",
       "<style scoped>\n",
       "    .dataframe tbody tr th:only-of-type {\n",
       "        vertical-align: middle;\n",
       "    }\n",
       "\n",
       "    .dataframe tbody tr th {\n",
       "        vertical-align: top;\n",
       "    }\n",
       "\n",
       "    .dataframe thead th {\n",
       "        text-align: right;\n",
       "    }\n",
       "</style>\n",
       "<table border=\"1\" class=\"dataframe\">\n",
       "  <thead>\n",
       "    <tr style=\"text-align: right;\">\n",
       "      <th></th>\n",
       "      <th>sepal_length</th>\n",
       "      <th>sepal_width</th>\n",
       "      <th>petal_length</th>\n",
       "      <th>petal_width</th>\n",
       "      <th>species</th>\n",
       "    </tr>\n",
       "  </thead>\n",
       "  <tbody>\n",
       "    <tr>\n",
       "      <th>0</th>\n",
       "      <td>5.1</td>\n",
       "      <td>NaN</td>\n",
       "      <td>1.4</td>\n",
       "      <td>0.2</td>\n",
       "      <td>setosa</td>\n",
       "    </tr>\n",
       "    <tr>\n",
       "      <th>1</th>\n",
       "      <td>4.9</td>\n",
       "      <td>3.0</td>\n",
       "      <td>1.4</td>\n",
       "      <td>0.2</td>\n",
       "      <td>setosa</td>\n",
       "    </tr>\n",
       "    <tr>\n",
       "      <th>2</th>\n",
       "      <td>4.7</td>\n",
       "      <td>3.2</td>\n",
       "      <td>1.3</td>\n",
       "      <td>0.2</td>\n",
       "      <td>setosa</td>\n",
       "    </tr>\n",
       "    <tr>\n",
       "      <th>3</th>\n",
       "      <td>4.6</td>\n",
       "      <td>3.1</td>\n",
       "      <td>1.5</td>\n",
       "      <td>0.2</td>\n",
       "      <td>setosa</td>\n",
       "    </tr>\n",
       "    <tr>\n",
       "      <th>4</th>\n",
       "      <td>5.0</td>\n",
       "      <td>3.6</td>\n",
       "      <td>1.4</td>\n",
       "      <td>0.2</td>\n",
       "      <td>setosa</td>\n",
       "    </tr>\n",
       "    <tr>\n",
       "      <th>...</th>\n",
       "      <td>...</td>\n",
       "      <td>...</td>\n",
       "      <td>...</td>\n",
       "      <td>...</td>\n",
       "      <td>...</td>\n",
       "    </tr>\n",
       "    <tr>\n",
       "      <th>145</th>\n",
       "      <td>6.7</td>\n",
       "      <td>3.0</td>\n",
       "      <td>5.2</td>\n",
       "      <td>2.3</td>\n",
       "      <td>virginica</td>\n",
       "    </tr>\n",
       "    <tr>\n",
       "      <th>146</th>\n",
       "      <td>6.3</td>\n",
       "      <td>2.5</td>\n",
       "      <td>5.0</td>\n",
       "      <td>1.9</td>\n",
       "      <td>virginica</td>\n",
       "    </tr>\n",
       "    <tr>\n",
       "      <th>147</th>\n",
       "      <td>6.5</td>\n",
       "      <td>3.0</td>\n",
       "      <td>5.2</td>\n",
       "      <td>2.0</td>\n",
       "      <td>virginica</td>\n",
       "    </tr>\n",
       "    <tr>\n",
       "      <th>148</th>\n",
       "      <td>6.2</td>\n",
       "      <td>3.4</td>\n",
       "      <td>5.4</td>\n",
       "      <td>2.3</td>\n",
       "      <td>virginica</td>\n",
       "    </tr>\n",
       "    <tr>\n",
       "      <th>149</th>\n",
       "      <td>5.9</td>\n",
       "      <td>3.0</td>\n",
       "      <td>5.1</td>\n",
       "      <td>NaN</td>\n",
       "      <td>virginica</td>\n",
       "    </tr>\n",
       "  </tbody>\n",
       "</table>\n",
       "<p>150 rows × 5 columns</p>\n",
       "</div>"
      ],
      "text/plain": [
       "     sepal_length  sepal_width  petal_length  petal_width    species\n",
       "0             5.1          NaN           1.4          0.2     setosa\n",
       "1             4.9          3.0           1.4          0.2     setosa\n",
       "2             4.7          3.2           1.3          0.2     setosa\n",
       "3             4.6          3.1           1.5          0.2     setosa\n",
       "4             5.0          3.6           1.4          0.2     setosa\n",
       "..            ...          ...           ...          ...        ...\n",
       "145           6.7          3.0           5.2          2.3  virginica\n",
       "146           6.3          2.5           5.0          1.9  virginica\n",
       "147           6.5          3.0           5.2          2.0  virginica\n",
       "148           6.2          3.4           5.4          2.3  virginica\n",
       "149           5.9          3.0           5.1          NaN  virginica\n",
       "\n",
       "[150 rows x 5 columns]"
      ]
     },
     "execution_count": 549,
     "metadata": {},
     "output_type": "execute_result"
    }
   ],
   "source": [
    "df"
   ]
  },
  {
   "cell_type": "code",
   "execution_count": 552,
   "id": "1518dc0d",
   "metadata": {},
   "outputs": [
    {
     "data": {
      "text/html": [
       "<div>\n",
       "<style scoped>\n",
       "    .dataframe tbody tr th:only-of-type {\n",
       "        vertical-align: middle;\n",
       "    }\n",
       "\n",
       "    .dataframe tbody tr th {\n",
       "        vertical-align: top;\n",
       "    }\n",
       "\n",
       "    .dataframe thead th {\n",
       "        text-align: right;\n",
       "    }\n",
       "</style>\n",
       "<table border=\"1\" class=\"dataframe\">\n",
       "  <thead>\n",
       "    <tr style=\"text-align: right;\">\n",
       "      <th></th>\n",
       "      <th>sepal_length</th>\n",
       "      <th>sepal_width</th>\n",
       "      <th>petal_length</th>\n",
       "      <th>petal_width</th>\n",
       "      <th>species</th>\n",
       "    </tr>\n",
       "  </thead>\n",
       "  <tbody>\n",
       "    <tr>\n",
       "      <th>0</th>\n",
       "      <td>5.1</td>\n",
       "      <td>sanjay</td>\n",
       "      <td>1.4</td>\n",
       "      <td>0.2</td>\n",
       "      <td>setosa</td>\n",
       "    </tr>\n",
       "    <tr>\n",
       "      <th>1</th>\n",
       "      <td>4.9</td>\n",
       "      <td>3.0</td>\n",
       "      <td>1.4</td>\n",
       "      <td>0.2</td>\n",
       "      <td>setosa</td>\n",
       "    </tr>\n",
       "    <tr>\n",
       "      <th>2</th>\n",
       "      <td>4.7</td>\n",
       "      <td>3.2</td>\n",
       "      <td>1.3</td>\n",
       "      <td>0.2</td>\n",
       "      <td>setosa</td>\n",
       "    </tr>\n",
       "    <tr>\n",
       "      <th>3</th>\n",
       "      <td>4.6</td>\n",
       "      <td>3.1</td>\n",
       "      <td>1.5</td>\n",
       "      <td>0.2</td>\n",
       "      <td>setosa</td>\n",
       "    </tr>\n",
       "    <tr>\n",
       "      <th>4</th>\n",
       "      <td>5.0</td>\n",
       "      <td>3.6</td>\n",
       "      <td>1.4</td>\n",
       "      <td>0.2</td>\n",
       "      <td>setosa</td>\n",
       "    </tr>\n",
       "    <tr>\n",
       "      <th>...</th>\n",
       "      <td>...</td>\n",
       "      <td>...</td>\n",
       "      <td>...</td>\n",
       "      <td>...</td>\n",
       "      <td>...</td>\n",
       "    </tr>\n",
       "    <tr>\n",
       "      <th>145</th>\n",
       "      <td>6.7</td>\n",
       "      <td>3.0</td>\n",
       "      <td>5.2</td>\n",
       "      <td>2.3</td>\n",
       "      <td>virginica</td>\n",
       "    </tr>\n",
       "    <tr>\n",
       "      <th>146</th>\n",
       "      <td>6.3</td>\n",
       "      <td>2.5</td>\n",
       "      <td>5.0</td>\n",
       "      <td>1.9</td>\n",
       "      <td>virginica</td>\n",
       "    </tr>\n",
       "    <tr>\n",
       "      <th>147</th>\n",
       "      <td>6.5</td>\n",
       "      <td>3.0</td>\n",
       "      <td>5.2</td>\n",
       "      <td>2.0</td>\n",
       "      <td>virginica</td>\n",
       "    </tr>\n",
       "    <tr>\n",
       "      <th>148</th>\n",
       "      <td>6.2</td>\n",
       "      <td>3.4</td>\n",
       "      <td>5.4</td>\n",
       "      <td>2.3</td>\n",
       "      <td>virginica</td>\n",
       "    </tr>\n",
       "    <tr>\n",
       "      <th>149</th>\n",
       "      <td>5.9</td>\n",
       "      <td>3.0</td>\n",
       "      <td>5.1</td>\n",
       "      <td>sanjay</td>\n",
       "      <td>virginica</td>\n",
       "    </tr>\n",
       "  </tbody>\n",
       "</table>\n",
       "<p>150 rows × 5 columns</p>\n",
       "</div>"
      ],
      "text/plain": [
       "     sepal_length sepal_width  petal_length petal_width    species\n",
       "0             5.1      sanjay           1.4         0.2     setosa\n",
       "1             4.9         3.0           1.4         0.2     setosa\n",
       "2             4.7         3.2           1.3         0.2     setosa\n",
       "3             4.6         3.1           1.5         0.2     setosa\n",
       "4             5.0         3.6           1.4         0.2     setosa\n",
       "..            ...         ...           ...         ...        ...\n",
       "145           6.7         3.0           5.2         2.3  virginica\n",
       "146           6.3         2.5           5.0         1.9  virginica\n",
       "147           6.5         3.0           5.2         2.0  virginica\n",
       "148           6.2         3.4           5.4         2.3  virginica\n",
       "149           5.9         3.0           5.1      sanjay  virginica\n",
       "\n",
       "[150 rows x 5 columns]"
      ]
     },
     "execution_count": 552,
     "metadata": {},
     "output_type": "execute_result"
    }
   ],
   "source": [
    "df.fillna('sanjay')"
   ]
  },
  {
   "cell_type": "code",
   "execution_count": 560,
   "id": "6763b3fa",
   "metadata": {},
   "outputs": [
    {
     "data": {
      "text/plain": [
       "3.0"
      ]
     },
     "execution_count": 560,
     "metadata": {},
     "output_type": "execute_result"
    }
   ],
   "source": [
    "np.round(df.sepal_width.mean(),1)"
   ]
  },
  {
   "cell_type": "code",
   "execution_count": 561,
   "id": "bad99ec9",
   "metadata": {},
   "outputs": [
    {
     "data": {
      "text/html": [
       "<div>\n",
       "<style scoped>\n",
       "    .dataframe tbody tr th:only-of-type {\n",
       "        vertical-align: middle;\n",
       "    }\n",
       "\n",
       "    .dataframe tbody tr th {\n",
       "        vertical-align: top;\n",
       "    }\n",
       "\n",
       "    .dataframe thead th {\n",
       "        text-align: right;\n",
       "    }\n",
       "</style>\n",
       "<table border=\"1\" class=\"dataframe\">\n",
       "  <thead>\n",
       "    <tr style=\"text-align: right;\">\n",
       "      <th></th>\n",
       "      <th>sepal_length</th>\n",
       "      <th>sepal_width</th>\n",
       "      <th>petal_length</th>\n",
       "      <th>petal_width</th>\n",
       "      <th>species</th>\n",
       "    </tr>\n",
       "  </thead>\n",
       "  <tbody>\n",
       "    <tr>\n",
       "      <th>0</th>\n",
       "      <td>5.1</td>\n",
       "      <td>NaN</td>\n",
       "      <td>1.4</td>\n",
       "      <td>0.2</td>\n",
       "      <td>setosa</td>\n",
       "    </tr>\n",
       "    <tr>\n",
       "      <th>1</th>\n",
       "      <td>4.9</td>\n",
       "      <td>3.0</td>\n",
       "      <td>1.4</td>\n",
       "      <td>0.2</td>\n",
       "      <td>setosa</td>\n",
       "    </tr>\n",
       "    <tr>\n",
       "      <th>2</th>\n",
       "      <td>4.7</td>\n",
       "      <td>3.2</td>\n",
       "      <td>1.3</td>\n",
       "      <td>0.2</td>\n",
       "      <td>setosa</td>\n",
       "    </tr>\n",
       "    <tr>\n",
       "      <th>3</th>\n",
       "      <td>4.6</td>\n",
       "      <td>3.1</td>\n",
       "      <td>1.5</td>\n",
       "      <td>0.2</td>\n",
       "      <td>setosa</td>\n",
       "    </tr>\n",
       "    <tr>\n",
       "      <th>4</th>\n",
       "      <td>5.0</td>\n",
       "      <td>3.6</td>\n",
       "      <td>1.4</td>\n",
       "      <td>0.2</td>\n",
       "      <td>setosa</td>\n",
       "    </tr>\n",
       "    <tr>\n",
       "      <th>...</th>\n",
       "      <td>...</td>\n",
       "      <td>...</td>\n",
       "      <td>...</td>\n",
       "      <td>...</td>\n",
       "      <td>...</td>\n",
       "    </tr>\n",
       "    <tr>\n",
       "      <th>145</th>\n",
       "      <td>6.7</td>\n",
       "      <td>3.0</td>\n",
       "      <td>5.2</td>\n",
       "      <td>2.3</td>\n",
       "      <td>virginica</td>\n",
       "    </tr>\n",
       "    <tr>\n",
       "      <th>146</th>\n",
       "      <td>6.3</td>\n",
       "      <td>2.5</td>\n",
       "      <td>5.0</td>\n",
       "      <td>1.9</td>\n",
       "      <td>virginica</td>\n",
       "    </tr>\n",
       "    <tr>\n",
       "      <th>147</th>\n",
       "      <td>6.5</td>\n",
       "      <td>3.0</td>\n",
       "      <td>5.2</td>\n",
       "      <td>2.0</td>\n",
       "      <td>virginica</td>\n",
       "    </tr>\n",
       "    <tr>\n",
       "      <th>148</th>\n",
       "      <td>6.2</td>\n",
       "      <td>3.4</td>\n",
       "      <td>5.4</td>\n",
       "      <td>2.3</td>\n",
       "      <td>virginica</td>\n",
       "    </tr>\n",
       "    <tr>\n",
       "      <th>149</th>\n",
       "      <td>5.9</td>\n",
       "      <td>3.0</td>\n",
       "      <td>5.1</td>\n",
       "      <td>NaN</td>\n",
       "      <td>virginica</td>\n",
       "    </tr>\n",
       "  </tbody>\n",
       "</table>\n",
       "<p>150 rows × 5 columns</p>\n",
       "</div>"
      ],
      "text/plain": [
       "     sepal_length  sepal_width  petal_length  petal_width    species\n",
       "0             5.1          NaN           1.4          0.2     setosa\n",
       "1             4.9          3.0           1.4          0.2     setosa\n",
       "2             4.7          3.2           1.3          0.2     setosa\n",
       "3             4.6          3.1           1.5          0.2     setosa\n",
       "4             5.0          3.6           1.4          0.2     setosa\n",
       "..            ...          ...           ...          ...        ...\n",
       "145           6.7          3.0           5.2          2.3  virginica\n",
       "146           6.3          2.5           5.0          1.9  virginica\n",
       "147           6.5          3.0           5.2          2.0  virginica\n",
       "148           6.2          3.4           5.4          2.3  virginica\n",
       "149           5.9          3.0           5.1          NaN  virginica\n",
       "\n",
       "[150 rows x 5 columns]"
      ]
     },
     "execution_count": 561,
     "metadata": {},
     "output_type": "execute_result"
    }
   ],
   "source": [
    "df"
   ]
  },
  {
   "cell_type": "code",
   "execution_count": 564,
   "id": "4f1e10ca",
   "metadata": {},
   "outputs": [],
   "source": [
    "df.sepal_width.fillna(value=np.round(df.sepal_width.mean(),1), inplace=True)"
   ]
  },
  {
   "cell_type": "code",
   "execution_count": 565,
   "id": "a6671eba",
   "metadata": {},
   "outputs": [
    {
     "data": {
      "text/html": [
       "<div>\n",
       "<style scoped>\n",
       "    .dataframe tbody tr th:only-of-type {\n",
       "        vertical-align: middle;\n",
       "    }\n",
       "\n",
       "    .dataframe tbody tr th {\n",
       "        vertical-align: top;\n",
       "    }\n",
       "\n",
       "    .dataframe thead th {\n",
       "        text-align: right;\n",
       "    }\n",
       "</style>\n",
       "<table border=\"1\" class=\"dataframe\">\n",
       "  <thead>\n",
       "    <tr style=\"text-align: right;\">\n",
       "      <th></th>\n",
       "      <th>sepal_length</th>\n",
       "      <th>sepal_width</th>\n",
       "      <th>petal_length</th>\n",
       "      <th>petal_width</th>\n",
       "      <th>species</th>\n",
       "    </tr>\n",
       "  </thead>\n",
       "  <tbody>\n",
       "    <tr>\n",
       "      <th>0</th>\n",
       "      <td>5.1</td>\n",
       "      <td>3.0</td>\n",
       "      <td>1.4</td>\n",
       "      <td>0.2</td>\n",
       "      <td>setosa</td>\n",
       "    </tr>\n",
       "    <tr>\n",
       "      <th>1</th>\n",
       "      <td>4.9</td>\n",
       "      <td>3.0</td>\n",
       "      <td>1.4</td>\n",
       "      <td>0.2</td>\n",
       "      <td>setosa</td>\n",
       "    </tr>\n",
       "    <tr>\n",
       "      <th>2</th>\n",
       "      <td>4.7</td>\n",
       "      <td>3.2</td>\n",
       "      <td>1.3</td>\n",
       "      <td>0.2</td>\n",
       "      <td>setosa</td>\n",
       "    </tr>\n",
       "    <tr>\n",
       "      <th>3</th>\n",
       "      <td>4.6</td>\n",
       "      <td>3.1</td>\n",
       "      <td>1.5</td>\n",
       "      <td>0.2</td>\n",
       "      <td>setosa</td>\n",
       "    </tr>\n",
       "    <tr>\n",
       "      <th>4</th>\n",
       "      <td>5.0</td>\n",
       "      <td>3.6</td>\n",
       "      <td>1.4</td>\n",
       "      <td>0.2</td>\n",
       "      <td>setosa</td>\n",
       "    </tr>\n",
       "    <tr>\n",
       "      <th>...</th>\n",
       "      <td>...</td>\n",
       "      <td>...</td>\n",
       "      <td>...</td>\n",
       "      <td>...</td>\n",
       "      <td>...</td>\n",
       "    </tr>\n",
       "    <tr>\n",
       "      <th>145</th>\n",
       "      <td>6.7</td>\n",
       "      <td>3.0</td>\n",
       "      <td>5.2</td>\n",
       "      <td>2.3</td>\n",
       "      <td>virginica</td>\n",
       "    </tr>\n",
       "    <tr>\n",
       "      <th>146</th>\n",
       "      <td>6.3</td>\n",
       "      <td>2.5</td>\n",
       "      <td>5.0</td>\n",
       "      <td>1.9</td>\n",
       "      <td>virginica</td>\n",
       "    </tr>\n",
       "    <tr>\n",
       "      <th>147</th>\n",
       "      <td>6.5</td>\n",
       "      <td>3.0</td>\n",
       "      <td>5.2</td>\n",
       "      <td>2.0</td>\n",
       "      <td>virginica</td>\n",
       "    </tr>\n",
       "    <tr>\n",
       "      <th>148</th>\n",
       "      <td>6.2</td>\n",
       "      <td>3.4</td>\n",
       "      <td>5.4</td>\n",
       "      <td>2.3</td>\n",
       "      <td>virginica</td>\n",
       "    </tr>\n",
       "    <tr>\n",
       "      <th>149</th>\n",
       "      <td>5.9</td>\n",
       "      <td>3.0</td>\n",
       "      <td>5.1</td>\n",
       "      <td>NaN</td>\n",
       "      <td>virginica</td>\n",
       "    </tr>\n",
       "  </tbody>\n",
       "</table>\n",
       "<p>150 rows × 5 columns</p>\n",
       "</div>"
      ],
      "text/plain": [
       "     sepal_length  sepal_width  petal_length  petal_width    species\n",
       "0             5.1          3.0           1.4          0.2     setosa\n",
       "1             4.9          3.0           1.4          0.2     setosa\n",
       "2             4.7          3.2           1.3          0.2     setosa\n",
       "3             4.6          3.1           1.5          0.2     setosa\n",
       "4             5.0          3.6           1.4          0.2     setosa\n",
       "..            ...          ...           ...          ...        ...\n",
       "145           6.7          3.0           5.2          2.3  virginica\n",
       "146           6.3          2.5           5.0          1.9  virginica\n",
       "147           6.5          3.0           5.2          2.0  virginica\n",
       "148           6.2          3.4           5.4          2.3  virginica\n",
       "149           5.9          3.0           5.1          NaN  virginica\n",
       "\n",
       "[150 rows x 5 columns]"
      ]
     },
     "execution_count": 565,
     "metadata": {},
     "output_type": "execute_result"
    }
   ],
   "source": [
    "df"
   ]
  },
  {
   "cell_type": "code",
   "execution_count": 567,
   "id": "7bce490d",
   "metadata": {},
   "outputs": [
    {
     "data": {
      "text/plain": [
       "0     0.2\n",
       "1     0.2\n",
       "2     0.2\n",
       "3     0.2\n",
       "4     0.2\n",
       "5     0.4\n",
       "6     0.3\n",
       "7     0.2\n",
       "8     0.2\n",
       "9     0.1\n",
       "10    0.2\n",
       "11    0.2\n",
       "12    0.1\n",
       "13    0.1\n",
       "14    0.2\n",
       "15    0.4\n",
       "16    0.4\n",
       "17    0.3\n",
       "18    0.3\n",
       "19    0.3\n",
       "20    0.2\n",
       "21    0.4\n",
       "22    0.2\n",
       "23    0.5\n",
       "24    0.2\n",
       "25    0.2\n",
       "26    0.4\n",
       "27    0.2\n",
       "28    0.2\n",
       "29    0.2\n",
       "30    0.2\n",
       "31    0.4\n",
       "32    0.1\n",
       "33    0.2\n",
       "34    0.1\n",
       "35    0.2\n",
       "36    0.2\n",
       "37    0.1\n",
       "38    0.2\n",
       "39    0.2\n",
       "40    0.3\n",
       "41    0.3\n",
       "42    0.2\n",
       "43    0.6\n",
       "44    NaN\n",
       "45    0.3\n",
       "46    0.2\n",
       "47    0.2\n",
       "48    0.2\n",
       "49    0.2\n",
       "Name: petal_width, dtype: float64"
      ]
     },
     "execution_count": 567,
     "metadata": {},
     "output_type": "execute_result"
    }
   ],
   "source": [
    "df.petal_width[:50]"
   ]
  },
  {
   "cell_type": "code",
   "execution_count": 571,
   "id": "abe2c984",
   "metadata": {},
   "outputs": [
    {
     "data": {
      "text/plain": [
       "1.2"
      ]
     },
     "execution_count": 571,
     "metadata": {},
     "output_type": "execute_result"
    }
   ],
   "source": [
    "round(df.petal_width.mean(),1)"
   ]
  },
  {
   "cell_type": "code",
   "execution_count": 575,
   "id": "89324d44",
   "metadata": {},
   "outputs": [],
   "source": [
    "df.petal_width.fillna(value=round(df.petal_width.mean(),1), inplace=True)"
   ]
  },
  {
   "cell_type": "code",
   "execution_count": 576,
   "id": "9c5afd72",
   "metadata": {},
   "outputs": [
    {
     "data": {
      "text/html": [
       "<div>\n",
       "<style scoped>\n",
       "    .dataframe tbody tr th:only-of-type {\n",
       "        vertical-align: middle;\n",
       "    }\n",
       "\n",
       "    .dataframe tbody tr th {\n",
       "        vertical-align: top;\n",
       "    }\n",
       "\n",
       "    .dataframe thead th {\n",
       "        text-align: right;\n",
       "    }\n",
       "</style>\n",
       "<table border=\"1\" class=\"dataframe\">\n",
       "  <thead>\n",
       "    <tr style=\"text-align: right;\">\n",
       "      <th></th>\n",
       "      <th>sepal_length</th>\n",
       "      <th>sepal_width</th>\n",
       "      <th>petal_length</th>\n",
       "      <th>petal_width</th>\n",
       "      <th>species</th>\n",
       "    </tr>\n",
       "  </thead>\n",
       "  <tbody>\n",
       "    <tr>\n",
       "      <th>0</th>\n",
       "      <td>5.1</td>\n",
       "      <td>3.0</td>\n",
       "      <td>1.4</td>\n",
       "      <td>0.2</td>\n",
       "      <td>setosa</td>\n",
       "    </tr>\n",
       "    <tr>\n",
       "      <th>1</th>\n",
       "      <td>4.9</td>\n",
       "      <td>3.0</td>\n",
       "      <td>1.4</td>\n",
       "      <td>0.2</td>\n",
       "      <td>setosa</td>\n",
       "    </tr>\n",
       "    <tr>\n",
       "      <th>2</th>\n",
       "      <td>4.7</td>\n",
       "      <td>3.2</td>\n",
       "      <td>1.3</td>\n",
       "      <td>0.2</td>\n",
       "      <td>setosa</td>\n",
       "    </tr>\n",
       "    <tr>\n",
       "      <th>3</th>\n",
       "      <td>4.6</td>\n",
       "      <td>3.1</td>\n",
       "      <td>1.5</td>\n",
       "      <td>0.2</td>\n",
       "      <td>setosa</td>\n",
       "    </tr>\n",
       "    <tr>\n",
       "      <th>4</th>\n",
       "      <td>5.0</td>\n",
       "      <td>3.6</td>\n",
       "      <td>1.4</td>\n",
       "      <td>0.2</td>\n",
       "      <td>setosa</td>\n",
       "    </tr>\n",
       "    <tr>\n",
       "      <th>...</th>\n",
       "      <td>...</td>\n",
       "      <td>...</td>\n",
       "      <td>...</td>\n",
       "      <td>...</td>\n",
       "      <td>...</td>\n",
       "    </tr>\n",
       "    <tr>\n",
       "      <th>145</th>\n",
       "      <td>6.7</td>\n",
       "      <td>3.0</td>\n",
       "      <td>5.2</td>\n",
       "      <td>2.3</td>\n",
       "      <td>virginica</td>\n",
       "    </tr>\n",
       "    <tr>\n",
       "      <th>146</th>\n",
       "      <td>6.3</td>\n",
       "      <td>2.5</td>\n",
       "      <td>5.0</td>\n",
       "      <td>1.9</td>\n",
       "      <td>virginica</td>\n",
       "    </tr>\n",
       "    <tr>\n",
       "      <th>147</th>\n",
       "      <td>6.5</td>\n",
       "      <td>3.0</td>\n",
       "      <td>5.2</td>\n",
       "      <td>2.0</td>\n",
       "      <td>virginica</td>\n",
       "    </tr>\n",
       "    <tr>\n",
       "      <th>148</th>\n",
       "      <td>6.2</td>\n",
       "      <td>3.4</td>\n",
       "      <td>5.4</td>\n",
       "      <td>2.3</td>\n",
       "      <td>virginica</td>\n",
       "    </tr>\n",
       "    <tr>\n",
       "      <th>149</th>\n",
       "      <td>5.9</td>\n",
       "      <td>3.0</td>\n",
       "      <td>5.1</td>\n",
       "      <td>1.2</td>\n",
       "      <td>virginica</td>\n",
       "    </tr>\n",
       "  </tbody>\n",
       "</table>\n",
       "<p>150 rows × 5 columns</p>\n",
       "</div>"
      ],
      "text/plain": [
       "     sepal_length  sepal_width  petal_length  petal_width    species\n",
       "0             5.1          3.0           1.4          0.2     setosa\n",
       "1             4.9          3.0           1.4          0.2     setosa\n",
       "2             4.7          3.2           1.3          0.2     setosa\n",
       "3             4.6          3.1           1.5          0.2     setosa\n",
       "4             5.0          3.6           1.4          0.2     setosa\n",
       "..            ...          ...           ...          ...        ...\n",
       "145           6.7          3.0           5.2          2.3  virginica\n",
       "146           6.3          2.5           5.0          1.9  virginica\n",
       "147           6.5          3.0           5.2          2.0  virginica\n",
       "148           6.2          3.4           5.4          2.3  virginica\n",
       "149           5.9          3.0           5.1          1.2  virginica\n",
       "\n",
       "[150 rows x 5 columns]"
      ]
     },
     "execution_count": 576,
     "metadata": {},
     "output_type": "execute_result"
    }
   ],
   "source": [
    "df"
   ]
  },
  {
   "cell_type": "code",
   "execution_count": 577,
   "id": "77f553b4",
   "metadata": {},
   "outputs": [
    {
     "data": {
      "text/html": [
       "<div>\n",
       "<style scoped>\n",
       "    .dataframe tbody tr th:only-of-type {\n",
       "        vertical-align: middle;\n",
       "    }\n",
       "\n",
       "    .dataframe tbody tr th {\n",
       "        vertical-align: top;\n",
       "    }\n",
       "\n",
       "    .dataframe thead th {\n",
       "        text-align: right;\n",
       "    }\n",
       "</style>\n",
       "<table border=\"1\" class=\"dataframe\">\n",
       "  <thead>\n",
       "    <tr style=\"text-align: right;\">\n",
       "      <th></th>\n",
       "      <th>sepal_length</th>\n",
       "      <th>sepal_width</th>\n",
       "      <th>petal_length</th>\n",
       "      <th>petal_width</th>\n",
       "      <th>species</th>\n",
       "    </tr>\n",
       "  </thead>\n",
       "  <tbody>\n",
       "    <tr>\n",
       "      <th>0</th>\n",
       "      <td>5.1</td>\n",
       "      <td>3.0</td>\n",
       "      <td>1.4</td>\n",
       "      <td>0.2</td>\n",
       "      <td>setosa</td>\n",
       "    </tr>\n",
       "    <tr>\n",
       "      <th>1</th>\n",
       "      <td>4.9</td>\n",
       "      <td>3.0</td>\n",
       "      <td>1.4</td>\n",
       "      <td>0.2</td>\n",
       "      <td>setosa</td>\n",
       "    </tr>\n",
       "    <tr>\n",
       "      <th>2</th>\n",
       "      <td>4.7</td>\n",
       "      <td>3.2</td>\n",
       "      <td>1.3</td>\n",
       "      <td>0.2</td>\n",
       "      <td>setosa</td>\n",
       "    </tr>\n",
       "    <tr>\n",
       "      <th>3</th>\n",
       "      <td>4.6</td>\n",
       "      <td>3.1</td>\n",
       "      <td>1.5</td>\n",
       "      <td>0.2</td>\n",
       "      <td>setosa</td>\n",
       "    </tr>\n",
       "    <tr>\n",
       "      <th>4</th>\n",
       "      <td>5.0</td>\n",
       "      <td>3.6</td>\n",
       "      <td>1.4</td>\n",
       "      <td>0.2</td>\n",
       "      <td>setosa</td>\n",
       "    </tr>\n",
       "    <tr>\n",
       "      <th>...</th>\n",
       "      <td>...</td>\n",
       "      <td>...</td>\n",
       "      <td>...</td>\n",
       "      <td>...</td>\n",
       "      <td>...</td>\n",
       "    </tr>\n",
       "    <tr>\n",
       "      <th>145</th>\n",
       "      <td>6.7</td>\n",
       "      <td>3.0</td>\n",
       "      <td>5.2</td>\n",
       "      <td>2.3</td>\n",
       "      <td>virginica</td>\n",
       "    </tr>\n",
       "    <tr>\n",
       "      <th>146</th>\n",
       "      <td>6.3</td>\n",
       "      <td>2.5</td>\n",
       "      <td>5.0</td>\n",
       "      <td>1.9</td>\n",
       "      <td>virginica</td>\n",
       "    </tr>\n",
       "    <tr>\n",
       "      <th>147</th>\n",
       "      <td>6.5</td>\n",
       "      <td>3.0</td>\n",
       "      <td>5.2</td>\n",
       "      <td>2.0</td>\n",
       "      <td>virginica</td>\n",
       "    </tr>\n",
       "    <tr>\n",
       "      <th>148</th>\n",
       "      <td>6.2</td>\n",
       "      <td>3.4</td>\n",
       "      <td>5.4</td>\n",
       "      <td>2.3</td>\n",
       "      <td>virginica</td>\n",
       "    </tr>\n",
       "    <tr>\n",
       "      <th>149</th>\n",
       "      <td>5.9</td>\n",
       "      <td>3.0</td>\n",
       "      <td>5.1</td>\n",
       "      <td>1.2</td>\n",
       "      <td>virginica</td>\n",
       "    </tr>\n",
       "  </tbody>\n",
       "</table>\n",
       "<p>150 rows × 5 columns</p>\n",
       "</div>"
      ],
      "text/plain": [
       "     sepal_length  sepal_width  petal_length  petal_width    species\n",
       "0             5.1          3.0           1.4          0.2     setosa\n",
       "1             4.9          3.0           1.4          0.2     setosa\n",
       "2             4.7          3.2           1.3          0.2     setosa\n",
       "3             4.6          3.1           1.5          0.2     setosa\n",
       "4             5.0          3.6           1.4          0.2     setosa\n",
       "..            ...          ...           ...          ...        ...\n",
       "145           6.7          3.0           5.2          2.3  virginica\n",
       "146           6.3          2.5           5.0          1.9  virginica\n",
       "147           6.5          3.0           5.2          2.0  virginica\n",
       "148           6.2          3.4           5.4          2.3  virginica\n",
       "149           5.9          3.0           5.1          1.2  virginica\n",
       "\n",
       "[150 rows x 5 columns]"
      ]
     },
     "execution_count": 577,
     "metadata": {},
     "output_type": "execute_result"
    }
   ],
   "source": [
    "df"
   ]
  },
  {
   "cell_type": "code",
   "execution_count": 579,
   "id": "dc2c52c2",
   "metadata": {},
   "outputs": [
    {
     "data": {
      "text/plain": [
       "sepal_length    0\n",
       "sepal_width     0\n",
       "petal_length    0\n",
       "petal_width     0\n",
       "species         0\n",
       "dtype: int64"
      ]
     },
     "execution_count": 579,
     "metadata": {},
     "output_type": "execute_result"
    }
   ],
   "source": [
    "df.isnull().sum()"
   ]
  },
  {
   "cell_type": "code",
   "execution_count": 1,
   "id": "d44b598e",
   "metadata": {},
   "outputs": [],
   "source": [
    "# concat/ Merge DataFrames"
   ]
  },
  {
   "cell_type": "code",
   "execution_count": 6,
   "id": "89f7c2fd",
   "metadata": {},
   "outputs": [],
   "source": [
    "import numpy as np"
   ]
  },
  {
   "cell_type": "code",
   "execution_count": 7,
   "id": "342b7e0b",
   "metadata": {},
   "outputs": [
    {
     "data": {
      "text/html": [
       "<div>\n",
       "<style scoped>\n",
       "    .dataframe tbody tr th:only-of-type {\n",
       "        vertical-align: middle;\n",
       "    }\n",
       "\n",
       "    .dataframe tbody tr th {\n",
       "        vertical-align: top;\n",
       "    }\n",
       "\n",
       "    .dataframe thead th {\n",
       "        text-align: right;\n",
       "    }\n",
       "</style>\n",
       "<table border=\"1\" class=\"dataframe\">\n",
       "  <thead>\n",
       "    <tr style=\"text-align: right;\">\n",
       "      <th></th>\n",
       "      <th>sepal_length</th>\n",
       "      <th>sepal_width</th>\n",
       "      <th>petal_length</th>\n",
       "      <th>petal_width</th>\n",
       "      <th>species</th>\n",
       "    </tr>\n",
       "  </thead>\n",
       "  <tbody>\n",
       "    <tr>\n",
       "      <th>0</th>\n",
       "      <td>5.1</td>\n",
       "      <td>3.5</td>\n",
       "      <td>1.4</td>\n",
       "      <td>0.2</td>\n",
       "      <td>setosa</td>\n",
       "    </tr>\n",
       "    <tr>\n",
       "      <th>1</th>\n",
       "      <td>4.9</td>\n",
       "      <td>3.0</td>\n",
       "      <td>1.4</td>\n",
       "      <td>0.2</td>\n",
       "      <td>setosa</td>\n",
       "    </tr>\n",
       "    <tr>\n",
       "      <th>2</th>\n",
       "      <td>4.7</td>\n",
       "      <td>3.2</td>\n",
       "      <td>1.3</td>\n",
       "      <td>0.2</td>\n",
       "      <td>setosa</td>\n",
       "    </tr>\n",
       "    <tr>\n",
       "      <th>3</th>\n",
       "      <td>4.6</td>\n",
       "      <td>3.1</td>\n",
       "      <td>1.5</td>\n",
       "      <td>0.2</td>\n",
       "      <td>setosa</td>\n",
       "    </tr>\n",
       "    <tr>\n",
       "      <th>4</th>\n",
       "      <td>5.0</td>\n",
       "      <td>3.6</td>\n",
       "      <td>1.4</td>\n",
       "      <td>0.2</td>\n",
       "      <td>setosa</td>\n",
       "    </tr>\n",
       "    <tr>\n",
       "      <th>...</th>\n",
       "      <td>...</td>\n",
       "      <td>...</td>\n",
       "      <td>...</td>\n",
       "      <td>...</td>\n",
       "      <td>...</td>\n",
       "    </tr>\n",
       "    <tr>\n",
       "      <th>145</th>\n",
       "      <td>6.7</td>\n",
       "      <td>3.0</td>\n",
       "      <td>5.2</td>\n",
       "      <td>2.3</td>\n",
       "      <td>virginica</td>\n",
       "    </tr>\n",
       "    <tr>\n",
       "      <th>146</th>\n",
       "      <td>6.3</td>\n",
       "      <td>2.5</td>\n",
       "      <td>5.0</td>\n",
       "      <td>1.9</td>\n",
       "      <td>virginica</td>\n",
       "    </tr>\n",
       "    <tr>\n",
       "      <th>147</th>\n",
       "      <td>6.5</td>\n",
       "      <td>3.0</td>\n",
       "      <td>5.2</td>\n",
       "      <td>2.0</td>\n",
       "      <td>virginica</td>\n",
       "    </tr>\n",
       "    <tr>\n",
       "      <th>148</th>\n",
       "      <td>6.2</td>\n",
       "      <td>3.4</td>\n",
       "      <td>5.4</td>\n",
       "      <td>2.3</td>\n",
       "      <td>virginica</td>\n",
       "    </tr>\n",
       "    <tr>\n",
       "      <th>149</th>\n",
       "      <td>5.9</td>\n",
       "      <td>3.0</td>\n",
       "      <td>5.1</td>\n",
       "      <td>1.8</td>\n",
       "      <td>virginica</td>\n",
       "    </tr>\n",
       "  </tbody>\n",
       "</table>\n",
       "<p>150 rows × 5 columns</p>\n",
       "</div>"
      ],
      "text/plain": [
       "     sepal_length  sepal_width  petal_length  petal_width    species\n",
       "0             5.1          3.5           1.4          0.2     setosa\n",
       "1             4.9          3.0           1.4          0.2     setosa\n",
       "2             4.7          3.2           1.3          0.2     setosa\n",
       "3             4.6          3.1           1.5          0.2     setosa\n",
       "4             5.0          3.6           1.4          0.2     setosa\n",
       "..            ...          ...           ...          ...        ...\n",
       "145           6.7          3.0           5.2          2.3  virginica\n",
       "146           6.3          2.5           5.0          1.9  virginica\n",
       "147           6.5          3.0           5.2          2.0  virginica\n",
       "148           6.2          3.4           5.4          2.3  virginica\n",
       "149           5.9          3.0           5.1          1.8  virginica\n",
       "\n",
       "[150 rows x 5 columns]"
      ]
     },
     "execution_count": 7,
     "metadata": {},
     "output_type": "execute_result"
    }
   ],
   "source": [
    "df"
   ]
  },
  {
   "cell_type": "code",
   "execution_count": 10,
   "id": "5aa2877d",
   "metadata": {},
   "outputs": [],
   "source": [
    "arr1 = np.random.randint(0,7,size = (10,4))"
   ]
  },
  {
   "cell_type": "code",
   "execution_count": 12,
   "id": "72c9e13b",
   "metadata": {},
   "outputs": [],
   "source": [
    "df2 = pd.DataFrame(arr1)"
   ]
  },
  {
   "cell_type": "code",
   "execution_count": 15,
   "id": "79def84b",
   "metadata": {},
   "outputs": [],
   "source": [
    "df2['species'] = \"new-species\""
   ]
  },
  {
   "cell_type": "code",
   "execution_count": 16,
   "id": "568e58ff",
   "metadata": {},
   "outputs": [
    {
     "data": {
      "text/html": [
       "<div>\n",
       "<style scoped>\n",
       "    .dataframe tbody tr th:only-of-type {\n",
       "        vertical-align: middle;\n",
       "    }\n",
       "\n",
       "    .dataframe tbody tr th {\n",
       "        vertical-align: top;\n",
       "    }\n",
       "\n",
       "    .dataframe thead th {\n",
       "        text-align: right;\n",
       "    }\n",
       "</style>\n",
       "<table border=\"1\" class=\"dataframe\">\n",
       "  <thead>\n",
       "    <tr style=\"text-align: right;\">\n",
       "      <th></th>\n",
       "      <th>sepal_length</th>\n",
       "      <th>sepal_width</th>\n",
       "      <th>petal_length</th>\n",
       "      <th>petal_width</th>\n",
       "      <th>species</th>\n",
       "    </tr>\n",
       "  </thead>\n",
       "  <tbody>\n",
       "    <tr>\n",
       "      <th>0</th>\n",
       "      <td>5.1</td>\n",
       "      <td>3.5</td>\n",
       "      <td>1.4</td>\n",
       "      <td>0.2</td>\n",
       "      <td>setosa</td>\n",
       "    </tr>\n",
       "    <tr>\n",
       "      <th>1</th>\n",
       "      <td>4.9</td>\n",
       "      <td>3.0</td>\n",
       "      <td>1.4</td>\n",
       "      <td>0.2</td>\n",
       "      <td>setosa</td>\n",
       "    </tr>\n",
       "    <tr>\n",
       "      <th>2</th>\n",
       "      <td>4.7</td>\n",
       "      <td>3.2</td>\n",
       "      <td>1.3</td>\n",
       "      <td>0.2</td>\n",
       "      <td>setosa</td>\n",
       "    </tr>\n",
       "    <tr>\n",
       "      <th>3</th>\n",
       "      <td>4.6</td>\n",
       "      <td>3.1</td>\n",
       "      <td>1.5</td>\n",
       "      <td>0.2</td>\n",
       "      <td>setosa</td>\n",
       "    </tr>\n",
       "    <tr>\n",
       "      <th>4</th>\n",
       "      <td>5.0</td>\n",
       "      <td>3.6</td>\n",
       "      <td>1.4</td>\n",
       "      <td>0.2</td>\n",
       "      <td>setosa</td>\n",
       "    </tr>\n",
       "    <tr>\n",
       "      <th>...</th>\n",
       "      <td>...</td>\n",
       "      <td>...</td>\n",
       "      <td>...</td>\n",
       "      <td>...</td>\n",
       "      <td>...</td>\n",
       "    </tr>\n",
       "    <tr>\n",
       "      <th>145</th>\n",
       "      <td>6.7</td>\n",
       "      <td>3.0</td>\n",
       "      <td>5.2</td>\n",
       "      <td>2.3</td>\n",
       "      <td>virginica</td>\n",
       "    </tr>\n",
       "    <tr>\n",
       "      <th>146</th>\n",
       "      <td>6.3</td>\n",
       "      <td>2.5</td>\n",
       "      <td>5.0</td>\n",
       "      <td>1.9</td>\n",
       "      <td>virginica</td>\n",
       "    </tr>\n",
       "    <tr>\n",
       "      <th>147</th>\n",
       "      <td>6.5</td>\n",
       "      <td>3.0</td>\n",
       "      <td>5.2</td>\n",
       "      <td>2.0</td>\n",
       "      <td>virginica</td>\n",
       "    </tr>\n",
       "    <tr>\n",
       "      <th>148</th>\n",
       "      <td>6.2</td>\n",
       "      <td>3.4</td>\n",
       "      <td>5.4</td>\n",
       "      <td>2.3</td>\n",
       "      <td>virginica</td>\n",
       "    </tr>\n",
       "    <tr>\n",
       "      <th>149</th>\n",
       "      <td>5.9</td>\n",
       "      <td>3.0</td>\n",
       "      <td>5.1</td>\n",
       "      <td>1.8</td>\n",
       "      <td>virginica</td>\n",
       "    </tr>\n",
       "  </tbody>\n",
       "</table>\n",
       "<p>150 rows × 5 columns</p>\n",
       "</div>"
      ],
      "text/plain": [
       "     sepal_length  sepal_width  petal_length  petal_width    species\n",
       "0             5.1          3.5           1.4          0.2     setosa\n",
       "1             4.9          3.0           1.4          0.2     setosa\n",
       "2             4.7          3.2           1.3          0.2     setosa\n",
       "3             4.6          3.1           1.5          0.2     setosa\n",
       "4             5.0          3.6           1.4          0.2     setosa\n",
       "..            ...          ...           ...          ...        ...\n",
       "145           6.7          3.0           5.2          2.3  virginica\n",
       "146           6.3          2.5           5.0          1.9  virginica\n",
       "147           6.5          3.0           5.2          2.0  virginica\n",
       "148           6.2          3.4           5.4          2.3  virginica\n",
       "149           5.9          3.0           5.1          1.8  virginica\n",
       "\n",
       "[150 rows x 5 columns]"
      ]
     },
     "execution_count": 16,
     "metadata": {},
     "output_type": "execute_result"
    }
   ],
   "source": [
    "df"
   ]
  },
  {
   "cell_type": "code",
   "execution_count": 17,
   "id": "f3282064",
   "metadata": {},
   "outputs": [
    {
     "data": {
      "text/html": [
       "<div>\n",
       "<style scoped>\n",
       "    .dataframe tbody tr th:only-of-type {\n",
       "        vertical-align: middle;\n",
       "    }\n",
       "\n",
       "    .dataframe tbody tr th {\n",
       "        vertical-align: top;\n",
       "    }\n",
       "\n",
       "    .dataframe thead th {\n",
       "        text-align: right;\n",
       "    }\n",
       "</style>\n",
       "<table border=\"1\" class=\"dataframe\">\n",
       "  <thead>\n",
       "    <tr style=\"text-align: right;\">\n",
       "      <th></th>\n",
       "      <th>0</th>\n",
       "      <th>1</th>\n",
       "      <th>2</th>\n",
       "      <th>3</th>\n",
       "      <th>species</th>\n",
       "    </tr>\n",
       "  </thead>\n",
       "  <tbody>\n",
       "    <tr>\n",
       "      <th>0</th>\n",
       "      <td>0</td>\n",
       "      <td>2</td>\n",
       "      <td>1</td>\n",
       "      <td>0</td>\n",
       "      <td>new-species</td>\n",
       "    </tr>\n",
       "    <tr>\n",
       "      <th>1</th>\n",
       "      <td>1</td>\n",
       "      <td>2</td>\n",
       "      <td>5</td>\n",
       "      <td>5</td>\n",
       "      <td>new-species</td>\n",
       "    </tr>\n",
       "    <tr>\n",
       "      <th>2</th>\n",
       "      <td>2</td>\n",
       "      <td>0</td>\n",
       "      <td>2</td>\n",
       "      <td>1</td>\n",
       "      <td>new-species</td>\n",
       "    </tr>\n",
       "    <tr>\n",
       "      <th>3</th>\n",
       "      <td>4</td>\n",
       "      <td>6</td>\n",
       "      <td>2</td>\n",
       "      <td>5</td>\n",
       "      <td>new-species</td>\n",
       "    </tr>\n",
       "    <tr>\n",
       "      <th>4</th>\n",
       "      <td>3</td>\n",
       "      <td>6</td>\n",
       "      <td>5</td>\n",
       "      <td>0</td>\n",
       "      <td>new-species</td>\n",
       "    </tr>\n",
       "    <tr>\n",
       "      <th>5</th>\n",
       "      <td>6</td>\n",
       "      <td>2</td>\n",
       "      <td>1</td>\n",
       "      <td>3</td>\n",
       "      <td>new-species</td>\n",
       "    </tr>\n",
       "    <tr>\n",
       "      <th>6</th>\n",
       "      <td>6</td>\n",
       "      <td>5</td>\n",
       "      <td>4</td>\n",
       "      <td>6</td>\n",
       "      <td>new-species</td>\n",
       "    </tr>\n",
       "    <tr>\n",
       "      <th>7</th>\n",
       "      <td>1</td>\n",
       "      <td>6</td>\n",
       "      <td>0</td>\n",
       "      <td>1</td>\n",
       "      <td>new-species</td>\n",
       "    </tr>\n",
       "    <tr>\n",
       "      <th>8</th>\n",
       "      <td>0</td>\n",
       "      <td>0</td>\n",
       "      <td>3</td>\n",
       "      <td>2</td>\n",
       "      <td>new-species</td>\n",
       "    </tr>\n",
       "    <tr>\n",
       "      <th>9</th>\n",
       "      <td>0</td>\n",
       "      <td>2</td>\n",
       "      <td>3</td>\n",
       "      <td>1</td>\n",
       "      <td>new-species</td>\n",
       "    </tr>\n",
       "  </tbody>\n",
       "</table>\n",
       "</div>"
      ],
      "text/plain": [
       "   0  1  2  3      species\n",
       "0  0  2  1  0  new-species\n",
       "1  1  2  5  5  new-species\n",
       "2  2  0  2  1  new-species\n",
       "3  4  6  2  5  new-species\n",
       "4  3  6  5  0  new-species\n",
       "5  6  2  1  3  new-species\n",
       "6  6  5  4  6  new-species\n",
       "7  1  6  0  1  new-species\n",
       "8  0  0  3  2  new-species\n",
       "9  0  2  3  1  new-species"
      ]
     },
     "execution_count": 17,
     "metadata": {},
     "output_type": "execute_result"
    }
   ],
   "source": [
    "df2"
   ]
  },
  {
   "cell_type": "code",
   "execution_count": 18,
   "id": "b5707632",
   "metadata": {},
   "outputs": [
    {
     "data": {
      "text/plain": [
       "Index(['sepal_length', 'sepal_width', 'petal_length', 'petal_width',\n",
       "       'species'],\n",
       "      dtype='object')"
      ]
     },
     "execution_count": 18,
     "metadata": {},
     "output_type": "execute_result"
    }
   ],
   "source": [
    "df.columns"
   ]
  },
  {
   "cell_type": "code",
   "execution_count": 19,
   "id": "e532175b",
   "metadata": {},
   "outputs": [],
   "source": [
    "df2.columns = df.columns"
   ]
  },
  {
   "cell_type": "code",
   "execution_count": 20,
   "id": "021671a6",
   "metadata": {},
   "outputs": [
    {
     "data": {
      "text/html": [
       "<div>\n",
       "<style scoped>\n",
       "    .dataframe tbody tr th:only-of-type {\n",
       "        vertical-align: middle;\n",
       "    }\n",
       "\n",
       "    .dataframe tbody tr th {\n",
       "        vertical-align: top;\n",
       "    }\n",
       "\n",
       "    .dataframe thead th {\n",
       "        text-align: right;\n",
       "    }\n",
       "</style>\n",
       "<table border=\"1\" class=\"dataframe\">\n",
       "  <thead>\n",
       "    <tr style=\"text-align: right;\">\n",
       "      <th></th>\n",
       "      <th>sepal_length</th>\n",
       "      <th>sepal_width</th>\n",
       "      <th>petal_length</th>\n",
       "      <th>petal_width</th>\n",
       "      <th>species</th>\n",
       "    </tr>\n",
       "  </thead>\n",
       "  <tbody>\n",
       "    <tr>\n",
       "      <th>0</th>\n",
       "      <td>0</td>\n",
       "      <td>2</td>\n",
       "      <td>1</td>\n",
       "      <td>0</td>\n",
       "      <td>new-species</td>\n",
       "    </tr>\n",
       "    <tr>\n",
       "      <th>1</th>\n",
       "      <td>1</td>\n",
       "      <td>2</td>\n",
       "      <td>5</td>\n",
       "      <td>5</td>\n",
       "      <td>new-species</td>\n",
       "    </tr>\n",
       "    <tr>\n",
       "      <th>2</th>\n",
       "      <td>2</td>\n",
       "      <td>0</td>\n",
       "      <td>2</td>\n",
       "      <td>1</td>\n",
       "      <td>new-species</td>\n",
       "    </tr>\n",
       "    <tr>\n",
       "      <th>3</th>\n",
       "      <td>4</td>\n",
       "      <td>6</td>\n",
       "      <td>2</td>\n",
       "      <td>5</td>\n",
       "      <td>new-species</td>\n",
       "    </tr>\n",
       "    <tr>\n",
       "      <th>4</th>\n",
       "      <td>3</td>\n",
       "      <td>6</td>\n",
       "      <td>5</td>\n",
       "      <td>0</td>\n",
       "      <td>new-species</td>\n",
       "    </tr>\n",
       "    <tr>\n",
       "      <th>5</th>\n",
       "      <td>6</td>\n",
       "      <td>2</td>\n",
       "      <td>1</td>\n",
       "      <td>3</td>\n",
       "      <td>new-species</td>\n",
       "    </tr>\n",
       "    <tr>\n",
       "      <th>6</th>\n",
       "      <td>6</td>\n",
       "      <td>5</td>\n",
       "      <td>4</td>\n",
       "      <td>6</td>\n",
       "      <td>new-species</td>\n",
       "    </tr>\n",
       "    <tr>\n",
       "      <th>7</th>\n",
       "      <td>1</td>\n",
       "      <td>6</td>\n",
       "      <td>0</td>\n",
       "      <td>1</td>\n",
       "      <td>new-species</td>\n",
       "    </tr>\n",
       "    <tr>\n",
       "      <th>8</th>\n",
       "      <td>0</td>\n",
       "      <td>0</td>\n",
       "      <td>3</td>\n",
       "      <td>2</td>\n",
       "      <td>new-species</td>\n",
       "    </tr>\n",
       "    <tr>\n",
       "      <th>9</th>\n",
       "      <td>0</td>\n",
       "      <td>2</td>\n",
       "      <td>3</td>\n",
       "      <td>1</td>\n",
       "      <td>new-species</td>\n",
       "    </tr>\n",
       "  </tbody>\n",
       "</table>\n",
       "</div>"
      ],
      "text/plain": [
       "   sepal_length  sepal_width  petal_length  petal_width      species\n",
       "0             0            2             1            0  new-species\n",
       "1             1            2             5            5  new-species\n",
       "2             2            0             2            1  new-species\n",
       "3             4            6             2            5  new-species\n",
       "4             3            6             5            0  new-species\n",
       "5             6            2             1            3  new-species\n",
       "6             6            5             4            6  new-species\n",
       "7             1            6             0            1  new-species\n",
       "8             0            0             3            2  new-species\n",
       "9             0            2             3            1  new-species"
      ]
     },
     "execution_count": 20,
     "metadata": {},
     "output_type": "execute_result"
    }
   ],
   "source": [
    "df2"
   ]
  },
  {
   "cell_type": "code",
   "execution_count": 43,
   "id": "56858d24",
   "metadata": {},
   "outputs": [],
   "source": [
    "df5 = pd.concat([df,df2])"
   ]
  },
  {
   "cell_type": "code",
   "execution_count": 23,
   "id": "d686714d",
   "metadata": {},
   "outputs": [
    {
     "data": {
      "text/html": [
       "<div>\n",
       "<style scoped>\n",
       "    .dataframe tbody tr th:only-of-type {\n",
       "        vertical-align: middle;\n",
       "    }\n",
       "\n",
       "    .dataframe tbody tr th {\n",
       "        vertical-align: top;\n",
       "    }\n",
       "\n",
       "    .dataframe thead th {\n",
       "        text-align: right;\n",
       "    }\n",
       "</style>\n",
       "<table border=\"1\" class=\"dataframe\">\n",
       "  <thead>\n",
       "    <tr style=\"text-align: right;\">\n",
       "      <th></th>\n",
       "      <th>sepal_length</th>\n",
       "      <th>sepal_width</th>\n",
       "      <th>petal_length</th>\n",
       "      <th>petal_width</th>\n",
       "      <th>species</th>\n",
       "      <th>sepal_length</th>\n",
       "      <th>sepal_width</th>\n",
       "      <th>petal_length</th>\n",
       "      <th>petal_width</th>\n",
       "      <th>species</th>\n",
       "    </tr>\n",
       "  </thead>\n",
       "  <tbody>\n",
       "    <tr>\n",
       "      <th>0</th>\n",
       "      <td>5.1</td>\n",
       "      <td>3.5</td>\n",
       "      <td>1.4</td>\n",
       "      <td>0.2</td>\n",
       "      <td>setosa</td>\n",
       "      <td>0.0</td>\n",
       "      <td>2.0</td>\n",
       "      <td>1.0</td>\n",
       "      <td>0.0</td>\n",
       "      <td>new-species</td>\n",
       "    </tr>\n",
       "    <tr>\n",
       "      <th>1</th>\n",
       "      <td>4.9</td>\n",
       "      <td>3.0</td>\n",
       "      <td>1.4</td>\n",
       "      <td>0.2</td>\n",
       "      <td>setosa</td>\n",
       "      <td>1.0</td>\n",
       "      <td>2.0</td>\n",
       "      <td>5.0</td>\n",
       "      <td>5.0</td>\n",
       "      <td>new-species</td>\n",
       "    </tr>\n",
       "    <tr>\n",
       "      <th>2</th>\n",
       "      <td>4.7</td>\n",
       "      <td>3.2</td>\n",
       "      <td>1.3</td>\n",
       "      <td>0.2</td>\n",
       "      <td>setosa</td>\n",
       "      <td>2.0</td>\n",
       "      <td>0.0</td>\n",
       "      <td>2.0</td>\n",
       "      <td>1.0</td>\n",
       "      <td>new-species</td>\n",
       "    </tr>\n",
       "    <tr>\n",
       "      <th>3</th>\n",
       "      <td>4.6</td>\n",
       "      <td>3.1</td>\n",
       "      <td>1.5</td>\n",
       "      <td>0.2</td>\n",
       "      <td>setosa</td>\n",
       "      <td>4.0</td>\n",
       "      <td>6.0</td>\n",
       "      <td>2.0</td>\n",
       "      <td>5.0</td>\n",
       "      <td>new-species</td>\n",
       "    </tr>\n",
       "    <tr>\n",
       "      <th>4</th>\n",
       "      <td>5.0</td>\n",
       "      <td>3.6</td>\n",
       "      <td>1.4</td>\n",
       "      <td>0.2</td>\n",
       "      <td>setosa</td>\n",
       "      <td>3.0</td>\n",
       "      <td>6.0</td>\n",
       "      <td>5.0</td>\n",
       "      <td>0.0</td>\n",
       "      <td>new-species</td>\n",
       "    </tr>\n",
       "    <tr>\n",
       "      <th>...</th>\n",
       "      <td>...</td>\n",
       "      <td>...</td>\n",
       "      <td>...</td>\n",
       "      <td>...</td>\n",
       "      <td>...</td>\n",
       "      <td>...</td>\n",
       "      <td>...</td>\n",
       "      <td>...</td>\n",
       "      <td>...</td>\n",
       "      <td>...</td>\n",
       "    </tr>\n",
       "    <tr>\n",
       "      <th>145</th>\n",
       "      <td>6.7</td>\n",
       "      <td>3.0</td>\n",
       "      <td>5.2</td>\n",
       "      <td>2.3</td>\n",
       "      <td>virginica</td>\n",
       "      <td>NaN</td>\n",
       "      <td>NaN</td>\n",
       "      <td>NaN</td>\n",
       "      <td>NaN</td>\n",
       "      <td>NaN</td>\n",
       "    </tr>\n",
       "    <tr>\n",
       "      <th>146</th>\n",
       "      <td>6.3</td>\n",
       "      <td>2.5</td>\n",
       "      <td>5.0</td>\n",
       "      <td>1.9</td>\n",
       "      <td>virginica</td>\n",
       "      <td>NaN</td>\n",
       "      <td>NaN</td>\n",
       "      <td>NaN</td>\n",
       "      <td>NaN</td>\n",
       "      <td>NaN</td>\n",
       "    </tr>\n",
       "    <tr>\n",
       "      <th>147</th>\n",
       "      <td>6.5</td>\n",
       "      <td>3.0</td>\n",
       "      <td>5.2</td>\n",
       "      <td>2.0</td>\n",
       "      <td>virginica</td>\n",
       "      <td>NaN</td>\n",
       "      <td>NaN</td>\n",
       "      <td>NaN</td>\n",
       "      <td>NaN</td>\n",
       "      <td>NaN</td>\n",
       "    </tr>\n",
       "    <tr>\n",
       "      <th>148</th>\n",
       "      <td>6.2</td>\n",
       "      <td>3.4</td>\n",
       "      <td>5.4</td>\n",
       "      <td>2.3</td>\n",
       "      <td>virginica</td>\n",
       "      <td>NaN</td>\n",
       "      <td>NaN</td>\n",
       "      <td>NaN</td>\n",
       "      <td>NaN</td>\n",
       "      <td>NaN</td>\n",
       "    </tr>\n",
       "    <tr>\n",
       "      <th>149</th>\n",
       "      <td>5.9</td>\n",
       "      <td>3.0</td>\n",
       "      <td>5.1</td>\n",
       "      <td>1.8</td>\n",
       "      <td>virginica</td>\n",
       "      <td>NaN</td>\n",
       "      <td>NaN</td>\n",
       "      <td>NaN</td>\n",
       "      <td>NaN</td>\n",
       "      <td>NaN</td>\n",
       "    </tr>\n",
       "  </tbody>\n",
       "</table>\n",
       "<p>150 rows × 10 columns</p>\n",
       "</div>"
      ],
      "text/plain": [
       "     sepal_length  sepal_width  petal_length  petal_width    species  \\\n",
       "0             5.1          3.5           1.4          0.2     setosa   \n",
       "1             4.9          3.0           1.4          0.2     setosa   \n",
       "2             4.7          3.2           1.3          0.2     setosa   \n",
       "3             4.6          3.1           1.5          0.2     setosa   \n",
       "4             5.0          3.6           1.4          0.2     setosa   \n",
       "..            ...          ...           ...          ...        ...   \n",
       "145           6.7          3.0           5.2          2.3  virginica   \n",
       "146           6.3          2.5           5.0          1.9  virginica   \n",
       "147           6.5          3.0           5.2          2.0  virginica   \n",
       "148           6.2          3.4           5.4          2.3  virginica   \n",
       "149           5.9          3.0           5.1          1.8  virginica   \n",
       "\n",
       "     sepal_length  sepal_width  petal_length  petal_width      species  \n",
       "0             0.0          2.0           1.0          0.0  new-species  \n",
       "1             1.0          2.0           5.0          5.0  new-species  \n",
       "2             2.0          0.0           2.0          1.0  new-species  \n",
       "3             4.0          6.0           2.0          5.0  new-species  \n",
       "4             3.0          6.0           5.0          0.0  new-species  \n",
       "..            ...          ...           ...          ...          ...  \n",
       "145           NaN          NaN           NaN          NaN          NaN  \n",
       "146           NaN          NaN           NaN          NaN          NaN  \n",
       "147           NaN          NaN           NaN          NaN          NaN  \n",
       "148           NaN          NaN           NaN          NaN          NaN  \n",
       "149           NaN          NaN           NaN          NaN          NaN  \n",
       "\n",
       "[150 rows x 10 columns]"
      ]
     },
     "execution_count": 23,
     "metadata": {},
     "output_type": "execute_result"
    }
   ],
   "source": [
    "pd.concat([df,df2], axis=1)"
   ]
  },
  {
   "cell_type": "code",
   "execution_count": 24,
   "id": "f23971f6",
   "metadata": {},
   "outputs": [],
   "source": [
    "# Merging DataFrame"
   ]
  },
  {
   "cell_type": "code",
   "execution_count": 26,
   "id": "2b599d05",
   "metadata": {},
   "outputs": [],
   "source": [
    "df3  = pd.DataFrame({\n",
    "    'S_Name':['Mohit', 'Jatin', 'Prateek','Mohit'],\"CGPA\":[2,4,5,3]})"
   ]
  },
  {
   "cell_type": "code",
   "execution_count": 27,
   "id": "736c0f22",
   "metadata": {},
   "outputs": [
    {
     "data": {
      "text/html": [
       "<div>\n",
       "<style scoped>\n",
       "    .dataframe tbody tr th:only-of-type {\n",
       "        vertical-align: middle;\n",
       "    }\n",
       "\n",
       "    .dataframe tbody tr th {\n",
       "        vertical-align: top;\n",
       "    }\n",
       "\n",
       "    .dataframe thead th {\n",
       "        text-align: right;\n",
       "    }\n",
       "</style>\n",
       "<table border=\"1\" class=\"dataframe\">\n",
       "  <thead>\n",
       "    <tr style=\"text-align: right;\">\n",
       "      <th></th>\n",
       "      <th>S_Name</th>\n",
       "      <th>CGPA</th>\n",
       "    </tr>\n",
       "  </thead>\n",
       "  <tbody>\n",
       "    <tr>\n",
       "      <th>0</th>\n",
       "      <td>Mohit</td>\n",
       "      <td>2</td>\n",
       "    </tr>\n",
       "    <tr>\n",
       "      <th>1</th>\n",
       "      <td>Jatin</td>\n",
       "      <td>4</td>\n",
       "    </tr>\n",
       "    <tr>\n",
       "      <th>2</th>\n",
       "      <td>Prateek</td>\n",
       "      <td>5</td>\n",
       "    </tr>\n",
       "    <tr>\n",
       "      <th>3</th>\n",
       "      <td>Mohit</td>\n",
       "      <td>3</td>\n",
       "    </tr>\n",
       "  </tbody>\n",
       "</table>\n",
       "</div>"
      ],
      "text/plain": [
       "    S_Name  CGPA\n",
       "0    Mohit     2\n",
       "1    Jatin     4\n",
       "2  Prateek     5\n",
       "3    Mohit     3"
      ]
     },
     "execution_count": 27,
     "metadata": {},
     "output_type": "execute_result"
    }
   ],
   "source": [
    "df3"
   ]
  },
  {
   "cell_type": "code",
   "execution_count": 28,
   "id": "6f2ddf7e",
   "metadata": {},
   "outputs": [],
   "source": [
    "t = {\n",
    "    \"T_Name\":['Mohit', 'Jatin', 'Prateek', 'Mohit'],\n",
    "    'CGPA':[3,6,8,9]\n",
    "}"
   ]
  },
  {
   "cell_type": "code",
   "execution_count": 29,
   "id": "1e688704",
   "metadata": {},
   "outputs": [
    {
     "data": {
      "text/plain": [
       "{'T_Name': ['Mohit', 'Jatin', 'Prateek', 'Mohit'], 'CGPA': [3, 6, 8, 9]}"
      ]
     },
     "execution_count": 29,
     "metadata": {},
     "output_type": "execute_result"
    }
   ],
   "source": [
    "t"
   ]
  },
  {
   "cell_type": "code",
   "execution_count": 31,
   "id": "34719afe",
   "metadata": {},
   "outputs": [],
   "source": [
    "df4 = pd.DataFrame(t)"
   ]
  },
  {
   "cell_type": "code",
   "execution_count": 32,
   "id": "c1abfcfd",
   "metadata": {},
   "outputs": [
    {
     "data": {
      "text/html": [
       "<div>\n",
       "<style scoped>\n",
       "    .dataframe tbody tr th:only-of-type {\n",
       "        vertical-align: middle;\n",
       "    }\n",
       "\n",
       "    .dataframe tbody tr th {\n",
       "        vertical-align: top;\n",
       "    }\n",
       "\n",
       "    .dataframe thead th {\n",
       "        text-align: right;\n",
       "    }\n",
       "</style>\n",
       "<table border=\"1\" class=\"dataframe\">\n",
       "  <thead>\n",
       "    <tr style=\"text-align: right;\">\n",
       "      <th></th>\n",
       "      <th>T_Name</th>\n",
       "      <th>CGPA</th>\n",
       "    </tr>\n",
       "  </thead>\n",
       "  <tbody>\n",
       "    <tr>\n",
       "      <th>0</th>\n",
       "      <td>Mohit</td>\n",
       "      <td>3</td>\n",
       "    </tr>\n",
       "    <tr>\n",
       "      <th>1</th>\n",
       "      <td>Jatin</td>\n",
       "      <td>6</td>\n",
       "    </tr>\n",
       "    <tr>\n",
       "      <th>2</th>\n",
       "      <td>Prateek</td>\n",
       "      <td>8</td>\n",
       "    </tr>\n",
       "    <tr>\n",
       "      <th>3</th>\n",
       "      <td>Mohit</td>\n",
       "      <td>9</td>\n",
       "    </tr>\n",
       "  </tbody>\n",
       "</table>\n",
       "</div>"
      ],
      "text/plain": [
       "    T_Name  CGPA\n",
       "0    Mohit     3\n",
       "1    Jatin     6\n",
       "2  Prateek     8\n",
       "3    Mohit     9"
      ]
     },
     "execution_count": 32,
     "metadata": {},
     "output_type": "execute_result"
    }
   ],
   "source": [
    "df4"
   ]
  },
  {
   "cell_type": "code",
   "execution_count": 33,
   "id": "ce169edd",
   "metadata": {},
   "outputs": [
    {
     "data": {
      "text/html": [
       "<div>\n",
       "<style scoped>\n",
       "    .dataframe tbody tr th:only-of-type {\n",
       "        vertical-align: middle;\n",
       "    }\n",
       "\n",
       "    .dataframe tbody tr th {\n",
       "        vertical-align: top;\n",
       "    }\n",
       "\n",
       "    .dataframe thead th {\n",
       "        text-align: right;\n",
       "    }\n",
       "</style>\n",
       "<table border=\"1\" class=\"dataframe\">\n",
       "  <thead>\n",
       "    <tr style=\"text-align: right;\">\n",
       "      <th></th>\n",
       "      <th>S_Name</th>\n",
       "      <th>CGPA</th>\n",
       "      <th>T_Name</th>\n",
       "    </tr>\n",
       "  </thead>\n",
       "  <tbody>\n",
       "    <tr>\n",
       "      <th>0</th>\n",
       "      <td>Mohit</td>\n",
       "      <td>3</td>\n",
       "      <td>Mohit</td>\n",
       "    </tr>\n",
       "  </tbody>\n",
       "</table>\n",
       "</div>"
      ],
      "text/plain": [
       "  S_Name  CGPA T_Name\n",
       "0  Mohit     3  Mohit"
      ]
     },
     "execution_count": 33,
     "metadata": {},
     "output_type": "execute_result"
    }
   ],
   "source": [
    "df3.merge(df4)"
   ]
  },
  {
   "cell_type": "code",
   "execution_count": 34,
   "id": "eb65dec7",
   "metadata": {},
   "outputs": [
    {
     "data": {
      "text/html": [
       "<div>\n",
       "<style scoped>\n",
       "    .dataframe tbody tr th:only-of-type {\n",
       "        vertical-align: middle;\n",
       "    }\n",
       "\n",
       "    .dataframe tbody tr th {\n",
       "        vertical-align: top;\n",
       "    }\n",
       "\n",
       "    .dataframe thead th {\n",
       "        text-align: right;\n",
       "    }\n",
       "</style>\n",
       "<table border=\"1\" class=\"dataframe\">\n",
       "  <thead>\n",
       "    <tr style=\"text-align: right;\">\n",
       "      <th></th>\n",
       "      <th>S_Name</th>\n",
       "      <th>CGPA</th>\n",
       "      <th>T_Name</th>\n",
       "    </tr>\n",
       "  </thead>\n",
       "  <tbody>\n",
       "    <tr>\n",
       "      <th>0</th>\n",
       "      <td>Mohit</td>\n",
       "      <td>3</td>\n",
       "      <td>Mohit</td>\n",
       "    </tr>\n",
       "  </tbody>\n",
       "</table>\n",
       "</div>"
      ],
      "text/plain": [
       "  S_Name  CGPA T_Name\n",
       "0  Mohit     3  Mohit"
      ]
     },
     "execution_count": 34,
     "metadata": {},
     "output_type": "execute_result"
    }
   ],
   "source": [
    "df3.merge(df4,how='inner',on='CGPA' )"
   ]
  },
  {
   "cell_type": "code",
   "execution_count": 35,
   "id": "02374ebf",
   "metadata": {},
   "outputs": [
    {
     "data": {
      "text/html": [
       "<div>\n",
       "<style scoped>\n",
       "    .dataframe tbody tr th:only-of-type {\n",
       "        vertical-align: middle;\n",
       "    }\n",
       "\n",
       "    .dataframe tbody tr th {\n",
       "        vertical-align: top;\n",
       "    }\n",
       "\n",
       "    .dataframe thead th {\n",
       "        text-align: right;\n",
       "    }\n",
       "</style>\n",
       "<table border=\"1\" class=\"dataframe\">\n",
       "  <thead>\n",
       "    <tr style=\"text-align: right;\">\n",
       "      <th></th>\n",
       "      <th>S_Name</th>\n",
       "      <th>CGPA</th>\n",
       "      <th>T_Name</th>\n",
       "    </tr>\n",
       "  </thead>\n",
       "  <tbody>\n",
       "    <tr>\n",
       "      <th>0</th>\n",
       "      <td>Mohit</td>\n",
       "      <td>2</td>\n",
       "      <td>NaN</td>\n",
       "    </tr>\n",
       "    <tr>\n",
       "      <th>1</th>\n",
       "      <td>Jatin</td>\n",
       "      <td>4</td>\n",
       "      <td>NaN</td>\n",
       "    </tr>\n",
       "    <tr>\n",
       "      <th>2</th>\n",
       "      <td>Prateek</td>\n",
       "      <td>5</td>\n",
       "      <td>NaN</td>\n",
       "    </tr>\n",
       "    <tr>\n",
       "      <th>3</th>\n",
       "      <td>Mohit</td>\n",
       "      <td>3</td>\n",
       "      <td>Mohit</td>\n",
       "    </tr>\n",
       "  </tbody>\n",
       "</table>\n",
       "</div>"
      ],
      "text/plain": [
       "    S_Name  CGPA T_Name\n",
       "0    Mohit     2    NaN\n",
       "1    Jatin     4    NaN\n",
       "2  Prateek     5    NaN\n",
       "3    Mohit     3  Mohit"
      ]
     },
     "execution_count": 35,
     "metadata": {},
     "output_type": "execute_result"
    }
   ],
   "source": [
    "df3.merge(df4, how='left', on='CGPA')"
   ]
  },
  {
   "cell_type": "code",
   "execution_count": 36,
   "id": "d9dab909",
   "metadata": {},
   "outputs": [
    {
     "data": {
      "text/html": [
       "<div>\n",
       "<style scoped>\n",
       "    .dataframe tbody tr th:only-of-type {\n",
       "        vertical-align: middle;\n",
       "    }\n",
       "\n",
       "    .dataframe tbody tr th {\n",
       "        vertical-align: top;\n",
       "    }\n",
       "\n",
       "    .dataframe thead th {\n",
       "        text-align: right;\n",
       "    }\n",
       "</style>\n",
       "<table border=\"1\" class=\"dataframe\">\n",
       "  <thead>\n",
       "    <tr style=\"text-align: right;\">\n",
       "      <th></th>\n",
       "      <th>S_Name</th>\n",
       "      <th>CGPA</th>\n",
       "      <th>T_Name</th>\n",
       "    </tr>\n",
       "  </thead>\n",
       "  <tbody>\n",
       "    <tr>\n",
       "      <th>0</th>\n",
       "      <td>Mohit</td>\n",
       "      <td>3</td>\n",
       "      <td>Mohit</td>\n",
       "    </tr>\n",
       "    <tr>\n",
       "      <th>1</th>\n",
       "      <td>NaN</td>\n",
       "      <td>6</td>\n",
       "      <td>Jatin</td>\n",
       "    </tr>\n",
       "    <tr>\n",
       "      <th>2</th>\n",
       "      <td>NaN</td>\n",
       "      <td>8</td>\n",
       "      <td>Prateek</td>\n",
       "    </tr>\n",
       "    <tr>\n",
       "      <th>3</th>\n",
       "      <td>NaN</td>\n",
       "      <td>9</td>\n",
       "      <td>Mohit</td>\n",
       "    </tr>\n",
       "  </tbody>\n",
       "</table>\n",
       "</div>"
      ],
      "text/plain": [
       "  S_Name  CGPA   T_Name\n",
       "0  Mohit     3    Mohit\n",
       "1    NaN     6    Jatin\n",
       "2    NaN     8  Prateek\n",
       "3    NaN     9    Mohit"
      ]
     },
     "execution_count": 36,
     "metadata": {},
     "output_type": "execute_result"
    }
   ],
   "source": [
    "df3.merge(df4, how='right', on='CGPA')"
   ]
  },
  {
   "cell_type": "code",
   "execution_count": 37,
   "id": "f3085739",
   "metadata": {},
   "outputs": [
    {
     "data": {
      "text/html": [
       "<div>\n",
       "<style scoped>\n",
       "    .dataframe tbody tr th:only-of-type {\n",
       "        vertical-align: middle;\n",
       "    }\n",
       "\n",
       "    .dataframe tbody tr th {\n",
       "        vertical-align: top;\n",
       "    }\n",
       "\n",
       "    .dataframe thead th {\n",
       "        text-align: right;\n",
       "    }\n",
       "</style>\n",
       "<table border=\"1\" class=\"dataframe\">\n",
       "  <thead>\n",
       "    <tr style=\"text-align: right;\">\n",
       "      <th></th>\n",
       "      <th>S_Name</th>\n",
       "      <th>CGPA</th>\n",
       "      <th>T_Name</th>\n",
       "    </tr>\n",
       "  </thead>\n",
       "  <tbody>\n",
       "    <tr>\n",
       "      <th>0</th>\n",
       "      <td>Mohit</td>\n",
       "      <td>2</td>\n",
       "      <td>NaN</td>\n",
       "    </tr>\n",
       "    <tr>\n",
       "      <th>1</th>\n",
       "      <td>Jatin</td>\n",
       "      <td>4</td>\n",
       "      <td>NaN</td>\n",
       "    </tr>\n",
       "    <tr>\n",
       "      <th>2</th>\n",
       "      <td>Prateek</td>\n",
       "      <td>5</td>\n",
       "      <td>NaN</td>\n",
       "    </tr>\n",
       "    <tr>\n",
       "      <th>3</th>\n",
       "      <td>Mohit</td>\n",
       "      <td>3</td>\n",
       "      <td>Mohit</td>\n",
       "    </tr>\n",
       "    <tr>\n",
       "      <th>4</th>\n",
       "      <td>NaN</td>\n",
       "      <td>6</td>\n",
       "      <td>Jatin</td>\n",
       "    </tr>\n",
       "    <tr>\n",
       "      <th>5</th>\n",
       "      <td>NaN</td>\n",
       "      <td>8</td>\n",
       "      <td>Prateek</td>\n",
       "    </tr>\n",
       "    <tr>\n",
       "      <th>6</th>\n",
       "      <td>NaN</td>\n",
       "      <td>9</td>\n",
       "      <td>Mohit</td>\n",
       "    </tr>\n",
       "  </tbody>\n",
       "</table>\n",
       "</div>"
      ],
      "text/plain": [
       "    S_Name  CGPA   T_Name\n",
       "0    Mohit     2      NaN\n",
       "1    Jatin     4      NaN\n",
       "2  Prateek     5      NaN\n",
       "3    Mohit     3    Mohit\n",
       "4      NaN     6    Jatin\n",
       "5      NaN     8  Prateek\n",
       "6      NaN     9    Mohit"
      ]
     },
     "execution_count": 37,
     "metadata": {},
     "output_type": "execute_result"
    }
   ],
   "source": [
    "df3.merge(df4, how='outer', on='CGPA')"
   ]
  },
  {
   "cell_type": "code",
   "execution_count": 39,
   "id": "0c731477",
   "metadata": {},
   "outputs": [
    {
     "data": {
      "text/html": [
       "<div>\n",
       "<style scoped>\n",
       "    .dataframe tbody tr th:only-of-type {\n",
       "        vertical-align: middle;\n",
       "    }\n",
       "\n",
       "    .dataframe tbody tr th {\n",
       "        vertical-align: top;\n",
       "    }\n",
       "\n",
       "    .dataframe thead th {\n",
       "        text-align: right;\n",
       "    }\n",
       "</style>\n",
       "<table border=\"1\" class=\"dataframe\">\n",
       "  <thead>\n",
       "    <tr style=\"text-align: right;\">\n",
       "      <th></th>\n",
       "      <th>S_Name</th>\n",
       "      <th>CGPA_x</th>\n",
       "      <th>T_Name</th>\n",
       "      <th>CGPA_y</th>\n",
       "    </tr>\n",
       "  </thead>\n",
       "  <tbody>\n",
       "    <tr>\n",
       "      <th>0</th>\n",
       "      <td>Mohit</td>\n",
       "      <td>2</td>\n",
       "      <td>Mohit</td>\n",
       "      <td>3</td>\n",
       "    </tr>\n",
       "    <tr>\n",
       "      <th>1</th>\n",
       "      <td>Mohit</td>\n",
       "      <td>2</td>\n",
       "      <td>Jatin</td>\n",
       "      <td>6</td>\n",
       "    </tr>\n",
       "    <tr>\n",
       "      <th>2</th>\n",
       "      <td>Mohit</td>\n",
       "      <td>2</td>\n",
       "      <td>Prateek</td>\n",
       "      <td>8</td>\n",
       "    </tr>\n",
       "    <tr>\n",
       "      <th>3</th>\n",
       "      <td>Mohit</td>\n",
       "      <td>2</td>\n",
       "      <td>Mohit</td>\n",
       "      <td>9</td>\n",
       "    </tr>\n",
       "    <tr>\n",
       "      <th>4</th>\n",
       "      <td>Jatin</td>\n",
       "      <td>4</td>\n",
       "      <td>Mohit</td>\n",
       "      <td>3</td>\n",
       "    </tr>\n",
       "    <tr>\n",
       "      <th>5</th>\n",
       "      <td>Jatin</td>\n",
       "      <td>4</td>\n",
       "      <td>Jatin</td>\n",
       "      <td>6</td>\n",
       "    </tr>\n",
       "    <tr>\n",
       "      <th>6</th>\n",
       "      <td>Jatin</td>\n",
       "      <td>4</td>\n",
       "      <td>Prateek</td>\n",
       "      <td>8</td>\n",
       "    </tr>\n",
       "    <tr>\n",
       "      <th>7</th>\n",
       "      <td>Jatin</td>\n",
       "      <td>4</td>\n",
       "      <td>Mohit</td>\n",
       "      <td>9</td>\n",
       "    </tr>\n",
       "    <tr>\n",
       "      <th>8</th>\n",
       "      <td>Prateek</td>\n",
       "      <td>5</td>\n",
       "      <td>Mohit</td>\n",
       "      <td>3</td>\n",
       "    </tr>\n",
       "    <tr>\n",
       "      <th>9</th>\n",
       "      <td>Prateek</td>\n",
       "      <td>5</td>\n",
       "      <td>Jatin</td>\n",
       "      <td>6</td>\n",
       "    </tr>\n",
       "    <tr>\n",
       "      <th>10</th>\n",
       "      <td>Prateek</td>\n",
       "      <td>5</td>\n",
       "      <td>Prateek</td>\n",
       "      <td>8</td>\n",
       "    </tr>\n",
       "    <tr>\n",
       "      <th>11</th>\n",
       "      <td>Prateek</td>\n",
       "      <td>5</td>\n",
       "      <td>Mohit</td>\n",
       "      <td>9</td>\n",
       "    </tr>\n",
       "    <tr>\n",
       "      <th>12</th>\n",
       "      <td>Mohit</td>\n",
       "      <td>3</td>\n",
       "      <td>Mohit</td>\n",
       "      <td>3</td>\n",
       "    </tr>\n",
       "    <tr>\n",
       "      <th>13</th>\n",
       "      <td>Mohit</td>\n",
       "      <td>3</td>\n",
       "      <td>Jatin</td>\n",
       "      <td>6</td>\n",
       "    </tr>\n",
       "    <tr>\n",
       "      <th>14</th>\n",
       "      <td>Mohit</td>\n",
       "      <td>3</td>\n",
       "      <td>Prateek</td>\n",
       "      <td>8</td>\n",
       "    </tr>\n",
       "    <tr>\n",
       "      <th>15</th>\n",
       "      <td>Mohit</td>\n",
       "      <td>3</td>\n",
       "      <td>Mohit</td>\n",
       "      <td>9</td>\n",
       "    </tr>\n",
       "  </tbody>\n",
       "</table>\n",
       "</div>"
      ],
      "text/plain": [
       "     S_Name  CGPA_x   T_Name  CGPA_y\n",
       "0     Mohit       2    Mohit       3\n",
       "1     Mohit       2    Jatin       6\n",
       "2     Mohit       2  Prateek       8\n",
       "3     Mohit       2    Mohit       9\n",
       "4     Jatin       4    Mohit       3\n",
       "5     Jatin       4    Jatin       6\n",
       "6     Jatin       4  Prateek       8\n",
       "7     Jatin       4    Mohit       9\n",
       "8   Prateek       5    Mohit       3\n",
       "9   Prateek       5    Jatin       6\n",
       "10  Prateek       5  Prateek       8\n",
       "11  Prateek       5    Mohit       9\n",
       "12    Mohit       3    Mohit       3\n",
       "13    Mohit       3    Jatin       6\n",
       "14    Mohit       3  Prateek       8\n",
       "15    Mohit       3    Mohit       9"
      ]
     },
     "execution_count": 39,
     "metadata": {},
     "output_type": "execute_result"
    }
   ],
   "source": [
    "df3.merge(df4, how='cross')"
   ]
  },
  {
   "cell_type": "code",
   "execution_count": 40,
   "id": "675f0902",
   "metadata": {},
   "outputs": [],
   "source": [
    "# output Files"
   ]
  },
  {
   "cell_type": "code",
   "execution_count": 41,
   "id": "80f75802",
   "metadata": {},
   "outputs": [
    {
     "name": "stdout",
     "output_type": "stream",
     "text": [
      " Volume in drive C is OS\n",
      " Volume Serial Number is 0CC1-C20F\n",
      "\n",
      " Directory of C:\\Users\\skme2\\Downloads\n",
      "\n",
      "13-02-2024  08:20    <DIR>          .\n",
      "12-02-2024  18:58    <DIR>          ..\n",
      "12-02-2024  23:02    <DIR>          .ipynb_checkpoints\n",
      "21-12-2023  11:58    <DIR>          __pycache__\n",
      "06-11-2023  11:20             2,633 01_11_sql_practice.sql\n",
      "02-11-2022  15:49           410,816 0211resume.pdf\n",
      "03-09-2023  14:20            54,756 03_09_1_pm_Functions.ipynb\n",
      "13-10-2023  15:25    <DIR>          03_10_4pm\n",
      "13-10-2023  15:24        98,232,624 03_10_4pm.zip\n",
      "20-03-2023  16:51           118,844 04_06.ipynb\n",
      "13-10-2023  15:24    <DIR>          04_10_4pm\n",
      "13-10-2023  15:23        85,733,531 04_10_4pm.zip\n",
      "04-12-2023  16:36               185 04_12_03_05_pm.sql\n",
      "05-12-2023  11:43            78,452 04_12_python_class_2.ipynb\n",
      "05-08-2023  17:33       144,122,096 05_08_1PM.zip\n",
      "05-08-2023  17:32            28,266 05_08_firoj_tapan.ipynb\n",
      "05-12-2023  17:47             1,293 05_12_03_05_pm.sql\n",
      "06-12-2023  12:35           115,848 05_12_Python_12_noon.ipynb\n",
      "06-12-2023  17:03             2,829 06_12_03_05_pm.sql\n",
      "07-12-2023  11:59            16,680 06_12_10_12.ipynb\n",
      "06-12-2023  10:56            14,637 06_12_10_12_part2.ipynb\n",
      "16-12-2023  18:13             4,713 07_12_03_05_pm.sql\n",
      "07-12-2023  11:59            17,005 07_12_10_12AM.ipynb\n",
      "07-12-2023  14:40            27,657 07_12_12_noon.ipynb\n",
      "08-04-2023  17:46             6,413 08_04_2023_window functions__damini_04_06.sql\n",
      "08-05-2023  17:43           453,229 08_05_power bi.pbix\n",
      "08-11-2022  11:41           412,631 08novresume.pdf\n",
      "09-04-2023  17:37             2,262 09_damini stored_processor.sql\n",
      "08-10-2022  12:44               582 1.0.5\n",
      "11-04-2023  14:25       279,467,547 10_04_2023.mp4\n",
      "16-09-2022  19:48         7,070,153 100-Business-English-Expressions.pdf\n",
      "23-09-2022  08:41         1,139,062 101-Essays-That-Will-Change-The-Way-You-Think_.pdf\n",
      "03-01-2023  14:28    <DIR>          1071244354_9761672683050\n",
      "03-01-2023  14:23            27,403 1071244354_9761672683050.rar\n",
      "14-12-2022  23:53    <DIR>          1081876154_needhelp\n",
      "14-12-2022  23:49        16,781,691 1081876154_needhelp.zip\n",
      "03-04-2023  15:02    <DIR>          10thAprilDeploymentSteps-20230403T093128Z-001\n",
      "09-06-2023  23:28    <DIR>          10thAprilDeploymentSteps-20230609T175740Z-001\n",
      "09-06-2023  23:27         1,879,584 10thAprilDeploymentSteps-20230609T175740Z-001.zip\n",
      "31-03-2023  17:05    <DIR>          10thOctBA-20230331T112251Z-001\n",
      "02-05-2023  23:02    <DIR>          10thOctBA-20230502T173034Z-001\n",
      "02-05-2023  23:00         4,290,115 10thOctBA-20230502T173034Z-001.zip\n",
      "19-03-2023  14:58           136,129 11_03_2023_Saurabh .ipynb\n",
      "01-04-2023  14:11             7,548 11_04_matplotlib.ipynb\n",
      "12-12-2023  15:27             6,270 11_12_03_05_pm.sql\n",
      "12-12-2023  10:56            26,245 11_12_10_12AM.ipynb\n",
      "12-12-2023  12:23            33,486 11_12_12_noon_part_1.ipynb\n",
      "04-12-2023  10:44    <DIR>          1-1699437272409_USBDisplay_2.2.7.3\n",
      "04-12-2023  10:44        39,584,067 1-1699437272409_USBDisplay_2.2.7.3.zip\n",
      "04-07-2023  12:00            16,100 11AM_04_07.ipynb\n",
      "13-02-2024  08:20           508,234 12_02_Numpy and Pandas.ipynb\n",
      "13-12-2023  19:36            22,173 12_12_Pythn_basics_06_08.ipynb\n",
      "07-01-2023  11:15           251,753 1215725943_2151672927494.rar\n",
      "12-12-2022  21:33             3,972 1236247724_attach-file-1670846640142.zip\n",
      "03-01-2023  15:27            94,784 1257579810_9101672689580.xlsx\n",
      "03-01-2023  15:27            94,784 1277482325_7351672689456.xlsx\n",
      "05-03-2023  17:24    <DIR>          12thSep-20230305T115045Z-001\n",
      "05-03-2023  17:21         1,800,263 12thSep-20230305T115045Z-001.zip\n",
      "13-10-2023  15:38            24,342 13_10_power_bi_practice.jpg\n",
      "17-10-2023  10:39           855,868 13_10_power_bi_practice.pbix\n",
      "13-10-2023  15:46         5,987,079 13_10_power_bi_practice.pdf\n",
      "13-10-2023  15:47        17,291,371 13_10_power_bi_practice.pptx\n",
      "13-12-2023  19:51             9,412 13_12_03_05_pm.sql\n",
      "18-12-2023  16:45            61,265 13_12_10_12pm.ipynb\n",
      "03-01-2023  15:27            94,784 132808084_2671672689536.xlsx\n",
      "03-01-2023  15:29            68,516 1346113162_attach-file-1672689878840.xlsx\n",
      "14-12-2023  17:09             9,941 14_12_03_05_pm.sql\n",
      "18-12-2023  16:45           158,114 14_12_12_noon.ipynb\n",
      "19-12-2023  10:29            95,736 14_12_Pythn_basics_06_08.ipynb\n",
      "14-03-2023  09:44                63 14_textfile.txt\n",
      "06-01-2023  08:59         4,894,621 1472359526_2145622_1839731_6302138.docx.pdf\n",
      "07-01-2023  11:15            40,869 1622747648_4091673022377.PNG\n",
      "16-06-2022  12:41           821,305 1655303783088.pdf\n",
      "16-06-2022  12:42           805,584 1655361164152.pdf\n",
      "24-06-2022  11:57         1,554,236 1655729738530.pdf\n",
      "22-06-2022  11:00         2,858,697 1655808683836.pdf\n",
      "22-06-2022  10:01           474,528 1655817362570.pdf\n",
      "31-07-2022  23:27           194,662 1659268223394.pdf\n",
      "01-08-2022  12:03           202,563 1659327300591.pdf\n",
      "19-08-2022  11:56            95,777 1660554784534.pdf\n",
      "31-08-2022  14:56            76,256 1660633425891.pdf\n",
      "20-08-2022  13:03           278,174 1660706504763.pdf\n",
      "18-08-2022  12:25         2,285,675 1660796239124.pdf\n",
      "20-08-2022  13:03           290,834 1660964997593.pdf\n",
      "28-08-2022  23:57            84,072 1661491570743.pdf\n",
      "03-09-2022  11:57        24,347,918 1662176194924.pdf\n",
      "11-09-2022  19:15         3,089,241 1662895783938.pdf\n",
      "16-10-2022  19:04            25,278 1665927254292T5LGVZEqHRtY18DM.pdf\n",
      "02-11-2022  15:29         1,348,909 1667367903949.pdf\n",
      "24-03-2023  20:17           346,341 1679666303576.pdf\n",
      "11-10-2023  20:10            34,408 1697035238395WyAqtwm14RdR0r36.pdf\n",
      "11-10-2023  20:17            26,959 1697035678438ZuVMhzootwhS9VZY.pdf\n",
      "11-10-2023  20:18            25,911 1697035704347nTpQ2xwqW4vU8dYJ.pdf\n",
      "17-09-2023  01:01             7,843 16Sep_textbasedproject.ipynb\n",
      "17-12-2023  11:41            74,038 17_12_10_01_pm_part_1.ipynb\n",
      "30-12-2023  11:09            25,536 17_12_10_01_pm_part2.ipynb\n",
      "24-11-2022  10:04           245,499 1733335575_2126730_1816551_6245808.docx.pdf\n",
      "08-10-2022  23:14    <DIR>          18.3.Plotly.7z (Unzipped Files)-20221008T174315Z-001\n",
      "08-10-2022  23:13         4,688,447 18.3.Plotly.7z (Unzipped Files)-20221008T174315Z-001.zip\n",
      "18-12-2023  18:04            10,484 18_12_03_05_pm.sql\n",
      "10-10-2022  16:40         2,879,041 18_4_Cufflinks_checkpoint.ipynb\n",
      "24-11-2022  15:10           243,853 1813334027_2126730_1817076_6247183.docx.pdf\n",
      "07-01-2023  12:30         4,890,890 1835446948_Updated_solution_06012023.docx.pdf\n",
      "03-01-2023  14:32    <DIR>          1867855190_9251672678839\n",
      "03-01-2023  14:23            47,736 1867855190_9251672678839.rar\n",
      "20-12-2023  18:29            36,701 19_12_06_08.ipynb\n",
      "19-12-2023  15:09            68,889 19_12_10_12_pm.ipynb\n",
      "03-01-2023  15:24            17,779 1900425184_attach-file-16726896538021.docx\n",
      "03-01-2023  15:27            94,784 1925709743_4951672689567.xlsx\n",
      "07-01-2023  16:26            30,201 1964090971_attach-file-1672220444499.docx\n",
      "03-01-2023  15:29            63,488 1976883288_attach-file-1672689879136.doc\n",
      "29-09-2022  05:57         5,227,782 1-deep learning (1).pdf\n",
      "18-08-2022  17:45         5,227,782 1-deep learning.pdf\n",
      "19-07-2022  21:09         5,812,051 1-Simple Linearregression.pdf\n",
      "07-10-2022  21:35           694,907 1st Oct Data Science industry(3-Git ).pdf\n",
      "10-03-2023  16:06        26,300,953 1st Oct FSDA-20230310T103630Z-001.zip\n",
      "20-12-2023  18:20            11,002 20_12_03_05_pm.sql\n",
      "20-12-2023  13:08           165,414 20_12_12_14_pm_part2.ipynb\n",
      "08-01-2023  13:06            31,186 2009659.docx\n",
      "11-10-2023  22:44         3,317,648 20231011_222916.jpg\n",
      "11-10-2023  22:44         3,588,576 20231011_222936.jpg\n",
      "11-10-2023  22:44         3,530,669 20231011_223005.jpg\n",
      "11-10-2023  22:44         3,352,405 20231011_223023.jpg\n",
      "11-10-2023  22:44         3,500,601 20231011_223036.jpg\n",
      "11-10-2023  22:44         3,435,169 20231011_223049.jpg\n",
      "11-10-2023  22:44         3,303,889 20231011_223114.jpg\n",
      "01-01-2024  14:38             7,447 2024.jpeg\n",
      "01-01-2024  14:41            12,099 20242.jpeg\n",
      "01-01-2024  14:46            15,420 20243.jpeg\n",
      "01-01-2024  14:56            14,103 20244.jpeg\n",
      "03-01-2023  14:23            41,767 2049695533_1501672678817.PNG\n",
      "03-01-2023  20:53         2,991,850 2050840287_6571672736572.rar\n",
      "30-11-2022  10:51    <DIR>          2057936858_1521669747194\n",
      "25-11-2022  20:59           282,615 2064437649_6111669265346 (1).xlsx\n",
      "25-11-2022  12:53           282,615 2064437649_6111669265346.xlsx\n",
      "21-03-2023  13:56             5,943 21_03_ruda_utkarsh.sql\n",
      "21-09-2023  12:57           456,688 21_09_Resume.pdf\n",
      "26-12-2023  10:45            80,802 21_12_06_08.ipynb\n",
      "21-12-2023  15:02            46,376 21_12_10_12pm.ipynb\n",
      "26-11-2022  17:43           207,304 2119999.zip\n",
      "24-11-2022  10:30    <DIR>          2126730\n",
      "16-09-2022  19:46         1,477,146 2127.pdf\n",
      "26-11-2022  17:34    <DIR>          2127053\n",
      "26-11-2022  17:25        10,955,424 2127053 (2).zip\n",
      "24-11-2022  12:41           154,637 2127053.zip\n",
      "28-02-2023  15:05    <DIR>          2129919\n",
      "29-11-2022  16:40         9,059,733 2129919.zip\n",
      "03-07-2022  11:53    <DIR>          21stMay-20220702T055745Z-001\n",
      "30-07-2023  16:12         6,863,802 21stMay-20220702T055745Z-001.zip\n",
      "24-04-2023  13:01           375,712 22b01038ed616ac43165687bedaaee45ee8fbebc93c75e197f48c529c415222e-2023-04-24-07-31-10.zip\n",
      "30-08-2023  20:49           114,114 22b01038ed616ac43165687bedaaee45ee8fbebc93c75e197f48c529c415222e-2023-08-30-15-19-02.zip\n",
      "07-09-2023  10:31    <DIR>          22b01038ed616ac43165687bedaaee45ee8fbebc93c75e197f48c529c415222e-2023-09-07-05-00-53\n",
      "07-09-2023  10:31           132,147 22b01038ed616ac43165687bedaaee45ee8fbebc93c75e197f48c529c415222e-2023-09-07-05-00-53.zip\n",
      "03-07-2022  11:53    <DIR>          22ndmay-20220702T055801Z-001\n",
      "10-09-2022  23:12    <DIR>          23. Django-20220910T174146Z-001\n",
      "10-09-2022  23:12           635,343 23. Django-20220910T174146Z-001.zip\n",
      "24-09-2023  23:54            10,895 24_09_practice.sql\n",
      "13-10-2023  13:47           641,619 25_09_power_bi_practice.pbix\n",
      "26-09-2023  00:19             1,059 25_09_practice.sql\n",
      "25-12-2022  23:08           402,470 25resume.pdf\n",
      "07-10-2022  21:35         2,513,681 25th Sept Industry ready 1-DS Project Flow.pdf\n",
      "25-09-2023  22:30               576 26_09_Open_Cv and Beautiful_soup.ipynb\n",
      "27-09-2023  00:50             9,544 26_09_practice.sql\n",
      "26-12-2023  17:24    <DIR>          26_12_03_05fullstack\n",
      "26-12-2023  17:25             6,320 26_12_03_05fullstack.zip\n",
      "26-12-2023  15:38           111,611 26_12_12_14_pm.ipynb\n",
      "26-11-2022  17:58             9,280 26-11-2022.png\n",
      "27-09-2023  00:51             9,544 27_09_practice.sql\n",
      "27-12-2023  19:41            72,489 27_12_06_08.ipynb\n",
      "27-12-2023  12:22            58,773 27_12_10_12pm.ipynb\n",
      "27-12-2023  13:53            62,744 27_12_12_14_pm.ipynb\n",
      "28-07-2023  21:29            24,900 28.ipynb\n",
      "28-09-2023  01:15            12,033 28_09_practice.sql\n",
      "29-11-2022  14:00            12,498 28-11-2022.png\n",
      "03-07-2022  11:53    <DIR>          28thmay-20220702T055846Z-001\n",
      "30-09-2023  01:00            14,178 29_09_practice.sql\n",
      "09-02-2023  12:22           401,917 29resumefinal (1).pdf\n",
      "09-02-2023  12:28           401,917 29resumefinal (2).pdf\n",
      "09-02-2023  19:44           401,917 29resumefinal (3).pdf\n",
      "12-02-2023  12:00           401,917 29resumefinal (4).pdf\n",
      "29-01-2023  20:16           401,917 29resumefinal.pdf\n",
      "03-07-2022  11:53    <DIR>          29thMay-20220702T055900Z-001\n",
      "29-09-2022  05:58         4,936,410 2-Deep Learning-Activation Function,Loss Function,vanishing gradient problems.pdf\n",
      "19-07-2022  22:15         6,177,864 2-RidgeLassoelasticLogistic.pdf\n",
      "29-09-2022  06:00         3,811,002 3- Deep Learning optimizers.pdf\n",
      "31-05-2023  16:29            53,051 30 May.rar\n",
      "30-07-2023  15:18            23,986 30_07_firoj_tapan.ipynb\n",
      "13-10-2023  23:41            14,185 30_09_practice.sql\n",
      "31-12-2023  13:44            94,661 30_31_12_10_01_pm.ipynb\n",
      "31-12-2022  22:15           310,589 31december-2022_production.png\n",
      "03-01-2023  12:54         1,021,563 322231446_2145949_1838688_6299658.docx.pdf\n",
      "16-12-2022  09:38         1,088,545 3494407_924284817_5221671127587.pdf\n",
      "20-07-2022  20:30         4,476,715 3-NaiveBayes&KNN (1).pdf\n",
      "06-01-2023  13:43    <DIR>          4000_2145811\n",
      "29-12-2022  13:04             1,014 486285524_report.PNG\n",
      "06-08-2022  20:04            46,783 48d054d7-9ca9-41a2-af20-6da22f7b1687.pdf\n",
      "26-11-2022  09:50           371,264 57-Full Manuscript-303-1-10-20210101.pdf\n",
      "05-09-2023  16:16           115,254 5-sep-23..Matplotlib.ipynb\n",
      "03-07-2022  11:53    <DIR>          5thJune-20220702T060018Z-001\n",
      "07-01-2023  11:15            40,869 610424553_8661673022502.PNG\n",
      "03-01-2023  15:26            94,784 611890008_attach-file-1672689653245.xlsx\n",
      "08-01-2023  13:05            32,708 6174694_2019475483_ITSecurityofAssetsAuditReport.docx\n",
      "08-01-2023  13:05            52,373 6174695_773413174_answersheet.docx\n",
      "30-11-2022  10:10    <DIR>          6202146_557902306_1711667066232\n",
      "30-11-2022  10:08         4,336,189 6202146_557902306_1711667066232.zip\n",
      "29-11-2022  17:08           192,888 6213366_724256128_8881667618211.pdf\n",
      "29-11-2022  17:08           192,888 6213367_42476707_7311667618413.pdf\n",
      "25-11-2022  10:06           319,905 6214359_1000821664_ISYS40251DerivingBusinessValue (1).docx\n",
      "08-01-2023  13:04           319,905 6214359_1000821664_ISYS40251DerivingBusinessValue (2).docx\n",
      "15-11-2022  21:58           319,905 6214359_1000821664_ISYS40251DerivingBusinessValue.docx\n",
      "19-11-2022  20:37            17,603 6226585_977810161_ForecastingProjectFall20221 (1).docx\n",
      "26-11-2022  17:33            20,243 6226585_977810161_ForecastingProjectFall20221 (2).docx\n",
      "19-11-2022  20:03            17,603 6226585_977810161_ForecastingProjectFall20221.docx\n",
      "26-11-2022  18:03           178,331 6227997_804850198_4311668368487 (1).pdf\n",
      "25-11-2022  20:54           178,331 6227997_804850198_4311668368487.pdf\n",
      "15-11-2022  21:59           376,297 6228599_713001643_606D817C-0AE9-4AF8-9679-8AC576.jpeg\n",
      "24-11-2022  10:35           169,788 6244932_594254105_lab3.pdf\n",
      "24-11-2022  16:13            63,116 6246945_1997681302_1571669247673 (1).docx\n",
      "24-11-2022  10:33            63,116 6246945_1997681302_1571669247673.docx\n",
      "25-11-2022  10:01           172,719 6248251_1610762773_5221669311232.pdf\n",
      "26-11-2022  12:02            27,462 6248737_15177946_AssignmentRoverPart2.docx\n",
      "29-11-2022  17:18           156,402 6253046_1015605848_Rawdata-assignment-20221116.zip\n",
      "29-11-2022  10:49           187,004 6255566_1848008959_6871669689685 (1).rar\n",
      "29-11-2022  10:49           187,004 6255566_1848008959_6871669689685.rar\n",
      "30-11-2022  10:16            34,337 6256887_1144032372_4721669744820.docx\n",
      "30-11-2022  10:31            17,680 6256973_658864227_3561669747930.docx\n",
      "02-12-2022  09:40    <DIR>          6257614_970114486_CMSC733Assignment5\n",
      "02-12-2022  09:37            40,181 6257614_970114486_CMSC733Assignment5.zip\n",
      "02-01-2023  16:47           153,635 6284500_324218519_4231671106208 (1).pdf\n",
      "02-01-2023  16:46           153,635 6284500_324218519_4231671106208.pdf\n",
      "29-12-2022  12:08            14,023 6293639_1144537252_task3.docx\n",
      "29-12-2022  17:33           232,403 6296326_1215288445_9411672312163.pdf\n",
      "29-12-2022  17:30            57,383 6296343_971359209_6011672312673 (1).docx\n",
      "29-12-2022  17:34            57,383 6296343_971359209_6011672312673 (2).docx\n",
      "06-01-2023  14:04            57,383 6296343_971359209_6011672312673 (3).docx\n",
      "29-12-2022  17:15            57,383 6296343_971359209_6011672312673.docx\n",
      "30-12-2022  18:05             4,998 6297173_1069742042_9271672401337 (1).rar\n",
      "30-12-2022  18:04             4,998 6297173_1069742042_9271672401337.rar\n",
      "30-12-2022  18:07             3,000 6297175_1552145183_2901672401396.rar\n",
      "02-01-2023  17:05            26,914 6298281_303235459_62978852120552226SCI442Coursew (1).docx\n",
      "03-01-2023  12:07            26,914 6298281_303235459_62978852120552226SCI442Coursew (2).docx\n",
      "02-01-2023  16:56            26,914 6298281_303235459_62978852120552226SCI442Coursew.docx\n",
      "03-01-2023  14:01           143,842 6299068_948091880_5831672665101.png\n",
      "03-01-2023  14:01           354,285 6299069_207794875_6801672665102.pdf\n",
      "03-01-2023  15:32            13,303 6299357_465611549_7671672685975.docx\n",
      "03-01-2023  15:32         5,057,999 6299358_68953781_8531672685976.xlsx\n",
      "03-01-2023  15:32        50,512,925 6299359_1675536243_3811672685978.xlsx\n",
      "03-01-2023  15:23            94,784 6299371_175633961_6431672687293.xlsx\n",
      "03-01-2023  20:50            22,089 6299849_410794984_5291672744220.docx\n",
      "03-01-2023  20:52           581,082 6299990_898942029_6041672751306.pdf\n",
      "05-01-2023  16:37           239,959 6301385_1625681581_2191672881498.pdf\n",
      "07-01-2023  16:25           261,717 6301425_1448130059_7801672890194.docx\n",
      "07-01-2023  16:25           212,207 6301426_654502130_9391672890196.docx\n",
      "07-01-2023  16:23       201,617,580 6301722_238167626_4761672913933 (1).docx\n",
      "05-01-2023  22:18       201,617,580 6301722_238167626_4761672913933.docx\n",
      "07-01-2023  16:18           168,819 6303202_1793967889_8071673025731.gif\n",
      "07-01-2023  16:18           179,000 6303203_1296589249_8851673025731.gif\n",
      "07-01-2023  16:17           208,620 6303204_300042897_4791673025732.gif\n",
      "07-01-2023  16:17           178,322 6303206_1885821677_5561673025733.gif\n",
      "07-01-2023  15:18           231,559 6303420_654443766_5141673049427.pdf\n",
      "03-09-2022  11:53           543,608 6a2d2d74-fd47-4c8e-9305-83c33f35b46f.pdf\n",
      "03-01-2023  20:53         2,991,850 719257568_2871672743580.rar\n",
      "07-01-2023  12:31        37,137,379 881577687_marketing_campaign.csv.pdf\n",
      "02-07-2022  11:30         7,136,886 8-Gradientboosting-kmeanshierarichal.pdf\n",
      "29-06-2022  17:02         6,328,057 8thJanStats3.pdf\n",
      "29-06-2022  17:02         6,662,750 9thJanStats4.pdf\n",
      "06-06-2023  13:31            54,013 abc.pdf\n",
      "10-06-2023  13:49           261,128 Account_Statement_100323_090623.pdf\n",
      "10-06-2023  13:52           282,455 Account_Statement_3month.pdf\n",
      "10-06-2023  13:50           261,128 Account_Statement_last3month.pdf\n",
      "29-09-2022  05:59         3,253,779 activation function.zip\n",
      "12-10-2022  21:35            21,390 Advanced+Excel+Analytics+in+Excel.xlsx\n",
      "27-10-2022  13:15            61,223 AI ENGINEER MATRIX.xlsx\n",
      "01-01-2024  18:02             6,996 ai.jpeg\n",
      "16-07-2023  14:46         3,999,366 airbanb.pdf\n",
      "31-03-2023  18:45             1,746 AirPassengers.csv\n",
      "08-01-2023  13:06            28,742 annotated bibliography.docx\n",
      "13-11-2023  16:50             4,894 answere_key_cce.txt\n",
      "01-12-2023  14:28         5,525,576 AnyDesk (1).exe\n",
      "04-08-2022  21:13           510,875 aPI.pdf\n",
      "19-12-2023  13:28               487 api19.py\n",
      "29-09-2022  06:11         1,416,716 Apple+quarterly+balance+sheet.pdf\n",
      "29-09-2022  06:11         1,429,366 Apple+quarterly+balance+sheet+1.pdf\n",
      "04-12-2023  18:37            25,398 apply.docx\n",
      "10-06-2023  13:53           427,017 Apr'23 (1).pdf\n",
      "08-06-2023  09:39           427,017 Apr'23.pdf\n",
      "02-09-2022  17:49    <DIR>          archive\n",
      "03-09-2022  13:06    <DIR>          archive (1)\n",
      "03-09-2022  13:05           641,269 archive (1).zip\n",
      "02-09-2022  17:48         5,732,543 archive.zip\n",
      "12-12-2022  15:08           524,200 AReM.zip\n",
      "10-03-2023  18:49         1,103,184 arnaud-jaegers-Al7IoQ74-LU-unsplash.jpg\n",
      "08-02-2024  18:30               143 asd.html\n",
      "12-03-2023  14:33    <DIR>          asd.py\n",
      "31-05-2023  17:05                89 asdf.txt\n",
      "10-03-2023  21:49    <DIR>          ASSIGNMENT\n",
      "29-09-2022  19:54        10,401,953 assignment (2) (2).xlsx\n",
      "13-10-2023  22:10           173,843 Assumptions-of-Linear-Regression.pdf\n",
      "30-07-2022  22:27           104,846 atlassian-git-cheatsheet.pdf\n",
      "26-10-2023  12:02           860,651 Aug_sep_salary_slip.pdf\n",
      "26-10-2023  12:00           431,525 Aug'23 (1).pdf\n",
      "26-10-2023  12:00           431,525 Aug'23.pdf\n",
      "19-04-2023  09:58    <DIR>          AWS\n",
      "21-12-2023  15:02               404 back.py\n",
      "08-02-2024  18:41            67,646 bag_shopping_client_help_business_support_customer_icon_261688.ico\n",
      "07-06-2023  11:22           579,043 bank.zip\n",
      "07-06-2023  11:22           444,572 bank-additional.zip\n",
      "23-01-2023  22:29           391,059 bas_resume23.pdf\n",
      "08-01-2023  13:06            15,587 Basics.docx\n",
      "01-12-2022  16:05    <DIR>          Big_Data_Analytics_UZH-master\n",
      "01-12-2022  16:04           744,774 Big_Data_Analytics_UZH-master.zip\n",
      "17-12-2022  13:54    <DIR>          book_rating_prediction\n",
      "17-12-2022  14:45       101,781,720 book_rating_prediction17.zip\n",
      "27-01-2023  11:24            17,462 Book1.xlsx\n",
      "17-12-2022  13:44    <DIR>          bookprediction\n",
      "16-12-2022  13:22         1,032,922 books_model.pkl\n",
      "16-12-2022  14:01         1,346,128 bostonhousepricing-main.zip\n",
      "01-12-2023  13:04    <DIR>          Breast-Cancer-Prediction-main\n",
      "01-12-2023  13:03         1,531,872 Breast-Cancer-Prediction-main.zip\n",
      "27-06-2023  20:36    <DIR>          BUSINESS\n",
      "27-06-2023  21:32        97,291,742 BUSINESS (2).zip\n",
      "25-06-2023  14:14        97,109,862 BUSINESS.zip\n",
      "23-03-2023  19:56           555,360 c76bb6b8-8d0d-42ca-8438-976e438247bf.pdf\n",
      "20-12-2023  16:01            53,593 car_evaluation (1).csv\n",
      "20-12-2023  16:01            53,593 car_evaluation (2).csv\n",
      "04-07-2023  12:14            53,593 car_evaluation.csv\n",
      "01-12-2023  13:29    <DIR>          Cardio-Monitor-main\n",
      "01-12-2023  13:29         8,363,144 Cardio-Monitor-main.zip\n",
      "01-12-2023  13:48         8,400,720 Cardio-Monitor-main_lakshay.zip\n",
      "01-12-2023  14:19    <DIR>          Cardio-Monitor-main_lakshay12\n",
      "01-12-2023  13:49         8,400,720 Cardio-Monitor-main_lakshay12.zip\n",
      "07-10-2022  17:33            26,717 CarPrice_Assignment.csv\n",
      "03-12-2023  17:05             8,616 carreer.jpeg\n",
      "07-01-2023  13:24    <DIR>          case notes\n",
      "20-10-2023  19:59            85,789 Casual_Pic.jpg\n",
      "13-11-2023  19:35            64,758 CCE_papeer.docx\n",
      "16-10-2022  12:44           808,213 CCI02252019_0005.jpg\n",
      "16-10-2022  12:46           706,992 CCI02252019_0005-min.jpg\n",
      "16-10-2022  12:48           655,726 CCI02252019_0005-minedi.jpg\n",
      "27-04-2023  11:19             5,132 chatgpt.jpeg\n",
      "01-11-2023  11:01           433,931 ChatGPT_chat.zip\n",
      "29-12-2023  19:24            67,646 christmas_three_icon_260195.ico\n",
      "03-04-2023  15:51    <DIR>          chromedriver_win32\n",
      "09-06-2023  21:49    <DIR>          chromedriver_win32 (1)\n",
      "09-06-2023  21:47         6,603,303 chromedriver_win32 (1).zip\n",
      "03-04-2023  15:51         7,117,143 chromedriver_win32.zip\n",
      "14-04-2023  15:23                57 Class schedule.csv\n",
      "14-04-2023  15:14            25,600 Class schedule.xls\n",
      "27-09-2022  15:06    <DIR>          Class_notebooks-20220927T091839Z-001\n",
      "27-09-2022  14:49         3,661,484 Class_notebooks-20220927T091839Z-001.zip\n",
      "22-04-2023  16:39             3,516 cleaneddata (1).csv\n",
      "22-04-2023  16:38             4,007 cleaneddata.csv\n",
      "29-05-2023  14:39    <DIR>          code\n",
      "29-05-2023  12:43        42,822,011 code.zip\n",
      "08-06-2023  09:42         1,282,675 combinepdf.pdf\n",
      "12-03-2023  14:34    <DIR>          computer vision\n",
      "10-09-2023  22:53                 0 computer.txt\n",
      "03-09-2022  17:55           299,120 conda-cheatsheet (1).pdf\n",
      "05-06-2023  12:14           299,120 conda-cheatsheet (2).pdf\n",
      "03-09-2022  17:55           787,695 conda-cheatsheet.pdf\n",
      "29-01-2023  13:56             1,083 Configuration.xml\n",
      "19-09-2023  23:07    <DIR>          Course\n",
      "01-08-2022  14:05         2,434,564 Crop Recommendation System Project.pdf\n",
      "20-04-2023  20:42         3,014,476 Customer Profitability Sample PBIX.pbix\n",
      "20-04-2023  20:43         2,906,427 Customer Profitability Sample-no-PV.xlsx\n",
      "25-05-2023  14:03    <DIR>          cv2\n",
      "01-01-2024  17:38             9,234 da.jpeg\n",
      "24-09-2022  21:51    <DIR>          Data\n",
      "03-12-2023  15:48             7,160 data cleaning.jpeg\n",
      "07-10-2022  17:17            14,884 Data Dictionary - carprices.xlsx\n",
      "24-09-2022  21:50           709,466 Data.zip\n",
      "22-09-2023  14:17           636,609 Data_Science_certificate.png\n",
      "10-09-2023  22:50                 0 data10.txt\n",
      "07-12-2023  16:40                15 data2023.csv\n",
      "13-12-2023  16:21               328 data2024.csv\n",
      "13-03-2023  11:52           379,397 data-analytics iamge.html\n",
      "12-10-2022  17:54    <DIR>          database.sqlite\n",
      "18-03-2023  11:34       133,811,040 database.sqlite.zip\n",
      "31-07-2022  18:17       372,798,464 database1.sqlite\n",
      "12-10-2022  17:46                 0 database5.sqlite\n",
      "22-04-2023  16:43             8,347 dataexcel (1).xlsx\n",
      "22-04-2023  16:42             9,286 dataexcel.xlsx\n",
      "01-01-2024  17:42             8,039 datagovern.png\n",
      "03-12-2023  15:04             6,791 datascieneceworkflow.png\n",
      "13-09-2022  21:40        24,741,696 dataset (1).rar\n",
      "02-01-2023  15:48            28,209 dataset issue.png\n",
      "13-09-2022  21:39        24,741,696 dataset.rar\n",
      "27-04-2023  16:32    <DIR>          data-society-global-terrorism-data\n",
      "31-03-2023  20:14           118,690 Dax 2.pbix\n",
      "31-03-2023  18:08           430,086 DAX.pbix\n",
      "11-10-2022  13:38         2,493,152 Day04-Docker-20221011T080805Z-001.zip\n",
      "07-01-2023  13:33            31,303 ddddddWRrrrrrrr.png\n",
      "05-08-2022  11:46         1,569,899 Deep learning (2).pdf\n",
      "01-08-2022  14:05           378,488 Deep Learning.pdf\n",
      "26-12-2023  10:45            17,623 demo.ipynb\n",
      "15-09-2023  23:28                 0 demo1.py\n",
      "06-12-2022  14:50    <DIR>          Deployement\n",
      "27-09-2022  18:35    <DIR>          Diabetes-prediction-project-main\n",
      "27-09-2022  18:35         1,576,224 Diabetes-prediction-project-main.zip\n",
      "27-09-2022  18:34           510,271 diabetes-prediction-rfc-model.pkl\n",
      "16-07-2023  14:46           970,487 diamond price.pdf\n",
      "08-01-2023  13:06           546,634 Dissertation.pptx\n",
      "03-12-2023  14:54    <DIR>          Django_notes\n",
      "09-09-2022  21:49    <DIR>          Django-Socialauth-master\n",
      "09-09-2022  21:49           146,954 Django-Socialauth-master.zip\n",
      "11-10-2022  12:49    <DIR>          DL_Tensor_Flow.7z (Unzipped Files)-20221011T071416Z-001\n",
      "11-10-2022  12:44            15,979 DL_Tensor_Flow.7z (Unzipped Files)-20221011T071416Z-001.zip\n",
      "27-09-2022  15:06    <DIR>          DL1-20220927T091704Z-001\n",
      "27-09-2022  14:47           134,638 DL1-20220927T091704Z-001.zip\n",
      "23-09-2022  12:45       548,820,824 Docker Desktop Installer.exe\n",
      "01-01-2024  17:54           558,081 docker_cheatsheet.pdf\n",
      "03-09-2022  19:23           143,755 docker-cheat-sheet.pdf\n",
      "21-04-2023  21:32    <DIR>          Docker-For-Data-Science-main\n",
      "21-04-2023  21:32         1,987,474 Docker-For-Data-Science-main.zip\n",
      "08-01-2023  13:06           973,700 document.pdf\n",
      "04-11-2022  15:52         4,447,549 DOCUMENTS FOR GLOBAL LOGIC.pdf\n",
      "04-11-2022  15:53         4,446,281 DOCUMENTS FOR GLOBAL LOGIC-1-11.pdf\n",
      "04-11-2022  15:26         4,970,179 Documents_samatrix.zip\n",
      "09-02-2024  10:19             3,903 dog.jpeg\n",
      "11-06-2023  15:05             7,255 dog_image_11.jpeg\n",
      "29-12-2023  23:17            67,646 dog_pet_animal_japanese_shiba_inu_japan_icon_127300.ico\n",
      "09-02-2024  10:19             5,160 dog2.jpeg\n",
      "09-02-2024  10:19             4,958 dog3.jpeg\n",
      "08-05-2023  16:46             5,712 dogimage.jpeg\n",
      "01-01-2024  15:03            12,212 ds.jpeg\n",
      "30-11-2023  10:18        17,026,566 ds.pdf\n",
      "03-01-2023  16:24            33,894 DWRRRRRRR03012023.png\n",
      "29-12-2022  18:29            28,405 dwrrrrrrrrrrrr29122022.png\n",
      "01-04-2023  10:01    <DIR>          EDA\n",
      "16-10-2022  19:11             4,363 Email_OTP_RU380328.pdf\n",
      "29-09-2022  06:11            20,859 employee_ctc_pdf_load_solved.xlsx\n",
      "29-09-2022  06:12           203,553 Employee+data.pdf\n",
      "14-07-2023  20:37            59,175 employees.csv\n",
      "31-08-2022  20:11    <DIR>          End-to-End-Diabetes-Prediction-Application-Using-Machine-Learning-master\n",
      "08-01-2023  13:06            18,508 Essay template.docx\n",
      "03-11-2022  13:04                63 Example.txt\n",
      "03-06-2023  13:10                 0 example03.txt\n",
      "10-09-2023  23:26               245 example10.txt\n",
      "22-05-2023  17:04    <DIR>          Excel\n",
      "19-08-2022  14:20         1,513,112 Excel Analyticxs.pdf\n",
      "31-05-2023  11:23    <DIR>          Excel_Notes\n",
      "22-05-2023  17:04        52,764,710 Excel_Notes.zip\n",
      "24-09-2022  22:50    <DIR>          Exercise\n",
      "24-09-2022  21:52        24,431,113 Exercise.zip\n",
      "03-12-2023  16:49            11,306 exit_poll.jpeg\n",
      "22-03-2023  13:29    <DIR>          export_data\n",
      "22-03-2023  13:30           166,341 export_data (1)\n",
      "05-06-2023  10:32        13,091,720 F&B Sales -20230605T050228Z-001.zip\n",
      "19-08-2022  13:38               230 Fabionacci.py\n",
      "27-04-2023  11:18             3,717 Facebook.jpeg\n",
      "09-12-2023  01:02    <DIR>          Fav Icon\n",
      "10-06-2023  13:53           428,601 Feb'23 (1).pdf\n",
      "08-06-2023  09:39           428,601 Feb'23.pdf\n",
      "16-09-2022  19:48        14,064,278 FifteenThousandUsefulPhrases_10777354.pdf\n",
      "14-10-2022  14:06    <DIR>          fig_code\n",
      "21-02-2023  13:56            22,016 file_example_XLS_10.xls\n",
      "20-11-2022  08:12           189,963 Final Solution.xlsx\n",
      "19-03-2023  13:15             1,709 final_data.csv\n",
      "27-02-2023  13:56             8,949 final_file.xlsx\n",
      "19-04-2023  13:26           414,671 Final_updated_resume19.pdf\n",
      "14-10-2022  10:50             1,417 finalised_kmeans_model.sav\n",
      "13-01-2023  22:01             1,613 finalized_model.pickle\n",
      "14-10-2022  23:45             3,856 finalized_model1456.pickle\n",
      "23-01-2023  15:22           401,602 finalresume2301.pdf\n",
      "27-01-2023  11:45           394,597 finalteleresume.pdf\n",
      "07-06-2023  11:19           392,434 Financial Analytics.pdf\n",
      "09-10-2022  22:15         3,663,063 firstfigure.html\n",
      "06-05-2023  17:13    <DIR>          Flask\n",
      "05-06-2023  11:28    <DIR>          Flask (1)\n",
      "05-06-2023  11:24           716,535 Flask (1).zip\n",
      "06-05-2023  17:10           716,535 Flask.zip\n",
      "06-09-2022  06:08    <DIR>          flask_demo-20220905T235450Z-001\n",
      "06-09-2022  05:25             7,623 flask_demo-20220905T235450Z-001.zip\n",
      "06-09-2022  15:06    <DIR>          Flaskpractice\n",
      "31-12-2022  20:31       101,827,904 flickr_logos_27_dataset.tar.gz\n",
      "05-09-2022  15:06    <DIR>          Flight-Price-Prediction-master\n",
      "12-12-2022  14:10       200,911,530 flights.zip\n",
      "01-12-2023  13:55    <DIR>          Flipkart-Review-Scraper-Project-main\n",
      "01-12-2023  13:55             8,999 Flipkart-Review-Scraper-Project-main.zip\n",
      "27-02-2023  13:59            25,478 forestfires.csv\n",
      "26-01-2023  17:24            16,947 Formatting+data+and+tables.xlsx\n",
      "21-12-2023  11:49               166 front.py\n",
      "27-12-2023  15:40    <DIR>          full_stack_28\n",
      "27-12-2023  16:59             1,622 full_stack_28.zip\n",
      "29-09-2023  12:22    <DIR>          Gate2024\n",
      "29-12-2022  17:53           173,585 General instructions (1).pptx\n",
      "08-01-2023  13:06           173,585 General instructions (2).pptx\n",
      "02-12-2022  17:43           173,585 General instructions.pptx\n",
      "25-03-2023  22:12         2,574,273 get-pip.py\n",
      "30-07-2022  22:24        49,381,480 Git-2.37.1-64-bit (1).exe\n",
      "30-07-2022  13:08        49,381,480 Git-2.37.1-64-bit.exe\n",
      "01-10-2022  10:14        49,375,864 Git-2.37.3-64-bit.exe\n",
      "08-12-2023  22:50        60,868,040 Git-2.43.0-64-bit.exe\n",
      "30-07-2022  22:26           100,194 git-cheat-sheet-education.pdf\n",
      "12-09-2022  19:34                29 gog.py\n",
      "27-04-2023  11:18             3,326 Google.png\n",
      "23-11-2022  13:42        14,599,992 GrammarlyInstaller.c000000702OBVqdpuIdS.exe\n",
      "17-06-2023  14:45           489,998 group_photo.jpg\n",
      "19-08-2022  13:40                41 hello.py\n",
      "21-04-2023  23:42    <DIR>          Hello_my_world\n",
      "14-09-2022  13:24                32 helloworld.py\n",
      "01-09-2023  22:02            67,646 home_icon-icons.com_73532.ico\n",
      "13-06-2023  09:27    <DIR>          HR-Dashboard-MySQL-PowerBI-main\n",
      "12-06-2023  12:08         1,462,559 HR-Dashboard-MySQL-PowerBI-main.zip\n",
      "19-05-2023  17:14            17,981 i5.jpg\n",
      "11-10-2022  22:35           720,864 ib sig 2021.jpg\n",
      "08-06-2023  12:00           308,099 ilovepdf_merged.pdf\n",
      "05-01-2024  21:10            71,164 imb.pdf\n",
      "26-11-2023  17:56             9,128 img.jpeg\n",
      "17-06-2023  16:03            54,610 img1.jpg\n",
      "03-12-2023  15:01             5,367 img12.png\n",
      "30-11-2023  10:26            10,480 img123.jpeg\n",
      "17-06-2023  16:03            52,849 img2.jpg\n",
      "17-06-2023  16:03            48,395 img3.jpg\n",
      "17-06-2023  16:03            41,330 img4.jpg\n",
      "17-06-2023  16:04            96,862 img5.jpeg.jpg\n",
      "01-01-2024  17:46             9,574 imgaiml.jpeg\n",
      "13-12-2022  12:01               105 Index\n",
      "26-01-2023  22:50            22,730 Indirect+Function.xlsx\n",
      "05-06-2023  10:46    <DIR>          iNeuron_FSDA-main-20230605T051534Z-001\n",
      "05-06-2023  10:46        12,630,373 iNeuron_FSDA-main-20230605T051534Z-001.zip\n",
      "12-06-2023  10:05    <DIR>          iNeuron_FSDA-main-20230612T042137Z-001\n",
      "12-06-2023  10:04        12,630,373 iNeuron_FSDA-main-20230612T042137Z-001.zip\n",
      "10-03-2023  20:15    <DIR>          iNeuron-Full-Stack-Data-Science-Assignments-main\n",
      "10-03-2023  20:12       144,869,666 iNeuron-Full-Stack-Data-Science-Assignments-main.zip\n",
      "19-08-2022  17:17                29 infile.py\n",
      "09-02-2024  10:22            18,213 instagram_6422200.png\n",
      "18-08-2022  22:59            73,216 inter.jfif\n",
      "10-08-2022  20:13           277,130 Internship Certificate internship certi.pdf\n",
      "13-09-2022  21:58         1,160,337 introduction.pptx\n",
      "10-02-2024  00:50            32,028 introduction+to+django+rest+framework.pdf\n",
      "15-09-2023  17:15           337,619 Introduction+To+Python+Programming+Langguage.pdf\n",
      "28-10-2022  12:49             4,633 invite.ics\n",
      "23-06-2023  20:39             3,858 iris.csv\n",
      "25-02-2023  13:12             2,998 iris.names\n",
      "12-02-2024  23:36             3,858 iris12.csv\n",
      "20-12-2023  15:50             3,858 IRIS20.csv\n",
      "30-07-2023  11:16             3,858 iris30.csv\n",
      "26-11-2023  18:49             8,420 it.jpeg\n",
      "20-12-2023  16:17    <DIR>          itvedant20\n",
      "27-10-2022  13:15            13,275 JD AI ENGINEER.docx\n",
      "05-09-2022  17:49           644,465 JD Python Developer Speech  - Ozonetel - Sudhamay Maity.pdf\n",
      "15-04-2023  12:11               947 JioMeet Invite.ics\n",
      "16-09-2022  19:47           447,946 Job-Interviews-In-English_Series-One-Pack.pdf\n",
      "07-01-2024  23:46             7,676 jobs.png\n",
      "01-01-2024  15:05           154,963 joins.pdf\n",
      "21-12-2023  14:10               194 jupyter.txt\n",
      "16-09-2022  19:44           582,510 KEY_PHRASES_FOR_INTERVIEWS.pdf\n",
      "20-09-2022  19:22         6,631,527 KMS_Pico_Full_Setup.zip\n",
      "03-12-2022  14:38         1,480,659 konect-handbook (1).pdf\n",
      "03-12-2022  14:05         1,480,659 konect-handbook.pdf\n",
      "08-10-2022  14:55    <DIR>          latestversion\n",
      "26-01-2023  22:51            11,907 Lecture_Maps_Unsolved.xlsx\n",
      "06-11-2022  21:22         2,014,901 Linear Regression on Algerian Forest Fire Dataset.pdf\n",
      "25-10-2022  21:51         1,574,096 Linear_Regression_Task.pdf\n",
      "16-07-2023  15:28    <DIR>          Linear-Regression-Prediction-Project-Part-1-master\n",
      "16-07-2023  14:58            46,173 Linear-Regression-Prediction-Project-Part-1-master.zip\n",
      "23-09-2022  14:12           412,306 Linkresume.pdf\n",
      "07-10-2022  12:34           469,423 Linuc commands.pdf\n",
      "25-08-2022  11:13           469,423 Linux commands.pdf\n",
      "30-07-2023  16:11    <DIR>          Logistic-Regression-master\n",
      "30-07-2023  16:10             4,872 Logistic-Regression-master.zip\n",
      "20-04-2023  16:24               440 loss.txt\n",
      "16-04-2023  10:29        21,573,975 Machine Learning Module 1-20230416T045929Z-001.zip\n",
      "19-06-2023  15:27        21,573,975 Machine Learning Module 1-20230619T095712Z-001.zip\n",
      "06-05-2023  10:00        58,202,095 Machine Learning Module 2-20230506T042824Z-001.zip\n",
      "06-05-2023  10:01         6,134,873 Machine Learning Module 3-20230506T043140Z-001.zip\n",
      "06-05-2023  10:00         6,815,512 Machine Learning Module 4-20230506T042949Z-001.zip\n",
      "06-05-2023  10:01        72,129,159 Machine Learning Module 5-20230506T043049Z-001.zip\n",
      "12-03-2023  14:35                 0 machine learning.txt\n",
      "31-08-2022  19:46    <DIR>          Machine-Learning-Projects-master\n",
      "31-08-2022  19:41       122,583,229 Machine-Learning-Projects-master.zip\n",
      "30-07-2023  16:08        59,444,333 Machine-Learning-with-Python-master.zip\n",
      "12-10-2022  21:14            28,246 Macros.xlsm\n",
      "19-12-2023  13:36                82 main_project19.py\n",
      "09-02-2023  19:42           402,072 Main_resume.pdf\n",
      "29-11-2023  11:06    <DIR>          Major projects python Scraper\n",
      "10-06-2023  13:53           427,926 Mar'23 (1).pdf\n",
      "08-06-2023  09:39           427,926 Mar'23.pdf\n",
      "25-03-2023  18:13           465,112 Markov_Chain_project.ipynb\n",
      "30-10-2023  16:32         3,245,081 Master SQL from Basic to Expert.pdf\n",
      "26-06-2023  00:41           893,466 matplotlib_revision (1).ipynb\n",
      "26-06-2023  00:24           797,968 matplotlib_revision.ipynb\n",
      "02-07-2023  11:51            57,345 may_salary_bank_statment_unlocked.pdf\n",
      "03-12-2023  14:49             3,974 mental.jpeg\n",
      "03-12-2023  14:50            11,977 mental_health.jpeg\n",
      "04-01-2023  16:52            85,263 message section is not availble.png\n",
      "03-12-2022  13:56         1,706,855 metro-trips-2022-q3 (1).zip\n",
      "02-12-2022  17:31         1,706,855 metro-trips-2022-q3.zip\n",
      "30-11-2023  10:31             5,265 mgdb.png\n",
      "09-02-2024  10:25            67,646 microsoft_teams_icon_261512.ico\n",
      "06-05-2023  09:10    <DIR>          ML\n",
      "06-08-2023  15:00    <DIR>          ML Notes\n",
      "03-09-2022  14:26         4,115,949 ML NOtes.pdf\n",
      "06-05-2023  09:10        52,847,990 ML Notes.zip\n",
      "23-09-2022  14:34    <DIR>          ML11 4-20220923T083136Z-001\n",
      "26-11-2023  18:05             9,036 ml12.jpeg\n",
      "08-01-2023  13:05           245,359 mla-referencing-guide.pdf\n",
      "12-02-2023  11:29                 0 mlfile.txt\n",
      "27-04-2023  11:19             6,911 MLimage.jpeg\n",
      "12-09-2022  19:35    <DIR>          mod1\n",
      "14-10-2022  23:09               815 modelForPrediction145.sav\n",
      "23-06-2023  21:37             4,009 modified2306.csv\n",
      "01-05-2023  15:13            10,156 Module 4 - Outline.docx\n",
      "13-03-2023  14:44    <DIR>          Moduls_13\n",
      "28-10-2023  14:26           202,955 MOTIVATIOPNAL_IMAGE.htm\n",
      "19-12-2023  12:52    <DIR>          Movie_Recommendation_System-main\n",
      "10-02-2024  00:52        15,677,542 movieapp.zip\n",
      "02-11-2022  17:33           150,206 Mr. Sanjay Kumar- Employment Offer.pdf\n",
      "01-12-2022  11:24    <DIR>          MushroomDataset\n",
      "01-12-2022  11:20           473,175 MushroomDataset.zip\n",
      "12-06-2023  11:56           173,473 Music_Store_database (1).sql\n",
      "12-06-2023  11:45           173,473 Music_Store_database.sql\n",
      "15-09-2023  00:38             4,042 my_15_data.csv\n",
      "15-09-2023  00:41             8,257 my_15_excel.xlsx\n",
      "19-03-2023  13:39    <DIR>          my_cleaned_data\n",
      "20-03-2023  10:36    <DIR>          my_expoted_file\n",
      "25-09-2023  00:30            51,354 my_filtered_data.csv\n",
      "26-06-2023  00:07            42,775 my_modified_img.jpg\n",
      "03-11-2022  11:31                96 My_newcustom0311.py\n",
      "25-06-2023  23:48             7,944 my_pic_face.jpg\n",
      "30-04-2023  14:54             8,100 my_pikachu_image.jpg\n",
      "04-06-2023  17:19    <DIR>          my_project\n",
      "16-12-2022  14:02    <DIR>          mybostonhousepricing-main\n",
      "07-10-2022  17:41            27,405 mycsv.csv\n",
      "15-10-2022  19:15    <DIR>          Myenvirement\n",
      "22-03-2023  13:28           147,525 myexported_data.csv\n",
      "08-05-2023  07:20               145 myfile.py\n",
      "03-06-2023  13:13                 0 myfile0306.txt\n",
      "05-06-2023  11:47    <DIR>          myflask_practice\n",
      "23-06-2023  21:39             8,666 myirisexcel.xlsx\n",
      "21-12-2023  11:55               156 mymainproject.py\n",
      "12-02-2023  12:55               236 mymlfile2023.txt\n",
      "17-09-2022  13:06               219 mymodule.py\n",
      "12-10-2022  13:40    <DIR>          mynlp\n",
      "02-04-2023  14:57             7,923 mypicachuface.jpg\n",
      "24-03-2023  13:46        16,117,760 mysql-connector-net-8.0.32.msi\n",
      "02-03-2023  14:03         2,506,752 mysql-installer-web-community-8.0.32.0 (1).msi\n",
      "04-03-2023  13:27         2,506,752 mysql-installer-web-community-8.0.32.0 (2).msi\n",
      "23-03-2023  16:29         2,506,752 mysql-installer-web-community-8.0.32.0 (3).msi\n",
      "02-03-2023  14:02         2,506,752 mysql-installer-web-community-8.0.32.0.msi\n",
      "05-12-2023  15:05         2,240,512 mysql-installer-web-community-8.0.35.0.msi\n",
      "01-01-2024  15:15            14,021 mysqljoins.jpeg\n",
      "16-03-2023  21:31    <DIR>          mysqlsampledatabase\n",
      "22-04-2023  16:59    <DIR>          mysqlsampledatabase (1)\n",
      "22-04-2023  16:58            54,335 mysqlsampledatabase (1).zip\n",
      "27-09-2023  23:30    <DIR>          mysqlsampledatabase (2)\n",
      "27-09-2023  23:30            54,335 mysqlsampledatabase (2).zip\n",
      "16-03-2023  21:31            54,335 mysqlsampledatabase.zip\n",
      "27-02-2023  13:55             4,309 myupdatedfile123.csv\n",
      "20-12-2023  13:03                 0 mywork.txt\n",
      "30-11-2022  11:49    <DIR>          myZip_s2131748\n",
      "02-01-2023  15:27         2,569,544 myZip_s2145892.zip\n",
      "03-01-2023  12:29    <DIR>          myZip_s2146433\n",
      "03-01-2023  12:28       151,723,886 myZip_s2146433.zip\n",
      "05-01-2023  16:38    <DIR>          myZip_s2147122\n",
      "05-01-2023  16:37           304,892 myZip_s2147122.zip\n",
      "27-01-2023  11:24            17,734 Named+Ranges.xlsx\n",
      "14-11-2022  07:32    <DIR>          NerdyTurtlez\n",
      "21-12-2023  13:41                 0 New Text Document (2).txt\n",
      "14-03-2023  09:42                 0 New Text Document.txt\n",
      "04-11-2022  10:42           411,545 new_link resume (1).pdf\n",
      "15-09-2022  21:22           411,545 new_link resume.pdf\n",
      "24-09-2022  18:39           774,608 new_link resume_page-0001.jpg\n",
      "18-06-2023  14:52            40,904 new_my_image.jpg\n",
      "11-09-2022  11:16    <DIR>          newdjango\n",
      "03-11-2022  14:42                79 newfile.txt\n",
      "12-02-2023  11:24                 0 newfile12022023.txt\n",
      "23-07-2022  12:59               133 newonefile.txt\n",
      "09-06-2023  19:37               256 newtestfile03.txt\n",
      "19-04-2023  14:43           420,626 NewUpdated_resume19.pdf\n",
      "02-01-2023  16:25            22,464 newyearDWR2023.png\n",
      "24-11-2023  12:00           103,227 Nidhi Arora KPI.xlsx\n",
      "25-11-2023  18:02             1,879 nidhi_mam_A.txt\n",
      "25-11-2023  18:02             1,956 nidhi_mam_c.txt\n",
      "30-05-2023  15:13    <DIR>          NLP Projectsss\n",
      "30-05-2023  15:06    18,966,330,907 NLP Projectsss.zip\n",
      "16-04-2023  17:06    <DIR>          NLP-20230416T101243Z-001\n",
      "16-04-2023  15:44       534,675,109 NLP-20230416T101243Z-001.zip\n",
      "07-01-2023  13:33    <DIR>          nnerdytutlez\n",
      "16-10-2022  19:11            61,554 noname\n",
      "16-10-2022  19:11            23,770 noname (1)\n",
      "08-12-2023  23:44         4,796,432 npp.8.5.8.Installer.x64.exe\n",
      "20-09-2022  18:33           170,384 nresume.pdf\n",
      "03-12-2023  16:44             8,520 null.png\n",
      "30-07-2022  11:40           280,866 NUMPY Cheatsheet.pdf\n",
      "29-01-2023  13:59         3,664,056 officedeploymenttool_15928-20216 (1).exe\n",
      "29-01-2023  13:48         3,664,056 officedeploymenttool_15928-20216.exe\n",
      "05-06-2023  10:59         3,674,056 officedeploymenttool_16327-20214.exe\n",
      "02-09-2023  22:52             5,330 One_liners.ipynb\n",
      "29-11-2023  17:23    <DIR>          Online-Quiz\n",
      "29-11-2023  17:23         1,055,438 Online-Quiz.zip\n",
      "08-05-2023  11:44       464,763,552 On-premises data gateway (personal mode).exe\n",
      "20-09-2023  22:39            83,422 OOPS_and_file_handling_Practice.ipynb\n",
      "20-05-2023  12:57         1,399,205 Open_cv_07_05_2023 (1).ipynb\n",
      "20-05-2023  10:57         1,388,571 Open_cv_07_05_2023.ipynb\n",
      "27-07-2022  19:31        10,269,576 opencv_haarcascade_frontalface_default.xml at master ú opencv_opencv.html\n",
      "27-07-2022  19:31    <DIR>          opencv_haarcascade_frontalface_default.xml at master ú opencv_opencv_files\n",
      "25-11-2023  14:02           715,134 orcal_sql.pdf\n",
      "07-01-2023  16:10    <DIR>          Orde_rId_2145311_7\n",
      "29-11-2022  16:30         2,531,769 Order_Id_2129919.html\n",
      "14-08-2023  14:05         1,863,231 Order_Id_2129919.ipynb\n",
      "01-12-2022  12:47         2,311,913 Order_Id_2129919_a.pdf\n",
      "29-11-2022  16:30         2,262,677 Order_Id_2129919_final_pdf.pdf\n",
      "05-01-2023  16:02    <DIR>          Order_Id_2145622\n",
      "02-01-2023  16:37         1,372,132 Order_Id_2145721_3100_02012022.html\n",
      "04-01-2023  17:19    <DIR>          Order_Id_2145892_5540\n",
      "03-01-2023  13:21    <DIR>          Order_Id_2145949_1200_maths\n",
      "02-12-2022  18:18           562,344 order_no_2132070.zip\n",
      "19-08-2022  17:21                51 outfile.py\n",
      "24-09-2022  10:20    <DIR>          p1\n",
      "30-10-2023  17:17             6,071 p1ower.jpeg\n",
      "03-09-2022  19:21           118,785 p2.jpeg\n",
      "25-10-2022  21:51           611,052 Pandas Cheat Sheet.pdf\n",
      "06-11-2022  21:37         6,345,977 Pandas Dataframe Complete Cheatsheet.pdf\n",
      "04-07-2023  13:18           296,843 Pandas_12PM_04_07.ipynb\n",
      "01-12-2022  11:51        25,219,072 pandoc-2.19.2-windows-x86_64.msi\n",
      "10-03-2023  16:35       482,003,928 PBIDesktopSetup_x64.exe\n",
      "26-11-2023  18:01             7,429 pd.png\n",
      "29-09-2022  06:11            17,654 PDF_import_solved.xlsx\n",
      "30-11-2023  10:30             7,429 pdy.png\n",
      "16-12-2022  13:41            17,291 penalty grid (1).docx\n",
      "12-12-2022  12:47            17,291 penalty grid.docx\n",
      "15-01-2023  16:06    <DIR>          Phishing-Website-Detection-by-Machine-Learning-Techniques-master\n",
      "15-01-2023  15:59         2,843,304 Phishing-Website-Detection-by-Machine-Learning-Techniques-master.zip\n",
      "18-12-2022  11:25    <DIR>          phising\n",
      "26-04-2023  11:16            63,214 photo-1611003228941-98852ba62227.jpeg\n",
      "16-10-2022  12:06            46,240 pic1.jpg\n",
      "19-09-2022  18:42         1,180,881 Pima_diabetes_Tree.png\n",
      "26-01-2023  22:51           117,644 Pivot+Tables.xlsx\n",
      "19-05-2023  20:59         3,376,352 Plotly and Cufflinks Crash Course.ipynb.zip\n",
      "05-10-2023  13:07    <DIR>          Power Bi\n",
      "23-03-2023  14:51    <DIR>          Power BI Assignment\n",
      "18-05-2023  10:14    <DIR>          Power BI DAX-20230508T020104Z-001\n",
      "08-05-2023  07:31        15,004,554 Power BI DAX-20230508T020104Z-001.zip\n",
      "14-03-2023  09:12    <DIR>          Power BI Material-20230314T034136Z-001\n",
      "14-03-2023  09:12        90,687,244 Power BI Material-20230314T034136Z-001.zip\n",
      "18-09-2023  13:18        26,335,737 Power Bi.zip\n",
      "05-06-2023  11:16            20,082 Power_BI_Project.zip\n",
      "17-09-2022  10:41    <DIR>          PowerBi Project-20220917T050125Z-001\n",
      "05-06-2023  10:20    <DIR>          PowerBi Project-20230605T044903Z-001\n",
      "05-06-2023  10:19           216,335 PowerBi Project-20230605T044903Z-001.zip\n",
      "20-04-2023  20:54    <DIR>          Power-BI-raw-data-master\n",
      "20-04-2023  20:54         9,833,575 Power-BI-raw-data-master.zip\n",
      "11-10-2023  22:46         1,825,007 pp1.jpg\n",
      "11-10-2023  22:47         1,768,706 pp2.jpg\n",
      "11-10-2023  22:50         1,875,391 pp3.jpg\n",
      "11-10-2023  22:48         1,956,491 pp4.jpg\n",
      "11-10-2023  22:51         1,728,440 pp5.jpg\n",
      "11-10-2023  22:49         1,702,006 pp6.jpg\n",
      "11-10-2023  22:50         1,826,787 pp7.jpg\n",
      "13-01-2023  16:48    <DIR>          Practice\n",
      "24-09-2022  21:52    <DIR>          Presentations\n",
      "24-09-2022  21:52         1,317,567 Presentations.zip\n",
      "24-09-2022  16:20    <DIR>          Product-20211124T053757Z-001\n",
      "24-09-2022  16:19        19,548,195 Product-20211124T053757Z-001.zip\n",
      "16-10-2023  15:36           687,023 Production Dashboard Oct'2023.xlsx\n",
      "20-04-2023  11:10                 0 profit.txt\n",
      "29-07-2022  20:09         2,161,950 project discussion.pdf\n",
      "05-09-2022  15:16    <DIR>          Projects\n",
      "17-09-2023  01:18            11,605 Projects_17_09.ipynb\n",
      "03-09-2022  12:31            17,861 Proposal 8 26.docx\n",
      "24-03-2023  15:03       423,849,032 pycharm-community-2022.3.3.exe\n",
      "29-09-2023  17:42           536,487 pyspark.pdf\n",
      "18-03-2023  15:17    <DIR>          Python Basic Assignment\n",
      "04-04-2023  16:01        24,381,614 Python Programming.zip\n",
      "27-04-2023  11:39             2,842 python.jpeg\n",
      "30-12-2023  00:01             3,939 python_30.jpeg\n",
      "04-12-2023  17:23    <DIR>          Python_notes\n",
      "29-11-2023  17:34    <DIR>          Python_projects\n",
      "29-11-2023  11:08        17,730,015 Python_projects lakshay.zip\n",
      "01-12-2023  11:34         1,538,956 python_question.pdf\n",
      "14-09-2023  23:33         5,980,326 python_revision.pdf\n",
      "03-09-2023  00:40        31,830,944 python-3.6.8-amd64 (1).exe\n",
      "14-08-2023  00:59        31,830,944 python-3.6.8-amd64.exe\n",
      "13-03-2023  10:01                85 pythoncustom.py\n",
      "25-02-2023  11:09    <DIR>          python-data-science-mastercourse-main\n",
      "24-03-2023  15:41    <DIR>          python-programming-master-course-main\n",
      "29-11-2023  11:00         4,667,221 python-programming-master-course-main.zip\n",
      "13-03-2023  10:01                57 pythonproject.py\n",
      "20-04-2023  21:09    <DIR>          Python-Tutorial-2022--main\n",
      "20-04-2023  21:08        26,839,563 Python-Tutorial-2022--main.zip\n",
      "11-10-2022  12:47            45,893 PyTorch 1.1.ipynb\n",
      "29-09-2023  00:46           140,806 Question_Practice_set_1.ipynb\n",
      "08-01-2023  13:05           109,841 reference-examples.pdf\n",
      "08-01-2023  13:05           225,724 reference-guide.pdf\n",
      "08-01-2023  13:06            16,422 Report and article.docx\n",
      "11-12-2022  20:51        17,759,562 Report_bike_sharing_data.docx\n",
      "08-01-2023  13:07           543,960 research proposal template.pdf\n",
      "08-01-2023  13:04            83,430 research report.docx\n",
      "08-01-2023  13:04            21,086 research report_management.docx\n",
      "02-06-2023  11:09           414,671 resume_nov_27.pdf\n",
      "16-12-2023  15:57             6,129 resume16.jpg\n",
      "01-09-2023  17:59           454,759 Resume29_08.pdf\n",
      "05-06-2023  12:57         1,774,288 review scrapper (1).ipynb\n",
      "24-03-2023  15:15         1,766,609 review scrapper.ipynb\n",
      "25-03-2023  15:46           126,011 salary negotiation.jpg\n",
      "22-03-2023  13:32    <DIR>          Sales_data\n",
      "20-04-2023  11:03                 0 salesfile.txt\n",
      "30-08-2022  21:07                56 samplejson.json\n",
      "09-11-2022  12:07           410,816 Sanjay Kumar (1).pdf\n",
      "04-11-2022  15:56           301,712 Sanjay Kumar.pdf\n",
      "28-10-2023  23:52           254,099 Sanjay_kumar_cv.pdf\n",
      "27-01-2023  11:45           394,597 Sanjay_Kumar_Machine_Learning_Engineer (1).pdf\n",
      "29-01-2023  20:16           401,917 Sanjay_Kumar_Machine_Learning_Engineer (2).pdf\n",
      "09-02-2023  19:41           402,072 Sanjay_Kumar_Machine_Learning_Engineer (3).pdf\n",
      "23-01-2023  22:28           391,059 Sanjay_Kumar_Machine_Learning_Engineer.pdf\n",
      "19-04-2023  16:19                 0 sanjay19file.txt\n",
      "14-10-2022  00:16               621 Scaler_model_for.sav\n",
      "08-12-2022  18:27         3,369,928 scientific poster template.pptx\n",
      "24-03-2023  15:13    <DIR>          Scraper-20230324T092720Z-001\n",
      "05-06-2023  11:23    <DIR>          Scraper-20230605T055135Z-001\n",
      "29-11-2023  11:06        17,052,049 Scraper-20230605T055135Z-001 (1).zip\n",
      "05-06-2023  11:21        17,052,049 Scraper-20230605T055135Z-001.zip\n",
      "14-03-2023  11:43            87,613 sdfghjkl.csv\n",
      "27-12-2023  15:09            16,384 sdms.db\n",
      "03-12-2022  14:04             9,300 seeds_dataset (1).txt\n",
      "03-12-2022  13:57             9,300 seeds_dataset.txt\n",
      "10-03-2023  16:06           453,367 Selecting+the+right+Visuals(1st Oct_FSDA).pdf\n",
      "29-12-2022  13:00            26,084 sentiment_Analysis_updated.docx\n",
      "21-10-2023  21:31           426,231 Sep'23 (1).pdf\n",
      "26-10-2023  12:00           429,655 Sep'23 (2).pdf\n",
      "21-10-2023  21:28           427,423 Sep'23.pdf\n",
      "26-01-2023  17:00            13,813 Session7_Exercise.xlsx\n",
      "26-09-2022  05:51            26,456 Session9_Exercise.xlsx\n",
      "26-09-2022  14:42            73,387 Session9_Solution.xlsx\n",
      "26-12-2023  16:49            67,646 shopping-cart-add-button_icon-icons.com_56132 (1).ico\n",
      "09-12-2023  01:00            67,646 shopping-cart-add-button_icon-icons.com_56132.ico\n",
      "27-01-2023  10:36            21,982 Shortcuts.xlsx\n",
      "11-10-2022  22:35            14,460 sign sanjay.jpg\n",
      "13-03-2023  11:53            16,281 site-stats-concept-illustration_114360-1434.avif\n",
      "16-07-2023  14:41           944,546 sklearn.pdf\n",
      "14-10-2022  14:05    <DIR>          sklearn_tutorial-master\n",
      "14-10-2022  14:05           164,891 sklearn_tutorial-master.zip\n",
      "29-11-2023  11:39             8,874 sno.jpeg\n",
      "12-12-2022  11:28            10,942 social.png\n",
      "23-12-2021  00:06         1,733,053 speech.txt\n",
      "17-09-2022  11:03    <DIR>          Spend-20211123T045440Z-001.zip (Unzipped Files)-20220917T052232Z-001\n",
      "18-04-2023  10:12         1,090,767 SQL - ppt.pdf\n",
      "28-06-2022  15:57         1,563,052 SQL EXCLUSIVE NOTES .pdf\n",
      "01-08-2022  14:05         1,000,464 SQL interview preparation sheet.pdf\n",
      "03-12-2023  15:09             3,473 sql joins.png\n",
      "13-08-2022  11:16         3,677,483 SQL.pdf\n",
      "09-12-2023  13:11         5,481,314 sql_09_12.pdf\n",
      "24-06-2023  00:42             9,717 sql_24_10_23.sql\n",
      "18-03-2023  15:38    <DIR>          SQL_ASSIGNMENT\n",
      "26-02-2023  13:57             3,823 SQL_Commands.sql\n",
      "24-06-2023  00:44             3,823 SQL_Commands_24_06.sql\n",
      "21-11-2023  13:58        10,446,546 Sql_docs (2).zip\n",
      "22-07-2023  10:45        10,379,713 Sql_docs.zip\n",
      "26-11-2023  16:58    <DIR>          Sql_docs1\n",
      "26-11-2023  16:59        10,502,046 Sql_docs1.zip\n",
      "06-10-2023  21:46           207,612 SQL_pytyhon_30.ipynb\n",
      "01-12-2023  21:43               655 sql_questions_notes.txt\n",
      "14-12-2023  10:53           114,848 sql_quiz.pptx\n",
      "16-12-2023  10:56           114,936 sql_quiz_14_12.pptx\n",
      "03-12-2023  15:11            10,376 sqlquries.jpeg\n",
      "11-10-2022  22:49    <DIR>          SSC2022\n",
      "14-10-2022  23:09               621 standardScalar145.sav\n",
      "11-04-2023  09:39    <DIR>          Statistics\n",
      "15-04-2023  13:21            37,839 Stats and probability.ipynb\n",
      "29-06-2022  17:01         5,760,923 stats1.pdf\n",
      "05-04-2023  12:40            22,654 Stats10_12.ipynb\n",
      "29-06-2022  17:02         5,964,062 stats2.pdf\n",
      "29-06-2022  17:02         6,829,549 stats5.pdf\n",
      "26-03-2023  16:26             2,936 Stored_procedure.sql\n",
      "24-06-2023  17:32    <DIR>          Study_matirial\n",
      "08-05-2023  16:59        10,931,184 Sublime Text Build 3211 x64 Setup.exe\n",
      "19-06-2023  12:35         1,345,429 Superstore_12.xlsx\n",
      "30-07-2022  13:19            71,399 SWTM-2088_Atlassian-Git-Cheatsheet.pdf\n",
      "07-11-2022  12:54           777,410 t spaCy, NER(Named Entity Recognition),.pdf\n",
      "01-01-2024  17:50             2,144 tab.png\n",
      "03-05-2023  11:38            66,887 table (1).pdf\n",
      "04-04-2023  15:09            66,887 table.pdf\n",
      "14-08-2022  18:48           479,882 Task Details.pdf\n",
      "30-04-2023  14:34    <DIR>          Task_submission_modified\n",
      "30-04-2023  14:33         3,325,384 Task_submission_modified.zip\n",
      "08-12-2023  21:01    <DIR>          Telegram Desktop\n",
      "27-01-2023  11:23           397,382 teleresume.pdf\n",
      "11-10-2022  12:47            56,889 Tensorflow_1.1.ipynb\n",
      "27-02-2023  11:47            34,313 Tensorflow_1.2.ipynb\n",
      "03-11-2022  13:04                83 test.txt\n",
      "26-08-2022  22:20                33 test.txt.txt\n",
      "30-09-2023  17:43           462,016 test_sanjay.ipynb\n",
      "17-04-2023  10:49            21,957 test_Y3wMUE5_7gLdaTN.csv\n",
      "03-11-2022  13:28                 0 Test0211.txt\n",
      "19-04-2023  16:35               164 test1904.txt\n",
      "16-02-2023  18:08    <DIR>          TGC\n",
      "14-03-2023  14:56               152 tgc.txt\n",
      "02-07-2023  11:31    <DIR>          TGC_docs_15\n",
      "02-07-2023  11:30         7,012,024 TGC_docs_15.zip\n",
      "16-10-2023  10:09    <DIR>          TGC_Machine_learning\n",
      "11-10-2023  22:55           929,840 TGC's offer_appointment letter.pdf\n",
      "23-09-2022  17:37    <DIR>          time series-20220923T120550Z-001\n",
      "23-09-2022  14:34    <DIR>          timeSeries-20220923T083150Z-001\n",
      "04-03-2023  12:27             9,729 tips.csv\n",
      "19-04-2023  16:10                 0 Todayfile.txt\n",
      "18-11-1996  21:06        47,040,016 train-images.idx3-ubyte\n",
      "18-12-2022  12:17           800,920 Training Dataset.arff\n",
      "30-09-2023  15:04    <DIR>          Tree_Based\n",
      "30-09-2023  14:58         4,421,098 Tree_Based.zip\n",
      "08-12-2023  20:59        42,681,512 tsetup-x64.4.12.2.exe\n",
      "01-10-2022  21:27        37,431,504 tsetup-x64.4.2.4.exe\n",
      "08-01-2023  13:06         1,426,315 UNDRIP analysis (1).pptx\n",
      "23-11-2022  16:08         1,426,315 UNDRIP analysis.pptx\n",
      "19-08-2022  13:36                 0 untitled\n",
      "26-03-2023  14:10    <DIR>          Untitled Folder\n",
      "19-09-2023  22:02               576 Untitled.ipynb\n",
      "22-08-2022  13:56                 0 untitled.txt\n",
      "28-09-2023  22:29               576 Untitled1.ipynb\n",
      "20-10-2023  12:49             4,111 Untitled2.ipynb\n",
      "07-12-2023  17:16             2,887 Untitled3.ipynb\n",
      "14-12-2023  17:07             9,156 Untitled4.ipynb\n",
      "10-06-2023  00:10           413,994 updated_resume_10_06_23.pdf\n",
      "10-06-2023  00:09           413,994 Updatedresume.pdf\n",
      "31-03-2023  22:43           414,011 Updatedresume31.pdf\n",
      "08-01-2023  13:05            76,015 vancouver-style-guide.pdf\n",
      "04-03-2023  14:06        87,996,385 video1452294375.mp4\n",
      "20-05-2023  15:19         9,487,893 visualization_20_05_2023.zip\n",
      "19-05-2023  23:26    <DIR>          visualization-20230519T175447Z-001\n",
      "19-05-2023  23:24         2,680,457 visualization-20230519T175447Z-001.zip\n",
      "01-05-2023  15:41         8,602,951 Visuals.pbix\n",
      "01-05-2023  11:51           536,533 Visuals.pdf\n",
      "01-05-2023  11:51         3,054,791 Visuals.pptx\n",
      "24-08-2023  22:46        93,351,472 VSCodeUserSetup-x64-1.81.1 (1).exe\n",
      "14-08-2023  01:21        93,351,472 VSCodeUserSetup-x64-1.81.1.exe\n",
      "24-08-2023  22:49        93,974,920 VSCodeUserSetup-x64-1.82.0-insider.exe\n",
      "08-12-2023  22:06        94,757,840 VSCodeUserSetup-x64-1.85.0.exe\n",
      "09-05-2023  13:28           977,501 WA_Fn-UseC_-Telco-Customer-Churn (1).csv\n",
      "31-03-2023  17:06           977,501 WA_Fn-UseC_-Telco-Customer-Churn.csv\n",
      "04-06-2023  16:46    <DIR>          waferFaultDetection-20230604T083021Z-001\n",
      "04-06-2023  16:46       322,209,256 waferFaultDetection-20230604T083021Z-001.zip\n",
      "11-10-2022  23:34         3,151,765 Weekly Beepedia 1st-8th October 2022.pdf\n",
      "10-02-2024  00:50            74,777 What+is+a+REST+API.pdf\n",
      "03-09-2022  19:18           133,642 WhatsApp Image 2022-09-03 at 7.18.32 PM.jpeg\n",
      "12-12-2022  13:17            10,782 wine.data\n",
      "12-12-2022  13:17             3,036 wine.names\n",
      "16-07-2023  14:36         4,080,433 wine_classification.pdf\n",
      "30-12-2022  18:10         3,473,784 winrar-x64-611.exe\n",
      "10-03-2023  18:51           207,176 world-political-map-2020.jpg\n",
      "14-10-2022  00:12            45,749 XGboost_model.pickle\n",
      "05-06-2023  10:24           624,647 Youtube End to End Project Material-20230605T045355Z-001.zip\n",
      "10-12-2023  19:28            67,646 youtube_logo_icon_259362.ico\n",
      "18-03-2023  10:45       264,758,791 zoom (1).apk\n",
      "16-02-2023  13:08       261,370,621 zoom.apk\n",
      "             785 File(s) 27,414,541,140 bytes\n",
      "             160 Dir(s)  648,166,465,536 bytes free\n"
     ]
    }
   ],
   "source": [
    "ls"
   ]
  },
  {
   "cell_type": "code",
   "execution_count": 42,
   "id": "1ad0b213",
   "metadata": {},
   "outputs": [
    {
     "data": {
      "text/html": [
       "<div>\n",
       "<style scoped>\n",
       "    .dataframe tbody tr th:only-of-type {\n",
       "        vertical-align: middle;\n",
       "    }\n",
       "\n",
       "    .dataframe tbody tr th {\n",
       "        vertical-align: top;\n",
       "    }\n",
       "\n",
       "    .dataframe thead th {\n",
       "        text-align: right;\n",
       "    }\n",
       "</style>\n",
       "<table border=\"1\" class=\"dataframe\">\n",
       "  <thead>\n",
       "    <tr style=\"text-align: right;\">\n",
       "      <th></th>\n",
       "      <th>sepal_length</th>\n",
       "      <th>sepal_width</th>\n",
       "      <th>petal_length</th>\n",
       "      <th>petal_width</th>\n",
       "      <th>species</th>\n",
       "    </tr>\n",
       "  </thead>\n",
       "  <tbody>\n",
       "    <tr>\n",
       "      <th>0</th>\n",
       "      <td>5.1</td>\n",
       "      <td>3.5</td>\n",
       "      <td>1.4</td>\n",
       "      <td>0.2</td>\n",
       "      <td>setosa</td>\n",
       "    </tr>\n",
       "    <tr>\n",
       "      <th>1</th>\n",
       "      <td>4.9</td>\n",
       "      <td>3.0</td>\n",
       "      <td>1.4</td>\n",
       "      <td>0.2</td>\n",
       "      <td>setosa</td>\n",
       "    </tr>\n",
       "    <tr>\n",
       "      <th>2</th>\n",
       "      <td>4.7</td>\n",
       "      <td>3.2</td>\n",
       "      <td>1.3</td>\n",
       "      <td>0.2</td>\n",
       "      <td>setosa</td>\n",
       "    </tr>\n",
       "    <tr>\n",
       "      <th>3</th>\n",
       "      <td>4.6</td>\n",
       "      <td>3.1</td>\n",
       "      <td>1.5</td>\n",
       "      <td>0.2</td>\n",
       "      <td>setosa</td>\n",
       "    </tr>\n",
       "    <tr>\n",
       "      <th>4</th>\n",
       "      <td>5.0</td>\n",
       "      <td>3.6</td>\n",
       "      <td>1.4</td>\n",
       "      <td>0.2</td>\n",
       "      <td>setosa</td>\n",
       "    </tr>\n",
       "    <tr>\n",
       "      <th>...</th>\n",
       "      <td>...</td>\n",
       "      <td>...</td>\n",
       "      <td>...</td>\n",
       "      <td>...</td>\n",
       "      <td>...</td>\n",
       "    </tr>\n",
       "    <tr>\n",
       "      <th>145</th>\n",
       "      <td>6.7</td>\n",
       "      <td>3.0</td>\n",
       "      <td>5.2</td>\n",
       "      <td>2.3</td>\n",
       "      <td>virginica</td>\n",
       "    </tr>\n",
       "    <tr>\n",
       "      <th>146</th>\n",
       "      <td>6.3</td>\n",
       "      <td>2.5</td>\n",
       "      <td>5.0</td>\n",
       "      <td>1.9</td>\n",
       "      <td>virginica</td>\n",
       "    </tr>\n",
       "    <tr>\n",
       "      <th>147</th>\n",
       "      <td>6.5</td>\n",
       "      <td>3.0</td>\n",
       "      <td>5.2</td>\n",
       "      <td>2.0</td>\n",
       "      <td>virginica</td>\n",
       "    </tr>\n",
       "    <tr>\n",
       "      <th>148</th>\n",
       "      <td>6.2</td>\n",
       "      <td>3.4</td>\n",
       "      <td>5.4</td>\n",
       "      <td>2.3</td>\n",
       "      <td>virginica</td>\n",
       "    </tr>\n",
       "    <tr>\n",
       "      <th>149</th>\n",
       "      <td>5.9</td>\n",
       "      <td>3.0</td>\n",
       "      <td>5.1</td>\n",
       "      <td>1.8</td>\n",
       "      <td>virginica</td>\n",
       "    </tr>\n",
       "  </tbody>\n",
       "</table>\n",
       "<p>150 rows × 5 columns</p>\n",
       "</div>"
      ],
      "text/plain": [
       "     sepal_length  sepal_width  petal_length  petal_width    species\n",
       "0             5.1          3.5           1.4          0.2     setosa\n",
       "1             4.9          3.0           1.4          0.2     setosa\n",
       "2             4.7          3.2           1.3          0.2     setosa\n",
       "3             4.6          3.1           1.5          0.2     setosa\n",
       "4             5.0          3.6           1.4          0.2     setosa\n",
       "..            ...          ...           ...          ...        ...\n",
       "145           6.7          3.0           5.2          2.3  virginica\n",
       "146           6.3          2.5           5.0          1.9  virginica\n",
       "147           6.5          3.0           5.2          2.0  virginica\n",
       "148           6.2          3.4           5.4          2.3  virginica\n",
       "149           5.9          3.0           5.1          1.8  virginica\n",
       "\n",
       "[150 rows x 5 columns]"
      ]
     },
     "execution_count": 42,
     "metadata": {},
     "output_type": "execute_result"
    }
   ],
   "source": [
    "df"
   ]
  },
  {
   "cell_type": "code",
   "execution_count": 44,
   "id": "23b9f1f8",
   "metadata": {},
   "outputs": [
    {
     "data": {
      "text/html": [
       "<div>\n",
       "<style scoped>\n",
       "    .dataframe tbody tr th:only-of-type {\n",
       "        vertical-align: middle;\n",
       "    }\n",
       "\n",
       "    .dataframe tbody tr th {\n",
       "        vertical-align: top;\n",
       "    }\n",
       "\n",
       "    .dataframe thead th {\n",
       "        text-align: right;\n",
       "    }\n",
       "</style>\n",
       "<table border=\"1\" class=\"dataframe\">\n",
       "  <thead>\n",
       "    <tr style=\"text-align: right;\">\n",
       "      <th></th>\n",
       "      <th>sepal_length</th>\n",
       "      <th>sepal_width</th>\n",
       "      <th>petal_length</th>\n",
       "      <th>petal_width</th>\n",
       "      <th>species</th>\n",
       "    </tr>\n",
       "  </thead>\n",
       "  <tbody>\n",
       "    <tr>\n",
       "      <th>0</th>\n",
       "      <td>5.1</td>\n",
       "      <td>3.5</td>\n",
       "      <td>1.4</td>\n",
       "      <td>0.2</td>\n",
       "      <td>setosa</td>\n",
       "    </tr>\n",
       "    <tr>\n",
       "      <th>1</th>\n",
       "      <td>4.9</td>\n",
       "      <td>3.0</td>\n",
       "      <td>1.4</td>\n",
       "      <td>0.2</td>\n",
       "      <td>setosa</td>\n",
       "    </tr>\n",
       "    <tr>\n",
       "      <th>2</th>\n",
       "      <td>4.7</td>\n",
       "      <td>3.2</td>\n",
       "      <td>1.3</td>\n",
       "      <td>0.2</td>\n",
       "      <td>setosa</td>\n",
       "    </tr>\n",
       "    <tr>\n",
       "      <th>3</th>\n",
       "      <td>4.6</td>\n",
       "      <td>3.1</td>\n",
       "      <td>1.5</td>\n",
       "      <td>0.2</td>\n",
       "      <td>setosa</td>\n",
       "    </tr>\n",
       "    <tr>\n",
       "      <th>4</th>\n",
       "      <td>5.0</td>\n",
       "      <td>3.6</td>\n",
       "      <td>1.4</td>\n",
       "      <td>0.2</td>\n",
       "      <td>setosa</td>\n",
       "    </tr>\n",
       "    <tr>\n",
       "      <th>...</th>\n",
       "      <td>...</td>\n",
       "      <td>...</td>\n",
       "      <td>...</td>\n",
       "      <td>...</td>\n",
       "      <td>...</td>\n",
       "    </tr>\n",
       "    <tr>\n",
       "      <th>5</th>\n",
       "      <td>6.0</td>\n",
       "      <td>2.0</td>\n",
       "      <td>1.0</td>\n",
       "      <td>3.0</td>\n",
       "      <td>new-species</td>\n",
       "    </tr>\n",
       "    <tr>\n",
       "      <th>6</th>\n",
       "      <td>6.0</td>\n",
       "      <td>5.0</td>\n",
       "      <td>4.0</td>\n",
       "      <td>6.0</td>\n",
       "      <td>new-species</td>\n",
       "    </tr>\n",
       "    <tr>\n",
       "      <th>7</th>\n",
       "      <td>1.0</td>\n",
       "      <td>6.0</td>\n",
       "      <td>0.0</td>\n",
       "      <td>1.0</td>\n",
       "      <td>new-species</td>\n",
       "    </tr>\n",
       "    <tr>\n",
       "      <th>8</th>\n",
       "      <td>0.0</td>\n",
       "      <td>0.0</td>\n",
       "      <td>3.0</td>\n",
       "      <td>2.0</td>\n",
       "      <td>new-species</td>\n",
       "    </tr>\n",
       "    <tr>\n",
       "      <th>9</th>\n",
       "      <td>0.0</td>\n",
       "      <td>2.0</td>\n",
       "      <td>3.0</td>\n",
       "      <td>1.0</td>\n",
       "      <td>new-species</td>\n",
       "    </tr>\n",
       "  </tbody>\n",
       "</table>\n",
       "<p>160 rows × 5 columns</p>\n",
       "</div>"
      ],
      "text/plain": [
       "    sepal_length  sepal_width  petal_length  petal_width      species\n",
       "0            5.1          3.5           1.4          0.2       setosa\n",
       "1            4.9          3.0           1.4          0.2       setosa\n",
       "2            4.7          3.2           1.3          0.2       setosa\n",
       "3            4.6          3.1           1.5          0.2       setosa\n",
       "4            5.0          3.6           1.4          0.2       setosa\n",
       "..           ...          ...           ...          ...          ...\n",
       "5            6.0          2.0           1.0          3.0  new-species\n",
       "6            6.0          5.0           4.0          6.0  new-species\n",
       "7            1.0          6.0           0.0          1.0  new-species\n",
       "8            0.0          0.0           3.0          2.0  new-species\n",
       "9            0.0          2.0           3.0          1.0  new-species\n",
       "\n",
       "[160 rows x 5 columns]"
      ]
     },
     "execution_count": 44,
     "metadata": {},
     "output_type": "execute_result"
    }
   ],
   "source": [
    "df5"
   ]
  },
  {
   "cell_type": "code",
   "execution_count": 47,
   "id": "831f8975",
   "metadata": {},
   "outputs": [
    {
     "data": {
      "text/plain": [
       "750"
      ]
     },
     "execution_count": 47,
     "metadata": {},
     "output_type": "execute_result"
    }
   ],
   "source": [
    "df.size"
   ]
  },
  {
   "cell_type": "code",
   "execution_count": 46,
   "id": "d317df29",
   "metadata": {},
   "outputs": [
    {
     "data": {
      "text/plain": [
       "800"
      ]
     },
     "execution_count": 46,
     "metadata": {},
     "output_type": "execute_result"
    }
   ],
   "source": [
    "df5.size"
   ]
  },
  {
   "cell_type": "code",
   "execution_count": 49,
   "id": "ff871656",
   "metadata": {},
   "outputs": [
    {
     "data": {
      "text/plain": [
       "sepal_length    0\n",
       "sepal_width     0\n",
       "petal_length    0\n",
       "petal_width     0\n",
       "species         0\n",
       "dtype: int64"
      ]
     },
     "execution_count": 49,
     "metadata": {},
     "output_type": "execute_result"
    }
   ],
   "source": [
    "df5.isnull().sum()"
   ]
  },
  {
   "cell_type": "code",
   "execution_count": 50,
   "id": "cdc5568b",
   "metadata": {},
   "outputs": [
    {
     "data": {
      "text/html": [
       "<div>\n",
       "<style scoped>\n",
       "    .dataframe tbody tr th:only-of-type {\n",
       "        vertical-align: middle;\n",
       "    }\n",
       "\n",
       "    .dataframe tbody tr th {\n",
       "        vertical-align: top;\n",
       "    }\n",
       "\n",
       "    .dataframe thead th {\n",
       "        text-align: right;\n",
       "    }\n",
       "</style>\n",
       "<table border=\"1\" class=\"dataframe\">\n",
       "  <thead>\n",
       "    <tr style=\"text-align: right;\">\n",
       "      <th></th>\n",
       "      <th>sepal_length</th>\n",
       "      <th>sepal_width</th>\n",
       "      <th>petal_length</th>\n",
       "      <th>petal_width</th>\n",
       "      <th>species</th>\n",
       "    </tr>\n",
       "  </thead>\n",
       "  <tbody>\n",
       "    <tr>\n",
       "      <th>0</th>\n",
       "      <td>5.1</td>\n",
       "      <td>3.5</td>\n",
       "      <td>1.4</td>\n",
       "      <td>0.2</td>\n",
       "      <td>setosa</td>\n",
       "    </tr>\n",
       "    <tr>\n",
       "      <th>1</th>\n",
       "      <td>4.9</td>\n",
       "      <td>3.0</td>\n",
       "      <td>1.4</td>\n",
       "      <td>0.2</td>\n",
       "      <td>setosa</td>\n",
       "    </tr>\n",
       "    <tr>\n",
       "      <th>2</th>\n",
       "      <td>4.7</td>\n",
       "      <td>3.2</td>\n",
       "      <td>1.3</td>\n",
       "      <td>0.2</td>\n",
       "      <td>setosa</td>\n",
       "    </tr>\n",
       "    <tr>\n",
       "      <th>3</th>\n",
       "      <td>4.6</td>\n",
       "      <td>3.1</td>\n",
       "      <td>1.5</td>\n",
       "      <td>0.2</td>\n",
       "      <td>setosa</td>\n",
       "    </tr>\n",
       "    <tr>\n",
       "      <th>4</th>\n",
       "      <td>5.0</td>\n",
       "      <td>3.6</td>\n",
       "      <td>1.4</td>\n",
       "      <td>0.2</td>\n",
       "      <td>setosa</td>\n",
       "    </tr>\n",
       "    <tr>\n",
       "      <th>...</th>\n",
       "      <td>...</td>\n",
       "      <td>...</td>\n",
       "      <td>...</td>\n",
       "      <td>...</td>\n",
       "      <td>...</td>\n",
       "    </tr>\n",
       "    <tr>\n",
       "      <th>5</th>\n",
       "      <td>6.0</td>\n",
       "      <td>2.0</td>\n",
       "      <td>1.0</td>\n",
       "      <td>3.0</td>\n",
       "      <td>new-species</td>\n",
       "    </tr>\n",
       "    <tr>\n",
       "      <th>6</th>\n",
       "      <td>6.0</td>\n",
       "      <td>5.0</td>\n",
       "      <td>4.0</td>\n",
       "      <td>6.0</td>\n",
       "      <td>new-species</td>\n",
       "    </tr>\n",
       "    <tr>\n",
       "      <th>7</th>\n",
       "      <td>1.0</td>\n",
       "      <td>6.0</td>\n",
       "      <td>0.0</td>\n",
       "      <td>1.0</td>\n",
       "      <td>new-species</td>\n",
       "    </tr>\n",
       "    <tr>\n",
       "      <th>8</th>\n",
       "      <td>0.0</td>\n",
       "      <td>0.0</td>\n",
       "      <td>3.0</td>\n",
       "      <td>2.0</td>\n",
       "      <td>new-species</td>\n",
       "    </tr>\n",
       "    <tr>\n",
       "      <th>9</th>\n",
       "      <td>0.0</td>\n",
       "      <td>2.0</td>\n",
       "      <td>3.0</td>\n",
       "      <td>1.0</td>\n",
       "      <td>new-species</td>\n",
       "    </tr>\n",
       "  </tbody>\n",
       "</table>\n",
       "<p>160 rows × 5 columns</p>\n",
       "</div>"
      ],
      "text/plain": [
       "    sepal_length  sepal_width  petal_length  petal_width      species\n",
       "0            5.1          3.5           1.4          0.2       setosa\n",
       "1            4.9          3.0           1.4          0.2       setosa\n",
       "2            4.7          3.2           1.3          0.2       setosa\n",
       "3            4.6          3.1           1.5          0.2       setosa\n",
       "4            5.0          3.6           1.4          0.2       setosa\n",
       "..           ...          ...           ...          ...          ...\n",
       "5            6.0          2.0           1.0          3.0  new-species\n",
       "6            6.0          5.0           4.0          6.0  new-species\n",
       "7            1.0          6.0           0.0          1.0  new-species\n",
       "8            0.0          0.0           3.0          2.0  new-species\n",
       "9            0.0          2.0           3.0          1.0  new-species\n",
       "\n",
       "[160 rows x 5 columns]"
      ]
     },
     "execution_count": 50,
     "metadata": {},
     "output_type": "execute_result"
    }
   ],
   "source": [
    "df5"
   ]
  },
  {
   "cell_type": "code",
   "execution_count": 53,
   "id": "6f229db5",
   "metadata": {},
   "outputs": [],
   "source": [
    "df5.to_csv('revision_n_p.csv', index=False)"
   ]
  },
  {
   "cell_type": "code",
   "execution_count": 55,
   "id": "d711b730",
   "metadata": {},
   "outputs": [
    {
     "name": "stderr",
     "output_type": "stream",
     "text": [
      "<ipython-input-55-3f8002ffba45>:1: UserWarning: Pandas requires version '1.4.3' or newer of 'xlsxwriter' (version '1.3.8' currently installed).\n",
      "  df5.to_excel('excelfile.xlsx', index=False, sheet_name = \"sales1220\")\n"
     ]
    }
   ],
   "source": [
    "df5.to_excel('excelfile.xlsx', index=False, sheet_name = \"sales1220\")"
   ]
  },
  {
   "cell_type": "code",
   "execution_count": null,
   "id": "acf4517f",
   "metadata": {},
   "outputs": [],
   "source": []
  }
 ],
 "metadata": {
  "kernelspec": {
   "display_name": "Python 3",
   "language": "python",
   "name": "python3"
  },
  "language_info": {
   "codemirror_mode": {
    "name": "ipython",
    "version": 3
   },
   "file_extension": ".py",
   "mimetype": "text/x-python",
   "name": "python",
   "nbconvert_exporter": "python",
   "pygments_lexer": "ipython3",
   "version": "3.8.8"
  }
 },
 "nbformat": 4,
 "nbformat_minor": 5
}
